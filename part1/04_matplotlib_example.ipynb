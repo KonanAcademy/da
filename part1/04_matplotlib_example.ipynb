{
 "metadata": {
  "name": "",
  "signature": "sha256:0a4b452b47ab327dc7e1f93ed7159b5d64a9145a6a155089921764000a9f67de"
 },
 "nbformat": 3,
 "nbformat_minor": 0,
 "worksheets": [
  {
   "cells": [
    {
     "cell_type": "heading",
     "level": 1,
     "metadata": {},
     "source": [
      "04_1. \ud30c\uc774\uc36c \ub370\uc774\ud130 \uc2dc\uac01\ud654 \uc608\uc81c (matplotlib)"
     ]
    },
    {
     "cell_type": "markdown",
     "metadata": {},
     "source": [
      "* \ucf54\ub09c\uc544\uce74\ub370\ubbf8 : \ub370\uc774\ud130\ubd84\uc11d \uae30\ucd08\n",
      "* \ubc1c\ud45c\uc790 : \uae40\ubb34\uc131    "
     ]
    },
    {
     "cell_type": "markdown",
     "metadata": {},
     "source": [
      "## \ubaa9\ud45c \n",
      "\n",
      "* \ub370\uc774\ud130\uc5d0\uc11c \uc774\uc0c1\uce58(outlier) \uc81c\uac70\ud558\uace0 \uc2dc\uac01\ud654 \ud558\uae30"
     ]
    },
    {
     "cell_type": "heading",
     "level": 3,
     "metadata": {},
     "source": [
      "Cleaning up data from outliers"
     ]
    },
    {
     "cell_type": "heading",
     "level": 4,
     "metadata": {},
     "source": [
      "Median absolute deviation (MAD)\n"
     ]
    },
    {
     "cell_type": "code",
     "collapsed": false,
     "input": [
      "import numpy as np\n",
      "import matplotlib.pyplot as plt\n",
      "\n",
      "def is_outlier(points, threshold=3.5):\n",
      "    \"\"\"\n",
      "    Returns a boolean array with True if points are outliers and\n",
      "    False\n",
      "    otherwise.\n",
      "    Data points with a modified z-score greater than this\n",
      "    # value will be classified as outliers.\n",
      "    \"\"\"\n",
      "    # transform into vector\n",
      "    if len(points.shape) == 1:\n",
      "        points = points[:,None]\n",
      "    \n",
      "    # compute median value\n",
      "    median = np.median(points, axis=0)\n",
      "    \n",
      "    # compute diff sums along the axis\n",
      "    diff = np.sum((points - median)**2, axis=-1)\n",
      "    diff = np.sqrt(diff)\n",
      "\n",
      "    # compute MAD\n",
      "    med_abs_deviation = np.median(diff)\n",
      "\n",
      "    # compute modified Z-score\n",
      "    # http://www.itl.nist.gov/div898/handbook/eda/section4/eda43.htm#Iglewicz\n",
      "    modified_z_score = 0.6745 * diff / med_abs_deviation\n",
      "    # return a mask for each outlier\n",
      "    return modified_z_score > threshold"
     ],
     "language": "python",
     "metadata": {},
     "outputs": [],
     "prompt_number": 1
    },
    {
     "cell_type": "code",
     "collapsed": false,
     "input": [
      "# Random data\n",
      "x = np.random.random(100)"
     ],
     "language": "python",
     "metadata": {},
     "outputs": [],
     "prompt_number": 2
    },
    {
     "cell_type": "code",
     "collapsed": false,
     "input": [
      "# histogram buckets\n",
      "buckets = 50"
     ],
     "language": "python",
     "metadata": {},
     "outputs": [],
     "prompt_number": 3
    },
    {
     "cell_type": "code",
     "collapsed": false,
     "input": [
      "# Add in a few outliers\n",
      "x = np.r_[x, -49, 95, 100, -100]"
     ],
     "language": "python",
     "metadata": {},
     "outputs": [],
     "prompt_number": 4
    },
    {
     "cell_type": "code",
     "collapsed": false,
     "input": [
      "# Keep valid data points\n",
      "# Note here that\n",
      "# \"~\" is logical NOT on boolean numpy arrays\n",
      "filtered = x[~is_outlier(x)]"
     ],
     "language": "python",
     "metadata": {},
     "outputs": [],
     "prompt_number": 5
    },
    {
     "cell_type": "code",
     "collapsed": false,
     "input": [
      "# plot histograms\n",
      "plt.figure()\n",
      "\n",
      "plt.subplot(211)\n",
      "plt.hist(x, buckets)\n",
      "plt.xlabel('Raw')"
     ],
     "language": "python",
     "metadata": {},
     "outputs": [
      {
       "metadata": {},
       "output_type": "pyout",
       "prompt_number": 6,
       "text": [
        "<matplotlib.text.Text at 0x2a2c5d0>"
       ]
      },
      {
       "metadata": {},
       "output_type": "display_data",
       "png": "[encoded data removed]",
       "text": [
        "<matplotlib.figure.Figure at 0x29fe1d0>"
       ]
      }
     ],
     "prompt_number": 6
    },
    {
     "cell_type": "code",
     "collapsed": false,
     "input": [
      "plt.subplot(212)\n",
      "plt.hist(filtered, buckets)\n",
      "plt.xlabel('Cleaned')\n",
      "\n",
      "plt.show()"
     ],
     "language": "python",
     "metadata": {},
     "outputs": [
      {
       "metadata": {},
       "output_type": "display_data",
       "png": "[encoded data removed]",
       "text": [
        "<matplotlib.figure.Figure at 0x29fe050>"
       ]
      }
     ],
     "prompt_number": 7
    },
    {
     "cell_type": "markdown",
     "metadata": {},
     "source": [
      "## \ucc38\uace0\uc790\ub8cc \n",
      "\n",
      " * [1] Python Data Visualization Cookbook - https://www.packtpub.com/big-data-and-business-intelligence/python-data-visualization-cookbook"
     ]
    }
   ],
   "metadata": {}
  }
 ]
}