{
 "cells": [
  {
   "cell_type": "code",
   "execution_count": 1,
   "metadata": {
    "collapsed": true
   },
   "outputs": [],
   "source": [
    "# 추천자료 \n",
    "# - https://www.youtube.com/watch?v=SMpPaSpCaAo\n",
    "# - http://www.deeplearning.net/tutorial/index.html\n",
    "# - git clone https://github.com/lisa-lab/DeepLearningTutorials.git"
   ]
  },
  {
   "cell_type": "code",
   "execution_count": 2,
   "metadata": {
    "collapsed": true
   },
   "outputs": [],
   "source": [
    "# 실전 Theano"
   ]
  },
  {
   "cell_type": "code",
   "execution_count": 3,
   "metadata": {
    "collapsed": false
   },
   "outputs": [],
   "source": [
    "%matplotlib inline\n",
    "\n",
    "# pip install Theano\n",
    "\n",
    "import numpy as np\n",
    "import matplotlib.pyplot as plt\n",
    "import theano\n",
    "import theano.tensor as T"
   ]
  },
  {
   "cell_type": "code",
   "execution_count": 4,
   "metadata": {
    "collapsed": true
   },
   "outputs": [],
   "source": [
    "# Let's Do Some Hasking First\n",
    "# 1. Symbolic Variables\n",
    "# No particular value for x, y, z\n",
    "# Representing relationship between numbers\n",
    "x = T.scalar()\n",
    "y = T.scalar()\n",
    "z = x + y"
   ]
  },
  {
   "cell_type": "code",
   "execution_count": 5,
   "metadata": {
    "collapsed": false
   },
   "outputs": [],
   "source": [
    "# \"compiles\" a function ftnSum(Resuable!)\n",
    "# 실제 실행하면 약간 멈칫한다. 즉 실제 C 컴파일이 일어난다.\n",
    "# 그리고 이제부터는 재사용가능해진다.\n",
    "# inputs의 인자는 리스트다. 심볼릭 variable 리스트를 받는다.\n",
    "# output 인자는 결과 심볼릭 variable\n",
    "# 자동으로 최적화 일어남(알아서 병렬처리 신경써준다)\n",
    "# GPU에서 할지, CPU 여러개 병렬로 할지는 \n",
    "# theano 실행하기 전에 - 외부에서 커맨드라인으로 theano의 설정으로 \n",
    "# 환경설정을 해주면 된다.\n",
    "# 그럼 알아서 해준다.\n",
    "ftnSum = theano.function(inputs=[x, y], outputs=z)"
   ]
  },
  {
   "cell_type": "code",
   "execution_count": 6,
   "metadata": {
    "collapsed": false
   },
   "outputs": [
    {
     "name": "stdout",
     "output_type": "stream",
     "text": [
      "7.0\n"
     ]
    }
   ],
   "source": [
    "print(ftnSum(3,4)) "
   ]
  },
  {
   "cell_type": "code",
   "execution_count": 7,
   "metadata": {
    "collapsed": true
   },
   "outputs": [],
   "source": [
    "# Data Types\n",
    "x = T.scalar() # Default\n",
    "x = T.iscalar() # int32\n",
    "x = T.lscalar() # int64\n",
    "x = T.dscalar() # float64"
   ]
  },
  {
   "cell_type": "code",
   "execution_count": 8,
   "metadata": {
    "collapsed": false
   },
   "outputs": [
    {
     "name": "stdout",
     "output_type": "stream",
     "text": [
      "float64\n"
     ]
    }
   ],
   "source": [
    "# default data type can be check by\n",
    "print(theano.config.floatX)"
   ]
  },
  {
   "cell_type": "code",
   "execution_count": 9,
   "metadata": {
    "collapsed": true
   },
   "outputs": [],
   "source": [
    "# A symbolic varible can have various dimensions\n",
    "x = T.scalar() # 0-D\n",
    "x = T.vector() # 1-D\n",
    "x = T.matrix() # 3-D\n",
    "x = T.tensor4() # 4-D"
   ]
  },
  {
   "cell_type": "code",
   "execution_count": 10,
   "metadata": {
    "collapsed": true
   },
   "outputs": [],
   "source": [
    "x = T.matrix()\n",
    "y = T.matrix()\n",
    "z = T.dot(x, y)"
   ]
  },
  {
   "cell_type": "code",
   "execution_count": 11,
   "metadata": {
    "collapsed": true
   },
   "outputs": [],
   "source": [
    "ftnSum_mat = theano.function([x, y], z)"
   ]
  },
  {
   "cell_type": "code",
   "execution_count": 12,
   "metadata": {
    "collapsed": false
   },
   "outputs": [
    {
     "ename": "TypeError",
     "evalue": "('Bad input argument to theano function at index 0(0-based)', 'Wrong number of dimensions: expected 2, got 0 with shape ().')",
     "output_type": "error",
     "traceback": [
      "\u001b[1;31m---------------------------------------------------------------------------\u001b[0m",
      "\u001b[1;31mTypeError\u001b[0m                                 Traceback (most recent call last)",
      "\u001b[1;32m<ipython-input-12-84142c35fd4a>\u001b[0m in \u001b[0;36m<module>\u001b[1;34m()\u001b[0m\n\u001b[1;32m----> 1\u001b[1;33m \u001b[1;32mprint\u001b[0m\u001b[1;33m(\u001b[0m\u001b[0mftnSum_mat\u001b[0m\u001b[1;33m(\u001b[0m\u001b[1;36m3\u001b[0m\u001b[1;33m,\u001b[0m\u001b[1;36m4\u001b[0m\u001b[1;33m)\u001b[0m\u001b[1;33m)\u001b[0m \u001b[1;31m# 입력값이 매트릭스가 아니다.\u001b[0m\u001b[1;33m\u001b[0m\u001b[0m\n\u001b[0m",
      "\u001b[1;32m/home/moosung/.venv/da/local/lib/python2.7/site-packages/theano/compile/function_module.pyc\u001b[0m in \u001b[0;36m__call__\u001b[1;34m(self, *args, **kwargs)\u001b[0m\n\u001b[0;32m    495\u001b[0m                     \u001b[1;32mtry\u001b[0m\u001b[1;33m:\u001b[0m\u001b[1;33m\u001b[0m\u001b[0m\n\u001b[0;32m    496\u001b[0m                         s.storage[0] = s.type.filter(arg, strict=s.strict,\n\u001b[1;32m--> 497\u001b[1;33m                                 allow_downcast=s.allow_downcast)\n\u001b[0m\u001b[0;32m    498\u001b[0m \u001b[1;33m\u001b[0m\u001b[0m\n\u001b[0;32m    499\u001b[0m                     \u001b[1;32mexcept\u001b[0m \u001b[0mException\u001b[0m\u001b[1;33m,\u001b[0m \u001b[0me\u001b[0m\u001b[1;33m:\u001b[0m\u001b[1;33m\u001b[0m\u001b[0m\n",
      "\u001b[1;32m/home/moosung/.venv/da/local/lib/python2.7/site-packages/theano/tensor/type.pyc\u001b[0m in \u001b[0;36mfilter\u001b[1;34m(self, data, strict, allow_downcast)\u001b[0m\n\u001b[0;32m    155\u001b[0m             raise TypeError(\"Wrong number of dimensions: expected %s,\"\n\u001b[0;32m    156\u001b[0m                             \" got %s with shape %s.\" % (self.ndim, data.ndim,\n\u001b[1;32m--> 157\u001b[1;33m                                                         data.shape))\n\u001b[0m\u001b[0;32m    158\u001b[0m         \u001b[1;32mif\u001b[0m \u001b[1;32mnot\u001b[0m \u001b[0mdata\u001b[0m\u001b[1;33m.\u001b[0m\u001b[0mflags\u001b[0m\u001b[1;33m.\u001b[0m\u001b[0maligned\u001b[0m\u001b[1;33m:\u001b[0m\u001b[1;33m\u001b[0m\u001b[0m\n\u001b[0;32m    159\u001b[0m             \u001b[1;32mtry\u001b[0m\u001b[1;33m:\u001b[0m\u001b[1;33m\u001b[0m\u001b[0m\n",
      "\u001b[1;31mTypeError\u001b[0m: ('Bad input argument to theano function at index 0(0-based)', 'Wrong number of dimensions: expected 2, got 0 with shape ().')"
     ]
    }
   ],
   "source": [
    "print(ftnSum_mat(3,4)) # 입력값이 매트릭스가 아니다."
   ]
  },
  {
   "cell_type": "code",
   "execution_count": 13,
   "metadata": {
    "collapsed": false
   },
   "outputs": [
    {
     "data": {
      "text/plain": [
       "array([[ 0.44044296,  0.60303309,  0.38584833],\n",
       "       [ 0.49866465,  0.70997668,  0.52595583],\n",
       "       [ 0.13384199,  0.69914047,  0.62473428]])"
      ]
     },
     "execution_count": 13,
     "metadata": {},
     "output_type": "execute_result"
    }
   ],
   "source": [
    "a = np.random.random((3,3))\n",
    "a"
   ]
  },
  {
   "cell_type": "code",
   "execution_count": 14,
   "metadata": {
    "collapsed": false
   },
   "outputs": [
    {
     "data": {
      "text/plain": [
       "array([[ 0.28225125,  0.20428376,  0.99418314],\n",
       "       [ 0.72860981,  0.59863586,  0.5276889 ],\n",
       "       [ 0.29856048,  0.55444276,  0.1331747 ]])"
      ]
     },
     "execution_count": 14,
     "metadata": {},
     "output_type": "execute_result"
    }
   ],
   "source": [
    "b = np.random.random((3,3))\n",
    "b"
   ]
  },
  {
   "cell_type": "code",
   "execution_count": 15,
   "metadata": {
    "collapsed": false
   },
   "outputs": [
    {
     "name": "stdout",
     "output_type": "stream",
     "text": [
      "[[ 0.67889047  0.66490338  0.80748007]\n",
      " [ 0.81507432  0.81849899  0.94045481]\n",
      " [ 0.73369864  0.79225169  0.58519092]]\n"
     ]
    }
   ],
   "source": [
    "print(ftnSum_mat(a,b))"
   ]
  },
  {
   "cell_type": "code",
   "execution_count": 16,
   "metadata": {
    "collapsed": false
   },
   "outputs": [
    {
     "name": "stdout",
     "output_type": "stream",
     "text": [
      "(array([[  6.84176443e-01,   7.05624803e-02,   8.41396742e-01],\n",
      "       [  9.00853917e-01,   9.51530784e-01,   9.21344149e-01],\n",
      "       [  3.53216237e-04,   4.61361717e-01,   4.60603229e-01]]), array([[ 0.92940705,  0.73033111,  0.03108234],\n",
      "       [ 0.43446638,  0.18009143,  0.05902178],\n",
      "       [ 0.23989826,  0.46565675,  0.69574988]]), array([[ 0.86838505,  0.90418511,  0.61083221],\n",
      "       [ 1.47169698,  1.2583143 ,  0.72518677],\n",
      "       [ 0.31127235,  0.29782826,  0.34770601]]))\n"
     ]
    }
   ],
   "source": [
    "# For GPU, Theano supports 32bit float ONLY!\n",
    "# Python automatically uses 64bit float\n",
    "# We need to cast it manually\n",
    "a = np.asarray(np.random.random((3,3)),\n",
    "               dtype=theano.config.floatX)\n",
    "b = np.asarray(np.random.random((3,3)),\n",
    "               dtype=theano.config.floatX)\n",
    "print(a, b, ftnSum_mat(a,b))"
   ]
  },
  {
   "cell_type": "code",
   "execution_count": 17,
   "metadata": {
    "collapsed": true
   },
   "outputs": [],
   "source": [
    "# 1. data types를 잘 파악하라(int, float ..)\n",
    "# 2. dimensions에 주의하라(scalar, vector, matrix)\n",
    "# 3. float32를 써라 "
   ]
  },
  {
   "cell_type": "code",
   "execution_count": 18,
   "metadata": {
    "collapsed": true
   },
   "outputs": [],
   "source": [
    "# Shared Variables\n",
    "\n",
    "# Python Variables : Have a specific value\n",
    "# Theano Symbolic Variables : Are empty slots for computation\n",
    "# Shared Variables : Are slots for computation\n",
    "#                    and have a specific value\n",
    "#                    Whose values are stored in GPU memory\n",
    "\n",
    "# Python Variables ------- Theano Symbolic Variables\n",
    "#                    | \n",
    "#                    V\n",
    "#           Shared Variables"
   ]
  },
  {
   "cell_type": "code",
   "execution_count": 19,
   "metadata": {
    "collapsed": true
   },
   "outputs": [],
   "source": [
    "# You can easily create shared variables\n",
    "a = np.array([[1,2],[3,4]], dtype=theano.config.floatX)\n",
    "x = theano.shared(a)\n",
    "\n",
    "# (It seems) data is sent to GPU memory at th moment "
   ]
  },
  {
   "cell_type": "code",
   "execution_count": 20,
   "metadata": {
    "collapsed": false
   },
   "outputs": [
    {
     "name": "stdout",
     "output_type": "stream",
     "text": [
      "[[ 1.  2.]\n",
      " [ 3.  4.]]\n",
      "[[ 2.  3.]\n",
      " [ 4.  5.]]\n"
     ]
    }
   ],
   "source": [
    "# Retrieve or update its stored values\n",
    "print(x.get_value())\n",
    "x.set_value(x.get_value()+1)\n",
    "print(x.get_value())"
   ]
  },
  {
   "cell_type": "code",
   "execution_count": 21,
   "metadata": {
    "collapsed": true
   },
   "outputs": [],
   "source": [
    "# Shared Variales - Complicatios\n",
    "\n",
    "# 1. \"Borrowing\" : Making a soft copy\n",
    "a = np.array([[1,2],[3,4]], dtype=theano.config.floatX)\n",
    "x_1 = theano.shared(a)  # default : False\n",
    "x_2 = theano.shared(a, borrow=True)\n",
    "\n",
    "# \"borrow=True\" is generally recommended\n",
    "# - Memory saving(not GPU's, unfortunately)\n",
    "# - Faster code\n",
    "\n",
    "# Keep that it is a soft copy\n",
    "# - Change a, change x_2"
   ]
  },
  {
   "cell_type": "code",
   "execution_count": 22,
   "metadata": {
    "collapsed": false
   },
   "outputs": [
    {
     "ename": "TypeError",
     "evalue": "Cannot use a shared variable (<TensorType(float64, matrix)>) as explicit input. Consider substituting a non-shared variable via the `givens` parameter",
     "output_type": "error",
     "traceback": [
      "\u001b[1;31m---------------------------------------------------------------------------\u001b[0m",
      "\u001b[1;31mTypeError\u001b[0m                                 Traceback (most recent call last)",
      "\u001b[1;32m<ipython-input-22-804157f2460d>\u001b[0m in \u001b[0;36m<module>\u001b[1;34m()\u001b[0m\n\u001b[0;32m      4\u001b[0m \u001b[0mx\u001b[0m \u001b[1;33m=\u001b[0m \u001b[0mtheano\u001b[0m\u001b[1;33m.\u001b[0m\u001b[0mshared\u001b[0m\u001b[1;33m(\u001b[0m\u001b[0ma\u001b[0m\u001b[1;33m)\u001b[0m\u001b[1;33m\u001b[0m\u001b[0m\n\u001b[0;32m      5\u001b[0m \u001b[0my\u001b[0m \u001b[1;33m=\u001b[0m \u001b[0mx\u001b[0m \u001b[1;33m**\u001b[0m \u001b[1;36m2\u001b[0m\u001b[1;33m\u001b[0m\u001b[0m\n\u001b[1;32m----> 6\u001b[1;33m \u001b[0mftnShared\u001b[0m \u001b[1;33m=\u001b[0m \u001b[0mtheano\u001b[0m\u001b[1;33m.\u001b[0m\u001b[0mfunction\u001b[0m\u001b[1;33m(\u001b[0m\u001b[1;33m[\u001b[0m\u001b[0mx\u001b[0m\u001b[1;33m]\u001b[0m\u001b[1;33m,\u001b[0m \u001b[0my\u001b[0m\u001b[1;33m)\u001b[0m\u001b[1;33m\u001b[0m\u001b[0m\n\u001b[0m",
      "\u001b[1;32m/home/moosung/.venv/da/local/lib/python2.7/site-packages/theano/compile/function.pyc\u001b[0m in \u001b[0;36mfunction\u001b[1;34m(inputs, outputs, mode, updates, givens, no_default_updates, accept_inplace, name, rebuild_strict, allow_input_downcast, profile, on_unused_input)\u001b[0m\n\u001b[0;32m    221\u001b[0m                 \u001b[0mallow_input_downcast\u001b[0m\u001b[1;33m=\u001b[0m\u001b[0mallow_input_downcast\u001b[0m\u001b[1;33m,\u001b[0m\u001b[1;33m\u001b[0m\u001b[0m\n\u001b[0;32m    222\u001b[0m                 \u001b[0mon_unused_input\u001b[0m\u001b[1;33m=\u001b[0m\u001b[0mon_unused_input\u001b[0m\u001b[1;33m,\u001b[0m\u001b[1;33m\u001b[0m\u001b[0m\n\u001b[1;32m--> 223\u001b[1;33m                 profile=profile)\n\u001b[0m\u001b[0;32m    224\u001b[0m     \u001b[1;31m# We need to add the flag check_aliased inputs if we have any mutable or\u001b[0m\u001b[1;33m\u001b[0m\u001b[1;33m\u001b[0m\u001b[0m\n\u001b[0;32m    225\u001b[0m     \u001b[1;31m# borrowed used defined inputs\u001b[0m\u001b[1;33m\u001b[0m\u001b[1;33m\u001b[0m\u001b[0m\n",
      "\u001b[1;32m/home/moosung/.venv/da/local/lib/python2.7/site-packages/theano/compile/pfunc.pyc\u001b[0m in \u001b[0;36mpfunc\u001b[1;34m(params, outputs, mode, updates, givens, no_default_updates, accept_inplace, name, rebuild_strict, allow_input_downcast, profile, on_unused_input)\u001b[0m\n\u001b[0;32m    488\u001b[0m                                          \u001b[0mrebuild_strict\u001b[0m\u001b[1;33m=\u001b[0m\u001b[0mrebuild_strict\u001b[0m\u001b[1;33m,\u001b[0m\u001b[1;33m\u001b[0m\u001b[0m\n\u001b[0;32m    489\u001b[0m                                          \u001b[0mcopy_inputs_over\u001b[0m\u001b[1;33m=\u001b[0m\u001b[0mTrue\u001b[0m\u001b[1;33m,\u001b[0m\u001b[1;33m\u001b[0m\u001b[0m\n\u001b[1;32m--> 490\u001b[1;33m                                          no_default_updates=no_default_updates)\n\u001b[0m\u001b[0;32m    491\u001b[0m     \u001b[1;31m# extracting the arguments\u001b[0m\u001b[1;33m\u001b[0m\u001b[1;33m\u001b[0m\u001b[0m\n\u001b[0;32m    492\u001b[0m     \u001b[0minput_variables\u001b[0m\u001b[1;33m,\u001b[0m \u001b[0mcloned_outputs\u001b[0m\u001b[1;33m,\u001b[0m \u001b[0mother_stuff\u001b[0m \u001b[1;33m=\u001b[0m \u001b[0moutput_vars\u001b[0m\u001b[1;33m\u001b[0m\u001b[0m\n",
      "\u001b[1;32m/home/moosung/.venv/da/local/lib/python2.7/site-packages/theano/compile/pfunc.pyc\u001b[0m in \u001b[0;36mrebuild_collect_shared\u001b[1;34m(outputs, inputs, replace, updates, rebuild_strict, copy_inputs_over, no_default_updates)\u001b[0m\n\u001b[0;32m    184\u001b[0m             raise TypeError(('Cannot use a shared variable (%s) as explicit '\n\u001b[0;32m    185\u001b[0m                              \u001b[1;34m'input. Consider substituting a non-shared'\u001b[0m\u001b[1;33m\u001b[0m\u001b[0m\n\u001b[1;32m--> 186\u001b[1;33m                              ' variable via the `givens` parameter') % v)\n\u001b[0m\u001b[0;32m    187\u001b[0m \u001b[1;33m\u001b[0m\u001b[0m\n\u001b[0;32m    188\u001b[0m     \u001b[1;31m# Fill update_d and update_expr with provided updates\u001b[0m\u001b[1;33m\u001b[0m\u001b[1;33m\u001b[0m\u001b[0m\n",
      "\u001b[1;31mTypeError\u001b[0m: Cannot use a shared variable (<TensorType(float64, matrix)>) as explicit input. Consider substituting a non-shared variable via the `givens` parameter"
     ]
    }
   ],
   "source": [
    "# 2. Shared variables can't be inputs or ouputs\n",
    "# They can only be the intermediates\n",
    "a = np.array([[1,2],[3,4]], dtype=theano.config.floatX)\n",
    "x = theano.shared(a)\n",
    "y = x ** 2\n",
    "ftnShared = theano.function([x], y)"
   ]
  },
  {
   "cell_type": "code",
   "execution_count": 23,
   "metadata": {
    "collapsed": true
   },
   "outputs": [],
   "source": [
    "# II. Basic Funtions\n",
    "\n",
    "# Theano provides predefined deep learning related functions !\n",
    "\n",
    "# Multi Layer Perceptron :\n",
    "# - T.nnet.sigmoid()\n",
    "# - T.nnet.categorical_crossentropy()\n",
    "# - T.nnet.softmax()\n",
    "\n",
    "# Convolutional Neural Net :\n",
    "# - T.nnet.conv.conv2d()\n",
    "# - T.signal.downsample.max_pool_2d()\n",
    "# - and a few more..complicated .."
   ]
  },
  {
   "cell_type": "code",
   "execution_count": 24,
   "metadata": {
    "collapsed": true
   },
   "outputs": [],
   "source": [
    "# III. Optimization"
   ]
  },
  {
   "cell_type": "code",
   "execution_count": 25,
   "metadata": {
    "collapsed": true
   },
   "outputs": [],
   "source": [
    "# Symbolic Differentiation\n",
    "# diff(x^2) => 2x\n",
    "\n",
    "x = T.scalar()\n",
    "y = x ** 2\n",
    "diff = theano.function([x], T.grad(y, [x]))\n",
    "\n",
    "# Function to differentiate (Objective function)\n",
    "# - Should be scalar\n",
    "# Differentiating variable\n",
    "# - Can be many\n",
    "# Outpug of T.grad() is a list"
   ]
  },
  {
   "cell_type": "code",
   "execution_count": 26,
   "metadata": {
    "collapsed": false
   },
   "outputs": [
    {
     "data": {
      "text/plain": [
       "[array(6.0)]"
      ]
     },
     "execution_count": 26,
     "metadata": {},
     "output_type": "execute_result"
    }
   ],
   "source": [
    "# Outpug of T.grad() is a list\n",
    "diff(3)"
   ]
  },
  {
   "cell_type": "code",
   "execution_count": 27,
   "metadata": {
    "collapsed": false
   },
   "outputs": [
    {
     "data": {
      "text/plain": [
       "array(6.0)"
      ]
     },
     "execution_count": 27,
     "metadata": {},
     "output_type": "execute_result"
    }
   ],
   "source": [
    "# 결과가 리스트로 나오는게 싫으면\n",
    "diff = theano.function([x], T.grad(y, [x])[0])\n",
    "diff(3)"
   ]
  },
  {
   "cell_type": "code",
   "execution_count": 28,
   "metadata": {
    "collapsed": false
   },
   "outputs": [],
   "source": [
    "# Evaluate & Update\n",
    "\n",
    "x = T.scalar()\n",
    "w = theano.shared(np.array(3, dtype=theano.config.floatX)\n",
    "                  ,borrow=True)"
   ]
  },
  {
   "cell_type": "code",
   "execution_count": 29,
   "metadata": {
    "collapsed": true
   },
   "outputs": [],
   "source": [
    "obj = (1 - x*w)**2 # our objective\n",
    "                   # x(데이터)에 w(가중치)를 곱해서 그 결과를 1에 가깝게\n",
    "                   # 만들고 싶다. 최적화 목표."
   ]
  },
  {
   "cell_type": "code",
   "execution_count": 30,
   "metadata": {
    "collapsed": false
   },
   "outputs": [],
   "source": [
    "learn_w = (w, w-0.1*T.grad(obj,w))\n",
    "# x로부터, obj를 계산해서, 그 값으로 update를 계산\n",
    "# x -> obj -> updates\n",
    "# input : x\n",
    "# output : obj\n",
    "# updates : updates\n",
    "learn = theano.function([x], obj, updates=[learn_w])\n",
    "\n",
    "# \"updates\" arguments\n",
    "# - A list of tuples\n",
    "# - [(before, after), (before, after), ...]"
   ]
  },
  {
   "cell_type": "code",
   "execution_count": 31,
   "metadata": {
    "collapsed": false
   },
   "outputs": [
    {
     "data": {
      "text/plain": [
       "array(25.0)"
      ]
     },
     "execution_count": 31,
     "metadata": {},
     "output_type": "execute_result"
    }
   ],
   "source": [
    "# 학습\n",
    "learn(2)"
   ]
  },
  {
   "cell_type": "code",
   "execution_count": null,
   "metadata": {
    "collapsed": true
   },
   "outputs": [],
   "source": [
    "# Theano를 이용한 딥러닝"
   ]
  }
 ],
 "metadata": {
  "kernelspec": {
   "display_name": "Python 2",
   "language": "python",
   "name": "python2"
  },
  "language_info": {
   "codemirror_mode": {
    "name": "ipython",
    "version": 2
   },
   "file_extension": ".py",
   "mimetype": "text/x-python",
   "name": "python",
   "nbconvert_exporter": "python",
   "pygments_lexer": "ipython2",
   "version": "2.7.3"
  }
 },
 "nbformat": 4,
 "nbformat_minor": 0
}
