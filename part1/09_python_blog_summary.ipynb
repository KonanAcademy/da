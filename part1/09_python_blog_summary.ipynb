{
 "cells": [
  {
   "cell_type": "code",
   "execution_count": 1,
   "metadata": {
    "collapsed": true
   },
   "outputs": [],
   "source": [
    "#Example 1. Using boilerpipe to extract the text from a web page"
   ]
  },
  {
   "cell_type": "code",
   "execution_count": 3,
   "metadata": {
    "collapsed": false
   },
   "outputs": [
    {
     "name": "stdout",
     "output_type": "stream",
     "text": [
      "Listen\n",
      "The Louvre of the Industrial Age\n",
      "The Henry Ford is one of the world's great museums, and the world it chronicles is our own.\n",
      "by Tim O'Reilly | @timoreilly | +Tim O'Reilly | July 30, 2010\n",
      "This morning I had the chance to get a tour of The Henry Ford Museum in Dearborn, MI, along with Dale Dougherty, creator of Make: and Makerfaire, and Marc Greuther, the chief curator of the museum.  I had expected a museum dedicated to the auto industry, but it’s so much more than that.  As I wrote in my first stunned tweet, “it’s the Louvre of the Industrial Age.”\n",
      "When we first entered, Marc took us to what he said may be his favorite artifact in the museum, a block of concrete that contains Luther Burbank’s shovel, and Thomas Edison’s signature and footprints.  Luther Burbank was, of course, the great agricultural inventor who created such treasures as the nectarine and the Santa Rosa plum. Ford was a farm boy who became an industrialist; Thomas Edison was his friend and mentor. The museum, opened in 1929, was Ford’s personal homage to the transformation of the world that he was so much a part of.  This museum chronicles that transformation.\n",
      "The machines are astonishing – steam engines and coal-fired electric generators as big as houses, the first lathes capable of making other precision lathes (the makerbot of the 19th century), a ribbon glass machine that is one of five that in the 1970s made virtually all of the incandescent lightbulbs in the world, combine harvesters, railroad locomotives, cars, airplanes, even motels, gas stations, an early McDonalds’ restaurant and other epiphenomena of the automobile era.\n",
      "Under Marc’s eye, we also saw the transformation of the machines from purely functional objects to things of beauty.  We saw the advances in engineering — the materials, the workmanship, the design, over a hundred years of innovation.  Visiting The Henry Ford, as they call it, is a truly humbling experience.  I would never in a hundred years have thought of making a visit to Detroit just to visit this museum, but knowing what I know now, I will tell you confidently that it is as worth your while as a visit to Paris just to see the Louvre, to Rome for the Vatican Museum, to Florence for the Uffizi Gallery, to St. Petersburg for the Hermitage, or to Berlin for the Pergamon Museum.  This is truly one of the world’s great museums, and the world that it chronicles is our own.\n",
      "I am truly humbled that the Museum has partnered with us to hold Makerfaire Detroit on their grounds.  If you are anywhere in reach of Detroit this weekend, I heartily recommend that you plan to spend both days there.  You can easily spend a day at Makerfaire, and you could easily spend a day at The Henry Ford.\n",
      "P.S. Here are some of my photos from my visit .  (More to come soon. Can’t upload many as I’m currently on a plane.)\n",
      "Related:\n",
      "\n"
     ]
    }
   ],
   "source": [
    "# pip install boilerpipe\n",
    "from boilerpipe.extract import Extractor\n",
    "\n",
    "URL='http://radar.oreilly.com/2010/07/louvre-industrial-age-henry-ford.html'\n",
    "\n",
    "extractor = Extractor(extractor='ArticleExtractor', url=URL)\n",
    "\n",
    "print extractor.getText()"
   ]
  },
  {
   "cell_type": "code",
   "execution_count": 4,
   "metadata": {
    "collapsed": true
   },
   "outputs": [],
   "source": [
    "#Example 2. Using feedparser to extract the text (and other fields) from an RSS or Atom feed"
   ]
  },
  {
   "cell_type": "code",
   "execution_count": 6,
   "metadata": {
    "collapsed": false
   },
   "outputs": [
    {
     "name": "stdout",
     "output_type": "stream",
     "text": [
      "Data APIs, design, and visual storytelling\n",
      "http://feedproxy.google.com/~r/oreilly/radar/atom/~3/MEFV_ucIE7g/data-apis-design-and-visual-storytelling.html\n",
      "<p><a href=\"https://www.flickr.com/photos/rh2ox/9990024683\"><img alt=\"data.path_Ryoji.Ikeda_R2hox_Flickr\" class=\"aligncenter size-full wp-image-74926\" height=\"250\" src=\"http://s.radar.oreilly.com/wp-files/2/2015/03/data.path_Ryoji.Ikeda_R2hox_Flickr.jpg\" width=\"620\" /></a></p>\n",
      "<p>Over the past five years, international agencies such as the <a href=\"http://data.worldbank.org/\">World Bank</a>, <a href=\"http://data.oecd.org/\">OECD</a>, and UNESCO have created portals to make their data available for everyone to explore. Many non-profits are also visualizing masses of data in the hope that it will give policymakers, funders, and the general public a better understanding of the issues they are trying to solve.</p>\n",
      "<p>Data visualization plays a key role in telling the stories behind the data. For most audiences, data sets are hard to use and interpret &mdash; the average user will need a technical guide just to navigate through the complicated hierarchies of categories let alone interpret the information. But data visualizations trigger interest and insight because they are immediate, clear, and tangible.</p>\n",
      "<p>At <a href=\"http://ffctn.com/en/portfolio\">FFunction</a>, we visualize a lot of data. Most of the time our clients send us Excel spreadsheets or CSV files, so we were happily surprised when we started to work with <a href=\"http://www.uis.unesco.org/Pages/default.aspx\">UNESCO Institute for Statistics</a> on two fascinating education-related projects &mdash; <a href=\"http://www.uis.unesco.org/_LAYOUTS/UNESCO/oosci-data-tool/index-en.html#en/intro\">Out-of-School Children</a> and <a href=\"http://www.uis.unesco.org/_LAYOUTS/UNESCO/no-girl-left-behind/index.html\">Left Behind</a> &mdash; and realized that they had been working on a <a href=\"http://stats.oecd.org/OpenDataAPI/Json.htm\">data API.</a> As we began to work through the data ourselves, we uncovered several reasons why using an API helps immeasurably with data visualization.<!--more--></p>\n",
      "<h2>Why APIs are the best way to share data</h2>\n",
      "<p>If you look at the data available in most data portals, you’re likely to find XML, CSV files, Excel spreadsheets (for those who haven’t heard of Open Document format), or PDF documents (god forbid!). Although <a href=\"http://www.programmableweb.com/category/data/apis?category=20141\">many organizations</a> do have an API, more should.</p>\n",
      "<p>If you’ve worked a little bit with data, whether internal corporate data or open data, you’ll probably know from experience that data very rarely comes in an ideal format. Very often, you’ll find your data contains a multitude of formats (dates are a common offender there, where you’ll find YYYY-MM-DD along with DD/MM/YYY and, for good measure, MM/DD/YYYY).</p>\n",
      "<p>As a result, you almost always need to normalize your data to ensure that all the fields are in the same format. Normalization is not the only chore, though. If you want to keep your data up to date, you’ll also need to make sure that your new data format hasn’t changed since the last time (fields shuffled, added, removed, etc.), which means you’ll need to create a program to validate your new data. And this necessitates having an automated way to retrieve the data. Once you finally have valid, normalized data, you can eventually process the data into a format that is suitable for a visualization.</p>\n",
      "<p><img alt=\"image03\" class=\"aligncenter size-full wp-image-74919\" height=\"256\" src=\"http://s.radar.oreilly.com/wp-files/2/2015/03/image03.jpg\" width=\"620\" /></p>\n",
      "<h2>Pipeline to prepare data for visualization</h2>\n",
      "<p>However, when you are working with an API, you can skip the normalization and validation phases and go directly to processing. Here is why:</p>\n",
      "<ol>\n",
      "<li><strong>API data is URL accessible:</strong> instead of preparing and sending a data file, you just send the URL. Getting the most up-to-date data is a breeze.</li>\n",
      "<li><strong>API data is already normalized</strong>: because it is machine generated, it follows a format that is usually documented. For instance, here is the <a href=\"http://www.consumerfinance.gov/complaintdatabase/technical-documentation/#field-reference\">documentation for the U.S. Consumer Complaints Database</a>.</li>\n",
      "<li><strong>API data is already validated:</strong> because it is extracted from an underlying, structured, information system, you eliminate the risk of inconsistent information. The content is already structured (as opposed to a tabular format) because APIs output either XML or JSON.</li>\n",
      "</ol>\n",
      "<h2>Why using an API improves visualizations</h2>\n",
      "<p>The two projects we recently worked on with UNESCO were complex. Let’s take Out-of-School Children as a case study: our brief was to create an interactive visualization that allows the user to explore UNESCO data on children who are out of school in different regions around the world. The main idea of the visualization was to show the proportion of children in school (compared to the children out of school) among different sub-groups of a country’s population (e.g. girls versus boys, children living in rural areas versus urban zones, etc.). You can check out the end result <a href=\"http://www.uis.unesco.org/_LAYOUTS/UNESCO/oosci-data-tool/index-en.html\">here</a>.</p>\n",
      "<p>Through experience, we have found that one of the key factors in creating a successful visualization is how quickly you can “get” the data. And by “get,” I mean both getting access to the data files and being able to understand the data’s structure, dimensions, and meaning.</p>\n",
      "<p>Having an API to query made it incredibly easy for us to quickly dive into the material. UNESCO’s online data center, <a href=\"http://www.uis.unesco.org/Pages/default.aspx\">UIS.Stats</a>, allows you to browse the data to get an overview of the numbers. Most importantly for our purposes, the data are also available through an API. With a JSON “prettyfier” plug-in, the data look like this:</p>\n",
      "<p>[caption id=\"attachment_74920\" align=\"aligncenter\" width=\"570\"]<img alt=\"Gender parity index\" class=\"size-full wp-image-74920\" height=\"397\" src=\"http://s.radar.oreilly.com/wp-files/2/2015/03/image00.jpg\" width=\"570\" /> <em>Gender parity index, UNESCO UIS.</em>[/caption]</p>\n",
      "<p>This might not look very clear if you're not familiar with JSON, but compared to the raw data, the structure is relatively clear, so you can quickly create tools to assess and visualize the data. For the UNESCO Out of School project, one of the first things to assess was the number of countries with complete (100%) coverage for the key indicators versus the number with missing data.</p>\n",
      "<p>Having instant access to the data and being able to feed it live to the tools really made a big difference in our ability to explore the material and quickly start prototyping.</p>\n",
      "<h2>Data APIs allow us to focus on storytelling</h2>\n",
      "<p>By live-querying the API, our interactive visualization was able to immediately incorporate changes to the data as we went. This meant we had the freedom to create unique, specific design elements to differentiate the data and heighten the impact of the visualization.</p>\n",
      "<p>For instance, in Out of School Children, you can see how many children living in rural locations go to school versus children living in urban areas, how boys’ access to education compares to girls’, or if the richest and poorest of children have equal chances for education.</p>\n",
      "<p><img alt=\"Nigeria’s rural vs urban children\" class=\"aligncenter size-full wp-image-74921\" height=\"365\" src=\"http://s.radar.oreilly.com/wp-files/2/2015/03/image01.jpg\" width=\"620\" /></p>\n",
      "<p>In the example above, we’re looking at Nigeria’s rural versus urban children, divided into out-of-school and in-school groups. The approximate numbers of children in each group are displayed at the top (19.5 million rural versus 8.3 million urban), and the corresponding rates appear in the lower section of the product (e.g. 37% of children living in rural areas in Nigeria are out of school compared to 13% of urban children).</p>\n",
      "<p>Now, what’s interesting is that each little animated character that you see on the page represents the same number of individuals. In the example above, there are around two rural children for each urban child, so you have twice as many little characters on the left side (rural) as the right side (urban).</p>\n",
      "<p>If you look closely, you’ll also notice that the characters are dressed differently depending on their group and gender (pictured below). Indeed, we’ve created many different characters to give a feeling of variety in the visualization &mdash; and also to stress that these numbers represent actual people.</p>\n",
      "<p><img alt=\"image02_v2\" class=\"aligncenter size-full wp-image-75022\" height=\"459\" src=\"http://s.radar.oreilly.com/wp-files/2/2015/03/image02_v2.jpg\" width=\"600\" /></p>\n",
      "<h2>The client perspective</h2>\n",
      "<p>By now, you probably have a good understanding of the benefits of an API accruing to the developer. But the client also benefits considerably in terms of investment, reputation, and outreach.</p>\n",
      "<p>UNESCO’s education database is updated three times each year. “With the API, our data visualizations are being automatically updated with the latest available data,” explains Amy Otchet, head of communications at the UNESCO Institute for Statistics. “This means that our data visualizations are basically maintenance free, and we avoid the limitations of a shelf-life. This results in clear gains in terms of human and financial resources.”</p>\n",
      "<p>“The API also helps to protect our reputation and credibility,” Otchet says. “As the official source of international education data, we have to be certain that our audiences get the latest data available. This also helps with outreach. Partners can directly embed our products as permanent resources without any concerns about maintenance in the long term.”</p>\n",
      "<h2>Tips to successfully create an API for data publication</h2>\n",
      "<p>If you decide to make your data accessible through an API, here are some key points to help you succeed:</p>\n",
      "<ol>\n",
      "<li>Technology (platform) does not really matter too much. This is the beauty of the Web: all that matters is that you output your data in an open format that is developer friendly (i.e. JSON, XML or CSV).</li>\n",
      "<li>JSON is more readable than XML, which is easier to parse than CSV. This might sound weird, as XML is actually more a document format than a data format, but in practice, XML is very verbose and does a poor job at representing the structure, especially when you have numeric data types. JSON is the better choice, provided you have plug-ins to doll it up.</li>\n",
      "<li>APIs can have different formats (if you feel the need), but JSONP is probably the most important. The main reason is that it allows for cross-domain query. For instance, our Out of School interactive is pulling live data from UNESCO’s API, which is only possible because the API offers a JSONP format (P=Procedure call).</li>\n",
      "<li>Be mindful of performance. In the case of the Out of School visualization, the UNESCO data API is queried live by the browser, which means that the API needs to support a potentially high number of queries. A side effect of that is that the visualization’s load time is directly dependent on the speed of the API.</li>\n",
      "</ol>\n",
      "<p>If you want more information on how to turn an ordinary API into a great API, <a href=\"http://www.slideshare.net/jmusser/what-makes-a-great-open-api\">this slideshare</a> from OSCON 2012 outlines five \"keys\" that might also prove useful.</p>\n",
      "<div class=\"feedflare\">\n",
      "<a href=\"http://feeds.feedburner.com/~ff/oreilly/radar/atom?a=MEFV_ucIE7g:N7rj7BGZN5Y:V_sGLiPBpWU\"><img border=\"0\" src=\"http://feeds.feedburner.com/~ff/oreilly/radar/atom?i=MEFV_ucIE7g:N7rj7BGZN5Y:V_sGLiPBpWU\" /></a> <a href=\"http://feeds.feedburner.com/~ff/oreilly/radar/atom?a=MEFV_ucIE7g:N7rj7BGZN5Y:yIl2AUoC8zA\"><img border=\"0\" src=\"http://feeds.feedburner.com/~ff/oreilly/radar/atom?d=yIl2AUoC8zA\" /></a> <a href=\"http://feeds.feedburner.com/~ff/oreilly/radar/atom?a=MEFV_ucIE7g:N7rj7BGZN5Y:JEwB19i1-c4\"><img border=\"0\" src=\"http://feeds.feedburner.com/~ff/oreilly/radar/atom?i=MEFV_ucIE7g:N7rj7BGZN5Y:JEwB19i1-c4\" /></a> <a href=\"http://feeds.feedburner.com/~ff/oreilly/radar/atom?a=MEFV_ucIE7g:N7rj7BGZN5Y:7Q72WNTAKBA\"><img border=\"0\" src=\"http://feeds.feedburner.com/~ff/oreilly/radar/atom?d=7Q72WNTAKBA\" /></a> <a href=\"http://feeds.feedburner.com/~ff/oreilly/radar/atom?a=MEFV_ucIE7g:N7rj7BGZN5Y:qj6IDK7rITs\"><img border=\"0\" src=\"http://feeds.feedburner.com/~ff/oreilly/radar/atom?d=qj6IDK7rITs\" /></a>\n",
      "</div><img alt=\"\" height=\"1\" src=\"http://feeds.feedburner.com/~r/oreilly/radar/atom/~4/MEFV_ucIE7g\" width=\"1\" />\n",
      "Four short links: 23 March 2015\n",
      "http://feedproxy.google.com/~r/oreilly/radar/atom/~3/l8ntnyRQKs0/four-short-links-23-march-2015.html\n",
      "<ol>\n",
      "<li><a href=\"http://www.theaustralian.com.au/business/the-deal-magazine/andrew-bates-swarmfarm-robotics-finds-a-more-efficeint-way-to-spray-weeds/story-e6frgabx-1227267668599?nk=86d4facf7f4bf2d91c2f275d0448c30f\">Swarmfarm Robotics</a> -- <i>His previous weed sprayer weighed 21 tonnes, measured 36 metres across its spray unit, guzzled diesel by the bucketload and needed a paid driver who would only work limited hours. Two robots working together on Bendee effortlessly sprayed weeds in a 70ha mung-bean crop last month. Their infra-red beams picked up any small weeds among the crop rows and sent a message to the nozzle to eject a small chemical spray. Bate hopes to soon use microwave or laser technology to kill the weeds. Best of all, the robots do the work without guidance. They work 24 hours a day. They have in-built navigation and obstacle detection, making them robust and able to decide if an area of a paddock should not be traversed. Special swarming technology means the robots can detect each other and know which part of the paddock has already been assessed and sprayed.</i></li>\n",
      "<li><a href=\"http://interconnected.org/home/2015/03/20/coffee_morning\">Route to Market</a> (Matt Webb) -- <i>The route to market is not what makes the product good. [...] So the way you design the product to best take it to market is not the same process to make it great for its users.</i></li>\n",
      "<li><a href=\"http://explorableexplanations.com/\">Explorable Explanations</a> -- points to many sweet examples of interactive explorable simulations/explanations.</li>\n",
      "<li><a href=\"https://www.tbray.org/ongoing/When/201x/2015/03/23/i-json\">I-JSON</a> (Tim Bray) -- <i>I-JSON is just a note saying that if you construct a chunk of JSON and avoid the interop failures described in RFC 7159, you can call it an “I-JSON Message.” If any known JSON implementation creates an I-JSON message and sends it to any other known JSON implementation, the chance of software surprises is vanishingly small.</i></li>\n",
      "</ol>\n",
      "<div class=\"feedflare\">\n",
      "<a href=\"http://feeds.feedburner.com/~ff/oreilly/radar/atom?a=l8ntnyRQKs0:l_iRkqpMpb0:V_sGLiPBpWU\"><img border=\"0\" src=\"http://feeds.feedburner.com/~ff/oreilly/radar/atom?i=l8ntnyRQKs0:l_iRkqpMpb0:V_sGLiPBpWU\" /></a> <a href=\"http://feeds.feedburner.com/~ff/oreilly/radar/atom?a=l8ntnyRQKs0:l_iRkqpMpb0:yIl2AUoC8zA\"><img border=\"0\" src=\"http://feeds.feedburner.com/~ff/oreilly/radar/atom?d=yIl2AUoC8zA\" /></a> <a href=\"http://feeds.feedburner.com/~ff/oreilly/radar/atom?a=l8ntnyRQKs0:l_iRkqpMpb0:JEwB19i1-c4\"><img border=\"0\" src=\"http://feeds.feedburner.com/~ff/oreilly/radar/atom?i=l8ntnyRQKs0:l_iRkqpMpb0:JEwB19i1-c4\" /></a> <a href=\"http://feeds.feedburner.com/~ff/oreilly/radar/atom?a=l8ntnyRQKs0:l_iRkqpMpb0:7Q72WNTAKBA\"><img border=\"0\" src=\"http://feeds.feedburner.com/~ff/oreilly/radar/atom?d=7Q72WNTAKBA\" /></a> <a href=\"http://feeds.feedburner.com/~ff/oreilly/radar/atom?a=l8ntnyRQKs0:l_iRkqpMpb0:qj6IDK7rITs\"><img border=\"0\" src=\"http://feeds.feedburner.com/~ff/oreilly/radar/atom?d=qj6IDK7rITs\" /></a>\n",
      "</div><img alt=\"\" height=\"1\" src=\"http://feeds.feedburner.com/~r/oreilly/radar/atom/~4/l8ntnyRQKs0\" width=\"1\" />\n",
      "Experience Design Links and Fodder: March 20, 2015\n",
      "http://feedproxy.google.com/~r/oreilly/radar/atom/~3/mjkg1g86THk/experience-design-links-and-fodder-march-20-2015.html\n",
      "<p>Each week our design editors curate the most notable, interesting, and important material they come across. Below you’ll find their recent selections. You can get these and more in our <a href=\"http://www.oreilly.com/design/newsletter.html?intcmp=il-design-newsletter-lp-lgen_20150319_radar_design_newsletter_roundup_top_text\">weekly design newsletter</a>.</p>\n",
      "<h2>The evolution of UX</h2>\n",
      "<p>From da Vinci to Dreyfuss to Disney to Donald Norman, interactions between humans and technology have marked each key milestone in the longer-than-you-think history of user experience design. <a href=\"http://www.fastcodesign.com/3043024/a-brief-history-of-user-experience-design\">Here's how UX design's past sheds light on its future</a>.</p>\n",
      "<p><a href=\"https://www.flickr.com/photos/familymwr/4929686797\"><img alt=\"Arts_and_Crafts_Follow_the_Light_US_Army_Flickr\" class=\"aligncenter size-full wp-image-74998\" height=\"260\" src=\"http://s.radar.oreilly.com/wp-files/2/2015/03/Arts_and_Crafts_Follow_the_Light_US_Army_Flickr.jpg\" width=\"620\" /></a><span style=\"font-size: 75%;\">Source: Image by <a href=\"https://www.flickr.com/photos/familymwr/4929686797\">U.S. Army on Flickr</a></span><br />\n",
      "<!--more--></p>\n",
      "<hr />\n",
      "<h2>Quote of the week</h2>\n",
      "<p>\"If you can't toot your own horn, don't expect the band to show up.\" &mdash; <a href=\"https://twitter.com/BreneBrown\">@BreneBrown</a></p>\n",
      "<hr />\n",
      "<h2>13 ways to blow it</h2>\n",
      "<p>In this rousing, rambunctious rant, Mike Monteiro of Mule Design tears down the myth that good design sells itself. Part pep talk, part scolding session, his IXDA keynote asserts that designers need sales skills and unveils <a href=\"https://vimeo.com/121082134\">the 13 biggest mistakes designers make during presentations</a>.</p>\n",
      "<p>https://vimeo.com/121082134</p>\n",
      "<hr />\n",
      "<p>Stay in the experience design loop by <a href=\"http://www.oreilly.com/design/newsletter.html?intcmp=il-design-newsletter-lp-lgen_20150319_radar_design_newsletter_roundup_bottom_text\">signing up for our free weekly newsletter</a>.</p>\n",
      "<div class=\"feedflare\">\n",
      "<a href=\"http://feeds.feedburner.com/~ff/oreilly/radar/atom?a=mjkg1g86THk:UUnhSjsVSK4:V_sGLiPBpWU\"><img border=\"0\" src=\"http://feeds.feedburner.com/~ff/oreilly/radar/atom?i=mjkg1g86THk:UUnhSjsVSK4:V_sGLiPBpWU\" /></a> <a href=\"http://feeds.feedburner.com/~ff/oreilly/radar/atom?a=mjkg1g86THk:UUnhSjsVSK4:yIl2AUoC8zA\"><img border=\"0\" src=\"http://feeds.feedburner.com/~ff/oreilly/radar/atom?d=yIl2AUoC8zA\" /></a> <a href=\"http://feeds.feedburner.com/~ff/oreilly/radar/atom?a=mjkg1g86THk:UUnhSjsVSK4:JEwB19i1-c4\"><img border=\"0\" src=\"http://feeds.feedburner.com/~ff/oreilly/radar/atom?i=mjkg1g86THk:UUnhSjsVSK4:JEwB19i1-c4\" /></a> <a href=\"http://feeds.feedburner.com/~ff/oreilly/radar/atom?a=mjkg1g86THk:UUnhSjsVSK4:7Q72WNTAKBA\"><img border=\"0\" src=\"http://feeds.feedburner.com/~ff/oreilly/radar/atom?d=7Q72WNTAKBA\" /></a> <a href=\"http://feeds.feedburner.com/~ff/oreilly/radar/atom?a=mjkg1g86THk:UUnhSjsVSK4:qj6IDK7rITs\"><img border=\"0\" src=\"http://feeds.feedburner.com/~ff/oreilly/radar/atom?d=qj6IDK7rITs\" /></a>\n",
      "</div><img alt=\"\" height=\"1\" src=\"http://feeds.feedburner.com/~r/oreilly/radar/atom/~4/mjkg1g86THk\" width=\"1\" />\n",
      "Design&#8217;s return to artisan, at scale\n",
      "http://feedproxy.google.com/~r/oreilly/radar/atom/~3/vd-b56E0ijk/designs-return-to-artisan-at-scale.html\n",
      "<p><a href=\"https://www.flickr.com/photos/ramnaganat/7645909416\"><img alt=\"Architectura_Ceiling_Natesh_Ramasamy_Flickr\" class=\"aligncenter size-full wp-image-74985\" height=\"260\" src=\"http://s.radar.oreilly.com/wp-files/2/2015/03/Architectura_Ceiling_Natesh_Ramasamy_Flickr.jpg\" width=\"620\" /></a></p>\n",
      "<p>In this week's Radar Podcast episode, <a href=\"https://twitter.com/jonfollett\">Jon Follett</a>, editor of <em><a href=\"http://shop.oreilly.com/product/0636920030676.do?intcmp=il-design-books-videos-product-na_20150319_radar_matt_nish_lapidus_radar_podcast_post\">Designing for Emerging Technologies</a></em>, chats with <a href=\"https://twitter.com/emenel\">Matt Nish-Lapidus</a>, partner and design director at Normative. Their discussion circles around the evolution of design, characteristics of post-Industrial design, and aesthetic intricacies of designing in networked systems. Also note, Nish-Lapidus will present <a href=\"http://www.oreilly.com/pub/e/3304?intcmp=il-na-webcast-lp-lgen_20150319_radar_matt_nish_lapidus_radar_podcast\">a free webcast on these topics March 24, 2015</a>.</p>\n",
      "<h2>Post-Industrial design relationships</h2>\n",
      "<p>Nish-Lapidus shares an interesting take on design evolution, from pre-Industrial to post-Industrial times, through the lens of eyeglasses. He uses eyeglasses as a case study, he says, because they're a piece of technology that's been used through a broad span of history, longer than many of the things we still use today. Nish-Lapidus walks us through the pre-Industrial era &mdash; so, Medieval times through about the 1800s &mdash; where a single craftsperson designed one product for a single individual; through the Industrial era, where mass-production took the main stage; to our modern post-Industrial era, where embedded personalization capabilities are bringing design almost full circle, back to a focus on the individual user:</p>\n",
      "<blockquote><p>\"Once we move into this post-Industrial era, which we're kind of entering now, the relationship's starting to shift again, and glasses are a really interesting example. We go from having a single pair of glasses made for a single person, hand-made usually, to a pair of glasses designed and then mass-manufactured for a countless number of people, to having a pair of glasses that expresses a lot of different things. On one hand, you have something like Google Glass, which is still mass-produced, but the glasses actually contain embedded functionality. Then we also have, with the emergence of 3D printing and small-scale manufacturing, a return to a little bit of that artisan, one-to-one relationship, where you could get something that someone's made just for you.</p>\n",
      "<p>\"These post-Industrial objects are more of an expression of the networked world in which we now live. We [again] have a way of building relationships with individual crafts-people. We also have objects that exist in the network themselves, as a physical instantiation of the networked environment that we live in.\"</p></blockquote>\n",
      "<p> <!--more--></p>\n",
      "<div style=\"width: 95%; border-top: 1px solid #ddd; border-bottom: 1px solid #ddd; padding: 10px; margin: 20px 0 20px 0; font-size: 110%;\">\n",
      "<p style=\"text-align: center; margin-bottom: 5px;\"><strong>Subscribe to the O'Reilly Radar Podcast</strong></p>\n",
      "<p style=\"text-align: center;\"><a href=\"http://tunein.com/radio/OReilly-Radar-p663884/\">TuneIn</a>, <a href=\"https://itunes.apple.com/us/podcast/oreilly-radar/id491092046\">iTunes</a>, <a href=\"https://soundcloud.com/oreilly-radar/sets/oreilly-radar-podcast\">SoundCloud</a>, <a href=\"http://feeds.feedburner.com/OreillyRadarPodcast\">RSS</a></p>\n",
      "<p>\n",
      "</div>\n",
      "<h2>Beyond the object, back to the user</h2>\n",
      "<p>This movement toward personalization and personalized services is affecting post-Industrial design in a number of ways. Nish-Lapidus talks about this growing complexity and how it affects design considerations:</p>\n",
      "<blockquote><p>\"There's a lot of new kinds of complexity that you have to think about when producing something, even if that thing is just a physical object with no inherent functionality or technology built into it. Means of production have changed quite a bit, so the options are much more vast than they used to be, but the scales are very different. You have the ability to kind of micro-produce things, but also to produce single one-off things, so the designer in this case has to go back to thinking about the individuals or small subsets of people that the product serves.</p>\n",
      "<p>\"Then when we get into embedded technology and objects that actually are part of the network infrastructure, it's not just about the physical object anymore. The object becomes a container for software, and that software can do things that are invisible and that affect all sorts of other aspects of the environment and [the user's] relationship with the objects and with the other people that that object puts them in touch with.\"</p></blockquote>\n",
      "<h2>How it <em>feels</em> to be inside of a complex system</h2>\n",
      "<p>Nish-Lapidus also outlines a set of aesthetic qualities of networked systems for designers to use not only as foundational elements for designing objects within a network, but to better describe and understand the network itself. Using \"texture\" as an example, he explains:</p>\n",
      "<blockquote><p>\"This whole idea comes from a tradition of design foundations, which has been established for quite a while and is much more commonplace in industrial design and graphic design and architecture, where there are physical properties of objects that you have to understand in order to be able to make something with them. When we get into designing software and networked things, where the physical limitations are a little different, and the material properties become much more abstract, we haven't yet done a really great job of thinking about the aesthetics of those types of material properties, those invisible properties. What's interesting about invisible properties is that they quickly become visible when you're trying to interact with the system at hand.</p>\n",
      "<p>\"Taking texture as the first one, for example, texture is looking at the way the system connects to all of the other pieces that exist within it, or how those pieces interact with each other. When you have a system that has multiple nodes, and those nodes could be human or inhuman or physical objects or pieces of software, how does the communication between those happen? ... When you start to talk about that in terms of a <em>texture of connection</em>, you can look at how obvious the connections are. If they're really obvious and easy, and you can access them, and you understand what you're supposed to put in them or what you're going to get out of them, you could talk about that as a 'smooth' form of communication. If it's really confusing, or you get something unexpected, or there's interference from other aspects of the system, you could start talking about that as rough or as other types of descriptors. This gives us a kind of a fuzzy aesthetic language to start talking about how it feels to be inside of a complex system.\"</p></blockquote>\n",
      "<p>You can listen to the podcast in the player embedded above or download it through <a href=\"http://tunein.com/radio/OReilly-Radar-p663884/\">TuneIn</a>, <a href=\"https://soundcloud.com/oreilly-radar\">SoundCloud</a>, or <a href=\"https://itunes.apple.com/us/podcast/oreilly-radar/id491092046\">iTunes</a>.</p>\n",
      "<p><em>Cropped image on article and category pages by <a href=\"https://www.flickr.com/photos/ramnaganat/7645909416\">Natesh Ramasamy on Flickr</a>, used under a <a href=\"https://creativecommons.org/licenses/by/2.0/\">Creative Commons license</a>.</em></p>\n",
      "<div class=\"feedflare\">\n",
      "<a href=\"http://feeds.feedburner.com/~ff/oreilly/radar/atom?a=vd-b56E0ijk:SSEkFvk2YCk:V_sGLiPBpWU\"><img border=\"0\" src=\"http://feeds.feedburner.com/~ff/oreilly/radar/atom?i=vd-b56E0ijk:SSEkFvk2YCk:V_sGLiPBpWU\" /></a> <a href=\"http://feeds.feedburner.com/~ff/oreilly/radar/atom?a=vd-b56E0ijk:SSEkFvk2YCk:yIl2AUoC8zA\"><img border=\"0\" src=\"http://feeds.feedburner.com/~ff/oreilly/radar/atom?d=yIl2AUoC8zA\" /></a> <a href=\"http://feeds.feedburner.com/~ff/oreilly/radar/atom?a=vd-b56E0ijk:SSEkFvk2YCk:JEwB19i1-c4\"><img border=\"0\" src=\"http://feeds.feedburner.com/~ff/oreilly/radar/atom?i=vd-b56E0ijk:SSEkFvk2YCk:JEwB19i1-c4\" /></a> <a href=\"http://feeds.feedburner.com/~ff/oreilly/radar/atom?a=vd-b56E0ijk:SSEkFvk2YCk:7Q72WNTAKBA\"><img border=\"0\" src=\"http://feeds.feedburner.com/~ff/oreilly/radar/atom?d=7Q72WNTAKBA\" /></a> <a href=\"http://feeds.feedburner.com/~ff/oreilly/radar/atom?a=vd-b56E0ijk:SSEkFvk2YCk:qj6IDK7rITs\"><img border=\"0\" src=\"http://feeds.feedburner.com/~ff/oreilly/radar/atom?d=qj6IDK7rITs\" /></a>\n",
      "</div><img alt=\"\" height=\"1\" src=\"http://feeds.feedburner.com/~r/oreilly/radar/atom/~4/vd-b56E0ijk\" width=\"1\" />\n",
      "Cross-device interactions and interusability\n",
      "http://feedproxy.google.com/~r/oreilly/radar/atom/~3/VHK26SM70Y0/cross-device-interactions-and-interusability.html\n",
      "<p><em>Editor’s note: This is an excerpt by <a href=\"https://twitter.com/clurr\">Claire Rowland</a> from our upcoming book </em><a href=\"http://shop.oreilly.com/product/0636920031109.do?intcmp=il-design-books-videos-product-na_20150319_designing_for_the_iot_excerpt_claire_rowland\">Designing Connected Products</a><em>. This excerpt is included in our curated collection of chapters from the O’Reilly Design library. Download a free copy of the </em><a href=\"http://www.oreilly.com/design/free/designing-for-the-internet-of-things.csp?intcmp=il-design-free-lp-lgen_20150319_designing_for_the_iot_excerpt_claire_rowland_post_text\">Designing for the Internet of Things</a><em> ebook here.</em></p>\n",
      "<p>In systems where functionality and interactions are distributed across more than one device, it’s not enough to design individual UIs in isolation. Designers need to create a coherent UX across all the devices with which the user interacts. That means thinking about how UIs work together to create a coherent understanding of the overall system, and how the user may move between using different devices.</p>\n",
      "<h2>Cross-platform UX and usability</h2>\n",
      "<p>[caption id=\"attachment_74387\" align=\"alignright\" width=\"237\"]<a href=\"http://www.oreilly.com/design/free/designing-for-the-internet-of-things.csp?intcmp=il-design-free-lp-lgen_20150319_designing_for_the_iot_excerpt_claire_rowland_post_image\"><img alt=\"Designing for the Internet of Things - A curated collection of chapters from the O&#039;Reilly Design Library\" class=\"size-full wp-image-74387\" height=\"350\" src=\"http://s.radar.oreilly.com/wp-files/2/2015/02/designing-for-the-iot-final-3.jpg\" width=\"237\" /></a> <em><a href=\"http://www.oreilly.com/design/free/designing-for-the-internet-of-things.csp?intcmp=il-design-free-lp-lgen_20150319_designing_for_the_iot_excerpt_claire_rowland_post_image\">Download the free ebook.</a></em>[/caption]Many of the tools of UX design and HCI originate from a time when an interaction was usually a single user using a single device. This was almost always a desktop computer, which they’d be using to complete a work-like task, giving it more or less their full attention.</p>\n",
      "<p>The reality of our digital lives moved on from this long ago. Many of us own multiple Internet-capable devices, such as smartphones, tablets, and connected TVs, used for leisure as well as for work. They have different form factors; may be used in different contexts; and some of them come with specific sensing capabilities, such as mobile location.</p>\n",
      "<p>Cross-platform UX is an area of huge interest to the practitioner community. But academic researchers have given little attention to defining the properties of good cross-platform UX. This has left a gap between practice and theory that needs addressing.</p>\n",
      "<p>In industry practice, cross-platform UX has often proceeded device by device. Designers begin with a key reference device and subsequent interfaces are treated as adaptations. In the early days of smartphones, this reference device was often the desktop. In recent years, the \"mobile first\" approach has encouraged us to start with mobile Web or apps as a way to focus on optimizing key functionality and minimize \"feature-itis.\" Such services usually have overarching design guidelines spanning all platforms to ensure a degree of consistency. The aim is usually on making the different interfaces feel like a family, rather than on making the devices work together as a system.<!--more--></p>\n",
      "<p>This works when each device is delivering broadly the same functionality. Evernote, eBay, and Dropbox are typical examples: each offers more or less the same features via a responsive website and smartphone apps. The design is optimized for each device, but provides the same basic service functionality (bar a few admin functions that might only be available on the desktop).</p>\n",
      "<p>But this approach breaks down when the system involves very diverse devices with different capabilities working in concert. In IoT, many devices do not even have screens, or an on-device user interface. Multiple devices might have UIs with very different forms or specialized functionality. Even if the UI is only on one device, the service still depends on all the devices working together in concert.</p>\n",
      "<p>It’s not possible to design a system like this by thinking about one device at a time: this is likely to create a disjointed experience.</p>\n",
      "<p>In order to use it effectively, the user has to form a coherent mental image of the overall system. This includes its various parts, what each does, and how different objectives can be achieved using the system as a whole. Traditional single-device usability doesn’t tell us very much about how to do this.</p>\n",
      "<h2>What is interusability?</h2>\n",
      "<p>Charles Denis and Laurent Karsenty <a href=\"http://onlinelibrary.wiley.com/doi/10.1002/0470091703.ch17/summary\">first coined the term \"inter-usability\" in 2004</a> to describe UX across multiple devices. Conventional usability theory is under-equipped to cope with cross-platform design. However, one <a href=\"http://bugi.oulu.fi/~ksegerst/publications/p219-waljas.pdf\">2010 paper (PDF)</a> by Minna Wäljas, Katarina Segerståhl, Kaisa Väänänen-Vainio-Mattila, and Harri Oinas-Kukkonen proposes a practical model of interusability.</p>\n",
      "<p>Wäljas, et al, propose that the ultimate goal of cross-platform design is that the experience should feel coherent. Does the service feel like the devices are working in concert, or does the UX feel fragmented?</p>\n",
      "<p>They define three key concepts for cross-platform service UX, which together ensure a coherent experience:</p>\n",
      "<ul>\n",
      "<li>Composition: how devices and functionality are organized</li>\n",
      "<li>Appropriate consistency of interfaces across different devices</li>\n",
      "<li>Continuity of content and data to ensure smooth transitions between platforms</li>\n",
      "</ul>\n",
      "<p>The paper was published in 2010, and the services evaluated (including Nike+ and Nokia Sportstracker) now inevitably feel a little dated. But we have found the model still holds up well in our own work designing IoT services, and it’s a key reference for the rest of this chapter.</p>\n",
      "<div class=\"feedflare\">\n",
      "<a href=\"http://feeds.feedburner.com/~ff/oreilly/radar/atom?a=VHK26SM70Y0:_MAOZRU-OmU:V_sGLiPBpWU\"><img border=\"0\" src=\"http://feeds.feedburner.com/~ff/oreilly/radar/atom?i=VHK26SM70Y0:_MAOZRU-OmU:V_sGLiPBpWU\" /></a> <a href=\"http://feeds.feedburner.com/~ff/oreilly/radar/atom?a=VHK26SM70Y0:_MAOZRU-OmU:yIl2AUoC8zA\"><img border=\"0\" src=\"http://feeds.feedburner.com/~ff/oreilly/radar/atom?d=yIl2AUoC8zA\" /></a> <a href=\"http://feeds.feedburner.com/~ff/oreilly/radar/atom?a=VHK26SM70Y0:_MAOZRU-OmU:JEwB19i1-c4\"><img border=\"0\" src=\"http://feeds.feedburner.com/~ff/oreilly/radar/atom?i=VHK26SM70Y0:_MAOZRU-OmU:JEwB19i1-c4\" /></a> <a href=\"http://feeds.feedburner.com/~ff/oreilly/radar/atom?a=VHK26SM70Y0:_MAOZRU-OmU:7Q72WNTAKBA\"><img border=\"0\" src=\"http://feeds.feedburner.com/~ff/oreilly/radar/atom?d=7Q72WNTAKBA\" /></a> <a href=\"http://feeds.feedburner.com/~ff/oreilly/radar/atom?a=VHK26SM70Y0:_MAOZRU-OmU:qj6IDK7rITs\"><img border=\"0\" src=\"http://feeds.feedburner.com/~ff/oreilly/radar/atom?d=qj6IDK7rITs\" /></a>\n",
      "</div><img alt=\"\" height=\"1\" src=\"http://feeds.feedburner.com/~r/oreilly/radar/atom/~4/VHK26SM70Y0\" width=\"1\" />\n",
      "Four short links: 20 March 2015\n",
      "http://feedproxy.google.com/~r/oreilly/radar/atom/~3/Eqq84mx4sPY/four-short-links-20-march-2015.html\n",
      "<ol>\n",
      "<li><a href=\"https://www.yahoo.com/tech/exclusive-facebook-engineering-director-is-headed-114060505054.html\">David Recordon Joins US Govt</a> -- <i>This afternoon, President Barack Obama will announce a newly created position for David Recordon, who has worked as one of Facebook’s engineering directors since 2009. Recordon will join the White House as the director of information technology.</i>  Obama building an A team from Foo Campers.</li>\n",
      "<li><a href=\"https://www.youtube.com/watch?v=kPMHcanq0xM\">MagicLeap/Weta Workshop FPS in AR</a> (YouTube) -- fun!</li>\n",
      "<li><a href=\"http://www.tug.org/texshowcase/cheat.pdf\">Theoretical Computer Science Cheat Sheet</a> (PDF) -- how to appear smart.</li>\n",
      "<li><a href=\"http://carbon3d.com/\">Carbon3D</a> -- <i>Traditional 3D printing requires a number of mechanical steps, repeated over and over again in a layer-by-layer approach. CLIP is a chemical process that carefully balances light and oxygen to eliminate the mechanical steps and the layers. It works by projecting light through an oxygen-permeable window into a reservoir of UV curable resin. The build platform lifts continuously as the object is grown.</i></li>\n",
      "</ol>\n",
      "<div class=\"feedflare\">\n",
      "<a href=\"http://feeds.feedburner.com/~ff/oreilly/radar/atom?a=Eqq84mx4sPY:SoePCfP9ArY:V_sGLiPBpWU\"><img border=\"0\" src=\"http://feeds.feedburner.com/~ff/oreilly/radar/atom?i=Eqq84mx4sPY:SoePCfP9ArY:V_sGLiPBpWU\" /></a> <a href=\"http://feeds.feedburner.com/~ff/oreilly/radar/atom?a=Eqq84mx4sPY:SoePCfP9ArY:yIl2AUoC8zA\"><img border=\"0\" src=\"http://feeds.feedburner.com/~ff/oreilly/radar/atom?d=yIl2AUoC8zA\" /></a> <a href=\"http://feeds.feedburner.com/~ff/oreilly/radar/atom?a=Eqq84mx4sPY:SoePCfP9ArY:JEwB19i1-c4\"><img border=\"0\" src=\"http://feeds.feedburner.com/~ff/oreilly/radar/atom?i=Eqq84mx4sPY:SoePCfP9ArY:JEwB19i1-c4\" /></a> <a href=\"http://feeds.feedburner.com/~ff/oreilly/radar/atom?a=Eqq84mx4sPY:SoePCfP9ArY:7Q72WNTAKBA\"><img border=\"0\" src=\"http://feeds.feedburner.com/~ff/oreilly/radar/atom?d=7Q72WNTAKBA\" /></a> <a href=\"http://feeds.feedburner.com/~ff/oreilly/radar/atom?a=Eqq84mx4sPY:SoePCfP9ArY:qj6IDK7rITs\"><img border=\"0\" src=\"http://feeds.feedburner.com/~ff/oreilly/radar/atom?d=qj6IDK7rITs\" /></a>\n",
      "</div><img alt=\"\" height=\"1\" src=\"http://feeds.feedburner.com/~r/oreilly/radar/atom/~4/Eqq84mx4sPY\" width=\"1\" />\n",
      "What the IoT can learn from the health care industry\n",
      "http://feedproxy.google.com/~r/oreilly/radar/atom/~3/v_qwgp8i_-g/what-the-iot-can-learn-from-the-health-care-industry.html\n",
      "<p><strong><a href=\"http://patientprivacyrights.org/board-of-directors/#adrian\">Adrian Gropper</a> co-authored this post.</strong></p>\n",
      "<p><a href=\"https://www.flickr.com/photos/hepp/15594981883\"><img alt=\"Nyckel_erik_forsberg_Flickr\" class=\"alignright size-full wp-image-74954\" height=\"263\" src=\"http://s.radar.oreilly.com/wp-files/2/2015/03/Nyckel_erik_forsberg_Flickr.jpg\" width=\"350\" /></a>After a short period of excitement and rosy prospects in the movement we’ve come to call the Internet of Things (IoT), designers are coming to realize that it will survive or implode around the twin issues of security and user control: a few <a href=\"http://fusion.net/story/55026/this-guys-light-bulb-ddosed-his-entire-smart-house/\">electrical failures</a> could scare people away for decades, while a nagging sense that someone is exploiting our data without our consent could sour our enthusiasm. Early indicators already point to a heightened level of scrutiny &mdash; Senator Ed Markey’s office, for example, recently <a href=\"http://www.markey.senate.gov/news/press-releases/markey-report-reveals-automobile-security-and-privacy-vulnerabilities\">put the automobile industry under the microscope for computer and network security</a>.</p>\n",
      "<p>In this context, what can the IoT draw from well-established technologies in federated trust? Federated trust in technologies as diverse as the <a href=\"http://web.mit.edu/kerberos/\">Kerberos</a> and <a href=\"http://en.wikipedia.org/wiki/Security_Assertion_Markup_Language\">SAML</a> has allowed large groups of users to collaborate securely, never having to share passwords with people they don’t trust. <a href=\"http://openid.net/\">OpenID</a> was probably the first truly mass-market application of federated trust.</p>\n",
      "<p>OpenID and <a href=\"http://oauth.net/\">OAuth</a>, which have proven their value on the Web, have an equally vital role in the exchange of data in health care. This task &mdash; often cast as the interoperability of electronic health records &mdash; can reasonably be described as the primary challenge facing the health care industry today, at least in the IT space. <a href=\"http://www.healthcareitnews.com/blog/meaningful-use-born-2009-died-2014?page=1\">Reformers</a> across the <a href=\"http://www.modernhealthcare.com/article/20150123/NEWS/150129980\">health care industry</a> (and even <a href=\"http://www.fierceemr.com/story/congress-onc-focus-interoperability/2014-12-16\">Congress</a>) have pressured the federal government to make data exchange the top priority, and the Office of the National Coordinator for Health Information Technology has <a href=\"http://www.fiercehealthit.com/story/oncs-updated-federal-hit-plan-focuses-interoperability/2014-12-08\">declared it the centerpiece of upcoming regulations</a>.<!--more--></p>\n",
      "<p>Furthermore, other industries can learn from health care. The Internet of Things deals not only with distributed data, but with distributed responsibility for maintaining the quality of that data and authorizing the sharing of data. The <a href=\"http://hg.openid.net/heart/wiki/Post-MI_Implant_and_Rehab\">use case</a> we'll discuss in this article, where an individual allows her medical device data to be shared with a provider, can show a way forward for many other industries. For instance, it can steer a path toward better security and user control for the auto industry.</p>\n",
      "<p>Health care, like other vertical industries, does best by exploiting general technologies that cross industries. When it depends on localized solutions designed for a single industry, the results usually cost a lot more, lock the users into proprietary vendors, and suffer from lower quality. In pursuit of a standard solution, a working group of the OpenID Foundation called <a href=\"http://openid.net/wg/heart/\">Health Relationship Trust (HEART)</a> is putting together a set of technologies that would:</p>\n",
      "<ul>\n",
      "<li>Keep patient control over data and allow her to determine precisely which providers have access.</li>\n",
      "<li>Cut out middlemen, such as expensive health information exchanges that have trouble identifying patients and keeping information up to date.</li>\n",
      "<li>Avoid the need for a patient and provider to share secrets. Each maintains their credentials with their own trusted service, and connect with each other without having to reveal passwords.</li>\n",
      "<li>Allow data transfers directly (or through a patient-controlled proxy app) from fitness or medical devices to the provider’s electronic record, as specified by the patient.</li>\n",
      "</ul>\n",
      "<p>Standard technologies from OpenID used by HEART include OAuth, OpenID Connect, and User-Managed Access (UMA).</p>\n",
      "<p>A <a href=\"http://hg.openid.net/heart/wiki/Post-MI_Implant_and_Rehab\">sophisticated use case</a> developed by the HEART team describes two health care providers that are geographically remote from each other and do not know each other. The patient gets her routine care from one but needs treatment from the other during a trip. OAuth and OpenID Connect work here the way they do on countless popular websites: they extend the trust that a user invested in one site to cover another site with which the user wants to do business. The user has a password or credential with just a single trusted site; dedicated tokens (sometimes temporary) grant limited access to other sites.</p>\n",
      "<p>Devices can also support OAuth and related technologies. The HEART use case suggests two hypothetical devices, one a consumer product and the other a more expensive, dedicated medical device. These become key links between the patient and her physicians. The patient can authorize the device to send her vital signs independently to the physician of her choice.</p>\n",
      "<p>OpenID Connect can relieve the patient of the need to enter a password every time she wants access to her records. For instance, the patient might want to use her cell phone to verify her identity. This is sometimes called <a href=\"http://www.coindesk.com/2014-became-year-multisig/\"><em>multisig technology</em></a> and is designed to avoid a catastrophic loss of control over data and avoid a single point of failure.</p>\n",
      "<p><span class=\"pullquote-full\">One could think of identity federation via OpenID Connect as promoting cybersecurity.</span></p>\n",
      "<p>UMA extends the possibilities for secure data sharing. It can allow a single authorization server to control access to data on many resource servers. UMA can also enforce any policy set up by the authorization server on behalf of the patient. If the patient wants to release surgical records without releasing mental health records, or wants records released only during business hours as a security measure, UMA enables the authorization server to design arbitrarily defined rules to support such practices. One could think of identity federation via OpenID Connect as promoting cybersecurity by replacing many weak passwords with one strong credential. On top of that, UMA promotes privacy by replacing many consent portals with one patient-selected authorization agent.</p>\n",
      "<p>For instance, the patient can tell her devices to release data in the future without requiring another request to the patient, and can specify what data is available to each provider, and even when it's available &mdash; if the patient is traveling, for example, and needs to see a doctor, she can tell the authentication server to shut off access to her data by that doctor on the day after she takes her flight back home. The patient could also require that anyone viewing her data submit credentials that demonstrate they have a certain medical degree.</p>\n",
      "<p>Thus, low-cost services already in widespread use can cut the Gordian knot of information siloing in health care. There’s no duplication of data, either &mdash; the patient maintains it in her records, and the provider has access to the data released to them by the patient. Gropper, who initiated work on the HEART use case cited earlier, calls this “an HIE of One.” Federated authentication and authorization, with provision for direct user control over data sharing, provides the best security we currently know without the need to compromise private keys or share secrets, such as passwords.</p>\n",
      "<p><em>Image on article and category pages by <a href=\"https://www.flickr.com/photos/hepp/15594981883\">erik forsberg on Flickr</a>, used under a <a href=\"https://creativecommons.org/licenses/by/2.0/\">Creative Commons license</a>.</em></p>\n",
      "<div class=\"feedflare\">\n",
      "<a href=\"http://feeds.feedburner.com/~ff/oreilly/radar/atom?a=v_qwgp8i_-g:ZzFu8iouaEI:V_sGLiPBpWU\"><img border=\"0\" src=\"http://feeds.feedburner.com/~ff/oreilly/radar/atom?i=v_qwgp8i_-g:ZzFu8iouaEI:V_sGLiPBpWU\" /></a> <a href=\"http://feeds.feedburner.com/~ff/oreilly/radar/atom?a=v_qwgp8i_-g:ZzFu8iouaEI:yIl2AUoC8zA\"><img border=\"0\" src=\"http://feeds.feedburner.com/~ff/oreilly/radar/atom?d=yIl2AUoC8zA\" /></a> <a href=\"http://feeds.feedburner.com/~ff/oreilly/radar/atom?a=v_qwgp8i_-g:ZzFu8iouaEI:JEwB19i1-c4\"><img border=\"0\" src=\"http://feeds.feedburner.com/~ff/oreilly/radar/atom?i=v_qwgp8i_-g:ZzFu8iouaEI:JEwB19i1-c4\" /></a> <a href=\"http://feeds.feedburner.com/~ff/oreilly/radar/atom?a=v_qwgp8i_-g:ZzFu8iouaEI:7Q72WNTAKBA\"><img border=\"0\" src=\"http://feeds.feedburner.com/~ff/oreilly/radar/atom?d=7Q72WNTAKBA\" /></a> <a href=\"http://feeds.feedburner.com/~ff/oreilly/radar/atom?a=v_qwgp8i_-g:ZzFu8iouaEI:qj6IDK7rITs\"><img border=\"0\" src=\"http://feeds.feedburner.com/~ff/oreilly/radar/atom?d=qj6IDK7rITs\" /></a>\n",
      "</div><img alt=\"\" height=\"1\" src=\"http://feeds.feedburner.com/~r/oreilly/radar/atom/~4/v_qwgp8i_-g\" width=\"1\" />\n",
      "Four short links: 19 March 2015\n",
      "http://feedproxy.google.com/~r/oreilly/radar/atom/~3/rkXlQZsx0y8/four-short-links-19-march-2015.html\n",
      "<ol>\n",
      "<li><a href=\"http://blog.dataloop.io/2015/03/18/using-monitoring-dashboards-to-change-behaviour/\">Using Monitoring Dashboards to Change Behaviour</a> -- <i>[After years of neglect] One day we wrote some brittle Ruby scripts that polled various services. They collated the metrics into a simple database and we automated some email reports and built a dashboard showing key service metrics. We pinpointed issues that we wanted to show people. Things like the login times, how long it would take to search for certain keywords in the app, and how many users were actually using the service, along with costs and other interesting facts. We sent out the link to the dashboard at 9am on Monday morning, before the weekly management call. Within 2 weeks most problems were addressed. It is very difficult to combat data, especially when it is laid out in an easy to understand way. </i></li>\n",
      "<li><a href=\"http://spectrum.ieee.org/cars-that-think/transportation/human-factors/mitsubishi-quiets-car-noise-for-your-ohsoimportant-phone-calls/\">Quiet Mitsubishi Cars</a> -- noise-cancelling on phone calls by using machine learning to build the filters.</li>\n",
      "<li><a href=\"https://www.nsf.gov/news/news_summ.jsp?cntn_id=134478&amp;org=NSF\">NSF Requiring Public Access</a> -- <i>NSF will require that articles in peer-reviewed scholarly journals and papers in juried conference proceedings or transactions be deposited in a public access compliant repository and be available for download, reading, and analysis within one year of publication.</i></li>\n",
      "<li><a href=\"http://interconnected.org/home/2015/03/18/filtered\">Filtered for Capital</a> (Matt Webb) -- <i>It's important to get a credit line [for hardware startups] because growing organically isn't possible -- even if half your sell-in price is margin, you can only afford to grow your batch size at 50% per cycle... and whether it's credit or re-investing the margin, all that growth incurs risk, because the items aren't pre-sold. There are double binds all over the place here.</i></li>\n",
      "<div class=\"feedflare\">\n",
      "<a href=\"http://feeds.feedburner.com/~ff/oreilly/radar/atom?a=rkXlQZsx0y8:hQ1MWWjk9_8:V_sGLiPBpWU\"><img border=\"0\" src=\"http://feeds.feedburner.com/~ff/oreilly/radar/atom?i=rkXlQZsx0y8:hQ1MWWjk9_8:V_sGLiPBpWU\" /></a> <a href=\"http://feeds.feedburner.com/~ff/oreilly/radar/atom?a=rkXlQZsx0y8:hQ1MWWjk9_8:yIl2AUoC8zA\"><img border=\"0\" src=\"http://feeds.feedburner.com/~ff/oreilly/radar/atom?d=yIl2AUoC8zA\" /></a> <a href=\"http://feeds.feedburner.com/~ff/oreilly/radar/atom?a=rkXlQZsx0y8:hQ1MWWjk9_8:JEwB19i1-c4\"><img border=\"0\" src=\"http://feeds.feedburner.com/~ff/oreilly/radar/atom?i=rkXlQZsx0y8:hQ1MWWjk9_8:JEwB19i1-c4\" /></a> <a href=\"http://feeds.feedburner.com/~ff/oreilly/radar/atom?a=rkXlQZsx0y8:hQ1MWWjk9_8:7Q72WNTAKBA\"><img border=\"0\" src=\"http://feeds.feedburner.com/~ff/oreilly/radar/atom?d=7Q72WNTAKBA\" /></a> <a href=\"http://feeds.feedburner.com/~ff/oreilly/radar/atom?a=rkXlQZsx0y8:hQ1MWWjk9_8:qj6IDK7rITs\"><img border=\"0\" src=\"http://feeds.feedburner.com/~ff/oreilly/radar/atom?d=qj6IDK7rITs\" /></a>\n",
      "</div><img alt=\"\" height=\"1\" src=\"http://feeds.feedburner.com/~r/oreilly/radar/atom/~4/rkXlQZsx0y8\" width=\"1\" />\n",
      "Worship maintainers\n",
      "http://feedproxy.google.com/~r/oreilly/radar/atom/~3/TwH0QxFGOf8/worship-maintainers.html\n",
      "<p><img alt=\"switch\" class=\"alignnone size-full wp-image-74915\" height=\"260\" src=\"http://s.radar.oreilly.com/wp-files/2/2015/03/switch.jpg\" width=\"620\" /></p>\n",
      "<p>Technology has had a cult of newness for centuries.  We hail innovators, cheer change, and fend off critics who might think new and change are coming too fast.  Unfortunately, while that drives the cycle of creation, it also creates biases that damage what we create, reducing the benefits and increasing the costs.</p>\n",
      "<p>Formerly new things rapidly become ordinary \"plumbing,\" while maintenance becomes a cost center, something to complain about.  \"Green fields\" and startups look ever more attractive because they offer opportunities to start fresh, with minimal connections to past technology decisions.</p>\n",
      "<p>The problem, though, is that most of these new things &mdash; the ones that succeed enough to stay around &mdash; have a long maintenance cycle ahead of them. As Axel Rauschmayer put it:</p>\n",
      "<blockquote><p>\"People who maintain stuff are the unsung heroes of software development.\"</p>\n",
      "</blockquote>\n",
      "<p>In a different context, Steve Hendricks of <a href=\"http://www.historicdoors.com/\">Historic Doors</a> pointed out that:</p>\n",
      "<blockquote><p>\"Low maintenance is the holy grail of our culture. We've gone so far that we're willing to throw things away rather than fix them.\"\n",
      "</p></blockquote>\n",
      "<p>That gets especially expensive. Heaping praise on the creators of new things while trying to minimize the costs of the maintainers is a recipe for disaster over the long term.<br />\n",
      "<!--more--></p>\n",
      "<p>I've contributed to this disaster. I love starting new projects on open fields, full of visions for creating from scratch. I can choose my own tools, tackle problems from the angles I prefer, and, perhaps most important, choose the order in which I add new features.  In the books I write, I assume the reader is starting from scratch, able to learn features in isolation and slowly develop a sense of how it all fits together.</p>\n",
      "<p>Even as I've spent years telling the story of starting from a clean slate, though, I've spent most of my programming and Web time on maintenance, updating my own and other people's content, code, servers, and networks.  Maintenance constantly calls me out of my comfort zone, forcing me to remember things I did long ago or focus on parts that used to just work.  Maintenance forces me to rely on other people &mdash; the real heroes &mdash; on a regular basis, often in emergency situations.</p>\n",
      "<p>So how can we fix it?</p>\n",
      "<p>This is a cultural problem, not a technical problem.  More precisely, the problems have technical aspects, but those aspects vary wildly from project to project.  Maintaining AngularJS projects is very different from maintaining COBOL projects.  The cultural stories, though, may be more similar.</p>\n",
      "<p>Someone at CSSDevConf last fall took the first step on that path, asking the audience how many of them moved from new project to new project and how many stayed on projects for a long time going forward.  That prompted some blunt conversations about the differences among Web developers and their priorities, though it was clear that it was just a first step.</p>\n",
      "<p>DevOps &mdash; I think because it values operations &mdash; <a href=\"http://swreflections.blogspot.com/2012/09/devops-and-maintenance-go-together-like.html\">takes maintenance seriously</a>, insisting on covering the whole lifecycle of a product rather than the waterfall vision of perfection at the deployment of a project.  Iteration and continuous development models put a gloss of new and fresh on what used to seem old and blocking. </p>\n",
      "<p>DevOps eases the problem and gives some of us a place to talk about it.  Most of us, though, work in places whose projects have not been and likely will never be under the DevOps umbrella.  It's also possible that projects that start in full DevOps mode dwindle and find themselves in more traditional maintenance.  While I hope DevOps approaches will prove contagious, something smaller seems like it might be more important.</p>\n",
      "<p>We need to place a much higher value on maintenance and maintainers.  We need to worship maintainers with the same fervor we worship creators.  We need to recognize that not having emergencies can mean more, despite being less visible than a well-handled emergency.  We need to value continuity (in a bumpy world) as much as we value growth.  We need to recognize that growth is pointless unless we provide it with a solid foundation.</p>\n",
      "<hr />\n",
      "<p><em>Editor's note: if you're interested in finding out if a DevOps approach will prove to be contagious within your organization, you'll want to check out the <a href=\"http://velocityconf.com/web-mobile-business-conf-2015/public/content/effective-devops?intcmp=il-prog-confreg-article-vlca15_worship_maintainers\">Effective DevOps</a> training session at Velocity in Santa Clara May 27-29, 2015.</em></p>\n",
      "<p><em>This post is part of an ongoing exploration into <a href=\"http://radar.oreilly.com/tag/web-communities\">cross-pollinating Web communities</a>.</em></p>\n",
      "<p><em>Cropped switch image <a href=\"https://creativecommons.org/licenses/by-sa/2.0/\">CC BY-SA 2.0</a> <a href=\"https://www.flickr.com/photos/andrewfhart/\">Andrew Hart</a> via <a href=\"https://www.flickr.com/photos/andrewfhart/8106189987/\">Flickr</a>.</em></p>\n",
      "<div class=\"feedflare\">\n",
      "<a href=\"http://feeds.feedburner.com/~ff/oreilly/radar/atom?a=TwH0QxFGOf8:11m83Vx95u4:V_sGLiPBpWU\"><img border=\"0\" src=\"http://feeds.feedburner.com/~ff/oreilly/radar/atom?i=TwH0QxFGOf8:11m83Vx95u4:V_sGLiPBpWU\" /></a> <a href=\"http://feeds.feedburner.com/~ff/oreilly/radar/atom?a=TwH0QxFGOf8:11m83Vx95u4:yIl2AUoC8zA\"><img border=\"0\" src=\"http://feeds.feedburner.com/~ff/oreilly/radar/atom?d=yIl2AUoC8zA\" /></a> <a href=\"http://feeds.feedburner.com/~ff/oreilly/radar/atom?a=TwH0QxFGOf8:11m83Vx95u4:JEwB19i1-c4\"><img border=\"0\" src=\"http://feeds.feedburner.com/~ff/oreilly/radar/atom?i=TwH0QxFGOf8:11m83Vx95u4:JEwB19i1-c4\" /></a> <a href=\"http://feeds.feedburner.com/~ff/oreilly/radar/atom?a=TwH0QxFGOf8:11m83Vx95u4:7Q72WNTAKBA\"><img border=\"0\" src=\"http://feeds.feedburner.com/~ff/oreilly/radar/atom?d=7Q72WNTAKBA\" /></a> <a href=\"http://feeds.feedburner.com/~ff/oreilly/radar/atom?a=TwH0QxFGOf8:11m83Vx95u4:qj6IDK7rITs\"><img border=\"0\" src=\"http://feeds.feedburner.com/~ff/oreilly/radar/atom?d=qj6IDK7rITs\" /></a>\n",
      "</div><img alt=\"\" height=\"1\" src=\"http://feeds.feedburner.com/~r/oreilly/radar/atom/~4/TwH0QxFGOf8\" width=\"1\" />\n",
      "Signals from the O&#8217;Reilly Software Architecture Conference 2015\n",
      "http://feedproxy.google.com/~r/oreilly/radar/atom/~3/vEc48lKg5E4/highlights-oreilly-software-architecture-conference-2015.html\n",
      "<p>Experts from across the software architecture world came together in Boston for the <a href=\"http://softwarearchitecturecon.com/sa2015\">O'Reilly Software Architecture Conference 2015</a>. Below we've assembled notable keynotes, interviews, and insights from the event.</p>\n",
      "<h2>Software architects: post-\"post-useful\"</h2>\n",
      "<p>The old notion of a software architect being a non-coding, post-useful deep thinker is giving way to something far more interesting, says Neal Ford, software architect and meme wrangler at ThoughtWorks. \"Architecture has become much more interesting now because it's become more encompassing ... it's trying to solve real problems rather than play with abstractions.\"</p>\n",
      "<p><!--more--></p>\n",
      "<hr />\n",
      "<h2>Software development is an engineering discipline</h2>\n",
      "<p>\"Software development is like an art, and it is like a science, and it is like a craft, and it is a unique thing that's never existed before,\" says Glenn Vanderburg, chief architect of LivingSocial. \"That doesn't mean it's not also engineering. And we should think of it that way.\"</p>\n",
      "<p></p>\n",
      "<hr />\n",
      "<h2>A codebase that reflects your architectural intent</h2>\n",
      "<p>Linking software architecture with code requires collaboration from both sides, says independent consultant Simon Brown. Architects need to be on code teams and developers need to step back to see the bigger picture.</p>\n",
      "<p></p>\n",
      "<hr />\n",
      "<h2>Agile + architecture, not agile vs architecture</h2>\n",
      "<p>In exploring the relationship between software architecture and agile development, ThoughtWorks' Molly Dishman and Martin Fowler tackle two questions: 1. What is software architecture? 2. How do you ensure architecture is happening? </p>\n",
      "<p></p>\n",
      "<hr />\n",
      "<h2>Modern business has a new goal, which means it needs a new platform</h2>\n",
      "<p>Sam Ramji, CEO of the Cloud Foundry Foundation, outlines a vision for a cloud-native application platform that helps businesses shift from the old goal of sustainable competitive advantage to the modern goal of continuous innovation.</p>\n",
      "<p></p>\n",
      "<hr />\n",
      "<h2>\"Microservices\" might become a buzzword, but the underlying ideas are important</h2>\n",
      "<p>Microservices appear to be in a \"buzzword bingo\" phase, says NGINX evangelist and community leader Sarah Novotny, \"but attention is being paid to a very good architectural paradigm.\" Novotny also discusses the convergence of software architecture and DevOps, and the potential for microservices to shape organizational culture.</p>\n",
      "<p></p>\n",
      "<hr />\n",
      "<p>You can see more keynotes and interviews in our <a href=\"https://www.youtube.com/playlist?list=PL055Epbe6d5aFJdvWNtTeg_UEHZEHdInE\">O'Reilly Software Architecture Conference 2015 playlist</a>.</p>\n",
      "<div class=\"feedflare\">\n",
      "<a href=\"http://feeds.feedburner.com/~ff/oreilly/radar/atom?a=vEc48lKg5E4:iUzibc4WI-E:V_sGLiPBpWU\"><img border=\"0\" src=\"http://feeds.feedburner.com/~ff/oreilly/radar/atom?i=vEc48lKg5E4:iUzibc4WI-E:V_sGLiPBpWU\" /></a> <a href=\"http://feeds.feedburner.com/~ff/oreilly/radar/atom?a=vEc48lKg5E4:iUzibc4WI-E:yIl2AUoC8zA\"><img border=\"0\" src=\"http://feeds.feedburner.com/~ff/oreilly/radar/atom?d=yIl2AUoC8zA\" /></a> <a href=\"http://feeds.feedburner.com/~ff/oreilly/radar/atom?a=vEc48lKg5E4:iUzibc4WI-E:JEwB19i1-c4\"><img border=\"0\" src=\"http://feeds.feedburner.com/~ff/oreilly/radar/atom?i=vEc48lKg5E4:iUzibc4WI-E:JEwB19i1-c4\" /></a> <a href=\"http://feeds.feedburner.com/~ff/oreilly/radar/atom?a=vEc48lKg5E4:iUzibc4WI-E:7Q72WNTAKBA\"><img border=\"0\" src=\"http://feeds.feedburner.com/~ff/oreilly/radar/atom?d=7Q72WNTAKBA\" /></a> <a href=\"http://feeds.feedburner.com/~ff/oreilly/radar/atom?a=vEc48lKg5E4:iUzibc4WI-E:qj6IDK7rITs\"><img border=\"0\" src=\"http://feeds.feedburner.com/~ff/oreilly/radar/atom?d=qj6IDK7rITs\" /></a>\n",
      "</div><img alt=\"\" height=\"1\" src=\"http://feeds.feedburner.com/~r/oreilly/radar/atom/~4/vEc48lKg5E4\" width=\"1\" />\n",
      "A software engineer&#8217;s role traversal\n",
      "http://feedproxy.google.com/~r/oreilly/radar/atom/~3/C78-mjxoQ6E/a-software-engineers-role-traversal.html\n",
      "<p><img alt=\"jm_snake\" class=\"alignright size-full wp-image-74716\" height=\"348\" src=\"http://s.radar.oreilly.com/wp-files/2/2015/03/jm_snake.jpg\" width=\"244\" />\n",
      "<p>We often hear about how the tech job market is booming and has space for newcomers, but what does that mean for the developers already in the market?  In December of 2014, Fortune.com predicted that 2015 would be an <a href=\"http://fortune.com/2014/12/23/tech-job-trends-2015/\">excellent year for developers to change jobs</a>. Citing Dice.com, they note that jobs are popping up all over the country. In fact, Dice’s <a href=\"http://media.dice.com/report/december-2014-special-report-hiring-survey/\">survey</a> also reports 40% of hiring managers seeing voluntary departures, a higher number than was seen just six months earlier.</p>\n",
      "<p>These are all large, general numbers. What does a job change, and the changing market, look like for individual developers? To get a better sense, I spoke with Jason Myers, who is working on our upcoming <em><a href=\"http://shop.oreilly.com/product/0636920035800.do?intcmp=il-prog-books-videos-article-na_jmyers_es2e\">Essential SQLAlchemy, 2e</a></em> title.  Jason recently went from working for the email marketing service Emma, Inc., to working for networking giant Cisco. Here, he talks about how a change like that feels, and how the market looks to him.</p>\n",
      "<p><!--more--></p>\n",
      "<h2>How recently have you changed jobs?</h2>\n",
      "<p><strong>Jason Myers:</strong> I changed jobs just three weeks ago.</p>\n",
      "<h2>What was your previous title, and what is your new one?</h2>\n",
      "<p><strong>Jason Myers:</strong> My previous title was Systems Software Engineer and my current title is Software Engineer IV.</p>\n",
      "<h2>Do you feel it's a big change between the two roles?</h2>\n",
      "<p><strong>Jason Myers:</strong> It was quite a jump, I went from working primarily on Web and API development to work on OpenStack, CI/CD, and Linux deployment systems and installers. It was also a move from being on a smaller team in a 150 person company to a very large company. Finally, a move to working from home full-time.</p>\n",
      "<h2>What other titles have you held in your career?</h2>\n",
      "<p><strong>Jason Myers:</strong> I've been a Network Engineer, Network Design and Implementation Engineer, Systems Synergist, Manager of Information Services, Consultant, Principal Consultant, Business Consultant, Systems Architect, Intern, Software Developer, Software Engineer, Systems Software Engineer, Software Engineer IV.</p>\n",
      "<p>Titles do nothing for me personally.  I know they are often used to slot pay for a position, but I don't think much of them in the way of prestige.  I prefer to just be a developer who is known for his work ethic at work and in the community, and not my current title.</p>\n",
      "<h2>What made you want to make this move?</h2>\n",
      "<p><strong>Jason Myers:</strong> I've been following the OpenStack project for a while as it is a huge part of the Python world at the moment, and I've wanted to work for Cisco for quite some time.  I was a Systems Architect (Servers and Networking) for much of my professional career before switching to development.</p>\n",
      "<h2>Can you say more about moving from a small company?</h2>\n",
      "<p><strong>Jason Myers:</strong> I think the way people feel about that is going to vary a lot from person to person.  At a large company you are not as involved in each individual decision; however, that means you can focus more on the work in front of you.  It also leads to more opportunities for research. While smaller companies can tolerate some level of research, larger companies can enable bigger budgets for longer term research. They also can bring in talented engineers from other companies to talk to your staff and provide more opportunities for learning than just outside events.</p>\n",
      "<h2>Many industries seem to be becoming more tolerant of working from home, do you feel this is a positive move for your industry in particular?</h2>\n",
      "<p><strong>Jason Myers:</strong> I again think this is a personal preference to some level; however, I find the current open office design to be bad for both developer productivity and a historical record of conversation.  I find that when there is a remote centric workspace there tends to be more written communication and it is more asynchronous thus allowing you to respond when you take a break versus being interrupted in the middle of a thought stream.  I've seen this done well inside of offices as well, but it often leaves remote workers off of the impromptu meeting stream, which I think is bad.</p>\n",
      "<h2>Are job changes common?</h2>\n",
      "<p><strong>Jason Myers:</strong> I think it depends on the locale and the job market.  I've changed a few times in the past few years as my development career has advanced and/or the startup I was working for underwent some big changes.  I think it's fairly common because there is such a demand for development talent, and especially those that are known to deliver projects and be active in the community.</p>\n",
      "<h2>Do people make lateral moves, or do you see a willingness to try new languages/technologies?</h2>\n",
      "<p><strong>Jason Myers:</strong> I tend to see people staying within a particular language, but I do see a lot of people complementing that with additional languages, and the type of technologies they choose to work on varies greatly.  My view of this is probably skewed because I'm so embedded in Python. I don't think I've seen too many people make just plain lateral moves unless they where leaving a situation that wasn't right for them. In Nashville, there are a LOT of web development jobs in Python, but there is also data analysis, OpenStack, etc. What I like about Nashville is there isn't a bunch of language hate, and everyone seems to want to learn additional languages. We see a lot of interest in functional languages like Elixir and F# due to our great NashFP group.</p>\n",
      "<h2>What kind of resources are you aware of for developers making a career change?</h2>\n",
      "<p><strong>Jason Myers:</strong> There are millions of resources available for online MOOCs and bootcamps, etc.  None of those can compare to participating in the local developer community. I was a fixture at many meetups and events prior to my first official job as a developer.  This meant I knew people in the field I wanted to join.  I knew who I could meet for coffee to get a deeper understanding of something.  I had a cup of coffee with Cal Evans (famous PHP Cal), and that basically started my development career. In addition, those people can point you to how they learned or offer to teach you directly.</p>\n",
      "<p>One thing I want to stress though, is to get a project.  Don't just do tutorial after tutorial.  Until you have said I want to go build a thing without a guide, then put that thing live on the internet, and done it, you don't have a good picture of the actual work of a developer.</p>\n",
      "<h2>You organize PyTN, do you feel there are more beginners now, or has it stayed pretty steady?</h2>\n",
      "<p><strong>Jason Myers:</strong> There are a lot of beginners, and Nashville, like a lot of places, is hungry for mid to senior talent. Some of this is due to coding being the hot thing, and some of it is because that other fields aren't really hiring right now.  I'm glad we have this influx of beginners, and I hope they stay for the long haul.  However, I hope they continuously train because we need those mid to senior people to develop higher order solutions and help companies progress.  I'm not an idealist about open source, I know it takes money to get somewhere.</p>\n",
      "<h2>Would you consider moving to a completely different language/technology if the opportunity was interesting enough?</h2>\n",
      "<p><strong>Jason Myers:</strong> Absolutely, provided the community around that language/technology was supporting and open.  I gravitate towards Python because of the community and the need for it in our area, but previously I really enjoyed working in PHP and C#.  Languages and technologies are just tools for a developer, and given enough time they will ebb and flow through our career.</p>\n",
      "<p>I do not tend to just go jump on the hot new bandwagon. I like Node, and help organize a conference on it in Nashville. However, I don’t think I'd want to work full-time in that community until the rapid pace of change slows to a more maintainable state.  I feel like we have several stable and maintainable technologies and Node will be joining them very soon. Nonetheless, my background as a systems person means that I tend to think about how to actually support, tune, and mature a piece of code rather than rewrite it in a new language, until that rewrite is also maintainable and required.</p>\n",
      "<h2>Any final thoughts on the developer job market, or where you think it’s going?</h2>\n",
      "<p><strong>Jason Myers:</strong> I think the market is going to continue to be challenging for employers and great for developers.  There are still tons of beginners around filling that need, and I'm hoping more companies will pick them up, and devote resources to leveling them up more. It's still easy for mid to senior level engineers to move to other companies as they wish.</p>\n",
      "<p>However, my hope is that some stability occurs and there is less shuffle and a greater effort made to retaining that talent. As an older developer (I guess 35 is older), I'd love to see fewer developers demanding superficial perks, and more of them asking to have more time to contribute to the open source products we use, mentor young developers, and learning more about the space they occupy. All of those result in us growing as developers in more than just our coding skills.</p>\n",
      "<p>I'm not sure how preachy this sounds, so some might view it as... get off my lawn and be good humans.</p>\n",
      "<hr />\n",
      "<p><em>This post is part of our ongoing exploration into what it means to <a href=\"http://radar.oreilly.com/tag/be-a-software-engineer\">actually be a software engineer</a>.</em></p>\n",
      "<p><em>Public domain snake illustration via <a href=\"https://www.flickr.com/photos/internetarchivebookimages/14591327710\">Internet Archive</a>.</em></p>\n",
      "<div class=\"feedflare\">\n",
      "<a href=\"http://feeds.feedburner.com/~ff/oreilly/radar/atom?a=C78-mjxoQ6E:vUvwQbzlfXc:V_sGLiPBpWU\"><img border=\"0\" src=\"http://feeds.feedburner.com/~ff/oreilly/radar/atom?i=C78-mjxoQ6E:vUvwQbzlfXc:V_sGLiPBpWU\" /></a> <a href=\"http://feeds.feedburner.com/~ff/oreilly/radar/atom?a=C78-mjxoQ6E:vUvwQbzlfXc:yIl2AUoC8zA\"><img border=\"0\" src=\"http://feeds.feedburner.com/~ff/oreilly/radar/atom?d=yIl2AUoC8zA\" /></a> <a href=\"http://feeds.feedburner.com/~ff/oreilly/radar/atom?a=C78-mjxoQ6E:vUvwQbzlfXc:JEwB19i1-c4\"><img border=\"0\" src=\"http://feeds.feedburner.com/~ff/oreilly/radar/atom?i=C78-mjxoQ6E:vUvwQbzlfXc:JEwB19i1-c4\" /></a> <a href=\"http://feeds.feedburner.com/~ff/oreilly/radar/atom?a=C78-mjxoQ6E:vUvwQbzlfXc:7Q72WNTAKBA\"><img border=\"0\" src=\"http://feeds.feedburner.com/~ff/oreilly/radar/atom?d=7Q72WNTAKBA\" /></a> <a href=\"http://feeds.feedburner.com/~ff/oreilly/radar/atom?a=C78-mjxoQ6E:vUvwQbzlfXc:qj6IDK7rITs\"><img border=\"0\" src=\"http://feeds.feedburner.com/~ff/oreilly/radar/atom?d=qj6IDK7rITs\" /></a>\n",
      "</div><img alt=\"\" height=\"1\" src=\"http://feeds.feedburner.com/~r/oreilly/radar/atom/~4/C78-mjxoQ6E\" width=\"1\" />\n",
      "The magic design sauce: curiosity and serendipity\n",
      "http://feedproxy.google.com/~r/oreilly/radar/atom/~3/cotJlUR6FDA/the-magic-design-sauce-curiosity-and-serendipity.html\n",
      "<p><a href=\"https://www.flickr.com/photos/taedc/6584732729\"><img alt=\"Sriracha_sauce_Ted_Eytan_Flickr\" class=\"aligncenter size-full wp-image-74887\" height=\"250\" src=\"http://s.radar.oreilly.com/wp-files/2/2015/03/Sriracha_sauce_Ted_Eytan_Flickr.jpg\" width=\"620\" /></a><br />\n",
      "I recently sat down with <a href=\"https://twitter.com/khoi\">Khoi Vinh</a>, vice president of user experience at <a href=\"http://trywildcard.com\">Wildcard</a> and co-founder of <a href=\"http://kidpost.net\">Kidpost</a>. Previously, Vinh was co-founder and CEO of <a href=\"http://www.subtraction.com/2011/11/10/introducing-mixel\">Mixel</a> (acquired by Etsy, Inc.), <a href=\"http://www.subtraction.com/2005/12/29/breaking-new\">design director</a> of The New York Times Online, and co-founder of the design studio <a href=\"http://www.behaviordesign.com/\">Behavior, LLC</a>. Our conversation included a discussion of career paths; the much talked about new interaction model, cards; and advice for design entrepreneurs.</p>\n",
      "<h2>Curiosity serves designers well</h2>\n",
      "<p>Vinh and I discussed the ever-evolving role of designers. He recently self-published <a href=\"http://howtheygotthere.us/\"><em>How They Got There</em></a>, a book of interviews with interaction designers who describe their career paths and offer advice and insight. Vinh explained:</p>\n",
      "<blockquote><p>\"<em>How They Got There</em> is kind of like the book I wish I could have read when I was just starting out in my career. The central thesis is that very few careers are truly planned out, A to B, to C, to Z, and it's usually a lot of stuff that just happens by circumstance or blind luck, or through someone who knows someone.</p>\n",
      "<p>\"As I became more and more aware of that in my career, I started to find those stories really interesting, really revealing, because they say so much about the character of people who achieve notoriety in their careers; the circumstances that led them to where they are can be fascinating. In a lot of instances, the things that get these people onto these paths are very, very minor events or minor coincidences. … There's a serendipity, but I think, one thing that comes out when you read these stories is what serves these designers really well is curiosity, a willingness to be available to opportunities, so to speak. They go with the flow. They let one thing turn into another through their ability to acclimate themselves to various situations.</p>\n",
      "<p>\"What's that old saying from <a href=\"http://en.wikipedia.org/wiki/Branch_Rickey\">Branch Rickey</a> &mdash; “luck is the residue of design”? These careers are somewhat serendipitous, but they are really the result of folks who are very conscientious about making the most of whatever situation they had and working really hard and applying themselves, and looking at the world around them with great curiosity and being really willing to study what it takes to get to the next level.”</p></blockquote>\n",
      "<p><!--more--></p>\n",
      "<h2>Reinventing the mobile Web, one card at a time</h2>\n",
      "<p>Vinh is working on creating the next generation of the mobile Web with his company Wildcard.</p>\n",
      "<p>Cards, the emerging interaction model perhaps made most famous by Tinder, provide a faster, efficient, and &mdash; some would say &mdash; more natural way of accessing and interacting with information. Vinh has a <a href=\"http://www.subtraction.com/2014/07/01/stacking-the-card-deck/\">post</a> that includes a presentation from <a href=\"https://twitter.com/christse\">Chris Tse</a> on just what cards are. (<a href=\"https://vimeo.com/120858063\">Here’s another great talk</a> by Chris Tse.) In our conversation, Vinh shared Wildcard’s goals and vision:</p>\n",
      "<blockquote><p>“The high-level message here is, we're trying to build a better mobile Web. Our belief is that the metaphor of pages for navigating the Internet worked really well on the desktop Web, but when it comes to your phone, navigating pages can be really painful and inefficient. That's why the mobile browser on your phone, whether it's Safari or Chrome, or even mobile Firefox, it's probably the least loved of the apps on your phone relative to how often you use it. That's because Web pages on a phone are slow, they're not particularly robust, they're constantly reloading &mdash; they're fragile.</p>\n",
      "<p>\"We want to bring a native-app level of richness in terms of interactivity and responsiveness, and robustness to the mobile Web; we want you to be able to call upon that kind of functionality on the fly without having to download a big native app from one of the app stores to do that. I think that's one of the fundamental drawbacks of the native app ecosystem.</p>\n",
      "<p>\"We're kind of trying to forge a third path, where we have our browser, it's a native browser on iOS, you open it up and you can type in a brand or a publisher and grab just the content that you need from their website; we'll pull it up and format it into what we call cards, which are standard and very fast &mdash; they're built on native code, and they give you this access without all of the performance penalties of a Web browser. We're working to create an index of countless cards both on our servers and also trying to work with publishers and merchants and brands out there to 'cardify' their content so that there's a rich Internet of cards to call upon. That's the big vision of what we're trying to do.”</p></blockquote>\n",
      "<h2>Advice for designer-founders</h2>\n",
      "<p>More and more, we’re seeing designers start their own companies. Vinh talked about the mix of skills needed for any designer-founder to have a shot at success:</p>\n",
      "<p>“It's more likely that a designer will start a company today than at any time before. I think that's really, really wonderful because it signals that design is more necessary than ever, and if you have strong design skills, you have a better chance of making a successful business now than you did in the past 10 or 20 years. I think the call for designers to become founders, on the whole, is a good thing, but I think designers really have to understand what it means to become a founder and to take on the challenge of building a company, not just building a product or just designing a product. I think that's a really important distinction that can be hard for a lot of designers to traverse. Understanding all of the implications of being responsible for a company, not just being responsible for a design, really understanding that making sure that company survives from day-to-day, week-to-week, month-to-month is a whole different challenge. Design can be a big part of that and can really help it, but it's not always the complete solution. I think that's important for designers, especially young designers, to understand as the drumbeat of designers becoming founders gets louder every year.”</p>\n",
      "<p></p>\n",
      "<p>You can listen to the entire interview on the SoundCloud player above or on <a href=\"https://soundcloud.com/oreilly-radar\">our SoundCloud stream</a>.</p>\n",
      "<p><em>This interview is part of our ongoing investigations into <a href=\"http://radar.oreilly.com/tag/experience-design-and-business\">Experience Design and Business</a> and <a href=\"http://radar.oreilly.com/tag/experience-design-and-the-internet-of-things\">Experience Design and the Internet of Things</a>.</em></p>\n",
      "<p><em>Cropped image on article and category pages by <a href=\"https://www.flickr.com/photos/taedc/6584732729\">Ted Eytan on Flickr</a>, used under a <a href=\"https://www.flickr.com/photos/taedc/6584732729\">Creative Commons license</a>.</em></p>\n",
      "<div class=\"feedflare\">\n",
      "<a href=\"http://feeds.feedburner.com/~ff/oreilly/radar/atom?a=cotJlUR6FDA:udNjvuX6GMM:V_sGLiPBpWU\"><img border=\"0\" src=\"http://feeds.feedburner.com/~ff/oreilly/radar/atom?i=cotJlUR6FDA:udNjvuX6GMM:V_sGLiPBpWU\" /></a> <a href=\"http://feeds.feedburner.com/~ff/oreilly/radar/atom?a=cotJlUR6FDA:udNjvuX6GMM:yIl2AUoC8zA\"><img border=\"0\" src=\"http://feeds.feedburner.com/~ff/oreilly/radar/atom?d=yIl2AUoC8zA\" /></a> <a href=\"http://feeds.feedburner.com/~ff/oreilly/radar/atom?a=cotJlUR6FDA:udNjvuX6GMM:JEwB19i1-c4\"><img border=\"0\" src=\"http://feeds.feedburner.com/~ff/oreilly/radar/atom?i=cotJlUR6FDA:udNjvuX6GMM:JEwB19i1-c4\" /></a> <a href=\"http://feeds.feedburner.com/~ff/oreilly/radar/atom?a=cotJlUR6FDA:udNjvuX6GMM:7Q72WNTAKBA\"><img border=\"0\" src=\"http://feeds.feedburner.com/~ff/oreilly/radar/atom?d=7Q72WNTAKBA\" /></a> <a href=\"http://feeds.feedburner.com/~ff/oreilly/radar/atom?a=cotJlUR6FDA:udNjvuX6GMM:qj6IDK7rITs\"><img border=\"0\" src=\"http://feeds.feedburner.com/~ff/oreilly/radar/atom?d=qj6IDK7rITs\" /></a>\n",
      "</div><img alt=\"\" height=\"1\" src=\"http://feeds.feedburner.com/~r/oreilly/radar/atom/~4/cotJlUR6FDA\" width=\"1\" />\n",
      "Four short links: 18 March 2015\n",
      "http://feedproxy.google.com/~r/oreilly/radar/atom/~3/-CJkIPYfiR0/four-short-links-18-march-2015.html\n",
      "<ol>\n",
      "<li><a href=\"https://medium.com/backchannel/how-to-make-moonshots-65845011a277\">How to Make Moonshots</a> (Astro Teller) -- <i>Expecting a person to be a reliable backup for the [self-driving car] system was a fallacy. Once people trust the system, they trust it. Our success was itself a failure. We came quickly to the conclusion that we needed to make it clear to ourselves that the human was not a reliable backup — the car had to always be able to handle the situation. And the best way to make that clear was to design a car with no steering wheel — a car that could drive itself all of the time, from point A to point B, at the push of a button.</i></li>\n",
      "<li><a href=\"http://www.bloomberg.com/news/articles/2015-03-17/the-fuzzy-insane-math-that-s-creating-so-many-billion-dollar-tech-companies\">Billion-Dollar Math</a> (Bloomberg) -- <i>There's a new buzzword, \"decacorn,\" for those over $10 billion, which includes Airbnb, Dropbox, Pinterest, Snapchat, and Uber. It's a made-up word based on a creature that doesn't exist. “If you wake up in a room full of unicorns, you are dreaming,\" Todd Dagres, a founding partner at Spark Capital, recently told Bloomberg News.</i> Not just cute seeing our industry explained to the unwashed, but it's the first time I'd seen decacorn. (The weather's just dandy in my cave, thanks for asking).</li>\n",
      "<li><a href=\"http://firstround.com/review/this-is-what-impactful-engineering-leadership-looks-like/\">What Impactful Engineering Leadership Looks Like</a> -- aside from the ugliness of \"impactful,\" notable for good advice. <i>\"When engineering management is done right, you're focusing on three big things,\" she says. \"You're directly supporting the people on your team; you're managing execution and coordination across teams; and you're stepping back to observe and evolve the broader organization and its processes as it grows.\" </i></li>\n",
      "<li><a href=\"https://github.com/dmlc/cxxnet\">cxxnet</a> -- <i>\"a fast, concise, distributed deep learning framework\"</i> that <i>scales beyond a single GPU</i>.</li>\n",
      "</ol>\n",
      "<div class=\"feedflare\">\n",
      "<a href=\"http://feeds.feedburner.com/~ff/oreilly/radar/atom?a=-CJkIPYfiR0:b12K1KBHoMo:V_sGLiPBpWU\"><img border=\"0\" src=\"http://feeds.feedburner.com/~ff/oreilly/radar/atom?i=-CJkIPYfiR0:b12K1KBHoMo:V_sGLiPBpWU\" /></a> <a href=\"http://feeds.feedburner.com/~ff/oreilly/radar/atom?a=-CJkIPYfiR0:b12K1KBHoMo:yIl2AUoC8zA\"><img border=\"0\" src=\"http://feeds.feedburner.com/~ff/oreilly/radar/atom?d=yIl2AUoC8zA\" /></a> <a href=\"http://feeds.feedburner.com/~ff/oreilly/radar/atom?a=-CJkIPYfiR0:b12K1KBHoMo:JEwB19i1-c4\"><img border=\"0\" src=\"http://feeds.feedburner.com/~ff/oreilly/radar/atom?i=-CJkIPYfiR0:b12K1KBHoMo:JEwB19i1-c4\" /></a> <a href=\"http://feeds.feedburner.com/~ff/oreilly/radar/atom?a=-CJkIPYfiR0:b12K1KBHoMo:7Q72WNTAKBA\"><img border=\"0\" src=\"http://feeds.feedburner.com/~ff/oreilly/radar/atom?d=7Q72WNTAKBA\" /></a> <a href=\"http://feeds.feedburner.com/~ff/oreilly/radar/atom?a=-CJkIPYfiR0:b12K1KBHoMo:qj6IDK7rITs\"><img border=\"0\" src=\"http://feeds.feedburner.com/~ff/oreilly/radar/atom?d=qj6IDK7rITs\" /></a>\n",
      "</div><img alt=\"\" height=\"1\" src=\"http://feeds.feedburner.com/~r/oreilly/radar/atom/~4/-CJkIPYfiR0\" width=\"1\" />\n",
      "Let’s build open source tensor libraries for data science\n",
      "http://feedproxy.google.com/~r/oreilly/radar/atom/~3/ht1iN8Yhdt8/lets-build-open-source-tensor-libraries-for-data-science.html\n",
      "<p><a href=\"https://www.flickr.com/photos/scarygami/4316806619\"><img alt=\"Rubik&#039;s_cube_collection_Gerwin_Sturm_Flickr\" class=\"aligncenter size-full wp-image-74856\" height=\"250\" src=\"http://s.radar.oreilly.com/wp-files/2/2015/03/Rubiks_cube_collection_Gerwin_Sturm_Flickr.jpg\" width=\"620\" /></a></p>\n",
      "<p>Data scientists frequently find themselves dealing with high-dimensional feature spaces. As an example, text mining usually involves vocabularies comprised of 10,000+ different words. Many analytic problems involve linear algebra, particularly 2D matrix factorization techniques, for which several open source implementations are available. Anyone working on implementing machine learning algorithms ends up needing a good library for matrix analysis and operations.</p>\n",
      "<p>But why stop at 2D representations? In a recent <a href=\"http://strataconf.com/big-data-conference-ca-2015/public/schedule/detail/39352\">Strata + Hadoop World San Jose presentation</a>, UC Irvine professor <a href=\"http://newport.eecs.uci.edu/anandkumar/\">Anima Anandkumar</a> described how techniques developed for higher-dimensional arrays can be applied to machine learning. <em>Tensors</em> are generalizations of matrices that let you look <a href=\"http://www.cs.cornell.edu/CV/TenWork/FinalReport.pdf\">beyond pairwise relationships to higher-dimensional models</a> (a matrix is a second-order tensor). For instance, one can examine patterns between any three (or more) dimensions in data sets. In a text mining application, this leads to models that incorporate the co-occurrence of three or more words, and in social networks, you can use tensors to encode arbitrary degrees of influence (e.g., “friend of friend of friend” of a user).</p>\n",
      "<p>Being able to capture higher-order relationships proves to be quite useful. In her talk, Anandkumar described applications to <a href=\"http://en.wikipedia.org/wiki/Latent_variable_model\">latent variable models</a> &mdash; including text mining (topic models), information science (social network analysis), recommender systems, and deep neural networks. A natural entry point for applications is to look at generalizations of matrix (2D) techniques to higher-dimensional arrays.<!--more--> For example, the image that follows is an attempt to illustrate one form of <a href=\"http://en.wikipedia.org/wiki/Eigendecomposition_of_a_matrix\">eigen decomposition</a>:</p>\n",
      "<p>[caption id=\"attachment_74836\" align=\"aligncenter\" width=\"570\"]<img alt=\"spectral-tensors\" class=\"size-full wp-image-74836\" height=\"287\" src=\"http://s.radar.oreilly.com/wp-files/2/2015/03/spectral-tensors.jpg\" width=\"570\" /> <em>Spectral decomposition of tensors. Source: Anima Anandkumar, used with permission.</em><br />[/caption]</p>\n",
      "<h2>Tensor methods are accurate and embarrassingly parallel</h2>\n",
      "<p>Latent variable models and deep neural networks can be solved using other methods, including maximum likelihood and local search techniques (gradient descent, variational inference, <a href=\"http://en.wikipedia.org/wiki/Expectation%E2%80%93maximization_algorithm\">EM</a>). So, why use tensors at all? Unlike variational inference and <a href=\"http://en.wikipedia.org/wiki/Expectation%E2%80%93maximization_algorithm\">EM</a>, tensor methods produce global and not local optima, under reasonable conditions. In her talk, Anandkumar described some recent examples &mdash; topic models and social network analysis &mdash; where tensor methods proved to be <em>faster</em> and <em>more accurate</em> than other methods.</p>\n",
      "<p>[caption id=\"attachment_74838\" align=\"aligncenter\" width=\"570\"]<img alt=\"tensors-social-network-results\" class=\"size-full wp-image-74838\" height=\"371\" src=\"http://s.radar.oreilly.com/wp-files/2/2015/03/tensors-social-network-results.jpg\" width=\"570\" /> <em>Error rates &amp; recovery ratios from <a href=\"http://newport.eecs.uci.edu/anandkumar/pubs/Huang_etal_communities_GPU.pdf\">recent community detection experiments</a>  (running time measured in seconds). Source: Anima Anandkumar, used with permission.</em>[/caption]</p>\n",
      "<p>Scalability is another important reason why tensors are generating interest. Tensor decomposition algorithms have been <a href=\"http://arxiv.org/abs/1309.0787\">parallelized using GPUs</a>, and more recently <a href=\"http://opt-ml.org/papers/opt2014_submission_15.pdf\">using Apache REEF</a> (a <em>distributed</em> framework <a href=\"http://reef.incubator.apache.org/\">originally developed by Microsoft</a>). To summarize, early results are promising (in terms of speed and accuracy), and implementations in distributed systems lead to algorithms that scale to extremely large data sets.</p>\n",
      "<p>[caption id=\"attachment_74837\" align=\"aligncenter\" width=\"570\"]<img alt=\"tensors-and-machine-learning\" class=\"size-full wp-image-74837\" height=\"257\" src=\"http://s.radar.oreilly.com/wp-files/2/2015/03/tensors-and-machine-learning.jpg\" width=\"570\" /> <em>General framework. Source: Anima Anandkumar, used with permission.</em>[/caption]</p>\n",
      "<h2>Hierarchical decomposition models</h2>\n",
      "<p>Their ability to model multi-way relationships make tensor methods particularly useful for uncovering hierarchical structures in high-dimensional data sets. <a href=\"http://arxiv.org/abs/1406.4566\">In a recent paper, Anandkumar and her collaborators</a> automatically found patterns and “...concepts reflecting co-occurrences of particular diagnoses in patients in outpatient and intensive care settings.”</p>\n",
      "<h2>Why aren’t tensors more popular?</h2>\n",
      "<p>If they’re faster, more accurate, and embarrassingly parallel, why haven’t tensor methods become more common? It comes down to libraries. Just as matrix libraries are needed to implement many machine learning algorithms, open source libraries for tensor analysis need to become more common. While it’s true that tensor computations are more demanding than matrix algorithms, recent improvements in parallel and distributed computing systems have made tensor techniques feasible.</p>\n",
      "<p>There are some early libraries for tensor analysis in <a href=\"http://www.sandia.gov/~tgkolda/TensorToolbox/index-2.6.html\">MATLAB</a>, Python, <a href=\"https://www.facebook.com/Engineering/posts/10152495827632200\">TH++ from Facebook</a>, and many <a href=\"http://en.wikipedia.org/wiki/Tensor_software\">others from the scientific computing community</a>. For applications to machine learning, software tools that include tensor <em>decomposition</em> methods are essential. As a first step, Anandkumar and her UC Irvine colleagues have released code for tensor methods for <a href=\"https://bitbucket.org/megaDataLab/tensormethodsforml\">topic modeling</a> and <a href=\"https://github.com/FurongHuang/Fast-Detection-of-Overlapping-Communities-via-Online-Tensor-Methods\">social network modeling</a> that run on single servers.</p>\n",
      "<p>But for data scientists to embrace these techniques, we’ll need well-developed libraries accessible from the <a href=\"http://radar.oreilly.com/2013/12/data-scientists-and-data-engineers-like-python-and-scala.html\">languages (Python, R, Java, Scala)</a> and frameworks (Apache Spark) we’re already already familiar with. (Coincidentally, Spark developers just recently <a href=\"http://spark.apache.org/docs/1.2.0/mllib-data-types.html#distributed-matrix\">introduced <em>distributed</em> matrices</a>.)</p>\n",
      "<p>It’s fun to see a tool that I first encountered in math and physics courses having an impact in machine learning. But the primary reason I’m writing this post is to get readers excited enough to build open source tensor (decomposition) libraries. Once these basic libraries are in place, tensor-based algorithms become easier to implement. Anandkumar and her collaborators are in the early stages of porting some of their code to Apache Spark, and I’m hoping other groups will jump into the fray.</p>\n",
      "<p><em>To view Anima Anandkumar’s talk at Strata + Hadoop World in San Jose, <a href=\"http://strataconf.com/big-data-conference-ca-2015/public/schedule/detail/39352\">Tensor Methods for Large-scale Unsupervised Learning: Applications to Topic and Community Modeling</a>, sign-up for a <a href=\"https://www.safaribooksonline.com/#trial?intcmp=il-data-na-lp-na_20150313_radar_ben_lorica_tensor_method_post\">free trial of Safari Books Online</a>.</em></p>\n",
      "<p><em>Cropped image on article and category pages by <a href=\"https://www.flickr.com/photos/scarygami/4316806619\">Gerwin Sturm on Flickr</a>, used under a <a href=\"https://creativecommons.org/licenses/by-sa/2.0/\">Creative Commons license</a>.</em></p>\n",
      "<div class=\"feedflare\">\n",
      "<a href=\"http://feeds.feedburner.com/~ff/oreilly/radar/atom?a=ht1iN8Yhdt8:fNhepjGh_mg:V_sGLiPBpWU\"><img border=\"0\" src=\"http://feeds.feedburner.com/~ff/oreilly/radar/atom?i=ht1iN8Yhdt8:fNhepjGh_mg:V_sGLiPBpWU\" /></a> <a href=\"http://feeds.feedburner.com/~ff/oreilly/radar/atom?a=ht1iN8Yhdt8:fNhepjGh_mg:yIl2AUoC8zA\"><img border=\"0\" src=\"http://feeds.feedburner.com/~ff/oreilly/radar/atom?d=yIl2AUoC8zA\" /></a> <a href=\"http://feeds.feedburner.com/~ff/oreilly/radar/atom?a=ht1iN8Yhdt8:fNhepjGh_mg:JEwB19i1-c4\"><img border=\"0\" src=\"http://feeds.feedburner.com/~ff/oreilly/radar/atom?i=ht1iN8Yhdt8:fNhepjGh_mg:JEwB19i1-c4\" /></a> <a href=\"http://feeds.feedburner.com/~ff/oreilly/radar/atom?a=ht1iN8Yhdt8:fNhepjGh_mg:7Q72WNTAKBA\"><img border=\"0\" src=\"http://feeds.feedburner.com/~ff/oreilly/radar/atom?d=7Q72WNTAKBA\" /></a> <a href=\"http://feeds.feedburner.com/~ff/oreilly/radar/atom?a=ht1iN8Yhdt8:fNhepjGh_mg:qj6IDK7rITs\"><img border=\"0\" src=\"http://feeds.feedburner.com/~ff/oreilly/radar/atom?d=qj6IDK7rITs\" /></a>\n",
      "</div><img alt=\"\" height=\"1\" src=\"http://feeds.feedburner.com/~r/oreilly/radar/atom/~4/ht1iN8Yhdt8\" width=\"1\" />\n",
      "Four short links: 17 March 2015\n",
      "http://feedproxy.google.com/~r/oreilly/radar/atom/~3/VM-n8kpcHpU/four-short-links-17-march-2015.html\n",
      "<ol>\n",
      "<li><a href=\"http://sirius.clarity-lab.org/\">Sirius</a> -- UMich <a href=\"https://github.com/jhauswald/sirius\">open source</a> \"intelligent Personal Assistant\" (aka Siri, Cortana, Google Now, etc.).  Text recognition, image recognition, query processing components.  They hope it'll be a focal point for research in the area, the way that open source operating systems have focused university research.</li>\n",
      "<li><a href=\"http://spectrum.ieee.org/automaton/robotics/artificial-intelligence/mit-dragonbot-evolving-to-better-teach-kids\">MIT DragonBot Evolving to Teach Kids</a> (IEEE Spectrum) -- they're moving from \"Wizard of Oz\" (humans-behind-the-scenes) control to autonomous operation. Lovely example of Flintstoning in a robotics context.</li>\n",
      "<li><a href=\"http://robohub.org/why-are-jibo-pepper-siri-google-now-and-cortana-so-important/\">Personal Assistants Coming</a> (Robohub) -- <i>2015 is the year physical products will be coming to market and available for experimentation and testing. Pepper ships in the summer in Japan, JIBO ships preorders in Q3, as does Cubic in the fall and EmoSpark in the summer. [...]The key to the outcome of this race is whether a general purpose AI will be able to steer people through their digital world, or whether users would rather navigate to applications that are specialists (such as American Airlines or Dominos Pizza).</i></li>\n",
      "<li><a href=\"http://yellerapp.com/posts/2015-03-16-incuriosity-killed-the-infrastructure.html\">Incuriosity Killed the Infrastructure</a> -- <i>being actively curious about “fishy” things will lead to a more stable and happy infrastructure.</i></li>\n",
      "</ol>\n",
      "<div class=\"feedflare\">\n",
      "<a href=\"http://feeds.feedburner.com/~ff/oreilly/radar/atom?a=VM-n8kpcHpU:OoQsGVhxZPg:V_sGLiPBpWU\"><img border=\"0\" src=\"http://feeds.feedburner.com/~ff/oreilly/radar/atom?i=VM-n8kpcHpU:OoQsGVhxZPg:V_sGLiPBpWU\" /></a> <a href=\"http://feeds.feedburner.com/~ff/oreilly/radar/atom?a=VM-n8kpcHpU:OoQsGVhxZPg:yIl2AUoC8zA\"><img border=\"0\" src=\"http://feeds.feedburner.com/~ff/oreilly/radar/atom?d=yIl2AUoC8zA\" /></a> <a href=\"http://feeds.feedburner.com/~ff/oreilly/radar/atom?a=VM-n8kpcHpU:OoQsGVhxZPg:JEwB19i1-c4\"><img border=\"0\" src=\"http://feeds.feedburner.com/~ff/oreilly/radar/atom?i=VM-n8kpcHpU:OoQsGVhxZPg:JEwB19i1-c4\" /></a> <a href=\"http://feeds.feedburner.com/~ff/oreilly/radar/atom?a=VM-n8kpcHpU:OoQsGVhxZPg:7Q72WNTAKBA\"><img border=\"0\" src=\"http://feeds.feedburner.com/~ff/oreilly/radar/atom?d=7Q72WNTAKBA\" /></a> <a href=\"http://feeds.feedburner.com/~ff/oreilly/radar/atom?a=VM-n8kpcHpU:OoQsGVhxZPg:qj6IDK7rITs\"><img border=\"0\" src=\"http://feeds.feedburner.com/~ff/oreilly/radar/atom?d=qj6IDK7rITs\" /></a>\n",
      "</div><img alt=\"\" height=\"1\" src=\"http://feeds.feedburner.com/~r/oreilly/radar/atom/~4/VM-n8kpcHpU\" width=\"1\" />\n"
     ]
    }
   ],
   "source": [
    "import feedparser\n",
    "\n",
    "FEED_URL='http://feeds.feedburner.com/oreilly/radar/atom'\n",
    "\n",
    "fp = feedparser.parse(FEED_URL)\n",
    "\n",
    "for e in fp.entries:\n",
    "    print e.title\n",
    "    print e.links[0].href\n",
    "    print e.content[0].value"
   ]
  },
  {
   "cell_type": "code",
   "execution_count": 7,
   "metadata": {
    "collapsed": true
   },
   "outputs": [],
   "source": [
    "# Example 3. Pseudocode for a breadth-first search"
   ]
  },
  {
   "cell_type": "code",
   "execution_count": null,
   "metadata": {
    "collapsed": true
   },
   "outputs": [],
   "source": [
    "Create an empty graph\n",
    "Create an empty queue to keep track of nodes that need to be processed\n",
    "\n",
    "Add the starting point to the graph as the root node\n",
    "Add the root node to a queue for processing\n",
    "\n",
    "Repeat until some maximum depth is reached or the queue is empty:\n",
    "  Remove a node from the queue \n",
    "  For each of the node's neighbors: \n",
    "    If the neighbor hasn't already been processed: \n",
    "      Add it to the queue \n",
    "      Add it to the graph \n",
    "      Create an edge in the graph that connects the node and its neighbor"
   ]
  },
  {
   "cell_type": "code",
   "execution_count": 9,
   "metadata": {
    "collapsed": true
   },
   "outputs": [],
   "source": [
    "# Naive sentence detection based on periods"
   ]
  },
  {
   "cell_type": "code",
   "execution_count": 10,
   "metadata": {
    "collapsed": false
   },
   "outputs": [
    {
     "name": "stdout",
     "output_type": "stream",
     "text": [
      "['Mr', ' Green killed Colonel Mustard in the study with the candlestick', ' Mr', ' Green is not a very nice fellow', '']\n"
     ]
    }
   ],
   "source": [
    "txt = \"Mr. Green killed Colonel Mustard in the study with the candlestick. Mr. Green is not a very nice fellow.\"\n",
    "print txt.split(\".\")"
   ]
  },
  {
   "cell_type": "code",
   "execution_count": 11,
   "metadata": {
    "collapsed": true
   },
   "outputs": [],
   "source": [
    "# More sophisticated sentence detection"
   ]
  },
  {
   "cell_type": "code",
   "execution_count": 13,
   "metadata": {
    "collapsed": false
   },
   "outputs": [
    {
     "name": "stdout",
     "output_type": "stream",
     "text": [
      "['Mr. Green killed Colonel Mustard in the study with the candlestick.', 'Mr. Green is not a very nice fellow.']\n"
     ]
    }
   ],
   "source": [
    "import nltk\n",
    "\n",
    "# Downloading nltk packages used in this example\n",
    "#nltk.download('punkt')\n",
    "\n",
    "sentences = nltk.tokenize.sent_tokenize(txt)\n",
    "print sentences"
   ]
  },
  {
   "cell_type": "code",
   "execution_count": null,
   "metadata": {
    "collapsed": true
   },
   "outputs": [],
   "source": [
    "#Tokenization of sentences"
   ]
  },
  {
   "cell_type": "code",
   "execution_count": 14,
   "metadata": {
    "collapsed": false
   },
   "outputs": [
    {
     "name": "stdout",
     "output_type": "stream",
     "text": [
      "[['Mr.', 'Green', 'killed', 'Colonel', 'Mustard', 'in', 'the', 'study', 'with', 'the', 'candlestick', '.'], ['Mr.', 'Green', 'is', 'not', 'a', 'very', 'nice', 'fellow', '.']]\n"
     ]
    }
   ],
   "source": [
    "tokens = [nltk.tokenize.word_tokenize(s) for s in sentences]\n",
    "print tokens"
   ]
  },
  {
   "cell_type": "code",
   "execution_count": 15,
   "metadata": {
    "collapsed": true
   },
   "outputs": [],
   "source": [
    "#Part of speech tagging for tokens"
   ]
  },
  {
   "cell_type": "code",
   "execution_count": 16,
   "metadata": {
    "collapsed": false
   },
   "outputs": [
    {
     "name": "stdout",
     "output_type": "stream",
     "text": [
      "[nltk_data] Downloading package maxent_treebank_pos_tagger to\n",
      "[nltk_data]     /Users/moodern/nltk_data...\n",
      "[nltk_data]   Package maxent_treebank_pos_tagger is already up-to-\n",
      "[nltk_data]       date!\n",
      "[[('Mr.', 'NNP'), ('Green', 'NNP'), ('killed', 'VBD'), ('Colonel', 'NNP'), ('Mustard', 'NNP'), ('in', 'IN'), ('the', 'DT'), ('study', 'NN'), ('with', 'IN'), ('the', 'DT'), ('candlestick', 'NN'), ('.', '.')], [('Mr.', 'NNP'), ('Green', 'NNP'), ('is', 'VBZ'), ('not', 'RB'), ('a', 'DT'), ('very', 'RB'), ('nice', 'JJ'), ('fellow', 'JJ'), ('.', '.')]]\n"
     ]
    }
   ],
   "source": [
    "# Downloading nltk packages used in this example\n",
    "nltk.download('maxent_treebank_pos_tagger')\n",
    "\n",
    "pos_tagged_tokens = [nltk.pos_tag(t) for t in tokens]\n",
    "print pos_tagged_tokens"
   ]
  },
  {
   "cell_type": "code",
   "execution_count": null,
   "metadata": {
    "collapsed": true
   },
   "outputs": [],
   "source": []
  }
 ],
 "metadata": {
  "kernelspec": {
   "display_name": "Python 2",
   "language": "python",
   "name": "python2"
  },
  "language_info": {
   "codemirror_mode": {
    "name": "ipython",
    "version": 2
   },
   "file_extension": ".py",
   "mimetype": "text/x-python",
   "name": "python",
   "nbconvert_exporter": "python",
   "pygments_lexer": "ipython2",
   "version": "2.7.6"
  }
 },
 "nbformat": 4,
 "nbformat_minor": 0
}
