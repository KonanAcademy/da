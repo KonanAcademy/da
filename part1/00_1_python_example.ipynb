{
 "metadata": {
  "name": "",
  "signature": "sha256:935a6ea63405aaf94313fcd6c73b165fca63c76f868f39d54c7eb1398abd4cc9"
 },
 "nbformat": 3,
 "nbformat_minor": 0,
 "worksheets": [
  {
   "cells": [
    {
     "cell_type": "heading",
     "level": 1,
     "metadata": {},
     "source": [
      "00_1. \ud30c\uc774\uc36c \ubd84\uc11d \uc608\uc81c - \uc2e0\uc0dd\uc544 \uc774\ub984 \ubd84\uc11d\ud558\uae30"
     ]
    },
    {
     "cell_type": "markdown",
     "metadata": {},
     "source": [
      "## \ubaa9\ud45c \n",
      "\n",
      "* \ubbf8\uad6d \uc0ac\ud68c\ubcf4\uc7a5\uad6d\uc740 \ub9e4\ud574 \uc804\uccb4 \ucd9c\uc0dd\uc5d0 \ub300\ud574 \uc131\ubcc4\uacfc \uc774\ub984 \uc815\ubcf4\ub97c \uc81c\uacf5\ud55c\ub2e4\n",
      "* \ub2e4\uc74c\uc744 \uc54c\uc544\ubcf4\uc790\n",
      "  - \uc2dc\ub300\ubcc4\ub85c \ud2b9\uc815 \uc774\ub984\uc774 \ucc28\uc9c0\ud558\ub294 \ube44\uc728\uc774 \uc5bc\ub9c8\ub098 \ud754\ud55c \uc774\ub984\uc778\uc9c0 \uc54c\uc544\ubcf4\uae30\n",
      "  - \uc774\ub984\uc758 \uc0c1\ub300 \uc21c\uc704 \uc54c\uc544\ubcf4\uae30\n",
      "  - \ubaa8\uc74c, \uc790\uc74c, \uae38\uc774, \uc804\ubc18\uc801\uc778 \ub2e4\uc591\uc131, \ucca0\uc790 \ubcc0\ud654, \uccab \uae00\uc790\uc640 \ub9c8\uc9c0\ub9c9 \uae00\uc790 \ub4f1, \uc774\ub984 \uc720\ud589 \ubd84\uc11d\ud558\uae30"
     ]
    },
    {
     "cell_type": "markdown",
     "metadata": {},
     "source": [
      "## \ucc28\ub840 \n",
      "\n",
      "* \ub370\uc774\ud130 \ud2b9\uc131 \uc0b4\ud53c\uae30\n",
      "* \ub370\uc774\ud130 \uc77d\uae30\n",
      "* \ub370\uc774\ud130 \uc804\ucc98\ub9ac\n"
     ]
    },
    {
     "cell_type": "heading",
     "level": 2,
     "metadata": {},
     "source": [
      "\ub370\uc774\ud130 \ud2b9\uc131 \uc0b4\ud53c\uae30"
     ]
    },
    {
     "cell_type": "code",
     "collapsed": false,
     "input": [
      "!ls 00_data/names"
     ],
     "language": "python",
     "metadata": {},
     "outputs": [
      {
       "output_type": "stream",
       "stream": "stdout",
       "text": [
        "NationalReadMe.pdf  yob1906.txt  yob1933.txt  yob1960.txt  yob1987.txt\r\n",
        "yob1880.txt\t    yob1907.txt  yob1934.txt  yob1961.txt  yob1988.txt\r\n",
        "yob1881.txt\t    yob1908.txt  yob1935.txt  yob1962.txt  yob1989.txt\r\n",
        "yob1882.txt\t    yob1909.txt  yob1936.txt  yob1963.txt  yob1990.txt\r\n",
        "yob1883.txt\t    yob1910.txt  yob1937.txt  yob1964.txt  yob1991.txt\r\n",
        "yob1884.txt\t    yob1911.txt  yob1938.txt  yob1965.txt  yob1992.txt\r\n",
        "yob1885.txt\t    yob1912.txt  yob1939.txt  yob1966.txt  yob1993.txt\r\n",
        "yob1886.txt\t    yob1913.txt  yob1940.txt  yob1967.txt  yob1994.txt\r\n",
        "yob1887.txt\t    yob1914.txt  yob1941.txt  yob1968.txt  yob1995.txt\r\n",
        "yob1888.txt\t    yob1915.txt  yob1942.txt  yob1969.txt  yob1996.txt\r\n",
        "yob1889.txt\t    yob1916.txt  yob1943.txt  yob1970.txt  yob1997.txt\r\n",
        "yob1890.txt\t    yob1917.txt  yob1944.txt  yob1971.txt  yob1998.txt\r\n",
        "yob1891.txt\t    yob1918.txt  yob1945.txt  yob1972.txt  yob1999.txt\r\n",
        "yob1892.txt\t    yob1919.txt  yob1946.txt  yob1973.txt  yob2000.txt\r\n",
        "yob1893.txt\t    yob1920.txt  yob1947.txt  yob1974.txt  yob2001.txt\r\n",
        "yob1894.txt\t    yob1921.txt  yob1948.txt  yob1975.txt  yob2002.txt\r\n",
        "yob1895.txt\t    yob1922.txt  yob1949.txt  yob1976.txt  yob2003.txt\r\n",
        "yob1896.txt\t    yob1923.txt  yob1950.txt  yob1977.txt  yob2004.txt\r\n",
        "yob1897.txt\t    yob1924.txt  yob1951.txt  yob1978.txt  yob2005.txt\r\n",
        "yob1898.txt\t    yob1925.txt  yob1952.txt  yob1979.txt  yob2006.txt\r\n",
        "yob1899.txt\t    yob1926.txt  yob1953.txt  yob1980.txt  yob2007.txt\r\n",
        "yob1900.txt\t    yob1927.txt  yob1954.txt  yob1981.txt  yob2008.txt\r\n",
        "yob1901.txt\t    yob1928.txt  yob1955.txt  yob1982.txt  yob2009.txt\r\n",
        "yob1902.txt\t    yob1929.txt  yob1956.txt  yob1983.txt  yob2010.txt\r\n",
        "yob1903.txt\t    yob1930.txt  yob1957.txt  yob1984.txt\r\n",
        "yob1904.txt\t    yob1931.txt  yob1958.txt  yob1985.txt\r\n",
        "yob1905.txt\t    yob1932.txt  yob1959.txt  yob1986.txt\r\n"
       ]
      }
     ],
     "prompt_number": 3
    },
    {
     "cell_type": "code",
     "collapsed": false,
     "input": [
      "!head -n 10 00_data/names/yob1880.txt"
     ],
     "language": "python",
     "metadata": {},
     "outputs": [
      {
       "ename": "ExceptionPexpect",
       "evalue": "Error! pty.fork() failed: [Errno 12] Cannot allocate memory",
       "output_type": "pyerr",
       "traceback": [
        "\u001b[1;31m---------------------------------------------------------------------------\u001b[0m\n\u001b[1;31mExceptionPexpect\u001b[0m                          Traceback (most recent call last)",
        "\u001b[1;32m<ipython-input-30-3e0240f15b8e>\u001b[0m in \u001b[0;36m<module>\u001b[1;34m()\u001b[0m\n\u001b[1;32m----> 1\u001b[1;33m \u001b[0mget_ipython\u001b[0m\u001b[1;33m(\u001b[0m\u001b[1;33m)\u001b[0m\u001b[1;33m.\u001b[0m\u001b[0msystem\u001b[0m\u001b[1;33m(\u001b[0m\u001b[1;34mu'head -n 10 00_data/names/yob1880.txt'\u001b[0m\u001b[1;33m)\u001b[0m\u001b[1;33m\u001b[0m\u001b[0m\n\u001b[0m",
        "\u001b[1;32m/BIO/home/moodern/.venv/total/local/lib/python2.7/site-packages/IPython/core/interactiveshell.pyc\u001b[0m in \u001b[0;36msystem_piped\u001b[1;34m(self, cmd)\u001b[0m\n\u001b[0;32m   2254\u001b[0m         \u001b[1;31m# a non-None value would trigger :func:`sys.displayhook` calls.\u001b[0m\u001b[1;33m\u001b[0m\u001b[1;33m\u001b[0m\u001b[0m\n\u001b[0;32m   2255\u001b[0m         \u001b[1;31m# Instead, we store the exit_code in user_ns.\u001b[0m\u001b[1;33m\u001b[0m\u001b[1;33m\u001b[0m\u001b[0m\n\u001b[1;32m-> 2256\u001b[1;33m         \u001b[0mself\u001b[0m\u001b[1;33m.\u001b[0m\u001b[0muser_ns\u001b[0m\u001b[1;33m[\u001b[0m\u001b[1;34m'_exit_code'\u001b[0m\u001b[1;33m]\u001b[0m \u001b[1;33m=\u001b[0m \u001b[0msystem\u001b[0m\u001b[1;33m(\u001b[0m\u001b[0mself\u001b[0m\u001b[1;33m.\u001b[0m\u001b[0mvar_expand\u001b[0m\u001b[1;33m(\u001b[0m\u001b[0mcmd\u001b[0m\u001b[1;33m,\u001b[0m \u001b[0mdepth\u001b[0m\u001b[1;33m=\u001b[0m\u001b[1;36m1\u001b[0m\u001b[1;33m)\u001b[0m\u001b[1;33m)\u001b[0m\u001b[1;33m\u001b[0m\u001b[0m\n\u001b[0m\u001b[0;32m   2257\u001b[0m \u001b[1;33m\u001b[0m\u001b[0m\n\u001b[0;32m   2258\u001b[0m     \u001b[1;32mdef\u001b[0m \u001b[0msystem_raw\u001b[0m\u001b[1;33m(\u001b[0m\u001b[0mself\u001b[0m\u001b[1;33m,\u001b[0m \u001b[0mcmd\u001b[0m\u001b[1;33m)\u001b[0m\u001b[1;33m:\u001b[0m\u001b[1;33m\u001b[0m\u001b[0m\n",
        "\u001b[1;32m/BIO/home/moodern/.venv/total/local/lib/python2.7/site-packages/IPython/utils/_process_posix.pyc\u001b[0m in \u001b[0;36msystem\u001b[1;34m(self, cmd)\u001b[0m\n\u001b[0;32m    151\u001b[0m             \u001b[1;31m#child = pexpect.spawn(pcmd, searchwindowsize=1)\u001b[0m\u001b[1;33m\u001b[0m\u001b[1;33m\u001b[0m\u001b[0m\n\u001b[0;32m    152\u001b[0m             \u001b[1;32mif\u001b[0m \u001b[0mhasattr\u001b[0m\u001b[1;33m(\u001b[0m\u001b[0mpexpect\u001b[0m\u001b[1;33m,\u001b[0m \u001b[1;34m'spawnb'\u001b[0m\u001b[1;33m)\u001b[0m\u001b[1;33m:\u001b[0m\u001b[1;33m\u001b[0m\u001b[0m\n\u001b[1;32m--> 153\u001b[1;33m                 \u001b[0mchild\u001b[0m \u001b[1;33m=\u001b[0m \u001b[0mpexpect\u001b[0m\u001b[1;33m.\u001b[0m\u001b[0mspawnb\u001b[0m\u001b[1;33m(\u001b[0m\u001b[0mself\u001b[0m\u001b[1;33m.\u001b[0m\u001b[0msh\u001b[0m\u001b[1;33m,\u001b[0m \u001b[0margs\u001b[0m\u001b[1;33m=\u001b[0m\u001b[1;33m[\u001b[0m\u001b[1;34m'-c'\u001b[0m\u001b[1;33m,\u001b[0m \u001b[0mcmd\u001b[0m\u001b[1;33m]\u001b[0m\u001b[1;33m)\u001b[0m \u001b[1;31m# Pexpect-U\u001b[0m\u001b[1;33m\u001b[0m\u001b[0m\n\u001b[0m\u001b[0;32m    154\u001b[0m             \u001b[1;32melse\u001b[0m\u001b[1;33m:\u001b[0m\u001b[1;33m\u001b[0m\u001b[0m\n\u001b[0;32m    155\u001b[0m                 \u001b[0mchild\u001b[0m \u001b[1;33m=\u001b[0m \u001b[0mpexpect\u001b[0m\u001b[1;33m.\u001b[0m\u001b[0mspawn\u001b[0m\u001b[1;33m(\u001b[0m\u001b[0mself\u001b[0m\u001b[1;33m.\u001b[0m\u001b[0msh\u001b[0m\u001b[1;33m,\u001b[0m \u001b[0margs\u001b[0m\u001b[1;33m=\u001b[0m\u001b[1;33m[\u001b[0m\u001b[1;34m'-c'\u001b[0m\u001b[1;33m,\u001b[0m \u001b[0mcmd\u001b[0m\u001b[1;33m]\u001b[0m\u001b[1;33m)\u001b[0m  \u001b[1;31m# Vanilla Pexpect\u001b[0m\u001b[1;33m\u001b[0m\u001b[0m\n",
        "\u001b[1;32m/BIO/home/moodern/.venv/total/local/lib/python2.7/site-packages/IPython/external/pexpect/_pexpect.pyc\u001b[0m in \u001b[0;36m__init__\u001b[1;34m(self, command, args, timeout, maxread, searchwindowsize, logfile, cwd, env)\u001b[0m\n\u001b[0;32m    457\u001b[0m             \u001b[0mself\u001b[0m\u001b[1;33m.\u001b[0m\u001b[0mname\u001b[0m \u001b[1;33m=\u001b[0m \u001b[1;34m'<pexpect factory incomplete>'\u001b[0m\u001b[1;33m\u001b[0m\u001b[0m\n\u001b[0;32m    458\u001b[0m         \u001b[1;32melse\u001b[0m\u001b[1;33m:\u001b[0m\u001b[1;33m\u001b[0m\u001b[0m\n\u001b[1;32m--> 459\u001b[1;33m             \u001b[0mself\u001b[0m\u001b[1;33m.\u001b[0m\u001b[0m_spawn\u001b[0m \u001b[1;33m(\u001b[0m\u001b[0mcommand\u001b[0m\u001b[1;33m,\u001b[0m \u001b[0margs\u001b[0m\u001b[1;33m)\u001b[0m\u001b[1;33m\u001b[0m\u001b[0m\n\u001b[0m\u001b[0;32m    460\u001b[0m \u001b[1;33m\u001b[0m\u001b[0m\n\u001b[0;32m    461\u001b[0m     \u001b[1;32mdef\u001b[0m \u001b[0m__del__\u001b[0m\u001b[1;33m(\u001b[0m\u001b[0mself\u001b[0m\u001b[1;33m)\u001b[0m\u001b[1;33m:\u001b[0m\u001b[1;33m\u001b[0m\u001b[0m\n",
        "\u001b[1;32m/BIO/home/moodern/.venv/total/local/lib/python2.7/site-packages/IPython/external/pexpect/_pexpect.pyc\u001b[0m in \u001b[0;36m_spawn\u001b[1;34m(self, command, args)\u001b[0m\n\u001b[0;32m    557\u001b[0m                 \u001b[0mself\u001b[0m\u001b[1;33m.\u001b[0m\u001b[0mpid\u001b[0m\u001b[1;33m,\u001b[0m \u001b[0mself\u001b[0m\u001b[1;33m.\u001b[0m\u001b[0mchild_fd\u001b[0m \u001b[1;33m=\u001b[0m \u001b[0mpty\u001b[0m\u001b[1;33m.\u001b[0m\u001b[0mfork\u001b[0m\u001b[1;33m(\u001b[0m\u001b[1;33m)\u001b[0m\u001b[1;33m\u001b[0m\u001b[0m\n\u001b[0;32m    558\u001b[0m             \u001b[1;32mexcept\u001b[0m \u001b[0mOSError\u001b[0m \u001b[1;32mas\u001b[0m \u001b[0me\u001b[0m\u001b[1;33m:\u001b[0m\u001b[1;33m\u001b[0m\u001b[0m\n\u001b[1;32m--> 559\u001b[1;33m                 \u001b[1;32mraise\u001b[0m \u001b[0mExceptionPexpect\u001b[0m\u001b[1;33m(\u001b[0m\u001b[1;34m'Error! pty.fork() failed: '\u001b[0m \u001b[1;33m+\u001b[0m \u001b[0mstr\u001b[0m\u001b[1;33m(\u001b[0m\u001b[0me\u001b[0m\u001b[1;33m)\u001b[0m\u001b[1;33m)\u001b[0m\u001b[1;33m\u001b[0m\u001b[0m\n\u001b[0m\u001b[0;32m    560\u001b[0m         \u001b[1;32melse\u001b[0m\u001b[1;33m:\u001b[0m \u001b[1;31m# Use internal __fork_pty\u001b[0m\u001b[1;33m\u001b[0m\u001b[0m\n\u001b[0;32m    561\u001b[0m             \u001b[0mself\u001b[0m\u001b[1;33m.\u001b[0m\u001b[0mpid\u001b[0m\u001b[1;33m,\u001b[0m \u001b[0mself\u001b[0m\u001b[1;33m.\u001b[0m\u001b[0mchild_fd\u001b[0m \u001b[1;33m=\u001b[0m \u001b[0mself\u001b[0m\u001b[1;33m.\u001b[0m\u001b[0m__fork_pty\u001b[0m\u001b[1;33m(\u001b[0m\u001b[1;33m)\u001b[0m\u001b[1;33m\u001b[0m\u001b[0m\n",
        "\u001b[1;31mExceptionPexpect\u001b[0m: Error! pty.fork() failed: [Errno 12] Cannot allocate memory"
       ]
      }
     ],
     "prompt_number": 30
    },
    {
     "cell_type": "heading",
     "level": 2,
     "metadata": {},
     "source": [
      "\ub370\uc774\ud130 \uc77d\uae30"
     ]
    },
    {
     "cell_type": "markdown",
     "metadata": {},
     "source": [
      "* \ud30c\uc77c \ud558\ub098 \uc77d\uae30\n",
      "* \uc804\uccb4 \ud30c\uc77c\ub4e4 \uc77d\uae30"
     ]
    },
    {
     "cell_type": "heading",
     "level": 3,
     "metadata": {},
     "source": [
      "\ud30c\uc77c \ud558\ub098 \uc77d\uae30"
     ]
    },
    {
     "cell_type": "code",
     "collapsed": false,
     "input": [
      "import pandas as pd\n",
      "\n",
      "names1880 = pd.read_csv('00_data/names/yob1880.txt', names=['name', 'sex', 'births'])"
     ],
     "language": "python",
     "metadata": {},
     "outputs": [],
     "prompt_number": 7
    },
    {
     "cell_type": "code",
     "collapsed": false,
     "input": [
      "names1880[:5]"
     ],
     "language": "python",
     "metadata": {},
     "outputs": [
      {
       "html": [
        "<div style=\"max-height:1000px;max-width:1500px;overflow:auto;\">\n",
        "<table border=\"1\" class=\"dataframe\">\n",
        "  <thead>\n",
        "    <tr style=\"text-align: right;\">\n",
        "      <th></th>\n",
        "      <th>name</th>\n",
        "      <th>sex</th>\n",
        "      <th>births</th>\n",
        "    </tr>\n",
        "  </thead>\n",
        "  <tbody>\n",
        "    <tr>\n",
        "      <th>0</th>\n",
        "      <td>      Mary</td>\n",
        "      <td> F</td>\n",
        "      <td> 7065</td>\n",
        "    </tr>\n",
        "    <tr>\n",
        "      <th>1</th>\n",
        "      <td>      Anna</td>\n",
        "      <td> F</td>\n",
        "      <td> 2604</td>\n",
        "    </tr>\n",
        "    <tr>\n",
        "      <th>2</th>\n",
        "      <td>      Emma</td>\n",
        "      <td> F</td>\n",
        "      <td> 2003</td>\n",
        "    </tr>\n",
        "    <tr>\n",
        "      <th>3</th>\n",
        "      <td> Elizabeth</td>\n",
        "      <td> F</td>\n",
        "      <td> 1939</td>\n",
        "    </tr>\n",
        "    <tr>\n",
        "      <th>4</th>\n",
        "      <td>    Minnie</td>\n",
        "      <td> F</td>\n",
        "      <td> 1746</td>\n",
        "    </tr>\n",
        "  </tbody>\n",
        "</table>\n",
        "</div>"
       ],
       "metadata": {},
       "output_type": "pyout",
       "prompt_number": 10,
       "text": [
        "        name sex  births\n",
        "0       Mary   F    7065\n",
        "1       Anna   F    2604\n",
        "2       Emma   F    2003\n",
        "3  Elizabeth   F    1939\n",
        "4     Minnie   F    1746"
       ]
      }
     ],
     "prompt_number": 10
    },
    {
     "cell_type": "code",
     "collapsed": false,
     "input": [
      "# \ub0a8\ub140 \ucd9c\uc0dd \ube48\ub3c4 \n",
      "names1880.groupby('sex').births.sum()"
     ],
     "language": "python",
     "metadata": {},
     "outputs": [
      {
       "metadata": {},
       "output_type": "pyout",
       "prompt_number": 14,
       "text": [
        "sex\n",
        "F       90993\n",
        "M      110493\n",
        "Name: births, dtype: int64"
       ]
      }
     ],
     "prompt_number": 14
    },
    {
     "cell_type": "heading",
     "level": 3,
     "metadata": {},
     "source": [
      "\uc804\uccb4 \ud30c\uc77c\ub4e4 \uc77d\uae30"
     ]
    },
    {
     "cell_type": "code",
     "collapsed": false,
     "input": [
      "# 1880\ub144~2010\ub144\uae4c\uc9c0\n",
      "years = range(1880, 2011)\n",
      "\n",
      "pieces = []\n",
      "columns = ['name', 'sex', 'births']\n",
      "\n",
      "# \ub9ac\uc2dc\ud2b8 years\uc5d0 \uac01 \uc5f0\ub3c4\ubcc4 \uc790\ub8cc\ub97c \ucd94\uac00\n",
      "for year in years :\n",
      "    path = '00_data/names/yob%d.txt' % year\n",
      "    frame = pd.read_csv(path, names=columns)\n",
      "    \n",
      "    frame['year'] = year\n",
      "    pieces.append(frame)    "
     ],
     "language": "python",
     "metadata": {},
     "outputs": [],
     "prompt_number": 18
    },
    {
     "cell_type": "code",
     "collapsed": false,
     "input": [
      "len(pieces)"
     ],
     "language": "python",
     "metadata": {},
     "outputs": [
      {
       "metadata": {},
       "output_type": "pyout",
       "prompt_number": 20,
       "text": [
        "131"
       ]
      }
     ],
     "prompt_number": 20
    },
    {
     "cell_type": "code",
     "collapsed": false,
     "input": [
      "pieces[1:3]"
     ],
     "language": "python",
     "metadata": {},
     "outputs": [
      {
       "metadata": {},
       "output_type": "pyout",
       "prompt_number": 24,
       "text": [
        "[            name sex  births  year\n",
        " 0           Mary   F    6919  1881\n",
        " 1           Anna   F    2698  1881\n",
        " 2           Emma   F    2034  1881\n",
        " 3      Elizabeth   F    1852  1881\n",
        " 4       Margaret   F    1658  1881\n",
        " 5         Minnie   F    1653  1881\n",
        " 6            Ida   F    1439  1881\n",
        " 7          Annie   F    1326  1881\n",
        " 8         Bertha   F    1324  1881\n",
        " 9          Alice   F    1308  1881\n",
        " 10         Clara   F    1242  1881\n",
        " 11         Sarah   F    1226  1881\n",
        " 12          Ella   F    1148  1881\n",
        " 13        Nellie   F    1096  1881\n",
        " 14         Grace   F    1089  1881\n",
        " 15      Florence   F    1046  1881\n",
        " 16        Martha   F    1044  1881\n",
        " 17          Cora   F     969  1881\n",
        " 18         Laura   F     962  1881\n",
        " 19        Carrie   F     958  1881\n",
        " 20         Maude   F     923  1881\n",
        " 21        Bessie   F     903  1881\n",
        " 22         Mabel   F     893  1881\n",
        " 23      Gertrude   F     791  1881\n",
        " 24         Ethel   F     788  1881\n",
        " 25        Jennie   F     784  1881\n",
        " 26         Edith   F     778  1881\n",
        " 27        Hattie   F     775  1881\n",
        " 28        Mattie   F     754  1881\n",
        " 29         Julia   F     737  1881\n",
        " ...          ...  ..     ...   ...\n",
        " 1905      Mercer   M       5  1881\n",
        " 1906       Monte   M       5  1881\n",
        " 1907  Montgomery   M       5  1881\n",
        " 1908       Nolan   M       5  1881\n",
        " 1909        Okey   M       5  1881\n",
        " 1910       Orley   M       5  1881\n",
        " 1911        Page   M       5  1881\n",
        " 1912       Philo   M       5  1881\n",
        " 1913      Primus   M       5  1881\n",
        " 1914     Prosper   M       5  1881\n",
        " 1915       Pryor   M       5  1881\n",
        " 1916        Rene   M       5  1881\n",
        " 1917       Robin   M       5  1881\n",
        " 1918        Roll   M       5  1881\n",
        " 1919     Rolland   M       5  1881\n",
        " 1920      Seward   M       5  1881\n",
        " 1921     Shannon   M       5  1881\n",
        " 1922     Talmage   M       5  1881\n",
        " 1923       Urban   M       5  1881\n",
        " 1924      Vaughn   M       5  1881\n",
        " 1925      Verner   M       5  1881\n",
        " 1926     Waverly   M       5  1881\n",
        " 1927     Webster   M       5  1881\n",
        " 1928      Weldon   M       5  1881\n",
        " 1929       Wells   M       5  1881\n",
        " 1930      Wiliam   M       5  1881\n",
        " 1931      Wilton   M       5  1881\n",
        " 1932        Wing   M       5  1881\n",
        " 1933        Wood   M       5  1881\n",
        " 1934      Wright   M       5  1881\n",
        " \n",
        " [1935 rows x 4 columns],             name sex  births  year\n",
        " 0           Mary   F    8149  1882\n",
        " 1           Anna   F    3143  1882\n",
        " 2           Emma   F    2303  1882\n",
        " 3      Elizabeth   F    2187  1882\n",
        " 4         Minnie   F    2004  1882\n",
        " 5       Margaret   F    1821  1882\n",
        " 6            Ida   F    1673  1882\n",
        " 7          Alice   F    1542  1882\n",
        " 8         Bertha   F    1508  1882\n",
        " 9          Annie   F    1492  1882\n",
        " 10         Clara   F    1490  1882\n",
        " 11         Sarah   F    1410  1882\n",
        " 12      Florence   F    1322  1882\n",
        " 13        Martha   F    1229  1882\n",
        " 14          Ella   F    1206  1882\n",
        " 15         Grace   F    1195  1882\n",
        " 16         Laura   F    1151  1882\n",
        " 17        Bessie   F    1144  1882\n",
        " 18        Nellie   F    1138  1882\n",
        " 19         Maude   F    1089  1882\n",
        " 20          Cora   F    1076  1882\n",
        " 21        Carrie   F    1037  1882\n",
        " 22         Mabel   F     997  1882\n",
        " 23         Ethel   F     989  1882\n",
        " 24        Mattie   F     966  1882\n",
        " 25      Gertrude   F     939  1882\n",
        " 26        Jennie   F     934  1882\n",
        " 27          Rose   F     886  1882\n",
        " 28         Edith   F     876  1882\n",
        " 29        Hattie   F     859  1882\n",
        " ...          ...  ..     ...   ...\n",
        " 2097      Russel   M       5  1882\n",
        " 2098      Sameul   M       5  1882\n",
        " 2099       Samul   M       5  1882\n",
        " 2100    Schuyler   M       5  1882\n",
        " 2101      Seldon   M       5  1882\n",
        " 2102     Soloman   M       5  1882\n",
        " 2103       Solon   M       5  1882\n",
        " 2104    Stafford   M       5  1882\n",
        " 2105     Stanton   M       5  1882\n",
        " 2106      Sumner   M       5  1882\n",
        " 2107  Theophilus   M       5  1882\n",
        " 2108    Thompson   M       5  1882\n",
        " 2109      Tilden   M       5  1882\n",
        " 2110        Toby   M       5  1882\n",
        " 2111        True   M       5  1882\n",
        " 2112       Urban   M       5  1882\n",
        " 2113       Uriah   M       5  1882\n",
        " 2114         Val   M       5  1882\n",
        " 2115       Vance   M       5  1882\n",
        " 2116       Verne   M       5  1882\n",
        " 2117       Vince   M       5  1882\n",
        " 2118      Vivian   M       5  1882\n",
        " 2119        Whit   M       5  1882\n",
        " 2120     Willaim   M       5  1882\n",
        " 2121    Winifred   M       5  1882\n",
        " 2122        Wirt   M       5  1882\n",
        " 2123     Woodson   M       5  1882\n",
        " 2124       Woody   M       5  1882\n",
        " 2125      Worley   M       5  1882\n",
        " 2126         Zed   M       5  1882\n",
        " \n",
        " [2127 rows x 4 columns]]"
       ]
      }
     ],
     "prompt_number": 24
    },
    {
     "cell_type": "code",
     "collapsed": false,
     "input": [
      "# pieces\uc758 \uac1c\ubcc4 frame\ub4e4\uc744 names\ub77c\ub294 pandas\uc758 DataFrame \uc790\ub8cc\ud615 \ud558\ub098\uc5d0 \ubaa8\ub450 \ud569\uce5c\ub2e4.\n",
      "names = pd.concat(pieces, ignore_index=True)"
     ],
     "language": "python",
     "metadata": {},
     "outputs": [],
     "prompt_number": 25
    },
    {
     "cell_type": "code",
     "collapsed": false,
     "input": [
      "names[:10]"
     ],
     "language": "python",
     "metadata": {},
     "outputs": [
      {
       "html": [
        "<div style=\"max-height:1000px;max-width:1500px;overflow:auto;\">\n",
        "<table border=\"1\" class=\"dataframe\">\n",
        "  <thead>\n",
        "    <tr style=\"text-align: right;\">\n",
        "      <th></th>\n",
        "      <th>name</th>\n",
        "      <th>sex</th>\n",
        "      <th>births</th>\n",
        "      <th>year</th>\n",
        "    </tr>\n",
        "  </thead>\n",
        "  <tbody>\n",
        "    <tr>\n",
        "      <th>0</th>\n",
        "      <td>      Mary</td>\n",
        "      <td> F</td>\n",
        "      <td> 7065</td>\n",
        "      <td> 1880</td>\n",
        "    </tr>\n",
        "    <tr>\n",
        "      <th>1</th>\n",
        "      <td>      Anna</td>\n",
        "      <td> F</td>\n",
        "      <td> 2604</td>\n",
        "      <td> 1880</td>\n",
        "    </tr>\n",
        "    <tr>\n",
        "      <th>2</th>\n",
        "      <td>      Emma</td>\n",
        "      <td> F</td>\n",
        "      <td> 2003</td>\n",
        "      <td> 1880</td>\n",
        "    </tr>\n",
        "    <tr>\n",
        "      <th>3</th>\n",
        "      <td> Elizabeth</td>\n",
        "      <td> F</td>\n",
        "      <td> 1939</td>\n",
        "      <td> 1880</td>\n",
        "    </tr>\n",
        "    <tr>\n",
        "      <th>4</th>\n",
        "      <td>    Minnie</td>\n",
        "      <td> F</td>\n",
        "      <td> 1746</td>\n",
        "      <td> 1880</td>\n",
        "    </tr>\n",
        "    <tr>\n",
        "      <th>5</th>\n",
        "      <td>  Margaret</td>\n",
        "      <td> F</td>\n",
        "      <td> 1578</td>\n",
        "      <td> 1880</td>\n",
        "    </tr>\n",
        "    <tr>\n",
        "      <th>6</th>\n",
        "      <td>       Ida</td>\n",
        "      <td> F</td>\n",
        "      <td> 1472</td>\n",
        "      <td> 1880</td>\n",
        "    </tr>\n",
        "    <tr>\n",
        "      <th>7</th>\n",
        "      <td>     Alice</td>\n",
        "      <td> F</td>\n",
        "      <td> 1414</td>\n",
        "      <td> 1880</td>\n",
        "    </tr>\n",
        "    <tr>\n",
        "      <th>8</th>\n",
        "      <td>    Bertha</td>\n",
        "      <td> F</td>\n",
        "      <td> 1320</td>\n",
        "      <td> 1880</td>\n",
        "    </tr>\n",
        "    <tr>\n",
        "      <th>9</th>\n",
        "      <td>     Sarah</td>\n",
        "      <td> F</td>\n",
        "      <td> 1288</td>\n",
        "      <td> 1880</td>\n",
        "    </tr>\n",
        "  </tbody>\n",
        "</table>\n",
        "</div>"
       ],
       "metadata": {},
       "output_type": "pyout",
       "prompt_number": 27,
       "text": [
        "        name sex  births  year\n",
        "0       Mary   F    7065  1880\n",
        "1       Anna   F    2604  1880\n",
        "2       Emma   F    2003  1880\n",
        "3  Elizabeth   F    1939  1880\n",
        "4     Minnie   F    1746  1880\n",
        "5   Margaret   F    1578  1880\n",
        "6        Ida   F    1472  1880\n",
        "7      Alice   F    1414  1880\n",
        "8     Bertha   F    1320  1880\n",
        "9      Sarah   F    1288  1880"
       ]
      }
     ],
     "prompt_number": 27
    },
    {
     "cell_type": "code",
     "collapsed": false,
     "input": [],
     "language": "python",
     "metadata": {},
     "outputs": []
    },
    {
     "cell_type": "markdown",
     "metadata": {},
     "source": [
      "## \ucc38\uace0\uc790\ub8cc \n",
      "\n",
      " * [1] \ud30c\uc774\uc36c \ub77c\uc774\ube0c\ub7ec\ub9ac\ub97c \ud65c\uc6a9\ud55c \ub370\uc774\ud130 \ubd84\uc11d - http://www.hanbit.co.kr/book/look.html?isbn=978-89-6848-047-8"
     ]
    }
   ],
   "metadata": {}
  }
 ]
}