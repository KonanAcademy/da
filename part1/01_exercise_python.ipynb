{
 "metadata": {
  "name": "",
  "signature": "sha256:40b52c3d398e20c40f6a2de5adc9df9e63414dd545634e94ffb0c410b20c9796"
 },
 "nbformat": 3,
 "nbformat_minor": 0,
 "worksheets": [
  {
   "cells": [
    {
     "cell_type": "heading",
     "level": 1,
     "metadata": {},
     "source": [
      "01. \ud30c\uc774\uc36c \uae30\ucd08 \uc5f0\uc2b5\ubb38\uc81c"
     ]
    },
    {
     "cell_type": "markdown",
     "metadata": {},
     "source": [
      "* \uae30\ucd08\n",
      "* \uc751\uc6a9"
     ]
    },
    {
     "cell_type": "heading",
     "level": 2,
     "metadata": {},
     "source": [
      "\uae30\ucd08 [1]"
     ]
    },
    {
     "cell_type": "markdown",
     "metadata": {},
     "source": [
      "* \ubb38\uc790\uc5f4 \n",
      "  - (\ubb38\uc790\uc5f4) ch4 \ubb38\uc790\uc5f4 - \uc5f0\uc2b5\ubb38\uc81c 9 (174p)\n",
      "  - (\ubb38\uc790\uc5f4) ch4 \ubb38\uc790\uc5f4 - \uc5f0\uc2b5\ubb38\uc81c 10 (174p)\n",
      "  - (\ubb38\uc790\uc5f4, \uc6f9\uc5d0\uc11c \ud398\uc774\uc9c0 \uac00\uc838\uc624\uae30) ch4 \ubb38\uc790\uc5f4 - \uc5f0\uc2b5\ubb38\uc81c 16\ubc88 (175p)\n",
      "* \ub9ac\uc2a4\ud2b8\n",
      "  - (\ub9ac\uc2a4\ud2b8 \uc774\uc6a9\ud574\uc11c \ubb38\uc790\uc5f4 \ub2e4\ub8e8\uae30) ch5 \ub9ac\uc2a4\ud2b8 - \uc5f0\uc2b5\ubb38\uc81c 3 (208p) \n",
      "  - (\ub9ac\uc2a4\ud2b8 \uc815\ub82c) ch5 \ub9ac\uc2a4\ud2b8 - \uc5f0\uc2b5\ubb38\uc81c 5 (209p)\n",
      "  - (\ud30c\uc77c\ubaa9\ub85d \uc5bb\uae30, \ub9ac\uc2a4\ud2b8 \uc774\uc6a9) ch5 \ub9ac\uc2a4\ud2b8 - \uc5f0\uc2b5\ubb38\uc81c 10\ubc88 (210p)\n",
      "  - (\ud30c\uc77c\uc0c1\ud0dc \uc54c\uc544\ub0b4\uae30, \ub9ac\uc2a4\ud2b8 \uc774\uc6a9) ch5 \ub9ac\uc2a4\ud2b8 - \uc5f0\uc2b5\ubb38\uc81c 11\ubc88 (210p)\n",
      "  - (HTML \ubb38\uc11c \ucc98\ub9ac\uae30\ucd08, \ub9ac\uc2a4\ud2b8 \uc774\uc6a9) ch5 \ub9ac\uc2a4\ud2b8 - \uc608\uc81c 1\ubc88 (211p)[4\uc8fc\ucc28] \n",
      "* \ud29c\ud50c\n",
      "  - (\ud29c\ud50c, \uacbd\ub85c\uba85 \ub2e4\ub8e8\uae30) ch6 \ud29c\ud50c - \uacbd\ub85c\uba85 \ub2e4\ub8e8\uae30 \uc608\uc81c \ub530\ub77c\ud558\uae30 (219p)\n",
      "* \uc0ac\uc804\n",
      "  - (\uc0ac\uc804) ch7 \uc0ac\uc804 \ubc0f \uc9d1\ud569 - \uc5f0\uc2b5\ubb38\uc81c 4 (243p)\n",
      "  - (\uc0ac\uc804) ch7 \uc0ac\uc804 \ubc0f \uc9d1\ud569 - \uc5f0\uc2b5\ubb38\uc81c 7 (244p)[5\uc8fc\ucc28]  \n",
      "* \ud30c\uc77c\n",
      "  - (\ud30c\uc77c, \ud30c\uc77c \uc4f0\uae30) ch9 \ud30c\uc77c - \uc5f0\uc2b5\ubb38\uc81c 2 (284p)\n",
      "  - (\ud30c\uc77c, \ud30c\uc77c \uc77d\uae30) ch9 \ud30c\uc77c - \uc5f0\uc2b5\ubb38\uc81c 3 (284p)\n",
      "  - (\ud30c\uc77c, \ud30c\uc77c \uc77d\uae30,\uc4f0\uae30) ch9 \ud30c\uc77c - \uc5f0\uc2b5\ubb38\uc81c 4 (284p)\n",
      "  - (\ud30c\uc77c, HTML \ubb38\uc11c \uc77d\uc5b4\uc11c \ud30c\uc77c\ub85c \uc800\uc7a5) ch9 \ud30c\uc77c - \uc5f0\uc2b5\ubb38\uc81c 12 (286p)\n",
      "* \ud568\uc218\n",
      "  - (\ud568\uc218, \ud568\uc218\ub9cc\ub4e4\uae30) ch10 \ud568\uc218 - \uc5f0\uc2b5\ubb38\uc81c 3 (327p)\n",
      "* \ud074\ub798\uc2a4\n",
      "  - (\ud074\ub798\uc2a4, \ud074\ub798\uc2a4 \ub9cc\ub4e4\uae30) ch12 \ud074\ub798\uc2a4 - \uc5f0\uc2b5\ubb38\uc81c 6 (464p) "
     ]
    },
    {
     "cell_type": "heading",
     "level": 3,
     "metadata": {},
     "source": [
      "\ubb38\uc790\uc5f4 (ch4)"
     ]
    },
    {
     "cell_type": "heading",
     "level": 4,
     "metadata": {},
     "source": [
      "(\ubb38\uc790\uc5f4) \uc5f0\uc2b5\ubb38\uc81c 9 (174p). \ub2e4\uc74c\uc5d0\uc11c \uc8fc\uc5b4\uc9c4 \ubb38\uc790\uc5f4\uc5d0\uc11c \ubaa8\ub4e0 \ub300\ubb38\uc790\ub97c \uc18c\ubb38\uc790\ub85c \ubcc0\ud658\ud558\uace0, \ubb38\uc790 ','\uc640 '.'\ub97c \uc5c6\uc564 \ud6c4\uc5d0 \uac01 \ub2e8\uc5b4\ub97c \uc21c\uc11c\ub300\ub85c \ucd9c\ub825\ud558\uc2dc\uc624."
     ]
    },
    {
     "cell_type": "code",
     "collapsed": false,
     "input": [
      "s = 'We propose to start by making it possible to teach programming in Python, an existing scripting language, and to focus on creating a new development environment and teaching materials for it'"
     ],
     "language": "python",
     "metadata": {},
     "outputs": [],
     "prompt_number": 1
    },
    {
     "cell_type": "code",
     "collapsed": false,
     "input": [],
     "language": "python",
     "metadata": {},
     "outputs": []
    },
    {
     "cell_type": "heading",
     "level": 4,
     "metadata": {},
     "source": [
      "(\ubb38\uc790\uc5f4) \uc5f0\uc2b5\ubb38\uc81c 10 (174p). \uc704 \ubb38\uc81c 9\uc5d0\uc11c \uac01 \ub2e8\uc5b4\uac00 \uba87 \ubc88\uc529 \ub098\ud0c0\ub0ac\ub294\uac00\ub3c4 \ud568\uaed8 \ucd9c\ub825\ud574\ubcf4\uc2dc\uc624."
     ]
    },
    {
     "cell_type": "code",
     "collapsed": false,
     "input": [],
     "language": "python",
     "metadata": {},
     "outputs": []
    },
    {
     "cell_type": "heading",
     "level": 4,
     "metadata": {},
     "source": [
      "(\ubb38\uc790\uc5f4, \uc6f9\uc5d0\uc11c \ud398\uc774\uc9c0 \uac00\uc838\uc624\uae30) \uc5f0\uc2b5\ubb38\uc81c 16\ubc88 (175p). URL\ub85c \uc9c0\uc815\ub41c \uc6f9\ubb38\uc11c\ub97c \uac00\uc838\ub2e4\uac00 \ubaa8\ub4e0 \ud0dc\uadf8\ub97c \uc81c\uc678\ud55c \ud14d\uc2a4\ud2b8\ub97c \ucd9c\ub825\ud574\ubcf4\uc2dc\uc624. \uc6f9 \ubb38\uc11c\ub97c \uac00\uc838\uc624\ub294 \ubc29\ubc95\uc740 \ub2e4\uc74c\uacfc \uac19\ub2e4."
     ]
    },
    {
     "cell_type": "code",
     "collapsed": false,
     "input": [
      "import urllib\n",
      "\n",
      "s = urllib.urlopen('http://www.python.org').read()"
     ],
     "language": "python",
     "metadata": {},
     "outputs": [],
     "prompt_number": 3
    },
    {
     "cell_type": "code",
     "collapsed": false,
     "input": [],
     "language": "python",
     "metadata": {},
     "outputs": []
    },
    {
     "cell_type": "heading",
     "level": 3,
     "metadata": {},
     "source": [
      "\ub9ac\uc2a4\ud2b8 (ch5)"
     ]
    },
    {
     "cell_type": "heading",
     "level": 4,
     "metadata": {},
     "source": [
      "(\ub9ac\uc2a4\ud2b8 \uc774\uc6a9\ud574\uc11c \ubb38\uc790\uc5f4 \ub2e4\ub8e8\uae30) \uc5f0\uc2b5\ubb38\uc81c 3 (208p). \ub2e4\uc74c \ubb38\uc790\uc5f4 S\uc5d0 \ub300\ud574\uc11c \ub2e4\uc74c\uc744 \ud480\uc5b4\ub77c"
     ]
    },
    {
     "cell_type": "code",
     "collapsed": false,
     "input": [
      "S = 'Sometiems I feel like a motherless child'"
     ],
     "language": "python",
     "metadata": {},
     "outputs": [],
     "prompt_number": 5
    },
    {
     "cell_type": "heading",
     "level": 5,
     "metadata": {},
     "source": [
      "\uac00) \ub2e8\uc5b4\uc758 \uc21c\uc11c\uac00 \ubc14\ub010 \ubb38\uc790\uc5f4\uc744 \ub9cc\ub4e4\uc5b4\ub77c('child motherless a like fee I Sometimes')"
     ]
    },
    {
     "cell_type": "code",
     "collapsed": false,
     "input": [],
     "language": "python",
     "metadata": {},
     "outputs": []
    },
    {
     "cell_type": "heading",
     "level": 5,
     "metadata": {},
     "source": [
      "\ub098) \uc704 \ubb38\uc790\uc5f4\uc758 \uc55e\ub4a4 \uc21c\uc11c\ub97c \uc644\uc804\ud788 \ubc14\uafbc \ubb38\uc790\uc5f4\uc744 \ub9cc\ub4e4\uc5b4\ub77c. (dlihc ssel..) (list \uc774\uc6a9)"
     ]
    },
    {
     "cell_type": "code",
     "collapsed": false,
     "input": [],
     "language": "python",
     "metadata": {},
     "outputs": []
    },
    {
     "cell_type": "heading",
     "level": 5,
     "metadata": {},
     "source": [
      "\ub2e4) \ubb38\uc790\uc5f4 \uba54\uc3d8\ub4dc split\uacfc join\uc744 \uc774\uc6a9\ud558\uc5ec \uc704 \ubb38\uc790\uc5f4\uc5d0\uc11c \uacf5\ubc31\uc744 \ubaa8\ub450 \uc5c6\uc564 \ubb38\uc790\uc5f4\uc744 \ub9cc\ub4e4\uc5b4\ub77c."
     ]
    },
    {
     "cell_type": "code",
     "collapsed": false,
     "input": [],
     "language": "python",
     "metadata": {},
     "outputs": []
    },
    {
     "cell_type": "heading",
     "level": 4,
     "metadata": {},
     "source": [
      "(\ub9ac\uc2a4\ud2b8 \uc815\ub82c) \uc5f0\uc2b5\ubb38\uc81c 5 (209p). \ub2e4\uc74c \ub9ac\uc2a4\ud2b8 L\uc744 5\ub85c \ub098\ub208 \ub098\uba38\uc9c0\ub97c \uae30\uc900\uc73c\ub85c \uc815\ub82c\ud558\ub77c."
     ]
    },
    {
     "cell_type": "code",
     "collapsed": false,
     "input": [
      "L = range(10)\n",
      "L"
     ],
     "language": "python",
     "metadata": {},
     "outputs": [
      {
       "metadata": {},
       "output_type": "pyout",
       "prompt_number": 6,
       "text": [
        "[0, 1, 2, 3, 4, 5, 6, 7, 8, 9]"
       ]
      }
     ],
     "prompt_number": 6
    },
    {
     "cell_type": "code",
     "collapsed": false,
     "input": [
      "# \uc815\ub82c \uacb0\uacfc\uac00 [0, 5, 1, 6, 2, 7, 3, 8, 4, 9]\n"
     ],
     "language": "python",
     "metadata": {},
     "outputs": []
    },
    {
     "cell_type": "heading",
     "level": 4,
     "metadata": {},
     "source": [
      "(\ud30c\uc77c\ubaa9\ub85d \uc5bb\uae30, \ub9ac\uc2a4\ud2b8 \uc774\uc6a9) \uc5f0\uc2b5\ubb38\uc81c 10\ubc88 (210p). \ud604\uc7ac \ub514\ub809\ud1a0\ub9ac\uc5d0 \uc788\ub294 .py \ud30c\uc77c\ub4e4 \uc911\uc5d0\uc11c \ud06c\uae30\uac00 500\ubc14\uc774\ud2b8\ub97c \ub118\ub294 \uac83\ub4e4\ub9cc \ud30c\uc77c \ubaa9\ub85d\uc744 \ucd9c\ub825\ud558\ub77c. (\ud78c\ud2b8:os.path \ubaa8\ub4c8, os.path.listdir \ud568\uc218)"
     ]
    },
    {
     "cell_type": "code",
     "collapsed": false,
     "input": [],
     "language": "python",
     "metadata": {},
     "outputs": []
    },
    {
     "cell_type": "heading",
     "level": 4,
     "metadata": {},
     "source": [
      "(\ud30c\uc77c\uc0c1\ud0dc \uc54c\uc544\ub0b4\uae30, \ub9ac\uc2a4\ud2b8 \uc774\uc6a9) \uc5f0\uc2b5\ubb38\uc81c 11\ubc88 (210p). \ud604\uc7ac \ub514\ub809\ud1a0\ub9ac\uc5d0 \uc788\ub294 \ubaa8\ub4e0 \ud30c\uc77c\ub4e4 \uc911\uc5d0\uc11c \ucd5c\uadfc 24\uc2dc\uac04 \uc774\ub0b4\uc5d0 \ubcc0\uacbd\ub41c \ud30c\uc77c\ub4e4\uc758 \ubaa9\ub85d\uc744 \ucd9c\ub825\ud558\ub77c"
     ]
    },
    {
     "cell_type": "code",
     "collapsed": false,
     "input": [],
     "language": "python",
     "metadata": {},
     "outputs": []
    },
    {
     "cell_type": "heading",
     "level": 4,
     "metadata": {},
     "source": [
      "(HTML \ubb38\uc11c \ucc98\ub9ac\uae30\ucd08, \ub9ac\uc2a4\ud2b8 \uc774\uc6a9) \uc608\uc81c 1\ubc88 (211p). \uba85\ub839\ud589\uc5d0 URL \uc8fc\uc18c\ub97c \uc785\ub825\ud558\uba74 \uadf8 URL\uc758 HTML \ubb38\uc11c\ub97c \ud654\uba74\uc5d0 \ucd9c\ub825\ud558\ub294 \ud504\ub85c\uadf8\ub7a8\uc744 \uc791\uc131\ud558\ub77c.(url\uc5d0\uc11c HTML \ubb38\uc11c\ub97c \uac00\uc838\uc624\ub294 \uac83\uc740 \ub2e4\uc74c\uacfc \uac19\uc740 \ucf54\ub4dc\ub97c \uc774\uc6a9\ud55c\ub2e4)"
     ]
    },
    {
     "cell_type": "code",
     "collapsed": false,
     "input": [
      "import urllib\n",
      "import sys\n",
      "\n",
      "def getpage(url) : \n",
      "    f = urllib.urlopen(url)\n",
      "    return f.read()\n",
      "\n",
      "text = getpage(sys.argv[1])\n",
      "print text"
     ],
     "language": "python",
     "metadata": {},
     "outputs": []
    },
    {
     "cell_type": "heading",
     "level": 5,
     "metadata": {},
     "source": [
      "\uac00) \uc704 \ucf54\ub4dc\ub97c \uc218\uc815\ud558\uc5ec \uba85\ub839\ud589\uc5d0\uc11c \uc778\uc218\uac00 \uc785\ub825\ub418\uc9c0 \uc54a\uc558\uc744 \ub54c \uc0ac\uc6a9\ubc95\uc744 \ucd9c\ub825\ud558\ub3c4\ub85d \uc5d0\ub7ec \ucc98\ub9ac \ub8e8\ud2f4\uc744 \ucca8\uac00\ud558\ub77c"
     ]
    },
    {
     "cell_type": "code",
     "collapsed": false,
     "input": [],
     "language": "python",
     "metadata": {},
     "outputs": []
    },
    {
     "cell_type": "heading",
     "level": 5,
     "metadata": {},
     "source": [
      "\ub098) \uba85\ub839\ud589 \uc778\uc218\uc5d0 \ub450 \uac1c \uc774\uc0c1\uc758 \uc778\uc218\ub97c \uc785\ub825\ubc1b\uc544\uc11c \uadf8 \ubb38\uc11c\ub4e4\uc744 \ucd9c\ub825\ud558\ub3c4\ub85d \ucf54\ub4dc\ub97c \uc218\uc815\ud558\ub77c"
     ]
    },
    {
     "cell_type": "code",
     "collapsed": false,
     "input": [],
     "language": "python",
     "metadata": {},
     "outputs": []
    },
    {
     "cell_type": "heading",
     "level": 5,
     "metadata": {},
     "source": [
      "\ub098) \uc798\ubabb\ub41c URL\uc774 \uc785\ub825\ub418\uba74 \uadf8 URL \ucd9c\ub825\uc740 \uac74\ub108\ub6f0\uace0, \ub098\uc911\uc5d0 \uc798\ubabb\ub41c URL \ubaa9\ub85d\uc744 \ucd9c\ub825\ud558\ub3c4\ub85d \uc218\uc815\ud558\ub77c"
     ]
    },
    {
     "cell_type": "code",
     "collapsed": false,
     "input": [],
     "language": "python",
     "metadata": {},
     "outputs": []
    },
    {
     "cell_type": "heading",
     "level": 3,
     "metadata": {},
     "source": [
      "\ud29c\ud50c"
     ]
    },
    {
     "cell_type": "heading",
     "level": 4,
     "metadata": {},
     "source": [
      "(\ud29c\ud50c, \uacbd\ub85c\uba85 \ub2e4\ub8e8\uae30) ch6 \ud29c\ud50c - \uacbd\ub85c\uba85 \ub2e4\ub8e8\uae30 \uc608\uc81c \ub530\ub77c\ud558\uae30 (219p)"
     ]
    },
    {
     "cell_type": "heading",
     "level": 3,
     "metadata": {},
     "source": [
      "\uc0ac\uc804"
     ]
    },
    {
     "cell_type": "heading",
     "level": 4,
     "metadata": {},
     "source": [
      "(\uc0ac\uc804) ch7 \uc0ac\uc804 \ubc0f \uc9d1\ud569 - \uc5f0\uc2b5\ubb38\uc81c 4 (243p)"
     ]
    },
    {
     "cell_type": "heading",
     "level": 4,
     "metadata": {},
     "source": [
      "(\uc0ac\uc804) ch7 \uc0ac\uc804 \ubc0f \uc9d1\ud569 - \uc5f0\uc2b5\ubb38\uc81c 7 (244p)"
     ]
    },
    {
     "cell_type": "heading",
     "level": 3,
     "metadata": {},
     "source": [
      "\ud30c\uc77c"
     ]
    },
    {
     "cell_type": "heading",
     "level": 4,
     "metadata": {},
     "source": [
      "(\ud30c\uc77c, \ud30c\uc77c \uc4f0\uae30) ch9 \ud30c\uc77c - \uc5f0\uc2b5\ubb38\uc81c 2 (284p)"
     ]
    },
    {
     "cell_type": "heading",
     "level": 4,
     "metadata": {},
     "source": [
      "(\ud30c\uc77c, \ud30c\uc77c \uc77d\uae30) ch9 \ud30c\uc77c - \uc5f0\uc2b5\ubb38\uc81c 3 (284p)"
     ]
    },
    {
     "cell_type": "heading",
     "level": 4,
     "metadata": {},
     "source": [
      "(\ud30c\uc77c, \ud30c\uc77c \uc77d\uae30,\uc4f0\uae30) ch9 \ud30c\uc77c - \uc5f0\uc2b5\ubb38\uc81c 4 (284p)"
     ]
    },
    {
     "cell_type": "heading",
     "level": 4,
     "metadata": {},
     "source": [
      "(\ud30c\uc77c, HTML \ubb38\uc11c \uc77d\uc5b4\uc11c \ud30c\uc77c\ub85c \uc800\uc7a5) ch9 \ud30c\uc77c - \uc5f0\uc2b5\ubb38\uc81c 12 (286p)"
     ]
    },
    {
     "cell_type": "heading",
     "level": 3,
     "metadata": {},
     "source": [
      "\ud568\uc218"
     ]
    },
    {
     "cell_type": "heading",
     "level": 4,
     "metadata": {},
     "source": [
      "(\ud568\uc218, \ud568\uc218\ub9cc\ub4e4\uae30) ch10 \ud568\uc218 - \uc5f0\uc2b5\ubb38\uc81c 3 (327p)"
     ]
    },
    {
     "cell_type": "heading",
     "level": 3,
     "metadata": {},
     "source": [
      "\ud074\ub798\uc2a4"
     ]
    },
    {
     "cell_type": "heading",
     "level": 4,
     "metadata": {},
     "source": [
      "(\ud074\ub798\uc2a4, \ud074\ub798\uc2a4 \ub9cc\ub4e4\uae30) ch12 \ud074\ub798\uc2a4 - \uc5f0\uc2b5\ubb38\uc81c 6 (464p)"
     ]
    }
   ],
   "metadata": {}
  }
 ]
}