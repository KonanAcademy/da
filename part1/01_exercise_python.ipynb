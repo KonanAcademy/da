{
 "metadata": {
  "name": "",
  "signature": "sha256:607fb74e869c88ab67c6c4dbbed84b18cc942e8819a43c7163e8aa6221ce79a4"
 },
 "nbformat": 3,
 "nbformat_minor": 0,
 "worksheets": [
  {
   "cells": [
    {
     "cell_type": "heading",
     "level": 1,
     "metadata": {},
     "source": [
      "01. \ud30c\uc774\uc36c \uae30\ucd08 \uc5f0\uc2b5\ubb38\uc81c"
     ]
    },
    {
     "cell_type": "markdown",
     "metadata": {},
     "source": [
      "* \uae30\ucd08\n",
      "* \uc751\uc6a9"
     ]
    },
    {
     "cell_type": "heading",
     "level": 2,
     "metadata": {},
     "source": [
      "\uae30\ucd08 [1]"
     ]
    },
    {
     "cell_type": "markdown",
     "metadata": {},
     "source": [
      "* \ubb38\uc790\uc5f4 \n",
      "  - (\ubb38\uc790\uc5f4) ch4 \ubb38\uc790\uc5f4 - \uc5f0\uc2b5\ubb38\uc81c 9 (174p)\n",
      "  - (\ubb38\uc790\uc5f4) ch4 \ubb38\uc790\uc5f4 - \uc5f0\uc2b5\ubb38\uc81c 10 (174p)\n",
      "  - (\ubb38\uc790\uc5f4, \uc6f9\uc5d0\uc11c \ud398\uc774\uc9c0 \uac00\uc838\uc624\uae30) ch4 \ubb38\uc790\uc5f4 - \uc5f0\uc2b5\ubb38\uc81c 16\ubc88 (175p)\n",
      "* \ub9ac\uc2a4\ud2b8\n",
      "  - (\ub9ac\uc2a4\ud2b8 \uc774\uc6a9\ud574\uc11c \ubb38\uc790\uc5f4 \ub2e4\ub8e8\uae30) ch5 \ub9ac\uc2a4\ud2b8 - \uc5f0\uc2b5\ubb38\uc81c 3 (208p) \n",
      "  - (\ub9ac\uc2a4\ud2b8 \uc815\ub82c) ch5 \ub9ac\uc2a4\ud2b8 - \uc5f0\uc2b5\ubb38\uc81c 5 (209p)\n",
      "  - (\ud30c\uc77c\ubaa9\ub85d \uc5bb\uae30, \ub9ac\uc2a4\ud2b8 \uc774\uc6a9) ch5 \ub9ac\uc2a4\ud2b8 - \uc5f0\uc2b5\ubb38\uc81c 10\ubc88 (210p)\n",
      "  - (\ud30c\uc77c\uc0c1\ud0dc \uc54c\uc544\ub0b4\uae30, \ub9ac\uc2a4\ud2b8 \uc774\uc6a9) ch5 \ub9ac\uc2a4\ud2b8 - \uc5f0\uc2b5\ubb38\uc81c 11\ubc88 (210p)\n",
      "  - (HTML \ubb38\uc11c \ucc98\ub9ac\uae30\ucd08, \ub9ac\uc2a4\ud2b8 \uc774\uc6a9) ch5 \ub9ac\uc2a4\ud2b8 - \uc608\uc81c 1\ubc88 (211p)[4\uc8fc\ucc28] \n",
      "* \ud29c\ud50c\n",
      "  - (\ud29c\ud50c, \uacbd\ub85c\uba85 \ub2e4\ub8e8\uae30) ch6 \ud29c\ud50c - \uacbd\ub85c\uba85 \ub2e4\ub8e8\uae30 \uc608\uc81c \ub530\ub77c\ud558\uae30 (219p)4-2.(\uc0ac\uc804) ch7 \uc0ac\uc804 \ubc0f \uc9d1\ud569 - \uc5f0\uc2b5\ubb38\uc81c 4 (243p)\n",
      "* \uc0ac\uc804\n",
      "  - (\uc0ac\uc804) ch7 \uc0ac\uc804 \ubc0f \uc9d1\ud569 - \uc5f0\uc2b5\ubb38\uc81c 7 (244p)[5\uc8fc\ucc28]  \n",
      "* \ud30c\uc77c\n",
      "  - (\ud30c\uc77c, \ud30c\uc77c \uc4f0\uae30) ch9 \ud30c\uc77c - \uc5f0\uc2b5\ubb38\uc81c 2 (284p)\n",
      "  - (\ud30c\uc77c, \ud30c\uc77c \uc77d\uae30) ch9 \ud30c\uc77c - \uc5f0\uc2b5\ubb38\uc81c 3 (284p)\n",
      "  - (\ud30c\uc77c, \ud30c\uc77c \uc77d\uae30,\uc4f0\uae30) ch9 \ud30c\uc77c - \uc5f0\uc2b5\ubb38\uc81c 4 (284p)\n",
      "  - (\ud30c\uc77c, HTML \ubb38\uc11c \uc77d\uc5b4\uc11c \ud30c\uc77c\ub85c \uc800\uc7a5) ch9 \ud30c\uc77c - \uc5f0\uc2b5\ubb38\uc81c 12 (286p)\n",
      "* \ud568\uc218\n",
      "  - (\ud568\uc218, \ud568\uc218\ub9cc\ub4e4\uae30) ch10 \ud568\uc218 - \uc5f0\uc2b5\ubb38\uc81c 3 (327p)\n",
      "* \ud074\ub798\uc2a4\n",
      "  - (\ud074\ub798\uc2a4, \ud074\ub798\uc2a4 \ub9cc\ub4e4\uae30) ch12 \ud074\ub798\uc2a4 - \uc5f0\uc2b5\ubb38\uc81c 6 (464p) "
     ]
    },
    {
     "cell_type": "heading",
     "level": 3,
     "metadata": {},
     "source": [
      "\ubb38\uc790\uc5f4 (ch4)"
     ]
    },
    {
     "cell_type": "heading",
     "level": 4,
     "metadata": {},
     "source": [
      "(\ubb38\uc790\uc5f4) \uc5f0\uc2b5\ubb38\uc81c 9 (174p). \ub2e4\uc74c\uc5d0\uc11c \uc8fc\uc5b4\uc9c4 \ubb38\uc790\uc5f4\uc5d0\uc11c \ubaa8\ub4e0 \ub300\ubb38\uc790\ub97c \uc18c\ubb38\uc790\ub85c \ubcc0\ud658\ud558\uace0, \ubb38\uc790 ','\uc640 '.'\ub97c \uc5c6\uc564 \ud6c4\uc5d0 \uac01 \ub2e8\uc5b4\ub97c \uc21c\uc11c\ub300\ub85c \ucd9c\ub825\ud558\uc2dc\uc624."
     ]
    },
    {
     "cell_type": "code",
     "collapsed": false,
     "input": [
      "s = 'We propose to start by making it possible to teach programming in Python, an existing scripting language, and to focus on creating a new development environment and teaching materials for it'"
     ],
     "language": "python",
     "metadata": {},
     "outputs": [],
     "prompt_number": 1
    },
    {
     "cell_type": "code",
     "collapsed": false,
     "input": [],
     "language": "python",
     "metadata": {},
     "outputs": []
    },
    {
     "cell_type": "heading",
     "level": 4,
     "metadata": {},
     "source": [
      "(\ubb38\uc790\uc5f4) \uc5f0\uc2b5\ubb38\uc81c 10 (174p). \uc704 \ubb38\uc81c 9\uc5d0\uc11c \uac01 \ub2e8\uc5b4\uac00 \uba87 \ubc88\uc529 \ub098\ud0c0\ub0ac\ub294\uac00\ub3c4 \ud568\uaed8 \ucd9c\ub825\ud574\ubcf4\uc2dc\uc624."
     ]
    },
    {
     "cell_type": "code",
     "collapsed": false,
     "input": [],
     "language": "python",
     "metadata": {},
     "outputs": []
    },
    {
     "cell_type": "heading",
     "level": 4,
     "metadata": {},
     "source": [
      "(\ubb38\uc790\uc5f4, \uc6f9\uc5d0\uc11c \ud398\uc774\uc9c0 \uac00\uc838\uc624\uae30) \uc5f0\uc2b5\ubb38\uc81c 16\ubc88 (175p). URL\ub85c \uc9c0\uc815\ub41c \uc6f9\ubb38\uc11c\ub97c \uac00\uc838\ub2e4\uac00 \ubaa8\ub4e0 \ud0dc\uadf8\ub97c \uc81c\uc678\ud55c \ud14d\uc2a4\ud2b8\ub97c \ucd9c\ub825\ud574\ubcf4\uc2dc\uc624. \uc6f9 \ubb38\uc11c\ub97c \uac00\uc838\uc624\ub294 \ubc29\ubc95\uc740 \ub2e4\uc74c\uacfc \uac19\ub2e4."
     ]
    },
    {
     "cell_type": "code",
     "collapsed": false,
     "input": [
      "import urllib\n",
      "\n",
      "s = urllib.urlopen('http://www.python.org').read()"
     ],
     "language": "python",
     "metadata": {},
     "outputs": [],
     "prompt_number": 3
    },
    {
     "cell_type": "code",
     "collapsed": false,
     "input": [],
     "language": "python",
     "metadata": {},
     "outputs": []
    },
    {
     "cell_type": "heading",
     "level": 3,
     "metadata": {},
     "source": [
      "\ub9ac\uc2a4\ud2b8 (ch5)"
     ]
    },
    {
     "cell_type": "heading",
     "level": 4,
     "metadata": {},
     "source": [
      "(\ub9ac\uc2a4\ud2b8 \uc774\uc6a9\ud574\uc11c \ubb38\uc790\uc5f4 \ub2e4\ub8e8\uae30) ch5 \ub9ac\uc2a4\ud2b8 - \uc5f0\uc2b5\ubb38\uc81c 3 (208p)"
     ]
    },
    {
     "cell_type": "heading",
     "level": 4,
     "metadata": {},
     "source": [
      "(\ub9ac\uc2a4\ud2b8 \uc815\ub82c) ch5 \ub9ac\uc2a4\ud2b8 - \uc5f0\uc2b5\ubb38\uc81c 5 (209p)"
     ]
    },
    {
     "cell_type": "heading",
     "level": 4,
     "metadata": {},
     "source": [
      "(\ud30c\uc77c\ubaa9\ub85d \uc5bb\uae30, \ub9ac\uc2a4\ud2b8 \uc774\uc6a9) ch5 \ub9ac\uc2a4\ud2b8 - \uc5f0\uc2b5\ubb38\uc81c 10\ubc88 (210p)"
     ]
    },
    {
     "cell_type": "heading",
     "level": 4,
     "metadata": {},
     "source": [
      "(\ud30c\uc77c\uc0c1\ud0dc \uc54c\uc544\ub0b4\uae30, \ub9ac\uc2a4\ud2b8 \uc774\uc6a9) ch5 \ub9ac\uc2a4\ud2b8 - \uc5f0\uc2b5\ubb38\uc81c 11\ubc88 (210p)"
     ]
    },
    {
     "cell_type": "heading",
     "level": 4,
     "metadata": {},
     "source": [
      "(HTML \ubb38\uc11c \ucc98\ub9ac\uae30\ucd08, \ub9ac\uc2a4\ud2b8 \uc774\uc6a9) ch5 \ub9ac\uc2a4\ud2b8 - \uc608\uc81c 1\ubc88 (211p)[4\uc8fc\ucc28]"
     ]
    },
    {
     "cell_type": "heading",
     "level": 3,
     "metadata": {},
     "source": [
      "\ud29c\ud50c"
     ]
    },
    {
     "cell_type": "heading",
     "level": 4,
     "metadata": {},
     "source": [
      "(\ud29c\ud50c, \uacbd\ub85c\uba85 \ub2e4\ub8e8\uae30) ch6 \ud29c\ud50c - \uacbd\ub85c\uba85 \ub2e4\ub8e8\uae30 \uc608\uc81c \ub530\ub77c\ud558\uae30 (219p)4-2.(\uc0ac\uc804) ch7 \uc0ac\uc804 \ubc0f \uc9d1\ud569 - \uc5f0\uc2b5\ubb38\uc81c 4 (243p)"
     ]
    },
    {
     "cell_type": "heading",
     "level": 3,
     "metadata": {},
     "source": [
      "\uc0ac\uc804"
     ]
    },
    {
     "cell_type": "heading",
     "level": 4,
     "metadata": {},
     "source": [
      "(\uc0ac\uc804) ch7 \uc0ac\uc804 \ubc0f \uc9d1\ud569 - \uc5f0\uc2b5\ubb38\uc81c 7 (244p)"
     ]
    },
    {
     "cell_type": "heading",
     "level": 3,
     "metadata": {},
     "source": [
      "\ud30c\uc77c"
     ]
    },
    {
     "cell_type": "heading",
     "level": 4,
     "metadata": {},
     "source": [
      "(\ud30c\uc77c, \ud30c\uc77c \uc4f0\uae30) ch9 \ud30c\uc77c - \uc5f0\uc2b5\ubb38\uc81c 2 (284p)"
     ]
    },
    {
     "cell_type": "heading",
     "level": 4,
     "metadata": {},
     "source": [
      "(\ud30c\uc77c, \ud30c\uc77c \uc77d\uae30) ch9 \ud30c\uc77c - \uc5f0\uc2b5\ubb38\uc81c 3 (284p)"
     ]
    },
    {
     "cell_type": "heading",
     "level": 4,
     "metadata": {},
     "source": [
      "(\ud30c\uc77c, \ud30c\uc77c \uc77d\uae30,\uc4f0\uae30) ch9 \ud30c\uc77c - \uc5f0\uc2b5\ubb38\uc81c 4 (284p)"
     ]
    },
    {
     "cell_type": "heading",
     "level": 4,
     "metadata": {},
     "source": [
      "(\ud30c\uc77c, HTML \ubb38\uc11c \uc77d\uc5b4\uc11c \ud30c\uc77c\ub85c \uc800\uc7a5) ch9 \ud30c\uc77c - \uc5f0\uc2b5\ubb38\uc81c 12 (286p)"
     ]
    },
    {
     "cell_type": "heading",
     "level": 3,
     "metadata": {},
     "source": [
      "\ud568\uc218"
     ]
    },
    {
     "cell_type": "heading",
     "level": 4,
     "metadata": {},
     "source": [
      "(\ud568\uc218, \ud568\uc218\ub9cc\ub4e4\uae30) ch10 \ud568\uc218 - \uc5f0\uc2b5\ubb38\uc81c 3 (327p)"
     ]
    },
    {
     "cell_type": "heading",
     "level": 3,
     "metadata": {},
     "source": [
      "\ud074\ub798\uc2a4"
     ]
    },
    {
     "cell_type": "heading",
     "level": 4,
     "metadata": {},
     "source": [
      "(\ud074\ub798\uc2a4, \ud074\ub798\uc2a4 \ub9cc\ub4e4\uae30) ch12 \ud074\ub798\uc2a4 - \uc5f0\uc2b5\ubb38\uc81c 6 (464p)"
     ]
    }
   ],
   "metadata": {}
  }
 ]
}