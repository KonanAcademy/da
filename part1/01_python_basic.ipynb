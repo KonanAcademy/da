{
 "metadata": {
  "name": "",
  "signature": "sha256:b323acd7c5bde6d1cd39d703fcee67f53e033793bac860881c122963cea20b6b"
 },
 "nbformat": 3,
 "nbformat_minor": 0,
 "worksheets": [
  {
   "cells": [
    {
     "cell_type": "heading",
     "level": 1,
     "metadata": {},
     "source": [
      "01.  \ud30c\uc774\uc36c \uae30\ucd08"
     ]
    },
    {
     "cell_type": "markdown",
     "metadata": {},
     "source": [
      "* \ucf54\ub09c\uc544\uce74\ub370\ubbf8 : \ub370\uc774\ud130\ubd84\uc11d \uae30\ucd08\n",
      "* \ubc1c\ud45c\uc790 : \uae40\ubb34\uc131    "
     ]
    },
    {
     "cell_type": "heading",
     "level": 1,
     "metadata": {},
     "source": [
      "\ucc28\ub840"
     ]
    },
    {
     "cell_type": "markdown",
     "metadata": {},
     "source": [
      "* \ucd94\ucc9c \uc0ac\uc774\ud2b8\n",
      "* \ud30c\uc774\uc36c \uae30\ucd08"
     ]
    },
    {
     "cell_type": "heading",
     "level": 1,
     "metadata": {},
     "source": [
      "\ucd94\ucc9c \uc0ac\uc774\ud2b8"
     ]
    },
    {
     "cell_type": "markdown",
     "metadata": {},
     "source": [
      "* \ud30c\uc774\uc36c \uc124\uce58 - https://github.com/psygrammer/bayesianPy/blob/master/sp_pythonbasic/python_install_guide.md\n",
      "* \uc810\ud504 \ud22c \ud30c\uc774\uc36c - https://wikidocs.net/book/1\n",
      "* \ud30c\uc774\uc36c \ubc30\uc6b0\ub294 \ucd5c\uace0\uc758 \ubc29\ubc95 - http://nolboo.github.io/blog/2014/08/10/the-best-way-to-learn-python/\n",
      "* Python Tips, Tricks, and Hacks - http://www.siafoo.net/article/52 - http://learnxinyminutes.com/docs/ko-kr/python-kr/\n",
      "* python | learn x in y minutes - http://learnxinyminutes.com/docs/ko-kr/python-kr/\n",
      "* ipython \uc0ac\uc6a9\ubc95 - http://nbviewer.ipython.org/gist/irobii/014b8aa3574090a0d04a\n",
      "    "
     ]
    },
    {
     "cell_type": "heading",
     "level": 1,
     "metadata": {},
     "source": [
      "\ud30c\uc774\uc36c \uae30\ucd08"
     ]
    },
    {
     "cell_type": "markdown",
     "metadata": {},
     "source": [
      "\ud30c\uc774\uc36c \uc778\ud130\ud504\ub9ac\ud130 \n",
      "\n",
      "\uc2dc\uba58\ud2f1\n",
      "* \ub4e4\uc5ec\uc4f0\uae30\n",
      "* \ubaa8\ub4e0 \uac83\uc740 \uac1d\uccb4\n",
      "* \uc8fc\uc11d\n",
      "* \ud568\uc218\uc640 \uac1d\uccb4 \uba54\uc11c\ub4dc \ud638\ucd9c\n",
      "* \ubcc0\uc218\uc640 \ucc38\uc870\uc5d0 \uc758\ud55c \uc804\ub2ec\n",
      "* \ub3d9\uc801 \ucc38\uc870\uc640 \uac15\ud55c \ud0c0\uc785\n",
      "* \uc18d\uc131\uacfc \uba54\uc11c\ub4dc\n",
      "* \ub355 \ud0c0\uc774\ud551\n",
      "* \ubaa8\ub4c8 import\n",
      "* \uc774\ud56d\uc5f0\uc0b0\uc790\uc640 \ube44\uad50\ubb38\n",
      "* \ud3c9\uac00 \ubc29\uc2dd\n",
      "* \ubba4\ud130\ube14, \uc774\ubba4\ud130\ube14 \uac1d\uccb4\n",
      "\n",
      "\uc2a4\uce7c\ub77c\ud615<br>\n",
      "\n",
      "\ud750\ub984 \uc81c\uc5b4"
     ]
    },
    {
     "cell_type": "heading",
     "level": 2,
     "metadata": {},
     "source": [
      "\ud30c\uc774\uc36c \uc778\ud130\ud504\ub9ac\ud130"
     ]
    },
    {
     "cell_type": "markdown",
     "metadata": {},
     "source": [
      "* \ud30c\uc774\uc36c\uc740 \uc778\ud130\ud504\ub9ac\ud130 \uc5b8\uc5b4 (\ud55c \ubc88\uc5d0 \ud558\ub098\uc758 \uba85\ub839\uc5b4\ub9cc \uc2e4\ud589)\n",
      "* \ub370\uc774\ud130 \ubd84\uc11d\uac00\ub4e4\uc740 \uae30\ubcf8 \uc778\ud130\ud504\ub9ac\ud130 \ubcf4\ub2e4 ipython\uc744 \uc0ac\uc6a9\ud558\ub294 \uacbd\ud5a5(\uadf8\ub7f0\ub370 \uc774\uac83\ub3c4 \uc810\uc810 ipython notebook \uc73c\ub85c \uc774\ub3d9 \uc911)"
     ]
    },
    {
     "cell_type": "heading",
     "level": 2,
     "metadata": {},
     "source": [
      "\uc2dc\uba58\ud2f1"
     ]
    },
    {
     "cell_type": "heading",
     "level": 3,
     "metadata": {},
     "source": [
      "\ub4e4\uc5ec\uc4f0\uae30"
     ]
    },
    {
     "cell_type": "code",
     "collapsed": false,
     "input": [
      "for x in array :\n",
      "    if x < pivot :\n",
      "        less.append(x)\n",
      "    else :\n",
      "        qreater.append(x)"
     ],
     "language": "python",
     "metadata": {},
     "outputs": []
    },
    {
     "cell_type": "code",
     "collapsed": false,
     "input": [
      "a = 5; b = 6; c = 7;  # \ud55c \uc904\uc5d0 \ubb38\uc7a5\uc774 \uc5ec\ub7ff\uc77c \ub54c\ub294 \uad6c\ubd84\ud558\uae30 \uc704\ud574 ;\uc744 \uc4f4\ub2e4. \ud558\uc9c0\ub9cc \ud30c\uc774\uc36c\uc5d0\uc11c\ub294 \uac00\ub3c5\uc131 \ub54c\ubb38\uc5d0 \uad8c\ud558\uc9c0 \uc54a\ub294\ub2e4."
     ],
     "language": "python",
     "metadata": {},
     "outputs": []
    },
    {
     "cell_type": "heading",
     "level": 3,
     "metadata": {},
     "source": [
      "\ubaa8\ub4e0 \uac83\uc740 \uac1d\uccb4 "
     ]
    },
    {
     "cell_type": "markdown",
     "metadata": {},
     "source": [
      "\uac1d\uccb4 \ubaa8\ub378\uc758 \uc77c\uad00\uc131\uc740 \ud30c\uc774\uc36c\uc758 \uc911\uc694\ud55c \ud2b9\uc9d5. \ubaa8\ub4e0 \uc22b\uc790, \ubb38\uc790\uc5f4, \uc790\ub8cc \uad6c\uc870, \ud568\uc218, \ud074\ub798\uc2a4, \ubaa8\ub4c8 \ub4f1\uc740 \ud30c\uc774\uc36c \uc778\ud130\ud504\ub9ac\ud130\uc5d0\uc11c \ud30c\uc774\uc36c \uac1d\uccb4\ub85c \uc800\uc7a5\ub41c\ub2e4. \ud568\uc218\ub9c8\uc800 \ud558\ub098\uc758 \uac1d\uccb4\ub85c \uac04\uc8fc\ud55c\ub2e4."
     ]
    },
    {
     "cell_type": "heading",
     "level": 3,
     "metadata": {},
     "source": [
      "\uc8fc\uc11d"
     ]
    },
    {
     "cell_type": "code",
     "collapsed": false,
     "input": [
      "# \uc774\uac83\uc774 \uc8fc\uc11d\uc774\ub2e4"
     ],
     "language": "python",
     "metadata": {},
     "outputs": []
    },
    {
     "cell_type": "heading",
     "level": 3,
     "metadata": {},
     "source": [
      "\ud568\uc218\uc640 \uac1d\uccb4 \uba54\uc11c\ub4dc \ud638\ucd9c"
     ]
    },
    {
     "cell_type": "code",
     "collapsed": false,
     "input": [
      "# \ud568\uc218 \ud638\ucd9c\n",
      "result = f(x, y, z)\n",
      "g()\n",
      "\n",
      "# \uba54\uc11c\ub4dc - \uac1d\uccb4\uac00 \ud3ec\ud568\ud558\uace0 \uc788\ub294 \ud568\uc218\n",
      "obj.some_method(x, y, z)\n",
      "\n",
      "# \ud568\uc218\ub294 \uc21c\uc11c\ubcc4(\uc77c\ubc18) \uc778\uc790\uc640 \ud0a4\uc6cc\ub4dc \uc778\uc790\ub97c \ub3d9\uc2dc\uc5d0 \ubc1b\uc744 \uc218 \uc788\ub2e4.\n",
      "result = f(a, b, c, d=5, e='foo')"
     ],
     "language": "python",
     "metadata": {},
     "outputs": []
    },
    {
     "cell_type": "heading",
     "level": 3,
     "metadata": {},
     "source": [
      "\ubcc0\uc218\uc640 \ucc38\uc870\uc5d0 \uc758\ud55c \uc804\ub2ec"
     ]
    },
    {
     "cell_type": "code",
     "collapsed": false,
     "input": [
      "a = [1, 2, 3]\n",
      "b = a\n",
      "a.append(4)\n",
      "b"
     ],
     "language": "python",
     "metadata": {},
     "outputs": [
      {
       "metadata": {},
       "output_type": "pyout",
       "prompt_number": 1,
       "text": [
        "[1, 2, 3, 4]"
       ]
      }
     ],
     "prompt_number": 1
    },
    {
     "cell_type": "markdown",
     "metadata": {},
     "source": [
      "<img src='./01_figures/01_fig.a.1.png'/>"
     ]
    },
    {
     "cell_type": "code",
     "collapsed": false,
     "input": [
      "def append_element(some_list, element) :\n",
      "    some_list.append(element)\n",
      "    \n",
      "data = [1, 2, 3]\n",
      "append_element(data, 4)\n",
      "data"
     ],
     "language": "python",
     "metadata": {},
     "outputs": [
      {
       "metadata": {},
       "output_type": "pyout",
       "prompt_number": 2,
       "text": [
        "[1, 2, 3, 4]"
       ]
      }
     ],
     "prompt_number": 2
    },
    {
     "cell_type": "heading",
     "level": 3,
     "metadata": {},
     "source": [
      "\ub3d9\uc801 \ucc38\uc870\uc640 \uac15\ud55c \ud0c0\uc785"
     ]
    },
    {
     "cell_type": "code",
     "collapsed": false,
     "input": [
      "a = 5\n",
      "type(a)"
     ],
     "language": "python",
     "metadata": {},
     "outputs": [
      {
       "metadata": {},
       "output_type": "pyout",
       "prompt_number": 3,
       "text": [
        "int"
       ]
      }
     ],
     "prompt_number": 3
    },
    {
     "cell_type": "code",
     "collapsed": false,
     "input": [
      "a = 'foo'\n",
      "type(a)"
     ],
     "language": "python",
     "metadata": {},
     "outputs": [
      {
       "metadata": {},
       "output_type": "pyout",
       "prompt_number": 4,
       "text": [
        "str"
       ]
      }
     ],
     "prompt_number": 4
    },
    {
     "cell_type": "code",
     "collapsed": false,
     "input": [
      "'5' + 5  # \ud30c\uc774\uc36c\uc740 \uc790\ub8cc\ud615\uc774 \uc5c6\ub294 \uc5b8\uc5b4\uac00 \uc544\ub2c8\ub2e4. \ubb35\uc2dc\uc801 \ubcc0\ud658\uc774 \uc77c\uc5b4\ub0a0 \ubfd0. \ub2e4\uc74c\uc740 \ubb35\uc2dc\uc801 \ubcc0\ud658 \uc2e4\ud328\uc2dc\uc758 \uc5d0\ub7ec\ub97c \ubcf4\uc5ec\uc900\ub2e4."
     ],
     "language": "python",
     "metadata": {},
     "outputs": [
      {
       "ename": "TypeError",
       "evalue": "cannot concatenate 'str' and 'int' objects",
       "output_type": "pyerr",
       "traceback": [
        "\u001b[1;31m---------------------------------------------------------------------------\u001b[0m\n\u001b[1;31mTypeError\u001b[0m                                 Traceback (most recent call last)",
        "\u001b[1;32m<ipython-input-6-6071fbdea048>\u001b[0m in \u001b[0;36m<module>\u001b[1;34m()\u001b[0m\n\u001b[1;32m----> 1\u001b[1;33m \u001b[1;34m'5'\u001b[0m \u001b[1;33m+\u001b[0m \u001b[1;36m5\u001b[0m  \u001b[1;31m# \ud30c\uc774\uc36c\uc740 \uc790\ub8cc\ud615\uc774 \uc5c6\ub294 \uc5b8\uc5b4\uac00 \uc544\ub2c8\ub2e4. \ubb35\uc2dc\uc801 \ubcc0\ud658\uc774 \uc77c\uc5b4\ub0a0 \ubfd0. \ub2e4\uc74c\uc740 \ubb35\uc2dc\uc801 \ubcc0\ud658 \uc2e4\ud328\uc2dc\uc758 \uc5d0\ub7ec\ub97c \ubcf4\uc5ec\uc900\ub2e4.\u001b[0m\u001b[1;33m\u001b[0m\u001b[0m\n\u001b[0m",
        "\u001b[1;31mTypeError\u001b[0m: cannot concatenate 'str' and 'int' objects"
       ]
      }
     ],
     "prompt_number": 6
    },
    {
     "cell_type": "heading",
     "level": 3,
     "metadata": {},
     "source": [
      "\uc18d\uc131\uacfc \uba54\uc11c\ub4dc"
     ]
    },
    {
     "cell_type": "code",
     "collapsed": false,
     "input": [
      "a = 'foo'\n",
      "a # .\uc744 \ucc0d\uace0 \ud0ed\ud0a4\ub97c \ub204\ub974\uba74 \uc544\ub798 \uadf8\ub9bc\uacfc \uac19\uc774 \uc18d\uc131\uacfc \uba54\uc11c\ub4dc\ub4e4\uc774 \uc120\ud0dd\ud560 \uc218 \uc788\uac8c \ub098\ud0c0\ub09c\ub2e4."
     ],
     "language": "python",
     "metadata": {},
     "outputs": []
    },
    {
     "cell_type": "markdown",
     "metadata": {},
     "source": [
      "<img src='./01_figures/01_fig.a.3.png'/>"
     ]
    },
    {
     "cell_type": "heading",
     "level": 3,
     "metadata": {},
     "source": [
      "\ub355 \ud0c0\uc774\ud551"
     ]
    },
    {
     "cell_type": "code",
     "collapsed": false,
     "input": [
      "def isiterable(obj) :\n",
      "    try :\n",
      "        iter(obj)\n",
      "        return True\n",
      "    except TypeError : # not interable\n",
      "        return False"
     ],
     "language": "python",
     "metadata": {},
     "outputs": [],
     "prompt_number": 10
    },
    {
     "cell_type": "code",
     "collapsed": false,
     "input": [
      "isiterable('a string')"
     ],
     "language": "python",
     "metadata": {},
     "outputs": [
      {
       "metadata": {},
       "output_type": "pyout",
       "prompt_number": 11,
       "text": [
        "True"
       ]
      }
     ],
     "prompt_number": 11
    },
    {
     "cell_type": "code",
     "collapsed": false,
     "input": [
      "isiterable([1, 2, 3])"
     ],
     "language": "python",
     "metadata": {},
     "outputs": [
      {
       "metadata": {},
       "output_type": "pyout",
       "prompt_number": 12,
       "text": [
        "True"
       ]
      }
     ],
     "prompt_number": 12
    },
    {
     "cell_type": "code",
     "collapsed": false,
     "input": [
      "isiterable(5)"
     ],
     "language": "python",
     "metadata": {},
     "outputs": [
      {
       "metadata": {},
       "output_type": "pyout",
       "prompt_number": 13,
       "text": [
        "False"
       ]
      }
     ],
     "prompt_number": 13
    },
    {
     "cell_type": "heading",
     "level": 3,
     "metadata": {},
     "source": [
      "\ubaa8\ub4c8 import"
     ]
    },
    {
     "cell_type": "code",
     "collapsed": false,
     "input": [
      "# \ud30c\uc774\uc36c\uc5d0\uc11c \ubaa8\ub4c8\uc740 \ub2e4\ub978 .py \ud30c\uc77c\uc5d0\uc11c \ucd94\uac00\ud574\uc11c \uc0ac\uc6a9\ud560 \uc218 \uc788\ub294 \ud568\uc218\uc640 \ubcc0\uc218 \uc120\uc5b8\uc744 \ub2f4\uace0 \uc788\ub294 .py \ud30c\uc77c\uc774\ub2e4. \n",
      "# \ub2e4\uc74c\uacfc \uac19\uc740 \ubaa8\ub4c8\uc744 \uac00\uc9c0\uace0 \uc788\ub2e4\uace0 \uac00\uc815\ud558\uc790."
     ],
     "language": "python",
     "metadata": {},
     "outputs": []
    },
    {
     "cell_type": "code",
     "collapsed": false,
     "input": [
      "%%writefile some_module.py\n",
      "\n",
      "### some_module.py\n",
      "PI = 3.14159\n",
      "\n",
      "def f(x) : \n",
      "    return 3.14159\n",
      "\n",
      "def g(a, b) : \n",
      "    return a+b"
     ],
     "language": "python",
     "metadata": {},
     "outputs": [
      {
       "output_type": "stream",
       "stream": "stdout",
       "text": [
        "Writing some_module.py\n"
       ]
      }
     ],
     "prompt_number": 36
    },
    {
     "cell_type": "code",
     "collapsed": false,
     "input": [
      "%ls *.py"
     ],
     "language": "python",
     "metadata": {},
     "outputs": [
      {
       "output_type": "stream",
       "stream": "stdout",
       "text": [
        "some_module.py\r\n"
       ]
      }
     ],
     "prompt_number": 37
    },
    {
     "cell_type": "code",
     "collapsed": false,
     "input": [
      "import some_module\n",
      "result = some_module.f(5)\n",
      "pi = some_module.PI\n",
      "print result\n",
      "print pi"
     ],
     "language": "python",
     "metadata": {},
     "outputs": [
      {
       "output_type": "stream",
       "stream": "stdout",
       "text": [
        "3.14159\n",
        "3.14159\n"
       ]
      }
     ],
     "prompt_number": 39
    },
    {
     "cell_type": "code",
     "collapsed": false,
     "input": [
      "from some_module import f, g, PI\n",
      "result = g(5, PI)\n",
      "print result"
     ],
     "language": "python",
     "metadata": {},
     "outputs": [
      {
       "output_type": "stream",
       "stream": "stdout",
       "text": [
        "8.14159\n"
       ]
      }
     ],
     "prompt_number": 40
    },
    {
     "cell_type": "code",
     "collapsed": false,
     "input": [
      "import some_module as sm\n",
      "from some_module import PI as pi, g as gf\n",
      "\n",
      "r1 = sm.f(pi)\n",
      "r2 = gf(6, pi)\n",
      "print r1\n",
      "print r2"
     ],
     "language": "python",
     "metadata": {},
     "outputs": [
      {
       "output_type": "stream",
       "stream": "stdout",
       "text": [
        "3.14159\n",
        "9.14159\n"
       ]
      }
     ],
     "prompt_number": 42
    },
    {
     "cell_type": "heading",
     "level": 3,
     "metadata": {},
     "source": [
      "\uc774\ud56d\uc5f0\uc0b0\uc790"
     ]
    },
    {
     "cell_type": "markdown",
     "metadata": {},
     "source": [
      "<img src='./01_figures/01_tbl.a.1.1.png'/>\n",
      "<img src='./01_figures/01_tbl.a.1.2.png'/>"
     ]
    },
    {
     "cell_type": "heading",
     "level": 3,
     "metadata": {},
     "source": [
      "\ud3c9\uac00 \ubc29\uc2dd"
     ]
    },
    {
     "cell_type": "code",
     "collapsed": false,
     "input": [
      "a = b = c = 5\n",
      "d = a + b * c\n",
      "d"
     ],
     "language": "python",
     "metadata": {},
     "outputs": [
      {
       "metadata": {},
       "output_type": "pyout",
       "prompt_number": 43,
       "text": [
        "30"
       ]
      }
     ],
     "prompt_number": 43
    },
    {
     "cell_type": "heading",
     "level": 3,
     "metadata": {},
     "source": [
      "\ubba4\ud130\ube14, \uc774\ubba4\ud130\ube14 \uac1d\uccb4"
     ]
    },
    {
     "cell_type": "code",
     "collapsed": false,
     "input": [
      "a_list = ['foo', 2, [4, 5]]\n",
      "print a_list\n",
      "a_list[2] = (3,4)\n",
      "print a_list"
     ],
     "language": "python",
     "metadata": {},
     "outputs": [
      {
       "output_type": "stream",
       "stream": "stdout",
       "text": [
        "['foo', 2, [4, 5]]\n",
        "['foo', 2, (3, 4)]\n"
       ]
      }
     ],
     "prompt_number": 44
    },
    {
     "cell_type": "code",
     "collapsed": false,
     "input": [
      "a_tuple = (3, 5, (4, 5))\n",
      "print a_tuple\n",
      "a_tuple[1] = 'four'\n",
      "print a_tuple  # \ud29c\ud50c\uc740 \uc774\ubba4\ud130\ube14(\uac12\uc744 \ubc14\uafc0\uc218 \uc5c6\ub294) \uac1d\uccb4\uc774\ubbc0\ub85c \uc5d0\ub7ec\uac00 \ub09c\ub2e4."
     ],
     "language": "python",
     "metadata": {},
     "outputs": [
      {
       "output_type": "stream",
       "stream": "stdout",
       "text": [
        "(3, 5, (4, 5))\n"
       ]
      },
      {
       "ename": "TypeError",
       "evalue": "'tuple' object does not support item assignment",
       "output_type": "pyerr",
       "traceback": [
        "\u001b[1;31m---------------------------------------------------------------------------\u001b[0m\n\u001b[1;31mTypeError\u001b[0m                                 Traceback (most recent call last)",
        "\u001b[1;32m<ipython-input-46-db765addd4dd>\u001b[0m in \u001b[0;36m<module>\u001b[1;34m()\u001b[0m\n\u001b[0;32m      1\u001b[0m \u001b[0ma_tuple\u001b[0m \u001b[1;33m=\u001b[0m \u001b[1;33m(\u001b[0m\u001b[1;36m3\u001b[0m\u001b[1;33m,\u001b[0m \u001b[1;36m5\u001b[0m\u001b[1;33m,\u001b[0m \u001b[1;33m(\u001b[0m\u001b[1;36m4\u001b[0m\u001b[1;33m,\u001b[0m \u001b[1;36m5\u001b[0m\u001b[1;33m)\u001b[0m\u001b[1;33m)\u001b[0m\u001b[1;33m\u001b[0m\u001b[0m\n\u001b[0;32m      2\u001b[0m \u001b[1;32mprint\u001b[0m \u001b[0ma_tuple\u001b[0m\u001b[1;33m\u001b[0m\u001b[0m\n\u001b[1;32m----> 3\u001b[1;33m \u001b[0ma_tuple\u001b[0m\u001b[1;33m[\u001b[0m\u001b[1;36m1\u001b[0m\u001b[1;33m]\u001b[0m \u001b[1;33m=\u001b[0m \u001b[1;34m'four'\u001b[0m\u001b[1;33m\u001b[0m\u001b[0m\n\u001b[0m\u001b[0;32m      4\u001b[0m \u001b[1;32mprint\u001b[0m \u001b[0ma_tuple\u001b[0m  \u001b[1;31m# \ud29c\ud50c\uc740 \uc774\ubba4\ud130\ube14(\uac12\uc744 \ubc14\uafc0\uc218 \uc5c6\ub294) \uac1d\uccb4\uc774\ubbc0\ub85c \uc5d0\ub7ec\uac00 \ub09c\ub2e4.\u001b[0m\u001b[1;33m\u001b[0m\u001b[0m\n",
        "\u001b[1;31mTypeError\u001b[0m: 'tuple' object does not support item assignment"
       ]
      }
     ],
     "prompt_number": 46
    },
    {
     "cell_type": "heading",
     "level": 2,
     "metadata": {},
     "source": [
      "\uc2a4\uce7c\ub77c\ud615"
     ]
    },
    {
     "cell_type": "heading",
     "level": 3,
     "metadata": {},
     "source": [
      "* \uc22b\uc790 \uc790\ub8cc\ud615\n",
      "* \ubb38\uc790\uc5f4\n",
      "* \ubd88\ub9ac\uc5b8\n",
      "* \ud615\ubcc0\ud658\n",
      "* None\n",
      "* \ub0a0\uc9dc\uc640 \uc2dc\uac04"
     ]
    },
    {
     "cell_type": "heading",
     "level": 3,
     "metadata": {},
     "source": [
      "\uc22b\uc790 \uc790\ub8cc\ud615"
     ]
    },
    {
     "cell_type": "code",
     "collapsed": false,
     "input": [
      "ival = 17239871\n",
      "ival ** 6"
     ],
     "language": "python",
     "metadata": {},
     "outputs": [
      {
       "metadata": {},
       "output_type": "pyout",
       "prompt_number": 47,
       "text": [
        "26254519291092456596965462913230729701102721L"
       ]
      }
     ],
     "prompt_number": 47
    },
    {
     "cell_type": "code",
     "collapsed": false,
     "input": [
      "fval = 7.243\n",
      "fval2 = 6.78e-5"
     ],
     "language": "python",
     "metadata": {},
     "outputs": [],
     "prompt_number": 48
    },
    {
     "cell_type": "code",
     "collapsed": false,
     "input": [
      "3 / 2"
     ],
     "language": "python",
     "metadata": {},
     "outputs": [
      {
       "metadata": {},
       "output_type": "pyout",
       "prompt_number": 49,
       "text": [
        "1"
       ]
      }
     ],
     "prompt_number": 49
    },
    {
     "cell_type": "code",
     "collapsed": false,
     "input": [
      "3 / float(2)"
     ],
     "language": "python",
     "metadata": {},
     "outputs": [
      {
       "metadata": {},
       "output_type": "pyout",
       "prompt_number": 50,
       "text": [
        "1.5"
       ]
      }
     ],
     "prompt_number": 50
    },
    {
     "cell_type": "code",
     "collapsed": false,
     "input": [
      "from __future__ import division\n",
      "3 / 2"
     ],
     "language": "python",
     "metadata": {},
     "outputs": [
      {
       "metadata": {},
       "output_type": "pyout",
       "prompt_number": 51,
       "text": [
        "1.5"
       ]
      }
     ],
     "prompt_number": 51
    },
    {
     "cell_type": "heading",
     "level": 3,
     "metadata": {},
     "source": [
      "\ubb38\uc790\uc5f4"
     ]
    },
    {
     "cell_type": "code",
     "collapsed": false,
     "input": [
      "a = 'one way of writing a string'\n",
      "b = \"another way\"\n",
      "print a\n",
      "print b"
     ],
     "language": "python",
     "metadata": {},
     "outputs": [
      {
       "output_type": "stream",
       "stream": "stdout",
       "text": [
        "one way of writing a string\n",
        "another way\n"
       ]
      }
     ],
     "prompt_number": 53
    },
    {
     "cell_type": "code",
     "collapsed": false,
     "input": [
      "a = 'this is a string'\n",
      "a[10] = f # \ubba4\ud130\ube14 \uac1d\uccb4. \uc5d0\ub7ec\uac00 \ub09c\ub2e4."
     ],
     "language": "python",
     "metadata": {},
     "outputs": [
      {
       "ename": "TypeError",
       "evalue": "'str' object does not support item assignment",
       "output_type": "pyerr",
       "traceback": [
        "\u001b[1;31m---------------------------------------------------------------------------\u001b[0m\n\u001b[1;31mTypeError\u001b[0m                                 Traceback (most recent call last)",
        "\u001b[1;32m<ipython-input-54-95e767a6f55a>\u001b[0m in \u001b[0;36m<module>\u001b[1;34m()\u001b[0m\n\u001b[0;32m      1\u001b[0m \u001b[0ma\u001b[0m \u001b[1;33m=\u001b[0m \u001b[1;34m'this is a string'\u001b[0m\u001b[1;33m\u001b[0m\u001b[0m\n\u001b[1;32m----> 2\u001b[1;33m \u001b[0ma\u001b[0m\u001b[1;33m[\u001b[0m\u001b[1;36m10\u001b[0m\u001b[1;33m]\u001b[0m \u001b[1;33m=\u001b[0m \u001b[0mf\u001b[0m \u001b[1;31m# \ubba4\ud130\ube14 \uac1d\uccb4. \uc5d0\ub7ec\uac00 \ub09c\ub2e4.\u001b[0m\u001b[1;33m\u001b[0m\u001b[0m\n\u001b[0m",
        "\u001b[1;31mTypeError\u001b[0m: 'str' object does not support item assignment"
       ]
      }
     ],
     "prompt_number": 54
    },
    {
     "cell_type": "code",
     "collapsed": false,
     "input": [
      "b = a.replace('string', 'longer strng')\n",
      "b"
     ],
     "language": "python",
     "metadata": {},
     "outputs": [
      {
       "metadata": {},
       "output_type": "pyout",
       "prompt_number": 55,
       "text": [
        "'this is a longer strng'"
       ]
      }
     ],
     "prompt_number": 55
    },
    {
     "cell_type": "code",
     "collapsed": false,
     "input": [
      "a = 5.6\n",
      "print a\n",
      "s = str(a)\n",
      "print s # \uc774\uac83\uc740 \ubb38\uc790"
     ],
     "language": "python",
     "metadata": {},
     "outputs": [
      {
       "output_type": "stream",
       "stream": "stdout",
       "text": [
        "5.6\n",
        "5.6\n"
       ]
      }
     ],
     "prompt_number": 57
    },
    {
     "cell_type": "code",
     "collapsed": false,
     "input": [
      "a = 'this is the first half'\n",
      "b = 'and this is the second half'\n",
      "a + b"
     ],
     "language": "python",
     "metadata": {},
     "outputs": [
      {
       "metadata": {},
       "output_type": "pyout",
       "prompt_number": 59,
       "text": [
        "'this is the first halfand this is the second half'"
       ]
      }
     ],
     "prompt_number": 59
    },
    {
     "cell_type": "heading",
     "level": 3,
     "metadata": {},
     "source": [
      "\ubd88\ub9ac\uc5b8"
     ]
    },
    {
     "cell_type": "code",
     "collapsed": false,
     "input": [
      "True and True"
     ],
     "language": "python",
     "metadata": {},
     "outputs": [
      {
       "metadata": {},
       "output_type": "pyout",
       "prompt_number": 60,
       "text": [
        "True"
       ]
      }
     ],
     "prompt_number": 60
    },
    {
     "cell_type": "code",
     "collapsed": false,
     "input": [
      "False or True"
     ],
     "language": "python",
     "metadata": {},
     "outputs": [
      {
       "metadata": {},
       "output_type": "pyout",
       "prompt_number": 61,
       "text": [
        "True"
       ]
      }
     ],
     "prompt_number": 61
    },
    {
     "cell_type": "heading",
     "level": 3,
     "metadata": {},
     "source": [
      "\ud615\ubcc0\ud658"
     ]
    },
    {
     "cell_type": "code",
     "collapsed": false,
     "input": [
      "s = '3.14159'\n",
      "fval = float(s)\n",
      "type(fval)"
     ],
     "language": "python",
     "metadata": {},
     "outputs": [
      {
       "metadata": {},
       "output_type": "pyout",
       "prompt_number": 62,
       "text": [
        "float"
       ]
      }
     ],
     "prompt_number": 62
    },
    {
     "cell_type": "heading",
     "level": 3,
     "metadata": {},
     "source": [
      "None"
     ]
    },
    {
     "cell_type": "code",
     "collapsed": false,
     "input": [
      "a = None\n",
      "a is None"
     ],
     "language": "python",
     "metadata": {},
     "outputs": [
      {
       "metadata": {},
       "output_type": "pyout",
       "prompt_number": 63,
       "text": [
        "True"
       ]
      }
     ],
     "prompt_number": 63
    },
    {
     "cell_type": "code",
     "collapsed": false,
     "input": [
      "b = 5\n",
      "b is None"
     ],
     "language": "python",
     "metadata": {},
     "outputs": [
      {
       "metadata": {},
       "output_type": "pyout",
       "prompt_number": 64,
       "text": [
        "False"
       ]
      }
     ],
     "prompt_number": 64
    },
    {
     "cell_type": "heading",
     "level": 3,
     "metadata": {},
     "source": [
      "\ub0a0\uc9dc\uc640 \uc2dc\uac04"
     ]
    },
    {
     "cell_type": "code",
     "collapsed": false,
     "input": [
      "from datetime import datetime, date, time\n",
      "\n",
      "dt = datetime(2011, 10, 29, 20, 30, 21)\n",
      "print dt.day\n",
      "print dt.minute"
     ],
     "language": "python",
     "metadata": {},
     "outputs": [
      {
       "output_type": "stream",
       "stream": "stdout",
       "text": [
        "29\n",
        "30\n"
       ]
      }
     ],
     "prompt_number": 65
    },
    {
     "cell_type": "heading",
     "level": 2,
     "metadata": {},
     "source": [
      "\ud750\ub984 \uc81c\uc5b4"
     ]
    },
    {
     "cell_type": "markdown",
     "metadata": {},
     "source": [
      "* if, elif, else\n",
      "* for \ubc18\ubcf5\ubb38\n",
      "* while \ubc18\ubcf5\ubb38\n",
      "* pass"
     ]
    },
    {
     "cell_type": "heading",
     "level": 3,
     "metadata": {},
     "source": [
      "if, elif, else"
     ]
    },
    {
     "cell_type": "code",
     "collapsed": false,
     "input": [
      "if x < 0 :\n",
      "    print 'It's nagative'\n",
      "    \n",
      "if x < 0 : \n",
      "    print 'a'\n",
      "elif x == 0 :\n",
      "    print 'b'\n",
      "elif 0 < x < 5 :\n",
      "    print 'c'\n",
      "else :\n",
      "    print 'd'"
     ],
     "language": "python",
     "metadata": {},
     "outputs": []
    },
    {
     "cell_type": "heading",
     "level": 3,
     "metadata": {},
     "source": [
      "for \ubc18\ubcf5\ubb38"
     ]
    },
    {
     "cell_type": "code",
     "collapsed": false,
     "input": [
      "for value in collection : \n",
      "    # value\ub97c \uc0ac\uc6a9\ud558\ub294 \ucf54\ub4dc"
     ],
     "language": "python",
     "metadata": {},
     "outputs": []
    },
    {
     "cell_type": "code",
     "collapsed": false,
     "input": [
      "sequence = [1, 2, None, 4, None, 5]\n",
      "\n",
      "total = 0\n",
      "for value in sequence :\n",
      "    if value is None :\n",
      "        continue\n",
      "    total += value\n",
      "    \n",
      "print value"
     ],
     "language": "python",
     "metadata": {},
     "outputs": [
      {
       "output_type": "stream",
       "stream": "stdout",
       "text": [
        "5\n"
       ]
      }
     ],
     "prompt_number": 66
    },
    {
     "cell_type": "heading",
     "level": 3,
     "metadata": {},
     "source": [
      "while \ubc18\ubcf5\ubb38"
     ]
    },
    {
     "cell_type": "code",
     "collapsed": false,
     "input": [
      "x = 256\n",
      "\n",
      "total = 0\n",
      "\n",
      "while x > 0 :\n",
      "    if total > 500 :\n",
      "        break\n",
      "    total += x\n",
      "    x = x // 2\n",
      "\n",
      "print x"
     ],
     "language": "python",
     "metadata": {},
     "outputs": [
      {
       "output_type": "stream",
       "stream": "stdout",
       "text": [
        "4\n"
       ]
      }
     ],
     "prompt_number": 67
    },
    {
     "cell_type": "heading",
     "level": 3,
     "metadata": {},
     "source": [
      "pass"
     ]
    },
    {
     "cell_type": "code",
     "collapsed": false,
     "input": [
      "# pass\ub294 \ud30c\uc774\uc36c\uc758 \uc544\ubb34\uac83\ub3c4 \ud558\uc9c0 \uc54a\uc74c\uc744 \ub098\ud0c0\ub0c4\n",
      "if x < 0 :\n",
      "    print 'negative!'\n",
      "elif x == 0 :\n",
      "    # TODO : \ub098\uc911\uc5d0 \ubb54\uac00 \ucd94\uac00\ud574\uc57c \ud568\n",
      "    pass\n",
      "else :\n",
      "    print 'positive!'"
     ],
     "language": "python",
     "metadata": {},
     "outputs": []
    },
    {
     "cell_type": "markdown",
     "metadata": {},
     "source": [
      "## \ucc38\uace0\uc790\ub8cc \n",
      "\n",
      " * [1] \ud30c\uc774\uc36c \ub77c\uc774\ube0c\ub7ec\ub9ac\ub97c \ud65c\uc6a9\ud55c \ub370\uc774\ud130 \ubd84\uc11d - http://www.hanbit.co.kr/book/look.html?isbn=978-89-6848-047-8"
     ]
    }
   ],
   "metadata": {}
  }
 ]
}