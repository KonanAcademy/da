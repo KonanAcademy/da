{
 "metadata": {
  "name": "",
  "signature": "sha256:d48293afff155993d27a331e00ccd29bb08d5fa6a7e97146a2bce9169fcadb4e"
 },
 "nbformat": 3,
 "nbformat_minor": 0,
 "worksheets": []
}