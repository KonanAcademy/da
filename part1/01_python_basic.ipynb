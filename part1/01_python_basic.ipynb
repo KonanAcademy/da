{
 "metadata": {
  "name": "",
  "signature": "sha256:ef2d499cc1dac38f445c4f4f970c2bb1aacff7bce1c38bbd08d76ed66458236f"
 },
 "nbformat": 3,
 "nbformat_minor": 0,
 "worksheets": [
  {
   "cells": [
    {
     "cell_type": "heading",
     "level": 1,
     "metadata": {},
     "source": [
      "01.  \ud30c\uc774\uc36c \uae30\ucd08"
     ]
    },
    {
     "cell_type": "markdown",
     "metadata": {},
     "source": [
      "* \ucf54\ub09c\uc544\uce74\ub370\ubbf8 : \ub370\uc774\ud130\ubd84\uc11d \uae30\ucd08\n",
      "* \ubc1c\ud45c\uc790 : \uae40\ubb34\uc131    "
     ]
    },
    {
     "cell_type": "heading",
     "level": 1,
     "metadata": {},
     "source": [
      "\ucc28\ub840"
     ]
    },
    {
     "cell_type": "markdown",
     "metadata": {},
     "source": [
      "* \ucd94\ucc9c \uc0ac\uc774\ud2b8\n",
      "* \ud30c\uc774\uc36c \uae30\ucd08 [1]\n",
      "* \uc790\ub8cc \uad6c\uc870\uc640 \uc21c\ucc28 \uc790\ub8cc\ud615 [1]\n",
      "* \ud568\uc218 [1]\n",
      "* \ud074\ub798\uc2a4 [2, 3]\n",
      "* \ud544\ud130/\ub9f5 "
     ]
    },
    {
     "cell_type": "heading",
     "level": 1,
     "metadata": {},
     "source": [
      "\ucd94\ucc9c \uc0ac\uc774\ud2b8"
     ]
    },
    {
     "cell_type": "markdown",
     "metadata": {},
     "source": [
      "* \ud30c\uc774\uc36c \uc124\uce58 - https://github.com/psygrammer/bayesianPy/blob/master/sp_pythonbasic/python_install_guide.md\n",
      "* \uc810\ud504 \ud22c \ud30c\uc774\uc36c - https://wikidocs.net/book/1\n",
      "* \ud30c\uc774\uc36c \ubc30\uc6b0\ub294 \ucd5c\uace0\uc758 \ubc29\ubc95 - http://nolboo.github.io/blog/2014/08/10/the-best-way-to-learn-python/\n",
      "* Python Tips, Tricks, and Hacks - http://www.siafoo.net/article/52 - http://learnxinyminutes.com/docs/ko-kr/python-kr/\n",
      "* python | learn x in y minutes - http://learnxinyminutes.com/docs/ko-kr/python-kr/\n",
      "* ipython \uc0ac\uc6a9\ubc95 - http://nbviewer.ipython.org/gist/irobii/014b8aa3574090a0d04a\n",
      "    "
     ]
    },
    {
     "cell_type": "heading",
     "level": 1,
     "metadata": {},
     "source": [
      "\ud30c\uc774\uc36c \uae30\ucd08"
     ]
    },
    {
     "cell_type": "markdown",
     "metadata": {},
     "source": [
      "\ud30c\uc774\uc36c \uc778\ud130\ud504\ub9ac\ud130 \n",
      "\n",
      "\uc2dc\uba58\ud2f1\n",
      "* \ub4e4\uc5ec\uc4f0\uae30\n",
      "* \ubaa8\ub4e0 \uac83\uc740 \uac1d\uccb4\n",
      "* \uc8fc\uc11d\n",
      "* \ud568\uc218\uc640 \uac1d\uccb4 \uba54\uc11c\ub4dc \ud638\ucd9c\n",
      "* \ubcc0\uc218\uc640 \ucc38\uc870\uc5d0 \uc758\ud55c \uc804\ub2ec\n",
      "* \ub3d9\uc801 \ucc38\uc870\uc640 \uac15\ud55c \ud0c0\uc785\n",
      "* \uc18d\uc131\uacfc \uba54\uc11c\ub4dc\n",
      "* \ub355 \ud0c0\uc774\ud551\n",
      "* \ubaa8\ub4c8 import\n",
      "* \uc774\ud56d\uc5f0\uc0b0\uc790\uc640 \ube44\uad50\ubb38\n",
      "* \ud3c9\uac00 \ubc29\uc2dd\n",
      "* \ubba4\ud130\ube14, \uc774\ubba4\ud130\ube14 \uac1d\uccb4\n",
      "\n",
      "\uc2a4\uce7c\ub77c\ud615<br>\n",
      "\n",
      "\ud750\ub984 \uc81c\uc5b4"
     ]
    },
    {
     "cell_type": "heading",
     "level": 2,
     "metadata": {},
     "source": [
      "\ud30c\uc774\uc36c \uc778\ud130\ud504\ub9ac\ud130"
     ]
    },
    {
     "cell_type": "markdown",
     "metadata": {},
     "source": [
      "* \ud30c\uc774\uc36c\uc740 \uc778\ud130\ud504\ub9ac\ud130 \uc5b8\uc5b4 (\ud55c \ubc88\uc5d0 \ud558\ub098\uc758 \uba85\ub839\uc5b4\ub9cc \uc2e4\ud589)\n",
      "* \ub370\uc774\ud130 \ubd84\uc11d\uac00\ub4e4\uc740 \uae30\ubcf8 \uc778\ud130\ud504\ub9ac\ud130 \ubcf4\ub2e4 ipython\uc744 \uc0ac\uc6a9\ud558\ub294 \uacbd\ud5a5(\uadf8\ub7f0\ub370 \uc774\uac83\ub3c4 \uc810\uc810 ipython notebook \uc73c\ub85c \uc774\ub3d9 \uc911)"
     ]
    },
    {
     "cell_type": "heading",
     "level": 2,
     "metadata": {},
     "source": [
      "\uc2dc\uba58\ud2f1"
     ]
    },
    {
     "cell_type": "heading",
     "level": 3,
     "metadata": {},
     "source": [
      "\ub4e4\uc5ec\uc4f0\uae30"
     ]
    },
    {
     "cell_type": "code",
     "collapsed": false,
     "input": [
      "for x in array :\n",
      "    if x < pivot :\n",
      "        less.append(x)\n",
      "    else :\n",
      "        qreater.append(x)"
     ],
     "language": "python",
     "metadata": {},
     "outputs": []
    },
    {
     "cell_type": "code",
     "collapsed": false,
     "input": [
      "a = 5; b = 6; c = 7;  # \ud55c \uc904\uc5d0 \ubb38\uc7a5\uc774 \uc5ec\ub7ff\uc77c \ub54c\ub294 \uad6c\ubd84\ud558\uae30 \uc704\ud574 ;\uc744 \uc4f4\ub2e4. \ud558\uc9c0\ub9cc \ud30c\uc774\uc36c\uc5d0\uc11c\ub294 \uac00\ub3c5\uc131 \ub54c\ubb38\uc5d0 \uad8c\ud558\uc9c0 \uc54a\ub294\ub2e4."
     ],
     "language": "python",
     "metadata": {},
     "outputs": []
    },
    {
     "cell_type": "heading",
     "level": 3,
     "metadata": {},
     "source": [
      "\ubaa8\ub4e0 \uac83\uc740 \uac1d\uccb4 "
     ]
    },
    {
     "cell_type": "markdown",
     "metadata": {},
     "source": [
      "\uac1d\uccb4 \ubaa8\ub378\uc758 \uc77c\uad00\uc131\uc740 \ud30c\uc774\uc36c\uc758 \uc911\uc694\ud55c \ud2b9\uc9d5. \ubaa8\ub4e0 \uc22b\uc790, \ubb38\uc790\uc5f4, \uc790\ub8cc \uad6c\uc870, \ud568\uc218, \ud074\ub798\uc2a4, \ubaa8\ub4c8 \ub4f1\uc740 \ud30c\uc774\uc36c \uc778\ud130\ud504\ub9ac\ud130\uc5d0\uc11c \ud30c\uc774\uc36c \uac1d\uccb4\ub85c \uc800\uc7a5\ub41c\ub2e4. \ud568\uc218\ub9c8\uc800 \ud558\ub098\uc758 \uac1d\uccb4\ub85c \uac04\uc8fc\ud55c\ub2e4."
     ]
    },
    {
     "cell_type": "heading",
     "level": 3,
     "metadata": {},
     "source": [
      "\uc8fc\uc11d"
     ]
    },
    {
     "cell_type": "code",
     "collapsed": false,
     "input": [
      "# \uc774\uac83\uc774 \uc8fc\uc11d\uc774\ub2e4"
     ],
     "language": "python",
     "metadata": {},
     "outputs": []
    },
    {
     "cell_type": "heading",
     "level": 3,
     "metadata": {},
     "source": [
      "\ud568\uc218\uc640 \uac1d\uccb4 \uba54\uc11c\ub4dc \ud638\ucd9c"
     ]
    },
    {
     "cell_type": "code",
     "collapsed": false,
     "input": [
      "# \ud568\uc218 \ud638\ucd9c\n",
      "result = f(x, y, z)\n",
      "g()\n",
      "\n",
      "# \uba54\uc11c\ub4dc - \uac1d\uccb4\uac00 \ud3ec\ud568\ud558\uace0 \uc788\ub294 \ud568\uc218\n",
      "obj.some_method(x, y, z)\n",
      "\n",
      "# \ud568\uc218\ub294 \uc21c\uc11c\ubcc4(\uc77c\ubc18) \uc778\uc790\uc640 \ud0a4\uc6cc\ub4dc \uc778\uc790\ub97c \ub3d9\uc2dc\uc5d0 \ubc1b\uc744 \uc218 \uc788\ub2e4.\n",
      "result = f(a, b, c, d=5, e='foo')"
     ],
     "language": "python",
     "metadata": {},
     "outputs": []
    },
    {
     "cell_type": "heading",
     "level": 3,
     "metadata": {},
     "source": [
      "\ubcc0\uc218\uc640 \ucc38\uc870\uc5d0 \uc758\ud55c \uc804\ub2ec"
     ]
    },
    {
     "cell_type": "code",
     "collapsed": false,
     "input": [
      "a = [1, 2, 3]\n",
      "b = a\n",
      "a.append(4)\n",
      "b"
     ],
     "language": "python",
     "metadata": {},
     "outputs": [
      {
       "metadata": {},
       "output_type": "pyout",
       "prompt_number": 1,
       "text": [
        "[1, 2, 3, 4]"
       ]
      }
     ],
     "prompt_number": 1
    },
    {
     "cell_type": "markdown",
     "metadata": {},
     "source": [
      "<img src='./01_figures/01_fig.a.1.png'/>"
     ]
    },
    {
     "cell_type": "code",
     "collapsed": false,
     "input": [
      "def append_element(some_list, element) :\n",
      "    some_list.append(element)\n",
      "    \n",
      "data = [1, 2, 3]\n",
      "append_element(data, 4)\n",
      "data"
     ],
     "language": "python",
     "metadata": {},
     "outputs": [
      {
       "metadata": {},
       "output_type": "pyout",
       "prompt_number": 2,
       "text": [
        "[1, 2, 3, 4]"
       ]
      }
     ],
     "prompt_number": 2
    },
    {
     "cell_type": "heading",
     "level": 3,
     "metadata": {},
     "source": [
      "\ub3d9\uc801 \ucc38\uc870\uc640 \uac15\ud55c \ud0c0\uc785"
     ]
    },
    {
     "cell_type": "code",
     "collapsed": false,
     "input": [
      "a = 5\n",
      "type(a)"
     ],
     "language": "python",
     "metadata": {},
     "outputs": [
      {
       "metadata": {},
       "output_type": "pyout",
       "prompt_number": 3,
       "text": [
        "int"
       ]
      }
     ],
     "prompt_number": 3
    },
    {
     "cell_type": "code",
     "collapsed": false,
     "input": [
      "a = 'foo'\n",
      "type(a)"
     ],
     "language": "python",
     "metadata": {},
     "outputs": [
      {
       "metadata": {},
       "output_type": "pyout",
       "prompt_number": 4,
       "text": [
        "str"
       ]
      }
     ],
     "prompt_number": 4
    },
    {
     "cell_type": "code",
     "collapsed": false,
     "input": [
      "'5' + 5  # \ud30c\uc774\uc36c\uc740 \uc790\ub8cc\ud615\uc774 \uc5c6\ub294 \uc5b8\uc5b4\uac00 \uc544\ub2c8\ub2e4. \ubb35\uc2dc\uc801 \ubcc0\ud658\uc774 \uc77c\uc5b4\ub0a0 \ubfd0. \ub2e4\uc74c\uc740 \ubb35\uc2dc\uc801 \ubcc0\ud658 \uc2e4\ud328\uc2dc\uc758 \uc5d0\ub7ec\ub97c \ubcf4\uc5ec\uc900\ub2e4."
     ],
     "language": "python",
     "metadata": {},
     "outputs": [
      {
       "ename": "TypeError",
       "evalue": "cannot concatenate 'str' and 'int' objects",
       "output_type": "pyerr",
       "traceback": [
        "\u001b[1;31m---------------------------------------------------------------------------\u001b[0m\n\u001b[1;31mTypeError\u001b[0m                                 Traceback (most recent call last)",
        "\u001b[1;32m<ipython-input-6-6071fbdea048>\u001b[0m in \u001b[0;36m<module>\u001b[1;34m()\u001b[0m\n\u001b[1;32m----> 1\u001b[1;33m \u001b[1;34m'5'\u001b[0m \u001b[1;33m+\u001b[0m \u001b[1;36m5\u001b[0m  \u001b[1;31m# \ud30c\uc774\uc36c\uc740 \uc790\ub8cc\ud615\uc774 \uc5c6\ub294 \uc5b8\uc5b4\uac00 \uc544\ub2c8\ub2e4. \ubb35\uc2dc\uc801 \ubcc0\ud658\uc774 \uc77c\uc5b4\ub0a0 \ubfd0. \ub2e4\uc74c\uc740 \ubb35\uc2dc\uc801 \ubcc0\ud658 \uc2e4\ud328\uc2dc\uc758 \uc5d0\ub7ec\ub97c \ubcf4\uc5ec\uc900\ub2e4.\u001b[0m\u001b[1;33m\u001b[0m\u001b[0m\n\u001b[0m",
        "\u001b[1;31mTypeError\u001b[0m: cannot concatenate 'str' and 'int' objects"
       ]
      }
     ],
     "prompt_number": 6
    },
    {
     "cell_type": "heading",
     "level": 3,
     "metadata": {},
     "source": [
      "\uc18d\uc131\uacfc \uba54\uc11c\ub4dc"
     ]
    },
    {
     "cell_type": "code",
     "collapsed": false,
     "input": [
      "a = 'foo'\n",
      "a # .\uc744 \ucc0d\uace0 \ud0ed\ud0a4\ub97c \ub204\ub974\uba74 \uc544\ub798 \uadf8\ub9bc\uacfc \uac19\uc774 \uc18d\uc131\uacfc \uba54\uc11c\ub4dc\ub4e4\uc774 \uc120\ud0dd\ud560 \uc218 \uc788\uac8c \ub098\ud0c0\ub09c\ub2e4."
     ],
     "language": "python",
     "metadata": {},
     "outputs": []
    },
    {
     "cell_type": "markdown",
     "metadata": {},
     "source": [
      "<img src='./01_figures/01_fig.a.3.png'/>"
     ]
    },
    {
     "cell_type": "heading",
     "level": 3,
     "metadata": {},
     "source": [
      "\ub355 \ud0c0\uc774\ud551"
     ]
    },
    {
     "cell_type": "markdown",
     "metadata": {},
     "source": [
      "\ub355 \ud0c0\uc774\ud551 - http://ko.wikipedia.org/wiki/\ub355_\ud0c0\uc774\ud551"
     ]
    },
    {
     "cell_type": "code",
     "collapsed": false,
     "input": [
      "def isiterable(obj) :\n",
      "    try :\n",
      "        iter(obj)\n",
      "        return True\n",
      "    except TypeError : # not interable\n",
      "        return False"
     ],
     "language": "python",
     "metadata": {},
     "outputs": [],
     "prompt_number": 10
    },
    {
     "cell_type": "code",
     "collapsed": false,
     "input": [
      "isiterable('a string')"
     ],
     "language": "python",
     "metadata": {},
     "outputs": [
      {
       "metadata": {},
       "output_type": "pyout",
       "prompt_number": 11,
       "text": [
        "True"
       ]
      }
     ],
     "prompt_number": 11
    },
    {
     "cell_type": "code",
     "collapsed": false,
     "input": [
      "isiterable([1, 2, 3])"
     ],
     "language": "python",
     "metadata": {},
     "outputs": [
      {
       "metadata": {},
       "output_type": "pyout",
       "prompt_number": 12,
       "text": [
        "True"
       ]
      }
     ],
     "prompt_number": 12
    },
    {
     "cell_type": "code",
     "collapsed": false,
     "input": [
      "isiterable(5)"
     ],
     "language": "python",
     "metadata": {},
     "outputs": [
      {
       "metadata": {},
       "output_type": "pyout",
       "prompt_number": 13,
       "text": [
        "False"
       ]
      }
     ],
     "prompt_number": 13
    },
    {
     "cell_type": "code",
     "collapsed": false,
     "input": [
      "# \uc21c\ucc28\uc801 \uc790\ub8cc\uad6c\uc870\ub77c\uba74, \uac1d\uccb4\uac00 \ub9ac\uc2a4\ud2b8\uc778\uc9c0 \uac80\uc0ac\ud574\uc11c \uadf8\ub807\uc9c0 \uc54a\uc740 \uacbd\uc6b0 \uc778\uc790\ub97c \ubcc0\ud658\ud574\uc904 \uc218 \uc788\ub2e4.\n",
      "if not isinstance(x, list) and isiterable(x) :\n",
      "    x = list(x)"
     ],
     "language": "python",
     "metadata": {},
     "outputs": []
    },
    {
     "cell_type": "heading",
     "level": 3,
     "metadata": {},
     "source": [
      "\ubaa8\ub4c8 import"
     ]
    },
    {
     "cell_type": "code",
     "collapsed": false,
     "input": [
      "# \ud30c\uc774\uc36c\uc5d0\uc11c \ubaa8\ub4c8\uc740 \ub2e4\ub978 .py \ud30c\uc77c\uc5d0\uc11c \ucd94\uac00\ud574\uc11c \uc0ac\uc6a9\ud560 \uc218 \uc788\ub294 \ud568\uc218\uc640 \ubcc0\uc218 \uc120\uc5b8\uc744 \ub2f4\uace0 \uc788\ub294 .py \ud30c\uc77c\uc774\ub2e4. \n",
      "# \ub2e4\uc74c\uacfc \uac19\uc740 \ubaa8\ub4c8\uc744 \uac00\uc9c0\uace0 \uc788\ub2e4\uace0 \uac00\uc815\ud558\uc790."
     ],
     "language": "python",
     "metadata": {},
     "outputs": []
    },
    {
     "cell_type": "code",
     "collapsed": false,
     "input": [
      "%%writefile some_module.py\n",
      "\n",
      "### some_module.py\n",
      "PI = 3.14159\n",
      "\n",
      "def f(x) : \n",
      "    return 3.14159\n",
      "\n",
      "def g(a, b) : \n",
      "    return a+b"
     ],
     "language": "python",
     "metadata": {},
     "outputs": [
      {
       "output_type": "stream",
       "stream": "stdout",
       "text": [
        "Writing some_module.py\n"
       ]
      }
     ],
     "prompt_number": 36
    },
    {
     "cell_type": "code",
     "collapsed": false,
     "input": [
      "%ls *.py"
     ],
     "language": "python",
     "metadata": {},
     "outputs": [
      {
       "output_type": "stream",
       "stream": "stdout",
       "text": [
        "some_module.py\r\n"
       ]
      }
     ],
     "prompt_number": 37
    },
    {
     "cell_type": "code",
     "collapsed": false,
     "input": [
      "import some_module\n",
      "result = some_module.f(5)\n",
      "pi = some_module.PI\n",
      "print result\n",
      "print pi"
     ],
     "language": "python",
     "metadata": {},
     "outputs": [
      {
       "output_type": "stream",
       "stream": "stdout",
       "text": [
        "3.14159\n",
        "3.14159\n"
       ]
      }
     ],
     "prompt_number": 39
    },
    {
     "cell_type": "code",
     "collapsed": false,
     "input": [
      "from some_module import f, g, PI\n",
      "result = g(5, PI)\n",
      "print result"
     ],
     "language": "python",
     "metadata": {},
     "outputs": [
      {
       "output_type": "stream",
       "stream": "stdout",
       "text": [
        "8.14159\n"
       ]
      }
     ],
     "prompt_number": 40
    },
    {
     "cell_type": "code",
     "collapsed": false,
     "input": [
      "import some_module as sm\n",
      "from some_module import PI as pi, g as gf\n",
      "\n",
      "r1 = sm.f(pi)\n",
      "r2 = gf(6, pi)\n",
      "print r1\n",
      "print r2"
     ],
     "language": "python",
     "metadata": {},
     "outputs": [
      {
       "output_type": "stream",
       "stream": "stdout",
       "text": [
        "3.14159\n",
        "9.14159\n"
       ]
      }
     ],
     "prompt_number": 42
    },
    {
     "cell_type": "heading",
     "level": 3,
     "metadata": {},
     "source": [
      "\uc774\ud56d\uc5f0\uc0b0\uc790\uc640 \ube44\uad50\ubb38"
     ]
    },
    {
     "cell_type": "markdown",
     "metadata": {},
     "source": [
      "<img src='./01_figures/01_tbl.a.1.1.png'/>\n",
      "<img src='./01_figures/01_tbl.a.1.2.png'/>"
     ]
    },
    {
     "cell_type": "code",
     "collapsed": false,
     "input": [
      "5 - 7"
     ],
     "language": "python",
     "metadata": {},
     "outputs": [
      {
       "metadata": {},
       "output_type": "pyout",
       "prompt_number": 1,
       "text": [
        "-2"
       ]
      }
     ],
     "prompt_number": 1
    },
    {
     "cell_type": "code",
     "collapsed": false,
     "input": [
      "12 + 21.5"
     ],
     "language": "python",
     "metadata": {},
     "outputs": [
      {
       "metadata": {},
       "output_type": "pyout",
       "prompt_number": 3,
       "text": [
        "33.5"
       ]
      }
     ],
     "prompt_number": 3
    },
    {
     "cell_type": "code",
     "collapsed": false,
     "input": [
      "5 <= 2"
     ],
     "language": "python",
     "metadata": {},
     "outputs": [
      {
       "metadata": {},
       "output_type": "pyout",
       "prompt_number": 4,
       "text": [
        "False"
       ]
      }
     ],
     "prompt_number": 4
    },
    {
     "cell_type": "code",
     "collapsed": false,
     "input": [
      "a = [1, 2, 3]\n",
      "b = a\n",
      "c = list(a)"
     ],
     "language": "python",
     "metadata": {},
     "outputs": [],
     "prompt_number": 5
    },
    {
     "cell_type": "code",
     "collapsed": false,
     "input": [
      "a is b"
     ],
     "language": "python",
     "metadata": {},
     "outputs": [
      {
       "metadata": {},
       "output_type": "pyout",
       "prompt_number": 6,
       "text": [
        "True"
       ]
      }
     ],
     "prompt_number": 6
    },
    {
     "cell_type": "code",
     "collapsed": false,
     "input": [
      "a is not c"
     ],
     "language": "python",
     "metadata": {},
     "outputs": [
      {
       "metadata": {},
       "output_type": "pyout",
       "prompt_number": 7,
       "text": [
        "True"
       ]
      }
     ],
     "prompt_number": 7
    },
    {
     "cell_type": "code",
     "collapsed": false,
     "input": [
      "a is c"
     ],
     "language": "python",
     "metadata": {},
     "outputs": [
      {
       "metadata": {},
       "output_type": "pyout",
       "prompt_number": 9,
       "text": [
        "False"
       ]
      }
     ],
     "prompt_number": 9
    },
    {
     "cell_type": "code",
     "collapsed": false,
     "input": [
      "# is \uc640 ==\ub294 \uacb0\uacfc\uac00 \ub2e4\ub974\ub2e4. is\ub294 \ub450 \ucc38\uc870 \ubcc0\uc218\uac00 \uac19\uc740 \uac1d\uccb4\ub97c \uac00\ub9ac\ud0a4\uace0 \uc788\ub294\uc9c0 \uac80\uc0ac\ud560 \ub54c \uc4f4\ub2e4.\n",
      "a == c"
     ],
     "language": "python",
     "metadata": {},
     "outputs": [
      {
       "metadata": {},
       "output_type": "pyout",
       "prompt_number": 8,
       "text": [
        "True"
       ]
      }
     ],
     "prompt_number": 8
    },
    {
     "cell_type": "heading",
     "level": 3,
     "metadata": {},
     "source": [
      "\ud3c9\uac00 \ubc29\uc2dd"
     ]
    },
    {
     "cell_type": "code",
     "collapsed": false,
     "input": [
      "# \ud30c\uc774\uc36c\uc740 \uc989\uc2dc \uc218\ud589\ub41c\ub2e4. \uac8c\uc73c\ub978 \ud3c9\uac00(lazy evaluation) \ubc29\uc2dd\uc774 \uc544\ub2c8\ub77c \ubb38\uc7a5\uc774 \uac80\uc0ac\ub418\uace0 \ub098\uba74 \uc989\uc2dc \uacc4\uc0b0\uc774 \uc218\ud589\ub41c\ub2e4.\n",
      "# (\uc774\ud130\ub808\uc774\ud130\uc640 \uc81c\ub108\ub808\uc774\ud130\ub97c \uc774\uc6a9\ud574\uc11c \uac8c\uc73c\ub978 \ud3c9\uac00 \ubc29\uc2dd\uc744 \uad6c\ud604\ud560 \uc218\ub294 \uc788\ub2e4.)\n",
      "a = b = c = 5\n",
      "d = a + b * c\n",
      "d"
     ],
     "language": "python",
     "metadata": {},
     "outputs": [
      {
       "metadata": {},
       "output_type": "pyout",
       "prompt_number": 43,
       "text": [
        "30"
       ]
      }
     ],
     "prompt_number": 43
    },
    {
     "cell_type": "heading",
     "level": 3,
     "metadata": {},
     "source": [
      "\ubba4\ud130\ube14, \uc774\ubba4\ud130\ube14 \uac1d\uccb4"
     ]
    },
    {
     "cell_type": "code",
     "collapsed": false,
     "input": [
      "# \ub9ac\uc2a4\ud2b8\ub294 \uac12\uc744 \ubc14\uafc0 \uc218 \uc788\ub294 \uc790\ub8cc\ud615\uc774\ub2e4. \n",
      "a_list = ['foo', 2, [4, 5]]\n",
      "print a_list\n",
      "a_list[2] = (3,4)\n",
      "print a_list"
     ],
     "language": "python",
     "metadata": {},
     "outputs": [
      {
       "output_type": "stream",
       "stream": "stdout",
       "text": [
        "['foo', 2, [4, 5]]\n",
        "['foo', 2, (3, 4)]\n"
       ]
      }
     ],
     "prompt_number": 44
    },
    {
     "cell_type": "code",
     "collapsed": false,
     "input": [
      "a_tuple = (3, 5, (4, 5))\n",
      "print a_tuple\n",
      "a_tuple[1] = 'four'\n",
      "print a_tuple  # \ud29c\ud50c\uc740 \uc774\ubba4\ud130\ube14(\uac12\uc744 \ubc14\uafc0\uc218 \uc5c6\ub294) \uac1d\uccb4\uc774\ubbc0\ub85c \uc5d0\ub7ec\uac00 \ub09c\ub2e4."
     ],
     "language": "python",
     "metadata": {},
     "outputs": [
      {
       "output_type": "stream",
       "stream": "stdout",
       "text": [
        "(3, 5, (4, 5))\n"
       ]
      },
      {
       "ename": "TypeError",
       "evalue": "'tuple' object does not support item assignment",
       "output_type": "pyerr",
       "traceback": [
        "\u001b[1;31m---------------------------------------------------------------------------\u001b[0m\n\u001b[1;31mTypeError\u001b[0m                                 Traceback (most recent call last)",
        "\u001b[1;32m<ipython-input-46-db765addd4dd>\u001b[0m in \u001b[0;36m<module>\u001b[1;34m()\u001b[0m\n\u001b[0;32m      1\u001b[0m \u001b[0ma_tuple\u001b[0m \u001b[1;33m=\u001b[0m \u001b[1;33m(\u001b[0m\u001b[1;36m3\u001b[0m\u001b[1;33m,\u001b[0m \u001b[1;36m5\u001b[0m\u001b[1;33m,\u001b[0m \u001b[1;33m(\u001b[0m\u001b[1;36m4\u001b[0m\u001b[1;33m,\u001b[0m \u001b[1;36m5\u001b[0m\u001b[1;33m)\u001b[0m\u001b[1;33m)\u001b[0m\u001b[1;33m\u001b[0m\u001b[0m\n\u001b[0;32m      2\u001b[0m \u001b[1;32mprint\u001b[0m \u001b[0ma_tuple\u001b[0m\u001b[1;33m\u001b[0m\u001b[0m\n\u001b[1;32m----> 3\u001b[1;33m \u001b[0ma_tuple\u001b[0m\u001b[1;33m[\u001b[0m\u001b[1;36m1\u001b[0m\u001b[1;33m]\u001b[0m \u001b[1;33m=\u001b[0m \u001b[1;34m'four'\u001b[0m\u001b[1;33m\u001b[0m\u001b[0m\n\u001b[0m\u001b[0;32m      4\u001b[0m \u001b[1;32mprint\u001b[0m \u001b[0ma_tuple\u001b[0m  \u001b[1;31m# \ud29c\ud50c\uc740 \uc774\ubba4\ud130\ube14(\uac12\uc744 \ubc14\uafc0\uc218 \uc5c6\ub294) \uac1d\uccb4\uc774\ubbc0\ub85c \uc5d0\ub7ec\uac00 \ub09c\ub2e4.\u001b[0m\u001b[1;33m\u001b[0m\u001b[0m\n",
        "\u001b[1;31mTypeError\u001b[0m: 'tuple' object does not support item assignment"
       ]
      }
     ],
     "prompt_number": 46
    },
    {
     "cell_type": "heading",
     "level": 2,
     "metadata": {},
     "source": [
      "\uc2a4\uce7c\ub77c\ud615"
     ]
    },
    {
     "cell_type": "markdown",
     "metadata": {},
     "source": [
      "* \uc22b\uc790 \uc790\ub8cc\ud615\n",
      "* \ubb38\uc790\uc5f4\n",
      "* \ubd88\ub9ac\uc5b8\n",
      "* \ud615\ubcc0\ud658\n",
      "* None\n",
      "* \ub0a0\uc9dc\uc640 \uc2dc\uac04"
     ]
    },
    {
     "cell_type": "markdown",
     "metadata": {},
     "source": [
      "<img src='./01_figures/01_tbl.a.2.png'/>"
     ]
    },
    {
     "cell_type": "heading",
     "level": 3,
     "metadata": {},
     "source": [
      "\uc22b\uc790 \uc790\ub8cc\ud615"
     ]
    },
    {
     "cell_type": "code",
     "collapsed": false,
     "input": [
      "ival = 17239871\n",
      "ival ** 6"
     ],
     "language": "python",
     "metadata": {},
     "outputs": [
      {
       "metadata": {},
       "output_type": "pyout",
       "prompt_number": 47,
       "text": [
        "26254519291092456596965462913230729701102721L"
       ]
      }
     ],
     "prompt_number": 47
    },
    {
     "cell_type": "code",
     "collapsed": false,
     "input": [
      "fval = 7.243\n",
      "fval2 = 6.78e-5"
     ],
     "language": "python",
     "metadata": {},
     "outputs": [],
     "prompt_number": 48
    },
    {
     "cell_type": "code",
     "collapsed": false,
     "input": [
      "3 / 2 # \ud30c\uc774\uc36c 3\uc5d0\uc120 float\ud615\uc73c\ub85c \uacb0\uacfc\uac00 \ub098\uc628\ub2e4."
     ],
     "language": "python",
     "metadata": {},
     "outputs": [
      {
       "metadata": {},
       "output_type": "pyout",
       "prompt_number": 49,
       "text": [
        "1"
       ]
      }
     ],
     "prompt_number": 49
    },
    {
     "cell_type": "code",
     "collapsed": false,
     "input": [
      "3 / float(2)"
     ],
     "language": "python",
     "metadata": {},
     "outputs": [
      {
       "metadata": {},
       "output_type": "pyout",
       "prompt_number": 50,
       "text": [
        "1.5"
       ]
      }
     ],
     "prompt_number": 50
    },
    {
     "cell_type": "code",
     "collapsed": false,
     "input": [
      "from __future__ import division # \ud30c\uc774\uc36c 2.x\uc5d0\uc11c \uc774\uac78 \uc4f0\uba74 \uc22b\uc790 \uc5f0\uc0b0\uacfc \uad00\ub828\ud574\uc120 \ud30c\uc774\uc36c3\ucc98\ub7fc \uc791\ub3d9\ud558\uac8c \ud560 \uc218 \uc788\ub2e4.\n",
      "3 / 2"
     ],
     "language": "python",
     "metadata": {},
     "outputs": [
      {
       "metadata": {},
       "output_type": "pyout",
       "prompt_number": 51,
       "text": [
        "1.5"
       ]
      }
     ],
     "prompt_number": 51
    },
    {
     "cell_type": "code",
     "collapsed": false,
     "input": [
      "3 // 2 # \ub098\ub217\uc148 \ubaab"
     ],
     "language": "python",
     "metadata": {},
     "outputs": [
      {
       "metadata": {},
       "output_type": "pyout",
       "prompt_number": 17,
       "text": [
        "1"
       ]
      }
     ],
     "prompt_number": 17
    },
    {
     "cell_type": "code",
     "collapsed": false,
     "input": [
      "# \ubcf5\uc18c\uc218\n",
      "cval = 1 + 2j \n",
      "cval * (1 - 2j)"
     ],
     "language": "python",
     "metadata": {},
     "outputs": [
      {
       "metadata": {},
       "output_type": "pyout",
       "prompt_number": 19,
       "text": [
        "(5+0j)"
       ]
      }
     ],
     "prompt_number": 19
    },
    {
     "cell_type": "heading",
     "level": 3,
     "metadata": {},
     "source": [
      "\ubb38\uc790\uc5f4"
     ]
    },
    {
     "cell_type": "code",
     "collapsed": false,
     "input": [
      "a = 'one way of writing a string'\n",
      "b = \"another way\"\n",
      "print a\n",
      "print b"
     ],
     "language": "python",
     "metadata": {},
     "outputs": [
      {
       "output_type": "stream",
       "stream": "stdout",
       "text": [
        "one way of writing a string\n",
        "another way\n"
       ]
      }
     ],
     "prompt_number": 53
    },
    {
     "cell_type": "code",
     "collapsed": false,
     "input": [
      "c = \"\"\"\n",
      "This is a longer string that\n",
      "spans multiple lines\n",
      "\"\"\"\n",
      "print c"
     ],
     "language": "python",
     "metadata": {},
     "outputs": [
      {
       "output_type": "stream",
       "stream": "stdout",
       "text": [
        "\n",
        "This is a longer string that\n",
        "spans multiple lines\n",
        "\n"
       ]
      }
     ],
     "prompt_number": 20
    },
    {
     "cell_type": "code",
     "collapsed": false,
     "input": [
      "a = 'this is a string'\n",
      "a[10] = f # \ubb38\uc790\uc5f4\uc740 \uc774\ubba4\ud130\ube14 \uac1d\uccb4. \uc5d0\ub7ec\uac00 \ub09c\ub2e4."
     ],
     "language": "python",
     "metadata": {},
     "outputs": [
      {
       "ename": "TypeError",
       "evalue": "'str' object does not support item assignment",
       "output_type": "pyerr",
       "traceback": [
        "\u001b[1;31m---------------------------------------------------------------------------\u001b[0m\n\u001b[1;31mTypeError\u001b[0m                                 Traceback (most recent call last)",
        "\u001b[1;32m<ipython-input-22-9c3ae5382b3c>\u001b[0m in \u001b[0;36m<module>\u001b[1;34m()\u001b[0m\n\u001b[0;32m      1\u001b[0m \u001b[0ma\u001b[0m \u001b[1;33m=\u001b[0m \u001b[1;34m'this is a string'\u001b[0m\u001b[1;33m\u001b[0m\u001b[0m\n\u001b[1;32m----> 2\u001b[1;33m \u001b[0ma\u001b[0m\u001b[1;33m[\u001b[0m\u001b[1;36m10\u001b[0m\u001b[1;33m]\u001b[0m \u001b[1;33m=\u001b[0m \u001b[0mf\u001b[0m \u001b[1;31m# \ubb38\uc790\uc5f4\uc740 \uc774\ubba4\ud130\ube14 \uac1d\uccb4. \uc5d0\ub7ec\uac00 \ub09c\ub2e4.\u001b[0m\u001b[1;33m\u001b[0m\u001b[0m\n\u001b[0m",
        "\u001b[1;31mTypeError\u001b[0m: 'str' object does not support item assignment"
       ]
      }
     ],
     "prompt_number": 22
    },
    {
     "cell_type": "code",
     "collapsed": false,
     "input": [
      "b = a.replace('string', 'longer strng')\n",
      "b"
     ],
     "language": "python",
     "metadata": {},
     "outputs": [
      {
       "metadata": {},
       "output_type": "pyout",
       "prompt_number": 55,
       "text": [
        "'this is a longer strng'"
       ]
      }
     ],
     "prompt_number": 55
    },
    {
     "cell_type": "code",
     "collapsed": false,
     "input": [
      "# str \ud568\uc218\ub97c \uc4f0\uba74 \ubb38\uc790\uc5f4\ub85c \ubcc0\ud658\uac00\ub2a5.\n",
      "a = 5.6\n",
      "print a\n",
      "s = str(a)\n",
      "print s # \uc774\uac83\uc740 \ubb38\uc790"
     ],
     "language": "python",
     "metadata": {},
     "outputs": [
      {
       "output_type": "stream",
       "stream": "stdout",
       "text": [
        "5.6\n",
        "5.6\n"
       ]
      }
     ],
     "prompt_number": 57
    },
    {
     "cell_type": "code",
     "collapsed": false,
     "input": [
      "# \ubb38\uc790\uc5f4\uc740 \uc77c\ub828\ub41c \uae00\uc790\uc758 \uc5f0\uc18d. \ub2e4\ub978 \uc21c\ucc28\uc801\uc778 \uc790\ub8cc\ud615\uacfc \uac19\uc774 \ucde8\uae09\n",
      "s = 'python'\n",
      "s[:3]"
     ],
     "language": "python",
     "metadata": {},
     "outputs": [
      {
       "metadata": {},
       "output_type": "pyout",
       "prompt_number": 23,
       "text": [
        "'pyt'"
       ]
      }
     ],
     "prompt_number": 23
    },
    {
     "cell_type": "code",
     "collapsed": false,
     "input": [
      "# \ub450 \ubb38\uc790\uc5f4\uc744 \ub354\ud558\uba74 \uc774 \ub458\uc744 \uc774\uc5b4\ubd99\uc778 \uc0c8\ub85c\uc6b4 \ubb38\uc790\uc5f4\uc744 \uc0dd\uc131. \n",
      "a = 'this is the first half'\n",
      "b = 'and this is the second half'\n",
      "a + b"
     ],
     "language": "python",
     "metadata": {},
     "outputs": [
      {
       "metadata": {},
       "output_type": "pyout",
       "prompt_number": 59,
       "text": [
        "'this is the first halfand this is the second half'"
       ]
      }
     ],
     "prompt_number": 59
    },
    {
     "cell_type": "code",
     "collapsed": false,
     "input": [
      "# \ud3ec\ub9f7\ud305\n",
      "template = '%.2f %s are worth $%d'\n",
      "template %(4.5560, 'Argentine Pesos', 1)"
     ],
     "language": "python",
     "metadata": {},
     "outputs": [
      {
       "metadata": {},
       "output_type": "pyout",
       "prompt_number": 24,
       "text": [
        "'4.56 Argentine Pesos are worth $1'"
       ]
      }
     ],
     "prompt_number": 24
    },
    {
     "cell_type": "heading",
     "level": 3,
     "metadata": {},
     "source": [
      "\ubd88\ub9ac\uc5b8"
     ]
    },
    {
     "cell_type": "code",
     "collapsed": false,
     "input": [
      "True and True"
     ],
     "language": "python",
     "metadata": {},
     "outputs": [
      {
       "metadata": {},
       "output_type": "pyout",
       "prompt_number": 60,
       "text": [
        "True"
       ]
      }
     ],
     "prompt_number": 60
    },
    {
     "cell_type": "code",
     "collapsed": false,
     "input": [
      "False or True"
     ],
     "language": "python",
     "metadata": {},
     "outputs": [
      {
       "metadata": {},
       "output_type": "pyout",
       "prompt_number": 61,
       "text": [
        "True"
       ]
      }
     ],
     "prompt_number": 61
    },
    {
     "cell_type": "code",
     "collapsed": false,
     "input": [
      "bool([]), bool([1,2,3])"
     ],
     "language": "python",
     "metadata": {},
     "outputs": [
      {
       "metadata": {},
       "output_type": "pyout",
       "prompt_number": 25,
       "text": [
        "(False, True)"
       ]
      }
     ],
     "prompt_number": 25
    },
    {
     "cell_type": "code",
     "collapsed": false,
     "input": [
      "bool('Hello world!'), bool('')"
     ],
     "language": "python",
     "metadata": {},
     "outputs": [
      {
       "metadata": {},
       "output_type": "pyout",
       "prompt_number": 26,
       "text": [
        "(True, False)"
       ]
      }
     ],
     "prompt_number": 26
    },
    {
     "cell_type": "code",
     "collapsed": false,
     "input": [
      "bool(0), bool(1)"
     ],
     "language": "python",
     "metadata": {},
     "outputs": [
      {
       "metadata": {},
       "output_type": "pyout",
       "prompt_number": 27,
       "text": [
        "(False, True)"
       ]
      }
     ],
     "prompt_number": 27
    },
    {
     "cell_type": "heading",
     "level": 3,
     "metadata": {},
     "source": [
      "\ud615\ubcc0\ud658"
     ]
    },
    {
     "cell_type": "code",
     "collapsed": false,
     "input": [
      "s = '3.14159'\n",
      "fval = float(s)\n",
      "type(fval)"
     ],
     "language": "python",
     "metadata": {},
     "outputs": [
      {
       "metadata": {},
       "output_type": "pyout",
       "prompt_number": 29,
       "text": [
        "float"
       ]
      }
     ],
     "prompt_number": 29
    },
    {
     "cell_type": "code",
     "collapsed": false,
     "input": [
      "int(fval)"
     ],
     "language": "python",
     "metadata": {},
     "outputs": [
      {
       "metadata": {},
       "output_type": "pyout",
       "prompt_number": 30,
       "text": [
        "3"
       ]
      }
     ],
     "prompt_number": 30
    },
    {
     "cell_type": "code",
     "collapsed": false,
     "input": [
      "bool(fval)"
     ],
     "language": "python",
     "metadata": {},
     "outputs": [
      {
       "metadata": {},
       "output_type": "pyout",
       "prompt_number": 31,
       "text": [
        "True"
       ]
      }
     ],
     "prompt_number": 31
    },
    {
     "cell_type": "code",
     "collapsed": false,
     "input": [
      "bool(0)"
     ],
     "language": "python",
     "metadata": {},
     "outputs": [
      {
       "metadata": {},
       "output_type": "pyout",
       "prompt_number": 32,
       "text": [
        "False"
       ]
      }
     ],
     "prompt_number": 32
    },
    {
     "cell_type": "heading",
     "level": 3,
     "metadata": {},
     "source": [
      "None"
     ]
    },
    {
     "cell_type": "code",
     "collapsed": false,
     "input": [
      "# None\uc740 \ud30c\uc774\uc36c\uc5d0\uc11c \uc0ac\uc6a9\ud558\ub294 \ub110(null)\uac12\uc774\ub2e4. \ub9cc\uc57d \uc5b4\ub5a4 \ud568\uc218\uc5d0\uc11c \uba85\uc2dc\uc801\uc73c\ub85c \uac12\uc744 \ubc18\ud658\ud558\uc9c0 \uc54a\uc73c\uba74 \ubb35\uc2dc\uc801\uc73c\ub85c None\uc744 \ubc18\ud658\ud55c\ub2e4.\n",
      "# None\uc740 \uc608\uc57d\uc5b4\uac00 \uc544\ub2c8\ub77c NoneType\uc758 \uc720\uc77c\ud55c \uc778\uc2a4\ud134\uc2a4\uc774\ub2e4.\n",
      "a = None\n",
      "a is None"
     ],
     "language": "python",
     "metadata": {},
     "outputs": [
      {
       "metadata": {},
       "output_type": "pyout",
       "prompt_number": 63,
       "text": [
        "True"
       ]
      }
     ],
     "prompt_number": 63
    },
    {
     "cell_type": "code",
     "collapsed": false,
     "input": [
      "b = 5\n",
      "b is None"
     ],
     "language": "python",
     "metadata": {},
     "outputs": [
      {
       "metadata": {},
       "output_type": "pyout",
       "prompt_number": 64,
       "text": [
        "False"
       ]
      }
     ],
     "prompt_number": 64
    },
    {
     "cell_type": "code",
     "collapsed": false,
     "input": [
      "# None\uc740 \ud568\uc218\uc758 \uc635\uc158 \uc778\uc790\uc758 \uae30\ubcf8 \uac12\uc73c\ub85c \ud754\ud788 \uc0ac\uc6a9\ub418\uae30\ub3c4 \ud55c\ub2e4.\n",
      "def add_and_maybe_multiply(a, b, c=None) :\n",
      "    result a + b\n",
      "    \n",
      "    if c is not None :\n",
      "        result = result + c\n",
      "        \n",
      "    return result"
     ],
     "language": "python",
     "metadata": {},
     "outputs": []
    },
    {
     "cell_type": "heading",
     "level": 3,
     "metadata": {},
     "source": [
      "\ub0a0\uc9dc\uc640 \uc2dc\uac04"
     ]
    },
    {
     "cell_type": "code",
     "collapsed": false,
     "input": [
      "from datetime import datetime, date, time\n",
      "\n",
      "dt = datetime(2011, 10, 29, 20, 30, 21)\n",
      "print dt.day\n",
      "print dt.minute"
     ],
     "language": "python",
     "metadata": {},
     "outputs": [
      {
       "output_type": "stream",
       "stream": "stdout",
       "text": [
        "29\n",
        "30\n"
       ]
      }
     ],
     "prompt_number": 39
    },
    {
     "cell_type": "code",
     "collapsed": false,
     "input": [
      "dt.date()"
     ],
     "language": "python",
     "metadata": {},
     "outputs": [
      {
       "metadata": {},
       "output_type": "pyout",
       "prompt_number": 40,
       "text": [
        "datetime.date(2011, 10, 29)"
       ]
      }
     ],
     "prompt_number": 40
    },
    {
     "cell_type": "code",
     "collapsed": false,
     "input": [
      "dt.time()"
     ],
     "language": "python",
     "metadata": {},
     "outputs": [
      {
       "metadata": {},
       "output_type": "pyout",
       "prompt_number": 41,
       "text": [
        "datetime.time(20, 30, 21)"
       ]
      }
     ],
     "prompt_number": 41
    },
    {
     "cell_type": "code",
     "collapsed": false,
     "input": [
      "# datetime \uac1d\uccb4\ub97c \ubb38\uc790\uc5f4\ub85c \ubc14\uafd4\uc900\ub2e4.\n",
      "dt.strftime('%m/%d/%Y %H:%M')"
     ],
     "language": "python",
     "metadata": {},
     "outputs": [
      {
       "metadata": {},
       "output_type": "pyout",
       "prompt_number": 42,
       "text": [
        "'10/29/2011 20:30'"
       ]
      }
     ],
     "prompt_number": 42
    },
    {
     "cell_type": "code",
     "collapsed": false,
     "input": [
      "# \ubb38\uc790\uc5f4\uc744 datetime \uac1d\uccb4\ub85c \ubc14\uafd4\uc900\ub2e4.\n",
      "datetime.strptime('20091031', '%Y%m%d')"
     ],
     "language": "python",
     "metadata": {},
     "outputs": [
      {
       "metadata": {},
       "output_type": "pyout",
       "prompt_number": 43,
       "text": [
        "datetime.datetime(2009, 10, 31, 0, 0)"
       ]
      }
     ],
     "prompt_number": 43
    },
    {
     "cell_type": "code",
     "collapsed": false,
     "input": [
      "# datetime\uc758 \ud2b9\uc815 \ud544\ub4dc\ub97c \uce58\ud658\n",
      "dt.replace(minute=0, second=0)"
     ],
     "language": "python",
     "metadata": {},
     "outputs": [
      {
       "metadata": {},
       "output_type": "pyout",
       "prompt_number": 44,
       "text": [
        "datetime.datetime(2011, 10, 29, 20, 0)"
       ]
      }
     ],
     "prompt_number": 44
    },
    {
     "cell_type": "code",
     "collapsed": false,
     "input": [
      "# \ub450 datetime \uac1d\uccb4\uc758 \ucc28\uc774\ub294 datetime.timedelta \uac1d\uccb4\ub97c \ubc18\ud658\n",
      "dt2 = datetime(2011, 11, 15, 22, 30)\n",
      "\n",
      "delta = dt2 - dt\n",
      "delta"
     ],
     "language": "python",
     "metadata": {},
     "outputs": [
      {
       "metadata": {},
       "output_type": "pyout",
       "prompt_number": 45,
       "text": [
        "datetime.timedelta(17, 7179)"
       ]
      }
     ],
     "prompt_number": 45
    },
    {
     "cell_type": "code",
     "collapsed": false,
     "input": [
      "dt"
     ],
     "language": "python",
     "metadata": {},
     "outputs": [
      {
       "metadata": {},
       "output_type": "pyout",
       "prompt_number": 46,
       "text": [
        "datetime.datetime(2011, 10, 29, 20, 30, 21)"
       ]
      }
     ],
     "prompt_number": 46
    },
    {
     "cell_type": "code",
     "collapsed": false,
     "input": [
      "# datetime \uac1d\uccb4\uc5d0 timedelta \uac1d\uccb4\ub97c \ub354\ud558\uba74 \uadf8 \ub9cc\ud07c \uc2dc\uac04\uc774 \uc9c0\uc5f0\ub41c datetime \uac1d\uccb4\ub97c \uc5bb\ub294\ub2e4.\n",
      "dt + delta"
     ],
     "language": "python",
     "metadata": {},
     "outputs": [
      {
       "metadata": {},
       "output_type": "pyout",
       "prompt_number": 47,
       "text": [
        "datetime.datetime(2011, 11, 15, 22, 30)"
       ]
      }
     ],
     "prompt_number": 47
    },
    {
     "cell_type": "heading",
     "level": 2,
     "metadata": {},
     "source": [
      "\ud750\ub984 \uc81c\uc5b4"
     ]
    },
    {
     "cell_type": "markdown",
     "metadata": {},
     "source": [
      "* if, elif, else\n",
      "* for \ubc18\ubcf5\ubb38\n",
      "* while \ubc18\ubcf5\ubb38\n",
      "* pass\n",
      "* \uc608\uc678 \ucc98\ub9ac\n",
      "* range\uc640 xrange\n",
      "* \uc0bc\ub2e8 \ud45c\ud604"
     ]
    },
    {
     "cell_type": "heading",
     "level": 3,
     "metadata": {},
     "source": [
      "if, elif, else"
     ]
    },
    {
     "cell_type": "code",
     "collapsed": false,
     "input": [
      "if x < 0 :\n",
      "    print 'It's nagative'\n",
      "    \n",
      "if x < 0 : \n",
      "    print 'a'\n",
      "elif x == 0 :\n",
      "    print 'b'\n",
      "elif 0 < x < 5 :\n",
      "    print 'c'\n",
      "else :\n",
      "    print 'd'"
     ],
     "language": "python",
     "metadata": {},
     "outputs": []
    },
    {
     "cell_type": "heading",
     "level": 3,
     "metadata": {},
     "source": [
      "for \ubc18\ubcf5\ubb38"
     ]
    },
    {
     "cell_type": "code",
     "collapsed": false,
     "input": [
      "for value in collection : \n",
      "    # value\ub97c \uc0ac\uc6a9\ud558\ub294 \ucf54\ub4dc"
     ],
     "language": "python",
     "metadata": {},
     "outputs": []
    },
    {
     "cell_type": "code",
     "collapsed": false,
     "input": [
      "sequence = [1, 2, None, 4, None, 5]\n",
      "\n",
      "total = 0\n",
      "for value in sequence :\n",
      "    if value is None :\n",
      "        continue\n",
      "    total += value\n",
      "    \n",
      "print value"
     ],
     "language": "python",
     "metadata": {},
     "outputs": [
      {
       "output_type": "stream",
       "stream": "stdout",
       "text": [
        "5\n"
       ]
      }
     ],
     "prompt_number": 66
    },
    {
     "cell_type": "heading",
     "level": 3,
     "metadata": {},
     "source": [
      "while \ubc18\ubcf5\ubb38"
     ]
    },
    {
     "cell_type": "code",
     "collapsed": false,
     "input": [
      "x = 256\n",
      "\n",
      "total = 0\n",
      "\n",
      "while x > 0 :\n",
      "    if total > 500 :\n",
      "        break\n",
      "    total += x\n",
      "    x = x // 2\n",
      "\n",
      "print x"
     ],
     "language": "python",
     "metadata": {},
     "outputs": [
      {
       "output_type": "stream",
       "stream": "stdout",
       "text": [
        "4\n"
       ]
      }
     ],
     "prompt_number": 67
    },
    {
     "cell_type": "heading",
     "level": 3,
     "metadata": {},
     "source": [
      "pass"
     ]
    },
    {
     "cell_type": "code",
     "collapsed": false,
     "input": [
      "# pass\ub294 \ud30c\uc774\uc36c\uc758 \uc544\ubb34\uac83\ub3c4 \ud558\uc9c0 \uc54a\uc74c\uc744 \ub098\ud0c0\ub0c4\n",
      "if x < 0 :\n",
      "    print 'negative!'\n",
      "elif x == 0 :\n",
      "    # TODO : \ub098\uc911\uc5d0 \ubb54\uac00 \ucd94\uac00\ud574\uc57c \ud568\n",
      "    pass\n",
      "else :\n",
      "    print 'positive!'"
     ],
     "language": "python",
     "metadata": {},
     "outputs": []
    },
    {
     "cell_type": "heading",
     "level": 3,
     "metadata": {},
     "source": [
      "\uc608\uc678 \ucc98\ub9ac"
     ]
    },
    {
     "cell_type": "code",
     "collapsed": false,
     "input": [
      "float('1.2345')"
     ],
     "language": "python",
     "metadata": {},
     "outputs": [
      {
       "metadata": {},
       "output_type": "pyout",
       "prompt_number": 1,
       "text": [
        "1.2345"
       ]
      }
     ],
     "prompt_number": 1
    },
    {
     "cell_type": "code",
     "collapsed": false,
     "input": [
      "float('something')"
     ],
     "language": "python",
     "metadata": {},
     "outputs": [
      {
       "ename": "ValueError",
       "evalue": "could not convert string to float: something",
       "output_type": "pyerr",
       "traceback": [
        "\u001b[1;31m---------------------------------------------------------------------------\u001b[0m\n\u001b[1;31mValueError\u001b[0m                                Traceback (most recent call last)",
        "\u001b[1;32m<ipython-input-2-439904410854>\u001b[0m in \u001b[0;36m<module>\u001b[1;34m()\u001b[0m\n\u001b[1;32m----> 1\u001b[1;33m \u001b[0mfloat\u001b[0m\u001b[1;33m(\u001b[0m\u001b[1;34m'something'\u001b[0m\u001b[1;33m)\u001b[0m\u001b[1;33m\u001b[0m\u001b[0m\n\u001b[0m",
        "\u001b[1;31mValueError\u001b[0m: could not convert string to float: something"
       ]
      }
     ],
     "prompt_number": 2
    },
    {
     "cell_type": "code",
     "collapsed": false,
     "input": [
      "def attempt_float(x) :\n",
      "    try :\n",
      "        return float(x)\n",
      "    except :\n",
      "        return x"
     ],
     "language": "python",
     "metadata": {},
     "outputs": [],
     "prompt_number": 3
    },
    {
     "cell_type": "code",
     "collapsed": false,
     "input": [
      "attempt_float('1.2345')"
     ],
     "language": "python",
     "metadata": {},
     "outputs": [
      {
       "metadata": {},
       "output_type": "pyout",
       "prompt_number": 4,
       "text": [
        "1.2345"
       ]
      }
     ],
     "prompt_number": 4
    },
    {
     "cell_type": "code",
     "collapsed": false,
     "input": [
      "attempt_float('something')"
     ],
     "language": "python",
     "metadata": {},
     "outputs": [
      {
       "metadata": {},
       "output_type": "pyout",
       "prompt_number": 5,
       "text": [
        "'something'"
       ]
      }
     ],
     "prompt_number": 5
    },
    {
     "cell_type": "heading",
     "level": 3,
     "metadata": {},
     "source": [
      "range\uc640 xrange"
     ]
    },
    {
     "cell_type": "code",
     "collapsed": false,
     "input": [
      "range(10)"
     ],
     "language": "python",
     "metadata": {},
     "outputs": [
      {
       "metadata": {},
       "output_type": "pyout",
       "prompt_number": 6,
       "text": [
        "[0, 1, 2, 3, 4, 5, 6, 7, 8, 9]"
       ]
      }
     ],
     "prompt_number": 6
    },
    {
     "cell_type": "code",
     "collapsed": false,
     "input": [
      "range(0, 20, 2)"
     ],
     "language": "python",
     "metadata": {},
     "outputs": [
      {
       "metadata": {},
       "output_type": "pyout",
       "prompt_number": 7,
       "text": [
        "[0, 2, 4, 6, 8, 10, 12, 14, 16, 18]"
       ]
      }
     ],
     "prompt_number": 7
    },
    {
     "cell_type": "code",
     "collapsed": false,
     "input": [
      "seq = [1, 2, 3, 4]\n",
      "for i in range(len(seq)) :\n",
      "    val = seq[i]\n",
      "    print val"
     ],
     "language": "python",
     "metadata": {},
     "outputs": [
      {
       "output_type": "stream",
       "stream": "stdout",
       "text": [
        "1\n",
        "2\n",
        "3\n",
        "4\n"
       ]
      }
     ],
     "prompt_number": 8
    },
    {
     "cell_type": "code",
     "collapsed": false,
     "input": [
      "# \uc544\uc8fc \ud070 \ubc94\uc704\uc758 \uac12\uc774 \ud544\uc694\ud560 \ub54c\ub294 xrange. range\ub294 \ud55c\ubc88\uc5d0 \uc804\uccb4 \ub9ac\uc2a4\ud2b8\ub97c \ubc18\ud658\ud558\uc9c0\ub9cc, xrange\ub294 \uc774\ud130\ub808\uc774\ud130\ub97c \ubc18\ud658\ud558\uc5ec \ud544\uc694\ud560 \ub54c\ub9c8\ub2e4 \uac12\uc744 \ud558\ub098\uc529 \uc0dd\uc131. \n",
      "sum = 0\n",
      "for i in xrange(10000) :\n",
      "    # % is the modulo operator\n",
      "    if i % 3 == 0 or i % 5 == 0 :\n",
      "        sum += i\n",
      "        \n",
      "sum"
     ],
     "language": "python",
     "metadata": {},
     "outputs": [
      {
       "metadata": {},
       "output_type": "pyout",
       "prompt_number": 10,
       "text": [
        "23331668"
       ]
      }
     ],
     "prompt_number": 10
    },
    {
     "cell_type": "heading",
     "level": 3,
     "metadata": {},
     "source": [
      "\uc0bc\ub2e8 \ud45c\ud604"
     ]
    },
    {
     "cell_type": "code",
     "collapsed": false,
     "input": [
      "# if-else \ube14\ub85d\uc744 \ud55c \uc904\ub85c \ud45c\ud604 \uac00\ub2a5\n",
      "value = true-expr if condition else false-expr"
     ],
     "language": "python",
     "metadata": {},
     "outputs": []
    },
    {
     "cell_type": "code",
     "collapsed": false,
     "input": [
      "# \uc704 \ucf54\ub4dc\ub294 \ub2e4\uc74c\uacfc \ub3d9\uc77c\n",
      "if condtion :\n",
      "    value = true-expr\n",
      "else :\n",
      "    value = false-expr"
     ],
     "language": "python",
     "metadata": {},
     "outputs": []
    },
    {
     "cell_type": "code",
     "collapsed": false,
     "input": [
      "x = 5\n",
      "\n",
      "'Non-negative' if x >=0 else 'Negative'"
     ],
     "language": "python",
     "metadata": {},
     "outputs": [
      {
       "metadata": {},
       "output_type": "pyout",
       "prompt_number": 11,
       "text": [
        "'Non-negative'"
       ]
      }
     ],
     "prompt_number": 11
    },
    {
     "cell_type": "heading",
     "level": 1,
     "metadata": {},
     "source": [
      "\uc790\ub8cc \uad6c\uc870\uc640 \uc21c\ucc28 \uc790\ub8cc\ud615"
     ]
    },
    {
     "cell_type": "markdown",
     "metadata": {},
     "source": [
      "* \ud29c\ud50c\n",
      "* \ub9ac\uc2a4\ud2b8\n",
      "* \ub0b4\uc7a5 \uc21c\ucc28 \uc790\ub8cc\ud615 \ud568\uc218\n",
      "* \uc0ac\uc804\n",
      "* \uc138\ud2b8\n",
      "* \ub9ac\uc2a4\ud2b8 \ub0b4\ud3ec, \uc0ac\uc804 \ub0b4\ud3ec, \uc138\ud2b8 \ub0b4\ud3ec"
     ]
    },
    {
     "cell_type": "heading",
     "level": 2,
     "metadata": {},
     "source": [
      "\ud29c\ud50c"
     ]
    },
    {
     "cell_type": "markdown",
     "metadata": {},
     "source": [
      "1\ucc28\uc6d0, \uace0\uc815\ub41c \ud06c\uae30\ub97c \uac00\uc9c0\ub294 \ubcc0\uacbd \ubd88\uac00\ub2a5\ud55c \uc21c\ucc28 \uc790\ub8cc\ud615. ,\ub85c \uad6c\ubd84\ub418\ub294 \uac1c\ubcc4 \uc6d0\uc18c\uc758 \uc5f4 \ud639\uc740 \uad04\ud638 ()\ub098 tup \ud568\uc218\ub85c \uc0dd\uc131.\n"
     ]
    },
    {
     "cell_type": "markdown",
     "metadata": {},
     "source": [
      "* \ud29c\ud50c \uae30\ucd08\n",
      "* \ud29c\ud50c\uc5d0\uc11c \uac12 \ubd84\ub9ac\ud558\uae30\n",
      "* \ud29c\ud50c \uba54\uc11c\ub4dc"
     ]
    },
    {
     "cell_type": "heading",
     "level": 3,
     "metadata": {},
     "source": [
      "\ud29c\ud50c \uae30\ucd08 "
     ]
    },
    {
     "cell_type": "code",
     "collapsed": false,
     "input": [
      "tup = 4, 5, 6  # \ud639\uc740 tup = (4, 5, 6)\n",
      "tup"
     ],
     "language": "python",
     "metadata": {},
     "outputs": [
      {
       "metadata": {},
       "output_type": "pyout",
       "prompt_number": 12,
       "text": [
        "(4, 5, 6)"
       ]
      }
     ],
     "prompt_number": 12
    },
    {
     "cell_type": "code",
     "collapsed": false,
     "input": [
      "nested_tup = (4, 5, 6), (7, 8)\n",
      "nested_tup"
     ],
     "language": "python",
     "metadata": {},
     "outputs": [
      {
       "metadata": {},
       "output_type": "pyout",
       "prompt_number": 13,
       "text": [
        "((4, 5, 6), (7, 8))"
       ]
      }
     ],
     "prompt_number": 13
    },
    {
     "cell_type": "code",
     "collapsed": false,
     "input": [
      "# \ubaa8\ub4e0 \uc21c\ucc28\uc790\ub8cc\ud615\uc774\ub098 \uc774\ud130\ub808\uc774\ud130\ub294 tuple \uba54\uc11c\ub4dc\ub97c \ud1b5\ud574 \ud29c\ud50c\ub85c \ubcc0\ud658\ub420 \uc218 \uc788\ub2e4.\n",
      "tuple([4, 0, 2])"
     ],
     "language": "python",
     "metadata": {},
     "outputs": [
      {
       "metadata": {},
       "output_type": "pyout",
       "prompt_number": 14,
       "text": [
        "(4, 0, 2)"
       ]
      }
     ],
     "prompt_number": 14
    },
    {
     "cell_type": "code",
     "collapsed": false,
     "input": [
      "tup = tuple('string')\n",
      "tup"
     ],
     "language": "python",
     "metadata": {},
     "outputs": [
      {
       "metadata": {},
       "output_type": "pyout",
       "prompt_number": 15,
       "text": [
        "('s', 't', 'r', 'i', 'n', 'g')"
       ]
      }
     ],
     "prompt_number": 15
    },
    {
     "cell_type": "code",
     "collapsed": false,
     "input": [
      "# []\ub85c \uac1c\ubcc4 \uc6d0\uc18c \uc811\uadfc\n",
      "tup[0]"
     ],
     "language": "python",
     "metadata": {},
     "outputs": [
      {
       "metadata": {},
       "output_type": "pyout",
       "prompt_number": 16,
       "text": [
        "'s'"
       ]
      }
     ],
     "prompt_number": 16
    },
    {
     "cell_type": "code",
     "collapsed": false,
     "input": [
      "# \ud55c\ubc88 \uc0dd\uc131\ub418\uba74 \ubcc0\uacbd \ubd88\uac00\ub2a5\n",
      "tup = tuple(['foo', [1,2], True])\n",
      "tup[2] = False  # \uc5d0\ub7ec \ub09c\ub2e4."
     ],
     "language": "python",
     "metadata": {},
     "outputs": [
      {
       "ename": "TypeError",
       "evalue": "'tuple' object does not support item assignment",
       "output_type": "pyerr",
       "traceback": [
        "\u001b[1;31m---------------------------------------------------------------------------\u001b[0m\n\u001b[1;31mTypeError\u001b[0m                                 Traceback (most recent call last)",
        "\u001b[1;32m<ipython-input-17-949ea47cf431>\u001b[0m in \u001b[0;36m<module>\u001b[1;34m()\u001b[0m\n\u001b[0;32m      1\u001b[0m \u001b[1;31m# \ud55c\ubc88 \uc0dd\uc131\ub418\uba74 \ubcc0\uacbd \ubd88\uac00\ub2a5\u001b[0m\u001b[1;33m\u001b[0m\u001b[1;33m\u001b[0m\u001b[0m\n\u001b[0;32m      2\u001b[0m \u001b[0mtup\u001b[0m \u001b[1;33m=\u001b[0m \u001b[0mtuple\u001b[0m\u001b[1;33m(\u001b[0m\u001b[1;33m[\u001b[0m\u001b[1;34m'foo'\u001b[0m\u001b[1;33m,\u001b[0m \u001b[1;33m[\u001b[0m\u001b[1;36m1\u001b[0m\u001b[1;33m,\u001b[0m\u001b[1;36m2\u001b[0m\u001b[1;33m]\u001b[0m\u001b[1;33m,\u001b[0m \u001b[0mTrue\u001b[0m\u001b[1;33m]\u001b[0m\u001b[1;33m)\u001b[0m\u001b[1;33m\u001b[0m\u001b[0m\n\u001b[1;32m----> 3\u001b[1;33m \u001b[0mtup\u001b[0m\u001b[1;33m[\u001b[0m\u001b[1;36m2\u001b[0m\u001b[1;33m]\u001b[0m \u001b[1;33m=\u001b[0m \u001b[0mFalse\u001b[0m  \u001b[1;31m# \uc5d0\ub7ec \ub09c\ub2e4.\u001b[0m\u001b[1;33m\u001b[0m\u001b[0m\n\u001b[0m",
        "\u001b[1;31mTypeError\u001b[0m: 'tuple' object does not support item assignment"
       ]
      }
     ],
     "prompt_number": 17
    },
    {
     "cell_type": "code",
     "collapsed": false,
     "input": [
      "# \ud558\uc9c0\ub9cc \ub2e4\uc74c\uc740 \uac00\ub2a5\ud558\ub2e4 (\ud29c\ud50c\uc758 \uc6d0\uc18c\ub4e4\uc774 \uac01 \uac1d\uccb4\uc758 \ucc38\uc870\uc774\ubbc0\ub85c \uac00\ub2a5\ud55c \uac83)\n",
      "print tup\n",
      "print tup[1]\n",
      "\n",
      "tup[1].append(3)  # 2\ubc88\uc9f8 \uc6d0\uc18c\ub294 \ub9ac\uc2a4\ud2b8. \ub9ac\uc2a4\ud2b8\uc758 \ub0b4\uc7a5\ud568\uc218 append\ub294, \ud574\ub2f9 \ub9ac\uc2a4\ud2b8\uc758 \ub4a4\uc5d0 \uac12\uc744 \ucd94\uac00\ud558\ub294 \uae30\ub2a5\uc744 \uac00\uc9c0\uace0 \uc788\ub2e4.\n",
      "tup"
     ],
     "language": "python",
     "metadata": {},
     "outputs": [
      {
       "output_type": "stream",
       "stream": "stdout",
       "text": [
        "('foo', [1, 2], True)\n",
        "[1, 2]\n"
       ]
      },
      {
       "metadata": {},
       "output_type": "pyout",
       "prompt_number": 18,
       "text": [
        "('foo', [1, 2, 3], True)"
       ]
      }
     ],
     "prompt_number": 18
    },
    {
     "cell_type": "code",
     "collapsed": false,
     "input": [
      "# + \uc5f0\uc0b0\n",
      "(4, None, 'foo') + (6, 0) + ('bar',)"
     ],
     "language": "python",
     "metadata": {},
     "outputs": [
      {
       "metadata": {},
       "output_type": "pyout",
       "prompt_number": 19,
       "text": [
        "(4, None, 'foo', 6, 0, 'bar')"
       ]
      }
     ],
     "prompt_number": 19
    },
    {
     "cell_type": "code",
     "collapsed": false,
     "input": [
      "# * \uc5f0\uc0b0\n",
      "('foo', 'bar') * 4"
     ],
     "language": "python",
     "metadata": {},
     "outputs": [
      {
       "metadata": {},
       "output_type": "pyout",
       "prompt_number": 20,
       "text": [
        "('foo', 'bar', 'foo', 'bar', 'foo', 'bar', 'foo', 'bar')"
       ]
      }
     ],
     "prompt_number": 20
    },
    {
     "cell_type": "heading",
     "level": 3,
     "metadata": {},
     "source": [
      " \ud29c\ud50c\uc5d0\uc11c \uac12 \ubd84\ub9ac\ud558\uae30"
     ]
    },
    {
     "cell_type": "code",
     "collapsed": false,
     "input": [
      "tup = (4, 5, 6)\n",
      "a, b, c = tup\n",
      "b"
     ],
     "language": "python",
     "metadata": {},
     "outputs": [
      {
       "metadata": {},
       "output_type": "pyout",
       "prompt_number": 21,
       "text": [
        "5"
       ]
      }
     ],
     "prompt_number": 21
    },
    {
     "cell_type": "code",
     "collapsed": false,
     "input": [
      "tup = 4, 5, (6, 7)\n",
      "a, b, (c, d) = tup\n",
      "d"
     ],
     "language": "python",
     "metadata": {},
     "outputs": [
      {
       "metadata": {},
       "output_type": "pyout",
       "prompt_number": 22,
       "text": [
        "7"
       ]
      }
     ],
     "prompt_number": 22
    },
    {
     "cell_type": "code",
     "collapsed": false,
     "input": [
      "print a, b\n",
      "tmp = a\n",
      "a = b\n",
      "b = tmp\n",
      "print a, b"
     ],
     "language": "python",
     "metadata": {},
     "outputs": [
      {
       "output_type": "stream",
       "stream": "stdout",
       "text": [
        "4 5\n",
        "5 4\n"
       ]
      }
     ],
     "prompt_number": 23
    },
    {
     "cell_type": "code",
     "collapsed": false,
     "input": [
      "print a, b\n",
      "b, a = a, b\n",
      "print a, b"
     ],
     "language": "python",
     "metadata": {},
     "outputs": [
      {
       "output_type": "stream",
       "stream": "stdout",
       "text": [
        "5 4\n",
        "4 5\n"
       ]
      }
     ],
     "prompt_number": 24
    },
    {
     "cell_type": "code",
     "collapsed": false,
     "input": [
      "seq = [(1, 2, 3), (4, 5, 6), (7, 8,9)]\n",
      "for a, b, c in seq :\n",
      "    pass"
     ],
     "language": "python",
     "metadata": {},
     "outputs": []
    },
    {
     "cell_type": "heading",
     "level": 3,
     "metadata": {},
     "source": [
      "\ud29c\ud50c \uba54\uc11c\ub4dc"
     ]
    },
    {
     "cell_type": "code",
     "collapsed": false,
     "input": [
      "# count \uba54\uc11c\ud2b8\n",
      "a = (1, 2, 2, 2, 3, 4, 2)\n",
      "a.count(2)"
     ],
     "language": "python",
     "metadata": {},
     "outputs": [
      {
       "metadata": {},
       "output_type": "pyout",
       "prompt_number": 25,
       "text": [
        "4"
       ]
      }
     ],
     "prompt_number": 25
    },
    {
     "cell_type": "heading",
     "level": 2,
     "metadata": {},
     "source": [
      "\ub9ac\uc2a4\ud2b8"
     ]
    },
    {
     "cell_type": "markdown",
     "metadata": {},
     "source": [
      "\ud29c\ud50c\uacfc \ub2ec\ub9ac, \ub9ac\uc2a4\ud2b8\ub294 \ud06c\uae30\ub098 \ub0b4\uc6a9\uc758 \ubcc0\uacbd\uc774 \uac00\ub2a5. \ub300\uad04\ud638 []\ub098 list \ud568\uc218\ub97c \uc0ac\uc6a9\ud574\uc11c \uc0dd\uc131"
     ]
    },
    {
     "cell_type": "markdown",
     "metadata": {},
     "source": [
      "* \ub9ac\uc2a4\ud2b8 \uc0dd\uc131\n",
      "* \uc6d0\uc18c \ucd94\uac00\ud558\uace0 \uc0ad\uc81c\ud558\uae30\n",
      "* \ub9ac\uc2a4\ud2b8 \uc774\uc5b4\ubd99\uc774\uae30\n",
      "* \uc815\ub82c\n",
      "* \uc774\uc9c4 \ud0d0\uc0c9\uacfc \uc815\ub82c\ub41c \ub9ac\uc2a4\ud2b8 \uc720\uc9c0\ud558\uae30\n",
      "* \uc2ac\ub77c\uc774\uc2f1"
     ]
    },
    {
     "cell_type": "heading",
     "level": 3,
     "metadata": {},
     "source": [
      "\ub9ac\uc2a4\ud2b8 \uc0dd\uc131"
     ]
    },
    {
     "cell_type": "code",
     "collapsed": false,
     "input": [
      "a_list = [2, 3, 7, None]\n",
      "print a_list\n",
      "\n",
      "tup = ('foo', 'bar', 'baz')\n",
      "print tup\n",
      "\n",
      "b_list = list(tup)\n",
      "print b_list\n",
      "\n",
      "b_list[1] = 'peekaboo'\n",
      "print b_list"
     ],
     "language": "python",
     "metadata": {},
     "outputs": [
      {
       "output_type": "stream",
       "stream": "stdout",
       "text": [
        "[2, 3, 7, None]\n",
        "('foo', 'bar', 'baz')\n",
        "['foo', 'bar', 'baz']\n",
        "['foo', 'peekaboo', 'baz']\n"
       ]
      }
     ],
     "prompt_number": 26
    },
    {
     "cell_type": "heading",
     "level": 3,
     "metadata": {},
     "source": [
      "\uc6d0\uc18c \ucd94\uac00\ud558\uace0 \uc0ad\uc81c\ud558\uae30"
     ]
    },
    {
     "cell_type": "code",
     "collapsed": false,
     "input": [
      "b_list.append('dwarf')\n",
      "b_list"
     ],
     "language": "python",
     "metadata": {},
     "outputs": [
      {
       "metadata": {},
       "output_type": "pyout",
       "prompt_number": 27,
       "text": [
        "['foo', 'peekaboo', 'baz', 'dwarf']"
       ]
      }
     ],
     "prompt_number": 27
    },
    {
     "cell_type": "code",
     "collapsed": false,
     "input": [
      "b_list.insert(1, 'red')\n",
      "b_list"
     ],
     "language": "python",
     "metadata": {},
     "outputs": [
      {
       "metadata": {},
       "output_type": "pyout",
       "prompt_number": 28,
       "text": [
        "['foo', 'red', 'peekaboo', 'baz', 'dwarf']"
       ]
      }
     ],
     "prompt_number": 28
    },
    {
     "cell_type": "code",
     "collapsed": false,
     "input": [
      "b_list.pop(2)"
     ],
     "language": "python",
     "metadata": {},
     "outputs": [
      {
       "metadata": {},
       "output_type": "pyout",
       "prompt_number": 29,
       "text": [
        "'peekaboo'"
       ]
      }
     ],
     "prompt_number": 29
    },
    {
     "cell_type": "code",
     "collapsed": false,
     "input": [
      "b_list"
     ],
     "language": "python",
     "metadata": {},
     "outputs": [
      {
       "metadata": {},
       "output_type": "pyout",
       "prompt_number": 30,
       "text": [
        "['foo', 'red', 'baz', 'dwarf']"
       ]
      }
     ],
     "prompt_number": 30
    },
    {
     "cell_type": "code",
     "collapsed": false,
     "input": [
      "b_list.append('foo')\n",
      "print b_list\n",
      "\n",
      "b_list.remove('foo')\n",
      "print b_list"
     ],
     "language": "python",
     "metadata": {},
     "outputs": [
      {
       "output_type": "stream",
       "stream": "stdout",
       "text": [
        "['foo', 'red', 'baz', 'dwarf', 'foo']\n",
        "['red', 'baz', 'dwarf', 'foo']\n"
       ]
      }
     ],
     "prompt_number": 31
    },
    {
     "cell_type": "code",
     "collapsed": false,
     "input": [
      "# in \uc608\uc57d\uc5b4\n",
      "'dwarf' in b_list"
     ],
     "language": "python",
     "metadata": {},
     "outputs": [
      {
       "metadata": {},
       "output_type": "pyout",
       "prompt_number": 32,
       "text": [
        "True"
       ]
      }
     ],
     "prompt_number": 32
    },
    {
     "cell_type": "heading",
     "level": 3,
     "metadata": {},
     "source": [
      "\ub9ac\uc2a4\ud2b8 \uc774\uc5b4\ubd99\uc774\uae30"
     ]
    },
    {
     "cell_type": "code",
     "collapsed": false,
     "input": [
      "[4, None, 'foo'] + [7, 8, (2, 3)]"
     ],
     "language": "python",
     "metadata": {},
     "outputs": [
      {
       "metadata": {},
       "output_type": "pyout",
       "prompt_number": 33,
       "text": [
        "[4, None, 'foo', 7, 8, (2, 3)]"
       ]
      }
     ],
     "prompt_number": 33
    },
    {
     "cell_type": "code",
     "collapsed": false,
     "input": [
      "x = [4, None, 'foo']\n",
      "print x\n",
      "\n",
      "x.extend([7, 8, (2, 3)])\n",
      "print x"
     ],
     "language": "python",
     "metadata": {},
     "outputs": [
      {
       "output_type": "stream",
       "stream": "stdout",
       "text": [
        "[4, None, 'foo']\n",
        "[4, None, 'foo', 7, 8, (2, 3)]\n"
       ]
      }
     ],
     "prompt_number": 34
    },
    {
     "cell_type": "code",
     "collapsed": false,
     "input": [
      "# \uc774\uc5b4\ubd99\uc774\uae30\ubcf4\ub2e4 extend\uac00 \ub354 \ube60\ub974\ub2e4\n",
      "\n",
      "# \uc774 \ucf54\ub4dc\uac00 \ub354 \ube60\ub974\ub2e4\n",
      "everything = []\n",
      "for chunk in list_of_lists :\n",
      "    everything.extend(chunk)\n",
      "    \n",
      "# \uc774 \ucf54\ub4dc\ub294 \ub290\ub9ac\ub2e4\n",
      "everything = []\n",
      "for chunk in list_of_lists :\n",
      "    everything =  everything + chunk"
     ],
     "language": "python",
     "metadata": {},
     "outputs": []
    },
    {
     "cell_type": "heading",
     "level": 3,
     "metadata": {},
     "source": [
      "\uc815\ub82c"
     ]
    },
    {
     "cell_type": "code",
     "collapsed": false,
     "input": [
      "a = [7, 2, 5, 1, 3]\n",
      "print a\n",
      "\n",
      "a.sort()\n",
      "print a"
     ],
     "language": "python",
     "metadata": {},
     "outputs": [
      {
       "output_type": "stream",
       "stream": "stdout",
       "text": [
        "[7, 2, 5, 1, 3]\n",
        "[1, 2, 3, 5, 7]\n"
       ]
      }
     ],
     "prompt_number": 35
    },
    {
     "cell_type": "code",
     "collapsed": false,
     "input": [
      "b = ['saw', 'small', 'He', 'foxes', 'six']\n",
      "print b\n",
      "\n",
      "b.sort(key=len)\n",
      "print b"
     ],
     "language": "python",
     "metadata": {},
     "outputs": [
      {
       "output_type": "stream",
       "stream": "stdout",
       "text": [
        "['saw', 'small', 'He', 'foxes', 'six']\n",
        "['He', 'saw', 'six', 'small', 'foxes']\n"
       ]
      }
     ],
     "prompt_number": 36
    },
    {
     "cell_type": "heading",
     "level": 3,
     "metadata": {},
     "source": [
      "\uc774\uc9c4 \ud0d0\uc0c9\uacfc \uc815\ub82c\ub41c \ub9ac\uc2a4\ud2b8 \uc720\uc9c0\ud558\uae30"
     ]
    },
    {
     "cell_type": "code",
     "collapsed": false,
     "input": [
      "import bisect\n",
      "\n",
      "c = [1, 2, 2, 2, 3, 4, 7]\n",
      "\n",
      "# bisect \uba54\uc11c\ub4dc\ub294 \uac12\uc774 \ucd94\uac00\ub420 \ub54c \ub9ac\uc2a4\ud2b8\uac00 \uc815\ub82c\ub41c \uc0c1\ud0dc\ub97c \uc720\uc9c0\ud560 \uc218 \uc788\ub294 \uc704\uce58\ub97c \ubc18\ud658\ud55c\ub2e4.\n",
      "bisect.bisect(c, 2)"
     ],
     "language": "python",
     "metadata": {},
     "outputs": [
      {
       "metadata": {},
       "output_type": "pyout",
       "prompt_number": 41,
       "text": [
        "4"
       ]
      }
     ],
     "prompt_number": 41
    },
    {
     "cell_type": "code",
     "collapsed": false,
     "input": [
      "bisect.bisect(c, 5)"
     ],
     "language": "python",
     "metadata": {},
     "outputs": [
      {
       "metadata": {},
       "output_type": "pyout",
       "prompt_number": 42,
       "text": [
        "6"
       ]
      }
     ],
     "prompt_number": 42
    },
    {
     "cell_type": "code",
     "collapsed": false,
     "input": [
      "# insort \uba54\uc11c\ub4dc\ub294 \uc2e4\uc81c\ub85c \uc815\ub82c\ub41c \uc0c1\ud0dc\ub97c \uc720\uc9c0\ud55c \ucc44 \uac12\uc744 \ucd94\uac00\ud55c\ub2e4.\n",
      "bisect.insort(c, 6)\n",
      "c"
     ],
     "language": "python",
     "metadata": {},
     "outputs": [
      {
       "metadata": {},
       "output_type": "pyout",
       "prompt_number": 43,
       "text": [
        "[1, 2, 2, 2, 3, 4, 6, 7]"
       ]
      }
     ],
     "prompt_number": 43
    },
    {
     "cell_type": "heading",
     "level": 3,
     "metadata": {},
     "source": [
      "\uc2ac\ub77c\uc774\uc2f1"
     ]
    },
    {
     "cell_type": "code",
     "collapsed": false,
     "input": [
      "seq = [7, 2, 3, 7, 5, 6, 0, 1]\n",
      "seq[1:5]"
     ],
     "language": "python",
     "metadata": {},
     "outputs": [
      {
       "metadata": {},
       "output_type": "pyout",
       "prompt_number": 44,
       "text": [
        "[2, 3, 7, 5]"
       ]
      }
     ],
     "prompt_number": 44
    },
    {
     "cell_type": "code",
     "collapsed": false,
     "input": [
      "seq[3:4] = [6,3]\n",
      "seq"
     ],
     "language": "python",
     "metadata": {},
     "outputs": [
      {
       "metadata": {},
       "output_type": "pyout",
       "prompt_number": 45,
       "text": [
        "[7, 2, 3, 6, 3, 5, 6, 0, 1]"
       ]
      }
     ],
     "prompt_number": 45
    },
    {
     "cell_type": "code",
     "collapsed": false,
     "input": [
      "seq[:5]"
     ],
     "language": "python",
     "metadata": {},
     "outputs": [
      {
       "metadata": {},
       "output_type": "pyout",
       "prompt_number": 46,
       "text": [
        "[7, 2, 3, 6, 3]"
       ]
      }
     ],
     "prompt_number": 46
    },
    {
     "cell_type": "code",
     "collapsed": false,
     "input": [
      "seq[3:]"
     ],
     "language": "python",
     "metadata": {},
     "outputs": [
      {
       "metadata": {},
       "output_type": "pyout",
       "prompt_number": 47,
       "text": [
        "[6, 3, 5, 6, 0, 1]"
       ]
      }
     ],
     "prompt_number": 47
    },
    {
     "cell_type": "code",
     "collapsed": false,
     "input": [
      "seq[-4:]"
     ],
     "language": "python",
     "metadata": {},
     "outputs": [
      {
       "metadata": {},
       "output_type": "pyout",
       "prompt_number": 48,
       "text": [
        "[5, 6, 0, 1]"
       ]
      }
     ],
     "prompt_number": 48
    },
    {
     "cell_type": "code",
     "collapsed": false,
     "input": [
      "seq[-6:-2]"
     ],
     "language": "python",
     "metadata": {},
     "outputs": [
      {
       "metadata": {},
       "output_type": "pyout",
       "prompt_number": 49,
       "text": [
        "[6, 3, 5, 6]"
       ]
      }
     ],
     "prompt_number": 49
    },
    {
     "cell_type": "code",
     "collapsed": false,
     "input": [
      "seq[::2]"
     ],
     "language": "python",
     "metadata": {},
     "outputs": [
      {
       "metadata": {},
       "output_type": "pyout",
       "prompt_number": 50,
       "text": [
        "[7, 3, 3, 6, 1]"
       ]
      }
     ],
     "prompt_number": 50
    },
    {
     "cell_type": "code",
     "collapsed": false,
     "input": [
      "seq[::-1]  # \uc5ed\uc21c\uc73c\ub85c "
     ],
     "language": "python",
     "metadata": {},
     "outputs": [
      {
       "metadata": {},
       "output_type": "pyout",
       "prompt_number": 58,
       "text": [
        "[1, 0, 6, 5, 3, 6, 3, 2, 7]"
       ]
      }
     ],
     "prompt_number": 58
    },
    {
     "cell_type": "markdown",
     "metadata": {},
     "source": [
      "<img src='./01_figures/01_fig.a.2.png'/>"
     ]
    },
    {
     "cell_type": "heading",
     "level": 2,
     "metadata": {},
     "source": [
      "\ub0b4\uc7a5 \uc21c\ucc28 \uc790\ub8cc\ud615 \ud568\uc218"
     ]
    },
    {
     "cell_type": "markdown",
     "metadata": {},
     "source": [
      "\ud30c\uc774\uc36c\uc740 \uc21c\ucc28 \uc790\ub8cc\ud615\uc5d0 \uc0ac\uc6a9\ud560 \uc218 \uc788\ub294 \ub9e4\uc6b0 \uc720\uc6a9\ud55c \ud568\uc218\ub4e4\uc744 \uc81c\uacf5\ud55c\ub2e4."
     ]
    },
    {
     "cell_type": "markdown",
     "metadata": {},
     "source": [
      "* enumerate\n",
      "* sorted\n",
      "* zip\n",
      "* reversed"
     ]
    },
    {
     "cell_type": "heading",
     "level": 3,
     "metadata": {},
     "source": [
      "enumerate"
     ]
    },
    {
     "cell_type": "code",
     "collapsed": false,
     "input": [
      "# \uc21c\ucc28 \uc790\ub8cc\ud615\uc5d0\uc11c \ud604\uc7ac \uc544\uc774\ud15c\uc758 \uc0c9\uc778\uc744 \ud568\uaed8 \ucc98\ub9ac\ud558\uace0\uc790 \ud560 \ub54c \ud754\ud788 \uc0ac\uc6a9\ub41c\ub2e4.\n",
      "\n",
      "# \uc774 \ucf54\ub4dc\uac00\n",
      "i = 0\n",
      "for value in collection :\n",
      "    # value\ub97c \uac00\uc9c0\uace0 \ubb34\uc5b8\uac00 \ud55c\ub2e4\n",
      "    i += 1\n",
      "    \n",
      "#  enumerate\ub97c \uc0ac\uc6a9\ud558\uba74\n",
      "for i, value in enumerate(collection) :\n",
      "    # value\ub97c \uac00\uc9c0\uace0 \ubb34\uc5b8\uac00 \ud55c\ub2e4    "
     ],
     "language": "python",
     "metadata": {},
     "outputs": []
    },
    {
     "cell_type": "code",
     "collapsed": false,
     "input": [
      "some_list = ['foo', 'bar', 'baz']\n",
      "\n",
      "mapping = dict((v, i) for i, v in enumerate(some_list))\n",
      "\n",
      "mapping"
     ],
     "language": "python",
     "metadata": {},
     "outputs": [
      {
       "metadata": {},
       "output_type": "pyout",
       "prompt_number": 59,
       "text": [
        "{'bar': 1, 'baz': 2, 'foo': 0}"
       ]
      }
     ],
     "prompt_number": 59
    },
    {
     "cell_type": "heading",
     "level": 3,
     "metadata": {},
     "source": [
      "sorted"
     ]
    },
    {
     "cell_type": "code",
     "collapsed": false,
     "input": [
      "# sorted \ud568\uc218\ub294 \uc815\ub82c\ub41c \uc0c8\ub85c\uc6b4 \uc21c\ucc28 \uc790\ub8cc\ud615\uc744 \ubc18\ud658\ud55c\ub2e4.\n",
      "\n",
      "sorted([7, 1, 2, 6, 0, 3, 2])"
     ],
     "language": "python",
     "metadata": {},
     "outputs": [
      {
       "metadata": {},
       "output_type": "pyout",
       "prompt_number": 60,
       "text": [
        "[0, 1, 2, 2, 3, 6, 7]"
       ]
      }
     ],
     "prompt_number": 60
    },
    {
     "cell_type": "code",
     "collapsed": false,
     "input": [
      "sorted('horse race')"
     ],
     "language": "python",
     "metadata": {},
     "outputs": [
      {
       "metadata": {},
       "output_type": "pyout",
       "prompt_number": 61,
       "text": [
        "[' ', 'a', 'c', 'e', 'e', 'h', 'o', 'r', 'r', 's']"
       ]
      }
     ],
     "prompt_number": 61
    },
    {
     "cell_type": "code",
     "collapsed": false,
     "input": [
      "# \uc815\ub82c\uacfc \uc911\ubcf5\uc81c\uac70\n",
      "sorted(set('this is just some string'))"
     ],
     "language": "python",
     "metadata": {},
     "outputs": [
      {
       "metadata": {},
       "output_type": "pyout",
       "prompt_number": 62,
       "text": [
        "[' ', 'e', 'g', 'h', 'i', 'j', 'm', 'n', 'o', 'r', 's', 't', 'u']"
       ]
      }
     ],
     "prompt_number": 62
    },
    {
     "cell_type": "heading",
     "level": 3,
     "metadata": {},
     "source": [
      "zip"
     ]
    },
    {
     "cell_type": "code",
     "collapsed": false,
     "input": [
      "# zip \ud568\uc218\ub294 \uc5ec\ub7ec \uac1c\uc758 \ub9ac\uc2a4\ud2b8\ub098 \ud29c\ud50c \ub610\ub294 \ub2e4\ub978 \uc21c\ucc28 \uc790\ub8cc\ud615\uc744 \uc11c\ub85c \uc9dd\uc9c0\uc5b4\uc11c \ud29c\ud50c\uc758 \ub9ac\uc2a4\ud2b8\ub97c \uc0dd\uc131\ud55c\ub2e4.\n",
      "\n",
      "seq1 = ['foo', 'bar', 'baz']\n",
      "seq2 = ['one', 'two', 'three']\n",
      "\n",
      "zip(seq1, seq2)"
     ],
     "language": "python",
     "metadata": {},
     "outputs": [
      {
       "metadata": {},
       "output_type": "pyout",
       "prompt_number": 104,
       "text": [
        "[('foo', 'one'), ('bar', 'two'), ('baz', 'three')]"
       ]
      }
     ],
     "prompt_number": 104
    },
    {
     "cell_type": "code",
     "collapsed": false,
     "input": [
      "# zip \ud568\uc218\uac00 \uc5ec\ub7ec \uac1c\uc758 \uc21c\ucc28 \uc790\ub8cc\ud615\uc744 \ubc1b\uc744 \uc218 \uc788\ub2e4\uba74 \ubc18\ud658\ub418\ub294 \ub9ac\uc2a4\ud2b8\uc758 \ud06c\uae30\ub294 \ub118\uaca8 \ubc1b\uc740 \uc21c\ucc28 \uc790\ub8cc\ud615 \uc911\uc5d0 \uac00\uc7a5 \uc9e7\ub2e4.\n",
      "seq3 = [False, True]\n",
      "\n",
      "zip(seq1, seq2, seq3)"
     ],
     "language": "python",
     "metadata": {},
     "outputs": [
      {
       "metadata": {},
       "output_type": "pyout",
       "prompt_number": 105,
       "text": [
        "[('foo', 'one', False), ('bar', 'two', True)]"
       ]
      }
     ],
     "prompt_number": 105
    },
    {
     "cell_type": "code",
     "collapsed": false,
     "input": [
      "# enumerate\uc640 \ud568\uaed8 \uc0ac\uc6a9\ub418\uae30\ub3c4 \ud55c\ub2e4.\n",
      "for i, (a, b) in enumerate(zip(seq1, seq2)) :\n",
      "    print '%d: %s, %s' %(i, a, b)"
     ],
     "language": "python",
     "metadata": {},
     "outputs": [
      {
       "output_type": "stream",
       "stream": "stdout",
       "text": [
        "0: foo, one\n",
        "1: bar, two\n",
        "2: baz, three\n"
       ]
      }
     ],
     "prompt_number": 106
    },
    {
     "cell_type": "code",
     "collapsed": false,
     "input": [
      "# zip \ud568\uc218\ub97c \uc0ac\uc6a9\ud574\uc11c \uc9dd\uc9c0\uc5b4\uc9c4 \uc21c\ucc28 \uc790\ub8cc\ud615\uc744 \ub2e4\uc2dc \ud480\uc5b4\ub0bc \uc218 \uc788\ub2e4.\n",
      "pitchers = [('Nolan', 'Ryan'), ('Roger', 'Clemens'), ('Schilling', 'Curt')]\n",
      "\n",
      "first_names, last_names = zip(*pitchers)\n",
      "\n",
      "print first_names\n",
      "print last_names"
     ],
     "language": "python",
     "metadata": {},
     "outputs": [
      {
       "output_type": "stream",
       "stream": "stdout",
       "text": [
        "('Nolan', 'Roger', 'Schilling')\n",
        "('Ryan', 'Clemens', 'Curt')\n"
       ]
      }
     ],
     "prompt_number": 107
    },
    {
     "cell_type": "heading",
     "level": 3,
     "metadata": {},
     "source": [
      "reversed"
     ]
    },
    {
     "cell_type": "code",
     "collapsed": false,
     "input": [
      "# reversed\ub294 \uc21c\ucc28 \uc790\ub8cc\ud615\uc744 \uc5ed\uc21c\uc73c\ub85c \uc21c\ud68c\ud55c\ub2e4.\n",
      "list(reversed(range(10)))"
     ],
     "language": "python",
     "metadata": {},
     "outputs": [
      {
       "metadata": {},
       "output_type": "pyout",
       "prompt_number": 108,
       "text": [
        "[9, 8, 7, 6, 5, 4, 3, 2, 1, 0]"
       ]
      }
     ],
     "prompt_number": 108
    },
    {
     "cell_type": "heading",
     "level": 2,
     "metadata": {},
     "source": [
      "\uc0ac\uc804"
     ]
    },
    {
     "cell_type": "markdown",
     "metadata": {},
     "source": [
      "dict(\uc0ac\uc804)\uc740 \uc720\uc5f0\ud55c \ud06c\uae30\ub97c \uac00\uc9c0\ub294 \ud0a4-\ubc38\ub958 \uc30d\uc774\ub2e4.<br> \n",
      "\uc77c\ubc18\uc801\uc73c\ub85c \ud574\uc2dc\ub9f5 \ub610\ub294 \uc5f0\uad00 \ubc30\uc5f4\uc774\ub77c\uace0 \uc54c\ub824\uc838 \uc788\ub2e4.<br>\n",
      "\uc911\uad04\ud638 {}\ub97c \uc0ac\uc6a9\ud574, \ucf5c\ub860 :\ub85c \uad6c\ubd84\ub418\ub294 \ud0a4\uc640 \uac12\uc744 \ub458\ub7ec\uc2f8\uc11c \uc0dd\uc131\ud55c\ub2e4."
     ]
    },
    {
     "cell_type": "markdown",
     "metadata": {},
     "source": [
      "* \uc0ac\uc804 \uae30\ucd08\n",
      "* \uc21c\ucc28 \uc790\ub8cc \uad6c\uc870\uc5d0\uc11c \uc0ac\uc804 \uc0dd\uc131\ud558\uae30\n",
      "* \uae30\ubcf8 \uac12\n",
      "* \uc720\ud6a8\ud55c \uc0ac\uc804 \ud0a4"
     ]
    },
    {
     "cell_type": "heading",
     "level": 3,
     "metadata": {},
     "source": [
      "\uc0ac\uc804 \uae30\ucd08"
     ]
    },
    {
     "cell_type": "code",
     "collapsed": false,
     "input": [
      "empty_dict = {}\n",
      "\n",
      "d1 = {'a' : 'some value', 'b' : [1,2,3,4]}\n",
      "d1"
     ],
     "language": "python",
     "metadata": {},
     "outputs": [
      {
       "metadata": {},
       "output_type": "pyout",
       "prompt_number": 63,
       "text": [
        "{'a': 'some value', 'b': [1, 2, 3, 4]}"
       ]
      }
     ],
     "prompt_number": 63
    },
    {
     "cell_type": "code",
     "collapsed": false,
     "input": [
      "d1[7] = 'an ingeger'  # 7\uc774\ub780 \ud0a4\uac00 \uc5c6\uc73c\uba74 \uc0dd\uc131\ud574\uc11c \ub123\ub294\ub2e4.\n",
      "d1"
     ],
     "language": "python",
     "metadata": {},
     "outputs": [
      {
       "metadata": {},
       "output_type": "pyout",
       "prompt_number": 65,
       "text": [
        "{7: 'an ingeger', 'a': 'some value', 'b': [1, 2, 3, 4]}"
       ]
      }
     ],
     "prompt_number": 65
    },
    {
     "cell_type": "code",
     "collapsed": false,
     "input": [
      "d1['b']"
     ],
     "language": "python",
     "metadata": {},
     "outputs": [
      {
       "metadata": {},
       "output_type": "pyout",
       "prompt_number": 66,
       "text": [
        "[1, 2, 3, 4]"
       ]
      }
     ],
     "prompt_number": 66
    },
    {
     "cell_type": "code",
     "collapsed": false,
     "input": [
      "# \uc0ac\uc804\uc5d0 \uc5b4\ub5a4 \ud0a4\uac00 \uc788\ub294\uc9c0 \ud655\uc778\n",
      "'b' in d1"
     ],
     "language": "python",
     "metadata": {},
     "outputs": [
      {
       "metadata": {},
       "output_type": "pyout",
       "prompt_number": 67,
       "text": [
        "True"
       ]
      }
     ],
     "prompt_number": 67
    },
    {
     "cell_type": "code",
     "collapsed": false,
     "input": [
      "# \uc0ad\uc81c - del \ud639\uc740 pop\n",
      "d1[5] = 'some value'\n",
      "d1['dummy'] = 'another value'\n",
      "print d1\n",
      "\n",
      "del d1[5]\n",
      "print d1\n",
      "\n",
      "ret = d1.pop('dummy')\n",
      "print ret\n",
      "print d1"
     ],
     "language": "python",
     "metadata": {},
     "outputs": [
      {
       "output_type": "stream",
       "stream": "stdout",
       "text": [
        "{'a': 'some value', 'dummy': 'another value', 'b': [1, 2, 3, 4], 5: 'some value', 7: 'an ingeger'}\n",
        "{'a': 'some value', 'dummy': 'another value', 'b': [1, 2, 3, 4], 7: 'an ingeger'}\n",
        "another value\n",
        "{'a': 'some value', 'b': [1, 2, 3, 4], 7: 'an ingeger'}\n"
       ]
      }
     ],
     "prompt_number": 68
    },
    {
     "cell_type": "code",
     "collapsed": false,
     "input": [
      "# \ud0a4\ub9cc \uc5bb\uae30\n",
      "d1.keys()"
     ],
     "language": "python",
     "metadata": {},
     "outputs": [
      {
       "metadata": {},
       "output_type": "pyout",
       "prompt_number": 69,
       "text": [
        "['a', 'b', 7]"
       ]
      }
     ],
     "prompt_number": 69
    },
    {
     "cell_type": "code",
     "collapsed": false,
     "input": [
      "# \uac12\ub9cc \uc5bb\uae30\n",
      "d1.values()"
     ],
     "language": "python",
     "metadata": {},
     "outputs": [
      {
       "metadata": {},
       "output_type": "pyout",
       "prompt_number": 70,
       "text": [
        "['some value', [1, 2, 3, 4], 'an ingeger']"
       ]
      }
     ],
     "prompt_number": 70
    },
    {
     "cell_type": "code",
     "collapsed": false,
     "input": [
      "# \uc0ac\uc804\ub4e4 \ud569\uce58\uae30\n",
      "\n",
      "print d1\n",
      "\n",
      "d1.update({'b' : 'foo', 'c': 12})\n",
      "\n",
      "print d1"
     ],
     "language": "python",
     "metadata": {},
     "outputs": [
      {
       "output_type": "stream",
       "stream": "stdout",
       "text": [
        "{'a': 'some value', 'b': [1, 2, 3, 4], 7: 'an ingeger'}\n",
        "{'a': 'some value', 'c': 12, 'b': 'foo', 7: 'an ingeger'}\n"
       ]
      }
     ],
     "prompt_number": 71
    },
    {
     "cell_type": "heading",
     "level": 3,
     "metadata": {},
     "source": [
      "\uc21c\ucc28 \uc790\ub8cc \uad6c\uc870\uc5d0\uc11c \uc0ac\uc804 \uc0dd\uc131\ud558\uae30"
     ]
    },
    {
     "cell_type": "code",
     "collapsed": false,
     "input": [
      "# \uc774\ub7f0 \ubc29\uc2dd\uc744 \ub9ce\uc774 \uc4f4\ub2e4\n",
      "mapping = {}\n",
      "for key, value in zip(key_list, value_list) :\n",
      "    mapping[key] = value"
     ],
     "language": "python",
     "metadata": {},
     "outputs": []
    },
    {
     "cell_type": "code",
     "collapsed": false,
     "input": [
      "# \uc774\uac83\uc774 \ub354 \ud3b8\ud558\ub2e4\n",
      "mapping = dict(zip(range(5), reversed(range(5))))\n",
      "mapping"
     ],
     "language": "python",
     "metadata": {},
     "outputs": [
      {
       "metadata": {},
       "output_type": "pyout",
       "prompt_number": 72,
       "text": [
        "{0: 4, 1: 3, 2: 2, 3: 1, 4: 0}"
       ]
      }
     ],
     "prompt_number": 72
    },
    {
     "cell_type": "heading",
     "level": 3,
     "metadata": {},
     "source": [
      "\uae30\ubcf8 \uac12"
     ]
    },
    {
     "cell_type": "code",
     "collapsed": false,
     "input": [
      "# \uc77c\ubc18\uc801 \ub85c\uc9c1\n",
      "if key in some_dict :\n",
      "    value = some_dict[key]\n",
      "else :\n",
      "    value = default_value"
     ],
     "language": "python",
     "metadata": {},
     "outputs": []
    },
    {
     "cell_type": "code",
     "collapsed": false,
     "input": [
      "# get \ub610\ub294 pop\uc744 \uc4f0\uba74 \ud3b8\ud558\ub2e4.\n",
      "\n",
      "value = some_dict.get(key, default_value)\n",
      "\n",
      "# or\n",
      "value = some_dict.pop(key, default_value)"
     ],
     "language": "python",
     "metadata": {},
     "outputs": []
    },
    {
     "cell_type": "code",
     "collapsed": false,
     "input": [
      "# \ubcf4\ud1b5 \uc0ac\uc804\uc758 \uac12(value)\ub85c list \uac19\uc740 \ub2e4\ub978 \uceec\ub809\uc158 \uac12\uc744 \ub9ce\uc774 \uc774\uc6a9\ud55c\ub2e4.\n",
      "\n",
      "words = ['apple', 'bat', 'bar', 'atom', 'book']\n",
      "\n",
      "by_letter = {}\n",
      "\n",
      "for word in words :\n",
      "    letter = word[0]\n",
      "    if letter not in by_letter :\n",
      "        by_letter[letter] = [word]\n",
      "    else :\n",
      "        by_letter[letter].append(word)\n",
      "        \n",
      "by_letter"
     ],
     "language": "python",
     "metadata": {},
     "outputs": [
      {
       "metadata": {},
       "output_type": "pyout",
       "prompt_number": 73,
       "text": [
        "{'a': ['apple', 'atom'], 'b': ['bat', 'bar', 'book']}"
       ]
      }
     ],
     "prompt_number": 73
    },
    {
     "cell_type": "code",
     "collapsed": false,
     "input": [
      "# setdefault \uba54\uc11c\ub4dc\ub97c \uc0ac\uc6a9\ud558\uba74 value\uc758 \uae30\ubcf8\uc790\ub8cc\ud615\uc744 \uc124\uc815\ud558\ubbc0\ub85c, \uc704\uc758 \ucf54\ub4dc\ub97c \ub354 \uc904\uc77c \uc218 \uc788\ub2e4.\n",
      "words = ['apple', 'bat', 'bar', 'atom', 'book']\n",
      "\n",
      "by_letter = {}\n",
      "\n",
      "for word in words :\n",
      "    letter = word[0]\n",
      "    by_letter.setdefault(letter, []).append(word)\n",
      "        \n",
      "by_letter"
     ],
     "language": "python",
     "metadata": {},
     "outputs": [
      {
       "metadata": {},
       "output_type": "pyout",
       "prompt_number": 74,
       "text": [
        "{'a': ['apple', 'atom'], 'b': ['bat', 'bar', 'book']}"
       ]
      }
     ],
     "prompt_number": 74
    },
    {
     "cell_type": "code",
     "collapsed": false,
     "input": [
      "# \ub0b4\uc7a5 collections \ubaa8\ub4c8\uc758 defaultdict \ud074\ub798\uc2a4\ub97c \uc0ac\uc6a9\ud558\uba74 \ub354 \uc27d\ub2e4.\n",
      "from collections import defaultdict\n",
      "\n",
      "words = ['apple', 'bat', 'bar', 'atom', 'book']\n",
      "by_letter = defaultdict(list)\n",
      "for word in words :\n",
      "    by_letter[word[0]].append(word)\n",
      "    \n",
      "by_letter"
     ],
     "language": "python",
     "metadata": {},
     "outputs": [
      {
       "metadata": {},
       "output_type": "pyout",
       "prompt_number": 75,
       "text": [
        "defaultdict(<type 'list'>, {'a': ['apple', 'atom'], 'b': ['bat', 'bar', 'book']})"
       ]
      }
     ],
     "prompt_number": 75
    },
    {
     "cell_type": "code",
     "collapsed": false,
     "input": [
      "# defaultdict\uc758 \ucd08\uae30\ud654\ub294 \ud638\ucd9c \uac00\ub2a5\ud55c(\ud568\uc218 \uac19\uc740) \uac1d\uccb4\ub3c4 \uc0ac\uc6a9\ud560 \uc218 \uc788\ub2e4.\n",
      "\n",
      "counts = defaultdict(lambda: 4) # lambda \ud568\uc218\ub85c \uae30\ubcf8\uac12 4\ub97c \uc14b\ud305\n",
      "print counts\n",
      "\n",
      "counts['a']\n",
      "print counts\n",
      "\n",
      "counts['b']\n",
      "print counts\n",
      "\n",
      "counts['a'] = 7\n",
      "print counts"
     ],
     "language": "python",
     "metadata": {},
     "outputs": [
      {
       "output_type": "stream",
       "stream": "stdout",
       "text": [
        "defaultdict(<function <lambda> at 0x3c45488>, {})\n",
        "defaultdict(<function <lambda> at 0x3c45488>, {'a': 4})\n",
        "defaultdict(<function <lambda> at 0x3c45488>, {'a': 4, 'b': 4})\n",
        "defaultdict(<function <lambda> at 0x3c45488>, {'a': 7, 'b': 4})\n"
       ]
      }
     ],
     "prompt_number": 85
    },
    {
     "cell_type": "heading",
     "level": 3,
     "metadata": {},
     "source": [
      "\uc720\ud6a8\ud55c \uc0ac\uc804 \ud0a4"
     ]
    },
    {
     "cell_type": "markdown",
     "metadata": {},
     "source": [
      "\uc0ac\uc804\uc758 \ud0a4\ub294 \uc774\ubba4\ud130\ube14 \uac1d\uccb4\ub9cc \uac00\ub2a5\ud558\ub2e4(\uc2a4\uce7c\ub77c\ud615, \ud29c\ud50c-\ud29c\ud50c\uc548\uc5d0 \uc800\uc7a5\ub41c \uac83\ub4e4\uc774 \uc774\ubba4\ud130\ube14\uc774\uc5b4\uc57c \ud568- \ub4f1)<br>\n",
      "\uac12\uc740 \uc5b4\ub5a4 \ud30c\uc774\uc36c \uac1d\uccb4\ub77c\ub3c4 \uc0ac\uc6a9\uac00\ub2a5\ud558\ub2e4.\n"
     ]
    },
    {
     "cell_type": "code",
     "collapsed": false,
     "input": [
      "# \ud0a4 \uc720\ud6a8\uc131 \uac80\uc0ac\n",
      "\n",
      "hash('string')"
     ],
     "language": "python",
     "metadata": {},
     "outputs": [
      {
       "metadata": {},
       "output_type": "pyout",
       "prompt_number": 86,
       "text": [
        "1097636502276347782"
       ]
      }
     ],
     "prompt_number": 86
    },
    {
     "cell_type": "code",
     "collapsed": false,
     "input": [
      "hash((1,2,(2,3)))"
     ],
     "language": "python",
     "metadata": {},
     "outputs": [
      {
       "metadata": {},
       "output_type": "pyout",
       "prompt_number": 88,
       "text": [
        "1097636502276347782"
       ]
      }
     ],
     "prompt_number": 88
    },
    {
     "cell_type": "code",
     "collapsed": false,
     "input": [
      "hash((1,2,[2,3])) # \ud29c\ud50c \uc548\uc758 \ub9ac\uc2a4\ud2b8\ub294 \uac12\uc774 \ubc14\ub014 \uc218 \uc788\uc73c\ubbc0\ub85c \uc5d0\ub7ec"
     ],
     "language": "python",
     "metadata": {},
     "outputs": [
      {
       "ename": "TypeError",
       "evalue": "unhashable type: 'list'",
       "output_type": "pyerr",
       "traceback": [
        "\u001b[1;31m---------------------------------------------------------------------------\u001b[0m\n\u001b[1;31mTypeError\u001b[0m                                 Traceback (most recent call last)",
        "\u001b[1;32m<ipython-input-87-f637abc4d781>\u001b[0m in \u001b[0;36m<module>\u001b[1;34m()\u001b[0m\n\u001b[1;32m----> 1\u001b[1;33m \u001b[0mhash\u001b[0m\u001b[1;33m(\u001b[0m\u001b[1;33m(\u001b[0m\u001b[1;36m1\u001b[0m\u001b[1;33m,\u001b[0m\u001b[1;36m2\u001b[0m\u001b[1;33m,\u001b[0m\u001b[1;33m[\u001b[0m\u001b[1;36m2\u001b[0m\u001b[1;33m,\u001b[0m\u001b[1;36m3\u001b[0m\u001b[1;33m]\u001b[0m\u001b[1;33m)\u001b[0m\u001b[1;33m)\u001b[0m \u001b[1;31m# \ud29c\ud50c \uc548\uc758 \ub9ac\uc2a4\ud2b8\ub294 \uac12\uc774 \ubc14\ub014 \uc218 \uc788\uc73c\ubbc0\ub85c \uc5d0\ub7ec\u001b[0m\u001b[1;33m\u001b[0m\u001b[0m\n\u001b[0m",
        "\u001b[1;31mTypeError\u001b[0m: unhashable type: 'list'"
       ]
      }
     ],
     "prompt_number": 87
    },
    {
     "cell_type": "code",
     "collapsed": false,
     "input": [
      "# \ub9ac\uc2a4\ud2b8\ub97c \ud0a4\ub85c \uc0ac\uc6a9\ud558\ub824\uba74 \ud29c\ud50c\ub85c \ubcc0\uacbd\ud558\uba74 \ub41c\ub2e4.\n",
      "d = {}\n",
      "\n",
      "d[tuple([1,2,3])] = 5\n",
      "d"
     ],
     "language": "python",
     "metadata": {},
     "outputs": [
      {
       "metadata": {},
       "output_type": "pyout",
       "prompt_number": 89,
       "text": [
        "{(1, 2, 3): 5}"
       ]
      }
     ],
     "prompt_number": 89
    },
    {
     "cell_type": "heading",
     "level": 2,
     "metadata": {},
     "source": [
      "\uc138\ud2b8(\uc9d1\ud569)"
     ]
    },
    {
     "cell_type": "markdown",
     "metadata": {},
     "source": [
      "\uc138\ud2b8(\uc9d1\ud569)\ub294 \uc720\uc77c\ud55c \uc6d0\uc18c\ub9cc \ub2f4\ub294 \uc815\ub82c\ub418\uc9c0 \uc54a\uc740 \uc790\ub8cc\ud615\uc774\ub2e4. set \ud568\uc218\ub098 \uc911\uad04\ud638 {}\ub97c \uc0ac\uc6a9\ud574 \uc0dd\uc131\ud55c\ub2e4."
     ]
    },
    {
     "cell_type": "code",
     "collapsed": false,
     "input": [
      "set([2, 2, 2, 1, 3, 3])"
     ],
     "language": "python",
     "metadata": {},
     "outputs": [
      {
       "metadata": {},
       "output_type": "pyout",
       "prompt_number": 90,
       "text": [
        "{1, 2, 3}"
       ]
      }
     ],
     "prompt_number": 90
    },
    {
     "cell_type": "code",
     "collapsed": false,
     "input": [
      "{2, 2, 2, 1, 3, 3}"
     ],
     "language": "python",
     "metadata": {},
     "outputs": [
      {
       "metadata": {},
       "output_type": "pyout",
       "prompt_number": 91,
       "text": [
        "{1, 2, 3}"
       ]
      }
     ],
     "prompt_number": 91
    },
    {
     "cell_type": "code",
     "collapsed": false,
     "input": [
      "a = {1, 2, 3, 4, 5}\n",
      "b = {3, 4, 5, 6, 7, 8}\n",
      "\n",
      "# \ud569\uc9d1\ud569 (or)\n",
      "print a\n",
      "print b\n",
      "print a | b "
     ],
     "language": "python",
     "metadata": {},
     "outputs": [
      {
       "output_type": "stream",
       "stream": "stdout",
       "text": [
        "set([1, 2, 3, 4, 5])\n",
        "set([3, 4, 5, 6, 7, 8])\n",
        "set([1, 2, 3, 4, 5, 6, 7, 8])\n"
       ]
      }
     ],
     "prompt_number": 96
    },
    {
     "cell_type": "code",
     "collapsed": false,
     "input": [
      "# \uad50\uc9d1\ud569 (and)\n",
      "print a\n",
      "print b\n",
      "print a & b"
     ],
     "language": "python",
     "metadata": {},
     "outputs": [
      {
       "output_type": "stream",
       "stream": "stdout",
       "text": [
        "set([1, 2, 3, 4, 5])\n",
        "set([3, 4, 5, 6, 7, 8])\n",
        "set([3, 4, 5])\n"
       ]
      }
     ],
     "prompt_number": 97
    },
    {
     "cell_type": "code",
     "collapsed": false,
     "input": [
      "# \ucc28\uc9d1\ud569\n",
      "print a\n",
      "print b\n",
      "print a - b"
     ],
     "language": "python",
     "metadata": {},
     "outputs": [
      {
       "output_type": "stream",
       "stream": "stdout",
       "text": [
        "set([1, 2, 3, 4, 5])\n",
        "set([3, 4, 5, 6, 7, 8])\n",
        "set([1, 2])\n"
       ]
      }
     ],
     "prompt_number": 98
    },
    {
     "cell_type": "code",
     "collapsed": false,
     "input": [
      "# \ub300\uce6d\ucc28\uc9d1\ud569 (xor)\n",
      "print a\n",
      "print b\n",
      "print a ^ b"
     ],
     "language": "python",
     "metadata": {},
     "outputs": [
      {
       "output_type": "stream",
       "stream": "stdout",
       "text": [
        "set([1, 2, 3, 4, 5])\n",
        "set([3, 4, 5, 6, 7, 8])\n",
        "set([1, 2, 6, 7, 8])\n"
       ]
      }
     ],
     "prompt_number": 99
    },
    {
     "cell_type": "code",
     "collapsed": false,
     "input": [
      "# \ubd80\ubd84\uc9d1\ud569 & \ud655\ub300\uc9d1\ud569 \uac80\uc0ac\n",
      "a_set = {1, 2, 3, 4, 5}\n",
      "\n",
      "print {1, 2, 3}.issubset(a_set)\n",
      "print {1, 2, 3}.issuperset(a_set)"
     ],
     "language": "python",
     "metadata": {},
     "outputs": [
      {
       "output_type": "stream",
       "stream": "stdout",
       "text": [
        "True\n",
        "False\n"
       ]
      }
     ],
     "prompt_number": 102
    },
    {
     "cell_type": "code",
     "collapsed": false,
     "input": [
      "# \ub0b4\uc6a9 \uac19\uc740\uc9c0 \uac80\uc0ac\n",
      "{1, 2, 3} == {3, 2, 1}"
     ],
     "language": "python",
     "metadata": {},
     "outputs": [
      {
       "metadata": {},
       "output_type": "pyout",
       "prompt_number": 103,
       "text": [
        "True"
       ]
      }
     ],
     "prompt_number": 103
    },
    {
     "cell_type": "heading",
     "level": 2,
     "metadata": {},
     "source": [
      "\ub9ac\uc2a4\ud2b8 \ub0b4\ud3ec, \uc0ac\uc804 \ub0b4\ud3ec, \uc138\ud2b8 \ub0b4\ud3ec"
     ]
    },
    {
     "cell_type": "markdown",
     "metadata": {},
     "source": [
      "\uac04\uacb0\ud55c \ud45c\ud604\uc73c\ub85c \uc0c8\ub85c\uc6b4 \ub9ac\uc2a4\ud2b8\ub97c \ub9cc\ub4e4 \uc218 \uc788\ub2e4."
     ]
    },
    {
     "cell_type": "markdown",
     "metadata": {},
     "source": [
      "* \ub9ac\uc2a4\ud2b8 \ub0b4\ud3ec, \uc0ac\uc804 \ub0b4\ud3ec, \uc138\ud2b8 \ub0b4\ud3ec \uae30\ucd08\n",
      "* \uc911\ucca9\ub41c \ub9ac\uc2a4\ud2b8 \ub0b4\ud3ec"
     ]
    },
    {
     "cell_type": "heading",
     "level": 3,
     "metadata": {},
     "source": [
      "\ub9ac\uc2a4\ud2b8 \ub0b4\ud3ec \uae30\ucd08"
     ]
    },
    {
     "cell_type": "code",
     "collapsed": false,
     "input": [
      "# \uae30\ubcf8 \ud615\ud0dc\ub294 \ub2e4\uc74c\uacfc \uac19\ub2e4\n",
      "[expr for val in collection if condtion]\n",
      "\n",
      "# \uc704\uc758 \ucf54\ub4dc\ub294 \ub2e4\uc74c \ubc18\ubcf5\ubb38\uacfc \uac19\ub2e4\n",
      "result = []\n",
      "for val in collection :\n",
      "    if condition :\n",
      "        result.append(expr)"
     ],
     "language": "python",
     "metadata": {},
     "outputs": []
    },
    {
     "cell_type": "code",
     "collapsed": false,
     "input": [
      "strings = ['a', 'as', 'bat', 'car', 'dove', 'python']\n",
      "\n",
      "lst = [x.upper() for x in strings if len(x) > 2]\n",
      "lst"
     ],
     "language": "python",
     "metadata": {},
     "outputs": [
      {
       "metadata": {},
       "output_type": "pyout",
       "prompt_number": 109,
       "text": [
        "['BAT', 'CAR', 'DOVE', 'PYTHON']"
       ]
      }
     ],
     "prompt_number": 109
    },
    {
     "cell_type": "code",
     "collapsed": false,
     "input": [
      "# \uc0ac\uc804\uc5d0 \ub300\ud574\uc11c\ub294 \uc774\ub7f0 \ud615\ud0dc\ub85c\n",
      "dict_comp = {key-expr : value-expr for value in collection if condition}"
     ],
     "language": "python",
     "metadata": {},
     "outputs": []
    },
    {
     "cell_type": "code",
     "collapsed": false,
     "input": [
      "loc_mapping = {val : index for index, val in enumerate(strings)}\n",
      "loc_mapping"
     ],
     "language": "python",
     "metadata": {},
     "outputs": [
      {
       "metadata": {},
       "output_type": "pyout",
       "prompt_number": 110,
       "text": [
        "{'a': 0, 'as': 1, 'bat': 2, 'car': 3, 'dove': 4, 'python': 5}"
       ]
      }
     ],
     "prompt_number": 110
    },
    {
     "cell_type": "code",
     "collapsed": false,
     "input": [
      "#  \uc138\ud2b8\uc5d0 \ub300\ud574\uc11c\ub294 \uc774\ub7f0 \ud615\ud0dc\ub85c\n",
      "set_comp = { expr for value in collection if condtion}"
     ],
     "language": "python",
     "metadata": {},
     "outputs": []
    },
    {
     "cell_type": "code",
     "collapsed": false,
     "input": [
      "unique_length = {len(x) for x in strings}\n",
      "unique_length"
     ],
     "language": "python",
     "metadata": {},
     "outputs": [
      {
       "metadata": {},
       "output_type": "pyout",
       "prompt_number": 111,
       "text": [
        "{1, 2, 3, 4, 6}"
       ]
      }
     ],
     "prompt_number": 111
    },
    {
     "cell_type": "heading",
     "level": 3,
     "metadata": {},
     "source": [
      "\uc911\ucca9\ub41c \ub9ac\uc2a4\ud2b8 \ub0b4\ud3ec"
     ]
    },
    {
     "cell_type": "code",
     "collapsed": false,
     "input": [
      "# \uba87\uba87 \ud30c\uc77c\uc5d0\uc11c \uc774 \uc774\ub984\uc744 \uc77d\uc5b4\uc640\uc11c \ub0a8\uc790\uc640 \uc5ec\uc790\uc758 \uc774\ub984\uc744 \ub530\ub85c \uc800\uc7a5\ud588\uc73c\uba70\n",
      "# \uac01 \uc774\ub984\uc5d0\uc11c e\uac00 2\uac1c \uc774\uc0c1 \ud3ec\ud568\ub41c \uc774\ub984\uc758 \ub9ac\uc2a4\ud2b8\ub97c \uad6c\ud55c\ub2e4\uace0 \uac00\uc815\ud558\uc790.\n",
      "all_data = [['Tom', 'Billy', 'Jefferson', 'Andrew', 'Wesley', 'Steven', 'Joe'],\n",
      "            ['Susie', 'Casey', 'Jill', 'Ana', 'Eva', 'Jennifer', 'Stehanie']]"
     ],
     "language": "python",
     "metadata": {},
     "outputs": [],
     "prompt_number": 117
    },
    {
     "cell_type": "code",
     "collapsed": false,
     "input": [
      "# \uc77c\ubc18\uc801\uc778 \ud615\ud0dc\n",
      "names_of_interest = []\n",
      "for names in all_data :\n",
      "    enough_es = [name for name in names if name.count('e') >= 2]\n",
      "    names_of_interest.extend(enough_es)\n",
      "\n",
      "names_of_interest"
     ],
     "language": "python",
     "metadata": {},
     "outputs": [
      {
       "metadata": {},
       "output_type": "pyout",
       "prompt_number": 121,
       "text": [
        "['Jefferson', 'Wesley', 'Steven', 'Jennifer', 'Stehanie']"
       ]
      }
     ],
     "prompt_number": 121
    },
    {
     "cell_type": "code",
     "collapsed": false,
     "input": [
      "# \uc911\ucca9\ub41c \ub9ac\uc2a4\ud2b8 \ub0b4\ud3ec\ub97c \uc774\uc6a9\n",
      "result = [name for names in all_data for name in names\n",
      "          if name.count('e')>=2]\n",
      "result"
     ],
     "language": "python",
     "metadata": {},
     "outputs": [
      {
       "metadata": {},
       "output_type": "pyout",
       "prompt_number": 122,
       "text": [
        "['Jefferson', 'Wesley', 'Steven', 'Jennifer', 'Stehanie']"
       ]
      }
     ],
     "prompt_number": 122
    },
    {
     "cell_type": "code",
     "collapsed": false,
     "input": [
      "# \uc22b\uc790 \ud29c\ud50c\uc774 \ub2f4\uae34 \ub9ac\uc2a4\ud2b8\ub97c \ub2e8\uc21c \ub9ac\uc2a4\ud2b8\ub85c \ubcc0\ud658\ud558\ub294 \uc608\uc81c\n",
      "some_tuples = [(1,2,3), (4,5,6), (7,8,9)]"
     ],
     "language": "python",
     "metadata": {},
     "outputs": [],
     "prompt_number": 125
    },
    {
     "cell_type": "code",
     "collapsed": false,
     "input": [
      "# \uc77c\ubc18\uc801\uc778 for\ubb38\n",
      "flattend = []\n",
      "for tup in some_tuples :\n",
      "    for x in tup :\n",
      "        flattend.append(x)\n",
      "        \n",
      "flattend"
     ],
     "language": "python",
     "metadata": {},
     "outputs": [
      {
       "metadata": {},
       "output_type": "pyout",
       "prompt_number": 126,
       "text": [
        "[1, 2, 3, 4, 5, 6, 7, 8, 9]"
       ]
      }
     ],
     "prompt_number": 126
    },
    {
     "cell_type": "code",
     "collapsed": false,
     "input": [
      "# \uc911\ucca9\ub41c \ub9ac\uc2a4\ud2b8 \ub0b4\ud3ec\n",
      "flattened = [x for tup in some_tuples for x in tup]\n",
      "flattened"
     ],
     "language": "python",
     "metadata": {},
     "outputs": [
      {
       "metadata": {},
       "output_type": "pyout",
       "prompt_number": 127,
       "text": [
        "[1, 2, 3, 4, 5, 6, 7, 8, 9]"
       ]
      }
     ],
     "prompt_number": 127
    },
    {
     "cell_type": "heading",
     "level": 1,
     "metadata": {},
     "source": [
      "\ud568\uc218"
     ]
    },
    {
     "cell_type": "markdown",
     "metadata": {},
     "source": [
      "* \ub124\uc784\uc2a4\ud398\uc774\uc2a4, \uc2a4\ucf54\ud504, \uc9c0\uc5ed \ud568\uc218\n",
      "* \uc5ec\ub7ec \uac12 \ubc18\ud658\ud558\uae30\n",
      "* \ud568\uc218\ub3c4 \uac1d\uccb4\ub2e4\n",
      "* \uc775\uba85 \ud568\uc218\n",
      "* \ud074\ub85c\uc800 : \ud568\uc218\ub97c \ubc18\ud658\ud558\ub294 \ud568\uc218\n",
      "* \\*args\uc640  \\*\\*kwargs\ub97c \uc0ac\uc6a9\ud574\uc11c \ud638\ucd9c \ubb38\ubc95 \ud655\uc7a5\ud558\uae30  \n",
      "* \ucee4\ub9c1 : \uc77c\ubd80 \uc778\uc790\ub9cc \ucde8\ud558\uae30\n",
      "* \uc81c\ub108\ub808\uc774\ud130"
     ]
    },
    {
     "cell_type": "code",
     "collapsed": false,
     "input": [
      "def my_function(x, y, z=1.5) :\n",
      "    if z > 1 :\n",
      "        return z * (x + y)\n",
      "    else :\n",
      "        return z / (x + y)\n",
      "    \n",
      "# return\ubb38\uc774 \uba87 \uac1c\uac00 \ub418\ub4e0 \uc0c1\uad00\uc5c6\ub2e4. \n",
      "# \ud568\uc218 \ube14\ub85d\uc774 \ub05d\ub0a0 \ub54c\uae4c\uc9c0 return\ubb38\uc774 \uc5c6\ub2e4\uba74 None\uc774 \ubc18\ud658\ub41c\ub2e4.   "
     ],
     "language": "python",
     "metadata": {},
     "outputs": []
    },
    {
     "cell_type": "heading",
     "level": 2,
     "metadata": {},
     "source": [
      "\ub124\uc784\uc2a4\ud398\uc774\uc2a4, \uc2a4\ucf54\ud504, \uc9c0\uc5ed \ud568\uc218"
     ]
    },
    {
     "cell_type": "code",
     "collapsed": false,
     "input": [
      "# \ub85c\uceec\n",
      "def func() :\n",
      "    a = []  # <- local\n",
      "    for i in range(5) :\n",
      "        a.append(i)"
     ],
     "language": "python",
     "metadata": {},
     "outputs": []
    },
    {
     "cell_type": "code",
     "collapsed": false,
     "input": [
      "# \uc804\uc5ed \n",
      "a = []\n",
      "def func() :\n",
      "    for i in range(5) :\n",
      "        a.append(i)\n",
      "        \n",
      "func()\n",
      "a"
     ],
     "language": "python",
     "metadata": {},
     "outputs": [
      {
       "metadata": {},
       "output_type": "pyout",
       "prompt_number": 128,
       "text": [
        "[0, 1, 2, 3, 4]"
       ]
      }
     ],
     "prompt_number": 128
    },
    {
     "cell_type": "code",
     "collapsed": false,
     "input": [
      "b = None\n",
      "def bind_b_variable() :\n",
      "    b = []\n",
      "    \n",
      "bind_b_variable()    \n",
      "print b    "
     ],
     "language": "python",
     "metadata": {},
     "outputs": [
      {
       "output_type": "stream",
       "stream": "stdout",
       "text": [
        "None\n"
       ]
      }
     ],
     "prompt_number": 130
    },
    {
     "cell_type": "code",
     "collapsed": false,
     "input": [
      "# global \uc608\uc57d\uc5b4 \uc0ac\uc6a9\n",
      "b = None\n",
      "def bind_b_variable() :\n",
      "    global b\n",
      "    b = []\n",
      "\n",
      "bind_b_variable()\n",
      "print b"
     ],
     "language": "python",
     "metadata": {},
     "outputs": [
      {
       "output_type": "stream",
       "stream": "stdout",
       "text": [
        "[]\n"
       ]
      }
     ],
     "prompt_number": 131
    },
    {
     "cell_type": "code",
     "collapsed": false,
     "input": [
      "# \ud568\uc218 \uc548\uc5d0\uc11c \ud568\uc218\ub97c \uc120\uc5b8\ud560 \uc218 \uc788\ub2e4.\n",
      "def outer_function(x, y, z) :\n",
      "    def inner_function(a, b, c) :\n",
      "        pass\n",
      "    pass"
     ],
     "language": "python",
     "metadata": {},
     "outputs": []
    },
    {
     "cell_type": "heading",
     "level": 2,
     "metadata": {},
     "source": [
      "\uc5ec\ub7ec \uac12 \ubc18\ud658\ud558\uae30"
     ]
    },
    {
     "cell_type": "code",
     "collapsed": false,
     "input": [
      "def f() :\n",
      "    a = 5\n",
      "    b = 6\n",
      "    c = 7\n",
      "    return a, b, c\n",
      "\n",
      "a, b, c = f()\n",
      "print a, b, c"
     ],
     "language": "python",
     "metadata": {},
     "outputs": [
      {
       "output_type": "stream",
       "stream": "stdout",
       "text": [
        "5 6 7\n"
       ]
      }
     ],
     "prompt_number": 135
    },
    {
     "cell_type": "code",
     "collapsed": false,
     "input": [
      "return_value = f()\n",
      "return_value # \uc5ec\ub798 \uac1c\uc758 \uac12\uc744 \ud558\ub098\uc758 \ubcc0\uc218\uc5d0 \ubc18\ud658\ubc1b\uc73c\uba74, \uadf8 \ubcc0\uc218\ub294 \ud29c\ud50c \uc790\ub8cc\ud615\uc774 \ub41c\ub2e4."
     ],
     "language": "python",
     "metadata": {},
     "outputs": [
      {
       "metadata": {},
       "output_type": "pyout",
       "prompt_number": 136,
       "text": [
        "(5, 6, 7)"
       ]
      }
     ],
     "prompt_number": 136
    },
    {
     "cell_type": "heading",
     "level": 2,
     "metadata": {},
     "source": [
      "\ud568\uc218\ub3c4 \uac1d\uccb4\ub2e4"
     ]
    },
    {
     "cell_type": "code",
     "collapsed": false,
     "input": [
      "states = [ '  Alabama ', 'Georgia!', 'Georgia', 'georgia', 'FlOrIda', \n",
      "          'south carolin##', 'West virginaia?']"
     ],
     "language": "python",
     "metadata": {},
     "outputs": [],
     "prompt_number": 138
    },
    {
     "cell_type": "heading",
     "level": 3,
     "metadata": {},
     "source": [
      "\ubb38\uc790\uc5f4\uc744 \ubcc0\ud615\ud558\uae30 \uc704\ud574 \ud568\uc218\ub97c \uc0ac\uc6a9\ud558\ub294 \uc77c\ubc18\uc801\uc778 \ud328\ud134"
     ]
    },
    {
     "cell_type": "code",
     "collapsed": false,
     "input": [
      "import re \n",
      "\n",
      "def clean_strings(strings) :\n",
      "    result = []\n",
      "    for value in strings :\n",
      "        value = value.strip()\n",
      "        value = re.sub('[!#?]', '', value) # \ubb38\uc7a5 \ubd80\ud638 \uc81c\uac70\n",
      "        value = value.title()\n",
      "        result.append(value)\n",
      "    return result"
     ],
     "language": "python",
     "metadata": {},
     "outputs": [],
     "prompt_number": 139
    },
    {
     "cell_type": "code",
     "collapsed": false,
     "input": [
      "clean_strings(states)"
     ],
     "language": "python",
     "metadata": {},
     "outputs": [
      {
       "metadata": {},
       "output_type": "pyout",
       "prompt_number": 140,
       "text": [
        "['Alabama',\n",
        " 'Georgia',\n",
        " 'Georgia',\n",
        " 'Georgia',\n",
        " 'Florida',\n",
        " 'South Carolin',\n",
        " 'West Virginaia']"
       ]
      }
     ],
     "prompt_number": 140
    },
    {
     "cell_type": "heading",
     "level": 3,
     "metadata": {},
     "source": [
      "\ud568\uc218\ub97c \uac1d\uccb4\ud654\ud558\uace0 \uc778\uc790\ub85c \ub118\uaca8\uc11c \uc880 \ub354 \uc720\uc5f0\ud558\uac8c \uc0ac\uc6a9\ud558\ub294 \ud328\ud134"
     ]
    },
    {
     "cell_type": "code",
     "collapsed": false,
     "input": [
      "def remove_punctuation(value) :\n",
      "    return re.sub('[!#?]', '', value)\n",
      "\n",
      "# \ud568\uc218\ub3c4 \uac1d\uccb4. \n",
      "clean_ops = [str.strip, remove_punctuation, str.title]\n",
      "\n",
      "def clean_strings(strings, ops) :\n",
      "    result = []\n",
      "    for value in strings :\n",
      "        for function in ops :\n",
      "            value = function(value) \n",
      "        result.append(value)\n",
      "    return result"
     ],
     "language": "python",
     "metadata": {},
     "outputs": [],
     "prompt_number": 141
    },
    {
     "cell_type": "code",
     "collapsed": false,
     "input": [
      "clean_strings(states, clean_ops)"
     ],
     "language": "python",
     "metadata": {},
     "outputs": [
      {
       "metadata": {},
       "output_type": "pyout",
       "prompt_number": 142,
       "text": [
        "['Alabama',\n",
        " 'Georgia',\n",
        " 'Georgia',\n",
        " 'Georgia',\n",
        " 'Florida',\n",
        " 'South Carolin',\n",
        " 'West Virginaia']"
       ]
      }
     ],
     "prompt_number": 142
    },
    {
     "cell_type": "code",
     "collapsed": false,
     "input": [
      "# map\uc744 \uc774\uc6a9\ud574\ubcf8\ub2e4. \uc5b4\ub5a4 \uceec\ub809\uc158\uc5d0 \ub300\ud574 \ud568\uc218\ub97c \uc801\uc6a9\ud558\ub294 \ud568\uc218\ub2e4. \n",
      "# \uc774\ub97c \uc774\uc6a9\ud574\uc11c \ud568\uc218\ub97c \uc778\uc790\ub85c \uc0ac\uc6a9\ud560 \uc218 \uc788\ub2e4.\n",
      "map(remove_punctuation, states)"
     ],
     "language": "python",
     "metadata": {},
     "outputs": [
      {
       "metadata": {},
       "output_type": "pyout",
       "prompt_number": 143,
       "text": [
        "['  Alabama ',\n",
        " 'Georgia',\n",
        " 'Georgia',\n",
        " 'georgia',\n",
        " 'FlOrIda',\n",
        " 'south carolin',\n",
        " 'West virginaia']"
       ]
      }
     ],
     "prompt_number": 143
    },
    {
     "cell_type": "heading",
     "level": 2,
     "metadata": {},
     "source": [
      "\uc775\uba85 \ud568\uc218 "
     ]
    },
    {
     "cell_type": "code",
     "collapsed": false,
     "input": [
      "def short_function(x) :\n",
      "    return x * 2\n",
      "\n",
      "# \uc704\uc758 \ud568\uc218\uc640 \ub3d9\uce58\uc778 \uc775\uba85 \ud568\uc218(\ub78c\ub2e4 \ud568\uc218)\n",
      "equiv_anon = lambda x: x * 2"
     ],
     "language": "python",
     "metadata": {},
     "outputs": []
    },
    {
     "cell_type": "code",
     "collapsed": false,
     "input": [
      "# \uac01 \ubb38\uc790\uc5f4\uc5d0\uc11c \ub2e4\uc591\ud55c \ubb38\uc790\uac00 \ud3ec\ud568\ub41c \uc21c\uc11c\ub85c \uc815\ub82c\ud558\ub294 \uc608\uc81c\n",
      "strings = ['foo', 'card', 'bar', 'aaaa', 'abab']\n",
      "strings.sort(key=lambda x: len(set(list(x))))\n",
      "strings"
     ],
     "language": "python",
     "metadata": {},
     "outputs": [
      {
       "metadata": {},
       "output_type": "pyout",
       "prompt_number": 145,
       "text": [
        "['aaaa', 'foo', 'abab', 'bar', 'card']"
       ]
      }
     ],
     "prompt_number": 145
    },
    {
     "cell_type": "heading",
     "level": 2,
     "metadata": {},
     "source": [
      "\ud074\ub85c\uc800 : \ud568\uc218\ub97c \ubc18\ud658\ud558\ub294 \ud568\uc218"
     ]
    },
    {
     "cell_type": "code",
     "collapsed": false,
     "input": [
      "# \ud074\ub85c\uc800\ub294 \ub2e4\ub978 \ud568\uc218\uc5d0\uc11c \ubc18\ud658\ub418\ub294, \ub3d9\uc801\uc73c\ub85c \uc0dd\uc131\ub41c \ud568\uc218\ub2e4. \n",
      "# \ud575\uc2ec\uc740 \ubc18\ud658\ub418\ub294 \ud568\uc218\ub294 \uadf8 \ud568\uc218\uac00 \uc0dd\uc131\ub41c \uc2dc\uc810\uc758 \n",
      "# \uc9c0\uc5ed \ub124\uc784\uc2a4\ud398\uc774\uc2a4\uc758 \ubcc0\uc218\uc5d0 \uc811\uadfc\ud560 \uc218 \uc788\ub2e4\ub294 \uc810\uc774\ub2e4."
     ],
     "language": "python",
     "metadata": {},
     "outputs": []
    },
    {
     "cell_type": "code",
     "collapsed": false,
     "input": [
      "def make_closure(a) :\n",
      "    def closure() :\n",
      "        print \"I know the secret: %d\" %(a)\n",
      "    return closure\n",
      "\n",
      "closure = make_closure(5)\n",
      "closure()\n",
      "closure() # \ud074\ub85c\uc800\ub97c \uc0dd\uc131\ud558\ub294 \ud568\uc218\uac00 \ub05d\ub098\ub354\ub77c\ub3c4 \uc0dd\uc131\ub41c \uc2dc\uc810\uc758 \ub124\uc784\uc2a4\ud398\uc774\uc2a4\uc5d0 \uc5ec\uc804\ud788 \uc811\uadfc\ud560 \uc218 \uc788\ub2e4.\n"
     ],
     "language": "python",
     "metadata": {},
     "outputs": [
      {
       "output_type": "stream",
       "stream": "stdout",
       "text": [
        "I know the secret: 5\n",
        "I know the secret: 5\n"
       ]
      }
     ],
     "prompt_number": 148
    },
    {
     "cell_type": "code",
     "collapsed": false,
     "input": [
      "# \ud074\ub85c\uc838\uac00 \ubcc0\uacbd \uac00\ub2a5\ud55c \uac1d\uccb4\ub97c \uac00\uc9c8 \uc218\ub3c4 \uc788\ub2e4.\n",
      "def make_watcher() :\n",
      "    have_seen = {}\n",
      "    \n",
      "    def has_been_seen(x) :\n",
      "        if x in have_seen :\n",
      "            return True\n",
      "        else :\n",
      "            have_seen[x] = True\n",
      "            return False\n",
      "        \n",
      "    return has_been_seen"
     ],
     "language": "python",
     "metadata": {},
     "outputs": [],
     "prompt_number": 149
    },
    {
     "cell_type": "code",
     "collapsed": false,
     "input": [
      "watcher = make_watcher()\n",
      "vals = [5, 6, 1, 5, 1, 6, 3, 5]\n",
      "[watcher(x) for x in vals]"
     ],
     "language": "python",
     "metadata": {},
     "outputs": [
      {
       "metadata": {},
       "output_type": "pyout",
       "prompt_number": 151,
       "text": [
        "[False, False, False, True, True, True, False, True]"
       ]
      }
     ],
     "prompt_number": 151
    },
    {
     "cell_type": "heading",
     "level": 2,
     "metadata": {},
     "source": [
      "\\*args\uc640  \\*\\*kwargs\ub97c \uc0ac\uc6a9\ud574\uc11c \ud638\ucd9c \ubb38\ubc95 \ud655\uc7a5\ud558\uae30  "
     ]
    },
    {
     "cell_type": "code",
     "collapsed": false,
     "input": [
      "# \ud30c\uc774\uc36c\uc5d0\uc11c \ud568\uc218 \uc778\uc790\uac00 \ub3d9\uc791\ud558\ub294 \ubc29\uc2dd\uc740, \n",
      "# \ub9cc\uc57d func(a, b, c, d=some, e= value) \ub77c\uace0 \ucf54\ub4dc\ub97c \uc791\uc131\ud558\uba74\n",
      "# \uc77c\ubc18 \uc778\uc790\uc640 \ud0a4\uc6cc\ub4dc \uc778\uc790\ub294 \n",
      "# \uac01\uac01 \ud29c\ud50c args\uc640\n",
      "# \uc0ac\uc804 kwargs\uc5d0 \uc800\uc7a5\ub41c\ub2e4.\n",
      "# \ub0b4\ubd80\uc801\uc73c\ub85c \ub2e4\uc74c\uacfc \uac19\uc740 \uacfc\uc815\uc744 \uac70\uce5c\ub2e4\n",
      "a, b, c = args\n",
      "d = kwargs.get('d', d_default_value)\n",
      "e = kwargs.get('e', e_defaulT_value)"
     ],
     "language": "python",
     "metadata": {},
     "outputs": []
    },
    {
     "cell_type": "code",
     "collapsed": false,
     "input": [
      "# \uc608\uc81c\n",
      "def say_hello_then_call_f(f, *args, **kwargs) :\n",
      "    print 'args is', args\n",
      "    print 'kwargs is', kwargs\n",
      "    print \"Hello! Now I'm going to call %s\" %(f)\n",
      "    return f(*args, **kwargs)\n",
      "\n",
      "def g(x, y, z=1) :\n",
      "    return (x+y)/z\n",
      "\n",
      "say_hello_then_call_f(g, 1, 2, z=5.)"
     ],
     "language": "python",
     "metadata": {},
     "outputs": [
      {
       "output_type": "stream",
       "stream": "stdout",
       "text": [
        "args is (1, 2)\n",
        "kwargs is {'z': 5.0}\n",
        "Hello! Now I'm going to call <function g at 0x3c45ed8>\n"
       ]
      },
      {
       "metadata": {},
       "output_type": "pyout",
       "prompt_number": 152,
       "text": [
        "0.6"
       ]
      }
     ],
     "prompt_number": 152
    },
    {
     "cell_type": "heading",
     "level": 2,
     "metadata": {},
     "source": [
      "\ucee4\ub9c1 : \uc77c\ubd80 \uc778\uc790\ub9cc \ucde8\ud558\uae30"
     ]
    },
    {
     "cell_type": "code",
     "collapsed": false,
     "input": [
      "# \ud568\uc218\uc5d0\uc11c \uc77c\ubd80 \uc778\uc790\ub97c \uace0\uc815\ud574 \uc0c8\ub85c\uc6b4 \ud568\uc218\ub97c \ub9cc\ub4dc\ub294 \uae30\ubc95\uc744 \ucee4\ub9c1\uc774\ub77c\uace0 \ud55c\ub2e4.\n",
      "\n",
      "def add_numbers(x, y) :\n",
      "    return x + y\n",
      "\n",
      "# \uc5ec\uae30\uc11c add_numbers\uc758 \ub450 \ubc88\uc9f8 \uc778\uc790\uac00 '\ucee4\ub9ac\ub418\uc5c8\ub2e4'\ub77c\uace0 \ud55c\ub2e4.\n",
      "add_five = lambda y: add_numbers(5, y) \n",
      "\n",
      "\n",
      "# \ub2e4\uc74c \ubc29\uc2dd\uc73c\ub85c \ub354 \ub2e8\uc21c\ud558\uac8c \ub9cc\ub4e4 \uc218 \uc788\ub2e4.\n",
      "from functools import partial\n",
      "add_five = partial(add_numbers, 5)"
     ],
     "language": "python",
     "metadata": {},
     "outputs": [],
     "prompt_number": 153
    },
    {
     "cell_type": "heading",
     "level": 2,
     "metadata": {},
     "source": [
      "\uc81c\ub108\ub808\uc774\ud130"
     ]
    },
    {
     "cell_type": "markdown",
     "metadata": {},
     "source": [
      "* \uc774\ud130\ub808\uc774\ud130 \ud504\ub85c\ud1a0\ucf5c\n",
      "* \uc81c\ub108\ub808\uc774\ud130\n",
      "* \uc81c\ub108\ub808\uc774\ud130 \ud45c\ud604\uc2dd\n",
      "* itertoos \ubaa8\ub4c8"
     ]
    },
    {
     "cell_type": "heading",
     "level": 3,
     "metadata": {},
     "source": [
      "\uc774\ud130\ub808\uc774\ud130 \ud504\ub85c\ud1a0\ucf5c"
     ]
    },
    {
     "cell_type": "code",
     "collapsed": false,
     "input": [
      "# \ud30c\uc774\uc36c\uc740 \ub9ac\uc2a4\ud2b8 \ub0b4\uc758 \uac1d\uccb4\ub098 \ud30c\uc77c\uc758 \uac01 \ud589 \uac19\uc740 \uc21c\ucc28\uc801\uc778 \uc790\ub8cc\ub97c \uc21c\ud68c\ud558\ub294 \uc77c\uad00\uc801\uc778 \ubc29\ubc95\uc744 \uc81c\uacf5\ud55c\ub2e4.\n",
      "# \uc774\ud130\ub808\uc774\ud130 \ud504\ub85c\ud1a0\ucf5c\uc744 \uc774\uc6a9\ud574\uc11c \uc21c\ud68c\uac00 \uac00\ub2a5\ud55c \uac1d\uccb4\ub97c \ub9cc\ub4e4 \uc218 \uc788\ub2e4.\n",
      "\n",
      "some_dict = {'a':1, 'b':2, 'c':3}\n",
      " \n",
      "# for key in some_dict \ub77c\uace0 \uc791\uc131\ud558\uba74 \n",
      "# \ud30c\uc774\uc36c \uc778\ud130\ub9ac\ud130\ub294 some_dict\uc5d0\uc11c \uc774\ud130\ub808\uc774\ud130\ub97c \uc0dd\uc131\ud55c\ub2e4.    \n",
      "for key in some_dict :\n",
      "    print key"
     ],
     "language": "python",
     "metadata": {},
     "outputs": [
      {
       "output_type": "stream",
       "stream": "stdout",
       "text": [
        "a\n",
        "c\n",
        "b\n"
       ]
      }
     ],
     "prompt_number": 156
    },
    {
     "cell_type": "code",
     "collapsed": false,
     "input": [
      "# \uc704\uc640 \uac19\uc740 \uc0c1\ud669\n",
      "dict_iterator = iter(some_dict)\n",
      "dict_iterator"
     ],
     "language": "python",
     "metadata": {},
     "outputs": [
      {
       "metadata": {},
       "output_type": "pyout",
       "prompt_number": 157,
       "text": [
        "<dictionary-keyiterator at 0x3ca3f70>"
       ]
      }
     ],
     "prompt_number": 157
    },
    {
     "cell_type": "code",
     "collapsed": false,
     "input": [
      "list(dict_iterator)"
     ],
     "language": "python",
     "metadata": {},
     "outputs": [
      {
       "metadata": {},
       "output_type": "pyout",
       "prompt_number": 158,
       "text": [
        "['a', 'c', 'b']"
       ]
      }
     ],
     "prompt_number": 158
    },
    {
     "cell_type": "heading",
     "level": 3,
     "metadata": {},
     "source": [
      "\uc81c\ub108\ub808\uc774\ud130"
     ]
    },
    {
     "cell_type": "code",
     "collapsed": false,
     "input": [
      "# \uc81c\ub108\ub808\uc774\ud130\ub294 \uc21c\ud68c\uac00 \uac00\ub2a5\ud55c \uac1d\uccb4\ub97c \uc0dd\uc131\ud558\ub294 \uac04\ub2e8\ud55c \ubc29\ubc95\uc774\ub2e4.\n",
      "# \uc77c\ubc18 \ud568\uc218\ub294 \uc2e4\ud589\ub418\uba74 \ub2e8\uc77c \uac12\uc744 \ubc18\ud658\ud558\uc9c0\ub9cc\n",
      "# \uc81c\ub108\ub808\uc774\ud130\ub294 \uc21c\ucc28\uc801\uc778 \uac12\uc744 \ub9e4 \uc694\uccad \uc2dc\ub9c8\ub2e4 \ud558\ub098\uc529 \ubc18\ud658\ud55c\ub2e4.\n",
      "# \uc81c\ub108\ub808\uc774\ud130\ub97c \uc0dd\uc131\ud558\ub824\uba74 \ud568\uc218\uc5d0\uc11c return \ub300\uc2e0\uc5d0 yeild \uc608\uc57d\uc5b4\ub97c \uc0ac\uc6a9\ud55c\ub2e4.\n",
      "def squares(n=10) :\n",
      "    print 'Generating squares from 1 to %d' %(n ** 2)\n",
      "    for i in xrange(1, n+1) :\n",
      "        yield i ** 2"
     ],
     "language": "python",
     "metadata": {},
     "outputs": [],
     "prompt_number": 166
    },
    {
     "cell_type": "code",
     "collapsed": false,
     "input": [
      "gen = squares()\n",
      "gen"
     ],
     "language": "python",
     "metadata": {},
     "outputs": [
      {
       "metadata": {},
       "output_type": "pyout",
       "prompt_number": 167,
       "text": [
        "<generator object squares at 0x3cb4960>"
       ]
      }
     ],
     "prompt_number": 167
    },
    {
     "cell_type": "code",
     "collapsed": false,
     "input": [
      "for x in gen :\n",
      "    print x, "
     ],
     "language": "python",
     "metadata": {},
     "outputs": [
      {
       "output_type": "stream",
       "stream": "stdout",
       "text": [
        "Generating squares from 1 to 100\n",
        "1 4 9 16 25 36 49 64 81 100\n"
       ]
      }
     ],
     "prompt_number": 168
    },
    {
     "cell_type": "heading",
     "level": 3,
     "metadata": {},
     "source": [
      "\uc81c\ub108\ub808\uc774\ud130 \ud45c\ud604\uc2dd"
     ]
    },
    {
     "cell_type": "code",
     "collapsed": false,
     "input": [
      "# \uc81c\ub108\ub808\uc774\ud130\ub97c \ub9cc\ub4dc\ub294 \uac04\ub2e8\ud55c \ubc29\ubc95\uc740 \uc81c\ub108\ub808\uc774\ud130 \ud45c\ud604\uc2dd\uc744 \uc0ac\uc6a9\ud558\ub294 \uac83\uc774\ub2e4.\n",
      "gen = (x ** 2 for x in xrange(100))\n",
      "gen"
     ],
     "language": "python",
     "metadata": {},
     "outputs": [
      {
       "metadata": {},
       "output_type": "pyout",
       "prompt_number": 169,
       "text": [
        "<generator object <genexpr> at 0x3cb49b0>"
       ]
      }
     ],
     "prompt_number": 169
    },
    {
     "cell_type": "code",
     "collapsed": false,
     "input": [
      "# \uc704\uc758 \ucf54\ub4dc\ub294 \ub2e4\uc74c \ucf54\ub4dc\uc640 \ub3d9\uc77c\ud558\ub2e4\n",
      "def _make_gen() :\n",
      "    for x in xrange(100) :\n",
      "        yield x ** 2\n",
      "        \n",
      "gen = _make_gen()\n",
      "gen"
     ],
     "language": "python",
     "metadata": {},
     "outputs": [
      {
       "metadata": {},
       "output_type": "pyout",
       "prompt_number": 170,
       "text": [
        "<generator object _make_gen at 0x3cb4b40>"
       ]
      }
     ],
     "prompt_number": 170
    },
    {
     "cell_type": "code",
     "collapsed": false,
     "input": [
      "# \uc608\uc81c\n",
      "max(x ** 2 for x in xrange(100))"
     ],
     "language": "python",
     "metadata": {},
     "outputs": [
      {
       "metadata": {},
       "output_type": "pyout",
       "prompt_number": 178,
       "text": [
        "9801"
       ]
      }
     ],
     "prompt_number": 178
    },
    {
     "cell_type": "code",
     "collapsed": false,
     "input": [
      "dict((i, i**2) for i in xrange(5))"
     ],
     "language": "python",
     "metadata": {},
     "outputs": [
      {
       "metadata": {},
       "output_type": "pyout",
       "prompt_number": 179,
       "text": [
        "{0: 0, 1: 1, 2: 4, 3: 9, 4: 16}"
       ]
      }
     ],
     "prompt_number": 179
    },
    {
     "cell_type": "heading",
     "level": 3,
     "metadata": {},
     "source": [
      "itertools \ubaa8\ub4c8"
     ]
    },
    {
     "cell_type": "code",
     "collapsed": false,
     "input": [
      "# \uc77c\ubc18 \ub370\uc774\ud130 \uc54c\uace0\ub9ac\uc998\uc744 \uc704\ud55c \uc81c\ub108\ub808\uc774\ud130\ub97c \ud3ec\ud568\n",
      "import itertools\n",
      "\n",
      "# \uc608\ub97c \ub4e4\uc5b4 groupby\ub294 \uc21c\ucc28 \uc790\ub8cc \uad6c\uc870\uc640 \ud568\uc218\ub97c \uc778\uc790\ub85c \ubc1b\uc544,\n",
      "# \uc778\uc790\ub85c \ubc1b\uc740 \ud568\uc218\uc5d0\uc11c \ubc18\ud658\ud558\ub294 \uac12\uc5d0 \ub530\ub77c \uadf8\ub8f9\uc744 \uc9c0\uc5b4\uc900\ub2e4.\n",
      "first_letter = lambda x : x[0]\n",
      "\n",
      "names = ['Alan', 'Adam', 'Wes', 'Will', 'Albert', 'Steven']\n",
      "\n",
      "for letter, names in itertools.groupby(names, first_letter) :\n",
      "    print letter, list(names)\n"
     ],
     "language": "python",
     "metadata": {},
     "outputs": []
    },
    {
     "cell_type": "heading",
     "level": 1,
     "metadata": {},
     "source": [
      "\ud074\ub798\uc2a4"
     ]
    },
    {
     "cell_type": "code",
     "collapsed": false,
     "input": [
      "# \ud074\ub798\uc2a4\ub97c \ud558\ub098 \ub9cc\ub4e4\uae30 \uc704\ud574 \ud2b9\uc815 \uac1d\uccb4\uc758 \ud558\uc704 \ud074\ub798\uc2a4\ub97c \ub9cc\ub4e4 \uc218 \uc788\uc2b5\ub2c8\ub2e4.\n",
      "class Human(object):\n",
      "\n",
      "    # \ud074\ub798\uc2a4 \uc18d\uc131\uc740 \uc774 \ud074\ub798\uc2a4\uc758 \ubaa8\ub4e0 \uc778\uc2a4\ud134\uc2a4\uc5d0\uc11c \uacf5\uc720\ud569\ub2c8\ub2e4.\n",
      "    species = \"H. sapiens\"\n",
      "\n",
      "    # \uae30\ubcf8 \ucd08\uae30\ud654\uc790\n",
      "    def __init__(self, name):\n",
      "        # \uc778\uc790\ub97c \uc778\uc2a4\ud134\uc2a4\uc758 name \uc18d\uc131\uc5d0 \ud560\ub2f9\ud569\ub2c8\ub2e4.\n",
      "        self.name = name\n",
      "\n",
      "    # \ubaa8\ub4e0 \uc778\uc2a4\ud134\uc2a4 \uba54\uc11c\ub4dc\uc5d0\uc11c\ub294 self\ub97c \uccab \ubc88\uc9f8 \uc778\uc790\ub85c \ubc1b\uc2b5\ub2c8\ub2e4.\n",
      "    def say(self, msg):\n",
      "       return \"%s: %s\" % (self.name, msg)\n",
      "\n",
      "    # \ud074\ub798\uc2a4 \uba54\uc11c\ub4dc\ub294 \ubaa8\ub4e0 \uc778\uc2a4\ud134\uc2a4\uc5d0\uc11c \uacf5\uc720\ud569\ub2c8\ub2e4.\n",
      "    # \ud074\ub798\uc2a4 \uba54\uc11c\ub4dc\ub294 \ud638\ucd9c\ud558\ub294 \ud074\ub798\uc2a4\ub97c \uccab \ubc88\uc9f8 \uc778\uc790\ub85c \ud638\ucd9c\ub429\ub2c8\ub2e4.\n",
      "    @classmethod\n",
      "    def get_species(cls):\n",
      "        return cls.species\n",
      "\n",
      "    # \uc815\uc801 \uba54\uc11c\ub4dc\ub294 \ud074\ub798\uc2a4\ub098 \uc778\uc2a4\ud134\uc2a4 \ucc38\uc870 \uc5c6\uc774\ub3c4 \ud638\ucd9c\ud560 \uc218 \uc788\uc2b5\ub2c8\ub2e4.\n",
      "    @staticmethod\n",
      "    def grunt():\n",
      "        return \"*grunt*\""
     ],
     "language": "python",
     "metadata": {},
     "outputs": [],
     "prompt_number": 190
    },
    {
     "cell_type": "code",
     "collapsed": false,
     "input": [
      "# \ud074\ub798\uc2a4 \uc778\uc2a4\ud134\uc2a4\ud654\n",
      "i = Human(name=\"Ian\")\n",
      "print i.say(\"hi\")     "
     ],
     "language": "python",
     "metadata": {},
     "outputs": [
      {
       "output_type": "stream",
       "stream": "stdout",
       "text": [
        "Ian: hi\n"
       ]
      }
     ],
     "prompt_number": 191
    },
    {
     "cell_type": "code",
     "collapsed": false,
     "input": [
      "j = Human(\"Joel\")\n",
      "print j.say(\"hello\")"
     ],
     "language": "python",
     "metadata": {},
     "outputs": [
      {
       "output_type": "stream",
       "stream": "stdout",
       "text": [
        "Joel: hello\n"
       ]
      }
     ],
     "prompt_number": 192
    },
    {
     "cell_type": "code",
     "collapsed": false,
     "input": [
      "# \ud074\ub798\uc2a4 \uba54\uc11c\ub4dc\ub97c \ud638\ucd9c\n",
      "i.get_species() "
     ],
     "language": "python",
     "metadata": {},
     "outputs": [
      {
       "metadata": {},
       "output_type": "pyout",
       "prompt_number": 193,
       "text": [
        "'H. sapiens'"
       ]
      }
     ],
     "prompt_number": 193
    },
    {
     "cell_type": "code",
     "collapsed": false,
     "input": [
      "# \uacf5\uc720 \uc18d\uc131\uc744 \ubcc0\uacbd\n",
      "Human.species = \"H. neanderthalensis\"\n",
      "print i.get_species() \n",
      "print j.get_species() "
     ],
     "language": "python",
     "metadata": {},
     "outputs": [
      {
       "output_type": "stream",
       "stream": "stdout",
       "text": [
        "H. neanderthalensis\n",
        "H. neanderthalensis\n"
       ]
      }
     ],
     "prompt_number": 194
    },
    {
     "cell_type": "code",
     "collapsed": false,
     "input": [
      "# \uc815\uc801 \uba54\uc11c\ub4dc\ub97c \ud638\ucd9c\n",
      "Human.grunt()"
     ],
     "language": "python",
     "metadata": {},
     "outputs": [
      {
       "metadata": {},
       "output_type": "pyout",
       "prompt_number": 195,
       "text": [
        "'*grunt*'"
       ]
      }
     ],
     "prompt_number": 195
    },
    {
     "cell_type": "code",
     "collapsed": false,
     "input": [
      "class HousePark:\n",
      "    lastname = \"\ubc15\"\n",
      "    def __init__(self, name):\n",
      "        self.fullname = self.lastname + name\n",
      "    def travel(self, where):\n",
      "        print(\"%s, %s\uc5ec\ud589\uc744 \uac00\ub2e4.\" % (self.fullname, where))\n",
      "    def love(self, other):\n",
      "        print(\"%s, %s \uc0ac\ub791\uc5d0 \ube60\uc84c\ub124\" % (self.fullname, other.fullname))\n",
      "    def fight(self, other):\n",
      "        print(\"%s, %s \uc2f8\uc6b0\ub124\" % (self.fullname, other.fullname))\n",
      "    def __add__(self, other):\n",
      "        print(\"%s, %s \uacb0\ud63c\ud588\ub124\" % (self.fullname, other.fullname))\n",
      "    def __sub__(self, other):\n",
      "        print(\"%s, %s \uc774\ud63c\ud588\ub124\" % (self.fullname, other.fullname))\n",
      "    def __del__(self):\n",
      "        print(\"%s \uc8fd\ub124\" % self.fullname)\n",
      "\n",
      "class HouseKim(HousePark):\n",
      "    lastname = \"\uae40\"\n",
      "    def travel(self, where, day):\n",
      "        print(\"%s, %s\uc5ec\ud589 %d\uc77c \uac00\ub124.\" % (self.fullname, where, day))"
     ],
     "language": "python",
     "metadata": {},
     "outputs": [],
     "prompt_number": 200
    },
    {
     "cell_type": "code",
     "collapsed": false,
     "input": [
      "pey = HousePark(\"\uc751\uc6a9\")\n",
      "juliet = HouseKim(\"\uc904\ub9ac\uc5e3\")\n",
      "# \uc544\uc774\ud30c\uc774\uc36c \ub178\ud2b8\ubd81\uc758 \uc2e4\ud589 \uc140\uc5d0\uc11c \uba3c\uc800 \uac1d\uccb4\uac00 \uc0dd\uc131\ub418\uace0 \uc18c\uba78\ub418\uba74\uc11c \uc18c\uba78\uc790 \ud638\ucd9c\ub418\uc5b4 \ucd9c\ub825\ub41c \uac83\uc784."
     ],
     "language": "python",
     "metadata": {},
     "outputs": [
      {
       "output_type": "stream",
       "stream": "stdout",
       "text": [
        "\ubc15\uc751\uc6a9 \uc8fd\ub124\n",
        "\uae40\uc904\ub9ac\uc5e3 \uc8fd\ub124\n"
       ]
      }
     ],
     "prompt_number": 203
    },
    {
     "cell_type": "code",
     "collapsed": false,
     "input": [
      "pey.travel(\"\ubd80\uc0b0\")\n",
      "juliet.travel(\"\ubd80\uc0b0\", 3)\n",
      "pey.love(juliet)\n",
      "pey + juliet\n",
      "pey.fight(juliet)\n",
      "pey - juliet"
     ],
     "language": "python",
     "metadata": {},
     "outputs": [
      {
       "output_type": "stream",
       "stream": "stdout",
       "text": [
        "\ubc15\uc751\uc6a9, \ubd80\uc0b0\uc5ec\ud589\uc744 \uac00\ub2e4.\n",
        "\uae40\uc904\ub9ac\uc5e3, \ubd80\uc0b0\uc5ec\ud589 3\uc77c \uac00\ub124.\n",
        "\ubc15\uc751\uc6a9, \uae40\uc904\ub9ac\uc5e3 \uc0ac\ub791\uc5d0 \ube60\uc84c\ub124\n",
        "\ubc15\uc751\uc6a9, \uae40\uc904\ub9ac\uc5e3 \uacb0\ud63c\ud588\ub124\n",
        "\ubc15\uc751\uc6a9, \uae40\uc904\ub9ac\uc5e3 \uc2f8\uc6b0\ub124\n",
        "\ubc15\uc751\uc6a9, \uae40\uc904\ub9ac\uc5e3 \uc774\ud63c\ud588\ub124\n"
       ]
      }
     ],
     "prompt_number": 204
    },
    {
     "cell_type": "markdown",
     "metadata": {},
     "source": [
      "## \ucc38\uace0\uc790\ub8cc \n",
      "\n",
      " * [1] \ud30c\uc774\uc36c \ub77c\uc774\ube0c\ub7ec\ub9ac\ub97c \ud65c\uc6a9\ud55c \ub370\uc774\ud130 \ubd84\uc11d - http://www.hanbit.co.kr/book/look.html?isbn=978-89-6848-047-8\n",
      " * [2] python | learn x in y minutes - http://learnxinyminutes.com/docs/ko-kr/python-kr/\n",
      " * [3] \uc810\ud504 \ud22c \ud30c\uc774\uc36c : \ud074\ub798\uc2a4 - https://wikidocs.net/28"
     ]
    },
    {
     "cell_type": "code",
     "collapsed": false,
     "input": [],
     "language": "python",
     "metadata": {},
     "outputs": []
    }
   ],
   "metadata": {}
  }
 ]
}