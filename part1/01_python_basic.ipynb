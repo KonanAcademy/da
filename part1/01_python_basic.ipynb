{
 "metadata": {
  "name": "",
  "signature": "sha256:bd2ad878cfa0c26a473f92a1f0a2e000ad0fdb1fb7111fcac8cf7182cc3f89bb"
 },
 "nbformat": 3,
 "nbformat_minor": 0,
 "worksheets": [
  {
   "cells": [
    {
     "cell_type": "raw",
     "metadata": {},
     "source": [
      "\ud30c\uc774\uc36c \ud658\uacbd\n",
      "- \uc778\ud130\ud504\ub9ac\ud130\n",
      "- \uc18c\uac1c\n",
      "- \uc124\uce58\n",
      "- \uc124\uc815"
     ]
    },
    {
     "cell_type": "heading",
     "level": 1,
     "metadata": {},
     "source": [
      "\ucc28\ub840"
     ]
    },
    {
     "cell_type": "raw",
     "metadata": {},
     "source": [
      "\ud30c\uc774\uc36c \uae30\ucd08\n",
      "\uc790\ub8cc \uad6c\uc870\uc640 \uc21c\ucc28 \uc790\ub8cc\ud615\n",
      "\ud568\uc218\n",
      "\ud074\ub798\uc2a4\n",
      "\ubaa8\ub4c8\n",
      "\ud544\ud130/\ub9f5"
     ]
    },
    {
     "cell_type": "markdown",
     "metadata": {},
     "source": [
      "\ud30c\uc774\uc36c \uc751\uc6a9\n",
      "- \ud30c\uc77c, \ub514\ub809\ud1a0\ub9ac\n",
      "- \ubb38\uc790\uc5f4, \uc815\uaddc\ud45c\ud604\uc2dd\n",
      "- \uba40\ud2f0\uc2a4\ub808\ub4dc, \uba40\ud2f0\ud504\ub85c\uc138\uc2a4\n",
      "- \uc6f9\n",
      "- DB"
     ]
    },
    {
     "cell_type": "heading",
     "level": 1,
     "metadata": {},
     "source": [
      "\ud30c\uc774\uc36c \uae30\ucd08"
     ]
    },
    {
     "cell_type": "markdown",
     "metadata": {},
     "source": [
      "\ud30c\uc774\uc36c \uc778\ud130\ud504\ub9ac\ud130 \n",
      "\n",
      "\uc2dc\uba58\ud2f1\n",
      "* \ub4e4\uc5ec\uc4f0\uae30\n",
      "* \ubaa8\ub4e0 \uac83\uc740 \uac1d\uccb4\n",
      "* \uc8fc\uc11d\n",
      "* \ud568\uc218\uc640 \uac1d\uccb4 \uba54\uc11c\ub4dc \ud638\ucd9c\n",
      "* \ubcc0\uc218\uc640 \ucc38\uc870\uc5d0 \uc758\ud55c \uc804\ub2ec\n",
      "* \ub3d9\uc801 \ucc38\uc870\uc640 \uac15\ud55c \ud0c0\uc785\n",
      "* \uc18d\uc131\uacfc \uba54\uc11c\ub4dc\n",
      "* \ub355 \ud0c0\uc774\ud551\n",
      "* \ubaa8\ub4c8 import\n",
      "* \uc774\ud56d\uc5f0\uc0b0\uc790\uc640 \ube44\uad50\ubb38\n",
      "* \ud3c9\uac00 \ubc29\uc2dd\n",
      "* \ubba4\ud130\ube14, \uc774\ubba4\ud130\ube14 \uac1d\uccb4\n",
      "\n",
      "\uc2a4\uce7c\ub77c\ud615<br>\n",
      "\n",
      "\ud750\ub984 \uc81c\uc5b4"
     ]
    },
    {
     "cell_type": "heading",
     "level": 2,
     "metadata": {},
     "source": [
      "\ud30c\uc774\uc36c \uc778\ud130\ud504\ub9ac\ud130"
     ]
    },
    {
     "cell_type": "markdown",
     "metadata": {},
     "source": [
      "* \ud30c\uc774\uc36c\uc740 \uc778\ud130\ud504\ub9ac\ud130 \uc5b8\uc5b4 (\ud55c \ubc88\uc5d0 \ud558\ub098\uc758 \uba85\ub839\uc5b4\ub9cc \uc2e4\ud589)\n",
      "* \ub370\uc774\ud130 \ubd84\uc11d\uac00\ub4e4\uc740 \uae30\ubcf8 \uc778\ud130\ud504\ub9ac\ud130 \ubcf4\ub2e4 ipython\uc744 \uc0ac\uc6a9\ud558\ub294 \uacbd\ud5a5(\uadf8\ub7f0\ub370 \uc774\uac83\ub3c4 \uc810\uc810 ipython notebook \uc73c\ub85c \uc774\ub3d9 \uc911)"
     ]
    },
    {
     "cell_type": "heading",
     "level": 2,
     "metadata": {},
     "source": [
      "\uc2dc\uba58\ud2f1"
     ]
    },
    {
     "cell_type": "heading",
     "level": 3,
     "metadata": {},
     "source": [
      "\ub4e4\uc5ec\uc4f0\uae30"
     ]
    },
    {
     "cell_type": "code",
     "collapsed": false,
     "input": [
      "for x in array :\n",
      "    if x < pivot :\n",
      "        less.append(x)\n",
      "    else :\n",
      "        qreater.append(x)"
     ],
     "language": "python",
     "metadata": {},
     "outputs": []
    },
    {
     "cell_type": "code",
     "collapsed": false,
     "input": [
      "a = 5; b = 6; c = 7;  # \ud55c \uc904\uc5d0 \ubb38\uc7a5\uc774 \uc5ec\ub7ff\uc77c \ub54c\ub294 \uad6c\ubd84\ud558\uae30 \uc704\ud574 ;\uc744 \uc4f4\ub2e4. \ud558\uc9c0\ub9cc \ud30c\uc774\uc36c\uc5d0\uc11c\ub294 \uac00\ub3c5\uc131 \ub54c\ubb38\uc5d0 \uad8c\ud558\uc9c0 \uc54a\ub294\ub2e4."
     ],
     "language": "python",
     "metadata": {},
     "outputs": []
    },
    {
     "cell_type": "heading",
     "level": 3,
     "metadata": {},
     "source": [
      "\ubaa8\ub4e0 \uac83\uc740 \uac1d\uccb4 "
     ]
    },
    {
     "cell_type": "markdown",
     "metadata": {},
     "source": [
      "\uac1d\uccb4 \ubaa8\ub378\uc758 \uc77c\uad00\uc131\uc740 \ud30c\uc774\uc36c\uc758 \uc911\uc694\ud55c \ud2b9\uc9d5. \ubaa8\ub4e0 \uc22b\uc790, \ubb38\uc790\uc5f4, \uc790\ub8cc \uad6c\uc870, \ud568\uc218, \ud074\ub798\uc2a4, \ubaa8\ub4c8 \ub4f1\uc740 \ud30c\uc774\uc36c \uc778\ud130\ud504\ub9ac\ud130\uc5d0\uc11c \ud30c\uc774\uc36c \uac1d\uccb4\ub85c \uc800\uc7a5\ub41c\ub2e4. \ud568\uc218\ub9c8\uc800 \ud558\ub098\uc758 \uac1d\uccb4\ub85c \uac04\uc8fc\ud55c\ub2e4."
     ]
    },
    {
     "cell_type": "heading",
     "level": 3,
     "metadata": {},
     "source": [
      "\uc8fc\uc11d"
     ]
    },
    {
     "cell_type": "code",
     "collapsed": false,
     "input": [
      "# \uc774\uac83\uc774 \uc8fc\uc11d\uc774\ub2e4"
     ],
     "language": "python",
     "metadata": {},
     "outputs": []
    },
    {
     "cell_type": "heading",
     "level": 3,
     "metadata": {},
     "source": [
      "\ud568\uc218\uc640 \uac1d\uccb4 \uba54\uc11c\ub4dc \ud638\ucd9c"
     ]
    },
    {
     "cell_type": "code",
     "collapsed": false,
     "input": [
      "# \ud568\uc218 \ud638\ucd9c\n",
      "result = f(x, y, z)\n",
      "g()\n",
      "\n",
      "# \uba54\uc11c\ub4dc - \uac1d\uccb4\uac00 \ud3ec\ud568\ud558\uace0 \uc788\ub294 \ud568\uc218\n",
      "obj.some_method(x, y, z)\n",
      "\n",
      "# \ud568\uc218\ub294 \uc21c\uc11c\ubcc4(\uc77c\ubc18) \uc778\uc790\uc640 \ud0a4\uc6cc\ub4dc \uc778\uc790\ub97c \ub3d9\uc2dc\uc5d0 \ubc1b\uc744 \uc218 \uc788\ub2e4.\n",
      "result = f(a, b, c, d=5, e='foo')"
     ],
     "language": "python",
     "metadata": {},
     "outputs": []
    },
    {
     "cell_type": "heading",
     "level": 3,
     "metadata": {},
     "source": [
      "\ubcc0\uc218\uc640 \ucc38\uc870\uc5d0 \uc758\ud55c \uc804\ub2ec"
     ]
    },
    {
     "cell_type": "code",
     "collapsed": false,
     "input": [
      "a = [1, 2, 3]\n",
      "b = a\n",
      "a.append(4)\n",
      "b"
     ],
     "language": "python",
     "metadata": {},
     "outputs": [
      {
       "metadata": {},
       "output_type": "pyout",
       "prompt_number": 1,
       "text": [
        "[1, 2, 3, 4]"
       ]
      }
     ],
     "prompt_number": 1
    },
    {
     "cell_type": "markdown",
     "metadata": {},
     "source": [
      "<img src='./01_figures/01_fig.a.1.png'/>"
     ]
    },
    {
     "cell_type": "code",
     "collapsed": false,
     "input": [],
     "language": "python",
     "metadata": {},
     "outputs": []
    },
    {
     "cell_type": "markdown",
     "metadata": {},
     "source": [
      "<img src='./01_figures/01_fig.a.2.png'/>"
     ]
    }
   ],
   "metadata": {}
  }
 ]
}