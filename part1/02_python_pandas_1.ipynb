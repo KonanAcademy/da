{
 "metadata": {
  "name": "",
  "signature": "sha256:10711a8bcb44f344dbb17579aeb56b0d6dff3944493059934ce988ac0fa59507"
 },
 "nbformat": 3,
 "nbformat_minor": 0,
 "worksheets": [
  {
   "cells": [
    {
     "cell_type": "heading",
     "level": 1,
     "metadata": {},
     "source": [
      "02.  \ud30c\uc774\uc36c\uacfc \ud14c\uc774\ube14\ud615 \ub370\uc774\ud130 \ud578\ub4e4\ub9c1 : pandas (1)"
     ]
    },
    {
     "cell_type": "markdown",
     "metadata": {},
     "source": [
      "* \ucf54\ub09c\uc544\uce74\ub370\ubbf8 : \ub370\uc774\ud130\ubd84\uc11d \uae30\ucd08\n",
      "* \ubc1c\ud45c\uc790 : \uae40\ubb34\uc131    "
     ]
    },
    {
     "cell_type": "heading",
     "level": 1,
     "metadata": {},
     "source": [
      "\ucc28\ub840"
     ]
    },
    {
     "cell_type": "markdown",
     "metadata": {},
     "source": [
      "* \ucd94\ucc9c \uc0ac\uc774\ud2b8\n",
      "* NumPy \uae30\ucd08 [1,2]\n",
      "* SciPy \uae30\ucd08 [2]\n",
      "* pandas \uae30\ucd08 [1]\n",
      "* pandas\ub85c \ub370\uc774\ud130 \uc804\ucc98\ub9ac [1]"
     ]
    },
    {
     "cell_type": "heading",
     "level": 1,
     "metadata": {},
     "source": [
      "\ucd94\ucc9c \uc0ac\uc774\ud2b8"
     ]
    },
    {
     "cell_type": "markdown",
     "metadata": {},
     "source": [
      "* NumPy \uacf5\uc2dd \ud398\uc774\uc9c0 - http://www.numpy.org/\n",
      "* pandas \uacf5\uc2dd \ud398\uc774\uc9c0 - http://pandas.pydata.org/"
     ]
    },
    {
     "cell_type": "heading",
     "level": 1,
     "metadata": {},
     "source": [
      "NumPy \uae30\ucd08"
     ]
    },
    {
     "cell_type": "markdown",
     "metadata": {},
     "source": [
      "* NumPy\ub780?\n",
      "* NumPy ndarray : \ub2e4\ucc28\uc6d0 \ubc30\uc5f4 \uac1d\uccb4\n",
      "* ndarray\uc758 \uc790\ub8cc\ud615\n",
      "* NumPy \uae30\ubcf8 \uc5f0\uc0b0\n",
      "* NumPy\uc640 \uc120\ud615\ub300\uc218"
     ]
    },
    {
     "cell_type": "heading",
     "level": 2,
     "metadata": {},
     "source": [
      "NumPy\ub780?"
     ]
    },
    {
     "cell_type": "markdown",
     "metadata": {},
     "source": [
      "Numercial Python\uc758 \uc904\uc784\ub9d0\ub85c \uace0\uc131\ub2a5\uc758 \uacfc\ud559\uacc4\uc0b0 \ucef4\ud4e8\ud305\uacfc \ub370\uc774\ud130 \ubd84\uc11d\uc5d0 \ud544\uc694\ud55c \uae30\ubcf8 \ud328\ud0a4\uc9c0\ub2e4. \ub2e4\uc74c\uacfc \uac19\uc740 \uae30\ub2a5\uc744 \uc81c\uacf5\ud55c\ub2e4.\n",
      "\n",
      "* \ube60\ub974\uace0 \uba54\ubaa8\ub9ac\ub97c \ud6a8\uc728\uc801\uc73c\ub85c \uc0ac\uc6a9\ud558\uba70 \ubca1\ud130 \uc0b0\uc220\uc5f0\uc0b0\uacfc \uc138\ub828\ub41c \ube0c\ub85c\ub4dc\uce90\uc2a4\ud305 \uae30\ub2a5\uc744 \uc81c\uacf5\ud558\ub294 \ub2e4\ucc28\uc6d0 \ubc30\uc5f4\uc778 ndarray\n",
      "* \ubc18\ubcf5\ubb38\uc744 \uc791\uc131\ud560 \ud544\uc694 \uc5c6\uc774 \uc804\uccb4 \ub370\uc774\ud130 \ubc30\uc5f4\uc5d0 \ub300\ud574 \ube60\ub978 \uc5f0\uc0b0\uc744 \uc81c\uacf5\ud558\ub294 \ud45c\uc900 \uc218\ud559 \ud568\uc218\n",
      "* \ubc30\uc5f4 \ub370\uc774\ud130\ub97c \ub514\uc2a4\ud06c\uc5d0 \uc4f0\uac70\ub098 \uc77d\uc744 \uc218 \uc788\ub294 \ub3c4\uad6c\uc640 \uba54\ubaa8\ub9ac\uc5d0 \uc62c\ub824\uc9c4 \ud30c\uc77c\uc744 \uc0ac\uc6a9\ud558\ub294 \ub3c4\uad6c\n",
      "* \uc120\ud615\ub300\uc218, \ub09c\uc218 \ubc1c\uc0dd\uae30, \ud478\ub9ac\uc5d0 \ubcc0\ud658 \uae30\ub2a5\n",
      "* C, C++, \ud3ec\ud2b8\ub780\uc73c\ub85c \uc4f0\uc5ec\uc9c4 \ucf54\ub4dc\ub97c \ud1b5\ud569\ud558\ub294 \ub3c4\uad6c"
     ]
    },
    {
     "cell_type": "markdown",
     "metadata": {},
     "source": [
      "\ub300\ubd80\ubd84\uc758 \ub370\uc774\ud130 \ubd84\uc11d \uc560\ud50c\ub9ac\ucf00\uc774\uc158\uc5d0\uc11c \uc911\uc694\ud558\uac8c \uc0ac\uc6a9\ub418\ub294 \uae30\ub2a5\uc740 \ub2e4\uc74c\uacfc \uac19\ub2e4\n",
      "\n",
      "* \ubc31\ud130 \ubc30\uc5f4\uc0c1\uc5d0\uc11c \ub370\uc774\ud130 \uac1c\uc870, \uc815\uc81c, \ubd80\ubd84 \uc9d1\ud569, \ud544\ud130\ub9c1, \ubcc0\ud615, \ub2e4\ub978 \uc885\ub958 \uc5f0\uc0b0\uc758 \ube60\ub978 \uc218\ud589\n",
      "* \uc815\ub82c, \uc720\uc77c \uc6d0\uc18c \ucc3e\uae30, \uc9d1\ud569\uc5f0\uc0b0 \uac19\uc740 \uc77c\ubc18\uc801\uc778 \ubc30\uc5f4 \ucc98\ub9ac \uc54c\uace0\ub9ac\uc998\n",
      "* \ud1b5\uacc4\uc758 \ud6a8\uacfc\uc801\uc778 \ud45c\ud604\uacfc \ub370\uc774\ud130\uc758 \uc218\uc9d1/\uc694\uc57d\n",
      "* \ub2e4\ub978 \uc885\ub958\uc758 \ub370\uc774\ud130 \ubb36\uc74c\uc744 \ubcd1\ud569\ud558\uace0 \uc5ee\uae30 \uc704\ud55c \ub370\uc774\ud130 \uc815\ub82c\uacfc \ub370\uc774\ud130 \uac04\uc758 \uad00\uacc4 \uc870\uc791\n",
      "* if-elif-else\ub97c \ud3ec\ud568\ud558\ub294 \ubc18\ubcf5\ubb38 \ub300\uc2e0 \uc0ac\uc6a9\ud560 \uc218 \uc788\ub294 \uc870\uac74\uc808\uc744 \ud45c\ud604\ud560 \uc218 \uc788\ub294 \ubc30\uc5f4 \ud45c\ud604\n",
      "* \ub370\uc774\ud130 \uadf8\ub8f9 \uc804\uccb4\uc5d0 \uc801\uc6a9\ud560 \uc218 \uc788\ub294 \uc218\uc9d1, \ubcc0\ud615, \ud568\uc218 \uc801\uc6a9 \uac19\uc740 \ub370\uc774\ud130 \ucc98\ub9ac."
     ]
    },
    {
     "cell_type": "heading",
     "level": 2,
     "metadata": {},
     "source": [
      "NumPy ndarray : \ub2e4\ucc28\uc6d0 \ubc30\uc5f4 \uac1d\uccb4"
     ]
    },
    {
     "cell_type": "code",
     "collapsed": false,
     "input": [
      "import numpy as np\n",
      "\n",
      "# 10^7\uac1c\uc758 \uc6d0\uc18c\ub97c \uac16\ub294 \ubc30\uc5f4 \uc0dd\uc131 \n",
      "arr = np.arange(1e7)\n",
      "\n",
      "# ndarray\ub97c \ub9ac\uc2a4\ud2b8\ub85c \ubcc0\ud658 \n",
      "larr = arr.tolist()\n",
      "\n",
      "# \ub9ac\uc2a4\ud2b8\ub294 \ube0c\ub85c\ub4dc\uce90\uc2a4\ud2b8\uac00 \ubd88\uac00\ub2a5\ud558\ub2e4\n",
      "# \uadf8\ub798\uc11c ndarray\uc758 \ube0c\ub85c\ub4dc\uce90\uc2a4\ud2b8\ub97c \ud749\ub0b4 \ub0b4\ub294 \ud568\uc218\ub97c \uc81c\uc791\n",
      "def list_times(alist, scalar): \n",
      "    for i, val in enumerate(alist):\n",
      "        alist[i] = val * scalar \n",
      "    \n",
      "    return alist"
     ],
     "language": "python",
     "metadata": {},
     "outputs": [],
     "prompt_number": 1
    },
    {
     "cell_type": "code",
     "collapsed": false,
     "input": [
      "%timeit arr * 1.1"
     ],
     "language": "python",
     "metadata": {},
     "outputs": [
      {
       "output_type": "stream",
       "stream": "stdout",
       "text": [
        "10 loops, best of 3: 118 ms per loop\n"
       ]
      }
     ],
     "prompt_number": 12
    },
    {
     "cell_type": "code",
     "collapsed": false,
     "input": [
      "%timeit list_times(larr, 1.1)"
     ],
     "language": "python",
     "metadata": {},
     "outputs": [
      {
       "output_type": "stream",
       "stream": "stdout",
       "text": [
        "1 loops, best of 3: 1.13 s per loop\n"
       ]
      }
     ],
     "prompt_number": 13
    },
    {
     "cell_type": "code",
     "collapsed": false,
     "input": [
      "# \uc57d 9.6\ubc30 \ube60\ub974\ub2e4(\uc2e4\ud589 \ud658\uacbd\ub9c8\ub2e4 \ub2e4\ub97c \uc218 \uc788\uc74c)\n",
      "1.13 * 1000 / 118.0"
     ],
     "language": "python",
     "metadata": {},
     "outputs": [
      {
       "metadata": {},
       "output_type": "pyout",
       "prompt_number": 16,
       "text": [
        "9.576271186440678"
       ]
      }
     ],
     "prompt_number": 16
    },
    {
     "cell_type": "markdown",
     "metadata": {},
     "source": [
      "## \ucc38\uace0\uc790\ub8cc \n",
      "\n",
      " * [1] \ud30c\uc774\uc36c \ub77c\uc774\ube0c\ub7ec\ub9ac\ub97c \ud65c\uc6a9\ud55c \ub370\uc774\ud130 \ubd84\uc11d - http://www.hanbit.co.kr/book/look.html?isbn=978-89-6848-047-8\n",
      " * [2] \ub370\uc774\ud130/\uc218\uce58 \ubd84\uc11d\uc744 \uc704\ud55c \ud30c\uc774\uc36c \ub77c\uc774\ube0c\ub7ec\ub9ac SciPy\uc640 NumPy -  http://www.hanbit.co.kr/ebook/look.html?isbn=9788968486135"
     ]
    }
   ],
   "metadata": {}
  }
 ]
}