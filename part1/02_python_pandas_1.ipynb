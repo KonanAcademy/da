{
 "metadata": {
  "name": "",
  "signature": "sha256:7bf47a87d67b62ccd3bad469d12e1626b7ce2c707e89d9f68534abc53528f4f8"
 },
 "nbformat": 3,
 "nbformat_minor": 0,
 "worksheets": [
  {
   "cells": [
    {
     "cell_type": "heading",
     "level": 1,
     "metadata": {},
     "source": [
      "02.  \ud30c\uc774\uc36c\uacfc \ud14c\uc774\ube14\ud615 \ub370\uc774\ud130 \ud578\ub4e4\ub9c1 : pandas (1)"
     ]
    },
    {
     "cell_type": "markdown",
     "metadata": {},
     "source": [
      "* \ucf54\ub09c\uc544\uce74\ub370\ubbf8 : \ub370\uc774\ud130\ubd84\uc11d \uae30\ucd08\n",
      "* \ubc1c\ud45c\uc790 : \uae40\ubb34\uc131    "
     ]
    },
    {
     "cell_type": "heading",
     "level": 1,
     "metadata": {},
     "source": [
      "\ucc28\ub840"
     ]
    },
    {
     "cell_type": "markdown",
     "metadata": {},
     "source": [
      "* \ucd94\ucc9c \uc0ac\uc774\ud2b8\n",
      "* NumPy \uae30\ucd08 [1,2]\n",
      "* SciPy \uae30\ucd08 [2]\n",
      "* pandas \uae30\ucd08 [1]\n",
      "* pandas\ub85c \ub370\uc774\ud130 \uc804\ucc98\ub9ac [1]"
     ]
    },
    {
     "cell_type": "heading",
     "level": 1,
     "metadata": {},
     "source": [
      "\ucd94\ucc9c \uc0ac\uc774\ud2b8"
     ]
    },
    {
     "cell_type": "markdown",
     "metadata": {},
     "source": [
      "* NumPy \uacf5\uc2dd \ud398\uc774\uc9c0 - http://www.numpy.org/\n",
      "* pandas \uacf5\uc2dd \ud398\uc774\uc9c0 - http://pandas.pydata.org/"
     ]
    },
    {
     "cell_type": "heading",
     "level": 1,
     "metadata": {},
     "source": [
      "NumPy \uae30\ucd08"
     ]
    },
    {
     "cell_type": "markdown",
     "metadata": {},
     "source": [
      "* NumPy\ub780?\n",
      "* NumPy ndarray : \ub2e4\ucc28\uc6d0 \ubc30\uc5f4 \uac1d\uccb4\n",
      "* ndarray\uc758 \uc790\ub8cc\ud615\n",
      "* NumPy \uae30\ubcf8 \uc5f0\uc0b0\n",
      "* NumPy\uc640 \uc120\ud615\ub300\uc218"
     ]
    },
    {
     "cell_type": "heading",
     "level": 2,
     "metadata": {},
     "source": [
      "NumPy\ub780?"
     ]
    },
    {
     "cell_type": "markdown",
     "metadata": {},
     "source": [
      "Numercial Python\uc758 \uc904\uc784\ub9d0\ub85c \uace0\uc131\ub2a5\uc758 \uacfc\ud559\uacc4\uc0b0 \ucef4\ud4e8\ud305\uacfc \ub370\uc774\ud130 \ubd84\uc11d\uc5d0 \ud544\uc694\ud55c \uae30\ubcf8 \ud328\ud0a4\uc9c0\ub2e4. \ub2e4\uc74c\uacfc \uac19\uc740 \uae30\ub2a5\uc744 \uc81c\uacf5\ud55c\ub2e4.\n",
      "\n",
      "* \ube60\ub974\uace0 \uba54\ubaa8\ub9ac\ub97c \ud6a8\uc728\uc801\uc73c\ub85c \uc0ac\uc6a9\ud558\uba70 \ubca1\ud130 \uc0b0\uc220\uc5f0\uc0b0\uacfc \uc138\ub828\ub41c \ube0c\ub85c\ub4dc\uce90\uc2a4\ud305 \uae30\ub2a5\uc744 \uc81c\uacf5\ud558\ub294 \ub2e4\ucc28\uc6d0 \ubc30\uc5f4\uc778 ndarray\n",
      "* \ubc18\ubcf5\ubb38\uc744 \uc791\uc131\ud560 \ud544\uc694 \uc5c6\uc774 \uc804\uccb4 \ub370\uc774\ud130 \ubc30\uc5f4\uc5d0 \ub300\ud574 \ube60\ub978 \uc5f0\uc0b0\uc744 \uc81c\uacf5\ud558\ub294 \ud45c\uc900 \uc218\ud559 \ud568\uc218\n",
      "* \ubc30\uc5f4 \ub370\uc774\ud130\ub97c \ub514\uc2a4\ud06c\uc5d0 \uc4f0\uac70\ub098 \uc77d\uc744 \uc218 \uc788\ub294 \ub3c4\uad6c\uc640 \uba54\ubaa8\ub9ac\uc5d0 \uc62c\ub824\uc9c4 \ud30c\uc77c\uc744 \uc0ac\uc6a9\ud558\ub294 \ub3c4\uad6c\n",
      "* \uc120\ud615\ub300\uc218, \ub09c\uc218 \ubc1c\uc0dd\uae30, \ud478\ub9ac\uc5d0 \ubcc0\ud658 \uae30\ub2a5\n",
      "* C, C++, \ud3ec\ud2b8\ub780\uc73c\ub85c \uc4f0\uc5ec\uc9c4 \ucf54\ub4dc\ub97c \ud1b5\ud569\ud558\ub294 \ub3c4\uad6c"
     ]
    },
    {
     "cell_type": "markdown",
     "metadata": {},
     "source": [
      "\ub300\ubd80\ubd84\uc758 \ub370\uc774\ud130 \ubd84\uc11d \uc560\ud50c\ub9ac\ucf00\uc774\uc158\uc5d0\uc11c \uc911\uc694\ud558\uac8c \uc0ac\uc6a9\ub418\ub294 \uae30\ub2a5\uc740 \ub2e4\uc74c\uacfc \uac19\ub2e4\n",
      "\n",
      "* \ubc31\ud130 \ubc30\uc5f4\uc0c1\uc5d0\uc11c \ub370\uc774\ud130 \uac1c\uc870, \uc815\uc81c, \ubd80\ubd84 \uc9d1\ud569, \ud544\ud130\ub9c1, \ubcc0\ud615, \ub2e4\ub978 \uc885\ub958 \uc5f0\uc0b0\uc758 \ube60\ub978 \uc218\ud589\n",
      "* \uc815\ub82c, \uc720\uc77c \uc6d0\uc18c \ucc3e\uae30, \uc9d1\ud569\uc5f0\uc0b0 \uac19\uc740 \uc77c\ubc18\uc801\uc778 \ubc30\uc5f4 \ucc98\ub9ac \uc54c\uace0\ub9ac\uc998\n",
      "* \ud1b5\uacc4\uc758 \ud6a8\uacfc\uc801\uc778 \ud45c\ud604\uacfc \ub370\uc774\ud130\uc758 \uc218\uc9d1/\uc694\uc57d\n",
      "* \ub2e4\ub978 \uc885\ub958\uc758 \ub370\uc774\ud130 \ubb36\uc74c\uc744 \ubcd1\ud569\ud558\uace0 \uc5ee\uae30 \uc704\ud55c \ub370\uc774\ud130 \uc815\ub82c\uacfc \ub370\uc774\ud130 \uac04\uc758 \uad00\uacc4 \uc870\uc791\n",
      "* if-elif-else\ub97c \ud3ec\ud568\ud558\ub294 \ubc18\ubcf5\ubb38 \ub300\uc2e0 \uc0ac\uc6a9\ud560 \uc218 \uc788\ub294 \uc870\uac74\uc808\uc744 \ud45c\ud604\ud560 \uc218 \uc788\ub294 \ubc30\uc5f4 \ud45c\ud604\n",
      "* \ub370\uc774\ud130 \uadf8\ub8f9 \uc804\uccb4\uc5d0 \uc801\uc6a9\ud560 \uc218 \uc788\ub294 \uc218\uc9d1, \ubcc0\ud615, \ud568\uc218 \uc801\uc6a9 \uac19\uc740 \ub370\uc774\ud130 \ucc98\ub9ac."
     ]
    },
    {
     "cell_type": "heading",
     "level": 2,
     "metadata": {},
     "source": [
      "NumPy ndarray : \ub2e4\ucc28\uc6d0 \ubc30\uc5f4 \uac1d\uccb4"
     ]
    },
    {
     "cell_type": "markdown",
     "metadata": {},
     "source": [
      "* N\ucc28\uc6d0\uc758 \ubc30\uc5f4 \uac1d\uccb4\n",
      "* \uac19\uc740 \uc885\ub958\uc758 \ub370\uc774\ud130\ub9cc \ub2f4\uc744 \uc218 \uc788\ub2e4(\uc6d0\uc18c\ub294 \uac19\uc740 \uc790\ub8cc\ud615\uc774\uc5ec\uc57c \ud55c\ub2e4)\n",
      "* \ubaa8\ub4e0 \ubc30\uc5f4\uc740 \uac01 \ucc28\uc6d0\uc758 \ud06c\uae30\ub97c \uc54c\ub824\uc8fc\ub294 shape\ub77c\ub294 \ud29c\ud50c\uacfc \ubc30\uc5f4\uc5d0 \uc800\uc7a5\ub41c \uc790\ub8cc\ud615\uc744 \uc54c\ub824\uc8fc\ub294 dtype\uc774\ub77c\ub294 \uac1d\uccb4\ub97c \uac00\uc9c0\uace0 \uc788\ub2e4."
     ]
    },
    {
     "cell_type": "markdown",
     "metadata": {},
     "source": [
      "* ndarray \ud2b9\uc9d5\n",
      "* \ub9ac\uc2a4\ud2b8\uc640 ndarray\uc640\uc758 \ube44\uad50\n",
      "* ndarray \uc0dd\uc131"
     ]
    },
    {
     "cell_type": "heading",
     "level": 3,
     "metadata": {},
     "source": [
      "ndarray \ud2b9\uc9d5"
     ]
    },
    {
     "cell_type": "code",
     "collapsed": false,
     "input": [
      "import numpy as np\n",
      "\n",
      "data = np.array([[0.9526, -0.246, -0.8856],\n",
      "                 [0.5639, 0.2379, 0.9104]])"
     ],
     "language": "python",
     "metadata": {},
     "outputs": [],
     "prompt_number": 18
    },
    {
     "cell_type": "code",
     "collapsed": false,
     "input": [
      "data * 10"
     ],
     "language": "python",
     "metadata": {},
     "outputs": [
      {
       "metadata": {},
       "output_type": "pyout",
       "prompt_number": 19,
       "text": [
        "array([[ 9.526, -2.46 , -8.856],\n",
        "       [ 5.639,  2.379,  9.104]])"
       ]
      }
     ],
     "prompt_number": 19
    },
    {
     "cell_type": "code",
     "collapsed": false,
     "input": [
      "data + data"
     ],
     "language": "python",
     "metadata": {},
     "outputs": [
      {
       "metadata": {},
       "output_type": "pyout",
       "prompt_number": 20,
       "text": [
        "array([[ 1.9052, -0.492 , -1.7712],\n",
        "       [ 1.1278,  0.4758,  1.8208]])"
       ]
      }
     ],
     "prompt_number": 20
    },
    {
     "cell_type": "code",
     "collapsed": false,
     "input": [
      "data.shape"
     ],
     "language": "python",
     "metadata": {},
     "outputs": [
      {
       "metadata": {},
       "output_type": "pyout",
       "prompt_number": 21,
       "text": [
        "(2, 3)"
       ]
      }
     ],
     "prompt_number": 21
    },
    {
     "cell_type": "code",
     "collapsed": false,
     "input": [
      "data.dtype"
     ],
     "language": "python",
     "metadata": {},
     "outputs": [
      {
       "metadata": {},
       "output_type": "pyout",
       "prompt_number": 22,
       "text": [
        "dtype('float64')"
       ]
      }
     ],
     "prompt_number": 22
    },
    {
     "cell_type": "heading",
     "level": 3,
     "metadata": {},
     "source": [
      "\ub9ac\uc2a4\ud2b8\uc640 ndarray\uc640\uc758 \ube44\uad50"
     ]
    },
    {
     "cell_type": "code",
     "collapsed": false,
     "input": [
      "import numpy as np\n",
      "\n",
      "# 10^7\uac1c\uc758 \uc6d0\uc18c\ub97c \uac16\ub294 \ubc30\uc5f4 \uc0dd\uc131 \n",
      "arr = np.arange(1e7)\n",
      "\n",
      "# ndarray\ub97c \ub9ac\uc2a4\ud2b8\ub85c \ubcc0\ud658 \n",
      "larr = arr.tolist()\n",
      "\n",
      "# \ub9ac\uc2a4\ud2b8\ub294 \ube0c\ub85c\ub4dc\uce90\uc2a4\ud2b8\uac00 \ubd88\uac00\ub2a5\ud558\ub2e4\n",
      "# \uadf8\ub798\uc11c ndarray\uc758 \ube0c\ub85c\ub4dc\uce90\uc2a4\ud2b8\ub97c \ud749\ub0b4 \ub0b4\ub294 \ud568\uc218\ub97c \uc81c\uc791\n",
      "def list_times(alist, scalar): \n",
      "    for i, val in enumerate(alist):\n",
      "        alist[i] = val * scalar \n",
      "    \n",
      "    return alist"
     ],
     "language": "python",
     "metadata": {},
     "outputs": [],
     "prompt_number": 1
    },
    {
     "cell_type": "code",
     "collapsed": false,
     "input": [
      "%timeit arr * 1.1"
     ],
     "language": "python",
     "metadata": {},
     "outputs": [
      {
       "output_type": "stream",
       "stream": "stdout",
       "text": [
        "10 loops, best of 3: 118 ms per loop\n"
       ]
      }
     ],
     "prompt_number": 12
    },
    {
     "cell_type": "code",
     "collapsed": false,
     "input": [
      "%timeit list_times(larr, 1.1)"
     ],
     "language": "python",
     "metadata": {},
     "outputs": [
      {
       "output_type": "stream",
       "stream": "stdout",
       "text": [
        "1 loops, best of 3: 1.13 s per loop\n"
       ]
      }
     ],
     "prompt_number": 13
    },
    {
     "cell_type": "code",
     "collapsed": false,
     "input": [
      "# \uc57d 9.6\ubc30 \ube60\ub974\ub2e4(\uc2e4\ud589 \ud658\uacbd\ub9c8\ub2e4 \ub2e4\ub97c \uc218 \uc788\uc74c)\n",
      "1.13 * 1000 / 118.0"
     ],
     "language": "python",
     "metadata": {},
     "outputs": [
      {
       "metadata": {},
       "output_type": "pyout",
       "prompt_number": 16,
       "text": [
        "9.576271186440678"
       ]
      }
     ],
     "prompt_number": 16
    },
    {
     "cell_type": "heading",
     "level": 3,
     "metadata": {},
     "source": [
      "ndarray \uc0dd\uc131"
     ]
    },
    {
     "cell_type": "code",
     "collapsed": false,
     "input": [
      "alist = [1, 2, 3]\n",
      "arr = np.array(alist)\n",
      "arr"
     ],
     "language": "python",
     "metadata": {},
     "outputs": [
      {
       "metadata": {},
       "output_type": "pyout",
       "prompt_number": 24,
       "text": [
        "array([1, 2, 3])"
       ]
      }
     ],
     "prompt_number": 24
    },
    {
     "cell_type": "code",
     "collapsed": false,
     "input": [
      "# 0\uc73c\ub85c \ucd08\uae30\ud654\ub41c 5\uac1c\uc758 \uc6d0\uc18c\ub97c \uac16\ub294 \ubc30\uc5f4\uc744 \uc0dd\uc131 \n",
      "arr = np.zeros(5)\n",
      "arr"
     ],
     "language": "python",
     "metadata": {},
     "outputs": [
      {
       "metadata": {},
       "output_type": "pyout",
       "prompt_number": 25,
       "text": [
        "array([ 0.,  0.,  0.,  0.,  0.])"
       ]
      }
     ],
     "prompt_number": 25
    },
    {
     "cell_type": "code",
     "collapsed": false,
     "input": [
      "# 0\ubd80\ud130 99\uae4c\uc9c0\ub97c \uc6d0\uc18c\ub85c \ud558\ub294 \ubc30\uc5f4\n",
      "arr = np.arange(100)\n",
      "arr"
     ],
     "language": "python",
     "metadata": {},
     "outputs": [
      {
       "metadata": {},
       "output_type": "pyout",
       "prompt_number": 26,
       "text": [
        "array([ 0,  1,  2,  3,  4,  5,  6,  7,  8,  9, 10, 11, 12, 13, 14, 15, 16,\n",
        "       17, 18, 19, 20, 21, 22, 23, 24, 25, 26, 27, 28, 29, 30, 31, 32, 33,\n",
        "       34, 35, 36, 37, 38, 39, 40, 41, 42, 43, 44, 45, 46, 47, 48, 49, 50,\n",
        "       51, 52, 53, 54, 55, 56, 57, 58, 59, 60, 61, 62, 63, 64, 65, 66, 67,\n",
        "       68, 69, 70, 71, 72, 73, 74, 75, 76, 77, 78, 79, 80, 81, 82, 83, 84,\n",
        "       85, 86, 87, 88, 89, 90, 91, 92, 93, 94, 95, 96, 97, 98, 99])"
       ]
      }
     ],
     "prompt_number": 26
    },
    {
     "cell_type": "code",
     "collapsed": false,
     "input": [
      "# 10\ubd80\ud130 99\n",
      "arr = np.arange(10,100)\n",
      "arr"
     ],
     "language": "python",
     "metadata": {},
     "outputs": [
      {
       "metadata": {},
       "output_type": "pyout",
       "prompt_number": 27,
       "text": [
        "array([10, 11, 12, 13, 14, 15, 16, 17, 18, 19, 20, 21, 22, 23, 24, 25, 26,\n",
        "       27, 28, 29, 30, 31, 32, 33, 34, 35, 36, 37, 38, 39, 40, 41, 42, 43,\n",
        "       44, 45, 46, 47, 48, 49, 50, 51, 52, 53, 54, 55, 56, 57, 58, 59, 60,\n",
        "       61, 62, 63, 64, 65, 66, 67, 68, 69, 70, 71, 72, 73, 74, 75, 76, 77,\n",
        "       78, 79, 80, 81, 82, 83, 84, 85, 86, 87, 88, 89, 90, 91, 92, 93, 94,\n",
        "       95, 96, 97, 98, 99])"
       ]
      }
     ],
     "prompt_number": 27
    },
    {
     "cell_type": "code",
     "collapsed": false,
     "input": [
      "# 0\ubd80\ud130 1\uae4c\uc9c0 100\ub2e8\uacc4\ub85c\n",
      "arr = np.linspace(0, 1, 100)\n",
      "arr"
     ],
     "language": "python",
     "metadata": {},
     "outputs": [
      {
       "metadata": {},
       "output_type": "pyout",
       "prompt_number": 28,
       "text": [
        "array([ 0.        ,  0.01010101,  0.02020202,  0.03030303,  0.04040404,\n",
        "        0.05050505,  0.06060606,  0.07070707,  0.08080808,  0.09090909,\n",
        "        0.1010101 ,  0.11111111,  0.12121212,  0.13131313,  0.14141414,\n",
        "        0.15151515,  0.16161616,  0.17171717,  0.18181818,  0.19191919,\n",
        "        0.2020202 ,  0.21212121,  0.22222222,  0.23232323,  0.24242424,\n",
        "        0.25252525,  0.26262626,  0.27272727,  0.28282828,  0.29292929,\n",
        "        0.3030303 ,  0.31313131,  0.32323232,  0.33333333,  0.34343434,\n",
        "        0.35353535,  0.36363636,  0.37373737,  0.38383838,  0.39393939,\n",
        "        0.4040404 ,  0.41414141,  0.42424242,  0.43434343,  0.44444444,\n",
        "        0.45454545,  0.46464646,  0.47474747,  0.48484848,  0.49494949,\n",
        "        0.50505051,  0.51515152,  0.52525253,  0.53535354,  0.54545455,\n",
        "        0.55555556,  0.56565657,  0.57575758,  0.58585859,  0.5959596 ,\n",
        "        0.60606061,  0.61616162,  0.62626263,  0.63636364,  0.64646465,\n",
        "        0.65656566,  0.66666667,  0.67676768,  0.68686869,  0.6969697 ,\n",
        "        0.70707071,  0.71717172,  0.72727273,  0.73737374,  0.74747475,\n",
        "        0.75757576,  0.76767677,  0.77777778,  0.78787879,  0.7979798 ,\n",
        "        0.80808081,  0.81818182,  0.82828283,  0.83838384,  0.84848485,\n",
        "        0.85858586,  0.86868687,  0.87878788,  0.88888889,  0.8989899 ,\n",
        "        0.90909091,  0.91919192,  0.92929293,  0.93939394,  0.94949495,\n",
        "        0.95959596,  0.96969697,  0.97979798,  0.98989899,  1.        ])"
       ]
      }
     ],
     "prompt_number": 28
    },
    {
     "cell_type": "code",
     "collapsed": false,
     "input": [
      "# \ub85c\uadf8 \uc2a4\ucf00\uc77c\ub85c 1\ubd80\ud130 10\uae4c\uc9c0 100\ub2e8\uacc4\ub85c\n",
      "arr = np.logspace(0, 1, 100, base=10.0)\n",
      "arr"
     ],
     "language": "python",
     "metadata": {},
     "outputs": [
      {
       "metadata": {},
       "output_type": "pyout",
       "prompt_number": 29,
       "text": [
        "array([  1.        ,   1.02353102,   1.04761575,   1.07226722,\n",
        "         1.09749877,   1.12332403,   1.149757  ,   1.17681195,\n",
        "         1.20450354,   1.23284674,   1.26185688,   1.29154967,\n",
        "         1.32194115,   1.35304777,   1.38488637,   1.41747416,\n",
        "         1.45082878,   1.48496826,   1.51991108,   1.55567614,\n",
        "         1.59228279,   1.62975083,   1.66810054,   1.70735265,\n",
        "         1.7475284 ,   1.78864953,   1.83073828,   1.87381742,\n",
        "         1.91791026,   1.96304065,   2.009233  ,   2.05651231,\n",
        "         2.10490414,   2.15443469,   2.20513074,   2.25701972,\n",
        "         2.3101297 ,   2.36448941,   2.42012826,   2.47707636,\n",
        "         2.53536449,   2.59502421,   2.65608778,   2.71858824,\n",
        "         2.7825594 ,   2.84803587,   2.91505306,   2.98364724,\n",
        "         3.05385551,   3.12571585,   3.19926714,   3.27454916,\n",
        "         3.35160265,   3.43046929,   3.51119173,   3.59381366,\n",
        "         3.67837977,   3.76493581,   3.85352859,   3.94420606,\n",
        "         4.03701726,   4.1320124 ,   4.22924287,   4.32876128,\n",
        "         4.43062146,   4.53487851,   4.64158883,   4.75081016,\n",
        "         4.86260158,   4.97702356,   5.09413801,   5.21400829,\n",
        "         5.33669923,   5.46227722,   5.59081018,   5.72236766,\n",
        "         5.85702082,   5.9948425 ,   6.13590727,   6.28029144,\n",
        "         6.42807312,   6.57933225,   6.73415066,   6.8926121 ,\n",
        "         7.05480231,   7.22080902,   7.39072203,   7.56463328,\n",
        "         7.74263683,   7.92482898,   8.11130831,   8.30217568,\n",
        "         8.49753436,   8.69749003,   8.90215085,   9.11162756,\n",
        "         9.32603347,   9.54548457,   9.77009957,  10.        ])"
       ]
      }
     ],
     "prompt_number": 29
    },
    {
     "cell_type": "code",
     "collapsed": false,
     "input": [
      "# 5x5 \ud615\uc2dd\uc758, 0\uc73c\ub85c \ucc44\uc6cc\uc9c4 \ubc30\uc5f4(\uc774\ubbf8\uc9c0) \ub9cc\ub4e4\uae30 \n",
      "image = np.zeros((5,5))\n",
      "image"
     ],
     "language": "python",
     "metadata": {},
     "outputs": [
      {
       "metadata": {},
       "output_type": "pyout",
       "prompt_number": 31,
       "text": [
        "array([[ 0.,  0.,  0.,  0.,  0.],\n",
        "       [ 0.,  0.,  0.,  0.,  0.],\n",
        "       [ 0.,  0.,  0.,  0.,  0.],\n",
        "       [ 0.,  0.,  0.,  0.,  0.],\n",
        "       [ 0.,  0.,  0.,  0.,  0.]])"
       ]
      }
     ],
     "prompt_number": 31
    },
    {
     "cell_type": "code",
     "collapsed": false,
     "input": [
      "# 5x5x5 \ud615\uc2dd\uc758, 1\ub85c \ucc44\uc6cc\uc9c4 \ubc30\uc5f4\uc744 \ub9cc\ub4e0\ub2e4.\n",
      "# astype() \uba54\uc11c\ub4dc\ub294 \uc6d0\uc18c\ub4e4\uc744 \uc815\uc218\ub85c \uc124\uc815\ud55c\ub2e4. \n",
      "cube = np.zeros((5,5,5)).astype(int) + 1\n",
      "cube"
     ],
     "language": "python",
     "metadata": {},
     "outputs": [
      {
       "metadata": {},
       "output_type": "pyout",
       "prompt_number": 33,
       "text": [
        "array([[[1, 1, 1, 1, 1],\n",
        "        [1, 1, 1, 1, 1],\n",
        "        [1, 1, 1, 1, 1],\n",
        "        [1, 1, 1, 1, 1],\n",
        "        [1, 1, 1, 1, 1]],\n",
        "\n",
        "       [[1, 1, 1, 1, 1],\n",
        "        [1, 1, 1, 1, 1],\n",
        "        [1, 1, 1, 1, 1],\n",
        "        [1, 1, 1, 1, 1],\n",
        "        [1, 1, 1, 1, 1]],\n",
        "\n",
        "       [[1, 1, 1, 1, 1],\n",
        "        [1, 1, 1, 1, 1],\n",
        "        [1, 1, 1, 1, 1],\n",
        "        [1, 1, 1, 1, 1],\n",
        "        [1, 1, 1, 1, 1]],\n",
        "\n",
        "       [[1, 1, 1, 1, 1],\n",
        "        [1, 1, 1, 1, 1],\n",
        "        [1, 1, 1, 1, 1],\n",
        "        [1, 1, 1, 1, 1],\n",
        "        [1, 1, 1, 1, 1]],\n",
        "\n",
        "       [[1, 1, 1, 1, 1],\n",
        "        [1, 1, 1, 1, 1],\n",
        "        [1, 1, 1, 1, 1],\n",
        "        [1, 1, 1, 1, 1],\n",
        "        [1, 1, 1, 1, 1]]])"
       ]
      }
     ],
     "prompt_number": 33
    },
    {
     "cell_type": "code",
     "collapsed": false,
     "input": [
      "# 16\ube44\ud2b8 \ubd80\ub3d9\uc18c\uc218\uc810\uc73c\ub85c\n",
      "cube = np.ones((5, 5, 5)).astype(np.float16)\n",
      "cube"
     ],
     "language": "python",
     "metadata": {},
     "outputs": [
      {
       "metadata": {},
       "output_type": "pyout",
       "prompt_number": 34,
       "text": [
        "array([[[ 1.,  1.,  1.,  1.,  1.],\n",
        "        [ 1.,  1.,  1.,  1.,  1.],\n",
        "        [ 1.,  1.,  1.,  1.,  1.],\n",
        "        [ 1.,  1.,  1.,  1.,  1.],\n",
        "        [ 1.,  1.,  1.,  1.,  1.]],\n",
        "\n",
        "       [[ 1.,  1.,  1.,  1.,  1.],\n",
        "        [ 1.,  1.,  1.,  1.,  1.],\n",
        "        [ 1.,  1.,  1.,  1.,  1.],\n",
        "        [ 1.,  1.,  1.,  1.,  1.],\n",
        "        [ 1.,  1.,  1.,  1.,  1.]],\n",
        "\n",
        "       [[ 1.,  1.,  1.,  1.,  1.],\n",
        "        [ 1.,  1.,  1.,  1.,  1.],\n",
        "        [ 1.,  1.,  1.,  1.,  1.],\n",
        "        [ 1.,  1.,  1.,  1.,  1.],\n",
        "        [ 1.,  1.,  1.,  1.,  1.]],\n",
        "\n",
        "       [[ 1.,  1.,  1.,  1.,  1.],\n",
        "        [ 1.,  1.,  1.,  1.,  1.],\n",
        "        [ 1.,  1.,  1.,  1.,  1.],\n",
        "        [ 1.,  1.,  1.,  1.,  1.],\n",
        "        [ 1.,  1.,  1.,  1.,  1.]],\n",
        "\n",
        "       [[ 1.,  1.,  1.,  1.,  1.],\n",
        "        [ 1.,  1.,  1.,  1.,  1.],\n",
        "        [ 1.,  1.,  1.,  1.,  1.],\n",
        "        [ 1.,  1.,  1.,  1.,  1.],\n",
        "        [ 1.,  1.,  1.,  1.,  1.]]], dtype=float16)"
       ]
      }
     ],
     "prompt_number": 34
    },
    {
     "cell_type": "heading",
     "level": 2,
     "metadata": {},
     "source": [
      "ndarray\uc758 \uc790\ub8cc\ud615"
     ]
    },
    {
     "cell_type": "markdown",
     "metadata": {},
     "source": [
      "<img src='./02_figures/02_tbl.4.2_1.png'/>\n",
      "<img src='./02_figures/02_tbl.4.2_2.png'/>"
     ]
    },
    {
     "cell_type": "code",
     "collapsed": false,
     "input": [
      "# dtype\uc740 ndarray\uac00 \ud2b9\uc815 \ub370\uc774\ud130\ub97c \uba54\ubaa8\ub9ac\uc5d0\uc11c \ud574\uc11d\ud558\uae30 \uc704\ud574 \ud544\uc694\ud55c \uc815\ubcf4\ub97c \ub2f4\uace0 \uc788\ub294 \ud2b9\uc218\ud55c \uac1d\uccb4\n",
      "\n",
      "arr1 = np.array([1,2,3], dtype=np.float64)\n",
      "print arr1\n",
      "print arr1.dtype"
     ],
     "language": "python",
     "metadata": {},
     "outputs": [
      {
       "output_type": "stream",
       "stream": "stdout",
       "text": [
        "[ 1.  2.  3.]\n",
        "float64\n"
       ]
      }
     ],
     "prompt_number": 3
    },
    {
     "cell_type": "code",
     "collapsed": false,
     "input": [
      "arr2 = np.array([1,2,3], dtype=np.int32)\n",
      "print arr2\n",
      "print arr2.dtype"
     ],
     "language": "python",
     "metadata": {},
     "outputs": [
      {
       "output_type": "stream",
       "stream": "stdout",
       "text": [
        "[1 2 3]\n",
        "int32\n"
       ]
      }
     ],
     "prompt_number": 4
    },
    {
     "cell_type": "code",
     "collapsed": false,
     "input": [
      "# astype \uba54\uc11c\ub4dc\ub85c \ubc30\uc5f4\uc758 dtype\uc744 \ub2e4\ub978 \ud615\uc73c\ub85c \uba85\uc2dc\uc801 \ubcc0\uacbd \uac00\ub2a5.\n",
      "arr = np.array([1, 2, 3, 4, 5])\n",
      "print arr.dtype\n",
      "\n",
      "float_arr = arr.astype(np.float64)\n",
      "print float_arr.dtype"
     ],
     "language": "python",
     "metadata": {},
     "outputs": [
      {
       "output_type": "stream",
       "stream": "stdout",
       "text": [
        "int64\n",
        "float64\n"
       ]
      }
     ],
     "prompt_number": 5
    },
    {
     "cell_type": "code",
     "collapsed": false,
     "input": [
      "# \uc22b\uc790 \ud615\uc2dd\uc758 \ubb38\uc790\uc5f4\ub3c4 astype\uc73c\ub85c \uc22b\uc790\ub85c \ubcc0\uacbd\uac00\ub2a5.\n",
      "numeric_strings = np.array(['1.25', '-9.6', '42'], dtype=np.string_)\n",
      "print numeric_strings\n",
      "\n",
      "numbers = numeric_strings.astype(float)\n",
      "print numbers"
     ],
     "language": "python",
     "metadata": {},
     "outputs": [
      {
       "output_type": "stream",
       "stream": "stdout",
       "text": [
        "['1.25' '-9.6' '42']\n",
        "[  1.25  -9.6   42.  ]\n"
       ]
      }
     ],
     "prompt_number": 7
    },
    {
     "cell_type": "heading",
     "level": 2,
     "metadata": {},
     "source": [
      "NumPy \uae30\ubcf8 \uc5f0\uc0b0"
     ]
    },
    {
     "cell_type": "markdown",
     "metadata": {},
     "source": [
      "* \ubc30\uc5f4\uacfc \uc2a4\uce7c\ub77c \uc5f0\uc0b0\n",
      "* \uc0c9\uc778\uacfc \uc2ac\ub77c\uc774\uc2f1 \uae30\ucd08\n",
      "* \uc2ac\ub77c\uc774\uc2a4 \uc0c9\uc778\n",
      "* \ubc30\uc5f4 \uc804\uce58\uc640 \ucd95 \ubc14\uafb8\uae30\n",
      "* \uc720\ub2c8\ubc84\uc15c \ud568\uc218\n",
      "* \ud30c\uc77c \uc785\ucd9c\ub825\n",
      "* \ubc30\uc5f4 \uc7ac\ud615\uc131\n",
      "* \ubc30\uc5f4 \uc774\uc5b4\ubd99\uc774\uace0 \ub098\ub204\uae30\n",
      "* \uc6d0\uc18c \ubc18\ubcf5\uc2dc\ud0a4\uae30\n",
      "* \ube0c\ub85c\ub4dc\uce90\uc2a4\ud305"
     ]
    },
    {
     "cell_type": "heading",
     "level": 3,
     "metadata": {},
     "source": [
      "\ubc30\uc5f4\uacfc \uc2a4\uce7c\ub77c \uc5f0\uc0b0"
     ]
    },
    {
     "cell_type": "code",
     "collapsed": false,
     "input": [
      "arr = np.array([[1., 2., 3.],\n",
      "                   [4., 5., 6.]])\n",
      "arr"
     ],
     "language": "python",
     "metadata": {},
     "outputs": [
      {
       "metadata": {},
       "output_type": "pyout",
       "prompt_number": 9,
       "text": [
        "array([[ 1.,  2.,  3.],\n",
        "       [ 4.,  5.,  6.]])"
       ]
      }
     ],
     "prompt_number": 9
    },
    {
     "cell_type": "code",
     "collapsed": false,
     "input": [
      "# \ub354\ud558\uae30\n",
      "arr + arr"
     ],
     "language": "python",
     "metadata": {},
     "outputs": [
      {
       "metadata": {},
       "output_type": "pyout",
       "prompt_number": 10,
       "text": [
        "array([[  2.,   4.,   6.],\n",
        "       [  8.,  10.,  12.]])"
       ]
      }
     ],
     "prompt_number": 10
    },
    {
     "cell_type": "code",
     "collapsed": false,
     "input": [
      "# \ube7c\uae30\n",
      "arr - arr"
     ],
     "language": "python",
     "metadata": {},
     "outputs": [
      {
       "metadata": {},
       "output_type": "pyout",
       "prompt_number": 11,
       "text": [
        "array([[ 0.,  0.,  0.],\n",
        "       [ 0.,  0.,  0.]])"
       ]
      }
     ],
     "prompt_number": 11
    },
    {
     "cell_type": "code",
     "collapsed": false,
     "input": [
      "# \uacf1\ud558\uae30 (\uac1c\ubcc4 \uc6d0\uc18c \uacf1)\n",
      "arr * arr"
     ],
     "language": "python",
     "metadata": {},
     "outputs": [
      {
       "metadata": {},
       "output_type": "pyout",
       "prompt_number": 12,
       "text": [
        "array([[  1.,   4.,   9.],\n",
        "       [ 16.,  25.,  36.]])"
       ]
      }
     ],
     "prompt_number": 12
    },
    {
     "cell_type": "code",
     "collapsed": false,
     "input": [
      "# \uc2a4\uce7c\ub77c\uc5d0 \ub300\ud55c \uc0b0\uc220 \uc5f0\uc0b0\uc740 \uac01 \uc694\uc18c\ub85c \uc804\ub2ec\n",
      "1 / arr"
     ],
     "language": "python",
     "metadata": {},
     "outputs": [
      {
       "metadata": {},
       "output_type": "pyout",
       "prompt_number": 13,
       "text": [
        "array([[ 1.        ,  0.5       ,  0.33333333],\n",
        "       [ 0.25      ,  0.2       ,  0.16666667]])"
       ]
      }
     ],
     "prompt_number": 13
    },
    {
     "cell_type": "code",
     "collapsed": false,
     "input": [
      "arr * 0.5"
     ],
     "language": "python",
     "metadata": {},
     "outputs": [
      {
       "metadata": {},
       "output_type": "pyout",
       "prompt_number": 15,
       "text": [
        "array([[ 0.5,  1. ,  1.5],\n",
        "       [ 2. ,  2.5,  3. ]])"
       ]
      }
     ],
     "prompt_number": 15
    },
    {
     "cell_type": "code",
     "collapsed": false,
     "input": [
      "arr ** 0.5"
     ],
     "language": "python",
     "metadata": {},
     "outputs": [
      {
       "metadata": {},
       "output_type": "pyout",
       "prompt_number": 14,
       "text": [
        "array([[ 1.        ,  1.41421356,  1.73205081],\n",
        "       [ 2.        ,  2.23606798,  2.44948974]])"
       ]
      }
     ],
     "prompt_number": 14
    },
    {
     "cell_type": "heading",
     "level": 3,
     "metadata": {},
     "source": [
      "\uc0c9\uc778\uacfc \uc2ac\ub77c\uc774\uc2f1 \uae30\ucd08"
     ]
    },
    {
     "cell_type": "markdown",
     "metadata": {},
     "source": [
      "* \uc2ac\ub77c\uc774\uc2f1 \uae30\ucd08\n",
      "* \ub2e4\ucc28\uc6d0 \ubc30\uc5f4"
     ]
    },
    {
     "cell_type": "heading",
     "level": 4,
     "metadata": {},
     "source": [
      "\uc2ac\ub77c\uc774\uc2f1 \uae30\ucd08"
     ]
    },
    {
     "cell_type": "code",
     "collapsed": false,
     "input": [
      "arr = np.arange(10)\n",
      "arr"
     ],
     "language": "python",
     "metadata": {},
     "outputs": [
      {
       "metadata": {},
       "output_type": "pyout",
       "prompt_number": 25,
       "text": [
        "array([0, 1, 2, 3, 4, 5, 6, 7, 8, 9])"
       ]
      }
     ],
     "prompt_number": 25
    },
    {
     "cell_type": "code",
     "collapsed": false,
     "input": [
      "arr[5]"
     ],
     "language": "python",
     "metadata": {},
     "outputs": [
      {
       "metadata": {},
       "output_type": "pyout",
       "prompt_number": 26,
       "text": [
        "5"
       ]
      }
     ],
     "prompt_number": 26
    },
    {
     "cell_type": "code",
     "collapsed": false,
     "input": [
      "arr[5:8]"
     ],
     "language": "python",
     "metadata": {},
     "outputs": [
      {
       "metadata": {},
       "output_type": "pyout",
       "prompt_number": 27,
       "text": [
        "array([5, 6, 7])"
       ]
      }
     ],
     "prompt_number": 27
    },
    {
     "cell_type": "code",
     "collapsed": false,
     "input": [
      "# \ube0c\ub85c\ub4dc\uce90\uc2a4\ud305. \ubc30\uc5f4 \uc2ac\ub77c\uc774\uc2a4\uc5d0 \uc2a4\uce7c\ub77c \uac12\uc744 \ub300\uc785\ud558\uba74, \uadf8 \ubc94\uc704\uc5d0 \uac12\uc774 \uc804\ud30c\ub41c\ub2e4.\n",
      "arr[5:8] = 12\n",
      "arr"
     ],
     "language": "python",
     "metadata": {},
     "outputs": [
      {
       "metadata": {},
       "output_type": "pyout",
       "prompt_number": 28,
       "text": [
        "array([ 0,  1,  2,  3,  4, 12, 12, 12,  8,  9])"
       ]
      }
     ],
     "prompt_number": 28
    },
    {
     "cell_type": "code",
     "collapsed": false,
     "input": [
      "# \ubc30\uc5f4 \uc2ac\ub77c\uc774\uc2a4\ub294 \uac12\uc744 \ubcf5\uc0ac\ud558\ub294\uac8c \uc544\ub2c8\ub2e4. \uadf8\ub7ec\ubbc0\ub85c \ubc30\uc5f4 \uc2ac\ub77c\uc774\uc2a4\uc758 \uac12\uc744 \ubc14\uafd4\ub3c4 \uc6d0\ubcf8\uc5d0 \ubc18\uc601\ub41c\ub2e4.\n",
      "arr_slice = arr[5:8]  # arr_slice\ub85c arr[5:8]\uc758 \uac12\uc774 \ubcf5\uc0ac\ub41c\uac8c \uc544\ub2d8. view\uc758 \uc5ed\ud560\uc744 \ud560\ubfd0.\n",
      "\n",
      "print arr\n",
      "\n",
      "arr_slice[1] = 12345\n",
      "\n",
      "print arr\n",
      "\n",
      "arr_slice[:] = 64\n",
      "\n",
      "print arr"
     ],
     "language": "python",
     "metadata": {},
     "outputs": [
      {
       "output_type": "stream",
       "stream": "stdout",
       "text": [
        "[ 0  1  2  3  4 12 12 12  8  9]\n",
        "[    0     1     2     3     4    12 12345    12     8     9]\n",
        "[ 0  1  2  3  4 64 64 64  8  9]\n"
       ]
      }
     ],
     "prompt_number": 29
    },
    {
     "cell_type": "code",
     "collapsed": false,
     "input": [
      "# \ubdf0 \ub300\uc2e0\uc5d0 \uc2ac\ub77c\uc774\uc2a4\uc758 \ubcf5\uc0ac\ubcf8\uc744 \uc5bb\uace0 \uc2f6\ub2e4\uba74.\n",
      "arr_slice_copy = arr[5:8].copy()\n",
      "print arr_slice_copy\n",
      "print arr\n",
      "\n",
      "arr_slice_copy[:] = 8\n",
      "print arr_slice_copy\n",
      "print arr"
     ],
     "language": "python",
     "metadata": {},
     "outputs": [
      {
       "output_type": "stream",
       "stream": "stdout",
       "text": [
        "[64 64 64]\n",
        "[ 0  1  2  3  4 64 64 64  8  9]\n",
        "[8 8 8]\n",
        "[ 0  1  2  3  4 64 64 64  8  9]\n"
       ]
      }
     ],
     "prompt_number": 31
    },
    {
     "cell_type": "heading",
     "level": 4,
     "metadata": {},
     "source": [
      "\ub2e4\ucc28\uc6d0 \ubc30\uc5f4"
     ]
    },
    {
     "cell_type": "code",
     "collapsed": false,
     "input": [
      "# 2\ucc28\uc6d0 \ubc30\uc5f4\n",
      "arr2d = np.array([[1, 2, 3],\n",
      "                        [4, 5, 6],\n",
      "                        [7, 8, 9]])\n",
      "arr2d"
     ],
     "language": "python",
     "metadata": {},
     "outputs": [
      {
       "metadata": {},
       "output_type": "pyout",
       "prompt_number": 32,
       "text": [
        "array([[1, 2, 3],\n",
        "       [4, 5, 6],\n",
        "       [7, 8, 9]])"
       ]
      }
     ],
     "prompt_number": 32
    },
    {
     "cell_type": "markdown",
     "metadata": {},
     "source": [
      "0,0 | 0,1 | 0,2\n",
      "------|--------|--------\n",
      "1,0 | 1,1 | 1,2\n",
      "2,0 | 2,1 | 2,2"
     ]
    },
    {
     "cell_type": "code",
     "collapsed": false,
     "input": [
      "# \ud2b9\uc815 \ud589\uc5d0 \uc811\uadfc\n",
      "arr2d[2]"
     ],
     "language": "python",
     "metadata": {},
     "outputs": [
      {
       "metadata": {},
       "output_type": "pyout",
       "prompt_number": 35,
       "text": [
        "array([7, 8, 9])"
       ]
      }
     ],
     "prompt_number": 35
    },
    {
     "cell_type": "code",
     "collapsed": false,
     "input": [
      "# \ud2b9\uc815 \uc6d0\uc18c\uc5d0 \uc811\uadfc\n",
      "arr2d[0][2]"
     ],
     "language": "python",
     "metadata": {},
     "outputs": [
      {
       "metadata": {},
       "output_type": "pyout",
       "prompt_number": 36,
       "text": [
        "3"
       ]
      }
     ],
     "prompt_number": 36
    },
    {
     "cell_type": "code",
     "collapsed": false,
     "input": [
      "# \uc704\uc758 \uac83\uc740 \ub2e4\uc74c\uacfc \uac19\uc774 \uc4f8 \uc218 \uc788\ub2e4.\n",
      "arr2d[0,2]"
     ],
     "language": "python",
     "metadata": {},
     "outputs": [
      {
       "metadata": {},
       "output_type": "pyout",
       "prompt_number": 38,
       "text": [
        "3"
       ]
      }
     ],
     "prompt_number": 38
    },
    {
     "cell_type": "code",
     "collapsed": false,
     "input": [
      "# \ud2b9\uc815 \uc5f4 \ucd94\ucd9c\n",
      "arr2d[:,0]"
     ],
     "language": "python",
     "metadata": {},
     "outputs": [
      {
       "metadata": {},
       "output_type": "pyout",
       "prompt_number": 43,
       "text": [
        "array([1, 4, 7])"
       ]
      }
     ],
     "prompt_number": 43
    },
    {
     "cell_type": "code",
     "collapsed": false,
     "input": [
      "arr2d[:][2]"
     ],
     "language": "python",
     "metadata": {},
     "outputs": [
      {
       "metadata": {},
       "output_type": "pyout",
       "prompt_number": 46,
       "text": [
        "array([7, 8, 9])"
       ]
      }
     ],
     "prompt_number": 46
    },
    {
     "cell_type": "code",
     "collapsed": false,
     "input": [
      "# 3\ucc28\uc6d0 \ubc30\uc5f4\n",
      "arr3d = np.array([\n",
      "                        [[1, 2, 3],\n",
      "                         [4, 5, 6]],\n",
      "                        [[7, 8, 9],\n",
      "                         [10, 11, 12]]\n",
      "                      ])\n",
      "arr3d"
     ],
     "language": "python",
     "metadata": {},
     "outputs": [
      {
       "metadata": {},
       "output_type": "pyout",
       "prompt_number": 61,
       "text": [
        "array([[[ 1,  2,  3],\n",
        "        [ 4,  5,  6]],\n",
        "\n",
        "       [[ 7,  8,  9],\n",
        "        [10, 11, 12]]])"
       ]
      }
     ],
     "prompt_number": 61
    },
    {
     "cell_type": "markdown",
     "metadata": {},
     "source": [
      "0 |  |  | \n",
      "------|--------|--------\n",
      "0,0 | 0,1 | 0,2\n",
      "1,0 | 1,1 | 1,2\n",
      "1 |  |  \n",
      "0,0 | 0,1 | 0,2\n",
      "1,0 | 1,1 | 1,2"
     ]
    },
    {
     "cell_type": "code",
     "collapsed": false,
     "input": [
      "arr3d[0]"
     ],
     "language": "python",
     "metadata": {},
     "outputs": [
      {
       "metadata": {},
       "output_type": "pyout",
       "prompt_number": 48,
       "text": [
        "array([[1, 2, 3],\n",
        "       [4, 5, 6]])"
       ]
      }
     ],
     "prompt_number": 48
    },
    {
     "cell_type": "code",
     "collapsed": false,
     "input": [
      "arr3d[1]"
     ],
     "language": "python",
     "metadata": {},
     "outputs": [
      {
       "metadata": {},
       "output_type": "pyout",
       "prompt_number": 49,
       "text": [
        "array([[ 7,  8,  9],\n",
        "       [10, 11, 12]])"
       ]
      }
     ],
     "prompt_number": 49
    },
    {
     "cell_type": "code",
     "collapsed": false,
     "input": [
      "arr3d[0][1]"
     ],
     "language": "python",
     "metadata": {},
     "outputs": [
      {
       "metadata": {},
       "output_type": "pyout",
       "prompt_number": 51,
       "text": [
        "array([4, 5, 6])"
       ]
      }
     ],
     "prompt_number": 51
    },
    {
     "cell_type": "code",
     "collapsed": false,
     "input": [
      "arr3d[0, 1]"
     ],
     "language": "python",
     "metadata": {},
     "outputs": [
      {
       "metadata": {},
       "output_type": "pyout",
       "prompt_number": 50,
       "text": [
        "array([4, 5, 6])"
       ]
      }
     ],
     "prompt_number": 50
    },
    {
     "cell_type": "code",
     "collapsed": false,
     "input": [
      "arr3d[1][1][2]"
     ],
     "language": "python",
     "metadata": {},
     "outputs": [
      {
       "metadata": {},
       "output_type": "pyout",
       "prompt_number": 52,
       "text": [
        "12"
       ]
      }
     ],
     "prompt_number": 52
    },
    {
     "cell_type": "code",
     "collapsed": false,
     "input": [
      "arr3d[1, 1, 2]"
     ],
     "language": "python",
     "metadata": {},
     "outputs": [
      {
       "metadata": {},
       "output_type": "pyout",
       "prompt_number": 53,
       "text": [
        "12"
       ]
      }
     ],
     "prompt_number": 53
    },
    {
     "cell_type": "code",
     "collapsed": false,
     "input": [
      "arr3d[:, 1, 2]"
     ],
     "language": "python",
     "metadata": {},
     "outputs": [
      {
       "metadata": {},
       "output_type": "pyout",
       "prompt_number": 54,
       "text": [
        "array([ 6, 12])"
       ]
      }
     ],
     "prompt_number": 54
    },
    {
     "cell_type": "heading",
     "level": 4,
     "metadata": {},
     "source": [
      "\uc2ac\ub77c\uc774\uc2a4\uc5d0 \uac12 \ub123\uae30"
     ]
    },
    {
     "cell_type": "code",
     "collapsed": false,
     "input": [
      "arr3d"
     ],
     "language": "python",
     "metadata": {},
     "outputs": [
      {
       "metadata": {},
       "output_type": "pyout",
       "prompt_number": 62,
       "text": [
        "array([[[ 1,  2,  3],\n",
        "        [ 4,  5,  6]],\n",
        "\n",
        "       [[ 7,  8,  9],\n",
        "        [10, 11, 12]]])"
       ]
      }
     ],
     "prompt_number": 62
    },
    {
     "cell_type": "code",
     "collapsed": false,
     "input": [
      "arr3d[0]"
     ],
     "language": "python",
     "metadata": {},
     "outputs": [
      {
       "metadata": {},
       "output_type": "pyout",
       "prompt_number": 63,
       "text": [
        "array([[1, 2, 3],\n",
        "       [4, 5, 6]])"
       ]
      }
     ],
     "prompt_number": 63
    },
    {
     "cell_type": "code",
     "collapsed": false,
     "input": [
      "old_values = arr3d[0].copy() # \uc6d0\ub798\uc758 \uac12\uc744 \ubcf4\uc874\ud558\uae30 \uc704\ud574 \ubcf5\uc0ac.\n",
      "\n",
      "arr3d[0] = 42 # \uc2ac\ub77c\uc774\uc2a4\uc5d0 \uc2a4\uce7c\ub77c \ub300\uc785\n",
      "arr3d"
     ],
     "language": "python",
     "metadata": {},
     "outputs": [
      {
       "metadata": {},
       "output_type": "pyout",
       "prompt_number": 64,
       "text": [
        "array([[[42, 42, 42],\n",
        "        [42, 42, 42]],\n",
        "\n",
        "       [[ 7,  8,  9],\n",
        "        [10, 11, 12]]])"
       ]
      }
     ],
     "prompt_number": 64
    },
    {
     "cell_type": "code",
     "collapsed": false,
     "input": [
      "arr3d[0] = old_values # \uc2ac\ub77c\uc774\uc2a4\uc5d0 \ubc30\uc5f4 \ub300\uc785 \uac00\ub2a5(\ucc28\uc6d0\uc774 \ub9de\uc544\uc57c \ud568)\n",
      "arr3d"
     ],
     "language": "python",
     "metadata": {},
     "outputs": [
      {
       "metadata": {},
       "output_type": "pyout",
       "prompt_number": 65,
       "text": [
        "array([[[ 1,  2,  3],\n",
        "        [ 4,  5,  6]],\n",
        "\n",
        "       [[ 7,  8,  9],\n",
        "        [10, 11, 12]]])"
       ]
      }
     ],
     "prompt_number": 65
    },
    {
     "cell_type": "code",
     "collapsed": false,
     "input": [
      "arr3d[0] = np.array([1,2])"
     ],
     "language": "python",
     "metadata": {},
     "outputs": [
      {
       "ename": "ValueError",
       "evalue": "could not broadcast input array from shape (2) into shape (2,3)",
       "output_type": "pyerr",
       "traceback": [
        "\u001b[1;31m---------------------------------------------------------------------------\u001b[0m\n\u001b[1;31mValueError\u001b[0m                                Traceback (most recent call last)",
        "\u001b[1;32m<ipython-input-66-3afd55bb0abd>\u001b[0m in \u001b[0;36m<module>\u001b[1;34m()\u001b[0m\n\u001b[1;32m----> 1\u001b[1;33m \u001b[0marr3d\u001b[0m\u001b[1;33m[\u001b[0m\u001b[1;36m0\u001b[0m\u001b[1;33m]\u001b[0m \u001b[1;33m=\u001b[0m \u001b[0mnp\u001b[0m\u001b[1;33m.\u001b[0m\u001b[0marray\u001b[0m\u001b[1;33m(\u001b[0m\u001b[1;33m[\u001b[0m\u001b[1;36m1\u001b[0m\u001b[1;33m,\u001b[0m\u001b[1;36m2\u001b[0m\u001b[1;33m]\u001b[0m\u001b[1;33m)\u001b[0m\u001b[1;33m\u001b[0m\u001b[0m\n\u001b[0m",
        "\u001b[1;31mValueError\u001b[0m: could not broadcast input array from shape (2) into shape (2,3)"
       ]
      }
     ],
     "prompt_number": 66
    },
    {
     "cell_type": "heading",
     "level": 3,
     "metadata": {},
     "source": [
      "\uc2ac\ub77c\uc774\uc2a4 \uc0c9\uc778"
     ]
    },
    {
     "cell_type": "code",
     "collapsed": false,
     "input": [
      "arr[1:6]"
     ],
     "language": "python",
     "metadata": {},
     "outputs": [
      {
       "metadata": {},
       "output_type": "pyout",
       "prompt_number": 67,
       "text": [
        "array([ 1,  2,  3,  4, 64])"
       ]
      }
     ],
     "prompt_number": 67
    },
    {
     "cell_type": "code",
     "collapsed": false,
     "input": [
      "arr2d"
     ],
     "language": "python",
     "metadata": {},
     "outputs": [
      {
       "metadata": {},
       "output_type": "pyout",
       "prompt_number": 68,
       "text": [
        "array([[1, 2, 3],\n",
        "       [4, 5, 6],\n",
        "       [7, 8, 9]])"
       ]
      }
     ],
     "prompt_number": 68
    },
    {
     "cell_type": "code",
     "collapsed": false,
     "input": [
      "arr2d[:2]"
     ],
     "language": "python",
     "metadata": {},
     "outputs": [
      {
       "metadata": {},
       "output_type": "pyout",
       "prompt_number": 69,
       "text": [
        "array([[1, 2, 3],\n",
        "       [4, 5, 6]])"
       ]
      }
     ],
     "prompt_number": 69
    },
    {
     "cell_type": "code",
     "collapsed": false,
     "input": [
      "arr2d[:2, 1:]"
     ],
     "language": "python",
     "metadata": {},
     "outputs": [
      {
       "metadata": {},
       "output_type": "pyout",
       "prompt_number": 70,
       "text": [
        "array([[2, 3],\n",
        "       [5, 6]])"
       ]
      }
     ],
     "prompt_number": 70
    },
    {
     "cell_type": "code",
     "collapsed": false,
     "input": [
      "arr2d[1, :2]"
     ],
     "language": "python",
     "metadata": {},
     "outputs": [
      {
       "metadata": {},
       "output_type": "pyout",
       "prompt_number": 71,
       "text": [
        "array([4, 5])"
       ]
      }
     ],
     "prompt_number": 71
    },
    {
     "cell_type": "code",
     "collapsed": false,
     "input": [
      "# \ud2b9\uc815 \uc2ac\ub77c\uc774\uc2a4 \uad6c\ubd84\uc5d0 \uac12\uc744 \ub300\uc785\ud558\uba74 \uc120\ud0dd \uc601\uc5ed \uc804\uccb4\uc5d0 \uac12\uc774 \ud560\ub2f9\ub41c\ub2e4.\n",
      "arr2d[:2, 1:] = 0\n",
      "arr2d"
     ],
     "language": "python",
     "metadata": {},
     "outputs": [
      {
       "metadata": {},
       "output_type": "pyout",
       "prompt_number": 72,
       "text": [
        "array([[1, 0, 0],\n",
        "       [4, 0, 0],\n",
        "       [7, 8, 9]])"
       ]
      }
     ],
     "prompt_number": 72
    },
    {
     "cell_type": "heading",
     "level": 3,
     "metadata": {},
     "source": [
      "\ubc30\uc5f4 \uc804\uce58\uc640 \ucd95 \ubc14\uafb8\uae30"
     ]
    },
    {
     "cell_type": "code",
     "collapsed": false,
     "input": [
      "arr = np.arange(15)\n",
      "arr"
     ],
     "language": "python",
     "metadata": {},
     "outputs": [
      {
       "metadata": {},
       "output_type": "pyout",
       "prompt_number": 74,
       "text": [
        "array([ 0,  1,  2,  3,  4,  5,  6,  7,  8,  9, 10, 11, 12, 13, 14])"
       ]
      }
     ],
     "prompt_number": 74
    },
    {
     "cell_type": "code",
     "collapsed": false,
     "input": [
      "arr = arr.reshape((3, 5))\n",
      "arr"
     ],
     "language": "python",
     "metadata": {},
     "outputs": [
      {
       "metadata": {},
       "output_type": "pyout",
       "prompt_number": 76,
       "text": [
        "array([[ 0,  1,  2,  3,  4],\n",
        "       [ 5,  6,  7,  8,  9],\n",
        "       [10, 11, 12, 13, 14]])"
       ]
      }
     ],
     "prompt_number": 76
    },
    {
     "cell_type": "code",
     "collapsed": false,
     "input": [
      "# \uc804\uce58(transpose)\n",
      "arr.T"
     ],
     "language": "python",
     "metadata": {},
     "outputs": [
      {
       "metadata": {},
       "output_type": "pyout",
       "prompt_number": 77,
       "text": [
        "array([[ 0,  5, 10],\n",
        "       [ 1,  6, 11],\n",
        "       [ 2,  7, 12],\n",
        "       [ 3,  8, 13],\n",
        "       [ 4,  9, 14]])"
       ]
      }
     ],
     "prompt_number": 77
    },
    {
     "cell_type": "code",
     "collapsed": false,
     "input": [
      "arr.transpose()"
     ],
     "language": "python",
     "metadata": {},
     "outputs": [
      {
       "metadata": {},
       "output_type": "pyout",
       "prompt_number": 78,
       "text": [
        "array([[ 0,  5, 10],\n",
        "       [ 1,  6, 11],\n",
        "       [ 2,  7, 12],\n",
        "       [ 3,  8, 13],\n",
        "       [ 4,  9, 14]])"
       ]
      }
     ],
     "prompt_number": 78
    },
    {
     "cell_type": "code",
     "collapsed": false,
     "input": [
      "# \ud589\ub82c \ub0b4\uc801 \n",
      "arr = np.random.randn(6,3)\n",
      "arr"
     ],
     "language": "python",
     "metadata": {},
     "outputs": [
      {
       "metadata": {},
       "output_type": "pyout",
       "prompt_number": 79,
       "text": [
        "array([[-0.2076657 , -1.12094658,  0.61984314],\n",
        "       [ 0.94419704, -0.64767335,  0.8012834 ],\n",
        "       [ 0.53443576, -0.26279777, -1.34619569],\n",
        "       [-0.19775452, -0.8455633 , -0.3602344 ],\n",
        "       [-0.8157946 ,  0.33324178, -0.18393122],\n",
        "       [-1.38288628, -0.6405826 , -0.85682243]])"
       ]
      }
     ],
     "prompt_number": 79
    },
    {
     "cell_type": "code",
     "collapsed": false,
     "input": [
      "np.dot(arr.T, arr)"
     ],
     "language": "python",
     "metadata": {},
     "outputs": [
      {
       "metadata": {},
       "output_type": "pyout",
       "prompt_number": 81,
       "text": [
        "array([[ 3.83725683,  0.26201237,  1.31457021],\n",
        "       [ 0.26201237,  2.98143811, -0.06783077],\n",
        "       [ 1.31457021, -0.06783077,  3.73624765]])"
       ]
      }
     ],
     "prompt_number": 81
    },
    {
     "cell_type": "heading",
     "level": 3,
     "metadata": {},
     "source": [
      "\uc720\ub2c8\ubc84\uc124 \ud568\uc218"
     ]
    },
    {
     "cell_type": "code",
     "collapsed": false,
     "input": [
      "arr = np.arange(10)\n",
      "arr"
     ],
     "language": "python",
     "metadata": {},
     "outputs": [
      {
       "metadata": {},
       "output_type": "pyout",
       "prompt_number": 83,
       "text": [
        "array([0, 1, 2, 3, 4, 5, 6, 7, 8, 9])"
       ]
      }
     ],
     "prompt_number": 83
    },
    {
     "cell_type": "code",
     "collapsed": false,
     "input": [
      "# \ub2e8\ud56d \uc720\ub2c8\ubc84\uc124 \ud568\uc218\n",
      "np.sqrt(arr)"
     ],
     "language": "python",
     "metadata": {},
     "outputs": [
      {
       "metadata": {},
       "output_type": "pyout",
       "prompt_number": 84,
       "text": [
        "array([ 0.        ,  1.        ,  1.41421356,  1.73205081,  2.        ,\n",
        "        2.23606798,  2.44948974,  2.64575131,  2.82842712,  3.        ])"
       ]
      }
     ],
     "prompt_number": 84
    },
    {
     "cell_type": "code",
     "collapsed": false,
     "input": [
      "np.exp(arr)"
     ],
     "language": "python",
     "metadata": {},
     "outputs": [
      {
       "metadata": {},
       "output_type": "pyout",
       "prompt_number": 85,
       "text": [
        "array([  1.00000000e+00,   2.71828183e+00,   7.38905610e+00,\n",
        "         2.00855369e+01,   5.45981500e+01,   1.48413159e+02,\n",
        "         4.03428793e+02,   1.09663316e+03,   2.98095799e+03,\n",
        "         8.10308393e+03])"
       ]
      }
     ],
     "prompt_number": 85
    },
    {
     "cell_type": "code",
     "collapsed": false,
     "input": [
      "# \ub2e4\ud56d \uc720\ub2c8\ubc84\uc124 \ud568\uc218 - \uc778\uc790 \ub450 \uac1c\ub97c \ucde8\ud574\uc11c \ub2e8\uc77c \ubc30\uc5f4\uc744 \ubc18\ud658\ud558\ub294 \ud568\uc218\n",
      "x = randn(8)\n",
      "print x\n",
      "y = randn(8)\n",
      "print y\n",
      "\n",
      "np.maximum(x, y)  # element-wise maximum"
     ],
     "language": "python",
     "metadata": {},
     "outputs": [
      {
       "output_type": "stream",
       "stream": "stdout",
       "text": [
        "[ 0.0967883  -1.67521403  1.64327249  1.95540243  0.58640696 -0.54404345\n",
        "  0.51192415  0.59918442]\n",
        "[ 0.55136643 -1.62589557 -0.75345847 -0.38791841 -1.22037736 -1.11515184\n",
        "  0.55690104  0.11316851]\n"
       ]
      },
      {
       "metadata": {},
       "output_type": "pyout",
       "prompt_number": 86,
       "text": [
        "array([ 0.55136643, -1.62589557,  1.64327249,  1.95540243,  0.58640696,\n",
        "       -0.54404345,  0.55690104,  0.59918442])"
       ]
      }
     ],
     "prompt_number": 86
    },
    {
     "cell_type": "markdown",
     "metadata": {},
     "source": [
      "## \ucc38\uace0\uc790\ub8cc \n",
      "\n",
      " * [1] \ud30c\uc774\uc36c \ub77c\uc774\ube0c\ub7ec\ub9ac\ub97c \ud65c\uc6a9\ud55c \ub370\uc774\ud130 \ubd84\uc11d - http://www.hanbit.co.kr/book/look.html?isbn=978-89-6848-047-8\n",
      " * [2] \ub370\uc774\ud130/\uc218\uce58 \ubd84\uc11d\uc744 \uc704\ud55c \ud30c\uc774\uc36c \ub77c\uc774\ube0c\ub7ec\ub9ac SciPy\uc640 NumPy -  http://www.hanbit.co.kr/ebook/look.html?isbn=9788968486135"
     ]
    }
   ],
   "metadata": {}
  }
 ]
}