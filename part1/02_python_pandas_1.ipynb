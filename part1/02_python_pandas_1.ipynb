{
 "metadata": {
  "name": "",
  "signature": "sha256:2ac29341432921f00f3e30526ee57a2b6e10e6cb0158a3a13aa44915d02b2c2a"
 },
 "nbformat": 3,
 "nbformat_minor": 0,
 "worksheets": [
  {
   "cells": [
    {
     "cell_type": "heading",
     "level": 1,
     "metadata": {},
     "source": [
      "02.  \ud30c\uc774\uc36c\uacfc \ud14c\uc774\ube14\ud615 \ub370\uc774\ud130 \ud578\ub4e4\ub9c1 : numpy, pandas (1)"
     ]
    },
    {
     "cell_type": "markdown",
     "metadata": {},
     "source": [
      "* \ucf54\ub09c\uc544\uce74\ub370\ubbf8 : \ub370\uc774\ud130\ubd84\uc11d \uae30\ucd08\n",
      "* \ubc1c\ud45c\uc790 : \uae40\ubb34\uc131    "
     ]
    },
    {
     "cell_type": "heading",
     "level": 1,
     "metadata": {},
     "source": [
      "\ucc28\ub840"
     ]
    },
    {
     "cell_type": "markdown",
     "metadata": {},
     "source": [
      "* \ucd94\ucc9c \uc0ac\uc774\ud2b8\n",
      "* \ucd94\ucc9c \uc608\uc81c\n",
      "* NumPy \uae30\ucd08 [1,2, 3]\n",
      "* pandas \uae30\ucd08 [1]"
     ]
    },
    {
     "cell_type": "heading",
     "level": 1,
     "metadata": {},
     "source": [
      "\ucd94\ucc9c \uc0ac\uc774\ud2b8"
     ]
    },
    {
     "cell_type": "markdown",
     "metadata": {},
     "source": [
      "* NumPy \uacf5\uc2dd \ud398\uc774\uc9c0 - http://www.numpy.org/\n",
      "* pandas \uacf5\uc2dd \ud398\uc774\uc9c0 - http://pandas.pydata.org/\n",
      "* \uc120\ud615\ub300\uc218(\ucf54\uc138\ub77c \uac15\uc88c coding the matrix\uc758 \uacb0\uacfc\ubb3c) - http://codingthematrix.com/\n",
      "* \uc120\ud615\ub300\uc218 \uc18c\uac1c ppt - http://www.fil.ion.ucl.ac.uk/spm/doc/mfd/2010/page1/LinearAlgebra.ppt\n",
      "* \uc120\ud615\ub300\uc218 \uc18c\uac1c pdf - http://www.win.tue.nl/~nikhil/courses/2DI75/recap-slides.pdf"
     ]
    },
    {
     "cell_type": "heading",
     "level": 1,
     "metadata": {},
     "source": [
      "\ucd94\ucc9c \uc608\uc81c"
     ]
    },
    {
     "cell_type": "markdown",
     "metadata": {},
     "source": [
      "* pandas\ub97c \uc774\uc6a9\ud55c \uc544\ud30c\uce58 \ub85c\uadf8 \ubd84\uc11d - http://nbviewer.ipython.org/github/koldunovn/nk_public_notebooks/blob/master/Apache_log.ipynb\n",
      "* NumPy\ub97c \uc774\uc6a9\ud55c PCA \uc608\uc81c - http://glowingpython.blogspot.kr/2011/07/principal-component-analysis-with-numpy.html\n",
      "* \uc804\uad6d \uc2dc\uad70\uad6c \ubc84\uac70\uc9c0\uc218 - http://openlook.org/wp/does-lotteria-locate-different/    "
     ]
    },
    {
     "cell_type": "heading",
     "level": 1,
     "metadata": {},
     "source": [
      "NumPy \uae30\ucd08"
     ]
    },
    {
     "cell_type": "markdown",
     "metadata": {},
     "source": [
      "* NumPy\ub780?\n",
      "* NumPy ndarray : \ub2e4\ucc28\uc6d0 \ubc30\uc5f4 \uac1d\uccb4\n",
      "* ndarray\uc758 \uc790\ub8cc\ud615\n",
      "* NumPy \uae30\ubcf8 \uc5f0\uc0b0\n",
      "* NumPy\uc640 \uc120\ud615\ub300\uc218"
     ]
    },
    {
     "cell_type": "heading",
     "level": 2,
     "metadata": {},
     "source": [
      "NumPy\ub780?"
     ]
    },
    {
     "cell_type": "markdown",
     "metadata": {},
     "source": [
      "Numercial Python\uc758 \uc904\uc784\ub9d0\ub85c \uace0\uc131\ub2a5\uc758 \uacfc\ud559\uacc4\uc0b0 \ucef4\ud4e8\ud305\uacfc \ub370\uc774\ud130 \ubd84\uc11d\uc5d0 \ud544\uc694\ud55c \uae30\ubcf8 \ud328\ud0a4\uc9c0\ub2e4. \ub2e4\uc74c\uacfc \uac19\uc740 \uae30\ub2a5\uc744 \uc81c\uacf5\ud55c\ub2e4.\n",
      "\n",
      "* \ube60\ub974\uace0 \uba54\ubaa8\ub9ac\ub97c \ud6a8\uc728\uc801\uc73c\ub85c \uc0ac\uc6a9\ud558\uba70 \ubca1\ud130 \uc0b0\uc220\uc5f0\uc0b0\uacfc \uc138\ub828\ub41c \ube0c\ub85c\ub4dc\uce90\uc2a4\ud305 \uae30\ub2a5\uc744 \uc81c\uacf5\ud558\ub294 \ub2e4\ucc28\uc6d0 \ubc30\uc5f4\uc778 ndarray\n",
      "* \ubc18\ubcf5\ubb38\uc744 \uc791\uc131\ud560 \ud544\uc694 \uc5c6\uc774 \uc804\uccb4 \ub370\uc774\ud130 \ubc30\uc5f4\uc5d0 \ub300\ud574 \ube60\ub978 \uc5f0\uc0b0\uc744 \uc81c\uacf5\ud558\ub294 \ud45c\uc900 \uc218\ud559 \ud568\uc218\n",
      "* \ubc30\uc5f4 \ub370\uc774\ud130\ub97c \ub514\uc2a4\ud06c\uc5d0 \uc4f0\uac70\ub098 \uc77d\uc744 \uc218 \uc788\ub294 \ub3c4\uad6c\uc640 \uba54\ubaa8\ub9ac\uc5d0 \uc62c\ub824\uc9c4 \ud30c\uc77c\uc744 \uc0ac\uc6a9\ud558\ub294 \ub3c4\uad6c\n",
      "* \uc120\ud615\ub300\uc218, \ub09c\uc218 \ubc1c\uc0dd\uae30, \ud478\ub9ac\uc5d0 \ubcc0\ud658 \uae30\ub2a5\n",
      "* C, C++, \ud3ec\ud2b8\ub780\uc73c\ub85c \uc4f0\uc5ec\uc9c4 \ucf54\ub4dc\ub97c \ud1b5\ud569\ud558\ub294 \ub3c4\uad6c"
     ]
    },
    {
     "cell_type": "markdown",
     "metadata": {},
     "source": [
      "\ub300\ubd80\ubd84\uc758 \ub370\uc774\ud130 \ubd84\uc11d \uc560\ud50c\ub9ac\ucf00\uc774\uc158\uc5d0\uc11c \uc911\uc694\ud558\uac8c \uc0ac\uc6a9\ub418\ub294 \uae30\ub2a5\uc740 \ub2e4\uc74c\uacfc \uac19\ub2e4\n",
      "\n",
      "* \ubc31\ud130 \ubc30\uc5f4\uc0c1\uc5d0\uc11c \ub370\uc774\ud130 \uac1c\uc870, \uc815\uc81c, \ubd80\ubd84 \uc9d1\ud569, \ud544\ud130\ub9c1, \ubcc0\ud615, \ub2e4\ub978 \uc885\ub958 \uc5f0\uc0b0\uc758 \ube60\ub978 \uc218\ud589\n",
      "* \uc815\ub82c, \uc720\uc77c \uc6d0\uc18c \ucc3e\uae30, \uc9d1\ud569\uc5f0\uc0b0 \uac19\uc740 \uc77c\ubc18\uc801\uc778 \ubc30\uc5f4 \ucc98\ub9ac \uc54c\uace0\ub9ac\uc998\n",
      "* \ud1b5\uacc4\uc758 \ud6a8\uacfc\uc801\uc778 \ud45c\ud604\uacfc \ub370\uc774\ud130\uc758 \uc218\uc9d1/\uc694\uc57d\n",
      "* \ub2e4\ub978 \uc885\ub958\uc758 \ub370\uc774\ud130 \ubb36\uc74c\uc744 \ubcd1\ud569\ud558\uace0 \uc5ee\uae30 \uc704\ud55c \ub370\uc774\ud130 \uc815\ub82c\uacfc \ub370\uc774\ud130 \uac04\uc758 \uad00\uacc4 \uc870\uc791\n",
      "* if-elif-else\ub97c \ud3ec\ud568\ud558\ub294 \ubc18\ubcf5\ubb38 \ub300\uc2e0 \uc0ac\uc6a9\ud560 \uc218 \uc788\ub294 \uc870\uac74\uc808\uc744 \ud45c\ud604\ud560 \uc218 \uc788\ub294 \ubc30\uc5f4 \ud45c\ud604\n",
      "* \ub370\uc774\ud130 \uadf8\ub8f9 \uc804\uccb4\uc5d0 \uc801\uc6a9\ud560 \uc218 \uc788\ub294 \uc218\uc9d1, \ubcc0\ud615, \ud568\uc218 \uc801\uc6a9 \uac19\uc740 \ub370\uc774\ud130 \ucc98\ub9ac."
     ]
    },
    {
     "cell_type": "heading",
     "level": 2,
     "metadata": {},
     "source": [
      "NumPy ndarray : \ub2e4\ucc28\uc6d0 \ubc30\uc5f4 \uac1d\uccb4"
     ]
    },
    {
     "cell_type": "markdown",
     "metadata": {},
     "source": [
      "* N\ucc28\uc6d0\uc758 \ubc30\uc5f4 \uac1d\uccb4\n",
      "* \uac19\uc740 \uc885\ub958\uc758 \ub370\uc774\ud130\ub9cc \ub2f4\uc744 \uc218 \uc788\ub2e4(\uc6d0\uc18c\ub294 \uac19\uc740 \uc790\ub8cc\ud615\uc774\uc5ec\uc57c \ud55c\ub2e4)\n",
      "* \ubaa8\ub4e0 \ubc30\uc5f4\uc740 \uac01 \ucc28\uc6d0\uc758 \ud06c\uae30\ub97c \uc54c\ub824\uc8fc\ub294 shape\ub77c\ub294 \ud29c\ud50c\uacfc \ubc30\uc5f4\uc5d0 \uc800\uc7a5\ub41c \uc790\ub8cc\ud615\uc744 \uc54c\ub824\uc8fc\ub294 dtype\uc774\ub77c\ub294 \uac1d\uccb4\ub97c \uac00\uc9c0\uace0 \uc788\ub2e4."
     ]
    },
    {
     "cell_type": "markdown",
     "metadata": {},
     "source": [
      "* ndarray \ud2b9\uc9d5\n",
      "* \ub9ac\uc2a4\ud2b8\uc640 ndarray\uc640\uc758 \ube44\uad50\n",
      "* ndarray \uc0dd\uc131"
     ]
    },
    {
     "cell_type": "heading",
     "level": 3,
     "metadata": {},
     "source": [
      "ndarray \ud2b9\uc9d5"
     ]
    },
    {
     "cell_type": "code",
     "collapsed": false,
     "input": [
      "import numpy as np\n",
      "\n",
      "data = np.array([[0.9526, -0.246, -0.8856],\n",
      "                 [0.5639, 0.2379, 0.9104]])"
     ],
     "language": "python",
     "metadata": {},
     "outputs": [],
     "prompt_number": 18
    },
    {
     "cell_type": "code",
     "collapsed": false,
     "input": [
      "data * 10"
     ],
     "language": "python",
     "metadata": {},
     "outputs": [
      {
       "metadata": {},
       "output_type": "pyout",
       "prompt_number": 19,
       "text": [
        "array([[ 9.526, -2.46 , -8.856],\n",
        "       [ 5.639,  2.379,  9.104]])"
       ]
      }
     ],
     "prompt_number": 19
    },
    {
     "cell_type": "code",
     "collapsed": false,
     "input": [
      "data + data"
     ],
     "language": "python",
     "metadata": {},
     "outputs": [
      {
       "metadata": {},
       "output_type": "pyout",
       "prompt_number": 20,
       "text": [
        "array([[ 1.9052, -0.492 , -1.7712],\n",
        "       [ 1.1278,  0.4758,  1.8208]])"
       ]
      }
     ],
     "prompt_number": 20
    },
    {
     "cell_type": "code",
     "collapsed": false,
     "input": [
      "data.shape"
     ],
     "language": "python",
     "metadata": {},
     "outputs": [
      {
       "metadata": {},
       "output_type": "pyout",
       "prompt_number": 21,
       "text": [
        "(2, 3)"
       ]
      }
     ],
     "prompt_number": 21
    },
    {
     "cell_type": "code",
     "collapsed": false,
     "input": [
      "data.dtype"
     ],
     "language": "python",
     "metadata": {},
     "outputs": [
      {
       "metadata": {},
       "output_type": "pyout",
       "prompt_number": 22,
       "text": [
        "dtype('float64')"
       ]
      }
     ],
     "prompt_number": 22
    },
    {
     "cell_type": "heading",
     "level": 3,
     "metadata": {},
     "source": [
      "\ub9ac\uc2a4\ud2b8\uc640 ndarray\uc640\uc758 \ube44\uad50"
     ]
    },
    {
     "cell_type": "code",
     "collapsed": false,
     "input": [
      "import numpy as np\n",
      "\n",
      "# 10^7\uac1c\uc758 \uc6d0\uc18c\ub97c \uac16\ub294 \ubc30\uc5f4 \uc0dd\uc131 \n",
      "arr = np.arange(1e7)\n",
      "\n",
      "# ndarray\ub97c \ub9ac\uc2a4\ud2b8\ub85c \ubcc0\ud658 \n",
      "larr = arr.tolist()\n",
      "\n",
      "# \ub9ac\uc2a4\ud2b8\ub294 \ube0c\ub85c\ub4dc\uce90\uc2a4\ud2b8\uac00 \ubd88\uac00\ub2a5\ud558\ub2e4\n",
      "# \uadf8\ub798\uc11c ndarray\uc758 \ube0c\ub85c\ub4dc\uce90\uc2a4\ud2b8\ub97c \ud749\ub0b4 \ub0b4\ub294 \ud568\uc218\ub97c \uc81c\uc791\n",
      "def list_times(alist, scalar): \n",
      "    for i, val in enumerate(alist):\n",
      "        alist[i] = val * scalar \n",
      "    \n",
      "    return alist"
     ],
     "language": "python",
     "metadata": {},
     "outputs": [],
     "prompt_number": 1
    },
    {
     "cell_type": "code",
     "collapsed": false,
     "input": [
      "%timeit arr * 1.1"
     ],
     "language": "python",
     "metadata": {},
     "outputs": [
      {
       "output_type": "stream",
       "stream": "stdout",
       "text": [
        "10 loops, best of 3: 118 ms per loop\n"
       ]
      }
     ],
     "prompt_number": 12
    },
    {
     "cell_type": "code",
     "collapsed": false,
     "input": [
      "%timeit list_times(larr, 1.1)"
     ],
     "language": "python",
     "metadata": {},
     "outputs": [
      {
       "output_type": "stream",
       "stream": "stdout",
       "text": [
        "1 loops, best of 3: 1.13 s per loop\n"
       ]
      }
     ],
     "prompt_number": 13
    },
    {
     "cell_type": "code",
     "collapsed": false,
     "input": [
      "# \uc57d 9.6\ubc30 \ube60\ub974\ub2e4(\uc2e4\ud589 \ud658\uacbd\ub9c8\ub2e4 \ub2e4\ub97c \uc218 \uc788\uc74c)\n",
      "1.13 * 1000 / 118.0"
     ],
     "language": "python",
     "metadata": {},
     "outputs": [
      {
       "metadata": {},
       "output_type": "pyout",
       "prompt_number": 16,
       "text": [
        "9.576271186440678"
       ]
      }
     ],
     "prompt_number": 16
    },
    {
     "cell_type": "heading",
     "level": 3,
     "metadata": {},
     "source": [
      "ndarray \uc0dd\uc131"
     ]
    },
    {
     "cell_type": "code",
     "collapsed": false,
     "input": [
      "alist = [1, 2, 3]\n",
      "arr = np.array(alist)\n",
      "arr"
     ],
     "language": "python",
     "metadata": {},
     "outputs": [
      {
       "metadata": {},
       "output_type": "pyout",
       "prompt_number": 24,
       "text": [
        "array([1, 2, 3])"
       ]
      }
     ],
     "prompt_number": 24
    },
    {
     "cell_type": "code",
     "collapsed": false,
     "input": [
      "# 0\uc73c\ub85c \ucd08\uae30\ud654\ub41c 5\uac1c\uc758 \uc6d0\uc18c\ub97c \uac16\ub294 \ubc30\uc5f4\uc744 \uc0dd\uc131 \n",
      "arr = np.zeros(5)\n",
      "arr"
     ],
     "language": "python",
     "metadata": {},
     "outputs": [
      {
       "metadata": {},
       "output_type": "pyout",
       "prompt_number": 25,
       "text": [
        "array([ 0.,  0.,  0.,  0.,  0.])"
       ]
      }
     ],
     "prompt_number": 25
    },
    {
     "cell_type": "code",
     "collapsed": false,
     "input": [
      "# 0\ubd80\ud130 99\uae4c\uc9c0\ub97c \uc6d0\uc18c\ub85c \ud558\ub294 \ubc30\uc5f4\n",
      "arr = np.arange(100)\n",
      "arr"
     ],
     "language": "python",
     "metadata": {},
     "outputs": [
      {
       "metadata": {},
       "output_type": "pyout",
       "prompt_number": 26,
       "text": [
        "array([ 0,  1,  2,  3,  4,  5,  6,  7,  8,  9, 10, 11, 12, 13, 14, 15, 16,\n",
        "       17, 18, 19, 20, 21, 22, 23, 24, 25, 26, 27, 28, 29, 30, 31, 32, 33,\n",
        "       34, 35, 36, 37, 38, 39, 40, 41, 42, 43, 44, 45, 46, 47, 48, 49, 50,\n",
        "       51, 52, 53, 54, 55, 56, 57, 58, 59, 60, 61, 62, 63, 64, 65, 66, 67,\n",
        "       68, 69, 70, 71, 72, 73, 74, 75, 76, 77, 78, 79, 80, 81, 82, 83, 84,\n",
        "       85, 86, 87, 88, 89, 90, 91, 92, 93, 94, 95, 96, 97, 98, 99])"
       ]
      }
     ],
     "prompt_number": 26
    },
    {
     "cell_type": "code",
     "collapsed": false,
     "input": [
      "# 10\ubd80\ud130 99\n",
      "arr = np.arange(10,100)\n",
      "arr"
     ],
     "language": "python",
     "metadata": {},
     "outputs": [
      {
       "metadata": {},
       "output_type": "pyout",
       "prompt_number": 27,
       "text": [
        "array([10, 11, 12, 13, 14, 15, 16, 17, 18, 19, 20, 21, 22, 23, 24, 25, 26,\n",
        "       27, 28, 29, 30, 31, 32, 33, 34, 35, 36, 37, 38, 39, 40, 41, 42, 43,\n",
        "       44, 45, 46, 47, 48, 49, 50, 51, 52, 53, 54, 55, 56, 57, 58, 59, 60,\n",
        "       61, 62, 63, 64, 65, 66, 67, 68, 69, 70, 71, 72, 73, 74, 75, 76, 77,\n",
        "       78, 79, 80, 81, 82, 83, 84, 85, 86, 87, 88, 89, 90, 91, 92, 93, 94,\n",
        "       95, 96, 97, 98, 99])"
       ]
      }
     ],
     "prompt_number": 27
    },
    {
     "cell_type": "code",
     "collapsed": false,
     "input": [
      "# 0\ubd80\ud130 1\uae4c\uc9c0 100\ub2e8\uacc4\ub85c\n",
      "arr = np.linspace(0, 1, 100)\n",
      "arr"
     ],
     "language": "python",
     "metadata": {},
     "outputs": [
      {
       "metadata": {},
       "output_type": "pyout",
       "prompt_number": 28,
       "text": [
        "array([ 0.        ,  0.01010101,  0.02020202,  0.03030303,  0.04040404,\n",
        "        0.05050505,  0.06060606,  0.07070707,  0.08080808,  0.09090909,\n",
        "        0.1010101 ,  0.11111111,  0.12121212,  0.13131313,  0.14141414,\n",
        "        0.15151515,  0.16161616,  0.17171717,  0.18181818,  0.19191919,\n",
        "        0.2020202 ,  0.21212121,  0.22222222,  0.23232323,  0.24242424,\n",
        "        0.25252525,  0.26262626,  0.27272727,  0.28282828,  0.29292929,\n",
        "        0.3030303 ,  0.31313131,  0.32323232,  0.33333333,  0.34343434,\n",
        "        0.35353535,  0.36363636,  0.37373737,  0.38383838,  0.39393939,\n",
        "        0.4040404 ,  0.41414141,  0.42424242,  0.43434343,  0.44444444,\n",
        "        0.45454545,  0.46464646,  0.47474747,  0.48484848,  0.49494949,\n",
        "        0.50505051,  0.51515152,  0.52525253,  0.53535354,  0.54545455,\n",
        "        0.55555556,  0.56565657,  0.57575758,  0.58585859,  0.5959596 ,\n",
        "        0.60606061,  0.61616162,  0.62626263,  0.63636364,  0.64646465,\n",
        "        0.65656566,  0.66666667,  0.67676768,  0.68686869,  0.6969697 ,\n",
        "        0.70707071,  0.71717172,  0.72727273,  0.73737374,  0.74747475,\n",
        "        0.75757576,  0.76767677,  0.77777778,  0.78787879,  0.7979798 ,\n",
        "        0.80808081,  0.81818182,  0.82828283,  0.83838384,  0.84848485,\n",
        "        0.85858586,  0.86868687,  0.87878788,  0.88888889,  0.8989899 ,\n",
        "        0.90909091,  0.91919192,  0.92929293,  0.93939394,  0.94949495,\n",
        "        0.95959596,  0.96969697,  0.97979798,  0.98989899,  1.        ])"
       ]
      }
     ],
     "prompt_number": 28
    },
    {
     "cell_type": "code",
     "collapsed": false,
     "input": [
      "# \ub85c\uadf8 \uc2a4\ucf00\uc77c\ub85c 1\ubd80\ud130 10\uae4c\uc9c0 100\ub2e8\uacc4\ub85c\n",
      "arr = np.logspace(0, 1, 100, base=10.0)\n",
      "arr"
     ],
     "language": "python",
     "metadata": {},
     "outputs": [
      {
       "metadata": {},
       "output_type": "pyout",
       "prompt_number": 29,
       "text": [
        "array([  1.        ,   1.02353102,   1.04761575,   1.07226722,\n",
        "         1.09749877,   1.12332403,   1.149757  ,   1.17681195,\n",
        "         1.20450354,   1.23284674,   1.26185688,   1.29154967,\n",
        "         1.32194115,   1.35304777,   1.38488637,   1.41747416,\n",
        "         1.45082878,   1.48496826,   1.51991108,   1.55567614,\n",
        "         1.59228279,   1.62975083,   1.66810054,   1.70735265,\n",
        "         1.7475284 ,   1.78864953,   1.83073828,   1.87381742,\n",
        "         1.91791026,   1.96304065,   2.009233  ,   2.05651231,\n",
        "         2.10490414,   2.15443469,   2.20513074,   2.25701972,\n",
        "         2.3101297 ,   2.36448941,   2.42012826,   2.47707636,\n",
        "         2.53536449,   2.59502421,   2.65608778,   2.71858824,\n",
        "         2.7825594 ,   2.84803587,   2.91505306,   2.98364724,\n",
        "         3.05385551,   3.12571585,   3.19926714,   3.27454916,\n",
        "         3.35160265,   3.43046929,   3.51119173,   3.59381366,\n",
        "         3.67837977,   3.76493581,   3.85352859,   3.94420606,\n",
        "         4.03701726,   4.1320124 ,   4.22924287,   4.32876128,\n",
        "         4.43062146,   4.53487851,   4.64158883,   4.75081016,\n",
        "         4.86260158,   4.97702356,   5.09413801,   5.21400829,\n",
        "         5.33669923,   5.46227722,   5.59081018,   5.72236766,\n",
        "         5.85702082,   5.9948425 ,   6.13590727,   6.28029144,\n",
        "         6.42807312,   6.57933225,   6.73415066,   6.8926121 ,\n",
        "         7.05480231,   7.22080902,   7.39072203,   7.56463328,\n",
        "         7.74263683,   7.92482898,   8.11130831,   8.30217568,\n",
        "         8.49753436,   8.69749003,   8.90215085,   9.11162756,\n",
        "         9.32603347,   9.54548457,   9.77009957,  10.        ])"
       ]
      }
     ],
     "prompt_number": 29
    },
    {
     "cell_type": "code",
     "collapsed": false,
     "input": [
      "# 5x5 \ud615\uc2dd\uc758, 0\uc73c\ub85c \ucc44\uc6cc\uc9c4 \ubc30\uc5f4(\uc774\ubbf8\uc9c0) \ub9cc\ub4e4\uae30 \n",
      "image = np.zeros((5,5))\n",
      "image"
     ],
     "language": "python",
     "metadata": {},
     "outputs": [
      {
       "metadata": {},
       "output_type": "pyout",
       "prompt_number": 31,
       "text": [
        "array([[ 0.,  0.,  0.,  0.,  0.],\n",
        "       [ 0.,  0.,  0.,  0.,  0.],\n",
        "       [ 0.,  0.,  0.,  0.,  0.],\n",
        "       [ 0.,  0.,  0.,  0.,  0.],\n",
        "       [ 0.,  0.,  0.,  0.,  0.]])"
       ]
      }
     ],
     "prompt_number": 31
    },
    {
     "cell_type": "code",
     "collapsed": false,
     "input": [
      "# 5x5x5 \ud615\uc2dd\uc758, 1\ub85c \ucc44\uc6cc\uc9c4 \ubc30\uc5f4\uc744 \ub9cc\ub4e0\ub2e4.\n",
      "# astype() \uba54\uc11c\ub4dc\ub294 \uc6d0\uc18c\ub4e4\uc744 \uc815\uc218\ub85c \uc124\uc815\ud55c\ub2e4. \n",
      "cube = np.zeros((5,5,5)).astype(int) + 1\n",
      "cube"
     ],
     "language": "python",
     "metadata": {},
     "outputs": [
      {
       "metadata": {},
       "output_type": "pyout",
       "prompt_number": 33,
       "text": [
        "array([[[1, 1, 1, 1, 1],\n",
        "        [1, 1, 1, 1, 1],\n",
        "        [1, 1, 1, 1, 1],\n",
        "        [1, 1, 1, 1, 1],\n",
        "        [1, 1, 1, 1, 1]],\n",
        "\n",
        "       [[1, 1, 1, 1, 1],\n",
        "        [1, 1, 1, 1, 1],\n",
        "        [1, 1, 1, 1, 1],\n",
        "        [1, 1, 1, 1, 1],\n",
        "        [1, 1, 1, 1, 1]],\n",
        "\n",
        "       [[1, 1, 1, 1, 1],\n",
        "        [1, 1, 1, 1, 1],\n",
        "        [1, 1, 1, 1, 1],\n",
        "        [1, 1, 1, 1, 1],\n",
        "        [1, 1, 1, 1, 1]],\n",
        "\n",
        "       [[1, 1, 1, 1, 1],\n",
        "        [1, 1, 1, 1, 1],\n",
        "        [1, 1, 1, 1, 1],\n",
        "        [1, 1, 1, 1, 1],\n",
        "        [1, 1, 1, 1, 1]],\n",
        "\n",
        "       [[1, 1, 1, 1, 1],\n",
        "        [1, 1, 1, 1, 1],\n",
        "        [1, 1, 1, 1, 1],\n",
        "        [1, 1, 1, 1, 1],\n",
        "        [1, 1, 1, 1, 1]]])"
       ]
      }
     ],
     "prompt_number": 33
    },
    {
     "cell_type": "code",
     "collapsed": false,
     "input": [
      "# 16\ube44\ud2b8 \ubd80\ub3d9\uc18c\uc218\uc810\uc73c\ub85c\n",
      "cube = np.ones((5, 5, 5)).astype(np.float16)\n",
      "cube"
     ],
     "language": "python",
     "metadata": {},
     "outputs": [
      {
       "metadata": {},
       "output_type": "pyout",
       "prompt_number": 34,
       "text": [
        "array([[[ 1.,  1.,  1.,  1.,  1.],\n",
        "        [ 1.,  1.,  1.,  1.,  1.],\n",
        "        [ 1.,  1.,  1.,  1.,  1.],\n",
        "        [ 1.,  1.,  1.,  1.,  1.],\n",
        "        [ 1.,  1.,  1.,  1.,  1.]],\n",
        "\n",
        "       [[ 1.,  1.,  1.,  1.,  1.],\n",
        "        [ 1.,  1.,  1.,  1.,  1.],\n",
        "        [ 1.,  1.,  1.,  1.,  1.],\n",
        "        [ 1.,  1.,  1.,  1.,  1.],\n",
        "        [ 1.,  1.,  1.,  1.,  1.]],\n",
        "\n",
        "       [[ 1.,  1.,  1.,  1.,  1.],\n",
        "        [ 1.,  1.,  1.,  1.,  1.],\n",
        "        [ 1.,  1.,  1.,  1.,  1.],\n",
        "        [ 1.,  1.,  1.,  1.,  1.],\n",
        "        [ 1.,  1.,  1.,  1.,  1.]],\n",
        "\n",
        "       [[ 1.,  1.,  1.,  1.,  1.],\n",
        "        [ 1.,  1.,  1.,  1.,  1.],\n",
        "        [ 1.,  1.,  1.,  1.,  1.],\n",
        "        [ 1.,  1.,  1.,  1.,  1.],\n",
        "        [ 1.,  1.,  1.,  1.,  1.]],\n",
        "\n",
        "       [[ 1.,  1.,  1.,  1.,  1.],\n",
        "        [ 1.,  1.,  1.,  1.,  1.],\n",
        "        [ 1.,  1.,  1.,  1.,  1.],\n",
        "        [ 1.,  1.,  1.,  1.,  1.],\n",
        "        [ 1.,  1.,  1.,  1.,  1.]]], dtype=float16)"
       ]
      }
     ],
     "prompt_number": 34
    },
    {
     "cell_type": "heading",
     "level": 2,
     "metadata": {},
     "source": [
      "ndarray\uc758 \uc790\ub8cc\ud615"
     ]
    },
    {
     "cell_type": "markdown",
     "metadata": {},
     "source": [
      "<img src='./02_figures/02_fig.12.1.png'/>"
     ]
    },
    {
     "cell_type": "code",
     "collapsed": false,
     "input": [
      "arr = np.ones((10,5))\n",
      "arr"
     ],
     "language": "python",
     "metadata": {},
     "outputs": [
      {
       "metadata": {},
       "output_type": "pyout",
       "prompt_number": 124,
       "text": [
        "array([[ 1.,  1.,  1.,  1.,  1.],\n",
        "       [ 1.,  1.,  1.,  1.,  1.],\n",
        "       [ 1.,  1.,  1.,  1.,  1.],\n",
        "       [ 1.,  1.,  1.,  1.,  1.],\n",
        "       [ 1.,  1.,  1.,  1.,  1.],\n",
        "       [ 1.,  1.,  1.,  1.,  1.],\n",
        "       [ 1.,  1.,  1.,  1.,  1.],\n",
        "       [ 1.,  1.,  1.,  1.,  1.],\n",
        "       [ 1.,  1.,  1.,  1.,  1.],\n",
        "       [ 1.,  1.,  1.,  1.,  1.]])"
       ]
      }
     ],
     "prompt_number": 124
    },
    {
     "cell_type": "code",
     "collapsed": false,
     "input": [
      "# \ubc30\uc5f4\uc758 \ud615\ud0dc\ub97c \ub098\ud0c0\ub0b4\ub294 \ud29c\ud50c\n",
      "arr.shape"
     ],
     "language": "python",
     "metadata": {},
     "outputs": [
      {
       "metadata": {},
       "output_type": "pyout",
       "prompt_number": 125,
       "text": [
        "(10, 5)"
       ]
      }
     ],
     "prompt_number": 125
    },
    {
     "cell_type": "code",
     "collapsed": false,
     "input": [
      "# \uc790\ub8cc\ud615\n",
      "arr.dtype"
     ],
     "language": "python",
     "metadata": {},
     "outputs": [
      {
       "metadata": {},
       "output_type": "pyout",
       "prompt_number": 127,
       "text": [
        "dtype('float64')"
       ]
      }
     ],
     "prompt_number": 127
    },
    {
     "cell_type": "code",
     "collapsed": false,
     "input": [
      "# \ud558\ub098\uc758 \uc6d0\uc18c\uc5d0\uc11c \ub2e4\uc74c \uc6d0\uc18c\uae4c\uc9c0\uc758 \ub108\ube44\ub97c \ud45c\ud604\ud55c \uc815\uc218\ub97c \ub2f4\uace0 \uc788\ub294 stride \ud29c\ud50c\n",
      "# \uc2a4\ud2b8\ub77c\uc774\ub4dc \uac12\uc740 \ubc30\uc5f4\uc744 \ubcf5\uc0ac\ud558\uc9c0 \uc54a\uace0 \ubdf0\ub97c \uc0dd\uc131\ud558\uae30 \uc704\ud55c \ud544\uc218 \uac12\uc73c\ub85c \uc0ac\uc6a9\ub41c\ub2e4.\n",
      "arr.strides"
     ],
     "language": "python",
     "metadata": {},
     "outputs": [
      {
       "metadata": {},
       "output_type": "pyout",
       "prompt_number": 130,
       "text": [
        "(40, 8)"
       ]
      }
     ],
     "prompt_number": 130
    },
    {
     "cell_type": "markdown",
     "metadata": {},
     "source": [
      "<img src='./02_figures/02_fig.12.2.png'/>"
     ]
    },
    {
     "cell_type": "markdown",
     "metadata": {},
     "source": [
      "<img src='./02_figures/02_tbl.4.2_1.png'/>\n",
      "<img src='./02_figures/02_tbl.4.2_2.png'/>"
     ]
    },
    {
     "cell_type": "code",
     "collapsed": false,
     "input": [
      "# dtype\uc740 ndarray\uac00 \ud2b9\uc815 \ub370\uc774\ud130\ub97c \uba54\ubaa8\ub9ac\uc5d0\uc11c \ud574\uc11d\ud558\uae30 \uc704\ud574 \ud544\uc694\ud55c \uc815\ubcf4\ub97c \ub2f4\uace0 \uc788\ub294 \ud2b9\uc218\ud55c \uac1d\uccb4\n",
      "\n",
      "arr1 = np.array([1,2,3], dtype=np.float64)\n",
      "print arr1\n",
      "print arr1.dtype"
     ],
     "language": "python",
     "metadata": {},
     "outputs": [
      {
       "output_type": "stream",
       "stream": "stdout",
       "text": [
        "[ 1.  2.  3.]\n",
        "float64\n"
       ]
      }
     ],
     "prompt_number": 3
    },
    {
     "cell_type": "code",
     "collapsed": false,
     "input": [
      "arr2 = np.array([1,2,3], dtype=np.int32)\n",
      "print arr2\n",
      "print arr2.dtype"
     ],
     "language": "python",
     "metadata": {},
     "outputs": [
      {
       "output_type": "stream",
       "stream": "stdout",
       "text": [
        "[1 2 3]\n",
        "int32\n"
       ]
      }
     ],
     "prompt_number": 4
    },
    {
     "cell_type": "code",
     "collapsed": false,
     "input": [
      "# astype \uba54\uc11c\ub4dc\ub85c \ubc30\uc5f4\uc758 dtype\uc744 \ub2e4\ub978 \ud615\uc73c\ub85c \uba85\uc2dc\uc801 \ubcc0\uacbd \uac00\ub2a5.\n",
      "arr = np.array([1, 2, 3, 4, 5])\n",
      "print arr.dtype\n",
      "\n",
      "float_arr = arr.astype(np.float64)\n",
      "print float_arr.dtype"
     ],
     "language": "python",
     "metadata": {},
     "outputs": [
      {
       "output_type": "stream",
       "stream": "stdout",
       "text": [
        "int64\n",
        "float64\n"
       ]
      }
     ],
     "prompt_number": 5
    },
    {
     "cell_type": "code",
     "collapsed": false,
     "input": [
      "# \uc22b\uc790 \ud615\uc2dd\uc758 \ubb38\uc790\uc5f4\ub3c4 astype\uc73c\ub85c \uc22b\uc790\ub85c \ubcc0\uacbd\uac00\ub2a5.\n",
      "numeric_strings = np.array(['1.25', '-9.6', '42'], dtype=np.string_)\n",
      "print numeric_strings\n",
      "\n",
      "numbers = numeric_strings.astype(float)\n",
      "print numbers"
     ],
     "language": "python",
     "metadata": {},
     "outputs": [
      {
       "output_type": "stream",
       "stream": "stdout",
       "text": [
        "['1.25' '-9.6' '42']\n",
        "[  1.25  -9.6   42.  ]\n"
       ]
      }
     ],
     "prompt_number": 7
    },
    {
     "cell_type": "heading",
     "level": 2,
     "metadata": {},
     "source": [
      "NumPy \uae30\ubcf8 \uc5f0\uc0b0"
     ]
    },
    {
     "cell_type": "markdown",
     "metadata": {},
     "source": [
      "* \ubc30\uc5f4\uacfc \uc2a4\uce7c\ub77c \uc5f0\uc0b0\n",
      "* \uc0c9\uc778\uacfc \uc2ac\ub77c\uc774\uc2f1 \uae30\ucd08\n",
      "* \uc2ac\ub77c\uc774\uc2a4 \uc0c9\uc778\n",
      "* \ubc30\uc5f4 \uc804\uce58\uc640 \ucd95 \ubc14\uafb8\uae30\n",
      "* \uc720\ub2c8\ubc84\uc15c \ud568\uc218\n",
      "* \ubc30\uc5f4 \ub370\uc774\ud130 \uc870\uc791, \ud2b9\uc218\ucc98\ub9ac\n",
      "* \ubc30\uc5f4 \uc7ac\ud615\uc131\n",
      "* \ubc30\uc5f4 \uc774\uc5b4\ubd99\uc774\uace0 \ub098\ub204\uae30\n",
      "* \uc6d0\uc18c \ubc18\ubcf5\uc2dc\ud0a4\uae30\n",
      "* \ube0c\ub85c\ub4dc\uce90\uc2a4\ud305\n",
      "* \ud30c\uc77c \uc785\ucd9c\ub825"
     ]
    },
    {
     "cell_type": "heading",
     "level": 3,
     "metadata": {},
     "source": [
      "\ubc30\uc5f4\uacfc \uc2a4\uce7c\ub77c \uc5f0\uc0b0"
     ]
    },
    {
     "cell_type": "code",
     "collapsed": false,
     "input": [
      "arr = np.array([[1., 2., 3.],\n",
      "                   [4., 5., 6.]])\n",
      "arr"
     ],
     "language": "python",
     "metadata": {},
     "outputs": [
      {
       "metadata": {},
       "output_type": "pyout",
       "prompt_number": 9,
       "text": [
        "array([[ 1.,  2.,  3.],\n",
        "       [ 4.,  5.,  6.]])"
       ]
      }
     ],
     "prompt_number": 9
    },
    {
     "cell_type": "code",
     "collapsed": false,
     "input": [
      "# \ub354\ud558\uae30\n",
      "arr + arr"
     ],
     "language": "python",
     "metadata": {},
     "outputs": [
      {
       "metadata": {},
       "output_type": "pyout",
       "prompt_number": 10,
       "text": [
        "array([[  2.,   4.,   6.],\n",
        "       [  8.,  10.,  12.]])"
       ]
      }
     ],
     "prompt_number": 10
    },
    {
     "cell_type": "code",
     "collapsed": false,
     "input": [
      "# \ube7c\uae30\n",
      "arr - arr"
     ],
     "language": "python",
     "metadata": {},
     "outputs": [
      {
       "metadata": {},
       "output_type": "pyout",
       "prompt_number": 11,
       "text": [
        "array([[ 0.,  0.,  0.],\n",
        "       [ 0.,  0.,  0.]])"
       ]
      }
     ],
     "prompt_number": 11
    },
    {
     "cell_type": "code",
     "collapsed": false,
     "input": [
      "# \uacf1\ud558\uae30 (\uac1c\ubcc4 \uc6d0\uc18c \uacf1)\n",
      "arr * arr"
     ],
     "language": "python",
     "metadata": {},
     "outputs": [
      {
       "metadata": {},
       "output_type": "pyout",
       "prompt_number": 12,
       "text": [
        "array([[  1.,   4.,   9.],\n",
        "       [ 16.,  25.,  36.]])"
       ]
      }
     ],
     "prompt_number": 12
    },
    {
     "cell_type": "code",
     "collapsed": false,
     "input": [
      "# \uc2a4\uce7c\ub77c\uc5d0 \ub300\ud55c \uc0b0\uc220 \uc5f0\uc0b0\uc740 \uac01 \uc694\uc18c\ub85c \uc804\ub2ec\n",
      "1 / arr"
     ],
     "language": "python",
     "metadata": {},
     "outputs": [
      {
       "metadata": {},
       "output_type": "pyout",
       "prompt_number": 13,
       "text": [
        "array([[ 1.        ,  0.5       ,  0.33333333],\n",
        "       [ 0.25      ,  0.2       ,  0.16666667]])"
       ]
      }
     ],
     "prompt_number": 13
    },
    {
     "cell_type": "code",
     "collapsed": false,
     "input": [
      "arr * 0.5"
     ],
     "language": "python",
     "metadata": {},
     "outputs": [
      {
       "metadata": {},
       "output_type": "pyout",
       "prompt_number": 15,
       "text": [
        "array([[ 0.5,  1. ,  1.5],\n",
        "       [ 2. ,  2.5,  3. ]])"
       ]
      }
     ],
     "prompt_number": 15
    },
    {
     "cell_type": "code",
     "collapsed": false,
     "input": [
      "arr ** 0.5"
     ],
     "language": "python",
     "metadata": {},
     "outputs": [
      {
       "metadata": {},
       "output_type": "pyout",
       "prompt_number": 14,
       "text": [
        "array([[ 1.        ,  1.41421356,  1.73205081],\n",
        "       [ 2.        ,  2.23606798,  2.44948974]])"
       ]
      }
     ],
     "prompt_number": 14
    },
    {
     "cell_type": "heading",
     "level": 3,
     "metadata": {},
     "source": [
      "\uc0c9\uc778\uacfc \uc2ac\ub77c\uc774\uc2f1 \uae30\ucd08"
     ]
    },
    {
     "cell_type": "markdown",
     "metadata": {},
     "source": [
      "* \uc2ac\ub77c\uc774\uc2f1 \uae30\ucd08\n",
      "* \ub2e4\ucc28\uc6d0 \ubc30\uc5f4"
     ]
    },
    {
     "cell_type": "heading",
     "level": 4,
     "metadata": {},
     "source": [
      "\uc2ac\ub77c\uc774\uc2f1 \uae30\ucd08"
     ]
    },
    {
     "cell_type": "code",
     "collapsed": false,
     "input": [
      "arr = np.arange(10)\n",
      "arr"
     ],
     "language": "python",
     "metadata": {},
     "outputs": [
      {
       "metadata": {},
       "output_type": "pyout",
       "prompt_number": 25,
       "text": [
        "array([0, 1, 2, 3, 4, 5, 6, 7, 8, 9])"
       ]
      }
     ],
     "prompt_number": 25
    },
    {
     "cell_type": "code",
     "collapsed": false,
     "input": [
      "arr[5]"
     ],
     "language": "python",
     "metadata": {},
     "outputs": [
      {
       "metadata": {},
       "output_type": "pyout",
       "prompt_number": 26,
       "text": [
        "5"
       ]
      }
     ],
     "prompt_number": 26
    },
    {
     "cell_type": "code",
     "collapsed": false,
     "input": [
      "arr[5:8]"
     ],
     "language": "python",
     "metadata": {},
     "outputs": [
      {
       "metadata": {},
       "output_type": "pyout",
       "prompt_number": 27,
       "text": [
        "array([5, 6, 7])"
       ]
      }
     ],
     "prompt_number": 27
    },
    {
     "cell_type": "code",
     "collapsed": false,
     "input": [
      "# \ube0c\ub85c\ub4dc\uce90\uc2a4\ud305. \ubc30\uc5f4 \uc2ac\ub77c\uc774\uc2a4\uc5d0 \uc2a4\uce7c\ub77c \uac12\uc744 \ub300\uc785\ud558\uba74, \uadf8 \ubc94\uc704\uc5d0 \uac12\uc774 \uc804\ud30c\ub41c\ub2e4.\n",
      "arr[5:8] = 12\n",
      "arr"
     ],
     "language": "python",
     "metadata": {},
     "outputs": [
      {
       "metadata": {},
       "output_type": "pyout",
       "prompt_number": 28,
       "text": [
        "array([ 0,  1,  2,  3,  4, 12, 12, 12,  8,  9])"
       ]
      }
     ],
     "prompt_number": 28
    },
    {
     "cell_type": "code",
     "collapsed": false,
     "input": [
      "# \ubc30\uc5f4 \uc2ac\ub77c\uc774\uc2a4\ub294 \uac12\uc744 \ubcf5\uc0ac\ud558\ub294\uac8c \uc544\ub2c8\ub2e4. \uadf8\ub7ec\ubbc0\ub85c \ubc30\uc5f4 \uc2ac\ub77c\uc774\uc2a4\uc758 \uac12\uc744 \ubc14\uafd4\ub3c4 \uc6d0\ubcf8\uc5d0 \ubc18\uc601\ub41c\ub2e4.\n",
      "arr_slice = arr[5:8]  # arr_slice\ub85c arr[5:8]\uc758 \uac12\uc774 \ubcf5\uc0ac\ub41c\uac8c \uc544\ub2d8. view\uc758 \uc5ed\ud560\uc744 \ud560\ubfd0.\n",
      "\n",
      "print arr\n",
      "\n",
      "arr_slice[1] = 12345\n",
      "\n",
      "print arr\n",
      "\n",
      "arr_slice[:] = 64\n",
      "\n",
      "print arr"
     ],
     "language": "python",
     "metadata": {},
     "outputs": [
      {
       "output_type": "stream",
       "stream": "stdout",
       "text": [
        "[ 0  1  2  3  4 12 12 12  8  9]\n",
        "[    0     1     2     3     4    12 12345    12     8     9]\n",
        "[ 0  1  2  3  4 64 64 64  8  9]\n"
       ]
      }
     ],
     "prompt_number": 29
    },
    {
     "cell_type": "code",
     "collapsed": false,
     "input": [
      "# \ubdf0 \ub300\uc2e0\uc5d0 \uc2ac\ub77c\uc774\uc2a4\uc758 \ubcf5\uc0ac\ubcf8\uc744 \uc5bb\uace0 \uc2f6\ub2e4\uba74.\n",
      "arr_slice_copy = arr[5:8].copy()\n",
      "print arr_slice_copy\n",
      "print arr\n",
      "\n",
      "arr_slice_copy[:] = 8\n",
      "print arr_slice_copy\n",
      "print arr"
     ],
     "language": "python",
     "metadata": {},
     "outputs": [
      {
       "output_type": "stream",
       "stream": "stdout",
       "text": [
        "[64 64 64]\n",
        "[ 0  1  2  3  4 64 64 64  8  9]\n",
        "[8 8 8]\n",
        "[ 0  1  2  3  4 64 64 64  8  9]\n"
       ]
      }
     ],
     "prompt_number": 31
    },
    {
     "cell_type": "heading",
     "level": 4,
     "metadata": {},
     "source": [
      "\ub2e4\ucc28\uc6d0 \ubc30\uc5f4"
     ]
    },
    {
     "cell_type": "code",
     "collapsed": false,
     "input": [
      "# 2\ucc28\uc6d0 \ubc30\uc5f4\n",
      "arr2d = np.array([[1, 2, 3],\n",
      "                        [4, 5, 6],\n",
      "                        [7, 8, 9]])\n",
      "arr2d"
     ],
     "language": "python",
     "metadata": {},
     "outputs": [
      {
       "metadata": {},
       "output_type": "pyout",
       "prompt_number": 32,
       "text": [
        "array([[1, 2, 3],\n",
        "       [4, 5, 6],\n",
        "       [7, 8, 9]])"
       ]
      }
     ],
     "prompt_number": 32
    },
    {
     "cell_type": "markdown",
     "metadata": {},
     "source": [
      "0,0 | 0,1 | 0,2\n",
      "------|--------|--------\n",
      "1,0 | 1,1 | 1,2\n",
      "2,0 | 2,1 | 2,2"
     ]
    },
    {
     "cell_type": "code",
     "collapsed": false,
     "input": [
      "# \ud2b9\uc815 \ud589\uc5d0 \uc811\uadfc\n",
      "arr2d[2]"
     ],
     "language": "python",
     "metadata": {},
     "outputs": [
      {
       "metadata": {},
       "output_type": "pyout",
       "prompt_number": 35,
       "text": [
        "array([7, 8, 9])"
       ]
      }
     ],
     "prompt_number": 35
    },
    {
     "cell_type": "code",
     "collapsed": false,
     "input": [
      "# \ud2b9\uc815 \uc6d0\uc18c\uc5d0 \uc811\uadfc\n",
      "arr2d[0][2]"
     ],
     "language": "python",
     "metadata": {},
     "outputs": [
      {
       "metadata": {},
       "output_type": "pyout",
       "prompt_number": 36,
       "text": [
        "3"
       ]
      }
     ],
     "prompt_number": 36
    },
    {
     "cell_type": "code",
     "collapsed": false,
     "input": [
      "# \uc704\uc758 \uac83\uc740 \ub2e4\uc74c\uacfc \uac19\uc774 \uc4f8 \uc218 \uc788\ub2e4.\n",
      "arr2d[0,2]"
     ],
     "language": "python",
     "metadata": {},
     "outputs": [
      {
       "metadata": {},
       "output_type": "pyout",
       "prompt_number": 38,
       "text": [
        "3"
       ]
      }
     ],
     "prompt_number": 38
    },
    {
     "cell_type": "code",
     "collapsed": false,
     "input": [
      "# \ud2b9\uc815 \uc5f4 \ucd94\ucd9c\n",
      "arr2d[:,0]"
     ],
     "language": "python",
     "metadata": {},
     "outputs": [
      {
       "metadata": {},
       "output_type": "pyout",
       "prompt_number": 43,
       "text": [
        "array([1, 4, 7])"
       ]
      }
     ],
     "prompt_number": 43
    },
    {
     "cell_type": "code",
     "collapsed": false,
     "input": [
      "arr2d[:][2]"
     ],
     "language": "python",
     "metadata": {},
     "outputs": [
      {
       "metadata": {},
       "output_type": "pyout",
       "prompt_number": 46,
       "text": [
        "array([7, 8, 9])"
       ]
      }
     ],
     "prompt_number": 46
    },
    {
     "cell_type": "code",
     "collapsed": false,
     "input": [
      "# 3\ucc28\uc6d0 \ubc30\uc5f4\n",
      "arr3d = np.array([\n",
      "                        [[1, 2, 3],\n",
      "                         [4, 5, 6]],\n",
      "                        [[7, 8, 9],\n",
      "                         [10, 11, 12]]\n",
      "                      ])\n",
      "arr3d"
     ],
     "language": "python",
     "metadata": {},
     "outputs": [
      {
       "metadata": {},
       "output_type": "pyout",
       "prompt_number": 61,
       "text": [
        "array([[[ 1,  2,  3],\n",
        "        [ 4,  5,  6]],\n",
        "\n",
        "       [[ 7,  8,  9],\n",
        "        [10, 11, 12]]])"
       ]
      }
     ],
     "prompt_number": 61
    },
    {
     "cell_type": "markdown",
     "metadata": {},
     "source": [
      "0 |  |  | \n",
      "------|--------|--------\n",
      "0,0 | 0,1 | 0,2\n",
      "1,0 | 1,1 | 1,2\n",
      "1 |  |  \n",
      "0,0 | 0,1 | 0,2\n",
      "1,0 | 1,1 | 1,2"
     ]
    },
    {
     "cell_type": "code",
     "collapsed": false,
     "input": [
      "arr3d[0]"
     ],
     "language": "python",
     "metadata": {},
     "outputs": [
      {
       "metadata": {},
       "output_type": "pyout",
       "prompt_number": 48,
       "text": [
        "array([[1, 2, 3],\n",
        "       [4, 5, 6]])"
       ]
      }
     ],
     "prompt_number": 48
    },
    {
     "cell_type": "code",
     "collapsed": false,
     "input": [
      "arr3d[1]"
     ],
     "language": "python",
     "metadata": {},
     "outputs": [
      {
       "metadata": {},
       "output_type": "pyout",
       "prompt_number": 49,
       "text": [
        "array([[ 7,  8,  9],\n",
        "       [10, 11, 12]])"
       ]
      }
     ],
     "prompt_number": 49
    },
    {
     "cell_type": "code",
     "collapsed": false,
     "input": [
      "arr3d[0][1]"
     ],
     "language": "python",
     "metadata": {},
     "outputs": [
      {
       "metadata": {},
       "output_type": "pyout",
       "prompt_number": 51,
       "text": [
        "array([4, 5, 6])"
       ]
      }
     ],
     "prompt_number": 51
    },
    {
     "cell_type": "code",
     "collapsed": false,
     "input": [
      "arr3d[0, 1]"
     ],
     "language": "python",
     "metadata": {},
     "outputs": [
      {
       "metadata": {},
       "output_type": "pyout",
       "prompt_number": 50,
       "text": [
        "array([4, 5, 6])"
       ]
      }
     ],
     "prompt_number": 50
    },
    {
     "cell_type": "code",
     "collapsed": false,
     "input": [
      "arr3d[1][1][2]"
     ],
     "language": "python",
     "metadata": {},
     "outputs": [
      {
       "metadata": {},
       "output_type": "pyout",
       "prompt_number": 52,
       "text": [
        "12"
       ]
      }
     ],
     "prompt_number": 52
    },
    {
     "cell_type": "code",
     "collapsed": false,
     "input": [
      "arr3d[1, 1, 2]"
     ],
     "language": "python",
     "metadata": {},
     "outputs": [
      {
       "metadata": {},
       "output_type": "pyout",
       "prompt_number": 53,
       "text": [
        "12"
       ]
      }
     ],
     "prompt_number": 53
    },
    {
     "cell_type": "code",
     "collapsed": false,
     "input": [
      "arr3d[:, 1, 2]"
     ],
     "language": "python",
     "metadata": {},
     "outputs": [
      {
       "metadata": {},
       "output_type": "pyout",
       "prompt_number": 54,
       "text": [
        "array([ 6, 12])"
       ]
      }
     ],
     "prompt_number": 54
    },
    {
     "cell_type": "heading",
     "level": 4,
     "metadata": {},
     "source": [
      "\uc2ac\ub77c\uc774\uc2a4\uc5d0 \uac12 \ub123\uae30"
     ]
    },
    {
     "cell_type": "code",
     "collapsed": false,
     "input": [
      "arr3d"
     ],
     "language": "python",
     "metadata": {},
     "outputs": [
      {
       "metadata": {},
       "output_type": "pyout",
       "prompt_number": 62,
       "text": [
        "array([[[ 1,  2,  3],\n",
        "        [ 4,  5,  6]],\n",
        "\n",
        "       [[ 7,  8,  9],\n",
        "        [10, 11, 12]]])"
       ]
      }
     ],
     "prompt_number": 62
    },
    {
     "cell_type": "code",
     "collapsed": false,
     "input": [
      "arr3d[0]"
     ],
     "language": "python",
     "metadata": {},
     "outputs": [
      {
       "metadata": {},
       "output_type": "pyout",
       "prompt_number": 63,
       "text": [
        "array([[1, 2, 3],\n",
        "       [4, 5, 6]])"
       ]
      }
     ],
     "prompt_number": 63
    },
    {
     "cell_type": "code",
     "collapsed": false,
     "input": [
      "old_values = arr3d[0].copy() # \uc6d0\ub798\uc758 \uac12\uc744 \ubcf4\uc874\ud558\uae30 \uc704\ud574 \ubcf5\uc0ac.\n",
      "\n",
      "arr3d[0] = 42 # \uc2ac\ub77c\uc774\uc2a4\uc5d0 \uc2a4\uce7c\ub77c \ub300\uc785\n",
      "arr3d"
     ],
     "language": "python",
     "metadata": {},
     "outputs": [
      {
       "metadata": {},
       "output_type": "pyout",
       "prompt_number": 64,
       "text": [
        "array([[[42, 42, 42],\n",
        "        [42, 42, 42]],\n",
        "\n",
        "       [[ 7,  8,  9],\n",
        "        [10, 11, 12]]])"
       ]
      }
     ],
     "prompt_number": 64
    },
    {
     "cell_type": "code",
     "collapsed": false,
     "input": [
      "arr3d[0] = old_values # \uc2ac\ub77c\uc774\uc2a4\uc5d0 \ubc30\uc5f4 \ub300\uc785 \uac00\ub2a5(\ucc28\uc6d0\uc774 \ub9de\uc544\uc57c \ud568)\n",
      "arr3d"
     ],
     "language": "python",
     "metadata": {},
     "outputs": [
      {
       "metadata": {},
       "output_type": "pyout",
       "prompt_number": 65,
       "text": [
        "array([[[ 1,  2,  3],\n",
        "        [ 4,  5,  6]],\n",
        "\n",
        "       [[ 7,  8,  9],\n",
        "        [10, 11, 12]]])"
       ]
      }
     ],
     "prompt_number": 65
    },
    {
     "cell_type": "code",
     "collapsed": false,
     "input": [
      "arr3d[0] = np.array([1,2])"
     ],
     "language": "python",
     "metadata": {},
     "outputs": [
      {
       "ename": "ValueError",
       "evalue": "could not broadcast input array from shape (2) into shape (2,3)",
       "output_type": "pyerr",
       "traceback": [
        "\u001b[1;31m---------------------------------------------------------------------------\u001b[0m\n\u001b[1;31mValueError\u001b[0m                                Traceback (most recent call last)",
        "\u001b[1;32m<ipython-input-66-3afd55bb0abd>\u001b[0m in \u001b[0;36m<module>\u001b[1;34m()\u001b[0m\n\u001b[1;32m----> 1\u001b[1;33m \u001b[0marr3d\u001b[0m\u001b[1;33m[\u001b[0m\u001b[1;36m0\u001b[0m\u001b[1;33m]\u001b[0m \u001b[1;33m=\u001b[0m \u001b[0mnp\u001b[0m\u001b[1;33m.\u001b[0m\u001b[0marray\u001b[0m\u001b[1;33m(\u001b[0m\u001b[1;33m[\u001b[0m\u001b[1;36m1\u001b[0m\u001b[1;33m,\u001b[0m\u001b[1;36m2\u001b[0m\u001b[1;33m]\u001b[0m\u001b[1;33m)\u001b[0m\u001b[1;33m\u001b[0m\u001b[0m\n\u001b[0m",
        "\u001b[1;31mValueError\u001b[0m: could not broadcast input array from shape (2) into shape (2,3)"
       ]
      }
     ],
     "prompt_number": 66
    },
    {
     "cell_type": "heading",
     "level": 3,
     "metadata": {},
     "source": [
      "\uc2ac\ub77c\uc774\uc2a4 \uc0c9\uc778"
     ]
    },
    {
     "cell_type": "code",
     "collapsed": false,
     "input": [
      "arr[1:6]"
     ],
     "language": "python",
     "metadata": {},
     "outputs": [
      {
       "metadata": {},
       "output_type": "pyout",
       "prompt_number": 67,
       "text": [
        "array([ 1,  2,  3,  4, 64])"
       ]
      }
     ],
     "prompt_number": 67
    },
    {
     "cell_type": "code",
     "collapsed": false,
     "input": [
      "arr2d"
     ],
     "language": "python",
     "metadata": {},
     "outputs": [
      {
       "metadata": {},
       "output_type": "pyout",
       "prompt_number": 68,
       "text": [
        "array([[1, 2, 3],\n",
        "       [4, 5, 6],\n",
        "       [7, 8, 9]])"
       ]
      }
     ],
     "prompt_number": 68
    },
    {
     "cell_type": "code",
     "collapsed": false,
     "input": [
      "arr2d[:2]"
     ],
     "language": "python",
     "metadata": {},
     "outputs": [
      {
       "metadata": {},
       "output_type": "pyout",
       "prompt_number": 69,
       "text": [
        "array([[1, 2, 3],\n",
        "       [4, 5, 6]])"
       ]
      }
     ],
     "prompt_number": 69
    },
    {
     "cell_type": "code",
     "collapsed": false,
     "input": [
      "arr2d[:2, 1:]"
     ],
     "language": "python",
     "metadata": {},
     "outputs": [
      {
       "metadata": {},
       "output_type": "pyout",
       "prompt_number": 70,
       "text": [
        "array([[2, 3],\n",
        "       [5, 6]])"
       ]
      }
     ],
     "prompt_number": 70
    },
    {
     "cell_type": "code",
     "collapsed": false,
     "input": [
      "arr2d[1, :2]"
     ],
     "language": "python",
     "metadata": {},
     "outputs": [
      {
       "metadata": {},
       "output_type": "pyout",
       "prompt_number": 71,
       "text": [
        "array([4, 5])"
       ]
      }
     ],
     "prompt_number": 71
    },
    {
     "cell_type": "code",
     "collapsed": false,
     "input": [
      "# \ud2b9\uc815 \uc2ac\ub77c\uc774\uc2a4 \uad6c\ubd84\uc5d0 \uac12\uc744 \ub300\uc785\ud558\uba74 \uc120\ud0dd \uc601\uc5ed \uc804\uccb4\uc5d0 \uac12\uc774 \ud560\ub2f9\ub41c\ub2e4.\n",
      "arr2d[:2, 1:] = 0\n",
      "arr2d"
     ],
     "language": "python",
     "metadata": {},
     "outputs": [
      {
       "metadata": {},
       "output_type": "pyout",
       "prompt_number": 72,
       "text": [
        "array([[1, 0, 0],\n",
        "       [4, 0, 0],\n",
        "       [7, 8, 9]])"
       ]
      }
     ],
     "prompt_number": 72
    },
    {
     "cell_type": "heading",
     "level": 3,
     "metadata": {},
     "source": [
      "\ubc30\uc5f4 \uc804\uce58\uc640 \ucd95 \ubc14\uafb8\uae30"
     ]
    },
    {
     "cell_type": "code",
     "collapsed": false,
     "input": [
      "arr = np.arange(15)\n",
      "arr"
     ],
     "language": "python",
     "metadata": {},
     "outputs": [
      {
       "metadata": {},
       "output_type": "pyout",
       "prompt_number": 74,
       "text": [
        "array([ 0,  1,  2,  3,  4,  5,  6,  7,  8,  9, 10, 11, 12, 13, 14])"
       ]
      }
     ],
     "prompt_number": 74
    },
    {
     "cell_type": "code",
     "collapsed": false,
     "input": [
      "arr = arr.reshape((3, 5))\n",
      "arr"
     ],
     "language": "python",
     "metadata": {},
     "outputs": [
      {
       "metadata": {},
       "output_type": "pyout",
       "prompt_number": 76,
       "text": [
        "array([[ 0,  1,  2,  3,  4],\n",
        "       [ 5,  6,  7,  8,  9],\n",
        "       [10, 11, 12, 13, 14]])"
       ]
      }
     ],
     "prompt_number": 76
    },
    {
     "cell_type": "code",
     "collapsed": false,
     "input": [
      "# \uc804\uce58(transpose)\n",
      "arr.T"
     ],
     "language": "python",
     "metadata": {},
     "outputs": [
      {
       "metadata": {},
       "output_type": "pyout",
       "prompt_number": 77,
       "text": [
        "array([[ 0,  5, 10],\n",
        "       [ 1,  6, 11],\n",
        "       [ 2,  7, 12],\n",
        "       [ 3,  8, 13],\n",
        "       [ 4,  9, 14]])"
       ]
      }
     ],
     "prompt_number": 77
    },
    {
     "cell_type": "code",
     "collapsed": false,
     "input": [
      "arr.transpose()"
     ],
     "language": "python",
     "metadata": {},
     "outputs": [
      {
       "metadata": {},
       "output_type": "pyout",
       "prompt_number": 78,
       "text": [
        "array([[ 0,  5, 10],\n",
        "       [ 1,  6, 11],\n",
        "       [ 2,  7, 12],\n",
        "       [ 3,  8, 13],\n",
        "       [ 4,  9, 14]])"
       ]
      }
     ],
     "prompt_number": 78
    },
    {
     "cell_type": "code",
     "collapsed": false,
     "input": [
      "# \ud589\ub82c \ub0b4\uc801 \n",
      "arr = np.random.randn(6,3)\n",
      "arr"
     ],
     "language": "python",
     "metadata": {},
     "outputs": [
      {
       "metadata": {},
       "output_type": "pyout",
       "prompt_number": 79,
       "text": [
        "array([[-0.2076657 , -1.12094658,  0.61984314],\n",
        "       [ 0.94419704, -0.64767335,  0.8012834 ],\n",
        "       [ 0.53443576, -0.26279777, -1.34619569],\n",
        "       [-0.19775452, -0.8455633 , -0.3602344 ],\n",
        "       [-0.8157946 ,  0.33324178, -0.18393122],\n",
        "       [-1.38288628, -0.6405826 , -0.85682243]])"
       ]
      }
     ],
     "prompt_number": 79
    },
    {
     "cell_type": "code",
     "collapsed": false,
     "input": [
      "np.dot(arr.T, arr)"
     ],
     "language": "python",
     "metadata": {},
     "outputs": [
      {
       "metadata": {},
       "output_type": "pyout",
       "prompt_number": 81,
       "text": [
        "array([[ 3.83725683,  0.26201237,  1.31457021],\n",
        "       [ 0.26201237,  2.98143811, -0.06783077],\n",
        "       [ 1.31457021, -0.06783077,  3.73624765]])"
       ]
      }
     ],
     "prompt_number": 81
    },
    {
     "cell_type": "heading",
     "level": 3,
     "metadata": {},
     "source": [
      "\uc720\ub2c8\ubc84\uc124 \ud568\uc218"
     ]
    },
    {
     "cell_type": "code",
     "collapsed": false,
     "input": [
      "arr = np.arange(10)\n",
      "arr"
     ],
     "language": "python",
     "metadata": {},
     "outputs": [
      {
       "metadata": {},
       "output_type": "pyout",
       "prompt_number": 83,
       "text": [
        "array([0, 1, 2, 3, 4, 5, 6, 7, 8, 9])"
       ]
      }
     ],
     "prompt_number": 83
    },
    {
     "cell_type": "code",
     "collapsed": false,
     "input": [
      "# \ub2e8\ud56d \uc720\ub2c8\ubc84\uc124 \ud568\uc218\n",
      "np.sqrt(arr)"
     ],
     "language": "python",
     "metadata": {},
     "outputs": [
      {
       "metadata": {},
       "output_type": "pyout",
       "prompt_number": 84,
       "text": [
        "array([ 0.        ,  1.        ,  1.41421356,  1.73205081,  2.        ,\n",
        "        2.23606798,  2.44948974,  2.64575131,  2.82842712,  3.        ])"
       ]
      }
     ],
     "prompt_number": 84
    },
    {
     "cell_type": "code",
     "collapsed": false,
     "input": [
      "np.exp(arr)"
     ],
     "language": "python",
     "metadata": {},
     "outputs": [
      {
       "metadata": {},
       "output_type": "pyout",
       "prompt_number": 85,
       "text": [
        "array([  1.00000000e+00,   2.71828183e+00,   7.38905610e+00,\n",
        "         2.00855369e+01,   5.45981500e+01,   1.48413159e+02,\n",
        "         4.03428793e+02,   1.09663316e+03,   2.98095799e+03,\n",
        "         8.10308393e+03])"
       ]
      }
     ],
     "prompt_number": 85
    },
    {
     "cell_type": "code",
     "collapsed": false,
     "input": [
      "# \ub2e4\ud56d \uc720\ub2c8\ubc84\uc124 \ud568\uc218 - \uc778\uc790 \ub450 \uac1c\ub97c \ucde8\ud574\uc11c \ub2e8\uc77c \ubc30\uc5f4\uc744 \ubc18\ud658\ud558\ub294 \ud568\uc218\n",
      "x = randn(8)\n",
      "print x\n",
      "y = randn(8)\n",
      "print y\n",
      "\n",
      "np.maximum(x, y)  # element-wise maximum"
     ],
     "language": "python",
     "metadata": {},
     "outputs": [
      {
       "output_type": "stream",
       "stream": "stdout",
       "text": [
        "[ 0.0967883  -1.67521403  1.64327249  1.95540243  0.58640696 -0.54404345\n",
        "  0.51192415  0.59918442]\n",
        "[ 0.55136643 -1.62589557 -0.75345847 -0.38791841 -1.22037736 -1.11515184\n",
        "  0.55690104  0.11316851]\n"
       ]
      },
      {
       "metadata": {},
       "output_type": "pyout",
       "prompt_number": 86,
       "text": [
        "array([ 0.55136643, -1.62589557,  1.64327249,  1.95540243,  0.58640696,\n",
        "       -0.54404345,  0.55690104,  0.59918442])"
       ]
      }
     ],
     "prompt_number": 86
    },
    {
     "cell_type": "heading",
     "level": 3,
     "metadata": {},
     "source": [
      "\ubc30\uc5f4 \ub370\uc774\ud130 \uc870\uc791, \ud2b9\uc218\ucc98\ub9ac"
     ]
    },
    {
     "cell_type": "markdown",
     "metadata": {},
     "source": [
      "* \uc870\uac74\uc808 \ud45c\ud604\n",
      "* \uc218\ud559 \uba54\uc11c\ub4dc\uc640 \ud1b5\uacc4 \uba54\uc11c\ub4dc\n",
      "* \ubd88\ub9ac\uc5b8 \ubc30\uc5f4\uc744 \uc704\ud55c \uba54\uc11c\ub4dc\n",
      "* \uc815\ub82c\n",
      "* \uc9d1\ud569 \ud568\uc218"
     ]
    },
    {
     "cell_type": "heading",
     "level": 4,
     "metadata": {},
     "source": [
      "\uc870\uac74\uc808 \ud45c\ud604"
     ]
    },
    {
     "cell_type": "code",
     "collapsed": false,
     "input": [
      "# \ubc30\uc5f4\uc5f0\uc0b0 \uc870\uac74\uc808 \ud45c\ud604\ud558\uae30\n",
      "arr = np.random.randn(4, 4)\n",
      "arr"
     ],
     "language": "python",
     "metadata": {},
     "outputs": [
      {
       "metadata": {},
       "output_type": "pyout",
       "prompt_number": 91,
       "text": [
        "array([[-0.80226147,  1.67485488,  0.13617279,  1.33824164],\n",
        "       [-0.76138352,  0.18015578, -0.79917102,  0.69047915],\n",
        "       [-0.23689069,  1.62039386, -0.56544592,  0.18518925],\n",
        "       [-0.50333841, -0.2041948 , -0.35954173,  1.87880381]])"
       ]
      }
     ],
     "prompt_number": 91
    },
    {
     "cell_type": "code",
     "collapsed": false,
     "input": [
      "np.where( arr > 0, 2, -2)  # \uc591\uc218\ub294 \ubaa8\ub450 2\ub85c, \uc74c\uc218\ub294 \ubaa8\ub450 -1\ub85c \ubcc0\uacbd"
     ],
     "language": "python",
     "metadata": {},
     "outputs": [
      {
       "metadata": {},
       "output_type": "pyout",
       "prompt_number": 88,
       "text": [
        "array([[ 2,  2, -2, -2],\n",
        "       [ 2,  2,  2,  2],\n",
        "       [-2, -2,  2, -2],\n",
        "       [-2, -2, -2,  2]])"
       ]
      }
     ],
     "prompt_number": 88
    },
    {
     "cell_type": "code",
     "collapsed": false,
     "input": [
      "np.where( arr > 0, 2, arr) # \uc591\uc218\ub294 2\ub85c, \uc74c\uc218\ub294 \uc6d0\ub798 \uac12 \uadf8\ub300\ub85c"
     ],
     "language": "python",
     "metadata": {},
     "outputs": [
      {
       "metadata": {},
       "output_type": "pyout",
       "prompt_number": 90,
       "text": [
        "array([[ 2.        ,  2.        , -1.81220706, -0.05290094],\n",
        "       [ 2.        ,  2.        ,  2.        ,  2.        ],\n",
        "       [-0.08778373, -1.31906435,  2.        , -0.18864948],\n",
        "       [-1.01932823, -0.69414154, -1.32050374,  2.        ]])"
       ]
      }
     ],
     "prompt_number": 90
    },
    {
     "cell_type": "heading",
     "level": 4,
     "metadata": {},
     "source": [
      "\uc218\ud559 \uba54\uc11c\ub4dc\uc640 \ud1b5\uacc4 \uba54\uc11c\ub4dc"
     ]
    },
    {
     "cell_type": "code",
     "collapsed": false,
     "input": [
      "# randn (normally-distributed data)\n",
      "arr = np.random.randn(5, 4)\n",
      "arr"
     ],
     "language": "python",
     "metadata": {},
     "outputs": [
      {
       "metadata": {},
       "output_type": "pyout",
       "prompt_number": 94,
       "text": [
        "array([[-0.18872156, -0.00937502,  1.02528247, -0.2336773 ],\n",
        "       [ 0.13697903,  0.40498426, -0.02145654, -0.53837257],\n",
        "       [ 0.02580721,  0.22526115, -0.76233053,  0.26992687],\n",
        "       [ 0.07412079,  1.57429726, -0.19075057,  0.38820259],\n",
        "       [-0.10767344, -1.7242222 ,  0.716758  , -1.5607776 ]])"
       ]
      }
     ],
     "prompt_number": 94
    },
    {
     "cell_type": "code",
     "collapsed": false,
     "input": [
      "arr.mean()"
     ],
     "language": "python",
     "metadata": {},
     "outputs": [
      {
       "metadata": {},
       "output_type": "pyout",
       "prompt_number": 95,
       "text": [
        "-0.024786884534673759"
       ]
      }
     ],
     "prompt_number": 95
    },
    {
     "cell_type": "code",
     "collapsed": false,
     "input": [
      "np.mean(arr)"
     ],
     "language": "python",
     "metadata": {},
     "outputs": [
      {
       "metadata": {},
       "output_type": "pyout",
       "prompt_number": 96,
       "text": [
        "-0.024786884534673759"
       ]
      }
     ],
     "prompt_number": 96
    },
    {
     "cell_type": "code",
     "collapsed": false,
     "input": [
      "arr.sum()"
     ],
     "language": "python",
     "metadata": {},
     "outputs": [
      {
       "metadata": {},
       "output_type": "pyout",
       "prompt_number": 97,
       "text": [
        "-0.49573769069347517"
       ]
      }
     ],
     "prompt_number": 97
    },
    {
     "cell_type": "code",
     "collapsed": false,
     "input": [
      "# mean\uc774\ub098 sum\uac19\uc740 \ud568\uc218\ub294 axis \uc778\uc790\ub97c \ubc1b\uc544, \ud574\ub2f9 axis\uc5d0 \ub300\ud55c \ud1b5\uacc4\ub97c \uacc4\uc0b0\ud558\uace0 \ud55c \ucc28\uc218 \ub0ae\uc740 \ubc30\uc5f4\uc744 \ubc18\ud658\ud55c\ub2e4.\n",
      "arr.mean(axis=1)"
     ],
     "language": "python",
     "metadata": {},
     "outputs": [
      {
       "metadata": {},
       "output_type": "pyout",
       "prompt_number": 99,
       "text": [
        "array([ 0.14837715, -0.00446646, -0.06033383,  0.46146752, -0.66897881])"
       ]
      }
     ],
     "prompt_number": 99
    },
    {
     "cell_type": "code",
     "collapsed": false,
     "input": [
      "arr.sum(0)"
     ],
     "language": "python",
     "metadata": {},
     "outputs": [
      {
       "metadata": {},
       "output_type": "pyout",
       "prompt_number": 100,
       "text": [
        "array([-0.05948797,  0.47094545,  0.76750284, -1.67469801])"
       ]
      }
     ],
     "prompt_number": 100
    },
    {
     "cell_type": "code",
     "collapsed": false,
     "input": [
      "# cumsum\uacfc cumprod \uba54\uc11c\ub4dc\ub294 \uc911\uac04 \uacc4\uc0b0 \uac12\uc744 \ub2f4\uace0 \uc788\ub294 \ubc30\uc5f4\uc744 \ubc18\ud658\ud55c\ub2e4.\n",
      "arr = np.array([\n",
      "                      [0, 1, 2],\n",
      "                      [3, 4, 5],\n",
      "                      [6, 7, 8]\n",
      "                    ])\n",
      "arr"
     ],
     "language": "python",
     "metadata": {},
     "outputs": [
      {
       "metadata": {},
       "output_type": "pyout",
       "prompt_number": 102,
       "text": [
        "array([[0, 1, 2],\n",
        "       [3, 4, 5],\n",
        "       [6, 7, 8]])"
       ]
      }
     ],
     "prompt_number": 102
    },
    {
     "cell_type": "code",
     "collapsed": false,
     "input": [
      "arr.cumsum()"
     ],
     "language": "python",
     "metadata": {},
     "outputs": [
      {
       "metadata": {},
       "output_type": "pyout",
       "prompt_number": 103,
       "text": [
        "array([ 0,  1,  3,  6, 10, 15, 21, 28, 36])"
       ]
      }
     ],
     "prompt_number": 103
    },
    {
     "cell_type": "code",
     "collapsed": false,
     "input": [
      "arr.cumsum(0)"
     ],
     "language": "python",
     "metadata": {},
     "outputs": [
      {
       "metadata": {},
       "output_type": "pyout",
       "prompt_number": 104,
       "text": [
        "array([[ 0,  1,  2],\n",
        "       [ 3,  5,  7],\n",
        "       [ 9, 12, 15]])"
       ]
      }
     ],
     "prompt_number": 104
    },
    {
     "cell_type": "code",
     "collapsed": false,
     "input": [
      "arr.cumprod(1)"
     ],
     "language": "python",
     "metadata": {},
     "outputs": [
      {
       "metadata": {},
       "output_type": "pyout",
       "prompt_number": 105,
       "text": [
        "array([[  0,   0,   0],\n",
        "       [  3,  12,  60],\n",
        "       [  6,  42, 336]])"
       ]
      }
     ],
     "prompt_number": 105
    },
    {
     "cell_type": "heading",
     "level": 4,
     "metadata": {},
     "source": [
      "\ubd88\ub9ac\uc5b8 \ubc30\uc5f4\uc744 \uc704\ud55c \uba54\uc11c\ub4dc"
     ]
    },
    {
     "cell_type": "code",
     "collapsed": false,
     "input": [
      "# \uc55e\uc758 \uba54\uc11c\ub4dc\uc5d0\uc11c \ubd88\ub9ac\uc5b8 \uac12\uc740 1(True), 0(False)\uc73c\ub85c \ucde8\uae09\ub41c\ub2e4. \ub530\ub77c\uc11c \ubd88\ub9ac\uc5b8 \ubc30\uc5f4\uc5d0 \ub300\ud55c sum \uba54\uc11c\ub4dc\ub97c \uc2e4\ud589\ud558\uba74 True\uc778 \uc6d0\uc18c\uc758 \uac1c\uc218\ub97c \ubc18\uc601\ud55c\ub2e4.\n",
      "arr = randn(100)\n",
      "\n",
      "(arr > 0).sum()  # \uc591\uc218\uc758 \uac1c\uc218"
     ],
     "language": "python",
     "metadata": {},
     "outputs": [
      {
       "metadata": {},
       "output_type": "pyout",
       "prompt_number": 106,
       "text": [
        "50"
       ]
      }
     ],
     "prompt_number": 106
    },
    {
     "cell_type": "code",
     "collapsed": false,
     "input": [
      "bools = np.array([False, False, True, False])\n",
      "\n",
      "bools.any()"
     ],
     "language": "python",
     "metadata": {},
     "outputs": [
      {
       "metadata": {},
       "output_type": "pyout",
       "prompt_number": 107,
       "text": [
        "True"
       ]
      }
     ],
     "prompt_number": 107
    },
    {
     "cell_type": "code",
     "collapsed": false,
     "input": [
      "bools.all()"
     ],
     "language": "python",
     "metadata": {},
     "outputs": [
      {
       "metadata": {},
       "output_type": "pyout",
       "prompt_number": 108,
       "text": [
        "False"
       ]
      }
     ],
     "prompt_number": 108
    },
    {
     "cell_type": "heading",
     "level": 4,
     "metadata": {},
     "source": [
      "\uc815\ub82c"
     ]
    },
    {
     "cell_type": "code",
     "collapsed": false,
     "input": [
      "arr = np.random.randn(8)\n",
      "arr"
     ],
     "language": "python",
     "metadata": {},
     "outputs": [
      {
       "metadata": {},
       "output_type": "pyout",
       "prompt_number": 109,
       "text": [
        "array([-0.74932004,  0.81202617, -0.94114978,  0.66775995, -0.21599847,\n",
        "       -0.53131814,  1.18755295, -0.17303755])"
       ]
      }
     ],
     "prompt_number": 109
    },
    {
     "cell_type": "code",
     "collapsed": false,
     "input": [
      "arr.sort()\n",
      "arr"
     ],
     "language": "python",
     "metadata": {},
     "outputs": [
      {
       "metadata": {},
       "output_type": "pyout",
       "prompt_number": 111,
       "text": [
        "array([-0.94114978, -0.74932004, -0.53131814, -0.21599847, -0.17303755,\n",
        "        0.66775995,  0.81202617,  1.18755295])"
       ]
      }
     ],
     "prompt_number": 111
    },
    {
     "cell_type": "code",
     "collapsed": false,
     "input": [
      "arr = randn(5, 3)\n",
      "arr"
     ],
     "language": "python",
     "metadata": {},
     "outputs": [
      {
       "metadata": {},
       "output_type": "pyout",
       "prompt_number": 112,
       "text": [
        "array([[-1.15729656,  0.53208771,  0.82451164],\n",
        "       [ 1.00494958, -0.37859057,  0.64012556],\n",
        "       [ 0.83376375, -1.45444792, -1.3117023 ],\n",
        "       [-0.96079299,  1.48396206, -0.76299037],\n",
        "       [-0.11370724, -0.56658628,  0.40526753]])"
       ]
      }
     ],
     "prompt_number": 112
    },
    {
     "cell_type": "code",
     "collapsed": false,
     "input": [
      "arr.sort(1)\n",
      "arr"
     ],
     "language": "python",
     "metadata": {},
     "outputs": [
      {
       "metadata": {},
       "output_type": "pyout",
       "prompt_number": 113,
       "text": [
        "array([[-1.15729656,  0.53208771,  0.82451164],\n",
        "       [-0.37859057,  0.64012556,  1.00494958],\n",
        "       [-1.45444792, -1.3117023 ,  0.83376375],\n",
        "       [-0.96079299, -0.76299037,  1.48396206],\n",
        "       [-0.56658628, -0.11370724,  0.40526753]])"
       ]
      }
     ],
     "prompt_number": 113
    },
    {
     "cell_type": "code",
     "collapsed": false,
     "input": [
      "large_arr = randn(1000)\n",
      "large_arr.sort()\n",
      "large_arr[int(0.05 * len(large_arr))]"
     ],
     "language": "python",
     "metadata": {},
     "outputs": [
      {
       "metadata": {},
       "output_type": "pyout",
       "prompt_number": 114,
       "text": [
        "-1.662950929232514"
       ]
      }
     ],
     "prompt_number": 114
    },
    {
     "cell_type": "heading",
     "level": 4,
     "metadata": {},
     "source": [
      "\uc9d1\ud569 \ud568\uc218"
     ]
    },
    {
     "cell_type": "code",
     "collapsed": false,
     "input": [
      "# \uc911\ubcf5 \uc81c\uac70 \n",
      "names = np.array(['Bob', 'Joe', 'Will', 'Bob', 'Will', 'Joe', 'Joe'])\n",
      "print names\n",
      "\n",
      "print np.unique(names)"
     ],
     "language": "python",
     "metadata": {},
     "outputs": [
      {
       "output_type": "stream",
       "stream": "stdout",
       "text": [
        "['Bob' 'Joe' 'Will' 'Bob' 'Will' 'Joe' 'Joe']\n",
        "['Bob' 'Joe' 'Will']\n"
       ]
      }
     ],
     "prompt_number": 116
    },
    {
     "cell_type": "code",
     "collapsed": false,
     "input": [
      "# 2\uac1c\uc758 \ubc30\uc5f4\uc744 \uc778\uc790\ub85c \ubc1b\uc544 \uccab \ubc88\uc9f8 \ubc30\uc5f4\uc758 \uac01 \uc6d0\uc18c\uac00 \ub450 \ubc88\uc9f8 \ubc30\uc5f4\uc758 \uc6d0\uc18c\ub97c \ud3ec\ud568\ud558\ub294\uc9c0\ub97c \ub098\ud0c0\ub0b4\ub294 \ubd88\ub9ac\uc5b8 \ubc30\uc5f4\uc744 \ubc18\ud658\n",
      "values = np.array([6, 0, 0, 3, 2, 5, 6])\n",
      "print values\n",
      "\n",
      "print [2, 3, 6]\n",
      "print np.in1d(values, [2, 3, 6])"
     ],
     "language": "python",
     "metadata": {},
     "outputs": [
      {
       "output_type": "stream",
       "stream": "stdout",
       "text": [
        "[6 0 0 3 2 5 6]\n",
        "[2, 3, 6]\n",
        "[ True False False  True  True False  True]\n"
       ]
      }
     ],
     "prompt_number": 118
    },
    {
     "cell_type": "heading",
     "level": 3,
     "metadata": {},
     "source": [
      "\ubc30\uc5f4 \uc7ac\ud615\uc131"
     ]
    },
    {
     "cell_type": "code",
     "collapsed": false,
     "input": [
      "arr = np.arange(8)\n",
      "arr"
     ],
     "language": "python",
     "metadata": {},
     "outputs": [
      {
       "metadata": {},
       "output_type": "pyout",
       "prompt_number": 131,
       "text": [
        "array([0, 1, 2, 3, 4, 5, 6, 7])"
       ]
      }
     ],
     "prompt_number": 131
    },
    {
     "cell_type": "code",
     "collapsed": false,
     "input": [
      "arr.reshape((4,2))"
     ],
     "language": "python",
     "metadata": {},
     "outputs": [
      {
       "metadata": {},
       "output_type": "pyout",
       "prompt_number": 132,
       "text": [
        "array([[0, 1],\n",
        "       [2, 3],\n",
        "       [4, 5],\n",
        "       [6, 7]])"
       ]
      }
     ],
     "prompt_number": 132
    },
    {
     "cell_type": "code",
     "collapsed": false,
     "input": [
      "# \ub2e4\ucc28\uc6d0 \uc7ac\ud615\uc131\ub3c4 \uac00\ub2a5\n",
      "arr.reshape((4,2)).reshape((2,4))"
     ],
     "language": "python",
     "metadata": {},
     "outputs": [
      {
       "metadata": {},
       "output_type": "pyout",
       "prompt_number": 134,
       "text": [
        "array([[0, 1, 2, 3],\n",
        "       [4, 5, 6, 7]])"
       ]
      }
     ],
     "prompt_number": 134
    },
    {
     "cell_type": "code",
     "collapsed": false,
     "input": [
      "# \ubc30\uc5f4\uc758 shape \uc18d\uc131\uc740 \ud29c\ud50c\uc774\uae30 \ub54c\ubb38\uc5d0 reshape \uba54\uc11c\ub4dc\uc5d0 \uc9c1\uc811 \ub118\uae30\ub294 \uac83\ub3c4 \uac00\ub2a5\n",
      "arr = np.arange(15)\n",
      "print arr\n",
      "\n",
      "other_arr = np.ones((3,5))\n",
      "print other_arr.shape\n",
      "\n",
      "print arr.reshape(other_arr.shape)"
     ],
     "language": "python",
     "metadata": {},
     "outputs": [
      {
       "output_type": "stream",
       "stream": "stdout",
       "text": [
        "[ 0  1  2  3  4  5  6  7  8  9 10 11 12 13 14]\n",
        "(3, 5)\n",
        "[[ 0  1  2  3  4]\n",
        " [ 5  6  7  8  9]\n",
        " [10 11 12 13 14]]\n"
       ]
      }
     ],
     "prompt_number": 137
    },
    {
     "cell_type": "code",
     "collapsed": false,
     "input": [
      "# \ud3c9\ud0c4\ud654 (\ub2e4\ucc28\uc6d0 \ubc30\uc5f4\uc744 \ub0ae\uc740 \ucc28\uc6d0\uc73c\ub85c \ubcc0\ud658\ud558\ub294 \uac83)\n",
      "arr = np.arange(15).reshape((5,3))\n",
      "print arr\n",
      "\n",
      "# \ud3c9\ud0c4\ud654 \uba54\uc11c\ub4dc- \uba54\ubaa8\ub9ac \ubcf5\uc0ac\ubcf8\uc740 \uc0dd\uc131\ud558\uc9c0 \uc54a\ub294\ub2e4.\n",
      "print arr.ravel()\n",
      "\n",
      "# \ud3c9\ud0c4\ud654 \uba54\uc11c\ub4dc - \uba54\ubaa8\ub9ac \ubcf5\uc0ac\ubcf8\uc744 \ubc18\ud658\ud55c\ub2e4.\n",
      "print arr.flatten()"
     ],
     "language": "python",
     "metadata": {},
     "outputs": [
      {
       "output_type": "stream",
       "stream": "stdout",
       "text": [
        "[[ 0  1  2]\n",
        " [ 3  4  5]\n",
        " [ 6  7  8]\n",
        " [ 9 10 11]\n",
        " [12 13 14]]\n",
        "[ 0  1  2  3  4  5  6  7  8  9 10 11 12 13 14]\n",
        "[ 0  1  2  3  4  5  6  7  8  9 10 11 12 13 14]\n"
       ]
      }
     ],
     "prompt_number": 139
    },
    {
     "cell_type": "heading",
     "level": 3,
     "metadata": {},
     "source": [
      "\ubc30\uc5f4 \uc774\uc5b4\ubd99\uc774\uace0 \ub098\ub204\uae30, \ubc18\ubcf5"
     ]
    },
    {
     "cell_type": "markdown",
     "metadata": {},
     "source": [
      "* concatenate\n",
      "* vstack, hstack\n",
      "* split\n",
      "* repeat, tile"
     ]
    },
    {
     "cell_type": "heading",
     "level": 4,
     "metadata": {},
     "source": [
      "concatenate"
     ]
    },
    {
     "cell_type": "code",
     "collapsed": false,
     "input": [
      "arr1 = np.array([[1, 2, 3], [4, 5, 6]])\n",
      "arr1"
     ],
     "language": "python",
     "metadata": {},
     "outputs": [
      {
       "metadata": {},
       "output_type": "pyout",
       "prompt_number": 143,
       "text": [
        "array([[1, 2, 3],\n",
        "       [4, 5, 6]])"
       ]
      }
     ],
     "prompt_number": 143
    },
    {
     "cell_type": "code",
     "collapsed": false,
     "input": [
      "arr2 = np.array([[7, 8, 9], [10, 11, 12]])\n",
      "arr2"
     ],
     "language": "python",
     "metadata": {},
     "outputs": [
      {
       "metadata": {},
       "output_type": "pyout",
       "prompt_number": 144,
       "text": [
        "array([[ 7,  8,  9],\n",
        "       [10, 11, 12]])"
       ]
      }
     ],
     "prompt_number": 144
    },
    {
     "cell_type": "code",
     "collapsed": false,
     "input": [
      "# axis\uc5d0 \ub9de\ucdb0 \ud569\uce5c\ub2e4 0=\ub85c\uc6b0 \uc6b0\uc120, 1=\uceec\ub7fc \uc6b0\uc120\n",
      "np.concatenate([arr1, arr2], axis=0)"
     ],
     "language": "python",
     "metadata": {},
     "outputs": [
      {
       "metadata": {},
       "output_type": "pyout",
       "prompt_number": 145,
       "text": [
        "array([[ 1,  2,  3],\n",
        "       [ 4,  5,  6],\n",
        "       [ 7,  8,  9],\n",
        "       [10, 11, 12]])"
       ]
      }
     ],
     "prompt_number": 145
    },
    {
     "cell_type": "code",
     "collapsed": false,
     "input": [
      "np.concatenate([arr1, arr2], axis=1)"
     ],
     "language": "python",
     "metadata": {},
     "outputs": [
      {
       "metadata": {},
       "output_type": "pyout",
       "prompt_number": 146,
       "text": [
        "array([[ 1,  2,  3,  7,  8,  9],\n",
        "       [ 4,  5,  6, 10, 11, 12]])"
       ]
      }
     ],
     "prompt_number": 146
    },
    {
     "cell_type": "heading",
     "level": 4,
     "metadata": {},
     "source": [
      "hstack, vstack"
     ]
    },
    {
     "cell_type": "code",
     "collapsed": false,
     "input": [
      "np.hstack((arr1, arr2))"
     ],
     "language": "python",
     "metadata": {},
     "outputs": [
      {
       "metadata": {},
       "output_type": "pyout",
       "prompt_number": 148,
       "text": [
        "array([[ 1,  2,  3,  7,  8,  9],\n",
        "       [ 4,  5,  6, 10, 11, 12]])"
       ]
      }
     ],
     "prompt_number": 148
    },
    {
     "cell_type": "code",
     "collapsed": false,
     "input": [
      "np.vstack((arr1, arr2))"
     ],
     "language": "python",
     "metadata": {},
     "outputs": [
      {
       "metadata": {},
       "output_type": "pyout",
       "prompt_number": 149,
       "text": [
        "array([[ 1,  2,  3],\n",
        "       [ 4,  5,  6],\n",
        "       [ 7,  8,  9],\n",
        "       [10, 11, 12]])"
       ]
      }
     ],
     "prompt_number": 149
    },
    {
     "cell_type": "heading",
     "level": 4,
     "metadata": {},
     "source": [
      "split"
     ]
    },
    {
     "cell_type": "code",
     "collapsed": false,
     "input": [
      "arr = np.random.randn(5, 5)\n",
      "arr"
     ],
     "language": "python",
     "metadata": {},
     "outputs": [
      {
       "metadata": {},
       "output_type": "pyout",
       "prompt_number": 162,
       "text": [
        "array([[ 0.19825711,  0.4025671 , -0.29680281, -0.5809858 , -0.71124726],\n",
        "       [-0.28082703,  0.78906202,  0.1809855 , -0.21448575,  0.19936836],\n",
        "       [ 0.75287529, -1.98306869,  0.71859321,  0.85329769,  1.39097595],\n",
        "       [-0.66484265, -1.57560603,  0.31305821, -1.54443597,  2.19429065],\n",
        "       [-1.19152656, -1.22745472, -0.04127416, -1.24959588, -0.64485805]])"
       ]
      }
     ],
     "prompt_number": 162
    },
    {
     "cell_type": "code",
     "collapsed": false,
     "input": [
      "# \ud2b9\uc815 \ucd95\uc744 \ub530\ub77c \uc9c0\uc815\ub41c \uc704\uce58\ub97c \uae30\uc810\uc73c\ub85c \ubc30\uc5f4\uc744 \ub098\ub208\ub2e4.\n",
      "np.split(arr, [1, 3]) # \uae30\ubcf8\uc740 axis=0"
     ],
     "language": "python",
     "metadata": {},
     "outputs": [
      {
       "metadata": {},
       "output_type": "pyout",
       "prompt_number": 164,
       "text": [
        "[array([[ 0.19825711,  0.4025671 , -0.29680281, -0.5809858 , -0.71124726]]),\n",
        " array([[-0.28082703,  0.78906202,  0.1809855 , -0.21448575,  0.19936836],\n",
        "        [ 0.75287529, -1.98306869,  0.71859321,  0.85329769,  1.39097595]]),\n",
        " array([[-0.66484265, -1.57560603,  0.31305821, -1.54443597,  2.19429065],\n",
        "        [-1.19152656, -1.22745472, -0.04127416, -1.24959588, -0.64485805]])]"
       ]
      }
     ],
     "prompt_number": 164
    },
    {
     "cell_type": "code",
     "collapsed": false,
     "input": [
      "first, second, third = np.split(arr, [1, 3])"
     ],
     "language": "python",
     "metadata": {},
     "outputs": [],
     "prompt_number": 165
    },
    {
     "cell_type": "code",
     "collapsed": false,
     "input": [
      "first"
     ],
     "language": "python",
     "metadata": {},
     "outputs": [
      {
       "metadata": {},
       "output_type": "pyout",
       "prompt_number": 166,
       "text": [
        "array([[ 0.19825711,  0.4025671 , -0.29680281, -0.5809858 , -0.71124726]])"
       ]
      }
     ],
     "prompt_number": 166
    },
    {
     "cell_type": "code",
     "collapsed": false,
     "input": [
      "second"
     ],
     "language": "python",
     "metadata": {},
     "outputs": [
      {
       "metadata": {},
       "output_type": "pyout",
       "prompt_number": 167,
       "text": [
        "array([[-0.28082703,  0.78906202,  0.1809855 , -0.21448575,  0.19936836],\n",
        "       [ 0.75287529, -1.98306869,  0.71859321,  0.85329769,  1.39097595]])"
       ]
      }
     ],
     "prompt_number": 167
    },
    {
     "cell_type": "code",
     "collapsed": false,
     "input": [
      "third"
     ],
     "language": "python",
     "metadata": {},
     "outputs": [
      {
       "metadata": {},
       "output_type": "pyout",
       "prompt_number": 168,
       "text": [
        "array([[-0.66484265, -1.57560603,  0.31305821, -1.54443597,  2.19429065],\n",
        "       [-1.19152656, -1.22745472, -0.04127416, -1.24959588, -0.64485805]])"
       ]
      }
     ],
     "prompt_number": 168
    },
    {
     "cell_type": "code",
     "collapsed": false,
     "input": [
      "np.split(arr, [1, 3], axis=1) "
     ],
     "language": "python",
     "metadata": {},
     "outputs": [
      {
       "metadata": {},
       "output_type": "pyout",
       "prompt_number": 169,
       "text": [
        "[array([[ 0.19825711],\n",
        "        [-0.28082703],\n",
        "        [ 0.75287529],\n",
        "        [-0.66484265],\n",
        "        [-1.19152656]]), array([[ 0.4025671 , -0.29680281],\n",
        "        [ 0.78906202,  0.1809855 ],\n",
        "        [-1.98306869,  0.71859321],\n",
        "        [-1.57560603,  0.31305821],\n",
        "        [-1.22745472, -0.04127416]]), array([[-0.5809858 , -0.71124726],\n",
        "        [-0.21448575,  0.19936836],\n",
        "        [ 0.85329769,  1.39097595],\n",
        "        [-1.54443597,  2.19429065],\n",
        "        [-1.24959588, -0.64485805]])]"
       ]
      }
     ],
     "prompt_number": 169
    },
    {
     "cell_type": "heading",
     "level": 4,
     "metadata": {},
     "source": [
      "repeat, tile"
     ]
    },
    {
     "cell_type": "code",
     "collapsed": false,
     "input": [
      "# NumPy\ub97c \uc0ac\uc6a9\ud558\uba74 \ubc30\uc5f4\uc744 \ubc18\ubcf5\uc2dc\ud0a4\uac70\ub098 \uac19\uc740 \ubc30\uc5f4\uc744 \ubcf5\uc0ac\ud558\ub294 \uc77c\uc740 MATLAB \uac19\uc740 \uc720\uba85\ud55c \ub2e4\ub978 \ubc30\uc5f4 \ucc98\ub9ac \uc5b8\uc5b4\uc5d0 \ube44\ud558\uba74 \ud754\ud558\uc9c0 \uc54a\uc740 \uc77c\uc774\ub2e4. \n",
      "# \uc8fc\ub41c \uc774\uc720\ub294 \ube0c\ub85c\ub4dc\uce90\uc2a4\ud305\uc774 \ud6e8\uc52c \ub354 \uc801\ud569\ud558\uae30 \ub54c\ubb38\uc774\ub2e4."
     ],
     "language": "python",
     "metadata": {},
     "outputs": []
    },
    {
     "cell_type": "code",
     "collapsed": false,
     "input": [
      "# repeat\uc740 \ud55c \ubc30\uc5f4\uc758 \uac01 \uc6d0\uc18c\ub97c \uc6d0\ud558\ub294 \ub9cc\ud07c \ubcf5\uc81c\ud574\uc11c \ud070 \ubc30\uc5f4\uc744 \uc0dd\uc131\ud55c\ub2e4.\n",
      "arr = np.arange(3)\n",
      "print arr\n",
      "\n",
      "print arr.repeat(3)"
     ],
     "language": "python",
     "metadata": {},
     "outputs": [
      {
       "output_type": "stream",
       "stream": "stdout",
       "text": [
        "[0 1 2]\n",
        "[0 0 0 1 1 1 2 2 2]\n"
       ]
      }
     ],
     "prompt_number": 172
    },
    {
     "cell_type": "code",
     "collapsed": false,
     "input": [
      "# \uc815\uc218\ub97c \ub118\uae30\uba74 \uadf8 \uc218\ub9cc\ud07c \ubc18\ubcf5\ub41c\ub2e4. \n",
      "# \uc815\uc218\uc758 \ubc30\uc5f4\uc744 \ub118\uae34\ub2e4\uba74 \uac01 \uc6d0\uc18c\ub294 \ubc30\uc5f4\uc5d0 \ub2f4\uae34 \uc815\uc218\ub9cc\ud07c \ub2e4\ub974\uac8c \ubc18\ubcf5\ub41c\ub2e4.\n",
      "print arr\n",
      "\n",
      "print arr.repeat([2,3,4])"
     ],
     "language": "python",
     "metadata": {},
     "outputs": [
      {
       "output_type": "stream",
       "stream": "stdout",
       "text": [
        "[0 1 2]\n",
        "[0 0 1 1 1 2 2 2 2]\n"
       ]
      }
     ],
     "prompt_number": 173
    },
    {
     "cell_type": "code",
     "collapsed": false,
     "input": [
      "# \ub2e4\ucc28\uc6d0 \ubc30\uc5f4\uc758 \uacbd\uc6b0, \ud2b9\uc815 \ucd95\uc744 \ub530\ub77c \uac01 \uc6d0\uc18c\ub97c \ubc18\ubcf5\uc2dc\ud0a8\ub2e4.\n",
      "arr = randn(2, 2)\n",
      "arr"
     ],
     "language": "python",
     "metadata": {},
     "outputs": [
      {
       "metadata": {},
       "output_type": "pyout",
       "prompt_number": 175,
       "text": [
        "array([[ 0.24250646, -0.59386936],\n",
        "       [ 0.93459494, -0.53611508]])"
       ]
      }
     ],
     "prompt_number": 175
    },
    {
     "cell_type": "code",
     "collapsed": false,
     "input": [
      "arr.repeat(2, axis=0)"
     ],
     "language": "python",
     "metadata": {},
     "outputs": [
      {
       "metadata": {},
       "output_type": "pyout",
       "prompt_number": 176,
       "text": [
        "array([[ 0.24250646, -0.59386936],\n",
        "       [ 0.24250646, -0.59386936],\n",
        "       [ 0.93459494, -0.53611508],\n",
        "       [ 0.93459494, -0.53611508]])"
       ]
      }
     ],
     "prompt_number": 176
    },
    {
     "cell_type": "code",
     "collapsed": false,
     "input": [
      "arr.repeat(2, axis=1)"
     ],
     "language": "python",
     "metadata": {},
     "outputs": [
      {
       "metadata": {},
       "output_type": "pyout",
       "prompt_number": 177,
       "text": [
        "array([[ 0.24250646,  0.24250646, -0.59386936, -0.59386936],\n",
        "       [ 0.93459494,  0.93459494, -0.53611508, -0.53611508]])"
       ]
      }
     ],
     "prompt_number": 177
    },
    {
     "cell_type": "code",
     "collapsed": false,
     "input": [
      "# title \uba54\uc11c\ub4dc\ub294 \ucd95\uc744 \ub530\ub77c \ubc30\uc5f4\uc744 \ubcf5\uc0ac\ud574\uc11c \uc313\ub294\ub2e4. \n",
      "arr"
     ],
     "language": "python",
     "metadata": {},
     "outputs": [
      {
       "metadata": {},
       "output_type": "pyout",
       "prompt_number": 189,
       "text": [
        "array([[ 0.24250646, -0.59386936],\n",
        "       [ 0.93459494, -0.53611508]])"
       ]
      }
     ],
     "prompt_number": 189
    },
    {
     "cell_type": "code",
     "collapsed": false,
     "input": [
      "np.tile(arr, 2)"
     ],
     "language": "python",
     "metadata": {},
     "outputs": [
      {
       "metadata": {},
       "output_type": "pyout",
       "prompt_number": 190,
       "text": [
        "array([[ 0.24250646, -0.59386936,  0.24250646, -0.59386936],\n",
        "       [ 0.93459494, -0.53611508,  0.93459494, -0.53611508]])"
       ]
      }
     ],
     "prompt_number": 190
    },
    {
     "cell_type": "code",
     "collapsed": false,
     "input": [
      "np.tile(arr, (1, 2))"
     ],
     "language": "python",
     "metadata": {},
     "outputs": [
      {
       "metadata": {},
       "output_type": "pyout",
       "prompt_number": 193,
       "text": [
        "array([[ 0.24250646, -0.59386936,  0.24250646, -0.59386936],\n",
        "       [ 0.93459494, -0.53611508,  0.93459494, -0.53611508]])"
       ]
      }
     ],
     "prompt_number": 193
    },
    {
     "cell_type": "code",
     "collapsed": false,
     "input": [
      "np.tile(arr, (2, 1))"
     ],
     "language": "python",
     "metadata": {},
     "outputs": [
      {
       "metadata": {},
       "output_type": "pyout",
       "prompt_number": 191,
       "text": [
        "array([[ 0.24250646, -0.59386936],\n",
        "       [ 0.93459494, -0.53611508],\n",
        "       [ 0.24250646, -0.59386936],\n",
        "       [ 0.93459494, -0.53611508]])"
       ]
      }
     ],
     "prompt_number": 191
    },
    {
     "cell_type": "code",
     "collapsed": false,
     "input": [
      "np.tile(arr, (2, 2))"
     ],
     "language": "python",
     "metadata": {},
     "outputs": [
      {
       "metadata": {},
       "output_type": "pyout",
       "prompt_number": 186,
       "text": [
        "array([[ 0.24250646, -0.59386936,  0.24250646, -0.59386936],\n",
        "       [ 0.93459494, -0.53611508,  0.93459494, -0.53611508],\n",
        "       [ 0.24250646, -0.59386936,  0.24250646, -0.59386936],\n",
        "       [ 0.93459494, -0.53611508,  0.93459494, -0.53611508]])"
       ]
      }
     ],
     "prompt_number": 186
    },
    {
     "cell_type": "code",
     "collapsed": false,
     "input": [
      "np.tile(arr, (3, 2))"
     ],
     "language": "python",
     "metadata": {},
     "outputs": [
      {
       "metadata": {},
       "output_type": "pyout",
       "prompt_number": 192,
       "text": [
        "array([[ 0.24250646, -0.59386936,  0.24250646, -0.59386936],\n",
        "       [ 0.93459494, -0.53611508,  0.93459494, -0.53611508],\n",
        "       [ 0.24250646, -0.59386936,  0.24250646, -0.59386936],\n",
        "       [ 0.93459494, -0.53611508,  0.93459494, -0.53611508],\n",
        "       [ 0.24250646, -0.59386936,  0.24250646, -0.59386936],\n",
        "       [ 0.93459494, -0.53611508,  0.93459494, -0.53611508]])"
       ]
      }
     ],
     "prompt_number": 192
    },
    {
     "cell_type": "heading",
     "level": 3,
     "metadata": {},
     "source": [
      "\ube0c\ub85c\ub4dc\uce90\uc2a4\ud305"
     ]
    },
    {
     "cell_type": "markdown",
     "metadata": {},
     "source": [
      "* \ube0c\ub85c\ub4dc\uce90\uc2a4\ud305\uc740 \ub2e4\ub978 \ubaa8\uc591\uc758 \ubc30\uc5f4 \uac04 \uc0b0\uc220\uc5f0\uc0b0\uc744 \uc5b4\ub5bb\uac8c \uc218\ud589\ud574\uc57c \ud558\ub294\uc9c0 \uc124\uba85\ud55c\ub2e4.\n",
      "* \ud2b9\uc815 \uc2a4\uce7c\ub77c \uac12\uc774\ub098 \ubc30\uc5f4 \uc870\uac01\uc774 \ubc30\uc5f4\uc758 \uc804\uccb4 \uc6d0\uc18c\ub85c \uc804\ud30c(broadcat)\ub41c\ub2e4."
     ]
    },
    {
     "cell_type": "code",
     "collapsed": false,
     "input": [
      "# \ubc30\uc5f4\uacfc \uc2a4\uce7c\ub77c \uac12 \uc5f0\uc0b0\uc758 \uacbd\uc6b0\n",
      "arr = np.arange(5)\n",
      "arr"
     ],
     "language": "python",
     "metadata": {},
     "outputs": [
      {
       "metadata": {},
       "output_type": "pyout",
       "prompt_number": 194,
       "text": [
        "array([0, 1, 2, 3, 4])"
       ]
      }
     ],
     "prompt_number": 194
    },
    {
     "cell_type": "code",
     "collapsed": false,
     "input": [
      "# 4\uc758 \uacf1 \ube0c\ub85c\ub4dc\uce90\uc2a4\ud305\n",
      "arr * 4"
     ],
     "language": "python",
     "metadata": {},
     "outputs": [
      {
       "metadata": {},
       "output_type": "pyout",
       "prompt_number": 195,
       "text": [
        "array([ 0,  4,  8, 12, 16])"
       ]
      }
     ],
     "prompt_number": 195
    },
    {
     "cell_type": "code",
     "collapsed": false,
     "input": [
      "# \ubc30\uc5f4\uc758 \uac01 \uce7c\ub7fc\uc5d0\uc11c \uce7c\ub7fc\uc758 \ud3c9\uade0 \uac12\uc744 \ube7c\uae30\n",
      "arr = randn(4,3)\n",
      "arr"
     ],
     "language": "python",
     "metadata": {},
     "outputs": [
      {
       "metadata": {},
       "output_type": "pyout",
       "prompt_number": 196,
       "text": [
        "array([[ 0.41949176, -0.40404443, -0.40992978],\n",
        "       [-0.31286111,  1.24607613,  0.98488495],\n",
        "       [ 0.32951646,  0.04936468,  1.65439179],\n",
        "       [ 0.5054299 ,  1.63305808,  0.56269416]])"
       ]
      }
     ],
     "prompt_number": 196
    },
    {
     "cell_type": "code",
     "collapsed": false,
     "input": [
      "arr.mean(0)"
     ],
     "language": "python",
     "metadata": {},
     "outputs": [
      {
       "metadata": {},
       "output_type": "pyout",
       "prompt_number": 197,
       "text": [
        "array([ 0.23539425,  0.63111361,  0.69801028])"
       ]
      }
     ],
     "prompt_number": 197
    },
    {
     "cell_type": "code",
     "collapsed": false,
     "input": [
      "demeaned = arr - arr.mean(0)\n",
      "demeaned"
     ],
     "language": "python",
     "metadata": {},
     "outputs": [
      {
       "metadata": {},
       "output_type": "pyout",
       "prompt_number": 198,
       "text": [
        "array([[ 0.1840975 , -1.03515804, -1.10794006],\n",
        "       [-0.54825536,  0.61496251,  0.28687467],\n",
        "       [ 0.09412221, -0.58174894,  0.95638151],\n",
        "       [ 0.27003565,  1.00194446, -0.13531612]])"
       ]
      }
     ],
     "prompt_number": 198
    },
    {
     "cell_type": "markdown",
     "metadata": {},
     "source": [
      "<img src='./02_figures/02_fig.12.4.png'/>"
     ]
    },
    {
     "cell_type": "code",
     "collapsed": false,
     "input": [
      "# \uce7c\ub7fc\uc774 \uc544\ub2c8\ub77c \uac01 \ub85c\uc6b0\uc5d0\uc11c \ud3c9\uade0 \uac12 \ube7c\uae30\n",
      "arr"
     ],
     "language": "python",
     "metadata": {},
     "outputs": [
      {
       "metadata": {},
       "output_type": "pyout",
       "prompt_number": 199,
       "text": [
        "array([[ 0.41949176, -0.40404443, -0.40992978],\n",
        "       [-0.31286111,  1.24607613,  0.98488495],\n",
        "       [ 0.32951646,  0.04936468,  1.65439179],\n",
        "       [ 0.5054299 ,  1.63305808,  0.56269416]])"
       ]
      }
     ],
     "prompt_number": 199
    },
    {
     "cell_type": "code",
     "collapsed": false,
     "input": [
      "row_means = arr.mean(1)\n",
      "row_means"
     ],
     "language": "python",
     "metadata": {},
     "outputs": [
      {
       "metadata": {},
       "output_type": "pyout",
       "prompt_number": 200,
       "text": [
        "array([-0.13149415,  0.63936665,  0.67775764,  0.90039404])"
       ]
      }
     ],
     "prompt_number": 200
    },
    {
     "cell_type": "code",
     "collapsed": false,
     "input": [
      "# 4 x 3 \uc790\ub8cc\ud615\uc5d0\uc11c 1x4 \ubc30\uc5f4\uc744 \ube7c\ubbc0\ub85c \ucc28\uc6d0\uc774 \ub9de\uc9c0 \uc54a\ub2e4.\n",
      "arr - row_means"
     ],
     "language": "python",
     "metadata": {},
     "outputs": [
      {
       "ename": "ValueError",
       "evalue": "operands could not be broadcast together with shapes (4,3) (4,) ",
       "output_type": "pyerr",
       "traceback": [
        "\u001b[1;31m---------------------------------------------------------------------------\u001b[0m\n\u001b[1;31mValueError\u001b[0m                                Traceback (most recent call last)",
        "\u001b[1;32m<ipython-input-201-3d1314c7e700>\u001b[0m in \u001b[0;36m<module>\u001b[1;34m()\u001b[0m\n\u001b[1;32m----> 1\u001b[1;33m \u001b[0marr\u001b[0m \u001b[1;33m-\u001b[0m \u001b[0mrow_means\u001b[0m\u001b[1;33m\u001b[0m\u001b[0m\n\u001b[0m",
        "\u001b[1;31mValueError\u001b[0m: operands could not be broadcast together with shapes (4,3) (4,) "
       ]
      }
     ],
     "prompt_number": 201
    },
    {
     "cell_type": "code",
     "collapsed": false,
     "input": [
      "# 4 X 1 \ub85c \ubc14\uafd4\uc900\ub2e4.\n",
      "row_means.reshape((4,1))"
     ],
     "language": "python",
     "metadata": {},
     "outputs": [
      {
       "metadata": {},
       "output_type": "pyout",
       "prompt_number": 202,
       "text": [
        "array([[-0.13149415],\n",
        "       [ 0.63936665],\n",
        "       [ 0.67775764],\n",
        "       [ 0.90039404]])"
       ]
      }
     ],
     "prompt_number": 202
    },
    {
     "cell_type": "code",
     "collapsed": false,
     "input": [
      "arr - row_means.reshape((4,1))"
     ],
     "language": "python",
     "metadata": {},
     "outputs": [
      {
       "metadata": {},
       "output_type": "pyout",
       "prompt_number": 203,
       "text": [
        "array([[ 0.55098591, -0.27255028, -0.27843563],\n",
        "       [-0.95222776,  0.60670947,  0.34551829],\n",
        "       [-0.34824118, -0.62839297,  0.97663415],\n",
        "       [-0.39496415,  0.73266403, -0.33769989]])"
       ]
      }
     ],
     "prompt_number": 203
    },
    {
     "cell_type": "markdown",
     "metadata": {},
     "source": [
      "<img src='./02_figures/02_fig.12.5.png'/>"
     ]
    },
    {
     "cell_type": "heading",
     "level": 3,
     "metadata": {},
     "source": [
      "\ud30c\uc77c \uc785\ucd9c\ub825"
     ]
    },
    {
     "cell_type": "markdown",
     "metadata": {},
     "source": [
      "* \ubc14\uc774\ub108\ub9ac \ud615\uc2dd\uc73c\ub85c \ub514\uc2a4\ud06c \uc800\uc7a5\n",
      "* \ud30c\uc77c \uc77d\uae30, \uc4f0\uae30"
     ]
    },
    {
     "cell_type": "heading",
     "level": 4,
     "metadata": {},
     "source": [
      "\ubc14\uc774\ub108\ub9ac \ud615\uc2dd\uc73c\ub85c \ub514\uc2a4\ud06c \uc800\uc7a5"
     ]
    },
    {
     "cell_type": "code",
     "collapsed": false,
     "input": [
      "# \ubc30\uc5f4\uc740 \uae30\ubcf8\uc801\uc73c\ub85c \uc555\ucd95\ub418\uc9c0 \uc54a\uc740 raw \ubc14\uc774\ub108\ub9ac \ud615\uc2dd\uc758 .npy \ud30c\uc77c\ub85c \uc800\uc7a5\ub41c\ub2e4.\n",
      "arr = np.arange(10)\n",
      "\n",
      "# \uc800\uc7a5\n",
      "np.save('./02_data/some_array', arr)"
     ],
     "language": "python",
     "metadata": {},
     "outputs": [],
     "prompt_number": 215
    },
    {
     "cell_type": "code",
     "collapsed": false,
     "input": [
      "!ls ./02_data"
     ],
     "language": "python",
     "metadata": {},
     "outputs": [
      {
       "output_type": "stream",
       "stream": "stdout",
       "text": [
        "some_array.npy\r\n"
       ]
      }
     ],
     "prompt_number": 216
    },
    {
     "cell_type": "code",
     "collapsed": false,
     "input": [
      "!head ./02_data/some_array.npy"
     ],
     "language": "python",
     "metadata": {},
     "outputs": [
      {
       "output_type": "stream",
       "stream": "stdout",
       "text": [
        "\ufffdNUMPY\u0001\u0000F\u0000{'descr': '<i8', 'fortran_order': False, 'shape': (10,), }           \r\n",
        "\u0000\u0000\u0000\u0000\u0000\u0000\u0000\u0000\u0001\u0000\u0000\u0000\u0000\u0000\u0000\u0000\u0002\u0000\u0000\u0000\u0000\u0000\u0000\u0000\u0003\u0000\u0000\u0000\u0000\u0000\u0000\u0000\u0004\u0000\u0000\u0000\u0000\u0000\u0000\u0000\u0005\u0000\u0000\u0000\u0000\u0000\u0000\u0000\u0006\u0000\u0000\u0000\u0000\u0000\u0000\u0000\u0007\u0000\u0000\u0000\u0000\u0000\u0000\u0000\b\u0000\u0000\u0000\u0000\u0000\u0000\u0000\t\u0000\u0000\u0000\u0000\u0000\u0000\u0000"
       ]
      }
     ],
     "prompt_number": 217
    },
    {
     "cell_type": "code",
     "collapsed": false,
     "input": [
      "#  \ub85c\ub529\n",
      "np.load('./02_data/some_array.npy')"
     ],
     "language": "python",
     "metadata": {},
     "outputs": [
      {
       "metadata": {},
       "output_type": "pyout",
       "prompt_number": 218,
       "text": [
        "array([0, 1, 2, 3, 4, 5, 6, 7, 8, 9])"
       ]
      }
     ],
     "prompt_number": 218
    },
    {
     "cell_type": "code",
     "collapsed": false,
     "input": [
      "# \uc5ec\ub7ec\uac1c \ubc30\uc5f4 \uc555\ucd95 \uc800\uc7a5\n",
      "np.savez('./02_data/array_archive.npz', a=arr, b=arr)"
     ],
     "language": "python",
     "metadata": {},
     "outputs": [],
     "prompt_number": 220
    },
    {
     "cell_type": "code",
     "collapsed": false,
     "input": [
      "!ls ./02_data"
     ],
     "language": "python",
     "metadata": {},
     "outputs": [
      {
       "output_type": "stream",
       "stream": "stdout",
       "text": [
        "array_archive.npz  some_array.npy\r\n"
       ]
      }
     ],
     "prompt_number": 221
    },
    {
     "cell_type": "code",
     "collapsed": false,
     "input": [
      "# npz \ud30c\uc77c \ub85c\ub529\n",
      "arch = np.load('./02_data/array_archive.npz')\n",
      "print arch\n",
      "print arch.keys()\n",
      "\n",
      "arch['b']"
     ],
     "language": "python",
     "metadata": {},
     "outputs": [
      {
       "output_type": "stream",
       "stream": "stdout",
       "text": [
        "<numpy.lib.npyio.NpzFile object at 0x3b276d0>\n",
        "['a', 'b']\n"
       ]
      },
      {
       "metadata": {},
       "output_type": "pyout",
       "prompt_number": 225,
       "text": [
        "array([0, 1, 2, 3, 4, 5, 6, 7, 8, 9])"
       ]
      }
     ],
     "prompt_number": 225
    },
    {
     "cell_type": "heading",
     "level": 4,
     "metadata": {},
     "source": [
      "\ud30c\uc77c \uc77d\uae30, \uc4f0\uae30"
     ]
    },
    {
     "cell_type": "code",
     "collapsed": false,
     "input": [
      "!cat ./02_data/array_ex.txt"
     ],
     "language": "python",
     "metadata": {},
     "outputs": [
      {
       "output_type": "stream",
       "stream": "stdout",
       "text": [
        "0.580052,0.186730,1.04717,1.13441\r\n",
        "0.194163,-0.636917,-0.938659,0.124094\r\n",
        "-0.126410, 0.268607,-0.695724,0.047428"
       ]
      }
     ],
     "prompt_number": 226
    },
    {
     "cell_type": "code",
     "collapsed": false,
     "input": [
      "# \uc77d\uae30\n",
      "arr = np.loadtxt('./02_data/array_ex.txt', delimiter=',')\n",
      "arr"
     ],
     "language": "python",
     "metadata": {},
     "outputs": [
      {
       "metadata": {},
       "output_type": "pyout",
       "prompt_number": 228,
       "text": [
        "array([[ 0.580052,  0.18673 ,  1.04717 ,  1.13441 ],\n",
        "       [ 0.194163, -0.636917, -0.938659,  0.124094],\n",
        "       [-0.12641 ,  0.268607, -0.695724,  0.047428]])"
       ]
      }
     ],
     "prompt_number": 228
    },
    {
     "cell_type": "code",
     "collapsed": false,
     "input": [
      "arr + 1"
     ],
     "language": "python",
     "metadata": {},
     "outputs": [
      {
       "metadata": {},
       "output_type": "pyout",
       "prompt_number": 229,
       "text": [
        "array([[ 1.580052,  1.18673 ,  2.04717 ,  2.13441 ],\n",
        "       [ 1.194163,  0.363083,  0.061341,  1.124094],\n",
        "       [ 0.87359 ,  1.268607,  0.304276,  1.047428]])"
       ]
      }
     ],
     "prompt_number": 229
    },
    {
     "cell_type": "code",
     "collapsed": false,
     "input": [
      "# \uc4f0\uae30\n",
      "np.savetxt('./02_data/array_save_ex.txt', arr+1)"
     ],
     "language": "python",
     "metadata": {},
     "outputs": [],
     "prompt_number": 232
    },
    {
     "cell_type": "code",
     "collapsed": false,
     "input": [
      "!cat ./02_data/array_save_ex.txt"
     ],
     "language": "python",
     "metadata": {},
     "outputs": [
      {
       "output_type": "stream",
       "stream": "stdout",
       "text": [
        "1.580052000000000012e+00 1.186730000000000063e+00 2.047169999999999934e+00 2.134409999999999918e+00\r\n",
        "1.194163000000000086e+00 3.630830000000000446e-01 6.134099999999997888e-02 1.124093999999999927e+00\r\n",
        "8.735899999999999777e-01 1.268607000000000040e+00 3.042759999999999909e-01 1.047428000000000026e+00\r\n"
       ]
      }
     ],
     "prompt_number": 233
    },
    {
     "cell_type": "heading",
     "level": 2,
     "metadata": {},
     "source": [
      "NumPy\uc640 \uc120\ud615\ub300\uc218"
     ]
    },
    {
     "cell_type": "markdown",
     "metadata": {},
     "source": [
      "* \ud589\ub82c\uc758 \uae30\ubcf8 \uc815\uc758\n",
      "* \uae30\ubcf8 \ud589\ub82c \uc5f0\uc0b0\n",
      "* \ud589\ub82c\ub300\uc218\uc758 \uae30\ucd08"
     ]
    },
    {
     "cell_type": "heading",
     "level": 3,
     "metadata": {},
     "source": [
      "\ud589\ub82c\uc758 \uae30\ubcf8 \uc815\uc758"
     ]
    },
    {
     "cell_type": "markdown",
     "metadata": {},
     "source": [
      "* m x n \ud589\ub82c = m \ud589, n \uc5f4\n",
      "* n x n \ud589\ub82c = \uc815\ubc29\ud589\ub82c (square matrix)\n",
      "* 1 x 1 \ud589\ub82c = \uc2a4\uce7c\ub77c (scalar)\n",
      "* m x 1 \ud589\ub82c = \uc5f4\ubca1\ud130 (column vector)\n",
      "* 1 x n \ud589\ub82c = \ud589\ubca1\ud130 (row vector)\n",
      "* 0 \ud589\ub82c = (zero matrix) \ubaa8\ub4e0 \uc6d0\uc18c\uac00 0\n",
      "* I \ud589\ub82c = \ud56d\ub4f1\ud589\ub82c (identity matrix), \ub300\uac01\uc120 1, \ub098\uba38\uc9c0 0\n",
      "* D \ud589\ub82c = \ub300\uac01\ud589\ub82c (diagonal matrix), \ub300\uac01\uc120 \uc678\ub294 \ubaa8\ub450 0\uc778 \uc815\ubc29\ud589\ub82c\n",
      "* T \ud589\ub82c = \uc0bc\uac01\ud589\ub82c (triangular matrix), \ub300\uac01\uc120 \uae30\uc900\uc73c\ub85c \ud55c\ucabd\uc5d0\ub9cc \uac12\uc774 \uc788\ub294 \ud589\ub82c\n",
      "* S \ud589\ub82c = \ub300\uce6d\ud589\ub82c (symmetric matrix), \ub300\uac01\uc120 \uae30\uc900 \ub300\uce6d\n",
      "* P \ud589\ub82c = \uce58\ud658\ud589\ub82c (permutation matrix), \uac01\uac01\uc758 \ud589\uacfc\uc5f4 \uc785\uc7a5\uc5d0\uc11c 1\uc774 \ud558\ub098\uc774\uace0 \ub098\uba38\uc9c4 0\n",
      "* \ubd84\ud560\ud589\ub82c(partitioned matrix) = \uae30\uc874\uc758 \ud589\ub82c\uc740 \uc791\uc740\ub2e8\uc704 \ud589\ub82c\ub85c \ud45c\ud604\n",
      "* \ube14\ub85d\ub85d\ub300\uac01\ud589\ub82c(block diagonal matrix) = \uc8fc\ub300\uac01\uc120 \uc704\uce58\ud55c \uc815\uc0ac\uac01\ud615 \ubd80 \ud589\ub82c\ub4e4\uc744 \uc81c\uc678\ud558\uace0\ub294 \ub2e4\ub978 \ubd80 \ud589\ub82c\uc744 \ubaa8\ub450 0\ud589\ub82c"
     ]
    },
    {
     "cell_type": "code",
     "collapsed": false,
     "input": [
      "# \ub300\uac01\ud589\ub82c \n",
      "D = np.array([[1,0,0],\n",
      "              [0,2,0],\n",
      "              [0,0,3]])\n",
      "print D"
     ],
     "language": "python",
     "metadata": {},
     "outputs": [
      {
       "output_type": "stream",
       "stream": "stdout",
       "text": [
        "[[1 0 0]\n",
        " [0 2 0]\n",
        " [0 0 3]]\n"
       ]
      }
     ],
     "prompt_number": 247
    },
    {
     "cell_type": "code",
     "collapsed": false,
     "input": [
      "# \uc0bc\uac01\ud589\ub82c\n",
      "T = np.array([[1,2,3],\n",
      "              [0,3,4],\n",
      "              [0,0,5]])\n",
      "print T"
     ],
     "language": "python",
     "metadata": {},
     "outputs": [
      {
       "output_type": "stream",
       "stream": "stdout",
       "text": [
        "[[1 2 3]\n",
        " [0 3 4]\n",
        " [0 0 5]]\n"
       ]
      }
     ],
     "prompt_number": 248
    },
    {
     "cell_type": "code",
     "collapsed": false,
     "input": [
      "# \ub300\uce6d\ud589\ub82c\n",
      "S = np.array([[1,2,3],\n",
      "              [2,1,2],\n",
      "              [3,2,1]])\n",
      "print S"
     ],
     "language": "python",
     "metadata": {},
     "outputs": [
      {
       "output_type": "stream",
       "stream": "stdout",
       "text": [
        "[[1 2 3]\n",
        " [2 1 2]\n",
        " [3 2 1]]\n"
       ]
      }
     ],
     "prompt_number": 249
    },
    {
     "cell_type": "code",
     "collapsed": false,
     "input": [
      "# \uce58\ud658\ud589\ub82c \n",
      "P = np.array([[0,1,0],\n",
      "              [1,0,0],\n",
      "              [0,0,1]])\n",
      "print P"
     ],
     "language": "python",
     "metadata": {},
     "outputs": [
      {
       "output_type": "stream",
       "stream": "stdout",
       "text": [
        "[[0 1 0]\n",
        " [1 0 0]\n",
        " [0 0 1]]\n"
       ]
      }
     ],
     "prompt_number": 250
    },
    {
     "cell_type": "code",
     "collapsed": false,
     "input": [
      "# \ubd84\ud560\ud589\ub82c\n",
      "p11 = np.array([[1,2],\n",
      "                [3,4]])\n",
      "print p11\n",
      "\n",
      "p12 = np.array([[5],\n",
      "                [6]])\n",
      "print p12\n",
      "\n",
      "p21 = np.array([[7,8]])\n",
      "print  p21\n",
      "\n",
      "p22 = np.array([[9]])\n",
      "print p22\n",
      "\n",
      "p1 = np.column_stack([p11, p12])\n",
      "p2 = np.column_stack([p21, p22])\n",
      "p = np.vstack([p1,p2])\n",
      "print p"
     ],
     "language": "python",
     "metadata": {},
     "outputs": [
      {
       "output_type": "stream",
       "stream": "stdout",
       "text": [
        "[[1 2]\n",
        " [3 4]]\n",
        "[[5]\n",
        " [6]]\n",
        "[[7 8]]\n",
        "[[9]]\n",
        "[[1 2 5]\n",
        " [3 4 6]\n",
        " [7 8 9]]\n"
       ]
      }
     ],
     "prompt_number": 251
    },
    {
     "cell_type": "code",
     "collapsed": false,
     "input": [
      "# \ube14\ub85d\ub85d\ub300\uac01\ud589\ub82c(block diagonal matrix)\n",
      "b = np.array([[1,2,0,0,0],\n",
      "              [3,4,0,0,0],\n",
      "              [0,0,5,0,0],\n",
      "              [0,0,0,6,7],\n",
      "              [0,0,0,8,9]])\n",
      "print b"
     ],
     "language": "python",
     "metadata": {},
     "outputs": [
      {
       "output_type": "stream",
       "stream": "stdout",
       "text": [
        "[[1 2 0 0 0]\n",
        " [3 4 0 0 0]\n",
        " [0 0 5 0 0]\n",
        " [0 0 0 6 7]\n",
        " [0 0 0 8 9]]\n"
       ]
      }
     ],
     "prompt_number": 252
    },
    {
     "cell_type": "heading",
     "level": 3,
     "metadata": {},
     "source": [
      "\uae30\ubcf8  \ud589\ub82c \uc5f0\uc0b0"
     ]
    },
    {
     "cell_type": "markdown",
     "metadata": {},
     "source": [
      "* \uc804\uce58\n",
      "* \ub3d9\ub4f1\n",
      "* \ud589\ub82c \ub367\uc148,\ube84\uc148\n",
      "* \ud589\ub82c \uacf1\uc148\n",
      "*  \ud06c\ub85c\ub125\ud130 \uacf1"
     ]
    },
    {
     "cell_type": "code",
     "collapsed": false,
     "input": [
      "A = np.array([[1,2,3],\n",
      "              [4,5,6],\n",
      "              [7,8,9]])\n",
      "print A\n",
      "\n",
      "print np.transpose(A)"
     ],
     "language": "python",
     "metadata": {},
     "outputs": [
      {
       "output_type": "stream",
       "stream": "stdout",
       "text": [
        "[[1 2 3]\n",
        " [4 5 6]\n",
        " [7 8 9]]\n",
        "[[1 4 7]\n",
        " [2 5 8]\n",
        " [3 6 9]]\n"
       ]
      }
     ],
     "prompt_number": 254
    },
    {
     "cell_type": "code",
     "collapsed": false,
     "input": [
      "# \ub3d9\ub4f1\n",
      "np.equal(A,A)"
     ],
     "language": "python",
     "metadata": {},
     "outputs": [
      {
       "metadata": {},
       "output_type": "pyout",
       "prompt_number": 255,
       "text": [
        "array([[ True,  True,  True],\n",
        "       [ True,  True,  True],\n",
        "       [ True,  True,  True]], dtype=bool)"
       ]
      }
     ],
     "prompt_number": 255
    },
    {
     "cell_type": "code",
     "collapsed": false,
     "input": [
      "# \ud589\ub82c \ub367\uc148, \ube84\uc148\n",
      "print A\n",
      "\n",
      "B = np.array([[1,1,1],\n",
      "              [1,1,1],\n",
      "              [1,1,1]])\n",
      "print B\n",
      "\n",
      "print A + B"
     ],
     "language": "python",
     "metadata": {},
     "outputs": [
      {
       "output_type": "stream",
       "stream": "stdout",
       "text": [
        "[[1 2 3]\n",
        " [4 5 6]\n",
        " [7 8 9]]\n",
        "[[1 1 1]\n",
        " [1 1 1]\n",
        " [1 1 1]]\n",
        "[[ 2  3  4]\n",
        " [ 5  6  7]\n",
        " [ 8  9 10]]\n"
       ]
      }
     ],
     "prompt_number": 256
    },
    {
     "cell_type": "code",
     "collapsed": false,
     "input": [
      "print A - B"
     ],
     "language": "python",
     "metadata": {},
     "outputs": [
      {
       "output_type": "stream",
       "stream": "stdout",
       "text": [
        "[[0 1 2]\n",
        " [3 4 5]\n",
        " [6 7 8]]\n"
       ]
      }
     ],
     "prompt_number": 257
    },
    {
     "cell_type": "code",
     "collapsed": false,
     "input": [
      "# \ud589\ub82c \uacf1\n",
      "\n",
      "print A\n",
      "\n",
      "# \uc2a4\uce7c\ub77c \uacf1\n",
      "print A*2"
     ],
     "language": "python",
     "metadata": {},
     "outputs": [
      {
       "output_type": "stream",
       "stream": "stdout",
       "text": [
        "[[1 2 3]\n",
        " [4 5 6]\n",
        " [7 8 9]]\n",
        "[[ 2  4  6]\n",
        " [ 8 10 12]\n",
        " [14 16 18]]\n"
       ]
      }
     ],
     "prompt_number": 258
    },
    {
     "cell_type": "code",
     "collapsed": false,
     "input": [
      "print A\n",
      "\n",
      "C = np.array([[2],[2],[2]])\n",
      "print C\n",
      "\n",
      "# \ud589\ub82c\uacf1\n",
      "print np.dot(A,C)"
     ],
     "language": "python",
     "metadata": {},
     "outputs": [
      {
       "output_type": "stream",
       "stream": "stdout",
       "text": [
        "[[1 2 3]\n",
        " [4 5 6]\n",
        " [7 8 9]]\n",
        "[[2]\n",
        " [2]\n",
        " [2]]\n",
        "[[12]\n",
        " [30]\n",
        " [48]]\n"
       ]
      }
     ],
     "prompt_number": 261
    },
    {
     "cell_type": "code",
     "collapsed": false,
     "input": [
      "# \ud06c\ub85c\ub125\ud130 \uacf1\n",
      "print A\n",
      "print C\n",
      "\n",
      "print np.kron(A, C)"
     ],
     "language": "python",
     "metadata": {},
     "outputs": [
      {
       "output_type": "stream",
       "stream": "stdout",
       "text": [
        "[[1 2 3]\n",
        " [4 5 6]\n",
        " [7 8 9]]\n",
        "[[2]\n",
        " [2]\n",
        " [2]]\n",
        "[[ 2  4  6]\n",
        " [ 2  4  6]\n",
        " [ 2  4  6]\n",
        " [ 8 10 12]\n",
        " [ 8 10 12]\n",
        " [ 8 10 12]\n",
        " [14 16 18]\n",
        " [14 16 18]\n",
        " [14 16 18]]\n"
       ]
      }
     ],
     "prompt_number": 262
    },
    {
     "cell_type": "heading",
     "level": 3,
     "metadata": {},
     "source": [
      "\ud589\ub82c \ub300\uc218\uc758 \uae30\ucd08"
     ]
    },
    {
     "cell_type": "markdown",
     "metadata": {},
     "source": [
      "* \ub300\uac01\ud569 (trace)\n",
      "* \ud589\ub82c\uc2dd (deteminant)\n",
      "* \uacc4\uc218 (rank) \uc640 \ube44\ud2b9\uc774\ud589\ub82c (nonsingular matrix)\n",
      "* \uc120\ud615\uc885\uc18d (linear dependence)\n",
      "* \uc5ed\ud589\ub82c (inverse matrix)\n",
      "* \uc120\ud615\ub4f1\uc2dd\uccb4\uacc4 \ud574\n",
      "* \uace0\uc720\uac12(eigenvalue) \uacfc \uace0\uc720\ubca1\ud130(eigenvector)\n",
      "* \uc9c1\uad50\ud589\ub82c\uacfc \ub300\uce6d\ud589\ub82c\uc758 \ub300\uac01\ud654\n",
      "* \ud655\ub960\ubcc0\uc218(random variables) \uc9d1\ud569\uc758 \uacf5\ubd84\uc0b0\ud589\ub82c (covariance matrix)\n",
      "* \ubca1\ud130 \ubc0f \ud589\ub82c norm"
     ]
    },
    {
     "cell_type": "heading",
     "level": 4,
     "metadata": {},
     "source": [
      "\ub300\uac01\ud569"
     ]
    },
    {
     "cell_type": "markdown",
     "metadata": {},
     "source": [
      "**\ub300\uac01\ud569\uc758 \uc18d\uc131**\n",
      "\n",
      "> tr(kA) = k * tr(A)\n",
      "\n",
      "> tr(A + B) = tr(A) + tr(B)\n",
      "\n",
      "> tr(A') = tr(A)\n",
      "\n",
      "> tr(AB) = tr(BA)"
     ]
    },
    {
     "cell_type": "code",
     "collapsed": false,
     "input": [
      "print A\n",
      "np.trace(A)"
     ],
     "language": "python",
     "metadata": {},
     "outputs": [
      {
       "output_type": "stream",
       "stream": "stdout",
       "text": [
        "[[1 2 3]\n",
        " [4 5 6]\n",
        " [7 8 9]]\n"
       ]
      },
      {
       "metadata": {},
       "output_type": "pyout",
       "prompt_number": 264,
       "text": [
        "15"
       ]
      }
     ],
     "prompt_number": 264
    },
    {
     "cell_type": "heading",
     "level": 4,
     "metadata": {},
     "source": [
      "\ud589\ub82c\uc2dd deteminant"
     ]
    },
    {
     "cell_type": "markdown",
     "metadata": {},
     "source": [
      "\ud589\ub82c A \uc758 deteminant = |A| \ub85c \ud45c\uc2dc\n",
      "\n",
      "**\ud589\ub82c\uc2dd\uacfc \uad00\ub828 \uc18d\uc131**\n",
      "\n",
      "> |A'| = |A|\n",
      "\n",
      "> |AB| = |A||B|\n",
      "\n",
      "> \ub300\uac01\ud589\ub82c A \uc774\uba74, |A| = a<sub>11</sub>a<sub>22</sub>  ...  a<sub>mm</sub> \uc774\ub2e4. (\ub300\uac01\uc758 \uacf1)\n",
      "\n",
      "> \ud55c \ud589\uc774\ub77c\ub3c4 \ubaa8\ub450 0 \uc774\uba74 |A| = 0\n",
      "\n",
      "> \ub450 \ud589 \ub610\ub294 \ub450 \uc5f4\uc774 \ub3d9\ub4f1\ud558\uba74 |A| = 0\n",
      "\n",
      "> \ud55c \ud589\uc774\ub098 \ud55c \uc5f4\uc774 \ub2e4\ub978 \ud589\uc774\ub098 \uc5f4\uc758 \uacf1\uc774\uba74 |A| = 0"
     ]
    },
    {
     "cell_type": "code",
     "collapsed": false,
     "input": [
      "print np.linalg.det(A)\n",
      "round(np.linalg.det(A))"
     ],
     "language": "python",
     "metadata": {},
     "outputs": [
      {
       "output_type": "stream",
       "stream": "stdout",
       "text": [
        "-1.3325928902e-15\n"
       ]
      },
      {
       "metadata": {},
       "output_type": "pyout",
       "prompt_number": 272,
       "text": [
        "-0.0"
       ]
      }
     ],
     "prompt_number": 272
    },
    {
     "cell_type": "heading",
     "level": 4,
     "metadata": {},
     "source": [
      "\uacc4\uc218\uc640 \ube44\ud2b9\uc774\ud589\ub82c"
     ]
    },
    {
     "cell_type": "markdown",
     "metadata": {},
     "source": [
      "**\uacc4\uc218(rank)** \ub780 \ud589\ub82c\uc758 \uc120\ud615\ub3c5\ub9bd\uc778 \ud589(\ub610\ub294 \uc5f4) \uc758 '\ucd5c\ub300 \uc218'\ub97c \ub9d0\ud55c\ub2e4.\n",
      "\n",
      "\ub2e4\ub978 \ud589\uc774\ub098 \uc5f4\uc774 \uc5b4\ub5a4 \ud589\uc774\ub098 \uc5f4\uc758 \uc2a4\uce7c\ub77c \uacf1\uc73c\ub85c \ud45c\ud604 \uac00\ub2a5\ud558\uc9c0 \uc54a\uc740 \uac2f\uc218\uc774\ub2e4.\n",
      "\n",
      "<pre>\n",
      "S = [1 2]\n",
      "    [2 4]\n",
      "</pre>\n",
      "         \n",
      "\uc758 \uacc4\uc218\uc778 r(S) = 1 \uc774\ub2e4.\n",
      "\n",
      "2\ubc88\uc9f8 \ud589\uc740 1\ubc88\uc9f8 \ud589\uc758 *2 \uc73c\ub85c \uad6c\ud574\uc9c0\uae30 \ub54c\ubb38.\n",
      "\n",
      "|S| = 0 \uc774 \ub098\uc624\uba70, \ub530\ub77c\uc11c \ud2b9\uc774\ud589\ub82c\uc774\ub77c\uace0 \ud55c\ub2e4.\n",
      "\n",
      "<br/>\n",
      "\n",
      "\ub9cc\uc57d |S| = 0 \uc774\uba74,\n",
      "\n",
      "S \ub294 **\ud2b9\uc774\ud589\ub82c(singular matrix)** \uc774\uace0,\n",
      "\n",
      "|S| != 0 \uc774\uba74 **\ube44\ud2b9\uc774\ud589\ub82c (nonsingular matrix)** \uc774\ub77c\uace0 \ud55c\ub2e4."
     ]
    },
    {
     "cell_type": "code",
     "collapsed": false,
     "input": [
      "S = np.array([[1,2],[2,4]])\n",
      "print S\n",
      "\n",
      "print np.linalg.matrix_rank(S) # rank \uacc4\uc218\uac00 1 != 2"
     ],
     "language": "python",
     "metadata": {},
     "outputs": [
      {
       "output_type": "stream",
       "stream": "stdout",
       "text": [
        "[[1 2]\n",
        " [2 4]]\n",
        "1"
       ]
      },
      {
       "output_type": "stream",
       "stream": "stdout",
       "text": [
        "\n"
       ]
      }
     ],
     "prompt_number": 266
    },
    {
     "cell_type": "code",
     "collapsed": false,
     "input": [
      "np.linalg.det(S) # \ud589\ub82c\uc2dd = 0 => \ud2b9\uc774\ud589\ub82c\uc774\ub2e4."
     ],
     "language": "python",
     "metadata": {},
     "outputs": [
      {
       "metadata": {},
       "output_type": "pyout",
       "prompt_number": 267,
       "text": [
        "0.0"
       ]
      }
     ],
     "prompt_number": 267
    },
    {
     "cell_type": "heading",
     "level": 4,
     "metadata": {},
     "source": [
      "\uc120\ud615 \uc885\uc18d (linear dependence)"
     ]
    },
    {
     "cell_type": "markdown",
     "metadata": {},
     "source": [
      "n \uac1c\uc758 \ubca1\ud130{x1, x2, .. xn} \uacfc n \uac1c\uc758 \uc2a4\uce7c\ub77c {k1, k2, .. kn}\uc5d0\uc11c \n",
      "\n",
      "k1x1 + k2x2 + ... + knxn = 0 \uc744 \ucda9\uc871\ud558\ub294 \n",
      "\n",
      "0\uc774 \uc544\ub2cc \uc2a4\uce7c\ub77c \uc9d1\ud569\uc774 \uc788\ub2e4\uba74 \uc120\ud615\uc885\uc18d\uc774\ub2e4.\n",
      "\n",
      "\uc27d\uac8c \ub9d0\ud574,\n",
      "\n",
      "\uc5b4\ub5a4 \ubca1\ud130 x<sub>i</sub> \ub294 \ub2e4\ub978 \ubca1\ud130\uc758 \uc870\ud569\uc73c\ub85c \ub098\ud0c0\ub0bc \uc218 \uc788\uc744 \uacbd\uc6b0.\n",
      "\n",
      "\uadf8\ub807\uc9c0 \uc54a\uc740 \uacbd\uc6b0\ub97c \uc120\ud615\ub3c5\ub9bd (linear independence) \ub77c\uace0 \ud55c\ub2e4."
     ]
    },
    {
     "cell_type": "code",
     "collapsed": false,
     "input": [
      "X = np.array([[4,5,2,14],\n",
      "              [3,9,6,21],\n",
      "              [8,10,7,28],\n",
      "              [1,2,9,5]])\n",
      "\n",
      "# \uac01 \uc5f4\ubca1\ud130 \uc0dd\uc131\n",
      "x1 = X[:,[0]] \n",
      "x2 = X[:,[1]]\n",
      "x3 = X[:,[2]]\n",
      "x4 = X[:,[3]]\n",
      "print x1"
     ],
     "language": "python",
     "metadata": {},
     "outputs": [
      {
       "output_type": "stream",
       "stream": "stdout",
       "text": [
        "[[4]\n",
        " [3]\n",
        " [8]\n",
        " [1]]\n"
       ]
      }
     ],
     "prompt_number": 268
    },
    {
     "cell_type": "code",
     "collapsed": false,
     "input": [
      "# \uc120\ud615 \uc885\uc18d \uac80\uc99d \n",
      "x1 + 2*x2 + 0*x3 - x4 "
     ],
     "language": "python",
     "metadata": {},
     "outputs": [
      {
       "metadata": {},
       "output_type": "pyout",
       "prompt_number": 269,
       "text": [
        "array([[0],\n",
        "       [0],\n",
        "       [0],\n",
        "       [0]])"
       ]
      }
     ],
     "prompt_number": 269
    },
    {
     "cell_type": "code",
     "collapsed": false,
     "input": [
      "# determinant\ub85c \uac80\uc99d\n",
      "# \uc120\ud615\uc885\uc18d => det(X) = 0 => \ud2b9\uc774\ud589\ub82c singular matrix\n",
      "print np.linalg.det(X)\n",
      "round(np.linalg.det(X))"
     ],
     "language": "python",
     "metadata": {},
     "outputs": [
      {
       "output_type": "stream",
       "stream": "stdout",
       "text": [
        "5.24580379135e-15\n"
       ]
      },
      {
       "metadata": {},
       "output_type": "pyout",
       "prompt_number": 271,
       "text": [
        "0.0"
       ]
      }
     ],
     "prompt_number": 271
    },
    {
     "cell_type": "heading",
     "level": 4,
     "metadata": {},
     "source": [
      "\uc5ed\ud589\ub82c"
     ]
    },
    {
     "cell_type": "markdown",
     "metadata": {},
     "source": [
      "n x n \uc815\ubc29\ud589\ub82c A \uc758 \uc5ed\ud589\ub82c(inverse matrix)\uc740 \n",
      "\n",
      "A \uc758 \uc804\uc2b9 \ub610\ub294 \ud6c4\uc2b9(\uc55e\uc5d0\uc11c \uacf1, \ub4a4\uc5d0\uc11c \uacf1) \uc5d0 \uc758\ud574 \ud56d\ub4f1\ud589\ub82c I \ub97c \uc0dd\uc131\ud558\ub294 \ud589\ub82c\ub85c\uc11c,\n",
      "\n",
      "A<sup>-1</sup> \uc73c\ub85c \ud45c\uae30\ud55c\ub2e4.\n",
      "\n",
      "\uc5ed\ud589\ub82c\uc774 \uc874\uc7ac\ud558\uae30 \uc704\ud574\uc11c\ub294 **\ube44\ud2b9\uc774\ud589\ub82c** \uc774\uc5ec\uc57c \ud55c\ub2e4.\n",
      "\n",
      "\uc5ed\ud589\ub82c\uc744 \uad6c\ud558\ub294 \ubc29\ubc95.\n",
      "\n",
      "A<sup>-1</sup> = 1 / |A| * adjA\n",
      "\n",
      "\uc5ec\uc778\uc790\ud589\ub82c (cofactor matrix) \uc758 \uc804\uce58\ub41c \ud589\ub82c\uc774 \n",
      "\n",
      "\uc218\ubc18\ud589\ub82c (adjoint matrix) adjA \ub77c\uace0 \ud55c\ub2e4."
     ]
    },
    {
     "cell_type": "code",
     "collapsed": false,
     "input": [
      "A = np.array([[1,2],[3,4]])\n",
      "print A\n",
      "\n",
      "inv_A = np.linalg.inv(A)\n",
      "print inv_A"
     ],
     "language": "python",
     "metadata": {},
     "outputs": [
      {
       "output_type": "stream",
       "stream": "stdout",
       "text": [
        "[[1 2]\n",
        " [3 4]]\n",
        "[[-2.   1. ]\n",
        " [ 1.5 -0.5]]\n"
       ]
      }
     ],
     "prompt_number": 274
    },
    {
     "cell_type": "code",
     "collapsed": false,
     "input": [
      "# \ud56d\ub4f1 \ud589\ub82c\uc774 \ub418\ub294\uc9c0 \ud655\uc778\n",
      "print np.dot(A, inv_A)\n",
      "print np.round(np.dot(A, inv_A))"
     ],
     "language": "python",
     "metadata": {},
     "outputs": [
      {
       "output_type": "stream",
       "stream": "stdout",
       "text": [
        "[[ 1.  0.]\n",
        " [ 0.  1.]]\n",
        "[[ 1.  0.]\n",
        " [ 0.  1.]]\n"
       ]
      }
     ],
     "prompt_number": 278
    },
    {
     "cell_type": "heading",
     "level": 4,
     "metadata": {},
     "source": [
      "\uc120\ud615\ub4f1\uc2dd\uccb4\uacc4\uc758 \ud574"
     ]
    },
    {
     "cell_type": "markdown",
     "metadata": {},
     "source": [
      "linear equation system \uc740 \ud45c\ud604\ud615\ud0dc \n",
      "\n",
      "> Ax = h\n",
      "\n",
      "**\uacc4\uc218\ud589\ub82c(coefficient matrix) A** \ub294 m x n \uc774\uace0,\n",
      "\n",
      "**\ubcc0\uc218\ud589\ub82c x**\ub294 n x 1 \uc774\uace0,\n",
      "\n",
      "**\uc0c1\uc218\ud589\ub82c h**\ub294 m x 1 \ud615\ud0dc\ub97c \uac16\ub294\ub2e4.\n",
      "\n",
      "> x = A<sup>-1</sup>h\n",
      "\n",
      "\ub9cc\uc57d A \uac00 \uc815\ubc29\ud589\ub82c\uc774\uace0 \ube44\ud2b9\uc774\ud589\ub82c\uc774\uba74, \uc5ed\ud589\ub82c\uc774 \uc874\uc7ac\ud558\uace0, \ub530\ub77c\uc11c \ud574\ub294 \uc720\uc77c\ud558\ub2e4."
     ]
    },
    {
     "cell_type": "code",
     "collapsed": false,
     "input": [
      "A = np.array([[3,5],[4,2]])\n",
      "print A\n",
      "\n",
      "h = np.array([[13],[8]])\n",
      "print h"
     ],
     "language": "python",
     "metadata": {},
     "outputs": [
      {
       "output_type": "stream",
       "stream": "stdout",
       "text": [
        "[[3 5]\n",
        " [4 2]]\n",
        "[[13]\n",
        " [ 8]]\n"
       ]
      }
     ],
     "prompt_number": 279
    },
    {
     "cell_type": "code",
     "collapsed": false,
     "input": [
      "np.linalg.det(A) # \uc5ed\ud589\ub82c \uc874\uc7ac\uc5ec\ubd80 \ud655\uc778"
     ],
     "language": "python",
     "metadata": {},
     "outputs": [
      {
       "metadata": {},
       "output_type": "pyout",
       "prompt_number": 280,
       "text": [
        "-14.000000000000004"
       ]
      }
     ],
     "prompt_number": 280
    },
    {
     "cell_type": "code",
     "collapsed": false,
     "input": [
      "inv_A = np.linalg.inv(A) # \uc5ed\ud589\ub82c\n",
      "print inv_A"
     ],
     "language": "python",
     "metadata": {},
     "outputs": [
      {
       "output_type": "stream",
       "stream": "stdout",
       "text": [
        "[[-0.14285714  0.35714286]\n",
        " [ 0.28571429 -0.21428571]]\n"
       ]
      }
     ],
     "prompt_number": 281
    },
    {
     "cell_type": "code",
     "collapsed": false,
     "input": [
      "print np.dot(inv_A, h) # x = inv(A) * h"
     ],
     "language": "python",
     "metadata": {},
     "outputs": [
      {
       "output_type": "stream",
       "stream": "stdout",
       "text": [
        "[[ 1.]\n",
        " [ 2.]]\n"
       ]
      }
     ],
     "prompt_number": 282
    },
    {
     "cell_type": "heading",
     "level": 4,
     "metadata": {},
     "source": [
      "\uace0\uc720\uac12\uacfc \uace0\uc720\ubca1\ud130"
     ]
    },
    {
     "cell_type": "markdown",
     "metadata": {},
     "source": [
      "n * n \uc815\ubc29\ud589\ub82c A \uc5d0 \ub300\ud558\uc5ec Ax = Lx \uc778 \uc2a4\uce7c\ub77c \uac12 L, \ubca1\ud130 x (\uc601\ubca1\ud130 \uc544\ub2d8) \uac00 \uc874\uc7ac\ud560\ub54c, \n",
      "\n",
      "L \uc744 \uace0\uc720\uac12, x \ub97c \uace0\uc720\ubca1\ud130\ub77c\uace0 \ud55c\ub2e4.\n",
      "\n",
      "A \ub77c\ub294 \ud589\ub82c\uc744 \uc77c\uc885\uc758 \ubcc0\ud658\ud589\ub82c\uc774\ub77c\uace0 \uc0dd\uac01\ud560\ub54c, \n",
      "\n",
      "\uadf8 \ubcc0\ud658\uc5d0 \ub300\ud574\uc11c (\ud06c\uae30\ub9cc \ubcc0\ud654) \ubc29\ud5a5\uc774 \ubcc0\ud558\uc9c0 \uc54a\ub294 \ubca1\ud130\uc774\uae30 \ub54c\ubb38\uc5d0 \uace0\uc720\ubca1\ud130\ub77c\uace0 \ud55c\ub2e4.\n",
      "\n",
      "\uace0\uc720\uac12-\uace0\uc720\ubca1\ud130\uc758 \uac2f\uc218\ub294 0 ~ \ucd5c\ub300 n \uac1c\uc774\ub2e4.\n",
      "\n",
      "\uace0\uc720\ubca1\ud130\ub97c \uad6c\ud574\ubcf4\uc790. \n",
      "\n",
      "Ax = Lx\n",
      "\n",
      "Ax - Lx = 0\n",
      "\n",
      "(A - LI)x = 0 # \uc2a4\uce7c\ub77c\uac12 L \uc5d0 \ud56d\ub4f1\ud589\ub82c I \ub97c \uacf1\ud574 \ud589\ub82c\ube84\uc148\uc744 \ud55c\ub2e4.\n",
      "\n",
      "\uc5ec\uae30\uc11c (A - LI) \ud589\ub82c\uc774 \ube44\ud2b9\uc774\ud589\ub82c(\uc5ed\ud589\ub82c \uc874\uc7ac)\ud558\uba74,\n",
      "x = 0 \uc774\ub77c\ub294 \uc790\uba85\ud574(trivial solution) \ub9cc \uc874\uc7ac\ud558\uace0,\n",
      "\uace0\uc720\ubca1\ud130\ub294 \uc5c6\ub2e4.\n",
      "\n",
      "(A - LI) \uac00 \ud2b9\uc774\ud589\ub82c(\uc5ed\ud589\ub82cX) \uc774\uba74,\n",
      "x = 0 \uc774\uc678\uc758 \ube44\uc790\uba85\ud574(nontrivial solution) \uc744 \uac00\uc9c0\uac8c \ub41c\ub2e4.\n",
      "\n",
      "(A - LI) \uc758 \ud589\ub82c\uc2dd deteminant \uac12\uc774 0 \uc774 \ub418\ub3c4\ub85d \ud558\ub294 L \uac12\uc744 \uacc4\uc0b0\ud574\uc11c \ub098\uc624\ub294 \uac12\uc774 \uace0\uc720\uac12\uc774\ub2e4."
     ]
    },
    {
     "cell_type": "code",
     "collapsed": false,
     "input": [
      "print A\n",
      "\n",
      "v, m = np.linalg.eig(A)\n",
      "print v\n",
      "print m"
     ],
     "language": "python",
     "metadata": {},
     "outputs": [
      {
       "output_type": "stream",
       "stream": "stdout",
       "text": [
        "[[3 5]\n",
        " [4 2]]\n",
        "[ 7. -2.]\n",
        "[[ 0.78086881 -0.70710678]\n",
        " [ 0.62469505  0.70710678]]\n"
       ]
      }
     ],
     "prompt_number": 284
    },
    {
     "cell_type": "heading",
     "level": 4,
     "metadata": {},
     "source": [
      "\ud655\ub960\ubcc0\uc218 \uc9d1\ud569\uc758 \uacf5\ubd84\uc0b0\ud589\ub82c"
     ]
    },
    {
     "cell_type": "markdown",
     "metadata": {},
     "source": [
      "\ud3c9\uade0\uc774 0 \uc774\uace0, \ubd84\uc0b0\uc774 sigma<sup>2</sup> \uc778,\n",
      "\n",
      "\uc11c\ub85c \ub3c5\ub9bd\uc778 n\uac1c \ud655\ub960\ubcc0\uc218(random variables) \uc9d1\ud569 x' = [x<sub>1</sub> x<sub>2</sub> ... x<sub>n</sub>] \uc744 \uc815\uc758\ud558\uc790.\n",
      "\n",
      "\uc774\ub54c \ud655\ub960\ubcc0\uc758 \uae30\ub313\uac12\uc774 0 \uc774\ubbc0\ub85c, \n",
      "\n",
      "\uacf5\ubd84\uc0b0\ud589\ub82c(covariance matrix) \ub294 \ub2e4\uc74c\uacfc \uac19\ub2e4. \n",
      "\n",
      "C = E[xx']\n",
      "\n",
      "\uc5ec\uae30\uc11c E[x<sub>i</sub>x<sub>j</sub>] = {sigma<sup>2</sup>  i = j, 0  i != j} \uc774\ubbc0\ub85c, \uacf5\ubd84\uc0b0\ud589\ub82c\uc740 \ub2e4\uc74c\uacfc \uac19\ub2e4. \n",
      "\n",
      "<pre>\n",
      "C = I sigma<sup>2</sup> =  E [sigma<sup>2</sup> 0 ... 0]\n",
      "                  [0  sigma<sup>2</sup> ... 0]\n",
      "                  [...         ...]\n",
      "                  [0  0 ... sigma<sup>2</sup>]                            \n",
      "</pre>\n",
      "\n",
      "\ubb3c\ub860 \ud655\ub960\ubcc0\uc218\uc758 \uacf5\ubd84\uc0b0\uc774 Cov(x<sub>i</sub>, x<sub>j</sub>) = sigma<sub>ij</sub> \uc778 \uc77c\ubc18\uc801\uc778 \uacbd\uc6b0\uc758 \uacf5\ubd84\uc0b0\ud589\ub82c\uc740 \ub2e4\uc74c\uacfc \uac19\ub2e4. \n",
      "\n",
      "<pre>\n",
      "(a = sigma)\n",
      "\n",
      "C = [a<sub>11</sub> a<sub>12</sub> ... a<sub>1n</sub>]\n",
      "    [a<sub>21</sub> a<sub>22</sub> ... a<sub>2n</sub>]\n",
      "    [...    ...   ]\n",
      "    [a<sub>n1</sub> a<sub>n2</sub> ... a<sub>nn</sub>]\n",
      "</pre>\n",
      "\n",
      "\uacf5\ubd84\uc0b0\ud589\ub82c\uc740 cov \ud568\uc218\ub97c \uc0ac\uc6a9\ud55c\ub2e4."
     ]
    },
    {
     "cell_type": "code",
     "collapsed": false,
     "input": [
      "# \ub450 \uac1c\uc758 \ubcc0\uc218 , x_0 \uacfc x_1\uc774 \uc644\uc804\ud788 \uc0c1\uad00\uad00\uacc4\uac00 \uc788\uace0, \ubc29\ud5a5\uc740 \ubc18\ub300\ub77c\uace0 \ud558\uc790(\ubd80\uc801\uc0c1\uad00)\n",
      "x_0 = np.array([0, 1, 2])\n",
      "x_1 = np.array([2, 1, 0])\n",
      "X = np.vstack((x_0, x_1))\n",
      "print X"
     ],
     "language": "python",
     "metadata": {},
     "outputs": [
      {
       "output_type": "stream",
       "stream": "stdout",
       "text": [
        "[[0 1 2]\n",
        " [2 1 0]]\n"
       ]
      }
     ],
     "prompt_number": 291
    },
    {
     "cell_type": "code",
     "collapsed": false,
     "input": [
      "# x_0\uc774 \uc99d\uac00\ud560 \ub54c, x_1\uc774 \uac10\uc18c\ud558\ubbc0\ub85c, \uacf5\ubd84\uc0b0 \ud589\ub82c\uc740 \ub2e4\uc74c\uacfc \uac19\ub2e4\n",
      "print np.cov(X)"
     ],
     "language": "python",
     "metadata": {},
     "outputs": [
      {
       "output_type": "stream",
       "stream": "stdout",
       "text": [
        "[[ 1. -1.]\n",
        " [-1.  1.]]\n"
       ]
      }
     ],
     "prompt_number": 292
    },
    {
     "cell_type": "code",
     "collapsed": false,
     "input": [
      "# \uc5b4\ub290\uc815\ub3c4 \ubd80\uc801 \uc0c1\uad00\uad00\uacc4\uc778 \uacbd\uc6b0(\uc644\uc804\ud55c \uc0c1\uad00\uad00\uacc4\ub294 \uc544\ub2d8) \n",
      "x = [-2.1, -1,  4.3]\n",
      "y = [3,  1.1,  0.12]\n",
      "X = np.vstack((x,y))\n",
      "print X"
     ],
     "language": "python",
     "metadata": {},
     "outputs": [
      {
       "output_type": "stream",
       "stream": "stdout",
       "text": [
        "[[-2.1  -1.    4.3 ]\n",
        " [ 3.    1.1   0.12]]\n"
       ]
      }
     ],
     "prompt_number": 294
    },
    {
     "cell_type": "code",
     "collapsed": false,
     "input": [
      "print np.cov(X)"
     ],
     "language": "python",
     "metadata": {},
     "outputs": [
      {
       "output_type": "stream",
       "stream": "stdout",
       "text": [
        "[[ 11.71        -4.286     ]\n",
        " [ -4.286        2.14413333]]\n"
       ]
      }
     ],
     "prompt_number": 295
    },
    {
     "cell_type": "code",
     "collapsed": false,
     "input": [
      "print np.cov(x, y)"
     ],
     "language": "python",
     "metadata": {},
     "outputs": [
      {
       "output_type": "stream",
       "stream": "stdout",
       "text": [
        "[[ 11.71        -4.286     ]\n",
        " [ -4.286        2.14413333]]\n"
       ]
      }
     ],
     "prompt_number": 296
    },
    {
     "cell_type": "code",
     "collapsed": false,
     "input": [
      "print np.cov(x)"
     ],
     "language": "python",
     "metadata": {},
     "outputs": [
      {
       "output_type": "stream",
       "stream": "stdout",
       "text": [
        "11.71\n"
       ]
      }
     ],
     "prompt_number": 297
    },
    {
     "cell_type": "heading",
     "level": 4,
     "metadata": {},
     "source": [
      "\ubca1\ud130 \ubc0f \ud589\ub82c norm"
     ]
    },
    {
     "cell_type": "markdown",
     "metadata": {},
     "source": [
      "norm \uc774\ub780 \uc77c\ubc18\uc801\uc73c\ub85c \ubca1\ud130\ub098 \ud589\ub82c\uc758 \ud06c\uae30(size)\ub098 \uae38\uc774(length)\ub97c \ub9d0\ud55c\ub2e4.\n",
      "\n",
      "\ubc29\ud5a5\uc740 \uac00\uc9c0\uc9c0 \uc54a\uc544\uc11c \uc591\uc218\uac12\uc774\ub2e4. \n",
      "\n",
      "norm\uc744 \uad6c\ud558\ub294 5\uac00\uc9c0 \ubc29\ubc95 \n",
      "\n",
      "**1. \uc5f4 \ud569\uc758 \uc808\ub300 \ucd5c\ub300\uac12 (maximum absolute colum sum)** \n",
      ": \uc5f4 \uc6d0\uc18c \ud569\uc758 \ucd5c\ub300\uac12\n",
      "\n",
      "**2. \ud589 \ud569\uc758 \uc808\ub300 \ucd5c\ub300\uac12 (maximum absolute row sum)**\n",
      "\n",
      "**3. \ucd5c\ub300 \ubaa8\ub4c8\ub7ec\uc2a4(maximum modulus)**\n",
      ": \ubaa8\ub4e0 \uc6d0\uc18c\uc758 \ucd5c\ub300 \ubaa8\ub4c8\ub7ec\uc2a4\ub97c norm\uc73c\ub85c \ud55c\ub2e4.  \n",
      "\n",
      "**4. \uc720\ud074\ub9ac\ub4dc norm(Euclidean norm) \ub610\ub294 \ud504\ub85c\ubca0\ub2c8\uc6b0\uc2a4 norm(Frobenius norm)**\n",
      ": \ubaa8\ub4e0 \uc6d0\uc18c \uc81c\uacf1\ud569\uc758 \uc81c\uacf1\uadfc\uc744 norm\uc73c\ub85c \ud55c\ub2e4.\n",
      "\n",
      "**5. \uc2a4\ud399\ud2b8\ub7fc norm(spectral norm) \ub610\ub294 2-norm**\n",
      ": \ud2b9\uc774\uac12(singular value) \uc911 \ucd5c\ub300\uac12\n",
      "\n",
      "? \ubaa8\ub4c8\ub7ec\uc2a4 \n",
      "\n",
      "\uc2e4\ud568\uc218(real function)\uc601\uc5ed\uc5d0\uc11c \ucd5c\ub300 \ubaa8\ub4c8\ub7ec\uc2a4 = \uc808\ub300 \ucd5c\ub300\uac12 \uc778\ub370 \ubc18\ud574,\n",
      "\n",
      "\ubcf5\uc18c\ud568\uc218\ub85c \ud655\uc7a5\ub418\uba74, \ucd5c\ub300 \ubaa8\ub4c8\ub7ec\uc2a4 = \ucd5c\ub300 \uc808\ub300\uac12 \uc6d0\ub9ac\n",
      "\n",
      "ex) \ubcf5\uc18c\ud568\uc218 z = a + bi => \ucd5c\ub300 \ubaa8\ub4c8\ub7ec\uc2a4 |z| = root(a<sup>2</sup> + b<sup>2</sup>)\n",
      "\n",
      "\n",
      "norm(v, type=c(\"O\",\"I\",\"F\",\"M\",\"2\"))\n",
      "\n",
      "type \uc740 \uc21c\uc11c\ub300\ub85c \n",
      "\n",
      "\"O\" \uc5f4\ud569\uc758 \ucd5c\ub300\uac12, \"I\" \ud589\ud569\uc758\ucd5c\ub300\uac12, \"F\" \uc720\ud074\ub9ac\ub4dcnorm, \"M\" \ucd5c\ub300\ubaa8\ub4c8\ub7ec\uc2a4, \"2\" \uc2a4\ud399\ud2b8\ub7fcnorm"
     ]
    },
    {
     "cell_type": "code",
     "collapsed": false,
     "input": [
      "x = np.array([0, 1, 2, 3])\n",
      "print x\n",
      "\n",
      "print np.linalg.norm(x)"
     ],
     "language": "python",
     "metadata": {},
     "outputs": [
      {
       "output_type": "stream",
       "stream": "stdout",
       "text": [
        "[0 1 2 3]\n",
        "3.74165738677\n"
       ]
      }
     ],
     "prompt_number": 311
    },
    {
     "cell_type": "code",
     "collapsed": false,
     "input": [
      "A = np.array([[2,2,2],[5,5,6],[0,-1,-2]])\n",
      "print A\n",
      "\n",
      "print np.linalg.norm(A)"
     ],
     "language": "python",
     "metadata": {},
     "outputs": [
      {
       "output_type": "stream",
       "stream": "stdout",
       "text": [
        "[[ 2  2  2]\n",
        " [ 5  5  6]\n",
        " [ 0 -1 -2]]\n",
        "10.1488915651\n"
       ]
      }
     ],
     "prompt_number": 299
    },
    {
     "cell_type": "code",
     "collapsed": false,
     "input": [
      "# \uc81c\uacf1\ud569\uc758 \uc81c\uacf1\uadfc\n",
      "np.linalg.norm(A, 'fro')"
     ],
     "language": "python",
     "metadata": {},
     "outputs": [
      {
       "metadata": {},
       "output_type": "pyout",
       "prompt_number": 301,
       "text": [
        "10.148891565092219"
       ]
      }
     ],
     "prompt_number": 301
    },
    {
     "cell_type": "code",
     "collapsed": false,
     "input": [
      "# max(abs(x))\n",
      "np.linalg.norm(A, np.inf)  "
     ],
     "language": "python",
     "metadata": {},
     "outputs": [
      {
       "metadata": {},
       "output_type": "pyout",
       "prompt_number": 302,
       "text": [
        "16"
       ]
      }
     ],
     "prompt_number": 302
    },
    {
     "cell_type": "code",
     "collapsed": false,
     "input": [
      "# min(abs(x))\n",
      "np.linalg.norm(A, -np.inf)  "
     ],
     "language": "python",
     "metadata": {},
     "outputs": [
      {
       "metadata": {},
       "output_type": "pyout",
       "prompt_number": 303,
       "text": [
        "3"
       ]
      }
     ],
     "prompt_number": 303
    },
    {
     "cell_type": "code",
     "collapsed": false,
     "input": [
      "# max(abs(x)) axis=0, column\n",
      "np.linalg.norm(A, 1)  "
     ],
     "language": "python",
     "metadata": {},
     "outputs": [
      {
       "metadata": {},
       "output_type": "pyout",
       "prompt_number": 304,
       "text": [
        "10"
       ]
      }
     ],
     "prompt_number": 304
    },
    {
     "cell_type": "code",
     "collapsed": false,
     "input": [
      "# min(abs(x)) axis=0, column\n",
      "np.linalg.norm(A, -1)  "
     ],
     "language": "python",
     "metadata": {},
     "outputs": [
      {
       "metadata": {},
       "output_type": "pyout",
       "prompt_number": 305,
       "text": [
        "7"
       ]
      }
     ],
     "prompt_number": 305
    },
    {
     "cell_type": "code",
     "collapsed": false,
     "input": [
      "# 2-norm, largest sing.value\n",
      "np.linalg.norm(A, 2)  "
     ],
     "language": "python",
     "metadata": {},
     "outputs": [
      {
       "metadata": {},
       "output_type": "pyout",
       "prompt_number": 306,
       "text": [
        "10.064415739871045"
       ]
      }
     ],
     "prompt_number": 306
    },
    {
     "cell_type": "code",
     "collapsed": false,
     "input": [
      "# smallest sing.value\n",
      "np.linalg.norm(A, -2)  "
     ],
     "language": "python",
     "metadata": {},
     "outputs": [
      {
       "metadata": {},
       "output_type": "pyout",
       "prompt_number": 307,
       "text": [
        "0.15312959981601354"
       ]
      }
     ],
     "prompt_number": 307
    },
    {
     "cell_type": "heading",
     "level": 1,
     "metadata": {},
     "source": [
      "pandas \uae30\ucd08"
     ]
    },
    {
     "cell_type": "markdown",
     "metadata": {},
     "source": [
      "* pandas\ub780 ?\n",
      "* pandas \uc790\ub8cc \uad6c\uc870\n",
      "* pandas \uae30\ubcf8 \uae30\ub2a5"
     ]
    },
    {
     "cell_type": "heading",
     "level": 2,
     "metadata": {},
     "source": [
      "pandas\ub780 ?"
     ]
    },
    {
     "cell_type": "markdown",
     "metadata": {},
     "source": [
      "* NumPy \uae30\ubc18\uc73c\ub85c \uac1c\ubc1c\ub41c, \uace0\uc218\uc900 \uc790\ub8cc \uad6c\uc870\ub97c \uc81c\uacf5\ud558\ub294 \ub370\uc774\ud130 \ubd84\uc11d \ud328\ud0a4\uc9c0\n",
      "* pandas \uc5f0\uad00 \ub2e8\uc5b4 : NumPy, SciPy, matplotlib, DataFrame, \uc2dc\uacc4\uc5f4 \ubd84\uc11d    "
     ]
    },
    {
     "cell_type": "markdown",
     "metadata": {},
     "source": [
      "#### pandas \ucc3d\uc2dc\uc790\uac00 \uc6d0\ud588\ub358 \uae30\ub2a5\n",
      "\n",
      "* \uc790\ub3d9\uc801\uc73c\ub85c \ud639\uc740 \uba85\uc2dc\uc801\uc73c\ub85c \ucd95\uc758 \uc774\ub984\uc5d0 \ub530\ub77c \ub370\uc774\ud130\ub97c \uc815\ub82c\ud560 \uc218 \uc788\ub294 \uc790\ub8cc \uad6c\uc870\n",
      "* \uc798\ubabb \uc815\ub82c\ub41c \ub370\uc774\ud130\uc5d0 \uc758\ud55c \uc77c\ubc18\uc801\uc778 \uc624\ub958\ub97c \uc608\ubc29\ud558\uace0 \n",
      "* \ub2e4\uc591\ud55c \uc18c\uc2a4\uc5d0\uc11c \uac00\uc838\uc628 \ub2e4\uc591\ud55c \ubc29\uc2dd\uc73c\ub85c \uc0c9\uc778\ub418\uc5b4 \uc788\ub294 \ub370\uc774\ud130\ub97c \ub2e4\ub8f0 \uc218 \uc788\ub294 \uae30\ub2a5\n",
      "* \ud1b5\ud569\ub41c \uc2dc\uacc4\uc5f4 \uae30\ub2a5\n",
      "* \uc2dc\uacc4\uc5f4 \ub370\uc774\ud130\uc640 \ube44\uc2dc\uacc4\uc5f4 \ub370\uc774\ud130\ub97c \ud568\uaed8 \ub2e4\ub8f0 \uc218 \uc788\ub294 \ud1b5\ud569 \uc790\ub8cc \uad6c\uc870\n",
      "* \uc0b0\uc220\uc5f0\uc0b0\uacfc \ud55c \ucd95\uc758 \ubaa8\ub4e0 \uac12\uc744 \ub354\ud558\ub294 \ub4f1\uc758 \ub370\uc774\ud130 \ucd95\uc57d\uc5f0\uc0b0\uc740 \ucd95\uc758 \uc774\ub984 \uac19\uc740 \uba54\ud0c0\ub370\uc774\ud130\ub85c \uc804\ub2ec\ub420 \uc218 \uc788\uc5b4\uc57c \ud568\n",
      "* \ub204\ub77d\ub41c \ub370\uc774\ud130\ub97c \uc720\uc5f0\ud558\uac8c \ucc98\ub9ac\ud560 \uc218 \uc788\ub294 \uae30\ub2a5\n",
      "* SQL \uac19\uc740 \uc77c\ubc18 \ub370\uc774\ud130\ubca0\uc774\uc2a4\ucc98\ub7fc \ud569\uce58\uace0 \uad00\uacc4\uc5f0\uc0b0\uc744 \uc218\ud589\ud558\ub294 \uae30\ub2a5"
     ]
    },
    {
     "cell_type": "heading",
     "level": 2,
     "metadata": {},
     "source": [
      "pandas \uc790\ub8cc \uad6c\uc870"
     ]
    },
    {
     "cell_type": "markdown",
     "metadata": {},
     "source": [
      "* Series\n",
      "* DataFrame"
     ]
    },
    {
     "cell_type": "heading",
     "level": 3,
     "metadata": {},
     "source": [
      "Series"
     ]
    },
    {
     "cell_type": "markdown",
     "metadata": {},
     "source": [
      "* \uc77c\ub828\uc758 \uac1d\uccb4\ub97c \ub2f4\uc744 \uc218 \uc788\ub294 1\ucc28\uc6d0 \ubc30\uc5f4 \uac19\uc740 \uc790\ub8cc \uad6c\uc870(\uc5b4\ub5a4 NumPy \uc790\ub8cc\ud615\uc774\ub77c\ub3c4 \ub2f4\uc744 \uc218 \uc788\ub2e4)\n",
      "* \ud30c\uc774\uc36c\uc758 \uc0ac\uc804\ud615\uacfc \ube44\uc2b7\ud558\ub2e4(\uc815\ub82c\ub41c \uc0ac\uc804\ud615\uc774\ub77c\uace0 \ubcf4\uba74 \ub41c\ub2e4)\n",
      "* \ud30c\uc774\uc36c \uc0ac\uc804\ud615 \uac1d\uccb4\uc5d0\uc11c \uc0dd\uc131\ud560 \uc218 \uc788\ub2e4."
     ]
    },
    {
     "cell_type": "code",
     "collapsed": false,
     "input": [
      "from pandas import Series\n",
      "import pandas as pd"
     ],
     "language": "python",
     "metadata": {},
     "outputs": [],
     "prompt_number": 312
    },
    {
     "cell_type": "code",
     "collapsed": false,
     "input": [
      "obj = Series([4, 7, -5, 3])\n",
      "\n",
      "# \uacb0\uacfc\uc758 \uc67c\ucabd\uc774 \uc0c9\uc778(index), \uc624\ub978\ucabd\uc774 \uac12\n",
      "obj"
     ],
     "language": "python",
     "metadata": {},
     "outputs": [
      {
       "metadata": {},
       "output_type": "pyout",
       "prompt_number": 327,
       "text": [
        "0    4\n",
        "1    7\n",
        "2   -5\n",
        "3    3\n",
        "dtype: int64"
       ]
      }
     ],
     "prompt_number": 327
    },
    {
     "cell_type": "code",
     "collapsed": false,
     "input": [
      "obj.values"
     ],
     "language": "python",
     "metadata": {},
     "outputs": [
      {
       "metadata": {},
       "output_type": "pyout",
       "prompt_number": 315,
       "text": [
        "array([ 4,  7, -5,  3])"
       ]
      }
     ],
     "prompt_number": 315
    },
    {
     "cell_type": "code",
     "collapsed": false,
     "input": [
      "obj.index"
     ],
     "language": "python",
     "metadata": {},
     "outputs": [
      {
       "metadata": {},
       "output_type": "pyout",
       "prompt_number": 316,
       "text": [
        "Int64Index([0, 1, 2, 3], dtype='int64')"
       ]
      }
     ],
     "prompt_number": 316
    },
    {
     "cell_type": "code",
     "collapsed": false,
     "input": [
      "# \uc0c9\uc778\uc744 \uc9c0\uc815\ud574\uc11c \uc0dd\uc131\ud560 \uc218 \uc788\ub2e4.\n",
      "obj2 = Series([4, 7, -5, 3], index=['d', 'b', 'a', 'c'])\n",
      "obj2"
     ],
     "language": "python",
     "metadata": {},
     "outputs": [
      {
       "metadata": {},
       "output_type": "pyout",
       "prompt_number": 317,
       "text": [
        "d    4\n",
        "b    7\n",
        "a   -5\n",
        "c    3\n",
        "dtype: int64"
       ]
      }
     ],
     "prompt_number": 317
    },
    {
     "cell_type": "code",
     "collapsed": false,
     "input": [
      "obj2.index"
     ],
     "language": "python",
     "metadata": {},
     "outputs": [
      {
       "metadata": {},
       "output_type": "pyout",
       "prompt_number": 318,
       "text": [
        "Index([u'd', u'b', u'a', u'c'], dtype='object')"
       ]
      }
     ],
     "prompt_number": 318
    },
    {
     "cell_type": "code",
     "collapsed": false,
     "input": [
      "obj2[0]"
     ],
     "language": "python",
     "metadata": {},
     "outputs": [
      {
       "metadata": {},
       "output_type": "pyout",
       "prompt_number": 320,
       "text": [
        "4"
       ]
      }
     ],
     "prompt_number": 320
    },
    {
     "cell_type": "code",
     "collapsed": false,
     "input": [
      "# \uc0c9\uc778\uc744 \uc774\uc6a9\ud574 \uc811\uadfc\n",
      "obj2['a']"
     ],
     "language": "python",
     "metadata": {},
     "outputs": [
      {
       "metadata": {},
       "output_type": "pyout",
       "prompt_number": 321,
       "text": [
        "-5"
       ]
      }
     ],
     "prompt_number": 321
    },
    {
     "cell_type": "code",
     "collapsed": false,
     "input": [
      "obj2['d'] = 6\n",
      "obj2"
     ],
     "language": "python",
     "metadata": {},
     "outputs": [
      {
       "metadata": {},
       "output_type": "pyout",
       "prompt_number": 322,
       "text": [
        "d    6\n",
        "b    7\n",
        "a   -5\n",
        "c    3\n",
        "dtype: int64"
       ]
      }
     ],
     "prompt_number": 322
    },
    {
     "cell_type": "code",
     "collapsed": false,
     "input": [
      "obj2[['c', 'a', 'd']]"
     ],
     "language": "python",
     "metadata": {},
     "outputs": [
      {
       "metadata": {},
       "output_type": "pyout",
       "prompt_number": 323,
       "text": [
        "c    3\n",
        "a   -5\n",
        "d    6\n",
        "dtype: int64"
       ]
      }
     ],
     "prompt_number": 323
    },
    {
     "cell_type": "code",
     "collapsed": false,
     "input": [
      "obj2[obj2 > 0]"
     ],
     "language": "python",
     "metadata": {},
     "outputs": [
      {
       "metadata": {},
       "output_type": "pyout",
       "prompt_number": 324,
       "text": [
        "d    6\n",
        "b    7\n",
        "c    3\n",
        "dtype: int64"
       ]
      }
     ],
     "prompt_number": 324
    },
    {
     "cell_type": "code",
     "collapsed": false,
     "input": [
      "obj2 * 2"
     ],
     "language": "python",
     "metadata": {},
     "outputs": [
      {
       "metadata": {},
       "output_type": "pyout",
       "prompt_number": 325,
       "text": [
        "d    12\n",
        "b    14\n",
        "a   -10\n",
        "c     6\n",
        "dtype: int64"
       ]
      }
     ],
     "prompt_number": 325
    },
    {
     "cell_type": "code",
     "collapsed": false,
     "input": [
      "np.exp(obj2)"
     ],
     "language": "python",
     "metadata": {},
     "outputs": [
      {
       "metadata": {},
       "output_type": "pyout",
       "prompt_number": 326,
       "text": [
        "d     403.428793\n",
        "b    1096.633158\n",
        "a       0.006738\n",
        "c      20.085537\n",
        "dtype: float64"
       ]
      }
     ],
     "prompt_number": 326
    },
    {
     "cell_type": "code",
     "collapsed": false,
     "input": [
      "# \uc0ac\uc804\ud615 \uac1d\uccb4\ub85c\ubd80\ud130 \uc0dd\uc131\n",
      "sdata = {'Ohio': 35000,\n",
      "         'Texas': 71000,\n",
      "         'Oregon': 16000,\n",
      "         'Utah': 5000}\n",
      "sdata"
     ],
     "language": "python",
     "metadata": {},
     "outputs": [
      {
       "metadata": {},
       "output_type": "pyout",
       "prompt_number": 328,
       "text": [
        "{'Ohio': 35000, 'Oregon': 16000, 'Texas': 71000, 'Utah': 5000}"
       ]
      }
     ],
     "prompt_number": 328
    },
    {
     "cell_type": "code",
     "collapsed": false,
     "input": [
      "obj3 = Series(sdata)\n",
      "obj3"
     ],
     "language": "python",
     "metadata": {},
     "outputs": [
      {
       "metadata": {},
       "output_type": "pyout",
       "prompt_number": 329,
       "text": [
        "Ohio      35000\n",
        "Oregon    16000\n",
        "Texas     71000\n",
        "Utah       5000\n",
        "dtype: int64"
       ]
      }
     ],
     "prompt_number": 329
    },
    {
     "cell_type": "code",
     "collapsed": false,
     "input": [
      "# \uc0ac\uc804\uc73c\ub85c \ud615\uc131\ub41c \uac1d\uccb4\uc5d0, \uc0c8 \uc778\ub371\uc2a4\uac00 \ucd94\uac00\ub418\uba74 \uac12\uc774  NaN\uc73c\ub85c \ub9e4\ud551\ub41c\ub2e4.\n",
      "states = ['California', 'Ohio', 'Oregon', 'Texas']\n",
      "obj4 = Series(sdata, index=states)\n",
      "obj4"
     ],
     "language": "python",
     "metadata": {},
     "outputs": [
      {
       "metadata": {},
       "output_type": "pyout",
       "prompt_number": 331,
       "text": [
        "California      NaN\n",
        "Ohio          35000\n",
        "Oregon        16000\n",
        "Texas         71000\n",
        "dtype: float64"
       ]
      }
     ],
     "prompt_number": 331
    },
    {
     "cell_type": "code",
     "collapsed": false,
     "input": [
      "# \ub204\ub77d\uac12\uc744 \ucc3e\uae30 \uc704\ud574\uc11c pandas\uc758 \ud568\uc218\ub97c \uc0ac\uc6a9\ud55c\ub2e4.\n",
      "\n",
      "# isnull \n",
      "pd.isnull(obj4)"
     ],
     "language": "python",
     "metadata": {},
     "outputs": [
      {
       "metadata": {},
       "output_type": "pyout",
       "prompt_number": 332,
       "text": [
        "California     True\n",
        "Ohio          False\n",
        "Oregon        False\n",
        "Texas         False\n",
        "dtype: bool"
       ]
      }
     ],
     "prompt_number": 332
    },
    {
     "cell_type": "code",
     "collapsed": false,
     "input": [
      "# notnull\n",
      "pd.notnull(obj4)"
     ],
     "language": "python",
     "metadata": {},
     "outputs": [
      {
       "metadata": {},
       "output_type": "pyout",
       "prompt_number": 333,
       "text": [
        "California    False\n",
        "Ohio           True\n",
        "Oregon         True\n",
        "Texas          True\n",
        "dtype: bool"
       ]
      }
     ],
     "prompt_number": 333
    },
    {
     "cell_type": "code",
     "collapsed": false,
     "input": [
      "# Series\uc758 \uba54\uc11c\ub4dc\uc5d0\ub3c4 \uc788\uc74c.\n",
      "obj4.isnull()"
     ],
     "language": "python",
     "metadata": {},
     "outputs": [
      {
       "metadata": {},
       "output_type": "pyout",
       "prompt_number": 334,
       "text": [
        "California     True\n",
        "Ohio          False\n",
        "Oregon        False\n",
        "Texas         False\n",
        "dtype: bool"
       ]
      }
     ],
     "prompt_number": 334
    },
    {
     "cell_type": "code",
     "collapsed": false,
     "input": [
      "obj4.notnull()"
     ],
     "language": "python",
     "metadata": {},
     "outputs": [
      {
       "metadata": {},
       "output_type": "pyout",
       "prompt_number": 335,
       "text": [
        "California    False\n",
        "Ohio           True\n",
        "Oregon         True\n",
        "Texas          True\n",
        "dtype: bool"
       ]
      }
     ],
     "prompt_number": 335
    },
    {
     "cell_type": "code",
     "collapsed": false,
     "input": [
      "# index \uba64\ubc84\uac1d\uccb4\uc5d0 \ub9ac\uc2a4\ud2b8\ub85c \uc778\ub371\uc2a4\ub97c \ub300\uc785\ud558\uba74 \uc778\ub371\uc2a4 \ubcc0\uacbd\uac00\ub2a5\n",
      "obj"
     ],
     "language": "python",
     "metadata": {},
     "outputs": [
      {
       "metadata": {},
       "output_type": "pyout",
       "prompt_number": 339,
       "text": [
        "Bob      4\n",
        "Steve    7\n",
        "Jeff    -5\n",
        "Ryan     3\n",
        "dtype: int64"
       ]
      }
     ],
     "prompt_number": 339
    },
    {
     "cell_type": "code",
     "collapsed": false,
     "input": [
      "obj.index = ['Bob', 'Steve', 'Jeff', 'Ryan']\n",
      "obj"
     ],
     "language": "python",
     "metadata": {},
     "outputs": [
      {
       "metadata": {},
       "output_type": "pyout",
       "prompt_number": 340,
       "text": [
        "Bob      4\n",
        "Steve    7\n",
        "Jeff    -5\n",
        "Ryan     3\n",
        "dtype: int64"
       ]
      }
     ],
     "prompt_number": 340
    },
    {
     "cell_type": "heading",
     "level": 3,
     "metadata": {},
     "source": [
      "DataFrame"
     ]
    },
    {
     "cell_type": "markdown",
     "metadata": {},
     "source": [
      "* \ud45c \uac19\uc740 \uc2a4\ud504\ub808\ub4dc\uc2dc\ud2b8 \ud615\uc2dd\uc758 \uc790\ub8cc \uad6c\uc870\n",
      "* \uac01 \uce7c\ub7fc\uc740 \uc11c\ub85c \ub2e4\ub978 \uc885\ub958\uc758 \uac12(\uc22b\uc790, \ubb38\uc790\uc5f4, \ubd88\ub9ac\uc5b8) \ub2f4\uc744 \uc218 \uc788\ub2e4\n",
      "* \ub85c\uc6b0\uc640 \uceec\ub7fc \uac01\uac01\uc5d0 \uc0c9\uc778 \uc874\uc7ac\n",
      "* \uac01 \uce7c\ub7fc\ub9c8\ub2e4 Series \uac1d\uccb4\ub97c \ub2f4\uace0 \uc788\ub294 \uc0ac\uc804\uc73c\ub85c \uc0dd\uac01\ud558\uba74 \ud3b8\ud558\ub2e4\n",
      "* R\uc758 data.frame\uacfc \ube44\uc2b7"
     ]
    },
    {
     "cell_type": "code",
     "collapsed": false,
     "input": [
      "from pandas import DataFrame"
     ],
     "language": "python",
     "metadata": {},
     "outputs": [],
     "prompt_number": 341
    },
    {
     "cell_type": "code",
     "collapsed": false,
     "input": [
      "# Series \uac1d\uccb4\ub97c \ub2f4\uace0 \uc788\ub294 \uc0ac\uc804\uc73c\ub85c \uc0dd\uc131\n",
      "data = {'state': ['Ohio', 'Ohio', 'Ohio', 'Nevada', 'Nevada'],\n",
      "        'year': [2000, 2001, 2002, 2001, 2002],\n",
      "        'pop': [1.5, 1.7, 3.6, 2.4, 2.9]}"
     ],
     "language": "python",
     "metadata": {},
     "outputs": [],
     "prompt_number": 345
    },
    {
     "cell_type": "code",
     "collapsed": false,
     "input": [
      "frame = DataFrame(data)\n",
      "frame"
     ],
     "language": "python",
     "metadata": {},
     "outputs": [
      {
       "html": [
        "<div style=\"max-height:1000px;max-width:1500px;overflow:auto;\">\n",
        "<table border=\"1\" class=\"dataframe\">\n",
        "  <thead>\n",
        "    <tr style=\"text-align: right;\">\n",
        "      <th></th>\n",
        "      <th>pop</th>\n",
        "      <th>state</th>\n",
        "      <th>year</th>\n",
        "    </tr>\n",
        "  </thead>\n",
        "  <tbody>\n",
        "    <tr>\n",
        "      <th>0</th>\n",
        "      <td> 1.5</td>\n",
        "      <td>   Ohio</td>\n",
        "      <td> 2000</td>\n",
        "    </tr>\n",
        "    <tr>\n",
        "      <th>1</th>\n",
        "      <td> 1.7</td>\n",
        "      <td>   Ohio</td>\n",
        "      <td> 2001</td>\n",
        "    </tr>\n",
        "    <tr>\n",
        "      <th>2</th>\n",
        "      <td> 3.6</td>\n",
        "      <td>   Ohio</td>\n",
        "      <td> 2002</td>\n",
        "    </tr>\n",
        "    <tr>\n",
        "      <th>3</th>\n",
        "      <td> 2.4</td>\n",
        "      <td> Nevada</td>\n",
        "      <td> 2001</td>\n",
        "    </tr>\n",
        "    <tr>\n",
        "      <th>4</th>\n",
        "      <td> 2.9</td>\n",
        "      <td> Nevada</td>\n",
        "      <td> 2002</td>\n",
        "    </tr>\n",
        "  </tbody>\n",
        "</table>\n",
        "</div>"
       ],
       "metadata": {},
       "output_type": "pyout",
       "prompt_number": 344,
       "text": [
        "   pop   state  year\n",
        "0  1.5    Ohio  2000\n",
        "1  1.7    Ohio  2001\n",
        "2  3.6    Ohio  2002\n",
        "3  2.4  Nevada  2001\n",
        "4  2.9  Nevada  2002"
       ]
      }
     ],
     "prompt_number": 344
    },
    {
     "cell_type": "code",
     "collapsed": false,
     "input": [
      "# \uc21c\uc11c\ub97c \uc815\ud574\uc11c \uc0dd\uc131\n",
      "DataFrame(data, columns=['year', 'state', 'pop'])"
     ],
     "language": "python",
     "metadata": {},
     "outputs": [
      {
       "html": [
        "<div style=\"max-height:1000px;max-width:1500px;overflow:auto;\">\n",
        "<table border=\"1\" class=\"dataframe\">\n",
        "  <thead>\n",
        "    <tr style=\"text-align: right;\">\n",
        "      <th></th>\n",
        "      <th>year</th>\n",
        "      <th>state</th>\n",
        "      <th>pop</th>\n",
        "    </tr>\n",
        "  </thead>\n",
        "  <tbody>\n",
        "    <tr>\n",
        "      <th>0</th>\n",
        "      <td> 2000</td>\n",
        "      <td>   Ohio</td>\n",
        "      <td> 1.5</td>\n",
        "    </tr>\n",
        "    <tr>\n",
        "      <th>1</th>\n",
        "      <td> 2001</td>\n",
        "      <td>   Ohio</td>\n",
        "      <td> 1.7</td>\n",
        "    </tr>\n",
        "    <tr>\n",
        "      <th>2</th>\n",
        "      <td> 2002</td>\n",
        "      <td>   Ohio</td>\n",
        "      <td> 3.6</td>\n",
        "    </tr>\n",
        "    <tr>\n",
        "      <th>3</th>\n",
        "      <td> 2001</td>\n",
        "      <td> Nevada</td>\n",
        "      <td> 2.4</td>\n",
        "    </tr>\n",
        "    <tr>\n",
        "      <th>4</th>\n",
        "      <td> 2002</td>\n",
        "      <td> Nevada</td>\n",
        "      <td> 2.9</td>\n",
        "    </tr>\n",
        "  </tbody>\n",
        "</table>\n",
        "</div>"
       ],
       "metadata": {},
       "output_type": "pyout",
       "prompt_number": 346,
       "text": [
        "   year   state  pop\n",
        "0  2000    Ohio  1.5\n",
        "1  2001    Ohio  1.7\n",
        "2  2002    Ohio  3.6\n",
        "3  2001  Nevada  2.4\n",
        "4  2002  Nevada  2.9"
       ]
      }
     ],
     "prompt_number": 346
    },
    {
     "cell_type": "code",
     "collapsed": false,
     "input": [
      "#  \ub85c\uc6b0 \uc778\ub371\uc2a4\ub3c4 \ud568\uaed8 \uc0dd\uc131\n",
      "frame2 = DataFrame(data, columns=['year', 'state', 'pop', 'debt'],\n",
      "                   index=['one', 'two', 'three', 'four', 'five'])\n",
      "frame2"
     ],
     "language": "python",
     "metadata": {},
     "outputs": [
      {
       "html": [
        "<div style=\"max-height:1000px;max-width:1500px;overflow:auto;\">\n",
        "<table border=\"1\" class=\"dataframe\">\n",
        "  <thead>\n",
        "    <tr style=\"text-align: right;\">\n",
        "      <th></th>\n",
        "      <th>year</th>\n",
        "      <th>state</th>\n",
        "      <th>pop</th>\n",
        "      <th>debt</th>\n",
        "    </tr>\n",
        "  </thead>\n",
        "  <tbody>\n",
        "    <tr>\n",
        "      <th>one</th>\n",
        "      <td> 2000</td>\n",
        "      <td>   Ohio</td>\n",
        "      <td> 1.5</td>\n",
        "      <td> NaN</td>\n",
        "    </tr>\n",
        "    <tr>\n",
        "      <th>two</th>\n",
        "      <td> 2001</td>\n",
        "      <td>   Ohio</td>\n",
        "      <td> 1.7</td>\n",
        "      <td> NaN</td>\n",
        "    </tr>\n",
        "    <tr>\n",
        "      <th>three</th>\n",
        "      <td> 2002</td>\n",
        "      <td>   Ohio</td>\n",
        "      <td> 3.6</td>\n",
        "      <td> NaN</td>\n",
        "    </tr>\n",
        "    <tr>\n",
        "      <th>four</th>\n",
        "      <td> 2001</td>\n",
        "      <td> Nevada</td>\n",
        "      <td> 2.4</td>\n",
        "      <td> NaN</td>\n",
        "    </tr>\n",
        "    <tr>\n",
        "      <th>five</th>\n",
        "      <td> 2002</td>\n",
        "      <td> Nevada</td>\n",
        "      <td> 2.9</td>\n",
        "      <td> NaN</td>\n",
        "    </tr>\n",
        "  </tbody>\n",
        "</table>\n",
        "</div>"
       ],
       "metadata": {},
       "output_type": "pyout",
       "prompt_number": 347,
       "text": [
        "       year   state  pop debt\n",
        "one    2000    Ohio  1.5  NaN\n",
        "two    2001    Ohio  1.7  NaN\n",
        "three  2002    Ohio  3.6  NaN\n",
        "four   2001  Nevada  2.4  NaN\n",
        "five   2002  Nevada  2.9  NaN"
       ]
      }
     ],
     "prompt_number": 347
    },
    {
     "cell_type": "code",
     "collapsed": false,
     "input": [
      "frame2.columns"
     ],
     "language": "python",
     "metadata": {},
     "outputs": [
      {
       "metadata": {},
       "output_type": "pyout",
       "prompt_number": 349,
       "text": [
        "Index([u'year', u'state', u'pop', u'debt'], dtype='object')"
       ]
      }
     ],
     "prompt_number": 349
    },
    {
     "cell_type": "code",
     "collapsed": false,
     "input": [
      "# \uceec\ub7fc \uc811\uadfc \ubc29\ubc95 \n",
      "\n",
      "# \uc0ac\uc804 \ud615\uc2dd \ud45c\uae30\ubc95\n",
      "frame2['state']"
     ],
     "language": "python",
     "metadata": {},
     "outputs": [
      {
       "metadata": {},
       "output_type": "pyout",
       "prompt_number": 350,
       "text": [
        "one        Ohio\n",
        "two        Ohio\n",
        "three      Ohio\n",
        "four     Nevada\n",
        "five     Nevada\n",
        "Name: state, dtype: object"
       ]
      }
     ],
     "prompt_number": 350
    },
    {
     "cell_type": "code",
     "collapsed": false,
     "input": [
      "#\uc18d\uc131 \ud615\uc2dd\uc73c\ub85c\n",
      "frame2.state"
     ],
     "language": "python",
     "metadata": {},
     "outputs": [
      {
       "metadata": {},
       "output_type": "pyout",
       "prompt_number": 351,
       "text": [
        "one        Ohio\n",
        "two        Ohio\n",
        "three      Ohio\n",
        "four     Nevada\n",
        "five     Nevada\n",
        "Name: state, dtype: object"
       ]
      }
     ],
     "prompt_number": 351
    },
    {
     "cell_type": "code",
     "collapsed": false,
     "input": [
      "# \ub85c\uc6b0 \uc811\uadfc \ubc29\ubc95\n",
      "frame2.ix['three']"
     ],
     "language": "python",
     "metadata": {},
     "outputs": [
      {
       "metadata": {},
       "output_type": "pyout",
       "prompt_number": 352,
       "text": [
        "year     2002\n",
        "state    Ohio\n",
        "pop       3.6\n",
        "debt      NaN\n",
        "Name: three, dtype: object"
       ]
      }
     ],
     "prompt_number": 352
    },
    {
     "cell_type": "code",
     "collapsed": false,
     "input": [
      "# \uac12 \ub123\uae30\n",
      "frame2['debt'] = 16.5\n",
      "frame2"
     ],
     "language": "python",
     "metadata": {},
     "outputs": [
      {
       "html": [
        "<div style=\"max-height:1000px;max-width:1500px;overflow:auto;\">\n",
        "<table border=\"1\" class=\"dataframe\">\n",
        "  <thead>\n",
        "    <tr style=\"text-align: right;\">\n",
        "      <th></th>\n",
        "      <th>year</th>\n",
        "      <th>state</th>\n",
        "      <th>pop</th>\n",
        "      <th>debt</th>\n",
        "    </tr>\n",
        "  </thead>\n",
        "  <tbody>\n",
        "    <tr>\n",
        "      <th>one</th>\n",
        "      <td> 2000</td>\n",
        "      <td>   Ohio</td>\n",
        "      <td> 1.5</td>\n",
        "      <td> 16.5</td>\n",
        "    </tr>\n",
        "    <tr>\n",
        "      <th>two</th>\n",
        "      <td> 2001</td>\n",
        "      <td>   Ohio</td>\n",
        "      <td> 1.7</td>\n",
        "      <td> 16.5</td>\n",
        "    </tr>\n",
        "    <tr>\n",
        "      <th>three</th>\n",
        "      <td> 2002</td>\n",
        "      <td>   Ohio</td>\n",
        "      <td> 3.6</td>\n",
        "      <td> 16.5</td>\n",
        "    </tr>\n",
        "    <tr>\n",
        "      <th>four</th>\n",
        "      <td> 2001</td>\n",
        "      <td> Nevada</td>\n",
        "      <td> 2.4</td>\n",
        "      <td> 16.5</td>\n",
        "    </tr>\n",
        "    <tr>\n",
        "      <th>five</th>\n",
        "      <td> 2002</td>\n",
        "      <td> Nevada</td>\n",
        "      <td> 2.9</td>\n",
        "      <td> 16.5</td>\n",
        "    </tr>\n",
        "  </tbody>\n",
        "</table>\n",
        "</div>"
       ],
       "metadata": {},
       "output_type": "pyout",
       "prompt_number": 353,
       "text": [
        "       year   state  pop  debt\n",
        "one    2000    Ohio  1.5  16.5\n",
        "two    2001    Ohio  1.7  16.5\n",
        "three  2002    Ohio  3.6  16.5\n",
        "four   2001  Nevada  2.4  16.5\n",
        "five   2002  Nevada  2.9  16.5"
       ]
      }
     ],
     "prompt_number": 353
    },
    {
     "cell_type": "code",
     "collapsed": false,
     "input": [
      "# \ubc30\uc5f4\ub3c4 \ub300\uc785\uac00\ub2a5\n",
      "frame2['debt'] = np.arange(5.)\n",
      "frame2"
     ],
     "language": "python",
     "metadata": {},
     "outputs": [
      {
       "html": [
        "<div style=\"max-height:1000px;max-width:1500px;overflow:auto;\">\n",
        "<table border=\"1\" class=\"dataframe\">\n",
        "  <thead>\n",
        "    <tr style=\"text-align: right;\">\n",
        "      <th></th>\n",
        "      <th>year</th>\n",
        "      <th>state</th>\n",
        "      <th>pop</th>\n",
        "      <th>debt</th>\n",
        "    </tr>\n",
        "  </thead>\n",
        "  <tbody>\n",
        "    <tr>\n",
        "      <th>one</th>\n",
        "      <td> 2000</td>\n",
        "      <td>   Ohio</td>\n",
        "      <td> 1.5</td>\n",
        "      <td> 0</td>\n",
        "    </tr>\n",
        "    <tr>\n",
        "      <th>two</th>\n",
        "      <td> 2001</td>\n",
        "      <td>   Ohio</td>\n",
        "      <td> 1.7</td>\n",
        "      <td> 1</td>\n",
        "    </tr>\n",
        "    <tr>\n",
        "      <th>three</th>\n",
        "      <td> 2002</td>\n",
        "      <td>   Ohio</td>\n",
        "      <td> 3.6</td>\n",
        "      <td> 2</td>\n",
        "    </tr>\n",
        "    <tr>\n",
        "      <th>four</th>\n",
        "      <td> 2001</td>\n",
        "      <td> Nevada</td>\n",
        "      <td> 2.4</td>\n",
        "      <td> 3</td>\n",
        "    </tr>\n",
        "    <tr>\n",
        "      <th>five</th>\n",
        "      <td> 2002</td>\n",
        "      <td> Nevada</td>\n",
        "      <td> 2.9</td>\n",
        "      <td> 4</td>\n",
        "    </tr>\n",
        "  </tbody>\n",
        "</table>\n",
        "</div>"
       ],
       "metadata": {},
       "output_type": "pyout",
       "prompt_number": 355,
       "text": [
        "       year   state  pop  debt\n",
        "one    2000    Ohio  1.5     0\n",
        "two    2001    Ohio  1.7     1\n",
        "three  2002    Ohio  3.6     2\n",
        "four   2001  Nevada  2.4     3\n",
        "five   2002  Nevada  2.9     4"
       ]
      }
     ],
     "prompt_number": 355
    },
    {
     "cell_type": "code",
     "collapsed": false,
     "input": [
      "# \ub85c\uc6b0, \uceec\ub7fc \ubcc0\uacbd\n",
      "\n",
      "pop = {'Nevada': {2001: 2.4,\n",
      "                  2002: 2.9},\n",
      "       'Ohio': {2000: 1.5,\n",
      "                2001: 1.7,\n",
      "                2002: 3.6}}\n",
      "\n",
      "frame3 = DataFrame(pop)\n",
      "frame3"
     ],
     "language": "python",
     "metadata": {},
     "outputs": [
      {
       "html": [
        "<div style=\"max-height:1000px;max-width:1500px;overflow:auto;\">\n",
        "<table border=\"1\" class=\"dataframe\">\n",
        "  <thead>\n",
        "    <tr style=\"text-align: right;\">\n",
        "      <th></th>\n",
        "      <th>Nevada</th>\n",
        "      <th>Ohio</th>\n",
        "    </tr>\n",
        "  </thead>\n",
        "  <tbody>\n",
        "    <tr>\n",
        "      <th>2000</th>\n",
        "      <td> NaN</td>\n",
        "      <td> 1.5</td>\n",
        "    </tr>\n",
        "    <tr>\n",
        "      <th>2001</th>\n",
        "      <td> 2.4</td>\n",
        "      <td> 1.7</td>\n",
        "    </tr>\n",
        "    <tr>\n",
        "      <th>2002</th>\n",
        "      <td> 2.9</td>\n",
        "      <td> 3.6</td>\n",
        "    </tr>\n",
        "  </tbody>\n",
        "</table>\n",
        "</div>"
       ],
       "metadata": {},
       "output_type": "pyout",
       "prompt_number": 356,
       "text": [
        "      Nevada  Ohio\n",
        "2000     NaN   1.5\n",
        "2001     2.4   1.7\n",
        "2002     2.9   3.6"
       ]
      }
     ],
     "prompt_number": 356
    },
    {
     "cell_type": "code",
     "collapsed": false,
     "input": [
      "frame3.T"
     ],
     "language": "python",
     "metadata": {},
     "outputs": [
      {
       "html": [
        "<div style=\"max-height:1000px;max-width:1500px;overflow:auto;\">\n",
        "<table border=\"1\" class=\"dataframe\">\n",
        "  <thead>\n",
        "    <tr style=\"text-align: right;\">\n",
        "      <th></th>\n",
        "      <th>2000</th>\n",
        "      <th>2001</th>\n",
        "      <th>2002</th>\n",
        "    </tr>\n",
        "  </thead>\n",
        "  <tbody>\n",
        "    <tr>\n",
        "      <th>Nevada</th>\n",
        "      <td> NaN</td>\n",
        "      <td> 2.4</td>\n",
        "      <td> 2.9</td>\n",
        "    </tr>\n",
        "    <tr>\n",
        "      <th>Ohio</th>\n",
        "      <td> 1.5</td>\n",
        "      <td> 1.7</td>\n",
        "      <td> 3.6</td>\n",
        "    </tr>\n",
        "  </tbody>\n",
        "</table>\n",
        "</div>"
       ],
       "metadata": {},
       "output_type": "pyout",
       "prompt_number": 357,
       "text": [
        "        2000  2001  2002\n",
        "Nevada   NaN   2.4   2.9\n",
        "Ohio     1.5   1.7   3.6"
       ]
      }
     ],
     "prompt_number": 357
    },
    {
     "cell_type": "heading",
     "level": 2,
     "metadata": {},
     "source": [
      "pandas \uae30\ubcf8 \uae30\ub2a5"
     ]
    },
    {
     "cell_type": "markdown",
     "metadata": {},
     "source": [
      "* \uc7ac\uc0c9\uc778\n",
      "* \ud558\ub098\uc758 \ub85c\uc6b0 \ub610\ub294 \uce7c\ub7fc \uc0ad\uc81c\n",
      "* \uc0c9\uc778\ud558\uae30, \uc120\ud0dd\ud558\uae30, \uac70\ub974\uae30"
     ]
    },
    {
     "cell_type": "heading",
     "level": 3,
     "metadata": {},
     "source": [
      "\uc7ac\uc0c9\uc778"
     ]
    },
    {
     "cell_type": "code",
     "collapsed": false,
     "input": [
      "obj = Series([4.5, 7.2, -5.3, 3.6], index=['d', 'b', 'a', 'c'])\n",
      "obj"
     ],
     "language": "python",
     "metadata": {},
     "outputs": [
      {
       "metadata": {},
       "output_type": "pyout",
       "prompt_number": 358,
       "text": [
        "d    4.5\n",
        "b    7.2\n",
        "a   -5.3\n",
        "c    3.6\n",
        "dtype: float64"
       ]
      }
     ],
     "prompt_number": 358
    },
    {
     "cell_type": "code",
     "collapsed": false,
     "input": [
      "#Series \uac1d\uccb4\uc5d0 \ub300\ud574 reindex\ub97c \ud638\ucd9c\ud558\uba74 \ub370\uc774\ud130\ub97c \uc0c8\ub85c\uc6b4 \uc0c9\uc778\uc5d0 \ub9de\uac8c \uc7ac\ubc30\uc5f4\ud558\uace0, \uc5c6\ub294 \uc0c9\uc778 \uac12\uc774 \uc788\ub2e4\uba74 \ube44\uc5b4\uc788\ub294 \uac12\uc744 \uc0c8\ub85c \ucd94\uac00\n",
      "obj2 = obj.reindex(['a', 'b', 'c', 'd', 'e'])\n",
      "obj2"
     ],
     "language": "python",
     "metadata": {},
     "outputs": [
      {
       "metadata": {},
       "output_type": "pyout",
       "prompt_number": 359,
       "text": [
        "a   -5.3\n",
        "b    7.2\n",
        "c    3.6\n",
        "d    4.5\n",
        "e    NaN\n",
        "dtype: float64"
       ]
      }
     ],
     "prompt_number": 359
    },
    {
     "cell_type": "code",
     "collapsed": false,
     "input": [
      "#ffill\uc744 \uc0ac\uc6a9\ud558\uc5ec \uc55e\uc758 \uac12\uc73c\ub85c \ub204\ub77d\ub41c \uac12\uc744 \ucc44\uc6cc \ub123\uc744 \uc218 \uc788\ub2e4\n",
      "obj3 = Series(['blue', 'purple', 'yellow'], index=[0, 2, 4])\n",
      "obj3"
     ],
     "language": "python",
     "metadata": {},
     "outputs": [
      {
       "metadata": {},
       "output_type": "pyout",
       "prompt_number": 360,
       "text": [
        "0      blue\n",
        "2    purple\n",
        "4    yellow\n",
        "dtype: object"
       ]
      }
     ],
     "prompt_number": 360
    },
    {
     "cell_type": "code",
     "collapsed": false,
     "input": [
      "obj3.reindex(range(6), method='ffill')"
     ],
     "language": "python",
     "metadata": {},
     "outputs": [
      {
       "metadata": {},
       "output_type": "pyout",
       "prompt_number": 361,
       "text": [
        "0      blue\n",
        "1      blue\n",
        "2    purple\n",
        "3    purple\n",
        "4    yellow\n",
        "5    yellow\n",
        "dtype: object"
       ]
      }
     ],
     "prompt_number": 361
    },
    {
     "cell_type": "code",
     "collapsed": false,
     "input": [
      "frame = DataFrame(np.arange(9).reshape((3, 3)), index=['a', 'c', 'd'],\n",
      "                  columns=['Ohio', 'Texas', 'California'])\n",
      "frame"
     ],
     "language": "python",
     "metadata": {},
     "outputs": [
      {
       "html": [
        "<div style=\"max-height:1000px;max-width:1500px;overflow:auto;\">\n",
        "<table border=\"1\" class=\"dataframe\">\n",
        "  <thead>\n",
        "    <tr style=\"text-align: right;\">\n",
        "      <th></th>\n",
        "      <th>Ohio</th>\n",
        "      <th>Texas</th>\n",
        "      <th>California</th>\n",
        "    </tr>\n",
        "  </thead>\n",
        "  <tbody>\n",
        "    <tr>\n",
        "      <th>a</th>\n",
        "      <td> 0</td>\n",
        "      <td> 1</td>\n",
        "      <td> 2</td>\n",
        "    </tr>\n",
        "    <tr>\n",
        "      <th>c</th>\n",
        "      <td> 3</td>\n",
        "      <td> 4</td>\n",
        "      <td> 5</td>\n",
        "    </tr>\n",
        "    <tr>\n",
        "      <th>d</th>\n",
        "      <td> 6</td>\n",
        "      <td> 7</td>\n",
        "      <td> 8</td>\n",
        "    </tr>\n",
        "  </tbody>\n",
        "</table>\n",
        "</div>"
       ],
       "metadata": {},
       "output_type": "pyout",
       "prompt_number": 362,
       "text": [
        "   Ohio  Texas  California\n",
        "a     0      1           2\n",
        "c     3      4           5\n",
        "d     6      7           8"
       ]
      }
     ],
     "prompt_number": 362
    },
    {
     "cell_type": "code",
     "collapsed": false,
     "input": [
      "frame2 = frame.reindex(['a', 'b', 'c', 'd'])\n",
      "frame2"
     ],
     "language": "python",
     "metadata": {},
     "outputs": [
      {
       "html": [
        "<div style=\"max-height:1000px;max-width:1500px;overflow:auto;\">\n",
        "<table border=\"1\" class=\"dataframe\">\n",
        "  <thead>\n",
        "    <tr style=\"text-align: right;\">\n",
        "      <th></th>\n",
        "      <th>Ohio</th>\n",
        "      <th>Texas</th>\n",
        "      <th>California</th>\n",
        "    </tr>\n",
        "  </thead>\n",
        "  <tbody>\n",
        "    <tr>\n",
        "      <th>a</th>\n",
        "      <td>  0</td>\n",
        "      <td>  1</td>\n",
        "      <td>  2</td>\n",
        "    </tr>\n",
        "    <tr>\n",
        "      <th>b</th>\n",
        "      <td>NaN</td>\n",
        "      <td>NaN</td>\n",
        "      <td>NaN</td>\n",
        "    </tr>\n",
        "    <tr>\n",
        "      <th>c</th>\n",
        "      <td>  3</td>\n",
        "      <td>  4</td>\n",
        "      <td>  5</td>\n",
        "    </tr>\n",
        "    <tr>\n",
        "      <th>d</th>\n",
        "      <td>  6</td>\n",
        "      <td>  7</td>\n",
        "      <td>  8</td>\n",
        "    </tr>\n",
        "  </tbody>\n",
        "</table>\n",
        "</div>"
       ],
       "metadata": {},
       "output_type": "pyout",
       "prompt_number": 363,
       "text": [
        "   Ohio  Texas  California\n",
        "a     0      1           2\n",
        "b   NaN    NaN         NaN\n",
        "c     3      4           5\n",
        "d     6      7           8"
       ]
      }
     ],
     "prompt_number": 363
    },
    {
     "cell_type": "code",
     "collapsed": false,
     "input": [
      "states = ['Texas', 'Utah', 'California']\n",
      "frame.reindex(columns=states)"
     ],
     "language": "python",
     "metadata": {},
     "outputs": [
      {
       "html": [
        "<div style=\"max-height:1000px;max-width:1500px;overflow:auto;\">\n",
        "<table border=\"1\" class=\"dataframe\">\n",
        "  <thead>\n",
        "    <tr style=\"text-align: right;\">\n",
        "      <th></th>\n",
        "      <th>Texas</th>\n",
        "      <th>Utah</th>\n",
        "      <th>California</th>\n",
        "    </tr>\n",
        "  </thead>\n",
        "  <tbody>\n",
        "    <tr>\n",
        "      <th>a</th>\n",
        "      <td> 1</td>\n",
        "      <td>NaN</td>\n",
        "      <td> 2</td>\n",
        "    </tr>\n",
        "    <tr>\n",
        "      <th>c</th>\n",
        "      <td> 4</td>\n",
        "      <td>NaN</td>\n",
        "      <td> 5</td>\n",
        "    </tr>\n",
        "    <tr>\n",
        "      <th>d</th>\n",
        "      <td> 7</td>\n",
        "      <td>NaN</td>\n",
        "      <td> 8</td>\n",
        "    </tr>\n",
        "  </tbody>\n",
        "</table>\n",
        "</div>"
       ],
       "metadata": {},
       "output_type": "pyout",
       "prompt_number": 364,
       "text": [
        "   Texas  Utah  California\n",
        "a      1   NaN           2\n",
        "c      4   NaN           5\n",
        "d      7   NaN           8"
       ]
      }
     ],
     "prompt_number": 364
    },
    {
     "cell_type": "heading",
     "level": 3,
     "metadata": {},
     "source": [
      "\ud558\ub098\uc758 \ub85c\uc6b0 \ub610\ub294 \uce7c\ub7fc \uc0ad\uc81c"
     ]
    },
    {
     "cell_type": "code",
     "collapsed": false,
     "input": [
      "obj = Series(np.arange(5.), index=['a', 'b', 'c', 'd', 'e'])\n",
      "obj"
     ],
     "language": "python",
     "metadata": {},
     "outputs": [
      {
       "metadata": {},
       "output_type": "pyout",
       "prompt_number": 365,
       "text": [
        "a    0\n",
        "b    1\n",
        "c    2\n",
        "d    3\n",
        "e    4\n",
        "dtype: float64"
       ]
      }
     ],
     "prompt_number": 365
    },
    {
     "cell_type": "code",
     "collapsed": false,
     "input": [
      "new_obj = obj.drop('c')\n",
      "new_obj"
     ],
     "language": "python",
     "metadata": {},
     "outputs": [
      {
       "metadata": {},
       "output_type": "pyout",
       "prompt_number": 366,
       "text": [
        "a    0\n",
        "b    1\n",
        "d    3\n",
        "e    4\n",
        "dtype: float64"
       ]
      }
     ],
     "prompt_number": 366
    },
    {
     "cell_type": "code",
     "collapsed": false,
     "input": [
      "obj.drop(['d', 'c'])"
     ],
     "language": "python",
     "metadata": {},
     "outputs": [
      {
       "metadata": {},
       "output_type": "pyout",
       "prompt_number": 367,
       "text": [
        "a    0\n",
        "b    1\n",
        "e    4\n",
        "dtype: float64"
       ]
      }
     ],
     "prompt_number": 367
    },
    {
     "cell_type": "code",
     "collapsed": false,
     "input": [
      "data = DataFrame(np.arange(16).reshape((4, 4)),\n",
      "                 index=['Ohio', 'Colorado', 'Utah', 'New York'],\n",
      "                 columns=['one', 'two', 'three', 'four'])\n",
      "data"
     ],
     "language": "python",
     "metadata": {},
     "outputs": [
      {
       "html": [
        "<div style=\"max-height:1000px;max-width:1500px;overflow:auto;\">\n",
        "<table border=\"1\" class=\"dataframe\">\n",
        "  <thead>\n",
        "    <tr style=\"text-align: right;\">\n",
        "      <th></th>\n",
        "      <th>one</th>\n",
        "      <th>two</th>\n",
        "      <th>three</th>\n",
        "      <th>four</th>\n",
        "    </tr>\n",
        "  </thead>\n",
        "  <tbody>\n",
        "    <tr>\n",
        "      <th>Ohio</th>\n",
        "      <td>  0</td>\n",
        "      <td>  1</td>\n",
        "      <td>  2</td>\n",
        "      <td>  3</td>\n",
        "    </tr>\n",
        "    <tr>\n",
        "      <th>Colorado</th>\n",
        "      <td>  4</td>\n",
        "      <td>  5</td>\n",
        "      <td>  6</td>\n",
        "      <td>  7</td>\n",
        "    </tr>\n",
        "    <tr>\n",
        "      <th>Utah</th>\n",
        "      <td>  8</td>\n",
        "      <td>  9</td>\n",
        "      <td> 10</td>\n",
        "      <td> 11</td>\n",
        "    </tr>\n",
        "    <tr>\n",
        "      <th>New York</th>\n",
        "      <td> 12</td>\n",
        "      <td> 13</td>\n",
        "      <td> 14</td>\n",
        "      <td> 15</td>\n",
        "    </tr>\n",
        "  </tbody>\n",
        "</table>\n",
        "</div>"
       ],
       "metadata": {},
       "output_type": "pyout",
       "prompt_number": 368,
       "text": [
        "          one  two  three  four\n",
        "Ohio        0    1      2     3\n",
        "Colorado    4    5      6     7\n",
        "Utah        8    9     10    11\n",
        "New York   12   13     14    15"
       ]
      }
     ],
     "prompt_number": 368
    },
    {
     "cell_type": "code",
     "collapsed": false,
     "input": [
      "# \ub85c\uc6b0 \uc0ad\uc81c\n",
      "data.drop(['Colorado', 'Ohio'])"
     ],
     "language": "python",
     "metadata": {},
     "outputs": [
      {
       "html": [
        "<div style=\"max-height:1000px;max-width:1500px;overflow:auto;\">\n",
        "<table border=\"1\" class=\"dataframe\">\n",
        "  <thead>\n",
        "    <tr style=\"text-align: right;\">\n",
        "      <th></th>\n",
        "      <th>one</th>\n",
        "      <th>two</th>\n",
        "      <th>three</th>\n",
        "      <th>four</th>\n",
        "    </tr>\n",
        "  </thead>\n",
        "  <tbody>\n",
        "    <tr>\n",
        "      <th>Utah</th>\n",
        "      <td>  8</td>\n",
        "      <td>  9</td>\n",
        "      <td> 10</td>\n",
        "      <td> 11</td>\n",
        "    </tr>\n",
        "    <tr>\n",
        "      <th>New York</th>\n",
        "      <td> 12</td>\n",
        "      <td> 13</td>\n",
        "      <td> 14</td>\n",
        "      <td> 15</td>\n",
        "    </tr>\n",
        "  </tbody>\n",
        "</table>\n",
        "</div>"
       ],
       "metadata": {},
       "output_type": "pyout",
       "prompt_number": 369,
       "text": [
        "          one  two  three  four\n",
        "Utah        8    9     10    11\n",
        "New York   12   13     14    15"
       ]
      }
     ],
     "prompt_number": 369
    },
    {
     "cell_type": "code",
     "collapsed": false,
     "input": [
      "# \uceec\ub7fc \uc0ad\uc81c\n",
      "data.drop(['two', 'four'], axis=1)"
     ],
     "language": "python",
     "metadata": {},
     "outputs": [
      {
       "html": [
        "<div style=\"max-height:1000px;max-width:1500px;overflow:auto;\">\n",
        "<table border=\"1\" class=\"dataframe\">\n",
        "  <thead>\n",
        "    <tr style=\"text-align: right;\">\n",
        "      <th></th>\n",
        "      <th>one</th>\n",
        "      <th>three</th>\n",
        "    </tr>\n",
        "  </thead>\n",
        "  <tbody>\n",
        "    <tr>\n",
        "      <th>Ohio</th>\n",
        "      <td>  0</td>\n",
        "      <td>  2</td>\n",
        "    </tr>\n",
        "    <tr>\n",
        "      <th>Colorado</th>\n",
        "      <td>  4</td>\n",
        "      <td>  6</td>\n",
        "    </tr>\n",
        "    <tr>\n",
        "      <th>Utah</th>\n",
        "      <td>  8</td>\n",
        "      <td> 10</td>\n",
        "    </tr>\n",
        "    <tr>\n",
        "      <th>New York</th>\n",
        "      <td> 12</td>\n",
        "      <td> 14</td>\n",
        "    </tr>\n",
        "  </tbody>\n",
        "</table>\n",
        "</div>"
       ],
       "metadata": {},
       "output_type": "pyout",
       "prompt_number": 370,
       "text": [
        "          one  three\n",
        "Ohio        0      2\n",
        "Colorado    4      6\n",
        "Utah        8     10\n",
        "New York   12     14"
       ]
      }
     ],
     "prompt_number": 370
    },
    {
     "cell_type": "heading",
     "level": 3,
     "metadata": {},
     "source": [
      "\uc0c9\uc778\ud558\uae30, \uc120\ud0dd\ud558\uae30, \uac70\ub974\uae30"
     ]
    },
    {
     "cell_type": "code",
     "collapsed": false,
     "input": [
      "obj = Series(np.arange(4.), index=['a', 'b', 'c', 'd'])\n",
      "obj"
     ],
     "language": "python",
     "metadata": {},
     "outputs": [
      {
       "metadata": {},
       "output_type": "pyout",
       "prompt_number": 371,
       "text": [
        "a    0\n",
        "b    1\n",
        "c    2\n",
        "d    3\n",
        "dtype: float64"
       ]
      }
     ],
     "prompt_number": 371
    },
    {
     "cell_type": "code",
     "collapsed": false,
     "input": [
      "obj['b']"
     ],
     "language": "python",
     "metadata": {},
     "outputs": [
      {
       "metadata": {},
       "output_type": "pyout",
       "prompt_number": 372,
       "text": [
        "1.0"
       ]
      }
     ],
     "prompt_number": 372
    },
    {
     "cell_type": "code",
     "collapsed": false,
     "input": [
      "obj[1]"
     ],
     "language": "python",
     "metadata": {},
     "outputs": [
      {
       "metadata": {},
       "output_type": "pyout",
       "prompt_number": 373,
       "text": [
        "1.0"
       ]
      }
     ],
     "prompt_number": 373
    },
    {
     "cell_type": "code",
     "collapsed": false,
     "input": [
      "obj[2:4]"
     ],
     "language": "python",
     "metadata": {},
     "outputs": [
      {
       "metadata": {},
       "output_type": "pyout",
       "prompt_number": 374,
       "text": [
        "c    2\n",
        "d    3\n",
        "dtype: float64"
       ]
      }
     ],
     "prompt_number": 374
    },
    {
     "cell_type": "code",
     "collapsed": false,
     "input": [
      "obj[['b', 'a', 'd']]"
     ],
     "language": "python",
     "metadata": {},
     "outputs": [
      {
       "metadata": {},
       "output_type": "pyout",
       "prompt_number": 375,
       "text": [
        "b    1\n",
        "a    0\n",
        "d    3\n",
        "dtype: float64"
       ]
      }
     ],
     "prompt_number": 375
    },
    {
     "cell_type": "code",
     "collapsed": false,
     "input": [
      "obj[obj < 2]"
     ],
     "language": "python",
     "metadata": {},
     "outputs": [
      {
       "metadata": {},
       "output_type": "pyout",
       "prompt_number": 376,
       "text": [
        "a    0\n",
        "b    1\n",
        "dtype: float64"
       ]
      }
     ],
     "prompt_number": 376
    },
    {
     "cell_type": "code",
     "collapsed": false,
     "input": [
      "# \ub77c\ubca8 \uc774\ub984\uc73c\ub85c \uc2ac\ub77c\uc774\uc2f1\ud558\ub294 \uac83\uc740 \uc2dc\uc791\uc810\uacfc \ub05d\uc810\uc744 \ud3ec\ud568\ud55c\ub2e4\ub294 \uc810\uc774 \uc77c\ubc18 \ud30c\uc774\uc36c\uc5d0\uc11c\uc758 \uc2ac\ub77c\uc774\uc2f1\uacfc \ub2e4\ub978 \uc810\n",
      "obj['b':'c']"
     ],
     "language": "python",
     "metadata": {},
     "outputs": [
      {
       "metadata": {},
       "output_type": "pyout",
       "prompt_number": 377,
       "text": [
        "b    1\n",
        "c    2\n",
        "dtype: float64"
       ]
      }
     ],
     "prompt_number": 377
    },
    {
     "cell_type": "code",
     "collapsed": false,
     "input": [
      "data = DataFrame(np.arange(16).reshape((4, 4)),\n",
      "                 index=['Ohio', 'Colorado', 'Utah', 'New York'],\n",
      "                 columns=['one', 'two', 'three', 'four'])\n",
      "data"
     ],
     "language": "python",
     "metadata": {},
     "outputs": [
      {
       "html": [
        "<div style=\"max-height:1000px;max-width:1500px;overflow:auto;\">\n",
        "<table border=\"1\" class=\"dataframe\">\n",
        "  <thead>\n",
        "    <tr style=\"text-align: right;\">\n",
        "      <th></th>\n",
        "      <th>one</th>\n",
        "      <th>two</th>\n",
        "      <th>three</th>\n",
        "      <th>four</th>\n",
        "    </tr>\n",
        "  </thead>\n",
        "  <tbody>\n",
        "    <tr>\n",
        "      <th>Ohio</th>\n",
        "      <td>  0</td>\n",
        "      <td>  1</td>\n",
        "      <td>  2</td>\n",
        "      <td>  3</td>\n",
        "    </tr>\n",
        "    <tr>\n",
        "      <th>Colorado</th>\n",
        "      <td>  4</td>\n",
        "      <td>  5</td>\n",
        "      <td>  6</td>\n",
        "      <td>  7</td>\n",
        "    </tr>\n",
        "    <tr>\n",
        "      <th>Utah</th>\n",
        "      <td>  8</td>\n",
        "      <td>  9</td>\n",
        "      <td> 10</td>\n",
        "      <td> 11</td>\n",
        "    </tr>\n",
        "    <tr>\n",
        "      <th>New York</th>\n",
        "      <td> 12</td>\n",
        "      <td> 13</td>\n",
        "      <td> 14</td>\n",
        "      <td> 15</td>\n",
        "    </tr>\n",
        "  </tbody>\n",
        "</table>\n",
        "</div>"
       ],
       "metadata": {},
       "output_type": "pyout",
       "prompt_number": 378,
       "text": [
        "          one  two  three  four\n",
        "Ohio        0    1      2     3\n",
        "Colorado    4    5      6     7\n",
        "Utah        8    9     10    11\n",
        "New York   12   13     14    15"
       ]
      }
     ],
     "prompt_number": 378
    },
    {
     "cell_type": "code",
     "collapsed": false,
     "input": [
      "# \uceec\ub7fc \uc120\ud0dd\n",
      "data['two']"
     ],
     "language": "python",
     "metadata": {},
     "outputs": [
      {
       "metadata": {},
       "output_type": "pyout",
       "prompt_number": 379,
       "text": [
        "Ohio         1\n",
        "Colorado     5\n",
        "Utah         9\n",
        "New York    13\n",
        "Name: two, dtype: int64"
       ]
      }
     ],
     "prompt_number": 379
    },
    {
     "cell_type": "code",
     "collapsed": false,
     "input": [
      "data[['three', 'one']]"
     ],
     "language": "python",
     "metadata": {},
     "outputs": [
      {
       "html": [
        "<div style=\"max-height:1000px;max-width:1500px;overflow:auto;\">\n",
        "<table border=\"1\" class=\"dataframe\">\n",
        "  <thead>\n",
        "    <tr style=\"text-align: right;\">\n",
        "      <th></th>\n",
        "      <th>three</th>\n",
        "      <th>one</th>\n",
        "    </tr>\n",
        "  </thead>\n",
        "  <tbody>\n",
        "    <tr>\n",
        "      <th>Ohio</th>\n",
        "      <td>  2</td>\n",
        "      <td>  0</td>\n",
        "    </tr>\n",
        "    <tr>\n",
        "      <th>Colorado</th>\n",
        "      <td>  6</td>\n",
        "      <td>  4</td>\n",
        "    </tr>\n",
        "    <tr>\n",
        "      <th>Utah</th>\n",
        "      <td> 10</td>\n",
        "      <td>  8</td>\n",
        "    </tr>\n",
        "    <tr>\n",
        "      <th>New York</th>\n",
        "      <td> 14</td>\n",
        "      <td> 12</td>\n",
        "    </tr>\n",
        "  </tbody>\n",
        "</table>\n",
        "</div>"
       ],
       "metadata": {},
       "output_type": "pyout",
       "prompt_number": 380,
       "text": [
        "          three  one\n",
        "Ohio          2    0\n",
        "Colorado      6    4\n",
        "Utah         10    8\n",
        "New York     14   12"
       ]
      }
     ],
     "prompt_number": 380
    },
    {
     "cell_type": "code",
     "collapsed": false,
     "input": [
      "# \ub85c\uc6b0 \uc120\ud0dd\n",
      "data[:2]"
     ],
     "language": "python",
     "metadata": {},
     "outputs": [
      {
       "html": [
        "<div style=\"max-height:1000px;max-width:1500px;overflow:auto;\">\n",
        "<table border=\"1\" class=\"dataframe\">\n",
        "  <thead>\n",
        "    <tr style=\"text-align: right;\">\n",
        "      <th></th>\n",
        "      <th>one</th>\n",
        "      <th>two</th>\n",
        "      <th>three</th>\n",
        "      <th>four</th>\n",
        "    </tr>\n",
        "  </thead>\n",
        "  <tbody>\n",
        "    <tr>\n",
        "      <th>Ohio</th>\n",
        "      <td> 0</td>\n",
        "      <td> 1</td>\n",
        "      <td> 2</td>\n",
        "      <td> 3</td>\n",
        "    </tr>\n",
        "    <tr>\n",
        "      <th>Colorado</th>\n",
        "      <td> 4</td>\n",
        "      <td> 5</td>\n",
        "      <td> 6</td>\n",
        "      <td> 7</td>\n",
        "    </tr>\n",
        "  </tbody>\n",
        "</table>\n",
        "</div>"
       ],
       "metadata": {},
       "output_type": "pyout",
       "prompt_number": 383,
       "text": [
        "          one  two  three  four\n",
        "Ohio        0    1      2     3\n",
        "Colorado    4    5      6     7"
       ]
      }
     ],
     "prompt_number": 383
    },
    {
     "cell_type": "code",
     "collapsed": false,
     "input": [
      "data.ix['Colorado']"
     ],
     "language": "python",
     "metadata": {},
     "outputs": [
      {
       "metadata": {},
       "output_type": "pyout",
       "prompt_number": 384,
       "text": [
        "one      4\n",
        "two      5\n",
        "three    6\n",
        "four     7\n",
        "Name: Colorado, dtype: int64"
       ]
      }
     ],
     "prompt_number": 384
    },
    {
     "cell_type": "code",
     "collapsed": false,
     "input": [
      "data.ix['Colorado', ['two', 'three']]"
     ],
     "language": "python",
     "metadata": {},
     "outputs": [
      {
       "metadata": {},
       "output_type": "pyout",
       "prompt_number": 385,
       "text": [
        "two      5\n",
        "three    6\n",
        "Name: Colorado, dtype: int64"
       ]
      }
     ],
     "prompt_number": 385
    },
    {
     "cell_type": "code",
     "collapsed": false,
     "input": [
      "data.ix[['Colorado', 'Utah']]"
     ],
     "language": "python",
     "metadata": {},
     "outputs": [
      {
       "html": [
        "<div style=\"max-height:1000px;max-width:1500px;overflow:auto;\">\n",
        "<table border=\"1\" class=\"dataframe\">\n",
        "  <thead>\n",
        "    <tr style=\"text-align: right;\">\n",
        "      <th></th>\n",
        "      <th>one</th>\n",
        "      <th>two</th>\n",
        "      <th>three</th>\n",
        "      <th>four</th>\n",
        "    </tr>\n",
        "  </thead>\n",
        "  <tbody>\n",
        "    <tr>\n",
        "      <th>Colorado</th>\n",
        "      <td> 4</td>\n",
        "      <td> 5</td>\n",
        "      <td>  6</td>\n",
        "      <td>  7</td>\n",
        "    </tr>\n",
        "    <tr>\n",
        "      <th>Utah</th>\n",
        "      <td> 8</td>\n",
        "      <td> 9</td>\n",
        "      <td> 10</td>\n",
        "      <td> 11</td>\n",
        "    </tr>\n",
        "  </tbody>\n",
        "</table>\n",
        "</div>"
       ],
       "metadata": {},
       "output_type": "pyout",
       "prompt_number": 386,
       "text": [
        "          one  two  three  four\n",
        "Colorado    4    5      6     7\n",
        "Utah        8    9     10    11"
       ]
      }
     ],
     "prompt_number": 386
    },
    {
     "cell_type": "code",
     "collapsed": false,
     "input": [
      "data.ix[['Colorado', 'Utah'], ['two', 'three']]"
     ],
     "language": "python",
     "metadata": {},
     "outputs": [
      {
       "html": [
        "<div style=\"max-height:1000px;max-width:1500px;overflow:auto;\">\n",
        "<table border=\"1\" class=\"dataframe\">\n",
        "  <thead>\n",
        "    <tr style=\"text-align: right;\">\n",
        "      <th></th>\n",
        "      <th>two</th>\n",
        "      <th>three</th>\n",
        "    </tr>\n",
        "  </thead>\n",
        "  <tbody>\n",
        "    <tr>\n",
        "      <th>Colorado</th>\n",
        "      <td> 5</td>\n",
        "      <td>  6</td>\n",
        "    </tr>\n",
        "    <tr>\n",
        "      <th>Utah</th>\n",
        "      <td> 9</td>\n",
        "      <td> 10</td>\n",
        "    </tr>\n",
        "  </tbody>\n",
        "</table>\n",
        "</div>"
       ],
       "metadata": {},
       "output_type": "pyout",
       "prompt_number": 387,
       "text": [
        "          two  three\n",
        "Colorado    5      6\n",
        "Utah        9     10"
       ]
      }
     ],
     "prompt_number": 387
    },
    {
     "cell_type": "markdown",
     "metadata": {},
     "source": [
      "## \ucc38\uace0\uc790\ub8cc \n",
      "\n",
      " * [1] \ud30c\uc774\uc36c \ub77c\uc774\ube0c\ub7ec\ub9ac\ub97c \ud65c\uc6a9\ud55c \ub370\uc774\ud130 \ubd84\uc11d - http://www.hanbit.co.kr/book/look.html?isbn=978-89-6848-047-8\n",
      " * [2] \ub370\uc774\ud130/\uc218\uce58 \ubd84\uc11d\uc744 \uc704\ud55c \ud30c\uc774\uc36c \ub77c\uc774\ube0c\ub7ec\ub9ac SciPy\uc640 NumPy -  http://www.hanbit.co.kr/ebook/look.html?isbn=9788968486135\n",
      " * [3] \uc120\ud615\ub300\uc218 \ubcf4\uac15(\ubc14\uc774\uc624\ud30c\uc774\uc36c) - http://nbviewer.ipython.org/github/biopy/biopy.github.io/blob/master/notebook/Part3/Week4/spB_LinearAlgebra/linear.ipynb"
     ]
    }
   ],
   "metadata": {}
  }
 ]
}