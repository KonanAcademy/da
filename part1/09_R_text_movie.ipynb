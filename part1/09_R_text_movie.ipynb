{
 "cells": [
  {
   "cell_type": "code",
   "execution_count": 1,
   "metadata": {
    "collapsed": true
   },
   "outputs": [],
   "source": [
    "# 09_R : 텍스트 분석"
   ]
  },
  {
   "cell_type": "code",
   "execution_count": 2,
   "metadata": {
    "collapsed": true
   },
   "outputs": [],
   "source": [
    "# 예측 분석 모델링 실무 기법\n",
    "# 소스(원저자) - http://www.ftpress.com/promotions/modeling-techniques-in-predictive-analytics-139480\n",
    "# 소스(역자) - http://blog.naver.com/skk1991/220238139920"
   ]
  },
  {
   "cell_type": "code",
   "execution_count": 3,
   "metadata": {
    "collapsed": true
   },
   "outputs": [],
   "source": [
    "# Text Analysis of Movie Tag Lines\n",
    "\n",
    "options(warn=-1)"
   ]
  },
  {
   "cell_type": "code",
   "execution_count": 61,
   "metadata": {
    "collapsed": false
   },
   "outputs": [],
   "source": [
    "library(tm)  # text mining and document management\n",
    "library(stringr)  # character manipulation with regular expressions\n",
    "library(grid)  # grid graphics utilities\n",
    "library(ggplot2)  # graphics\n",
    "library(latticeExtra)  # package used for text horizon plot\n",
    "library(wordcloud)  # provides utility for plotting non-overlapping text\n",
    "library(cluster)  # cluster analysis\n",
    "library(proxy)"
   ]
  },
  {
   "cell_type": "code",
   "execution_count": 5,
   "metadata": {
    "collapsed": true
   },
   "outputs": [],
   "source": [
    "# R 기본 콘솔이나 RStudio 환경에서는 이렇게 하면 그래프 함수를 쓸 수 있다.\n",
    "# 하지만 현재 쥬피터 환경에서는 안된다. \n",
    "# 그러므로 이 쥬피터의 맨 밑 셀에 있는 그래프 함수를 실행해서\n",
    "# 전역 메모리에 함수를 얹어놓고\n",
    "# 그 뒤에 코드를 실행해나가면 된다.\n",
    "load(\"09_data/text/mtpa_split_plotting_utilities.Rdata\")"
   ]
  },
  {
   "cell_type": "code",
   "execution_count": 6,
   "metadata": {
    "collapsed": true
   },
   "outputs": [],
   "source": [
    "# standardization needed for text measures\n",
    "standardize <- function(x) {(x - mean(x)) / sd(x)}"
   ]
  },
  {
   "cell_type": "code",
   "execution_count": 7,
   "metadata": {
    "collapsed": true
   },
   "outputs": [],
   "source": [
    "# convert to bytecodes to avoid \"invalid multibyte string\" messages\n",
    "bytecode.convert <- function(x) {iconv(enc2utf8(x), sub = \"byte\")}"
   ]
  },
  {
   "cell_type": "code",
   "execution_count": 8,
   "metadata": {
    "collapsed": true
   },
   "outputs": [],
   "source": [
    "# NLINES <- 21  # for development and test runs\n",
    "# input.data.file.name <- \"taglines_list_sample.txt\"\n",
    "#  scan(\"taglines_list_sample.txt\", what = \"character\")  # development runs\n",
    "# nlines_to_read <- 21  # for development and test runs\n",
    "\n",
    "# there are 345317 records in the full taglines data file\n",
    "# the number of lines in the input data file\n",
    "# or maximum number of lines to read\n",
    "NLINES <- 345317   \n",
    "input.data.file.name <- \"09_data/text/taglines_copy_data.txt\"  # production runs\n",
    "# read the data in blocks of nlines_to_read at a time\n",
    "nlines_to_read <- 10000  # size of block of lines to read"
   ]
  },
  {
   "cell_type": "code",
   "execution_count": 9,
   "metadata": {
    "collapsed": true
   },
   "outputs": [],
   "source": [
    "# debug print was used during the code development process\n",
    "debub.print.mode <- FALSE\n",
    "debug.print <- function(title,date,tagline,status) {\n",
    "  cat(\"\\n title =\",title,\"  date = \", date,\" tagline\",\n",
    "    tagline, \" status = \",status,\"\\n\")\n",
    "  }"
   ]
  },
  {
   "cell_type": "code",
   "execution_count": 10,
   "metadata": {
    "collapsed": true
   },
   "outputs": [],
   "source": [
    "# this user-defined function shows how R can be used to parse text input\n",
    "tagline.parser <- function(input.list) {\n",
    "# where we start depends upon the status on entry\n",
    "# tagline parser can only be in one status at a time\n",
    "# begin\n",
    "# indicator\n",
    "# title (actually a title and date status)\n",
    "# moretitle (another title and data status, but following a previous title)\n",
    "# tagline\n",
    "# comment\n",
    "\n",
    "# data are not clean... if you get a new movie indicator \"#\" start a new movie\n",
    "# we may lose a few movies this way... but that is better than editing a file\n",
    "# with about 40 thousand movies..\n",
    "\n",
    "# at this time all valid dates should look be six characters long\n",
    "# four numbers surrounded by parentheses \n",
    "# lets use The Birth of a Nation (1915) as the earliest possible valid date\n",
    "# and the current year as the latest possible valid date \n",
    "# obtained by as.numeric(format(Sys.time(), \"%Y\"))\n",
    "valid.years <- 1915:as.numeric(format(Sys.time(), \"%Y\"))\n",
    "valid.years.strings.four <- paste(\"(\",as.character(valid.years),sep=\"\")\n",
    "\n",
    "   text <- input.list[[1]]\n",
    "   status <- input.list[[2]]\n",
    "   title <- input.list[[3]]\n",
    "   date <- input.list[[4]]\n",
    "   tagline <- input.list[[5]]\n",
    "   \n",
    "   nitems <- length(text)\n",
    "   ncount <- 1  # initialize on entry\n",
    "   tagline_data.store <- NULL\n",
    "   \n",
    "   while(ncount < nitems) {   \n",
    "# debug printing was used in the development and testing of parsing logic   \n",
    "     if (debub.print.mode) debug.print(title,date,tagline,status) \n",
    "     if (status == \"indicator\" | status == \"begin\") {\n",
    "       if (ncount <= nitems) {\n",
    "         ncount <- ncount + 1\n",
    "         status <- \"initialtitle\"\n",
    "         title <- \" \"  # blank title to start\n",
    "         date <- \" \"   # blank date to start\n",
    "         tagline <- \" \"  # blank tagline to start\n",
    "         }\n",
    "       }\n",
    "       \n",
    "     if (status == \"initialtitle\") {\n",
    "       if (ncount <= nitems) {\n",
    "         title <- text[ncount]\n",
    "         ncount <- ncount + 1\n",
    "         if (ncount <= nitems) {\n",
    "           test_date <- text[ncount]\n",
    "           if (substring(test_date,1,5) %in% valid.years.strings.four) {\n",
    "             date <- test_date\n",
    "             ncount <- ncount + 1\n",
    "             status <- \"tagline\"\n",
    "             }\n",
    "           if (!(substring(test_date,1,5) %in% valid.years.strings.four)) {     \n",
    "             if (test_date == \"#\") {\n",
    "                 status <- \"indicator\"\n",
    "                 }           \n",
    "             if (test_date != \"#\") {\n",
    "                 title <- paste(title, test_date)  \n",
    "                 ncount <- ncount + 1 \n",
    "                 status <- \"moretitle\"\n",
    "                 }               \n",
    "             } \n",
    "           }  \n",
    "         }\n",
    "       }\n",
    "                                        \n",
    "     if (status == \"moretitle\") {\n",
    "       if (ncount <= nitems) {\n",
    "         ncount <- ncount + 1\n",
    "         if (ncount <= nitems) {\n",
    "           test_date <- text[ncount]\n",
    "           if (substring(test_date,1,5) %in% valid.years.strings.four) {\n",
    "             date <- test_date\n",
    "             ncount <- ncount + 1\n",
    "             status <- \"tagline\"\n",
    "             }\n",
    "           if (!(substring(test_date,1,5) %in% valid.years.strings.four)) {     \n",
    "             if (test_date == \"#\") {\n",
    "                 status <- \"indicator\"\n",
    "                 }           \n",
    "             if (test_date != \"#\") {\n",
    "                 title <- paste(title, test_date)  \n",
    "                 ncount <- ncount + 1  \n",
    "                 }               \n",
    "             } \n",
    "           }  \n",
    "         }\n",
    "       }                    \n",
    "                                       \n",
    "       if (status == \"tagline\") {\n",
    "         if (ncount <= nitems) {\n",
    "           new_text <- text[ncount]\n",
    "           if (new_text == \"#\") {\n",
    "             tagline_data.store <- rbind(tagline_data.store,\n",
    "                data.frame(title, date, tagline, stringsAsFactors = FALSE))\n",
    "                status <- \"indicator\"\n",
    "             }           \n",
    "           if (new_text != \"#\") {\n",
    "             if (substring(new_text,1,1) == \"{\") {\n",
    "               ncount <- ncount + 1\n",
    "               status <- \"comment\"\n",
    "               }\n",
    "             if (substring(new_text,1,1) != \"{\") {\n",
    "               tagline <- paste(tagline, new_text)\n",
    "               ncount <- ncount + 1\n",
    "               }\n",
    "             }             \n",
    "           }          \n",
    "         }\n",
    "  \n",
    "       if (status == \"comment\") {\n",
    "         if (ncount <= nitems) {\n",
    "           new_text <- text[ncount]         \n",
    "           if (substring(new_text,nchar(new_text),nchar(new_text)) == \"}\") {\n",
    "             ncount <- ncount + 1\n",
    "             status <- \"tagline\"\n",
    "             }\n",
    "           if (substring(new_text,nchar(new_text),nchar(new_text)) != \"}\") {\n",
    "             ncount <- ncount + 1\n",
    "             }\n",
    "           }\n",
    "         }  \n",
    "  } # end of primary while-loop\n",
    "list(tagline_data.store, status, title, date, tagline)  # return list\n",
    "}  # end of function"
   ]
  },
  {
   "cell_type": "code",
   "execution_count": 11,
   "metadata": {
    "collapsed": false
   },
   "outputs": [
    {
     "name": "stdout",
     "output_type": "stream",
     "text": [
      "\n",
      "\n",
      " NUMBER OF LINES READ: "
     ]
    }
   ],
   "source": [
    "cat(\"\\n\\n\",\"NUMBER OF LINES READ: \")"
   ]
  },
  {
   "cell_type": "code",
   "execution_count": 12,
   "metadata": {
    "collapsed": true
   },
   "outputs": [],
   "source": [
    "skip <- 0  # initialize the number of lines to skip\n",
    "nlines_read_so_far <- 0  # intitialze number of lines read so far"
   ]
  },
  {
   "cell_type": "code",
   "execution_count": 13,
   "metadata": {
    "collapsed": true
   },
   "outputs": [],
   "source": [
    "status <- \"begin\"  # initial status\n",
    "title <- \" \"  # blank title to start\n",
    "date <- \" \"   # blank date to start\n",
    "tagline <- \" \"  # blank tagline to start"
   ]
  },
  {
   "cell_type": "code",
   "execution_count": 14,
   "metadata": {
    "collapsed": true
   },
   "outputs": [],
   "source": [
    "data.store <- NULL  # initialize the data frame for storing text data"
   ]
  },
  {
   "cell_type": "code",
   "execution_count": 15,
   "metadata": {
    "collapsed": false
   },
   "outputs": [
    {
     "name": "stdout",
     "output_type": "stream",
     "text": [
      "  nlines_read_so_far: 10000  nlines_read_so_far: 20000  nlines_read_so_far: 30000  nlines_read_so_far: 40000  nlines_read_so_far: 50000  nlines_read_so_far: 60000  nlines_read_so_far: 70000  nlines_read_so_far: 80000  nlines_read_so_far: 90000  nlines_read_so_far: 1e+05  nlines_read_so_far: 110000  nlines_read_so_far: 120000  nlines_read_so_far: 130000  nlines_read_so_far: 140000  nlines_read_so_far: 150000  nlines_read_so_far: 160000  nlines_read_so_far: 170000  nlines_read_so_far: 180000  nlines_read_so_far: 190000  nlines_read_so_far: 2e+05  nlines_read_so_far: 210000  nlines_read_so_far: 220000  nlines_read_so_far: 230000  nlines_read_so_far: 240000  nlines_read_so_far: 250000  nlines_read_so_far: 260000  nlines_read_so_far: 270000  nlines_read_so_far: 280000  nlines_read_so_far: 290000  nlines_read_so_far: 3e+05  nlines_read_so_far: 310000  nlines_read_so_far: 320000  nlines_read_so_far: 330000  nlines_read_so_far: 340000  nlines_read_so_far: 345317"
     ]
    }
   ],
   "source": [
    "while(nlines_read_so_far < NLINES)  {\n",
    "\n",
    "if ((NLINES - nlines_read_so_far) < nlines_to_read) \n",
    "  nlines_to_read <- (NLINES - nlines_read_so_far)\n",
    "  \n",
    "text <- scan(file = input.data.file.name, what = \"character\",\n",
    "    skip = nlines_read_so_far, nlines = nlines_to_read)\n",
    " \n",
    "# convert individual text items to bytecodes \n",
    "# to avoid to avoid \"invalid multibyte string\" error messages going forward\n",
    "text <- bytecode.convert(text)\n",
    "\n",
    "input.list <- list(text, status, title, date, tagline)  \n",
    " \n",
    "# parse this block of text with the tagline parser function \n",
    "output.list <- tagline.parser(input.list) \n",
    "  \n",
    "  new_data_for_store <- output.list[[1]]\n",
    "  status <- output.list[[2]]\n",
    "  title <- output.list[[3]]\n",
    "  date <- output.list[[4]]\n",
    "  tagline <- output.list[[5]]\n",
    "      \n",
    "  data.store <- rbind(data.store, new_data_for_store)\n",
    "  \n",
    "  nlines_read_so_far <- nlines_read_so_far + nlines_to_read\n",
    "  \n",
    "  cat(\" \",\"nlines_read_so_far:\",nlines_read_so_far)\n",
    "  }"
   ]
  },
  {
   "cell_type": "code",
   "execution_count": 16,
   "metadata": {
    "collapsed": true
   },
   "outputs": [],
   "source": [
    "# if there is full movie info in output list \n",
    "# add this last movie to the end of the data.store\n",
    "\n",
    "if ((!is.null(output.list[[3]])) & \n",
    "   (!is.null(output.list[[4]])) &\n",
    "   (!is.null(output.list[[5]]))) {\n",
    "       title <- output.list[[3]]\n",
    "       date <- output.list[[4]]\n",
    "       tagline <- output.list[[5]] \n",
    "    data.store <- rbind(data.store, \n",
    "      data.frame(title, date, tagline, stringsAsFactors = FALSE))\n",
    "  }"
   ]
  },
  {
   "cell_type": "code",
   "execution_count": 17,
   "metadata": {
    "collapsed": true
   },
   "outputs": [],
   "source": [
    "# data cleaning... check the date field... \n",
    "# if it does not start with \"(\" or end with \")\"\n",
    "# strip any character other than numeric in the date field\n",
    "# using regular experessions coding and the replace function from stringr\n",
    "data.store$replace.date <- str_replace_all(data.store$date, \"[^.(0-9)]\", \"\")"
   ]
  },
  {
   "cell_type": "code",
   "execution_count": 18,
   "metadata": {
    "collapsed": true
   },
   "outputs": [],
   "source": [
    "# at this time all valid dates should look be six characters long\n",
    "# four numbers surrounded by parentheses \n",
    "# lets use The Birth of a Nation (1915) as the earliest possible valid date\n",
    "# and the current year as the latest possible valid date \n",
    "# obtained by as.numeric(format(Sys.time(), \"%Y\"))\n",
    "valid.years <- 1915:as.numeric(format(Sys.time(), \"%Y\"))\n",
    "valid.years.strings <- paste(\"(\",as.character(valid.years),\")\",sep=\"\")"
   ]
  },
  {
   "cell_type": "code",
   "execution_count": 19,
   "metadata": {
    "collapsed": true
   },
   "outputs": [],
   "source": [
    "# valid observations must have dates with valid.years.strings\n",
    "data.store$valid <- \n",
    "  ifelse((data.store$replace.date %in% valid.years.strings),\"YES\",\"NO\")"
   ]
  },
  {
   "cell_type": "code",
   "execution_count": 20,
   "metadata": {
    "collapsed": true
   },
   "outputs": [],
   "source": [
    "# use the subset of movies with valid data\n",
    "valid.data.store <- subset(data.store, subset = (valid == \"YES\"))"
   ]
  },
  {
   "cell_type": "code",
   "execution_count": 21,
   "metadata": {
    "collapsed": true
   },
   "outputs": [],
   "source": [
    "# add date field to title field to create unique identifier for each movie\n",
    "valid.data.store$movie <- paste(valid.data.store$title, valid.data.store$date)"
   ]
  },
  {
   "cell_type": "code",
   "execution_count": 22,
   "metadata": {
    "collapsed": true
   },
   "outputs": [],
   "source": [
    "# strip parenteses from replace.date and create an integer variable for year\n",
    "valid.data.store$replace.date <- \n",
    "  str_replace(valid.data.store$replace.date,\"[(]\",\"\")\n",
    "valid.data.store$replace.date <- \n",
    "  str_replace(valid.data.store$replace.date,\"[)]\",\"\")\n",
    "valid.data.store$year <- as.integer(valid.data.store$replace.date)"
   ]
  },
  {
   "cell_type": "code",
   "execution_count": 23,
   "metadata": {
    "collapsed": true
   },
   "outputs": [],
   "source": [
    "# merge title and tagline text into new movie text variable for text analysis\n",
    "valid.data.store$text <- \n",
    "  paste(valid.data.store$title, valid.data.store$tagline)"
   ]
  },
  {
   "cell_type": "code",
   "execution_count": 24,
   "metadata": {
    "collapsed": true
   },
   "outputs": [],
   "source": [
    "# drop replace.date and reorder variables for text analysis\n",
    "# at this point we have one large data frame with text columns\n",
    "movies <- valid.data.store[,c(\"movie\",\"year\",\"title\",\"tagline\",\"text\")]"
   ]
  },
  {
   "cell_type": "code",
   "execution_count": 28,
   "metadata": {
    "collapsed": false
   },
   "outputs": [
    {
     "data": {
      "text/plain": [
       "pdf \n",
       "  2 "
      ]
     },
     "execution_count": 28,
     "metadata": {},
     "output_type": "execute_result"
    }
   ],
   "source": [
    "# plot frequency of movies by year\n",
    "pdf(file = \"09_data/text/fig_text_movies_by_year_histogram.pdf\", width = 11, height = 8.5)\n",
    "ggplot.object <- ggplot(data = movies, aes(x = year)) +\n",
    "  geom_histogram(binwidth = 1, fill = \"blue\", colour = \"black\") +\n",
    "    labs(x = \"Year of Release\", \n",
    "         y = \"Number of Movies in Database\") +\n",
    "         coord_fixed(ratio = 1/50) \n",
    "\n",
    "ggplot.print.with.margins(ggplot.object.name = ggplot.object,\n",
    "  left.margin.pct=10, right.margin.pct=10,\n",
    "  top.margin.pct=10,bottom.margin.pct=10) \n",
    "dev.off()  "
   ]
  },
  {
   "cell_type": "code",
   "execution_count": 29,
   "metadata": {
    "collapsed": false
   },
   "outputs": [
    {
     "data": {
      "image/png": "[encoded data removed]"
     },
     "metadata": {},
     "output_type": "display_data"
    }
   ],
   "source": [
    "# pdf로 안만들고 바로 보기\n",
    "ggplot.print.with.margins(ggplot.object.name = ggplot.object,\n",
    "  left.margin.pct=10, right.margin.pct=10,\n",
    "  top.margin.pct=10,bottom.margin.pct=10)"
   ]
  },
  {
   "cell_type": "code",
   "execution_count": 30,
   "metadata": {
    "collapsed": true
   },
   "outputs": [],
   "source": [
    "# let us work with movies from 1974 to 2013\n",
    "# creating an aggregate tagline_text collection for each year of interest\n",
    "years.list <- 1974:2013\n",
    "document.collection <- NULL  # initialize\n",
    "for (index.for.year in seq(along=years.list)) {\n",
    " \n",
    "  working.year.data.frame = \n",
    "    subset(movies, subset = (year == years.list[index.for.year]))\n",
    "\n",
    "  tagline_text <- NULL\n",
    "  for(index.for.movie in seq(along = working.year.data.frame$movie)) \n",
    "    tagline_text <- \n",
    "      paste(tagline_text, working.year.data.frame$tagline[index.for.movie])\n",
    "   \n",
    "  document <- PlainTextDocument(x = tagline_text, author = \"Tom\",\n",
    "    description = paste(\"movie taglines for \",\n",
    "    as.character(years.list[index.for.year]),sep = \"\"),\n",
    "    id = paste(\"movies_\",as.character(years.list[index.for.year]),sep=\"\"), \n",
    "    heading = \"taglines\",\n",
    "    origin = \"IMDb\", language = \"en_US\", \n",
    "    localmetadata = list(year = years.list[index.for.year])) \n",
    "\n",
    "# give each created document a unique name  \n",
    "  if (years.list[index.for.year] == 1974) Y1974 <- document  \n",
    "  if (years.list[index.for.year] == 1975) Y1975 <- document  \n",
    "  if (years.list[index.for.year] == 1976) Y1976 <- document  \n",
    "  if (years.list[index.for.year] == 1977) Y1977 <- document  \n",
    "  if (years.list[index.for.year] == 1978) Y1978 <- document  \n",
    "  if (years.list[index.for.year] == 1979) Y1979 <- document     \n",
    "  if (years.list[index.for.year] == 1980) Y1980 <- document  \n",
    "  if (years.list[index.for.year] == 1981) Y1981 <- document   \n",
    "  if (years.list[index.for.year] == 1982) Y1982 <- document  \n",
    "  if (years.list[index.for.year] == 1983) Y1983 <- document  \n",
    "  if (years.list[index.for.year] == 1984) Y1984 <- document  \n",
    "  if (years.list[index.for.year] == 1985) Y1985 <- document  \n",
    "  if (years.list[index.for.year] == 1986) Y1986 <- document  \n",
    "  if (years.list[index.for.year] == 1987) Y1987 <- document  \n",
    "  if (years.list[index.for.year] == 1988) Y1988 <- document  \n",
    "  if (years.list[index.for.year] == 1989) Y1989 <- document  \n",
    "  if (years.list[index.for.year] == 1990) Y1990 <- document  \n",
    "  if (years.list[index.for.year] == 1991) Y1991 <- document   \n",
    "  if (years.list[index.for.year] == 1992) Y1992 <- document  \n",
    "  if (years.list[index.for.year] == 1993) Y1993 <- document  \n",
    "  if (years.list[index.for.year] == 1994) Y1994 <- document  \n",
    "  if (years.list[index.for.year] == 1995) Y1995 <- document  \n",
    "  if (years.list[index.for.year] == 1996) Y1996 <- document  \n",
    "  if (years.list[index.for.year] == 1997) Y1997 <- document  \n",
    "  if (years.list[index.for.year] == 1998) Y1998 <- document  \n",
    "  if (years.list[index.for.year] == 1999) Y1999 <- document  \n",
    "  if (years.list[index.for.year] == 2000) Y2000 <- document  \n",
    "  if (years.list[index.for.year] == 2001) Y2001 <- document   \n",
    "  if (years.list[index.for.year] == 2002) Y2002 <- document  \n",
    "  if (years.list[index.for.year] == 2003) Y2003 <- document  \n",
    "  if (years.list[index.for.year] == 2004) Y2004 <- document  \n",
    "  if (years.list[index.for.year] == 2005) Y2005 <- document  \n",
    "  if (years.list[index.for.year] == 2006) Y2006 <- document  \n",
    "  if (years.list[index.for.year] == 2007) Y2007 <- document  \n",
    "  if (years.list[index.for.year] == 2008) Y2008 <- document  \n",
    "  if (years.list[index.for.year] == 2009) Y2009 <- document  \n",
    "  if (years.list[index.for.year] == 2010) Y2010 <- document  \n",
    "  if (years.list[index.for.year] == 2011) Y2011 <- document  \n",
    "  if (years.list[index.for.year] == 2012) Y2012 <- document  \n",
    "  if (years.list[index.for.year] == 2013) Y2013 <- document  \n",
    "  } # end of for-loop for selected years"
   ]
  },
  {
   "cell_type": "code",
   "execution_count": 31,
   "metadata": {
    "collapsed": true
   },
   "outputs": [],
   "source": [
    "document.collection <- c(Y1974,Y1975,Y1976,Y1977,Y1978,Y1979,\n",
    "  Y1980,Y1981,Y1982,Y1983,Y1984,Y1985,Y1986,Y1987,Y1988,Y1989,\n",
    "  Y1990,Y1991,Y1992,Y1993,Y1994,Y1995,Y1996,Y1997,Y1998,Y1999,\n",
    "  Y2000,Y2001,Y2002,Y2003,Y2004,Y2005,Y2006,\n",
    "  Y2007,Y2008,Y2009,Y2010,Y2011,Y2012,Y2013)"
   ]
  },
  {
   "cell_type": "code",
   "execution_count": 32,
   "metadata": {
    "collapsed": true
   },
   "outputs": [],
   "source": [
    "# strip whitspace from the documents in the collection\n",
    "# 원 저자 코드의 tm 버전과, 현재 이 노트북의 버전이 달라서 코드를 수정해 줌.\n",
    "# 소스 변경 관련 자료들\n",
    "# http://stackoverflow.com/questions/24771165/r-project-no-applicable-method-for-meta-applied-to-an-object-of-class-charact\n",
    "# http://stackoverflow.com/questions/21790353/dictionary-is-not-supported-anymore-in-tm-package-how-to-emend-code\n",
    "document.collection <- tm_map(document.collection, content_transformer(stripWhitespace))"
   ]
  },
  {
   "cell_type": "code",
   "execution_count": 33,
   "metadata": {
    "collapsed": true
   },
   "outputs": [],
   "source": [
    "# convert uppercase to lowercase in the document collection\n",
    "document.collection <- tm_map(document.collection, content_transformer(tolower))"
   ]
  },
  {
   "cell_type": "code",
   "execution_count": 34,
   "metadata": {
    "collapsed": true
   },
   "outputs": [],
   "source": [
    "# remove numbers from the document collection\n",
    "document.collection <- tm_map(document.collection, content_transformer(removeNumbers))"
   ]
  },
  {
   "cell_type": "code",
   "execution_count": 35,
   "metadata": {
    "collapsed": true
   },
   "outputs": [],
   "source": [
    "# remove punctuation from the document collection\n",
    "document.collection <- tm_map(document.collection, content_transformer(removePunctuation))"
   ]
  },
  {
   "cell_type": "code",
   "execution_count": 36,
   "metadata": {
    "collapsed": true
   },
   "outputs": [],
   "source": [
    "# using a standard list, remove English stopwords from the document collection\n",
    "document.collection <- tm_map(document.collection, \n",
    "  removeWords, stopwords(\"english\"))"
   ]
  },
  {
   "cell_type": "code",
   "execution_count": 38,
   "metadata": {
    "collapsed": false
   },
   "outputs": [],
   "source": [
    "# there is more we could do in terms of data preparation \n",
    "# stemming... looking for contractions... pronoun possessives... \n",
    "\n",
    "# we take what is clearly a \"bag of words\" approach here\n",
    "# the workhorse technique will be TermDocumentMatrix()\n",
    "# for creating a terms-by-documents matrix across the document collection\n",
    "initial.movies.tdm <- TermDocumentMatrix(document.collection)"
   ]
  },
  {
   "cell_type": "code",
   "execution_count": 39,
   "metadata": {
    "collapsed": false
   },
   "outputs": [
    {
     "name": "stdout",
     "output_type": "stream",
     "text": [
      "  [1] \"action\"     \"adventure\"  \"alive\"      \"alone\"      \"always\"    \n",
      "  [6] \"america\"    \"american\"   \"americas\"   \"another\"    \"anything\"  \n",
      " [11] \"away\"       \"back\"       \"bad\"        \"battle\"     \"beautiful\" \n",
      " [16] \"became\"     \"become\"     \"begins\"     \"behind\"     \"best\"      \n",
      " [21] \"beyond\"     \"big\"        \"biggest\"    \"black\"      \"blood\"     \n",
      " [26] \"body\"       \"born\"       \"boy\"        \"boys\"       \"business\"  \n",
      " [31] \"call\"       \"came\"       \"can\"        \"cant\"       \"century\"   \n",
      " [36] \"challenge\"  \"chance\"     \"city\"       \"classic\"    \"come\"      \n",
      " [41] \"comedy\"     \"comes\"      \"coming\"     \"cop\"        \"cops\"      \n",
      " [46] \"crime\"      \"dangerous\"  \"dark\"       \"day\"        \"days\"      \n",
      " [51] \"dead\"       \"deadly\"     \"death\"      \"deep\"       \"desire\"    \n",
      " [56] \"destroy\"    \"didnt\"      \"die\"        \"different\"  \"director\"  \n",
      " [61] \"doesnt\"     \"dont\"       \"dream\"      \"dreams\"     \"earth\"     \n",
      " [66] \"easy\"       \"end\"        \"enemy\"      \"enough\"     \"even\"      \n",
      " [71] \"ever\"       \"every\"      \"everyone\"   \"everything\" \"evil\"      \n",
      " [76] \"experience\" \"eyes\"       \"face\"       \"family\"     \"fantasy\"   \n",
      " [81] \"far\"        \"fast\"       \"father\"     \"fear\"       \"feel\"      \n",
      " [86] \"fight\"      \"fighting\"   \"film\"       \"find\"       \"first\"     \n",
      " [91] \"force\"      \"forever\"    \"forget\"     \"found\"      \"four\"      \n",
      " [96] \"friend\"     \"friends\"    \"full\"       \"fun\"        \"funny\"     \n",
      "[101] \"future\"     \"game\"       \"get\"        \"gets\"       \"girl\"      \n",
      "[106] \"girls\"      \"goes\"       \"going\"      \"good\"       \"got\"       \n",
      "[111] \"great\"      \"greatest\"   \"guys\"       \"happen\"     \"happens\"   \n",
      "[116] \"hard\"       \"head\"       \"heart\"      \"hell\"       \"help\"      \n",
      "[121] \"hero\"       \"hes\"        \"high\"       \"history\"    \"home\"      \n",
      "[126] \"hope\"       \"horror\"     \"hot\"        \"house\"      \"human\"     \n",
      "[131] \"isnt\"       \"journey\"    \"just\"       \"justice\"    \"keep\"      \n",
      "[136] \"kids\"       \"kill\"       \"killed\"     \"killer\"     \"killing\"   \n",
      "[141] \"kind\"       \"king\"       \"know\"       \"knows\"      \"land\"      \n",
      "[146] \"last\"       \"law\"        \"left\"       \"legend\"     \"let\"       \n",
      "[151] \"life\"       \"lifetime\"   \"like\"       \"little\"     \"live\"      \n",
      "[156] \"lives\"      \"living\"     \"look\"       \"looking\"    \"lost\"      \n",
      "[161] \"lot\"        \"love\"       \"loved\"      \"loves\"      \"made\"      \n",
      "[166] \"magic\"      \"make\"       \"man\"        \"mans\"       \"master\"    \n",
      "[171] \"may\"        \"meet\"       \"men\"        \"million\"    \"mind\"      \n",
      "[176] \"money\"      \"mother\"     \"movie\"      \"much\"       \"murder\"    \n",
      "[181] \"music\"      \"must\"       \"mystery\"    \"name\"       \"need\"      \n",
      "[186] \"never\"      \"new\"        \"next\"       \"night\"      \"nightmare\" \n",
      "[191] \"nothing\"    \"now\"        \"old\"        \"one\"        \"original\"  \n",
      "[196] \"party\"      \"passion\"    \"past\"       \"people\"     \"perfect\"   \n",
      "[201] \"picture\"    \"place\"      \"play\"       \"pleasure\"   \"power\"     \n",
      "[206] \"powerful\"   \"race\"       \"ready\"      \"real\"       \"reality\"   \n",
      "[211] \"really\"     \"remember\"   \"revenge\"    \"ride\"       \"right\"     \n",
      "[216] \"rock\"       \"run\"        \"save\"       \"say\"        \"school\"    \n",
      "[221] \"secret\"     \"secrets\"    \"see\"        \"seen\"       \"sex\"       \n",
      "[226] \"sexual\"     \"shes\"       \"show\"       \"side\"       \"someone\"   \n",
      "[231] \"something\"  \"sometimes\"  \"space\"      \"stand\"      \"star\"      \n",
      "[236] \"stars\"      \"still\"      \"stop\"       \"story\"      \"streets\"   \n",
      "[241] \"summer\"     \"survival\"   \"survive\"    \"sweet\"      \"take\"      \n",
      "[246] \"takes\"      \"tale\"       \"tell\"       \"terrifying\" \"terror\"    \n",
      "[251] \"thats\"      \"theres\"     \"theyre\"     \"thing\"      \"things\"    \n",
      "[256] \"think\"      \"thought\"    \"three\"      \"thriller\"   \"time\"      \n",
      "[261] \"today\"      \"together\"   \"took\"       \"tough\"      \"town\"      \n",
      "[266] \"true\"       \"truth\"      \"turn\"       \"two\"        \"ultimate\"  \n",
      "[271] \"universe\"   \"video\"      \"want\"       \"wanted\"     \"wants\"     \n",
      "[276] \"war\"        \"watch\"      \"way\"        \"weapon\"     \"welcome\"   \n",
      "[281] \"wife\"       \"wild\"       \"will\"       \"win\"        \"without\"   \n",
      "[286] \"woman\"      \"women\"      \"wont\"       \"world\"      \"worlds\"    \n",
      "[291] \"worst\"      \"wrong\"      \"year\"       \"years\"      \"york\"      \n",
      "[296] \"youll\"      \"young\"      \"youre\"      \"youve\"     \n"
     ]
    }
   ],
   "source": [
    "# remove sparse terms from the matrix and report the most common terms\n",
    "# looking for additional stop words and stop word contractions to drop\n",
    "examine.movies.tdm <- removeSparseTerms(initial.movies.tdm, sparse = 0.25)\n",
    "top.words <- Terms(examine.movies.tdm)\n",
    "print(top.words)  "
   ]
  },
  {
   "cell_type": "code",
   "execution_count": 40,
   "metadata": {
    "collapsed": true
   },
   "outputs": [],
   "source": [
    "# an analysis of this initial list of top terms shows a number of word \n",
    "# contractions which we might like to drop from further analysis, \n",
    "# recognizing them as stop words to be dropped from the document collection\n",
    "more.stop.words <- c(\"cant\",\"didnt\",\"doesnt\",\"dont\",\"goes\",\"isnt\",\"hes\",\n",
    "  \"shes\",\"thats\",\"theres\",\"theyre\",\"wont\",\"youll\",\"youre\",\"youve\") \n",
    "document.collection <- tm_map(document.collection, \n",
    "  removeWords, more.stop.words)"
   ]
  },
  {
   "cell_type": "code",
   "execution_count": 41,
   "metadata": {
    "collapsed": true
   },
   "outputs": [],
   "source": [
    "# create terms-by-documents matrix across the final document collection\n",
    "movies.tdm <- TermDocumentMatrix(document.collection)"
   ]
  },
  {
   "cell_type": "code",
   "execution_count": 44,
   "metadata": {
    "collapsed": false
   },
   "outputs": [],
   "source": [
    "# save movie documents and document collection (corpus)\n",
    "save(\"movies\",\"document.collection\",\"movies.tdm\",\n",
    "  file = \"000_movies_data.Rdata\")  "
   ]
  },
  {
   "cell_type": "code",
   "execution_count": 45,
   "metadata": {
    "collapsed": false
   },
   "outputs": [
    {
     "name": "stdout",
     "output_type": "stream",
     "text": [
      "  [1] \"action\"     \"adventure\"  \"alive\"      \"alone\"      \"always\"    \n",
      "  [6] \"america\"    \"american\"   \"americas\"   \"another\"    \"anything\"  \n",
      " [11] \"away\"       \"back\"       \"bad\"        \"battle\"     \"beautiful\" \n",
      " [16] \"became\"     \"become\"     \"begins\"     \"behind\"     \"best\"      \n",
      " [21] \"beyond\"     \"big\"        \"biggest\"    \"black\"      \"blood\"     \n",
      " [26] \"body\"       \"born\"       \"boy\"        \"boys\"       \"business\"  \n",
      " [31] \"call\"       \"came\"       \"can\"        \"century\"    \"challenge\" \n",
      " [36] \"chance\"     \"city\"       \"classic\"    \"come\"       \"comedy\"    \n",
      " [41] \"comes\"      \"coming\"     \"cop\"        \"cops\"       \"crime\"     \n",
      " [46] \"dangerous\"  \"dark\"       \"day\"        \"days\"       \"dead\"      \n",
      " [51] \"deadly\"     \"death\"      \"deep\"       \"desire\"     \"destroy\"   \n",
      " [56] \"die\"        \"different\"  \"director\"   \"dream\"      \"dreams\"    \n",
      " [61] \"earth\"      \"easy\"       \"end\"        \"enemy\"      \"enough\"    \n",
      " [66] \"even\"       \"ever\"       \"every\"      \"everyone\"   \"everything\"\n",
      " [71] \"evil\"       \"experience\" \"eyes\"       \"face\"       \"family\"    \n",
      " [76] \"fantasy\"    \"far\"        \"fast\"       \"father\"     \"fear\"      \n",
      " [81] \"feel\"       \"fight\"      \"fighting\"   \"film\"       \"find\"      \n",
      " [86] \"first\"      \"force\"      \"forever\"    \"forget\"     \"found\"     \n",
      " [91] \"four\"       \"friend\"     \"friends\"    \"full\"       \"fun\"       \n",
      " [96] \"funny\"      \"future\"     \"game\"       \"get\"        \"gets\"      \n",
      "[101] \"girl\"       \"girls\"      \"going\"      \"good\"       \"got\"       \n",
      "[106] \"great\"      \"greatest\"   \"guys\"       \"happen\"     \"happens\"   \n",
      "[111] \"hard\"       \"head\"       \"heart\"      \"hell\"       \"help\"      \n",
      "[116] \"hero\"       \"high\"       \"history\"    \"home\"       \"hope\"      \n",
      "[121] \"horror\"     \"hot\"        \"house\"      \"human\"      \"journey\"   \n",
      "[126] \"just\"       \"justice\"    \"keep\"       \"kids\"       \"kill\"      \n",
      "[131] \"killed\"     \"killer\"     \"killing\"    \"kind\"       \"king\"      \n",
      "[136] \"know\"       \"knows\"      \"land\"       \"last\"       \"law\"       \n",
      "[141] \"left\"       \"legend\"     \"let\"        \"life\"       \"lifetime\"  \n",
      "[146] \"like\"       \"little\"     \"live\"       \"lives\"      \"living\"    \n",
      "[151] \"look\"       \"looking\"    \"lost\"       \"lot\"        \"love\"      \n",
      "[156] \"loved\"      \"loves\"      \"made\"       \"magic\"      \"make\"      \n",
      "[161] \"man\"        \"mans\"       \"master\"     \"may\"        \"meet\"      \n",
      "[166] \"men\"        \"million\"    \"mind\"       \"money\"      \"mother\"    \n",
      "[171] \"movie\"      \"much\"       \"murder\"     \"music\"      \"must\"      \n",
      "[176] \"mystery\"    \"name\"       \"need\"       \"never\"      \"new\"       \n",
      "[181] \"next\"       \"night\"      \"nightmare\"  \"nothing\"    \"now\"       \n",
      "[186] \"old\"        \"one\"        \"original\"   \"party\"      \"passion\"   \n",
      "[191] \"past\"       \"people\"     \"perfect\"    \"picture\"    \"place\"     \n",
      "[196] \"play\"       \"pleasure\"   \"power\"      \"powerful\"   \"race\"      \n",
      "[201] \"ready\"      \"real\"       \"reality\"    \"really\"     \"remember\"  \n",
      "[206] \"revenge\"    \"ride\"       \"right\"      \"rock\"       \"run\"       \n",
      "[211] \"save\"       \"say\"        \"school\"     \"secret\"     \"secrets\"   \n",
      "[216] \"see\"        \"seen\"       \"sex\"        \"sexual\"     \"show\"      \n",
      "[221] \"side\"       \"someone\"    \"something\"  \"sometimes\"  \"space\"     \n",
      "[226] \"stand\"      \"star\"       \"stars\"      \"still\"      \"stop\"      \n",
      "[231] \"story\"      \"streets\"    \"summer\"     \"survival\"   \"survive\"   \n",
      "[236] \"sweet\"      \"take\"       \"takes\"      \"tale\"       \"tell\"      \n",
      "[241] \"terrifying\" \"terror\"     \"thing\"      \"things\"     \"think\"     \n",
      "[246] \"thought\"    \"three\"      \"thriller\"   \"time\"       \"today\"     \n",
      "[251] \"together\"   \"took\"       \"tough\"      \"town\"       \"true\"      \n",
      "[256] \"truth\"      \"turn\"       \"two\"        \"ultimate\"   \"universe\"  \n",
      "[261] \"video\"      \"want\"       \"wanted\"     \"wants\"      \"war\"       \n",
      "[266] \"watch\"      \"way\"        \"weapon\"     \"welcome\"    \"wife\"      \n",
      "[271] \"wild\"       \"will\"       \"win\"        \"without\"    \"woman\"     \n",
      "[276] \"women\"      \"world\"      \"worlds\"     \"worst\"      \"wrong\"     \n",
      "[281] \"year\"       \"years\"      \"york\"       \"young\"     \n"
     ]
    }
   ],
   "source": [
    "# remove sparse terms from the matrix and report the most common terms\n",
    "examine.movies.tdm <- removeSparseTerms(movies.tdm, sparse = 0.25)\n",
    "top.words <- Terms(examine.movies.tdm)\n",
    "print(top.words)  # the result of this is a bag of 200 words"
   ]
  },
  {
   "cell_type": "code",
   "execution_count": 46,
   "metadata": {
    "collapsed": true
   },
   "outputs": [],
   "source": [
    "# now comes a test... \n",
    "# does looking at taglines hold promise as a way of identifying movie trends?\n",
    "# if it does, then years closest in time should be closest to one\n",
    "# another in a text measurement space as reflected, say, \n",
    "# by multidimensional scaling... \n",
    "# create a dictionary of the top words from the corpus\n",
    "#top.words.dictionary <- Dictionary(c(top.words))\n",
    "top.words.dictionary <- c(top.words)"
   ]
  },
  {
   "cell_type": "code",
   "execution_count": 55,
   "metadata": {
    "collapsed": true
   },
   "outputs": [],
   "source": [
    "# create terms-by-documents matrix using the mtpa.Dictionary\n",
    "top.words.movies.tdm <- TermDocumentMatrix(document.collection, \n",
    "  list(dictionary = top.words.dictionary))"
   ]
  },
  {
   "cell_type": "code",
   "execution_count": 64,
   "metadata": {
    "collapsed": false
   },
   "outputs": [
    {
     "ename": "ERROR",
     "evalue": "Error in x - y: 이항연산자에 수치가 아닌 인수입니다\n",
     "output_type": "error",
     "traceback": [
      "Error in x - y: 이항연산자에 수치가 아닌 인수입니다\n"
     ]
    },
    {
     "ename": "ERROR",
     "evalue": "Error in cmdscale(years.dissimilarity.matrix, k = 2, eig = TRUE): 객체 'years.dissimilarity.matrix'를 찾을 수 없습니다\n",
     "output_type": "error",
     "traceback": [
      "Error in cmdscale(years.dissimilarity.matrix, k = 2, eig = TRUE): 객체 'years.dissimilarity.matrix'를 찾을 수 없습니다\n"
     ]
    },
    {
     "ename": "ERROR",
     "evalue": "Error in eval(expr, envir, enclos): 객체 'years.mds.solution'를 찾을 수 없습니다\n",
     "output_type": "error",
     "traceback": [
      "Error in eval(expr, envir, enclos): 객체 'years.mds.solution'를 찾을 수 없습니다\n"
     ]
    },
    {
     "ename": "ERROR",
     "evalue": "Error in eval(expr, envir, enclos): 객체 'years.mds.solution'를 찾을 수 없습니다\n",
     "output_type": "error",
     "traceback": [
      "Error in eval(expr, envir, enclos): 객체 'years.mds.solution'를 찾을 수 없습니다\n"
     ]
    },
    {
     "ename": "ERROR",
     "evalue": "Error in plot(x, y, type = \"n\", xlim = c(-0.075, 0.075), ylim = c(-0.075, : 객체 'x'를 찾을 수 없습니다\n",
     "output_type": "error",
     "traceback": [
      "Error in plot(x, y, type = \"n\", xlim = c(-0.075, 0.075), ylim = c(-0.075, : 객체 'x'를 찾을 수 없습니다\n"
     ]
    },
    {
     "ename": "ERROR",
     "evalue": "Error in is.data.frame(x): 객체 'x'를 찾을 수 없습니다\n",
     "output_type": "error",
     "traceback": [
      "Error in is.data.frame(x): 객체 'x'를 찾을 수 없습니다\n"
     ]
    },
    {
     "ename": "ERROR",
     "evalue": "Error in text(lay[, 1] + 0.5 * lay[, 3], lay[, 2] + 0.5 * lay[, 4], w): 객체 'lay'를 찾을 수 없습니다\n",
     "output_type": "error",
     "traceback": [
      "Error in text(lay[, 1] + 0.5 * lay[, 3], lay[, 2] + 0.5 * lay[, 4], w): 객체 'lay'를 찾을 수 없습니다\n"
     ]
    },
    {
     "data": {
      "text/plain": [
       "pdf \n",
       "  2 "
      ]
     },
     "execution_count": 64,
     "metadata": {},
     "output_type": "execute_result"
    }
   ],
   "source": [
    "# dissimilarity measures and multidimensional scaling\n",
    "# with wordlayout from the wordcloud package for non-overlapping labels\n",
    "pdf(file = \"09_data/text/fig_text_mds_1974_2013.pdf\", width = 7, height = 7)\n",
    "years.dissimilarity.matrix <- \n",
    "  dist(x = top.words.movies.tdm) #, y = NULL) #method = \"cosine\")\n",
    "years.mds.solution <- cmdscale(years.dissimilarity.matrix, k = 2, eig = TRUE)\n",
    "x <- years.mds.solution$points[,1]\n",
    "y <- -years.mds.solution$points[,2]  # rotated to be consistent with biplot\n",
    "w <- c(\"1974\",\"1975\",\"1976\",\"1977\",\"1978\",\"1979\",\n",
    "  \"1980\",\"1981\",\"1982\",\"1983\",\"1984\",\"1985\",\"1986\",\n",
    "  \"1987\",\"1988\",\"1989\",\"1990\",\"1991\",\"1992\",\"1993\",\n",
    "  \"1994\",\"1995\",\"1996\",\"1997\",\"1998\",\"1999\",\"2000\",\n",
    "  \"2001\",\"2002\",\"2003\",\"2004\",\"2005\",\"2006\",\"2007\",\n",
    "  \"2008\",\"2009\",\"2010\",\"2011\",\"2012\",\"2013\")\n",
    "plot(x,y,type=\"n\", xlim = c(-0.075,0.075), ylim = c(-0.075,0.075),\n",
    "  xlab = \"First Dimension\", ylab = \"Second Dimension\") \n",
    "lay <- wordlayout(x, y, w, xlim = c(-0.075,0.075), ylim = c(-0.075,0.075)) \n",
    "text(lay[,1]+.5*lay[,3],lay[,2]+.5*lay[,4],w)\n",
    "dev.off()"
   ]
  },
  {
   "cell_type": "code",
   "execution_count": 27,
   "metadata": {
    "collapsed": true
   },
   "outputs": [],
   "source": [
    "# Split-Plotting Utilities with grid Graphics\n",
    "\n",
    "library(grid)  # grid graphics foundation of split-plotting utilities\n",
    "\n",
    "# functions used with ggplot2 graphics to split the plotting region\n",
    "# to set margins and to plot more than one ggplot object on one page/screen\n",
    "vplayout <- function(x, y) \n",
    "viewport(layout.pos.row=x, layout.pos.col=y) \n",
    "\n",
    "# grid graphics utility plots one plot with margins\n",
    "ggplot.print.with.margins <- function(ggplot.object.name,left.margin.pct=10,\n",
    "  right.margin.pct=10,top.margin.pct=10,bottom.margin.pct=10)\n",
    "{ # begin function for printing ggplot objects with margins\n",
    "  # margins expressed as percentages of total... use integers\n",
    " grid.newpage() \n",
    "pushViewport(viewport(layout=grid.layout(100,100)))\n",
    "print(ggplot.object.name, \n",
    "  vp=vplayout((0 + top.margin.pct):(100 - bottom.margin.pct),\n",
    "  (0 + left.margin.pct):(100 - right.margin.pct))) \n",
    "} # end function for printing ggplot objects with margins\n",
    "\n",
    "# grid graphics utility plots two ggplot plotting objects in one column\n",
    "special.top.bottom.ggplot.print.with.margins <- \n",
    "  function(ggplot.object.name,ggplot.text.tagging.object.name,\n",
    "  left.margin.pct=5,right.margin.pct=5,top.margin.pct=5,\n",
    "  bottom.margin.pct=5,plot.pct=80,text.tagging.pct=10) { \n",
    "# begin function for printing ggplot objects with margins \n",
    "# and text tagging at bottom of plot\n",
    "# margins expressed as percentages of total... use integers\n",
    "  if((top.margin.pct + bottom.margin.pct + plot.pct + text.tagging.pct) != 100) \n",
    "    stop(paste(\"function special.top.bottom.ggplot.print.with.margins()\",\n",
    "    \"execution terminated:\\n   top.margin.pct + bottom.margin.pct + \",\n",
    "    \"plot.pct + text.tagging.pct not equal to 100 percent\",sep=\"\"))  \n",
    "  grid.newpage() \n",
    "  pushViewport(viewport(layout=grid.layout(100,100)))\n",
    "  print(ggplot.object.name, \n",
    "  vp=vplayout((0 + top.margin.pct):\n",
    "    (100 - (bottom.margin.pct + text.tagging.pct)),\n",
    "  (0 + left.margin.pct):(100 - right.margin.pct))) \n",
    "\n",
    "  print(ggplot.text.tagging.object.name, \n",
    "    vp=vplayout((0 + (top.margin.pct + plot.pct)):(100 - bottom.margin.pct),\n",
    "    (0 + left.margin.pct):(100 - right.margin.pct))) \n",
    "} # end function for printing ggplot objects with margins and text tagging\n",
    "\n",
    "# grid graphics utility plots three ggplot plotting objects in one column\n",
    "three.part.ggplot.print.with.margins <- function(ggfirstplot.object.name,\n",
    "ggsecondplot.object.name,\n",
    "ggthirdplot.object.name,\n",
    "left.margin.pct=5,right.margin.pct=5,\n",
    "top.margin.pct=10,bottom.margin.pct=10,\n",
    "first.plot.pct=25,second.plot.pct=25,\n",
    "third.plot.pct=30) { \n",
    "# function for printing ggplot objects with margins and top and bottom plots\n",
    "# margins expressed as percentages of total... use integers\n",
    "if((top.margin.pct + bottom.margin.pct + first.plot.pct + \n",
    "  second.plot.pct  + third.plot.pct) != 100) \n",
    "    stop(paste(\"function special.top.bottom.ggplot.print.with.margins()\",\n",
    "         \"execution terminated:\\n   top.margin.pct + bottom.margin.pct\",\n",
    "         \"+ first.plot.pct + second.plot.pct  + third.plot.pct not equal\",\n",
    "         \"to 100 percent\",sep=\"\"))  \n",
    "grid.newpage() \n",
    "pushViewport(viewport(layout=grid.layout(100,100)))\n",
    "\n",
    "print(ggfirstplot.object.name, vp=vplayout((0 + top.margin.pct):\n",
    "  (100 - (second.plot.pct  + third.plot.pct + bottom.margin.pct)),\n",
    "  (0 + left.margin.pct):(100 - right.margin.pct))) \n",
    "\n",
    "print(ggsecondplot.object.name, \n",
    "  vp=vplayout((0 + top.margin.pct + first.plot.pct):\n",
    "  (100 - (third.plot.pct + bottom.margin.pct)),\n",
    "  (0 + left.margin.pct):(100 - right.margin.pct))) \n",
    "\n",
    "print(ggthirdplot.object.name, \n",
    "  vp=vplayout((0 + top.margin.pct + first.plot.pct + second.plot.pct):\n",
    "  (100 - (bottom.margin.pct)),(0 + left.margin.pct):\n",
    "  (100 - right.margin.pct))) \n",
    "} \n",
    "\n",
    "# grid graphics utility plots two ggplot plotting objects in one row\n",
    "# primary plot graph at left... legend at right\n",
    "special.left.right.ggplot.print.with.margins <- \n",
    "  function(ggplot.object.name, ggplot.text.legend.object.name,\n",
    "  left.margin.pct=5, right.margin.pct=5, top.margin.pct=5,\n",
    "  bottom.margin.pct=5, plot.pct=85, text.legend.pct=5) { \n",
    "# begin function for printing ggplot objects with margins \n",
    "# and text legend at bottom of plot\n",
    "# margins expressed as percentages of total... use integers\n",
    "  if((left.margin.pct + right.margin.pct + plot.pct + text.legend.pct) != 100) \n",
    "    stop(paste(\"function special.left.right.ggplot.print.with.margins()\",\n",
    "    \"execution terminated:\\n   left.margin.pct + right.margin.pct + \",\n",
    "    \"plot.pct + text.legend.pct not equal to 100 percent\",sep=\"\"))  \n",
    "  grid.newpage() \n",
    "  pushViewport(viewport(layout=grid.layout(100,100)))\n",
    "  print(ggplot.object.name, \n",
    "  vp=vplayout((0 + top.margin.pct):(100 - (bottom.margin.pct)),\n",
    "  (0 + left.margin.pct + text.legend.pct):(100 - right.margin.pct))) \n",
    "\n",
    "  print(ggplot.text.legend.object.name, \n",
    "    vp=vplayout((0 + (top.margin.pct)):(100 - bottom.margin.pct),\n",
    "    (0 + left.margin.pct + plot.pct):(100 - right.margin.pct))) \n",
    "} # end function for printing ggplot objects with margins and text legend"
   ]
  },
  {
   "cell_type": "code",
   "execution_count": null,
   "metadata": {
    "collapsed": true
   },
   "outputs": [],
   "source": []
  }
 ],
 "metadata": {
  "kernelspec": {
   "display_name": "R",
   "language": "",
   "name": "ir"
  },
  "language_info": {
   "codemirror_mode": "r",
   "file_extension": ".r",
   "mimetype": "text/x-r-source",
   "name": "R",
   "pygments_lexer": "r"
  }
 },
 "nbformat": 4,
 "nbformat_minor": 0
}
