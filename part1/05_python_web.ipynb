{
 "metadata": {
  "name": "",
  "signature": "sha256:231f985b7da2020b67dc4603a5e009d3f05e43f9cb0bdea04c5bd0e9d98f271a"
 },
 "nbformat": 3,
 "nbformat_minor": 0,
 "worksheets": [
  {
   "cells": [
    {
     "cell_type": "heading",
     "level": 1,
     "metadata": {},
     "source": [
      "05. \ud30c\uc774\uc36c\uacfc \uc6f9"
     ]
    },
    {
     "cell_type": "markdown",
     "metadata": {},
     "source": [
      "* \ucf54\ub09c\uc544\uce74\ub370\ubbf8 : \ub370\uc774\ud130\ubd84\uc11d \uae30\ucd08\n",
      "* \uc791\uc131\uc790 : \uae40\ubb34\uc131    "
     ]
    },
    {
     "cell_type": "heading",
     "level": 1,
     "metadata": {},
     "source": [
      "\ucc28\ub840"
     ]
    },
    {
     "cell_type": "markdown",
     "metadata": {},
     "source": [
      "* \ud30c\uc774\uc36c \uae30\ubcf8 \ud328\ud0a4\uc9c0\ub97c \uc774\uc6a9\ud55c \uc6f9 \ubb38\uc11c \ud30c\uc2f1 [1]\n",
      "* requests\uc640 beautifulsoup4\ub97c \uc774\uc6a9\ud55c \uc6f9 \ubb38\uc11c \ud30c\uc2f1 [2,3]"
     ]
    },
    {
     "cell_type": "heading",
     "level": 1,
     "metadata": {},
     "source": [
      "\ucd94\ucc9c \uc0ac\uc774\ud2b8"
     ]
    },
    {
     "cell_type": "markdown",
     "metadata": {},
     "source": [
      "* \ud30c\uc774\uc36c \uc815\uaddc \ud45c\ud604\uc2dd - https://wikidocs.net/1642\n",
      "* requests -  http://docs.python-requests.org/en/latest/user/quickstart/\n",
      "* beautifulsoup - http://coreapython.hosting.paran.com/etc/beautifulsoup4.html"
     ]
    },
    {
     "cell_type": "heading",
     "level": 1,
     "metadata": {},
     "source": [
      "\ucd94\ucc9c\uc790\ub8cc"
     ]
    },
    {
     "cell_type": "markdown",
     "metadata": {},
     "source": [
      "* 30\ubd84\ub9cc\uc5d0 \ub530\ub77c\ud558\ub294 \ub3d9\uc2dc\uc131 \uc2a4\ud06c\ub798\ud37c - http://www.slideshare.net/cornchz/pyconkr-2014-30"
     ]
    },
    {
     "cell_type": "heading",
     "level": 2,
     "metadata": {},
     "source": [
      "\ud30c\uc774\uc36c \uae30\ubcf8 \ud328\ud0a4\uc9c0\ub97c \uc774\uc6a9\ud55c \uc6f9 \ubb38\uc11c \ud30c\uc2f1"
     ]
    },
    {
     "cell_type": "markdown",
     "metadata": {},
     "source": [
      "* Step by Step\n",
      "* \ud1b5\ud569\ucf54\ub4dc"
     ]
    },
    {
     "cell_type": "heading",
     "level": 3,
     "metadata": {},
     "source": [
      "Step by Step"
     ]
    },
    {
     "cell_type": "code",
     "collapsed": false,
     "input": [
      "# \uae30\ubcf8 \ud328\ud0a4\uc9c0\n",
      "import urllib\n",
      "\n",
      "url = 'http://konanacademy.github.io/da/'\n",
      "\n",
      "# \ud578\ub4e4 \uc5bb\uc74c\n",
      "f = urllib.urlopen(url)"
     ],
     "language": "python",
     "metadata": {},
     "outputs": [],
     "prompt_number": 36
    },
    {
     "cell_type": "code",
     "collapsed": false,
     "input": [
      "type(f)"
     ],
     "language": "python",
     "metadata": {},
     "outputs": [
      {
       "metadata": {},
       "output_type": "pyout",
       "prompt_number": 37,
       "text": [
        "instance"
       ]
      }
     ],
     "prompt_number": 37
    },
    {
     "cell_type": "code",
     "collapsed": false,
     "input": [
      "# \ubb38\uc790\uc5f4\ub85c \uc77d\ub294\ub2e4\n",
      "text = f.read()"
     ],
     "language": "python",
     "metadata": {},
     "outputs": [],
     "prompt_number": 38
    },
    {
     "cell_type": "code",
     "collapsed": false,
     "input": [
      "type(text)"
     ],
     "language": "python",
     "metadata": {},
     "outputs": [
      {
       "metadata": {},
       "output_type": "pyout",
       "prompt_number": 39,
       "text": [
        "str"
       ]
      }
     ],
     "prompt_number": 39
    },
    {
     "cell_type": "code",
     "collapsed": false,
     "input": [
      "text[:1000]"
     ],
     "language": "python",
     "metadata": {},
     "outputs": [
      {
       "metadata": {},
       "output_type": "pyout",
       "prompt_number": 41,
       "text": [
        "'<!doctype html>\\n<html>\\n<head>\\n    <meta charset=\"utf-8\">\\n    <meta http-equiv=\"X-UA-Compatible\" content=\"chrome=1\">\\n\\n    <meta property=\"og:title\" content=\"\\xec\\xbd\\x94\\xeb\\x82\\x9c\\xec\\x95\\x84\\xec\\xb9\\xb4\\xeb\\x8d\\xb0\\xeb\\xaf\\xb8\" />\\n    <meta property=\"og:description\" content=\"\\xec\\xbd\\x94\\xeb\\x82\\x9c\\xec\\x95\\x84\\xec\\xb9\\xb4\\xeb\\x8d\\xb0\\xeb\\xaf\\xb8 \\xeb\\x8d\\xb0\\xec\\x9d\\xb4\\xed\\x84\\xb0\\xeb\\xb6\\x84\\xec\\x84\\x9d \\xea\\xb8\\xb0\\xec\\xb4\\x88\" />\\n    <meta property=\"og:type\" content=\"website\" />\\n    <meta property=\"og:url\" content=\"http://konanacademy.github.io/da\" />\\n    <title>\\xeb\\x8d\\xb0\\xec\\x9d\\xb4\\xed\\x84\\xb0\\xeb\\xb6\\x84\\xec\\x84\\x9d \\xea\\xb8\\xb0\\xec\\xb4\\x88</title>\\n\\n    <link rel=\"stylesheet\" href=\"stylesheets/styles.css\">\\n    <link rel=\"stylesheet\" href=\"stylesheets/pygment_trac.css\">\\n    <meta name=\"viewport\" content=\"width=device-width, initial-scale=1, user-scalable=no\">\\n    <script src=\"http://ajax.googleapis.com/ajax/libs/jquery/1.11.1/jquery.min.js\"></script>\\n    <!--[if lt IE 9]>\\n    <script src=\"//html5shiv.googlecode.com/svn/trunk/html5.js\"></script>\\n    <![endif]-->\\n\\n    <!-- START google analytics -->\\n    <script>\\n        (function(i,s,o,g,r,a,m){i[\\'GoogleAnalyticsObject\\']=r;i[r]=i[r]||function(){\\n         '"
       ]
      }
     ],
     "prompt_number": 41
    },
    {
     "cell_type": "code",
     "collapsed": false,
     "input": [
      "# \ud2b9\uc815 \uae30\uc900\uc73c\ub85c \uc798\ub77c\ub0b4\uc11c \ub9ac\uc2a4\ud2b8\ub85c \ub9cc\ub4e0\ub2e4. \n",
      "# \uc5ec\uae30\uc11c\ub294 https \ub9c1\ud06c\ub9cc \ucd94\ucd9c\ud574\ubcf4\uc790.\n",
      "words = text.split('https')"
     ],
     "language": "python",
     "metadata": {},
     "outputs": [],
     "prompt_number": 43
    },
    {
     "cell_type": "code",
     "collapsed": false,
     "input": [
      "type(words)"
     ],
     "language": "python",
     "metadata": {},
     "outputs": [
      {
       "metadata": {},
       "output_type": "pyout",
       "prompt_number": 45,
       "text": [
        "list"
       ]
      }
     ],
     "prompt_number": 45
    },
    {
     "cell_type": "code",
     "collapsed": false,
     "input": [
      "words[0]"
     ],
     "language": "python",
     "metadata": {},
     "outputs": [
      {
       "metadata": {},
       "output_type": "pyout",
       "prompt_number": 46,
       "text": [
        "'<!doctype html>\\n<html>\\n<head>\\n    <meta charset=\"utf-8\">\\n    <meta http-equiv=\"X-UA-Compatible\" content=\"chrome=1\">\\n\\n    <meta property=\"og:title\" content=\"\\xec\\xbd\\x94\\xeb\\x82\\x9c\\xec\\x95\\x84\\xec\\xb9\\xb4\\xeb\\x8d\\xb0\\xeb\\xaf\\xb8\" />\\n    <meta property=\"og:description\" content=\"\\xec\\xbd\\x94\\xeb\\x82\\x9c\\xec\\x95\\x84\\xec\\xb9\\xb4\\xeb\\x8d\\xb0\\xeb\\xaf\\xb8 \\xeb\\x8d\\xb0\\xec\\x9d\\xb4\\xed\\x84\\xb0\\xeb\\xb6\\x84\\xec\\x84\\x9d \\xea\\xb8\\xb0\\xec\\xb4\\x88\" />\\n    <meta property=\"og:type\" content=\"website\" />\\n    <meta property=\"og:url\" content=\"http://konanacademy.github.io/da\" />\\n    <title>\\xeb\\x8d\\xb0\\xec\\x9d\\xb4\\xed\\x84\\xb0\\xeb\\xb6\\x84\\xec\\x84\\x9d \\xea\\xb8\\xb0\\xec\\xb4\\x88</title>\\n\\n    <link rel=\"stylesheet\" href=\"stylesheets/styles.css\">\\n    <link rel=\"stylesheet\" href=\"stylesheets/pygment_trac.css\">\\n    <meta name=\"viewport\" content=\"width=device-width, initial-scale=1, user-scalable=no\">\\n    <script src=\"http://ajax.googleapis.com/ajax/libs/jquery/1.11.1/jquery.min.js\"></script>\\n    <!--[if lt IE 9]>\\n    <script src=\"//html5shiv.googlecode.com/svn/trunk/html5.js\"></script>\\n    <![endif]-->\\n\\n    <!-- START google analytics -->\\n    <script>\\n        (function(i,s,o,g,r,a,m){i[\\'GoogleAnalyticsObject\\']=r;i[r]=i[r]||function(){\\n          (i[r].q=i[r].q||[]).push(arguments)},i[r].l=1*new Date();a=s.createElement(o),\\n            m=s.getElementsByTagName(o)[0];a.async=1;a.src=g;m.parentNode.insertBefore(a,m)\\n        })(window,document,\\'script\\',\\'//www.google-analytics.com/analytics.js\\',\\'ga\\');\\n\\n        ga(\\'create\\', \\'UA-59572128-2\\', \\'auto\\');\\n        ga(\\'require\\', \\'displayfeatures\\');\\n        ga(\\'send\\', \\'pageview\\', {\\n            \\'page\\': location.pathname + location.search  + location.hash\\n        });\\n    </script>\\n    <!-- END google analytics -->\\n</head>\\n<body>\\n<div class=\"wrapper\">\\n    <header>\\n        <h1>KonanAcademy.github.io</h1>\\n\\n        <p></p>\\n        \\n        <p><a href=\"http://www.konantech.com/\">\\xec\\xbd\\x94\\xeb\\x82\\x9c\\xed\\x85\\x8c\\xed\\x81\\xac\\xeb\\x86\\x80\\xeb\\xa1\\x9c\\xec\\xa7\\x80</a></p>\\n        <p class=\"view\"><a href=\"http://KonanAcademy.github.io\"> \\xec\\xbd\\x94\\xeb\\x82\\x9c\\xec\\x95\\x84\\xec\\xb9\\xb4\\xeb\\x8d\\xb0\\xeb\\xaf\\xb8 \\xeb\\xa9\\x94\\xec\\x9d\\xb8</a></p>\\n        <p class=\"view\"><a href=\"'"
       ]
      }
     ],
     "prompt_number": 46
    },
    {
     "cell_type": "code",
     "collapsed": false,
     "input": [
      "words[1]"
     ],
     "language": "python",
     "metadata": {},
     "outputs": [
      {
       "metadata": {},
       "output_type": "pyout",
       "prompt_number": 47,
       "text": [
        "'://github.com/KonanAcademy/da\"> GitHub </a></p>\\n    </header>\\n    <section>\\n        <h3>\\n            <a name=\"welcome-to-github-pages\" class=\"anchor\" href=\"#welcome-to-github-pages\"><span\\n                    class=\"octicon octicon-link\"></span></a>Welcome to KonanAcademy\\'s Data Analysis Baisc Pages.</h3>\\n\\n        <p>\\xec\\xbd\\x94\\xeb\\x82\\x9c\\xec\\x95\\x84\\xec\\xb9\\xb4\\xeb\\x8d\\xb0\\xeb\\xaf\\xb8 \\xeb\\x8d\\xb0\\xec\\x9d\\xb4\\xed\\x84\\xb0\\xeb\\xb6\\x84\\xec\\x84\\x9d \\xea\\xb8\\xb0\\xec\\xb4\\x88</p>\\n        <pre><code>\\n            \\xeb\\x8d\\xb0\\xec\\x9d\\xb4\\xed\\x84\\xb0 \\xeb\\xb6\\x84\\xec\\x84\\x9d \\xea\\xb8\\xb0\\xec\\xb4\\x88 (2015.2~2015.3)\\n            2015\\xeb\\x85\\x84 2\\xec\\x9b\\x94 24\\xec\\x9d\\xbc - 2015\\xeb\\x85\\x84 3\\xec\\x9b\\x94\\n            \\xeb\\xa7\\xa4\\xec\\xa3\\xbc \\xed\\x99\\x94, \\xeb\\xaa\\xa9 \\xec\\xa0\\x80\\xeb\\x85\\x81. 7\\xec\\x8b\\x9c~9\\xec\\x8b\\x9c\\n            \\xec\\x9e\\xa5\\xec\\x86\\x8c: \\xec\\xbd\\x94\\xeb\\x82\\x9c\\xed\\x85\\x8c\\xed\\x81\\xac\\xeb\\x86\\x80\\xeb\\xa1\\x9c\\xec\\xa7\\x80 \\n        </code></pre>\\n        <table>\\n          <thead>\\n            <tr>\\n              <th align=\"left\"></th>\\n              <th align=\"left\">\\xeb\\x82\\xa0\\xec\\xa7\\x9c</th>\\n              <th align=\"left\">\\xec\\xa0\\x9c\\xeb\\xaa\\xa9</th>\\n              <th align=\"left\">\\xec\\x84\\xb8\\xeb\\xb6\\x80\\xec\\x82\\xac\\xed\\x95\\xad</th>\\n            </tr>\\n          </thead>\\n          <tbody>\\n            <tr>\\n              <td align=\"left\">0</td>\\n              <td align=\"left\">2/24</td>\\n              <td align=\"left\"><ui><li><a href=\"http://nbviewer.ipython.org/github/KonanAcademy/da/blob/master/part1/00_what_is_da.ipynb\">\\xeb\\x8d\\xb0\\xec\\x9d\\xb4\\xed\\x84\\xb0\\xeb\\xb6\\x84\\xec\\x84\\x9d\\xec\\x9d\\xb4\\xeb\\x9e\\x80?</a></li><li><a href=\"http://nbviewer.ipython.org/github/KonanAcademy/da/blob/master/part1/00_1_python_example.ipynb\">\\xeb\\x8d\\xb0\\xec\\x9d\\xb4\\xed\\x84\\xb0 \\xeb\\xb6\\x84\\xec\\x84\\x9d \\xec\\x98\\x88\\xec\\xa0\\x9c1(Python)</a></li><li><a href=\"'"
       ]
      }
     ],
     "prompt_number": 47
    },
    {
     "cell_type": "code",
     "collapsed": false,
     "input": [
      "# \"> \ub97c \uae30\uc900\uc73c\ub85c \ub2e4\uc2dc \uc798\ub77c\ub0b4\ubcf4\uc790. \n",
      "words[1].split('\">')"
     ],
     "language": "python",
     "metadata": {},
     "outputs": [
      {
       "metadata": {},
       "output_type": "pyout",
       "prompt_number": 48,
       "text": [
        "['://github.com/KonanAcademy/da',\n",
        " ' GitHub </a></p>\\n    </header>\\n    <section>\\n        <h3>\\n            <a name=\"welcome-to-github-pages\" class=\"anchor\" href=\"#welcome-to-github-pages',\n",
        " '<span\\n                    class=\"octicon octicon-link',\n",
        " '</span></a>Welcome to KonanAcademy\\'s Data Analysis Baisc Pages.</h3>\\n\\n        <p>\\xec\\xbd\\x94\\xeb\\x82\\x9c\\xec\\x95\\x84\\xec\\xb9\\xb4\\xeb\\x8d\\xb0\\xeb\\xaf\\xb8 \\xeb\\x8d\\xb0\\xec\\x9d\\xb4\\xed\\x84\\xb0\\xeb\\xb6\\x84\\xec\\x84\\x9d \\xea\\xb8\\xb0\\xec\\xb4\\x88</p>\\n        <pre><code>\\n            \\xeb\\x8d\\xb0\\xec\\x9d\\xb4\\xed\\x84\\xb0 \\xeb\\xb6\\x84\\xec\\x84\\x9d \\xea\\xb8\\xb0\\xec\\xb4\\x88 (2015.2~2015.3)\\n            2015\\xeb\\x85\\x84 2\\xec\\x9b\\x94 24\\xec\\x9d\\xbc - 2015\\xeb\\x85\\x84 3\\xec\\x9b\\x94\\n            \\xeb\\xa7\\xa4\\xec\\xa3\\xbc \\xed\\x99\\x94, \\xeb\\xaa\\xa9 \\xec\\xa0\\x80\\xeb\\x85\\x81. 7\\xec\\x8b\\x9c~9\\xec\\x8b\\x9c\\n            \\xec\\x9e\\xa5\\xec\\x86\\x8c: \\xec\\xbd\\x94\\xeb\\x82\\x9c\\xed\\x85\\x8c\\xed\\x81\\xac\\xeb\\x86\\x80\\xeb\\xa1\\x9c\\xec\\xa7\\x80 \\n        </code></pre>\\n        <table>\\n          <thead>\\n            <tr>\\n              <th align=\"left',\n",
        " '</th>\\n              <th align=\"left',\n",
        " '\\xeb\\x82\\xa0\\xec\\xa7\\x9c</th>\\n              <th align=\"left',\n",
        " '\\xec\\xa0\\x9c\\xeb\\xaa\\xa9</th>\\n              <th align=\"left',\n",
        " '\\xec\\x84\\xb8\\xeb\\xb6\\x80\\xec\\x82\\xac\\xed\\x95\\xad</th>\\n            </tr>\\n          </thead>\\n          <tbody>\\n            <tr>\\n              <td align=\"left',\n",
        " '0</td>\\n              <td align=\"left',\n",
        " '2/24</td>\\n              <td align=\"left',\n",
        " '<ui><li><a href=\"http://nbviewer.ipython.org/github/KonanAcademy/da/blob/master/part1/00_what_is_da.ipynb',\n",
        " '\\xeb\\x8d\\xb0\\xec\\x9d\\xb4\\xed\\x84\\xb0\\xeb\\xb6\\x84\\xec\\x84\\x9d\\xec\\x9d\\xb4\\xeb\\x9e\\x80?</a></li><li><a href=\"http://nbviewer.ipython.org/github/KonanAcademy/da/blob/master/part1/00_1_python_example.ipynb',\n",
        " '\\xeb\\x8d\\xb0\\xec\\x9d\\xb4\\xed\\x84\\xb0 \\xeb\\xb6\\x84\\xec\\x84\\x9d \\xec\\x98\\x88\\xec\\xa0\\x9c1(Python)</a></li><li><a href=\"']"
       ]
      }
     ],
     "prompt_number": 48
    },
    {
     "cell_type": "code",
     "collapsed": false,
     "input": [
      "# \uadf8\ub9ac\uace0 \uadf8 \uc55e\ubd80\ubd84\ub9cc \uccab\ubc88\uc9f8 \uc6d0\uc18c\ub9cc \uac00\uc838\uc624\uba74 \ub9c1\ud06c\ub9cc \uac00\uc838\uc624\uac8c \ub41c\ub2e4.\n",
      "words[1].split('\">')[0]"
     ],
     "language": "python",
     "metadata": {},
     "outputs": [
      {
       "metadata": {},
       "output_type": "pyout",
       "prompt_number": 49,
       "text": [
        "'://github.com/KonanAcademy/da'"
       ]
      }
     ],
     "prompt_number": 49
    },
    {
     "cell_type": "code",
     "collapsed": false,
     "input": [
      "# \uc774\ub7f0 \uc2dd\uc73c\ub85c \ucd94\ucd9c\uac00\ub2a5\n",
      "for word in words[1:5] :\n",
      "    print \"https://\" + word.split('\">')[0]"
     ],
     "language": "python",
     "metadata": {},
     "outputs": [
      {
       "output_type": "stream",
       "stream": "stdout",
       "text": [
        "https://://github.com/KonanAcademy/da\n",
        "https://://github.com/KonanAcademy/da/blob/master/part1/00_2_R_example.md\n",
        "https://://github.com/KonanAcademy/da/blob/master/part1/00_4_R_example.md\n",
        "https://://view.officeapps.live.com/op/view.aspx?src=http%3A%2F%2Fwww.fil.ion.ucl.ac.uk%2Fspm%2Fdoc%2Fmfd%2F2010%2Fpage1%2FLinearAlgebra.ppt\n"
       ]
      }
     ],
     "prompt_number": 50
    },
    {
     "cell_type": "code",
     "collapsed": false,
     "input": [
      "# \ub9ac\uc2a4\ud2b8\uc5d0 \uacb0\uacfc\ub4e4\uc744 \ub2e4 \ub2f4\uc790.\n",
      "links = []\n",
      "\n",
      "for word in words :\n",
      "    links.append(\"https://\" + word.split('\">')[0])"
     ],
     "language": "python",
     "metadata": {},
     "outputs": [],
     "prompt_number": 51
    },
    {
     "cell_type": "code",
     "collapsed": false,
     "input": [
      "links"
     ],
     "language": "python",
     "metadata": {},
     "outputs": [
      {
       "metadata": {},
       "output_type": "pyout",
       "prompt_number": 52,
       "text": [
        "['https://<!doctype html>\\n<html>\\n<head>\\n    <meta charset=\"utf-8',\n",
        " 'https://://github.com/KonanAcademy/da',\n",
        " 'https://://github.com/KonanAcademy/da/blob/master/part1/00_2_R_example.md',\n",
        " 'https://://github.com/KonanAcademy/da/blob/master/part1/00_4_R_example.md',\n",
        " 'https://://view.officeapps.live.com/op/view.aspx?src=http%3A%2F%2Fwww.fil.ion.ucl.ac.uk%2Fspm%2Fdoc%2Fmfd%2F2010%2Fpage1%2FLinearAlgebra.ppt',\n",
        " 'https://://view.officeapps.live.com/op/view.aspx?src=',\n",
        " 'https://%3A%2F%2Feducation.med.imperial.ac.uk%2Fext%2Fintercalate11-12%2Fstatistics.ppt',\n",
        " 'https://://docs.google.com/file/d/0Bw594TdiBdAUb1RfdXpnNlhBa0E']"
       ]
      }
     ],
     "prompt_number": 52
    },
    {
     "cell_type": "heading",
     "level": 3,
     "metadata": {},
     "source": [
      "\ud1b5\ud569\ucf54\ub4dc"
     ]
    },
    {
     "cell_type": "code",
     "collapsed": false,
     "input": [
      "# \uae30\ubcf8 \ud328\ud0a4\uc9c0\n",
      "import urllib\n",
      "\n",
      "url = 'http://konanacademy.github.io/da/'\n",
      "\n",
      "# \ud578\ub4e4 \uc5bb\uc74c\n",
      "f = urllib.urlopen(url)\n",
      "# \ubb38\uc790\uc5f4\ub85c \uc77d\ub294\ub2e4\n",
      "text = f.read()\n",
      "# \ud2b9\uc815 \uae30\uc900\uc73c\ub85c \uc798\ub77c\ub0b4\uc11c \ub9ac\uc2a4\ud2b8\ub85c \ub9cc\ub4e0\ub2e4. \n",
      "# \uc5ec\uae30\uc11c\ub294 https \ub9c1\ud06c\ub9cc \ucd94\ucd9c\ud574\ubcf4\uc790.\n",
      "words = text.split('https')\n",
      "# \ub9ac\uc2a4\ud2b8\uc5d0 \uacb0\uacfc\ub4e4\uc744 \ub2e4 \ub2f4\uc790.\n",
      "links = []\n",
      "for word in words[1:] :\n",
      "    links.append(\"https://\" + word.split('\">')[0])\n",
      "    \n",
      "print links"
     ],
     "language": "python",
     "metadata": {},
     "outputs": [
      {
       "output_type": "stream",
       "stream": "stdout",
       "text": [
        "['https://://github.com/KonanAcademy/da', 'https://://github.com/KonanAcademy/da/blob/master/part1/00_2_R_example.md', 'https://://github.com/KonanAcademy/da/blob/master/part1/00_4_R_example.md', 'https://://view.officeapps.live.com/op/view.aspx?src=http%3A%2F%2Fwww.fil.ion.ucl.ac.uk%2Fspm%2Fdoc%2Fmfd%2F2010%2Fpage1%2FLinearAlgebra.ppt', 'https://://view.officeapps.live.com/op/view.aspx?src=', 'https://%3A%2F%2Feducation.med.imperial.ac.uk%2Fext%2Fintercalate11-12%2Fstatistics.ppt', 'https://://docs.google.com/file/d/0Bw594TdiBdAUb1RfdXpnNlhBa0E']\n"
       ]
      }
     ],
     "prompt_number": 54
    },
    {
     "cell_type": "heading",
     "level": 1,
     "metadata": {},
     "source": [
      "requests\uc640 beautifulsoup4\ub97c \uc774\uc6a9\ud55c \uc6f9 \ubb38\uc11c \ud30c\uc2f1"
     ]
    },
    {
     "cell_type": "markdown",
     "metadata": {},
     "source": [
      "* Step by Step\n",
      "* \ud1b5\ud569\ucf54\ub4dc"
     ]
    },
    {
     "cell_type": "heading",
     "level": 3,
     "metadata": {},
     "source": [
      "Step by Step"
     ]
    },
    {
     "cell_type": "code",
     "collapsed": false,
     "input": [
      "# pip install requests\n",
      "# pip install beautifulsoup4\n",
      "\n",
      "import requests as rs\n",
      "import bs4\n",
      "\n",
      "url = 'http://konanacademy.github.io/da/'\n",
      "\n",
      "# \uc694\uccad\n",
      "r = rs.get(url)"
     ],
     "language": "python",
     "metadata": {},
     "outputs": [],
     "prompt_number": 56
    },
    {
     "cell_type": "code",
     "collapsed": false,
     "input": [
      "r"
     ],
     "language": "python",
     "metadata": {},
     "outputs": [
      {
       "metadata": {},
       "output_type": "pyout",
       "prompt_number": 57,
       "text": [
        "<Response [200]>"
       ]
      }
     ],
     "prompt_number": 57
    },
    {
     "cell_type": "code",
     "collapsed": false,
     "input": [
      "# \uc751\ub2f5\uc73c\ub85c \ubd80\ud130 HTML \ucd94\ucd9c\n",
      "html_content = r.text.encode(r.encoding);"
     ],
     "language": "python",
     "metadata": {},
     "outputs": [],
     "prompt_number": 58
    },
    {
     "cell_type": "code",
     "collapsed": false,
     "input": [
      "type(html_content)"
     ],
     "language": "python",
     "metadata": {},
     "outputs": [
      {
       "metadata": {},
       "output_type": "pyout",
       "prompt_number": 59,
       "text": [
        "str"
       ]
      }
     ],
     "prompt_number": 59
    },
    {
     "cell_type": "code",
     "collapsed": false,
     "input": [
      "html_content[:1000]"
     ],
     "language": "python",
     "metadata": {},
     "outputs": [
      {
       "metadata": {},
       "output_type": "pyout",
       "prompt_number": 60,
       "text": [
        "'<!doctype html>\\n<html>\\n<head>\\n    <meta charset=\"utf-8\">\\n    <meta http-equiv=\"X-UA-Compatible\" content=\"chrome=1\">\\n\\n    <meta property=\"og:title\" content=\"\\xec\\xbd\\x94\\xeb\\x82\\x9c\\xec\\x95\\x84\\xec\\xb9\\xb4\\xeb\\x8d\\xb0\\xeb\\xaf\\xb8\" />\\n    <meta property=\"og:description\" content=\"\\xec\\xbd\\x94\\xeb\\x82\\x9c\\xec\\x95\\x84\\xec\\xb9\\xb4\\xeb\\x8d\\xb0\\xeb\\xaf\\xb8 \\xeb\\x8d\\xb0\\xec\\x9d\\xb4\\xed\\x84\\xb0\\xeb\\xb6\\x84\\xec\\x84\\x9d \\xea\\xb8\\xb0\\xec\\xb4\\x88\" />\\n    <meta property=\"og:type\" content=\"website\" />\\n    <meta property=\"og:url\" content=\"http://konanacademy.github.io/da\" />\\n    <title>\\xeb\\x8d\\xb0\\xec\\x9d\\xb4\\xed\\x84\\xb0\\xeb\\xb6\\x84\\xec\\x84\\x9d \\xea\\xb8\\xb0\\xec\\xb4\\x88</title>\\n\\n    <link rel=\"stylesheet\" href=\"stylesheets/styles.css\">\\n    <link rel=\"stylesheet\" href=\"stylesheets/pygment_trac.css\">\\n    <meta name=\"viewport\" content=\"width=device-width, initial-scale=1, user-scalable=no\">\\n    <script src=\"http://ajax.googleapis.com/ajax/libs/jquery/1.11.1/jquery.min.js\"></script>\\n    <!--[if lt IE 9]>\\n    <script src=\"//html5shiv.googlecode.com/svn/trunk/html5.js\"></script>\\n    <![endif]-->\\n\\n    <!-- START google analytics -->\\n    <script>\\n        (function(i,s,o,g,r,a,m){i[\\'GoogleAnalyticsObject\\']=r;i[r]=i[r]||function(){\\n         '"
       ]
      }
     ],
     "prompt_number": 60
    },
    {
     "cell_type": "code",
     "collapsed": false,
     "input": [
      "# HTML \ud30c\uc2f1\n",
      "navigator = bs4.BeautifulSoup(html_content)"
     ],
     "language": "python",
     "metadata": {},
     "outputs": [],
     "prompt_number": 61
    },
    {
     "cell_type": "code",
     "collapsed": false,
     "input": [
      "type(navigator)"
     ],
     "language": "python",
     "metadata": {},
     "outputs": [
      {
       "metadata": {},
       "output_type": "pyout",
       "prompt_number": 62,
       "text": [
        "bs4.BeautifulSoup"
       ]
      }
     ],
     "prompt_number": 62
    },
    {
     "cell_type": "code",
     "collapsed": false,
     "input": [
      "# \ub124\ube44\uac8c\uc774\ud130\ub97c \uc774\uc6a9\ud574 \uc6d0\ud558\ub294 \ud0dc\uadf8 \ub9ac\uc2a4\ud2b8 \uac00\uc838\uc624\uae30\n",
      "alist = navigator.find_all('a')\n",
      "alist"
     ],
     "language": "python",
     "metadata": {},
     "outputs": [
      {
       "metadata": {},
       "output_type": "pyout",
       "prompt_number": 83,
       "text": [
        "[<a href=\"http://www.konantech.com/\">\ucf54\ub09c\ud14c\ud06c\ub180\ub85c\uc9c0</a>,\n",
        " <a href=\"http://KonanAcademy.github.io\"> \ucf54\ub09c\uc544\uce74\ub370\ubbf8 \uba54\uc778</a>,\n",
        " <a href=\"https://github.com/KonanAcademy/da\"> GitHub </a>,\n",
        " <a class=\"anchor\" href=\"#welcome-to-github-pages\" name=\"welcome-to-github-pages\"><span class=\"octicon octicon-link\"></span></a>,\n",
        " <a href=\"http://nbviewer.ipython.org/github/KonanAcademy/da/blob/master/part1/00_what_is_da.ipynb\">\ub370\uc774\ud130\ubd84\uc11d\uc774\ub780?</a>,\n",
        " <a href=\"http://nbviewer.ipython.org/github/KonanAcademy/da/blob/master/part1/00_1_python_example.ipynb\">\ub370\uc774\ud130 \ubd84\uc11d \uc608\uc81c1(Python)</a>,\n",
        " <a href=\"https://github.com/KonanAcademy/da/blob/master/part1/00_2_R_example.md\">\ub370\uc774\ud130 \ubd84\uc11d \uc608\uc81c2(R)</a>,\n",
        " <a href=\"http://nbviewer.ipython.org/github/KonanAcademy/da/blob/master/part1/00_3_python_example.ipynb\">\ub370\uc774\ud130 \ubd84\uc11d \uc608\uc81c3(Python)</a>,\n",
        " <a href=\"https://github.com/KonanAcademy/da/blob/master/part1/00_4_R_example.md\">\ub370\uc774\ud130 \ubd84\uc11d \uc608\uc81c4(R)</a>,\n",
        " <a href=\"http://nbviewer.ipython.org/github/KonanAcademy/da/blob/master/part1/01_python_basic.ipynb\">\ud30c\uc774\uc36c \uae30\ucd08</a>,\n",
        " <a href=\"http://nbviewer.ipython.org/github/KonanAcademy/da/blob/master/part1/01_exercise_python.ipynb\">\uc5f0\uc2b5\ubb38\uc81c(\ud30c\uc774\uc36c\uae30\ucd08)</a>,\n",
        " <a href=\"https://view.officeapps.live.com/op/view.aspx?src=http%3A%2F%2Fwww.fil.ion.ucl.ac.uk%2Fspm%2Fdoc%2Fmfd%2F2010%2Fpage1%2FLinearAlgebra.ppt\">\ucc38\uc870: \uc120\ud615\ub300\uc218 \uae30\ucd08</a>,\n",
        " <a href=\"http://nbviewer.ipython.org/github/KonanAcademy/da/blob/master/part1/02_python_pandas_1.ipynb\">\ud30c\uc774\uc36c\uacfc \ud14c\uc774\ube14\ud615 \ub370\uc774\ud130 \ud578\ub4e4\ub9c1 - numpy &amp; pandas (1)</a>,\n",
        " <a href=\"https://view.officeapps.live.com/op/view.aspx?src=https%3A%2F%2Feducation.med.imperial.ac.uk%2Fext%2Fintercalate11-12%2Fstatistics.ppt\">\ucc38\uc870: \ud1b5\uacc4\ud559 \uae30\ucd08</a>,\n",
        " <a href=\"http://nbviewer.ipython.org/github/KonanAcademy/da/blob/master/part1/03_python_pandas_2.ipynb\">\ud30c\uc774\uc36c\uacfc \ud14c\uc774\ube14\ud615 \ub370\uc774\ud130 \ud578\ub4e4\ub9c1 - pandas (2)</a>,\n",
        " <a href=\"https://docs.google.com/file/d/0Bw594TdiBdAUb1RfdXpnNlhBa0E\">\ucc38\uc870: \ud0d0\uc0c9\uc801 \uc790\ub8cc \ubd84\uc11d</a>,\n",
        " <a href=\"http://nbviewer.ipython.org/github/KonanAcademy/da/blob/master/part1/04_matplotlib_example.ipynb\">\ub370\uc774\ud130 \uc2dc\uac01\ud654 \uc608\uc81c(Python)</a>,\n",
        " <a href=\"http://nbviewer.ipython.org/github/KonanAcademy/da/blob/master/part1/04_python_visualization.ipynb\">\ud30c\uc774\uc36c\uacfc \ub370\uc774\ud130 \uc2dc\uac01\ud654 - pandas, matplotlib, seaborn</a>]"
       ]
      }
     ],
     "prompt_number": 83
    },
    {
     "cell_type": "code",
     "collapsed": false,
     "input": [
      "import re # \uc815\uaddc\ud45c\ud604\uc2dd \ud328\ud0a4\uc9c0\n",
      "\n",
      "# \uc704\uc758 \ucf54\ub4dc\ub294 http\ub098 https\ub97c \ud3ec\ud568\ud558\uc9c0 \uc54a\ub294 \ubb38\uc790\uc5f4\ub3c4 \ubaa8\ub450 \ubc18\ud658\ud55c\ub2e4.\n",
      "# \uc815\uaddc\ud45c\ud604\uc2dd\uc744 \uc774\uc6a9\ud574\uc11c, href\uc758 \uacb0\uacfc\ubb3c\uc5d0\uc11c http\ub97c \ud3ec\ud568\ud558\ub294 \ubb38\uc790\ub9cc \ucd94\ucd9c\ud558\uc790.\n",
      "alist = navigator.find_all(href=re.compile(\"http\"))\n",
      "alist"
     ],
     "language": "python",
     "metadata": {},
     "outputs": [
      {
       "metadata": {},
       "output_type": "pyout",
       "prompt_number": 123,
       "text": [
        "[<a href=\"http://www.konantech.com/\">\ucf54\ub09c\ud14c\ud06c\ub180\ub85c\uc9c0</a>,\n",
        " <a href=\"http://KonanAcademy.github.io\"> \ucf54\ub09c\uc544\uce74\ub370\ubbf8 \uba54\uc778</a>,\n",
        " <a href=\"https://github.com/KonanAcademy/da\"> GitHub </a>,\n",
        " <a href=\"http://nbviewer.ipython.org/github/KonanAcademy/da/blob/master/part1/00_what_is_da.ipynb\">\ub370\uc774\ud130\ubd84\uc11d\uc774\ub780?</a>,\n",
        " <a href=\"http://nbviewer.ipython.org/github/KonanAcademy/da/blob/master/part1/00_1_python_example.ipynb\">\ub370\uc774\ud130 \ubd84\uc11d \uc608\uc81c1(Python)</a>,\n",
        " <a href=\"https://github.com/KonanAcademy/da/blob/master/part1/00_2_R_example.md\">\ub370\uc774\ud130 \ubd84\uc11d \uc608\uc81c2(R)</a>,\n",
        " <a href=\"http://nbviewer.ipython.org/github/KonanAcademy/da/blob/master/part1/00_3_python_example.ipynb\">\ub370\uc774\ud130 \ubd84\uc11d \uc608\uc81c3(Python)</a>,\n",
        " <a href=\"https://github.com/KonanAcademy/da/blob/master/part1/00_4_R_example.md\">\ub370\uc774\ud130 \ubd84\uc11d \uc608\uc81c4(R)</a>,\n",
        " <a href=\"http://nbviewer.ipython.org/github/KonanAcademy/da/blob/master/part1/01_python_basic.ipynb\">\ud30c\uc774\uc36c \uae30\ucd08</a>,\n",
        " <a href=\"http://nbviewer.ipython.org/github/KonanAcademy/da/blob/master/part1/01_exercise_python.ipynb\">\uc5f0\uc2b5\ubb38\uc81c(\ud30c\uc774\uc36c\uae30\ucd08)</a>,\n",
        " <a href=\"https://view.officeapps.live.com/op/view.aspx?src=http%3A%2F%2Fwww.fil.ion.ucl.ac.uk%2Fspm%2Fdoc%2Fmfd%2F2010%2Fpage1%2FLinearAlgebra.ppt\">\ucc38\uc870: \uc120\ud615\ub300\uc218 \uae30\ucd08</a>,\n",
        " <a href=\"http://nbviewer.ipython.org/github/KonanAcademy/da/blob/master/part1/02_python_pandas_1.ipynb\">\ud30c\uc774\uc36c\uacfc \ud14c\uc774\ube14\ud615 \ub370\uc774\ud130 \ud578\ub4e4\ub9c1 - numpy &amp; pandas (1)</a>,\n",
        " <a href=\"https://view.officeapps.live.com/op/view.aspx?src=https%3A%2F%2Feducation.med.imperial.ac.uk%2Fext%2Fintercalate11-12%2Fstatistics.ppt\">\ucc38\uc870: \ud1b5\uacc4\ud559 \uae30\ucd08</a>,\n",
        " <a href=\"http://nbviewer.ipython.org/github/KonanAcademy/da/blob/master/part1/03_python_pandas_2.ipynb\">\ud30c\uc774\uc36c\uacfc \ud14c\uc774\ube14\ud615 \ub370\uc774\ud130 \ud578\ub4e4\ub9c1 - pandas (2)</a>,\n",
        " <a href=\"https://docs.google.com/file/d/0Bw594TdiBdAUb1RfdXpnNlhBa0E\">\ucc38\uc870: \ud0d0\uc0c9\uc801 \uc790\ub8cc \ubd84\uc11d</a>,\n",
        " <a href=\"http://nbviewer.ipython.org/github/KonanAcademy/da/blob/master/part1/04_matplotlib_example.ipynb\">\ub370\uc774\ud130 \uc2dc\uac01\ud654 \uc608\uc81c(Python)</a>,\n",
        " <a href=\"http://nbviewer.ipython.org/github/KonanAcademy/da/blob/master/part1/04_python_visualization.ipynb\">\ud30c\uc774\uc36c\uacfc \ub370\uc774\ud130 \uc2dc\uac01\ud654 - pandas, matplotlib, seaborn</a>]"
       ]
      }
     ],
     "prompt_number": 123
    },
    {
     "cell_type": "code",
     "collapsed": false,
     "input": [
      "type(alist)"
     ],
     "language": "python",
     "metadata": {},
     "outputs": [
      {
       "metadata": {},
       "output_type": "pyout",
       "prompt_number": 124,
       "text": [
        "bs4.element.ResultSet"
       ]
      }
     ],
     "prompt_number": 124
    },
    {
     "cell_type": "code",
     "collapsed": false,
     "input": [
      "alist[0]"
     ],
     "language": "python",
     "metadata": {},
     "outputs": [
      {
       "metadata": {},
       "output_type": "pyout",
       "prompt_number": 125,
       "text": [
        "<a href=\"http://www.konantech.com/\">\ucf54\ub09c\ud14c\ud06c\ub180\ub85c\uc9c0</a>"
       ]
      }
     ],
     "prompt_number": 125
    },
    {
     "cell_type": "code",
     "collapsed": false,
     "input": [
      "type(alist[0])"
     ],
     "language": "python",
     "metadata": {},
     "outputs": [
      {
       "metadata": {},
       "output_type": "pyout",
       "prompt_number": 126,
       "text": [
        "bs4.element.Tag"
       ]
      }
     ],
     "prompt_number": 126
    },
    {
     "cell_type": "code",
     "collapsed": false,
     "input": [
      "link = alist[0].get('href')\n",
      "link"
     ],
     "language": "python",
     "metadata": {},
     "outputs": [
      {
       "metadata": {},
       "output_type": "pyout",
       "prompt_number": 127,
       "text": [
        "u'http://www.konantech.com/'"
       ]
      }
     ],
     "prompt_number": 127
    },
    {
     "cell_type": "code",
     "collapsed": false,
     "input": [
      "# \ub124\ube44\uac8c\uc774\ud130\ub97c \uc774\uc6a9\ud574 \uc6d0\ud558\ub294 \ud0dc\uadf8 \ub9ac\uc2a4\ud2b8 \uac00\uc838\uc624\uae30\n",
      "links = []\n",
      "for link in navigator.find_all(href=re.compile(\"http\")) : \n",
      "    links.append(link.get('href')) \n",
      "    \n",
      "links"
     ],
     "language": "python",
     "metadata": {},
     "outputs": [
      {
       "metadata": {},
       "output_type": "pyout",
       "prompt_number": 129,
       "text": [
        "[u'http://www.konantech.com/',\n",
        " u'http://KonanAcademy.github.io',\n",
        " u'https://github.com/KonanAcademy/da',\n",
        " u'http://nbviewer.ipython.org/github/KonanAcademy/da/blob/master/part1/00_what_is_da.ipynb',\n",
        " u'http://nbviewer.ipython.org/github/KonanAcademy/da/blob/master/part1/00_1_python_example.ipynb',\n",
        " u'https://github.com/KonanAcademy/da/blob/master/part1/00_2_R_example.md',\n",
        " u'http://nbviewer.ipython.org/github/KonanAcademy/da/blob/master/part1/00_3_python_example.ipynb',\n",
        " u'https://github.com/KonanAcademy/da/blob/master/part1/00_4_R_example.md',\n",
        " u'http://nbviewer.ipython.org/github/KonanAcademy/da/blob/master/part1/01_python_basic.ipynb',\n",
        " u'http://nbviewer.ipython.org/github/KonanAcademy/da/blob/master/part1/01_exercise_python.ipynb',\n",
        " u'https://view.officeapps.live.com/op/view.aspx?src=http%3A%2F%2Fwww.fil.ion.ucl.ac.uk%2Fspm%2Fdoc%2Fmfd%2F2010%2Fpage1%2FLinearAlgebra.ppt',\n",
        " u'http://nbviewer.ipython.org/github/KonanAcademy/da/blob/master/part1/02_python_pandas_1.ipynb',\n",
        " u'https://view.officeapps.live.com/op/view.aspx?src=https%3A%2F%2Feducation.med.imperial.ac.uk%2Fext%2Fintercalate11-12%2Fstatistics.ppt',\n",
        " u'http://nbviewer.ipython.org/github/KonanAcademy/da/blob/master/part1/03_python_pandas_2.ipynb',\n",
        " u'https://docs.google.com/file/d/0Bw594TdiBdAUb1RfdXpnNlhBa0E',\n",
        " u'http://nbviewer.ipython.org/github/KonanAcademy/da/blob/master/part1/04_matplotlib_example.ipynb',\n",
        " u'http://nbviewer.ipython.org/github/KonanAcademy/da/blob/master/part1/04_python_visualization.ipynb']"
       ]
      }
     ],
     "prompt_number": 129
    },
    {
     "cell_type": "code",
     "collapsed": false,
     "input": [
      "# \uc704\uc758 \ucf54\ub4dc\ub294 \ub9ac\uc2a4\ud2b8 \ub0b4\ud3ec\ub85c \uac04\ub2e8\ud558\uac8c \ub098\ud0c0\ub0bc \uc218 \uc788\ub2e4.\n",
      "links = [link.get('href') for link in navigator.find_all(href=re.compile(\"http\"))]\n",
      "links"
     ],
     "language": "python",
     "metadata": {},
     "outputs": [
      {
       "metadata": {},
       "output_type": "pyout",
       "prompt_number": 131,
       "text": [
        "[u'http://www.konantech.com/',\n",
        " u'http://KonanAcademy.github.io',\n",
        " u'https://github.com/KonanAcademy/da',\n",
        " u'http://nbviewer.ipython.org/github/KonanAcademy/da/blob/master/part1/00_what_is_da.ipynb',\n",
        " u'http://nbviewer.ipython.org/github/KonanAcademy/da/blob/master/part1/00_1_python_example.ipynb',\n",
        " u'https://github.com/KonanAcademy/da/blob/master/part1/00_2_R_example.md',\n",
        " u'http://nbviewer.ipython.org/github/KonanAcademy/da/blob/master/part1/00_3_python_example.ipynb',\n",
        " u'https://github.com/KonanAcademy/da/blob/master/part1/00_4_R_example.md',\n",
        " u'http://nbviewer.ipython.org/github/KonanAcademy/da/blob/master/part1/01_python_basic.ipynb',\n",
        " u'http://nbviewer.ipython.org/github/KonanAcademy/da/blob/master/part1/01_exercise_python.ipynb',\n",
        " u'https://view.officeapps.live.com/op/view.aspx?src=http%3A%2F%2Fwww.fil.ion.ucl.ac.uk%2Fspm%2Fdoc%2Fmfd%2F2010%2Fpage1%2FLinearAlgebra.ppt',\n",
        " u'http://nbviewer.ipython.org/github/KonanAcademy/da/blob/master/part1/02_python_pandas_1.ipynb',\n",
        " u'https://view.officeapps.live.com/op/view.aspx?src=https%3A%2F%2Feducation.med.imperial.ac.uk%2Fext%2Fintercalate11-12%2Fstatistics.ppt',\n",
        " u'http://nbviewer.ipython.org/github/KonanAcademy/da/blob/master/part1/03_python_pandas_2.ipynb',\n",
        " u'https://docs.google.com/file/d/0Bw594TdiBdAUb1RfdXpnNlhBa0E',\n",
        " u'http://nbviewer.ipython.org/github/KonanAcademy/da/blob/master/part1/04_matplotlib_example.ipynb',\n",
        " u'http://nbviewer.ipython.org/github/KonanAcademy/da/blob/master/part1/04_python_visualization.ipynb']"
       ]
      }
     ],
     "prompt_number": 131
    },
    {
     "cell_type": "heading",
     "level": 3,
     "metadata": {},
     "source": [
      "\ud1b5\ud569\ucf54\ub4dc"
     ]
    },
    {
     "cell_type": "code",
     "collapsed": false,
     "input": [
      "# pip install requests\n",
      "# pip install beautifulsoup4\n",
      "\n",
      "import requests as rs\n",
      "import bs4\n",
      "import re\n",
      "\n",
      "url = 'http://konanacademy.github.io/da/'\n",
      "\n",
      "# \uc694\uccad\n",
      "r = rs.get(url)\n",
      "# \uc751\ub2f5\uc73c\ub85c \ubd80\ud130 HTML \ucd94\ucd9c\n",
      "html_content = r.text.encode(r.encoding)\n",
      "# HTML \ud30c\uc2f1\n",
      "navigator = bs4.BeautifulSoup(html_content)\n",
      "# \ub124\ube44\uac8c\uc774\ud130\ub97c \uc774\uc6a9\ud574 \uc6d0\ud558\ub294 \ud0dc\uadf8 \ub9ac\uc2a4\ud2b8 \uac00\uc838\uc624\uae30 - http\ub098 https \ub9c1\ud06c\ub9cc \ucd94\ucd9c\ud558\uc790\n",
      "links = [link.get('href') for link in navigator.find_all(href=re.compile(\"http\"))]\n",
      "links"
     ],
     "language": "python",
     "metadata": {},
     "outputs": [
      {
       "metadata": {},
       "output_type": "pyout",
       "prompt_number": 134,
       "text": [
        "[u'http://www.konantech.com/',\n",
        " u'http://KonanAcademy.github.io',\n",
        " u'https://github.com/KonanAcademy/da',\n",
        " u'http://nbviewer.ipython.org/github/KonanAcademy/da/blob/master/part1/00_what_is_da.ipynb',\n",
        " u'http://nbviewer.ipython.org/github/KonanAcademy/da/blob/master/part1/00_1_python_example.ipynb',\n",
        " u'https://github.com/KonanAcademy/da/blob/master/part1/00_2_R_example.md',\n",
        " u'http://nbviewer.ipython.org/github/KonanAcademy/da/blob/master/part1/00_3_python_example.ipynb',\n",
        " u'https://github.com/KonanAcademy/da/blob/master/part1/00_4_R_example.md',\n",
        " u'http://nbviewer.ipython.org/github/KonanAcademy/da/blob/master/part1/01_python_basic.ipynb',\n",
        " u'http://nbviewer.ipython.org/github/KonanAcademy/da/blob/master/part1/01_exercise_python.ipynb',\n",
        " u'https://view.officeapps.live.com/op/view.aspx?src=http%3A%2F%2Fwww.fil.ion.ucl.ac.uk%2Fspm%2Fdoc%2Fmfd%2F2010%2Fpage1%2FLinearAlgebra.ppt',\n",
        " u'http://nbviewer.ipython.org/github/KonanAcademy/da/blob/master/part1/02_python_pandas_1.ipynb',\n",
        " u'https://view.officeapps.live.com/op/view.aspx?src=https%3A%2F%2Feducation.med.imperial.ac.uk%2Fext%2Fintercalate11-12%2Fstatistics.ppt',\n",
        " u'http://nbviewer.ipython.org/github/KonanAcademy/da/blob/master/part1/03_python_pandas_2.ipynb',\n",
        " u'https://docs.google.com/file/d/0Bw594TdiBdAUb1RfdXpnNlhBa0E',\n",
        " u'http://nbviewer.ipython.org/github/KonanAcademy/da/blob/master/part1/04_matplotlib_example.ipynb',\n",
        " u'http://nbviewer.ipython.org/github/KonanAcademy/da/blob/master/part1/04_python_visualization.ipynb']"
       ]
      }
     ],
     "prompt_number": 134
    },
    {
     "cell_type": "markdown",
     "metadata": {},
     "source": [
      "## \ucc38\uace0\uc790\ub8cc \n",
      "\n",
      " * [1] \ud30c\uc774\uc36c(\uc5f4\ud608\uac15\uc758)(\uac1c\uc815\ud310 VER.2) - http://freelec.co.kr/book/catalogue_view.asp?UID=37\n",
      " * [2] requests \uacf5\uc2dd\ubb38\uc11c - http://docs.python-requests.org/en/latest/user/quickstart/\n",
      " * [3] beautifulSoup4 \ubb38\uc11c - http://coreapython.hosting.paran.com/etc/beautifulsoup4.html"
     ]
    }
   ],
   "metadata": {}
  }
 ]
}