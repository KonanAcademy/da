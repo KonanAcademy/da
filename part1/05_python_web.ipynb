{
 "metadata": {
  "name": "",
  "signature": "sha256:d9b755267fc813c9bd60468bb36c25c7973454038f2a42b75062459d2819d4fe"
 },
 "nbformat": 3,
 "nbformat_minor": 0,
 "worksheets": [
  {
   "cells": [
    {
     "cell_type": "heading",
     "level": 1,
     "metadata": {},
     "source": [
      "05. \ud30c\uc774\uc36c\uacfc \uc6f9"
     ]
    },
    {
     "cell_type": "markdown",
     "metadata": {},
     "source": [
      "* \ucf54\ub09c\uc544\uce74\ub370\ubbf8 : \ub370\uc774\ud130\ubd84\uc11d \uae30\ucd08\n",
      "* \uc791\uc131\uc790 : \uae40\ubb34\uc131    "
     ]
    },
    {
     "cell_type": "heading",
     "level": 1,
     "metadata": {},
     "source": [
      "\ucc28\ub840"
     ]
    },
    {
     "cell_type": "markdown",
     "metadata": {},
     "source": [
      "* \ud30c\uc774\uc36c \uae30\ubcf8 \ud328\ud0a4\uc9c0\ub97c \uc774\uc6a9\ud55c \uc6f9 \ubb38\uc11c \ud30c\uc2f1 [1]\n",
      "* requests\uc640 beautifulsoup4\ub97c \uc774\uc6a9\ud55c \uc6f9 \ubb38\uc11c \ud30c\uc2f1 [2,3]\n",
      "* Scrapy\ub97c \uc774\uc6a9\ud55c \uc6f9 \ud06c\ub864\ub9c1 [4,5,6]"
     ]
    },
    {
     "cell_type": "heading",
     "level": 1,
     "metadata": {},
     "source": [
      "\ucd94\ucc9c \uc0ac\uc774\ud2b8"
     ]
    },
    {
     "cell_type": "markdown",
     "metadata": {},
     "source": [
      "* \ud30c\uc774\uc36c \uc815\uaddc \ud45c\ud604\uc2dd - https://wikidocs.net/1642\n",
      "* requests -  http://docs.python-requests.org/en/latest/user/quickstart/\n",
      "* beautifulsoup - http://coreapython.hosting.paran.com/etc/beautifulsoup4.html"
     ]
    },
    {
     "cell_type": "heading",
     "level": 1,
     "metadata": {},
     "source": [
      "\ucd94\ucc9c\uc790\ub8cc"
     ]
    },
    {
     "cell_type": "markdown",
     "metadata": {},
     "source": [
      "* 30\ubd84\ub9cc\uc5d0 \ub530\ub77c\ud558\ub294 \ub3d9\uc2dc\uc131 \uc2a4\ud06c\ub798\ud37c - http://www.slideshare.net/cornchz/pyconkr-2014-30\n",
      "* \uc601\ud654\uc5d0 \ub300\ud55c \ud2b8\uc717\uc744 \ubcf4\uace0 \uc774\uac8c \uae0d\uc815\uc801\uc778 \ud3c9\uac00\uc778\uc9c0 \ubd80\uc815\uc801\uc778 \ud3c9\uac00\uc778\uc9c0 \ud310\ub2e8\ud574\ubcf4\uc790 \n",
      "  -  http://nbviewer.ipython.org/github/lexifdev/learning_scipy/blob/master/buildingml/chapter_006_extra/83_movie_reviews.ipynb\n",
      "  - github - https://github.com/lexifdev/learning_scipy.git "
     ]
    },
    {
     "cell_type": "heading",
     "level": 2,
     "metadata": {},
     "source": [
      "\ud30c\uc774\uc36c \uae30\ubcf8 \ud328\ud0a4\uc9c0\ub97c \uc774\uc6a9\ud55c \uc6f9 \ubb38\uc11c \ud30c\uc2f1"
     ]
    },
    {
     "cell_type": "markdown",
     "metadata": {},
     "source": [
      "* Step by Step\n",
      "* \ud1b5\ud569\ucf54\ub4dc"
     ]
    },
    {
     "cell_type": "heading",
     "level": 3,
     "metadata": {},
     "source": [
      "Step by Step"
     ]
    },
    {
     "cell_type": "code",
     "collapsed": false,
     "input": [
      "# \uae30\ubcf8 \ud328\ud0a4\uc9c0\n",
      "import urllib\n",
      "\n",
      "url = 'http://konanacademy.github.io/da/'\n",
      "\n",
      "# \ud578\ub4e4 \uc5bb\uc74c\n",
      "f = urllib.urlopen(url)"
     ],
     "language": "python",
     "metadata": {},
     "outputs": [],
     "prompt_number": 36
    },
    {
     "cell_type": "code",
     "collapsed": false,
     "input": [
      "type(f)"
     ],
     "language": "python",
     "metadata": {},
     "outputs": [
      {
       "metadata": {},
       "output_type": "pyout",
       "prompt_number": 37,
       "text": [
        "instance"
       ]
      }
     ],
     "prompt_number": 37
    },
    {
     "cell_type": "code",
     "collapsed": false,
     "input": [
      "# \ubb38\uc790\uc5f4\ub85c \uc77d\ub294\ub2e4\n",
      "text = f.read()"
     ],
     "language": "python",
     "metadata": {},
     "outputs": [],
     "prompt_number": 38
    },
    {
     "cell_type": "code",
     "collapsed": false,
     "input": [
      "type(text)"
     ],
     "language": "python",
     "metadata": {},
     "outputs": [
      {
       "metadata": {},
       "output_type": "pyout",
       "prompt_number": 39,
       "text": [
        "str"
       ]
      }
     ],
     "prompt_number": 39
    },
    {
     "cell_type": "code",
     "collapsed": false,
     "input": [
      "text[:1000]"
     ],
     "language": "python",
     "metadata": {},
     "outputs": [
      {
       "metadata": {},
       "output_type": "pyout",
       "prompt_number": 41,
       "text": [
        "'<!doctype html>\\n<html>\\n<head>\\n    <meta charset=\"utf-8\">\\n    <meta http-equiv=\"X-UA-Compatible\" content=\"chrome=1\">\\n\\n    <meta property=\"og:title\" content=\"\\xec\\xbd\\x94\\xeb\\x82\\x9c\\xec\\x95\\x84\\xec\\xb9\\xb4\\xeb\\x8d\\xb0\\xeb\\xaf\\xb8\" />\\n    <meta property=\"og:description\" content=\"\\xec\\xbd\\x94\\xeb\\x82\\x9c\\xec\\x95\\x84\\xec\\xb9\\xb4\\xeb\\x8d\\xb0\\xeb\\xaf\\xb8 \\xeb\\x8d\\xb0\\xec\\x9d\\xb4\\xed\\x84\\xb0\\xeb\\xb6\\x84\\xec\\x84\\x9d \\xea\\xb8\\xb0\\xec\\xb4\\x88\" />\\n    <meta property=\"og:type\" content=\"website\" />\\n    <meta property=\"og:url\" content=\"http://konanacademy.github.io/da\" />\\n    <title>\\xeb\\x8d\\xb0\\xec\\x9d\\xb4\\xed\\x84\\xb0\\xeb\\xb6\\x84\\xec\\x84\\x9d \\xea\\xb8\\xb0\\xec\\xb4\\x88</title>\\n\\n    <link rel=\"stylesheet\" href=\"stylesheets/styles.css\">\\n    <link rel=\"stylesheet\" href=\"stylesheets/pygment_trac.css\">\\n    <meta name=\"viewport\" content=\"width=device-width, initial-scale=1, user-scalable=no\">\\n    <script src=\"http://ajax.googleapis.com/ajax/libs/jquery/1.11.1/jquery.min.js\"></script>\\n    <!--[if lt IE 9]>\\n    <script src=\"//html5shiv.googlecode.com/svn/trunk/html5.js\"></script>\\n    <![endif]-->\\n\\n    <!-- START google analytics -->\\n    <script>\\n        (function(i,s,o,g,r,a,m){i[\\'GoogleAnalyticsObject\\']=r;i[r]=i[r]||function(){\\n         '"
       ]
      }
     ],
     "prompt_number": 41
    },
    {
     "cell_type": "code",
     "collapsed": false,
     "input": [
      "# \ud2b9\uc815 \uae30\uc900\uc73c\ub85c \uc798\ub77c\ub0b4\uc11c \ub9ac\uc2a4\ud2b8\ub85c \ub9cc\ub4e0\ub2e4. \n",
      "# \uc5ec\uae30\uc11c\ub294 https \ub9c1\ud06c\ub9cc \ucd94\ucd9c\ud574\ubcf4\uc790.\n",
      "words = text.split('https')"
     ],
     "language": "python",
     "metadata": {},
     "outputs": [],
     "prompt_number": 43
    },
    {
     "cell_type": "code",
     "collapsed": false,
     "input": [
      "type(words)"
     ],
     "language": "python",
     "metadata": {},
     "outputs": [
      {
       "metadata": {},
       "output_type": "pyout",
       "prompt_number": 45,
       "text": [
        "list"
       ]
      }
     ],
     "prompt_number": 45
    },
    {
     "cell_type": "code",
     "collapsed": false,
     "input": [
      "words[0]"
     ],
     "language": "python",
     "metadata": {},
     "outputs": [
      {
       "metadata": {},
       "output_type": "pyout",
       "prompt_number": 46,
       "text": [
        "'<!doctype html>\\n<html>\\n<head>\\n    <meta charset=\"utf-8\">\\n    <meta http-equiv=\"X-UA-Compatible\" content=\"chrome=1\">\\n\\n    <meta property=\"og:title\" content=\"\\xec\\xbd\\x94\\xeb\\x82\\x9c\\xec\\x95\\x84\\xec\\xb9\\xb4\\xeb\\x8d\\xb0\\xeb\\xaf\\xb8\" />\\n    <meta property=\"og:description\" content=\"\\xec\\xbd\\x94\\xeb\\x82\\x9c\\xec\\x95\\x84\\xec\\xb9\\xb4\\xeb\\x8d\\xb0\\xeb\\xaf\\xb8 \\xeb\\x8d\\xb0\\xec\\x9d\\xb4\\xed\\x84\\xb0\\xeb\\xb6\\x84\\xec\\x84\\x9d \\xea\\xb8\\xb0\\xec\\xb4\\x88\" />\\n    <meta property=\"og:type\" content=\"website\" />\\n    <meta property=\"og:url\" content=\"http://konanacademy.github.io/da\" />\\n    <title>\\xeb\\x8d\\xb0\\xec\\x9d\\xb4\\xed\\x84\\xb0\\xeb\\xb6\\x84\\xec\\x84\\x9d \\xea\\xb8\\xb0\\xec\\xb4\\x88</title>\\n\\n    <link rel=\"stylesheet\" href=\"stylesheets/styles.css\">\\n    <link rel=\"stylesheet\" href=\"stylesheets/pygment_trac.css\">\\n    <meta name=\"viewport\" content=\"width=device-width, initial-scale=1, user-scalable=no\">\\n    <script src=\"http://ajax.googleapis.com/ajax/libs/jquery/1.11.1/jquery.min.js\"></script>\\n    <!--[if lt IE 9]>\\n    <script src=\"//html5shiv.googlecode.com/svn/trunk/html5.js\"></script>\\n    <![endif]-->\\n\\n    <!-- START google analytics -->\\n    <script>\\n        (function(i,s,o,g,r,a,m){i[\\'GoogleAnalyticsObject\\']=r;i[r]=i[r]||function(){\\n          (i[r].q=i[r].q||[]).push(arguments)},i[r].l=1*new Date();a=s.createElement(o),\\n            m=s.getElementsByTagName(o)[0];a.async=1;a.src=g;m.parentNode.insertBefore(a,m)\\n        })(window,document,\\'script\\',\\'//www.google-analytics.com/analytics.js\\',\\'ga\\');\\n\\n        ga(\\'create\\', \\'UA-59572128-2\\', \\'auto\\');\\n        ga(\\'require\\', \\'displayfeatures\\');\\n        ga(\\'send\\', \\'pageview\\', {\\n            \\'page\\': location.pathname + location.search  + location.hash\\n        });\\n    </script>\\n    <!-- END google analytics -->\\n</head>\\n<body>\\n<div class=\"wrapper\">\\n    <header>\\n        <h1>KonanAcademy.github.io</h1>\\n\\n        <p></p>\\n        \\n        <p><a href=\"http://www.konantech.com/\">\\xec\\xbd\\x94\\xeb\\x82\\x9c\\xed\\x85\\x8c\\xed\\x81\\xac\\xeb\\x86\\x80\\xeb\\xa1\\x9c\\xec\\xa7\\x80</a></p>\\n        <p class=\"view\"><a href=\"http://KonanAcademy.github.io\"> \\xec\\xbd\\x94\\xeb\\x82\\x9c\\xec\\x95\\x84\\xec\\xb9\\xb4\\xeb\\x8d\\xb0\\xeb\\xaf\\xb8 \\xeb\\xa9\\x94\\xec\\x9d\\xb8</a></p>\\n        <p class=\"view\"><a href=\"'"
       ]
      }
     ],
     "prompt_number": 46
    },
    {
     "cell_type": "code",
     "collapsed": false,
     "input": [
      "words[1]"
     ],
     "language": "python",
     "metadata": {},
     "outputs": [
      {
       "metadata": {},
       "output_type": "pyout",
       "prompt_number": 47,
       "text": [
        "'://github.com/KonanAcademy/da\"> GitHub </a></p>\\n    </header>\\n    <section>\\n        <h3>\\n            <a name=\"welcome-to-github-pages\" class=\"anchor\" href=\"#welcome-to-github-pages\"><span\\n                    class=\"octicon octicon-link\"></span></a>Welcome to KonanAcademy\\'s Data Analysis Baisc Pages.</h3>\\n\\n        <p>\\xec\\xbd\\x94\\xeb\\x82\\x9c\\xec\\x95\\x84\\xec\\xb9\\xb4\\xeb\\x8d\\xb0\\xeb\\xaf\\xb8 \\xeb\\x8d\\xb0\\xec\\x9d\\xb4\\xed\\x84\\xb0\\xeb\\xb6\\x84\\xec\\x84\\x9d \\xea\\xb8\\xb0\\xec\\xb4\\x88</p>\\n        <pre><code>\\n            \\xeb\\x8d\\xb0\\xec\\x9d\\xb4\\xed\\x84\\xb0 \\xeb\\xb6\\x84\\xec\\x84\\x9d \\xea\\xb8\\xb0\\xec\\xb4\\x88 (2015.2~2015.3)\\n            2015\\xeb\\x85\\x84 2\\xec\\x9b\\x94 24\\xec\\x9d\\xbc - 2015\\xeb\\x85\\x84 3\\xec\\x9b\\x94\\n            \\xeb\\xa7\\xa4\\xec\\xa3\\xbc \\xed\\x99\\x94, \\xeb\\xaa\\xa9 \\xec\\xa0\\x80\\xeb\\x85\\x81. 7\\xec\\x8b\\x9c~9\\xec\\x8b\\x9c\\n            \\xec\\x9e\\xa5\\xec\\x86\\x8c: \\xec\\xbd\\x94\\xeb\\x82\\x9c\\xed\\x85\\x8c\\xed\\x81\\xac\\xeb\\x86\\x80\\xeb\\xa1\\x9c\\xec\\xa7\\x80 \\n        </code></pre>\\n        <table>\\n          <thead>\\n            <tr>\\n              <th align=\"left\"></th>\\n              <th align=\"left\">\\xeb\\x82\\xa0\\xec\\xa7\\x9c</th>\\n              <th align=\"left\">\\xec\\xa0\\x9c\\xeb\\xaa\\xa9</th>\\n              <th align=\"left\">\\xec\\x84\\xb8\\xeb\\xb6\\x80\\xec\\x82\\xac\\xed\\x95\\xad</th>\\n            </tr>\\n          </thead>\\n          <tbody>\\n            <tr>\\n              <td align=\"left\">0</td>\\n              <td align=\"left\">2/24</td>\\n              <td align=\"left\"><ui><li><a href=\"http://nbviewer.ipython.org/github/KonanAcademy/da/blob/master/part1/00_what_is_da.ipynb\">\\xeb\\x8d\\xb0\\xec\\x9d\\xb4\\xed\\x84\\xb0\\xeb\\xb6\\x84\\xec\\x84\\x9d\\xec\\x9d\\xb4\\xeb\\x9e\\x80?</a></li><li><a href=\"http://nbviewer.ipython.org/github/KonanAcademy/da/blob/master/part1/00_1_python_example.ipynb\">\\xeb\\x8d\\xb0\\xec\\x9d\\xb4\\xed\\x84\\xb0 \\xeb\\xb6\\x84\\xec\\x84\\x9d \\xec\\x98\\x88\\xec\\xa0\\x9c1(Python)</a></li><li><a href=\"'"
       ]
      }
     ],
     "prompt_number": 47
    },
    {
     "cell_type": "code",
     "collapsed": false,
     "input": [
      "# \"> \ub97c \uae30\uc900\uc73c\ub85c \ub2e4\uc2dc \uc798\ub77c\ub0b4\ubcf4\uc790. \n",
      "words[1].split('\">')"
     ],
     "language": "python",
     "metadata": {},
     "outputs": [
      {
       "metadata": {},
       "output_type": "pyout",
       "prompt_number": 48,
       "text": [
        "['://github.com/KonanAcademy/da',\n",
        " ' GitHub </a></p>\\n    </header>\\n    <section>\\n        <h3>\\n            <a name=\"welcome-to-github-pages\" class=\"anchor\" href=\"#welcome-to-github-pages',\n",
        " '<span\\n                    class=\"octicon octicon-link',\n",
        " '</span></a>Welcome to KonanAcademy\\'s Data Analysis Baisc Pages.</h3>\\n\\n        <p>\\xec\\xbd\\x94\\xeb\\x82\\x9c\\xec\\x95\\x84\\xec\\xb9\\xb4\\xeb\\x8d\\xb0\\xeb\\xaf\\xb8 \\xeb\\x8d\\xb0\\xec\\x9d\\xb4\\xed\\x84\\xb0\\xeb\\xb6\\x84\\xec\\x84\\x9d \\xea\\xb8\\xb0\\xec\\xb4\\x88</p>\\n        <pre><code>\\n            \\xeb\\x8d\\xb0\\xec\\x9d\\xb4\\xed\\x84\\xb0 \\xeb\\xb6\\x84\\xec\\x84\\x9d \\xea\\xb8\\xb0\\xec\\xb4\\x88 (2015.2~2015.3)\\n            2015\\xeb\\x85\\x84 2\\xec\\x9b\\x94 24\\xec\\x9d\\xbc - 2015\\xeb\\x85\\x84 3\\xec\\x9b\\x94\\n            \\xeb\\xa7\\xa4\\xec\\xa3\\xbc \\xed\\x99\\x94, \\xeb\\xaa\\xa9 \\xec\\xa0\\x80\\xeb\\x85\\x81. 7\\xec\\x8b\\x9c~9\\xec\\x8b\\x9c\\n            \\xec\\x9e\\xa5\\xec\\x86\\x8c: \\xec\\xbd\\x94\\xeb\\x82\\x9c\\xed\\x85\\x8c\\xed\\x81\\xac\\xeb\\x86\\x80\\xeb\\xa1\\x9c\\xec\\xa7\\x80 \\n        </code></pre>\\n        <table>\\n          <thead>\\n            <tr>\\n              <th align=\"left',\n",
        " '</th>\\n              <th align=\"left',\n",
        " '\\xeb\\x82\\xa0\\xec\\xa7\\x9c</th>\\n              <th align=\"left',\n",
        " '\\xec\\xa0\\x9c\\xeb\\xaa\\xa9</th>\\n              <th align=\"left',\n",
        " '\\xec\\x84\\xb8\\xeb\\xb6\\x80\\xec\\x82\\xac\\xed\\x95\\xad</th>\\n            </tr>\\n          </thead>\\n          <tbody>\\n            <tr>\\n              <td align=\"left',\n",
        " '0</td>\\n              <td align=\"left',\n",
        " '2/24</td>\\n              <td align=\"left',\n",
        " '<ui><li><a href=\"http://nbviewer.ipython.org/github/KonanAcademy/da/blob/master/part1/00_what_is_da.ipynb',\n",
        " '\\xeb\\x8d\\xb0\\xec\\x9d\\xb4\\xed\\x84\\xb0\\xeb\\xb6\\x84\\xec\\x84\\x9d\\xec\\x9d\\xb4\\xeb\\x9e\\x80?</a></li><li><a href=\"http://nbviewer.ipython.org/github/KonanAcademy/da/blob/master/part1/00_1_python_example.ipynb',\n",
        " '\\xeb\\x8d\\xb0\\xec\\x9d\\xb4\\xed\\x84\\xb0 \\xeb\\xb6\\x84\\xec\\x84\\x9d \\xec\\x98\\x88\\xec\\xa0\\x9c1(Python)</a></li><li><a href=\"']"
       ]
      }
     ],
     "prompt_number": 48
    },
    {
     "cell_type": "code",
     "collapsed": false,
     "input": [
      "# \uadf8\ub9ac\uace0 \uadf8 \uc55e\ubd80\ubd84\ub9cc \uccab\ubc88\uc9f8 \uc6d0\uc18c\ub9cc \uac00\uc838\uc624\uba74 \ub9c1\ud06c\ub9cc \uac00\uc838\uc624\uac8c \ub41c\ub2e4.\n",
      "words[1].split('\">')[0]"
     ],
     "language": "python",
     "metadata": {},
     "outputs": [
      {
       "metadata": {},
       "output_type": "pyout",
       "prompt_number": 49,
       "text": [
        "'://github.com/KonanAcademy/da'"
       ]
      }
     ],
     "prompt_number": 49
    },
    {
     "cell_type": "code",
     "collapsed": false,
     "input": [
      "# \uc774\ub7f0 \uc2dd\uc73c\ub85c \ucd94\ucd9c\uac00\ub2a5\n",
      "for word in words[1:5] :\n",
      "    print \"https://\" + word.split('\">')[0]"
     ],
     "language": "python",
     "metadata": {},
     "outputs": [
      {
       "output_type": "stream",
       "stream": "stdout",
       "text": [
        "https://://github.com/KonanAcademy/da\n",
        "https://://github.com/KonanAcademy/da/blob/master/part1/00_2_R_example.md\n",
        "https://://github.com/KonanAcademy/da/blob/master/part1/00_4_R_example.md\n",
        "https://://view.officeapps.live.com/op/view.aspx?src=http%3A%2F%2Fwww.fil.ion.ucl.ac.uk%2Fspm%2Fdoc%2Fmfd%2F2010%2Fpage1%2FLinearAlgebra.ppt\n"
       ]
      }
     ],
     "prompt_number": 50
    },
    {
     "cell_type": "code",
     "collapsed": false,
     "input": [
      "# \ub9ac\uc2a4\ud2b8\uc5d0 \uacb0\uacfc\ub4e4\uc744 \ub2e4 \ub2f4\uc790.\n",
      "links = []\n",
      "\n",
      "for word in words :\n",
      "    links.append(\"https://\" + word.split('\">')[0])"
     ],
     "language": "python",
     "metadata": {},
     "outputs": [],
     "prompt_number": 51
    },
    {
     "cell_type": "code",
     "collapsed": false,
     "input": [
      "links"
     ],
     "language": "python",
     "metadata": {},
     "outputs": [
      {
       "metadata": {},
       "output_type": "pyout",
       "prompt_number": 52,
       "text": [
        "['https://<!doctype html>\\n<html>\\n<head>\\n    <meta charset=\"utf-8',\n",
        " 'https://://github.com/KonanAcademy/da',\n",
        " 'https://://github.com/KonanAcademy/da/blob/master/part1/00_2_R_example.md',\n",
        " 'https://://github.com/KonanAcademy/da/blob/master/part1/00_4_R_example.md',\n",
        " 'https://://view.officeapps.live.com/op/view.aspx?src=http%3A%2F%2Fwww.fil.ion.ucl.ac.uk%2Fspm%2Fdoc%2Fmfd%2F2010%2Fpage1%2FLinearAlgebra.ppt',\n",
        " 'https://://view.officeapps.live.com/op/view.aspx?src=',\n",
        " 'https://%3A%2F%2Feducation.med.imperial.ac.uk%2Fext%2Fintercalate11-12%2Fstatistics.ppt',\n",
        " 'https://://docs.google.com/file/d/0Bw594TdiBdAUb1RfdXpnNlhBa0E']"
       ]
      }
     ],
     "prompt_number": 52
    },
    {
     "cell_type": "heading",
     "level": 3,
     "metadata": {},
     "source": [
      "\ud1b5\ud569\ucf54\ub4dc"
     ]
    },
    {
     "cell_type": "code",
     "collapsed": false,
     "input": [
      "# \uae30\ubcf8 \ud328\ud0a4\uc9c0\n",
      "import urllib\n",
      "\n",
      "url = 'http://konanacademy.github.io/da/'\n",
      "\n",
      "# \ud578\ub4e4 \uc5bb\uc74c\n",
      "f = urllib.urlopen(url)\n",
      "# \ubb38\uc790\uc5f4\ub85c \uc77d\ub294\ub2e4\n",
      "text = f.read()\n",
      "# \ud2b9\uc815 \uae30\uc900\uc73c\ub85c \uc798\ub77c\ub0b4\uc11c \ub9ac\uc2a4\ud2b8\ub85c \ub9cc\ub4e0\ub2e4. \n",
      "# \uc5ec\uae30\uc11c\ub294 https \ub9c1\ud06c\ub9cc \ucd94\ucd9c\ud574\ubcf4\uc790.\n",
      "words = text.split('https')\n",
      "# \ub9ac\uc2a4\ud2b8\uc5d0 \uacb0\uacfc\ub4e4\uc744 \ub2e4 \ub2f4\uc790.\n",
      "links = []\n",
      "for word in words[1:] :\n",
      "    links.append(\"https://\" + word.split('\">')[0])\n",
      "    \n",
      "print links"
     ],
     "language": "python",
     "metadata": {},
     "outputs": [
      {
       "output_type": "stream",
       "stream": "stdout",
       "text": [
        "['https://://github.com/KonanAcademy/da', 'https://://github.com/KonanAcademy/da/blob/master/part1/00_2_R_example.md', 'https://://github.com/KonanAcademy/da/blob/master/part1/00_4_R_example.md', 'https://://view.officeapps.live.com/op/view.aspx?src=http%3A%2F%2Fwww.fil.ion.ucl.ac.uk%2Fspm%2Fdoc%2Fmfd%2F2010%2Fpage1%2FLinearAlgebra.ppt', 'https://://view.officeapps.live.com/op/view.aspx?src=', 'https://%3A%2F%2Feducation.med.imperial.ac.uk%2Fext%2Fintercalate11-12%2Fstatistics.ppt', 'https://://docs.google.com/file/d/0Bw594TdiBdAUb1RfdXpnNlhBa0E']\n"
       ]
      }
     ],
     "prompt_number": 54
    },
    {
     "cell_type": "heading",
     "level": 2,
     "metadata": {},
     "source": [
      "requests\uc640 beautifulsoup4\ub97c \uc774\uc6a9\ud55c \uc6f9 \ubb38\uc11c \ud30c\uc2f1"
     ]
    },
    {
     "cell_type": "markdown",
     "metadata": {},
     "source": [
      "* Step by Step\n",
      "* \ud1b5\ud569\ucf54\ub4dc"
     ]
    },
    {
     "cell_type": "heading",
     "level": 3,
     "metadata": {},
     "source": [
      "Step by Step"
     ]
    },
    {
     "cell_type": "code",
     "collapsed": false,
     "input": [
      "# pip install requests\n",
      "# pip install beautifulsoup4\n",
      "\n",
      "import requests as rs\n",
      "import bs4\n",
      "\n",
      "url = 'http://konanacademy.github.io/da/'\n",
      "\n",
      "# \uc694\uccad\n",
      "r = rs.get(url)"
     ],
     "language": "python",
     "metadata": {},
     "outputs": [],
     "prompt_number": 56
    },
    {
     "cell_type": "code",
     "collapsed": false,
     "input": [
      "r"
     ],
     "language": "python",
     "metadata": {},
     "outputs": [
      {
       "metadata": {},
       "output_type": "pyout",
       "prompt_number": 57,
       "text": [
        "<Response [200]>"
       ]
      }
     ],
     "prompt_number": 57
    },
    {
     "cell_type": "code",
     "collapsed": false,
     "input": [
      "# \uc751\ub2f5\uc73c\ub85c \ubd80\ud130 HTML \ucd94\ucd9c\n",
      "html_content = r.text.encode(r.encoding);"
     ],
     "language": "python",
     "metadata": {},
     "outputs": [],
     "prompt_number": 58
    },
    {
     "cell_type": "code",
     "collapsed": false,
     "input": [
      "type(html_content)"
     ],
     "language": "python",
     "metadata": {},
     "outputs": [
      {
       "metadata": {},
       "output_type": "pyout",
       "prompt_number": 59,
       "text": [
        "str"
       ]
      }
     ],
     "prompt_number": 59
    },
    {
     "cell_type": "code",
     "collapsed": false,
     "input": [
      "html_content[:1000]"
     ],
     "language": "python",
     "metadata": {},
     "outputs": [
      {
       "metadata": {},
       "output_type": "pyout",
       "prompt_number": 60,
       "text": [
        "'<!doctype html>\\n<html>\\n<head>\\n    <meta charset=\"utf-8\">\\n    <meta http-equiv=\"X-UA-Compatible\" content=\"chrome=1\">\\n\\n    <meta property=\"og:title\" content=\"\\xec\\xbd\\x94\\xeb\\x82\\x9c\\xec\\x95\\x84\\xec\\xb9\\xb4\\xeb\\x8d\\xb0\\xeb\\xaf\\xb8\" />\\n    <meta property=\"og:description\" content=\"\\xec\\xbd\\x94\\xeb\\x82\\x9c\\xec\\x95\\x84\\xec\\xb9\\xb4\\xeb\\x8d\\xb0\\xeb\\xaf\\xb8 \\xeb\\x8d\\xb0\\xec\\x9d\\xb4\\xed\\x84\\xb0\\xeb\\xb6\\x84\\xec\\x84\\x9d \\xea\\xb8\\xb0\\xec\\xb4\\x88\" />\\n    <meta property=\"og:type\" content=\"website\" />\\n    <meta property=\"og:url\" content=\"http://konanacademy.github.io/da\" />\\n    <title>\\xeb\\x8d\\xb0\\xec\\x9d\\xb4\\xed\\x84\\xb0\\xeb\\xb6\\x84\\xec\\x84\\x9d \\xea\\xb8\\xb0\\xec\\xb4\\x88</title>\\n\\n    <link rel=\"stylesheet\" href=\"stylesheets/styles.css\">\\n    <link rel=\"stylesheet\" href=\"stylesheets/pygment_trac.css\">\\n    <meta name=\"viewport\" content=\"width=device-width, initial-scale=1, user-scalable=no\">\\n    <script src=\"http://ajax.googleapis.com/ajax/libs/jquery/1.11.1/jquery.min.js\"></script>\\n    <!--[if lt IE 9]>\\n    <script src=\"//html5shiv.googlecode.com/svn/trunk/html5.js\"></script>\\n    <![endif]-->\\n\\n    <!-- START google analytics -->\\n    <script>\\n        (function(i,s,o,g,r,a,m){i[\\'GoogleAnalyticsObject\\']=r;i[r]=i[r]||function(){\\n         '"
       ]
      }
     ],
     "prompt_number": 60
    },
    {
     "cell_type": "code",
     "collapsed": false,
     "input": [
      "# HTML \ud30c\uc2f1\n",
      "navigator = bs4.BeautifulSoup(html_content)"
     ],
     "language": "python",
     "metadata": {},
     "outputs": [],
     "prompt_number": 61
    },
    {
     "cell_type": "code",
     "collapsed": false,
     "input": [
      "type(navigator)"
     ],
     "language": "python",
     "metadata": {},
     "outputs": [
      {
       "metadata": {},
       "output_type": "pyout",
       "prompt_number": 62,
       "text": [
        "bs4.BeautifulSoup"
       ]
      }
     ],
     "prompt_number": 62
    },
    {
     "cell_type": "code",
     "collapsed": false,
     "input": [
      "# \ub124\ube44\uac8c\uc774\ud130\ub97c \uc774\uc6a9\ud574 \uc6d0\ud558\ub294 \ud0dc\uadf8 \ub9ac\uc2a4\ud2b8 \uac00\uc838\uc624\uae30\n",
      "alist = navigator.find_all('a')\n",
      "alist"
     ],
     "language": "python",
     "metadata": {},
     "outputs": [
      {
       "metadata": {},
       "output_type": "pyout",
       "prompt_number": 83,
       "text": [
        "[<a href=\"http://www.konantech.com/\">\ucf54\ub09c\ud14c\ud06c\ub180\ub85c\uc9c0</a>,\n",
        " <a href=\"http://KonanAcademy.github.io\"> \ucf54\ub09c\uc544\uce74\ub370\ubbf8 \uba54\uc778</a>,\n",
        " <a href=\"https://github.com/KonanAcademy/da\"> GitHub </a>,\n",
        " <a class=\"anchor\" href=\"#welcome-to-github-pages\" name=\"welcome-to-github-pages\"><span class=\"octicon octicon-link\"></span></a>,\n",
        " <a href=\"http://nbviewer.ipython.org/github/KonanAcademy/da/blob/master/part1/00_what_is_da.ipynb\">\ub370\uc774\ud130\ubd84\uc11d\uc774\ub780?</a>,\n",
        " <a href=\"http://nbviewer.ipython.org/github/KonanAcademy/da/blob/master/part1/00_1_python_example.ipynb\">\ub370\uc774\ud130 \ubd84\uc11d \uc608\uc81c1(Python)</a>,\n",
        " <a href=\"https://github.com/KonanAcademy/da/blob/master/part1/00_2_R_example.md\">\ub370\uc774\ud130 \ubd84\uc11d \uc608\uc81c2(R)</a>,\n",
        " <a href=\"http://nbviewer.ipython.org/github/KonanAcademy/da/blob/master/part1/00_3_python_example.ipynb\">\ub370\uc774\ud130 \ubd84\uc11d \uc608\uc81c3(Python)</a>,\n",
        " <a href=\"https://github.com/KonanAcademy/da/blob/master/part1/00_4_R_example.md\">\ub370\uc774\ud130 \ubd84\uc11d \uc608\uc81c4(R)</a>,\n",
        " <a href=\"http://nbviewer.ipython.org/github/KonanAcademy/da/blob/master/part1/01_python_basic.ipynb\">\ud30c\uc774\uc36c \uae30\ucd08</a>,\n",
        " <a href=\"http://nbviewer.ipython.org/github/KonanAcademy/da/blob/master/part1/01_exercise_python.ipynb\">\uc5f0\uc2b5\ubb38\uc81c(\ud30c\uc774\uc36c\uae30\ucd08)</a>,\n",
        " <a href=\"https://view.officeapps.live.com/op/view.aspx?src=http%3A%2F%2Fwww.fil.ion.ucl.ac.uk%2Fspm%2Fdoc%2Fmfd%2F2010%2Fpage1%2FLinearAlgebra.ppt\">\ucc38\uc870: \uc120\ud615\ub300\uc218 \uae30\ucd08</a>,\n",
        " <a href=\"http://nbviewer.ipython.org/github/KonanAcademy/da/blob/master/part1/02_python_pandas_1.ipynb\">\ud30c\uc774\uc36c\uacfc \ud14c\uc774\ube14\ud615 \ub370\uc774\ud130 \ud578\ub4e4\ub9c1 - numpy &amp; pandas (1)</a>,\n",
        " <a href=\"https://view.officeapps.live.com/op/view.aspx?src=https%3A%2F%2Feducation.med.imperial.ac.uk%2Fext%2Fintercalate11-12%2Fstatistics.ppt\">\ucc38\uc870: \ud1b5\uacc4\ud559 \uae30\ucd08</a>,\n",
        " <a href=\"http://nbviewer.ipython.org/github/KonanAcademy/da/blob/master/part1/03_python_pandas_2.ipynb\">\ud30c\uc774\uc36c\uacfc \ud14c\uc774\ube14\ud615 \ub370\uc774\ud130 \ud578\ub4e4\ub9c1 - pandas (2)</a>,\n",
        " <a href=\"https://docs.google.com/file/d/0Bw594TdiBdAUb1RfdXpnNlhBa0E\">\ucc38\uc870: \ud0d0\uc0c9\uc801 \uc790\ub8cc \ubd84\uc11d</a>,\n",
        " <a href=\"http://nbviewer.ipython.org/github/KonanAcademy/da/blob/master/part1/04_matplotlib_example.ipynb\">\ub370\uc774\ud130 \uc2dc\uac01\ud654 \uc608\uc81c(Python)</a>,\n",
        " <a href=\"http://nbviewer.ipython.org/github/KonanAcademy/da/blob/master/part1/04_python_visualization.ipynb\">\ud30c\uc774\uc36c\uacfc \ub370\uc774\ud130 \uc2dc\uac01\ud654 - pandas, matplotlib, seaborn</a>]"
       ]
      }
     ],
     "prompt_number": 83
    },
    {
     "cell_type": "code",
     "collapsed": false,
     "input": [
      "import re # \uc815\uaddc\ud45c\ud604\uc2dd \ud328\ud0a4\uc9c0\n",
      "\n",
      "# \uc704\uc758 \ucf54\ub4dc\ub294 http\ub098 https\ub97c \ud3ec\ud568\ud558\uc9c0 \uc54a\ub294 \ubb38\uc790\uc5f4\ub3c4 \ubaa8\ub450 \ubc18\ud658\ud55c\ub2e4.\n",
      "# \uc815\uaddc\ud45c\ud604\uc2dd\uc744 \uc774\uc6a9\ud574\uc11c, href\uc758 \uacb0\uacfc\ubb3c\uc5d0\uc11c http\ub97c \ud3ec\ud568\ud558\ub294 \ubb38\uc790\ub9cc \ucd94\ucd9c\ud558\uc790.\n",
      "alist = navigator.find_all(href=re.compile(\"http\"))\n",
      "alist"
     ],
     "language": "python",
     "metadata": {},
     "outputs": [
      {
       "metadata": {},
       "output_type": "pyout",
       "prompt_number": 123,
       "text": [
        "[<a href=\"http://www.konantech.com/\">\ucf54\ub09c\ud14c\ud06c\ub180\ub85c\uc9c0</a>,\n",
        " <a href=\"http://KonanAcademy.github.io\"> \ucf54\ub09c\uc544\uce74\ub370\ubbf8 \uba54\uc778</a>,\n",
        " <a href=\"https://github.com/KonanAcademy/da\"> GitHub </a>,\n",
        " <a href=\"http://nbviewer.ipython.org/github/KonanAcademy/da/blob/master/part1/00_what_is_da.ipynb\">\ub370\uc774\ud130\ubd84\uc11d\uc774\ub780?</a>,\n",
        " <a href=\"http://nbviewer.ipython.org/github/KonanAcademy/da/blob/master/part1/00_1_python_example.ipynb\">\ub370\uc774\ud130 \ubd84\uc11d \uc608\uc81c1(Python)</a>,\n",
        " <a href=\"https://github.com/KonanAcademy/da/blob/master/part1/00_2_R_example.md\">\ub370\uc774\ud130 \ubd84\uc11d \uc608\uc81c2(R)</a>,\n",
        " <a href=\"http://nbviewer.ipython.org/github/KonanAcademy/da/blob/master/part1/00_3_python_example.ipynb\">\ub370\uc774\ud130 \ubd84\uc11d \uc608\uc81c3(Python)</a>,\n",
        " <a href=\"https://github.com/KonanAcademy/da/blob/master/part1/00_4_R_example.md\">\ub370\uc774\ud130 \ubd84\uc11d \uc608\uc81c4(R)</a>,\n",
        " <a href=\"http://nbviewer.ipython.org/github/KonanAcademy/da/blob/master/part1/01_python_basic.ipynb\">\ud30c\uc774\uc36c \uae30\ucd08</a>,\n",
        " <a href=\"http://nbviewer.ipython.org/github/KonanAcademy/da/blob/master/part1/01_exercise_python.ipynb\">\uc5f0\uc2b5\ubb38\uc81c(\ud30c\uc774\uc36c\uae30\ucd08)</a>,\n",
        " <a href=\"https://view.officeapps.live.com/op/view.aspx?src=http%3A%2F%2Fwww.fil.ion.ucl.ac.uk%2Fspm%2Fdoc%2Fmfd%2F2010%2Fpage1%2FLinearAlgebra.ppt\">\ucc38\uc870: \uc120\ud615\ub300\uc218 \uae30\ucd08</a>,\n",
        " <a href=\"http://nbviewer.ipython.org/github/KonanAcademy/da/blob/master/part1/02_python_pandas_1.ipynb\">\ud30c\uc774\uc36c\uacfc \ud14c\uc774\ube14\ud615 \ub370\uc774\ud130 \ud578\ub4e4\ub9c1 - numpy &amp; pandas (1)</a>,\n",
        " <a href=\"https://view.officeapps.live.com/op/view.aspx?src=https%3A%2F%2Feducation.med.imperial.ac.uk%2Fext%2Fintercalate11-12%2Fstatistics.ppt\">\ucc38\uc870: \ud1b5\uacc4\ud559 \uae30\ucd08</a>,\n",
        " <a href=\"http://nbviewer.ipython.org/github/KonanAcademy/da/blob/master/part1/03_python_pandas_2.ipynb\">\ud30c\uc774\uc36c\uacfc \ud14c\uc774\ube14\ud615 \ub370\uc774\ud130 \ud578\ub4e4\ub9c1 - pandas (2)</a>,\n",
        " <a href=\"https://docs.google.com/file/d/0Bw594TdiBdAUb1RfdXpnNlhBa0E\">\ucc38\uc870: \ud0d0\uc0c9\uc801 \uc790\ub8cc \ubd84\uc11d</a>,\n",
        " <a href=\"http://nbviewer.ipython.org/github/KonanAcademy/da/blob/master/part1/04_matplotlib_example.ipynb\">\ub370\uc774\ud130 \uc2dc\uac01\ud654 \uc608\uc81c(Python)</a>,\n",
        " <a href=\"http://nbviewer.ipython.org/github/KonanAcademy/da/blob/master/part1/04_python_visualization.ipynb\">\ud30c\uc774\uc36c\uacfc \ub370\uc774\ud130 \uc2dc\uac01\ud654 - pandas, matplotlib, seaborn</a>]"
       ]
      }
     ],
     "prompt_number": 123
    },
    {
     "cell_type": "code",
     "collapsed": false,
     "input": [
      "type(alist)"
     ],
     "language": "python",
     "metadata": {},
     "outputs": [
      {
       "metadata": {},
       "output_type": "pyout",
       "prompt_number": 124,
       "text": [
        "bs4.element.ResultSet"
       ]
      }
     ],
     "prompt_number": 124
    },
    {
     "cell_type": "code",
     "collapsed": false,
     "input": [
      "alist[0]"
     ],
     "language": "python",
     "metadata": {},
     "outputs": [
      {
       "metadata": {},
       "output_type": "pyout",
       "prompt_number": 125,
       "text": [
        "<a href=\"http://www.konantech.com/\">\ucf54\ub09c\ud14c\ud06c\ub180\ub85c\uc9c0</a>"
       ]
      }
     ],
     "prompt_number": 125
    },
    {
     "cell_type": "code",
     "collapsed": false,
     "input": [
      "type(alist[0])"
     ],
     "language": "python",
     "metadata": {},
     "outputs": [
      {
       "metadata": {},
       "output_type": "pyout",
       "prompt_number": 126,
       "text": [
        "bs4.element.Tag"
       ]
      }
     ],
     "prompt_number": 126
    },
    {
     "cell_type": "code",
     "collapsed": false,
     "input": [
      "link = alist[0].get('href')\n",
      "link"
     ],
     "language": "python",
     "metadata": {},
     "outputs": [
      {
       "metadata": {},
       "output_type": "pyout",
       "prompt_number": 127,
       "text": [
        "u'http://www.konantech.com/'"
       ]
      }
     ],
     "prompt_number": 127
    },
    {
     "cell_type": "code",
     "collapsed": false,
     "input": [
      "# \ub124\ube44\uac8c\uc774\ud130\ub97c \uc774\uc6a9\ud574 \uc6d0\ud558\ub294 \ud0dc\uadf8 \ub9ac\uc2a4\ud2b8 \uac00\uc838\uc624\uae30\n",
      "links = []\n",
      "for link in navigator.find_all(href=re.compile(\"http\")) : \n",
      "    links.append(link.get('href')) \n",
      "    \n",
      "links"
     ],
     "language": "python",
     "metadata": {},
     "outputs": [
      {
       "metadata": {},
       "output_type": "pyout",
       "prompt_number": 129,
       "text": [
        "[u'http://www.konantech.com/',\n",
        " u'http://KonanAcademy.github.io',\n",
        " u'https://github.com/KonanAcademy/da',\n",
        " u'http://nbviewer.ipython.org/github/KonanAcademy/da/blob/master/part1/00_what_is_da.ipynb',\n",
        " u'http://nbviewer.ipython.org/github/KonanAcademy/da/blob/master/part1/00_1_python_example.ipynb',\n",
        " u'https://github.com/KonanAcademy/da/blob/master/part1/00_2_R_example.md',\n",
        " u'http://nbviewer.ipython.org/github/KonanAcademy/da/blob/master/part1/00_3_python_example.ipynb',\n",
        " u'https://github.com/KonanAcademy/da/blob/master/part1/00_4_R_example.md',\n",
        " u'http://nbviewer.ipython.org/github/KonanAcademy/da/blob/master/part1/01_python_basic.ipynb',\n",
        " u'http://nbviewer.ipython.org/github/KonanAcademy/da/blob/master/part1/01_exercise_python.ipynb',\n",
        " u'https://view.officeapps.live.com/op/view.aspx?src=http%3A%2F%2Fwww.fil.ion.ucl.ac.uk%2Fspm%2Fdoc%2Fmfd%2F2010%2Fpage1%2FLinearAlgebra.ppt',\n",
        " u'http://nbviewer.ipython.org/github/KonanAcademy/da/blob/master/part1/02_python_pandas_1.ipynb',\n",
        " u'https://view.officeapps.live.com/op/view.aspx?src=https%3A%2F%2Feducation.med.imperial.ac.uk%2Fext%2Fintercalate11-12%2Fstatistics.ppt',\n",
        " u'http://nbviewer.ipython.org/github/KonanAcademy/da/blob/master/part1/03_python_pandas_2.ipynb',\n",
        " u'https://docs.google.com/file/d/0Bw594TdiBdAUb1RfdXpnNlhBa0E',\n",
        " u'http://nbviewer.ipython.org/github/KonanAcademy/da/blob/master/part1/04_matplotlib_example.ipynb',\n",
        " u'http://nbviewer.ipython.org/github/KonanAcademy/da/blob/master/part1/04_python_visualization.ipynb']"
       ]
      }
     ],
     "prompt_number": 129
    },
    {
     "cell_type": "code",
     "collapsed": false,
     "input": [
      "# \uc704\uc758 \ucf54\ub4dc\ub294 \ub9ac\uc2a4\ud2b8 \ub0b4\ud3ec\ub85c \uac04\ub2e8\ud558\uac8c \ub098\ud0c0\ub0bc \uc218 \uc788\ub2e4.\n",
      "links = [link.get('href') for link in navigator.find_all(href=re.compile(\"http\"))]\n",
      "links"
     ],
     "language": "python",
     "metadata": {},
     "outputs": [
      {
       "metadata": {},
       "output_type": "pyout",
       "prompt_number": 131,
       "text": [
        "[u'http://www.konantech.com/',\n",
        " u'http://KonanAcademy.github.io',\n",
        " u'https://github.com/KonanAcademy/da',\n",
        " u'http://nbviewer.ipython.org/github/KonanAcademy/da/blob/master/part1/00_what_is_da.ipynb',\n",
        " u'http://nbviewer.ipython.org/github/KonanAcademy/da/blob/master/part1/00_1_python_example.ipynb',\n",
        " u'https://github.com/KonanAcademy/da/blob/master/part1/00_2_R_example.md',\n",
        " u'http://nbviewer.ipython.org/github/KonanAcademy/da/blob/master/part1/00_3_python_example.ipynb',\n",
        " u'https://github.com/KonanAcademy/da/blob/master/part1/00_4_R_example.md',\n",
        " u'http://nbviewer.ipython.org/github/KonanAcademy/da/blob/master/part1/01_python_basic.ipynb',\n",
        " u'http://nbviewer.ipython.org/github/KonanAcademy/da/blob/master/part1/01_exercise_python.ipynb',\n",
        " u'https://view.officeapps.live.com/op/view.aspx?src=http%3A%2F%2Fwww.fil.ion.ucl.ac.uk%2Fspm%2Fdoc%2Fmfd%2F2010%2Fpage1%2FLinearAlgebra.ppt',\n",
        " u'http://nbviewer.ipython.org/github/KonanAcademy/da/blob/master/part1/02_python_pandas_1.ipynb',\n",
        " u'https://view.officeapps.live.com/op/view.aspx?src=https%3A%2F%2Feducation.med.imperial.ac.uk%2Fext%2Fintercalate11-12%2Fstatistics.ppt',\n",
        " u'http://nbviewer.ipython.org/github/KonanAcademy/da/blob/master/part1/03_python_pandas_2.ipynb',\n",
        " u'https://docs.google.com/file/d/0Bw594TdiBdAUb1RfdXpnNlhBa0E',\n",
        " u'http://nbviewer.ipython.org/github/KonanAcademy/da/blob/master/part1/04_matplotlib_example.ipynb',\n",
        " u'http://nbviewer.ipython.org/github/KonanAcademy/da/blob/master/part1/04_python_visualization.ipynb']"
       ]
      }
     ],
     "prompt_number": 131
    },
    {
     "cell_type": "heading",
     "level": 3,
     "metadata": {},
     "source": [
      "\ud1b5\ud569\ucf54\ub4dc"
     ]
    },
    {
     "cell_type": "code",
     "collapsed": false,
     "input": [
      "# pip install requests\n",
      "# pip install beautifulsoup4\n",
      "\n",
      "import requests as rs\n",
      "import bs4\n",
      "import re\n",
      "\n",
      "url = 'http://konanacademy.github.io/da/'\n",
      "\n",
      "# \uc694\uccad\n",
      "r = rs.get(url)\n",
      "# \uc751\ub2f5\uc73c\ub85c \ubd80\ud130 HTML \ucd94\ucd9c\n",
      "html_content = r.text.encode(r.encoding)\n",
      "# HTML \ud30c\uc2f1\n",
      "navigator = bs4.BeautifulSoup(html_content)\n",
      "# \ub124\ube44\uac8c\uc774\ud130\ub97c \uc774\uc6a9\ud574 \uc6d0\ud558\ub294 \ud0dc\uadf8 \ub9ac\uc2a4\ud2b8 \uac00\uc838\uc624\uae30 - http\ub098 https \ub9c1\ud06c\ub9cc \ucd94\ucd9c\ud558\uc790\n",
      "links = [link.get('href') for link in navigator.find_all(href=re.compile(\"http\"))]\n",
      "links"
     ],
     "language": "python",
     "metadata": {},
     "outputs": [
      {
       "metadata": {},
       "output_type": "pyout",
       "prompt_number": 134,
       "text": [
        "[u'http://www.konantech.com/',\n",
        " u'http://KonanAcademy.github.io',\n",
        " u'https://github.com/KonanAcademy/da',\n",
        " u'http://nbviewer.ipython.org/github/KonanAcademy/da/blob/master/part1/00_what_is_da.ipynb',\n",
        " u'http://nbviewer.ipython.org/github/KonanAcademy/da/blob/master/part1/00_1_python_example.ipynb',\n",
        " u'https://github.com/KonanAcademy/da/blob/master/part1/00_2_R_example.md',\n",
        " u'http://nbviewer.ipython.org/github/KonanAcademy/da/blob/master/part1/00_3_python_example.ipynb',\n",
        " u'https://github.com/KonanAcademy/da/blob/master/part1/00_4_R_example.md',\n",
        " u'http://nbviewer.ipython.org/github/KonanAcademy/da/blob/master/part1/01_python_basic.ipynb',\n",
        " u'http://nbviewer.ipython.org/github/KonanAcademy/da/blob/master/part1/01_exercise_python.ipynb',\n",
        " u'https://view.officeapps.live.com/op/view.aspx?src=http%3A%2F%2Fwww.fil.ion.ucl.ac.uk%2Fspm%2Fdoc%2Fmfd%2F2010%2Fpage1%2FLinearAlgebra.ppt',\n",
        " u'http://nbviewer.ipython.org/github/KonanAcademy/da/blob/master/part1/02_python_pandas_1.ipynb',\n",
        " u'https://view.officeapps.live.com/op/view.aspx?src=https%3A%2F%2Feducation.med.imperial.ac.uk%2Fext%2Fintercalate11-12%2Fstatistics.ppt',\n",
        " u'http://nbviewer.ipython.org/github/KonanAcademy/da/blob/master/part1/03_python_pandas_2.ipynb',\n",
        " u'https://docs.google.com/file/d/0Bw594TdiBdAUb1RfdXpnNlhBa0E',\n",
        " u'http://nbviewer.ipython.org/github/KonanAcademy/da/blob/master/part1/04_matplotlib_example.ipynb',\n",
        " u'http://nbviewer.ipython.org/github/KonanAcademy/da/blob/master/part1/04_python_visualization.ipynb']"
       ]
      }
     ],
     "prompt_number": 134
    },
    {
     "cell_type": "heading",
     "level": 2,
     "metadata": {},
     "source": [
      "Scrapy"
     ]
    },
    {
     "cell_type": "markdown",
     "metadata": {},
     "source": [
      "* Scrapy \uc124\uce58, \uc791\ub3d9 \ud14c\uc2a4\ud2b8(\ub370\ubaa8)\n",
      "* \ud06c\ub864\ub7ec \ud504\ub85c\uc81d\ud2b8 \uc0dd\uc131\n",
      "* Scrapy\ub97c \uc774\uc6a9\ud55c \uc6f9 \ubb38\uc11c \ud30c\uc2f1\n",
      "* Scrapy\ub85c \ud06c\ub864\ub9c1 \ud558\uae30"
     ]
    },
    {
     "cell_type": "heading",
     "level": 3,
     "metadata": {},
     "source": [
      "Scrapy \uc124\uce58, \uc791\ub3d9 \ud14c\uc2a4\ud2b8(\ub370\ubaa8)"
     ]
    },
    {
     "cell_type": "code",
     "collapsed": false,
     "input": [
      "# pip install Scrapy"
     ],
     "language": "python",
     "metadata": {},
     "outputs": []
    },
    {
     "cell_type": "code",
     "collapsed": false,
     "input": [
      "# \uc124\uce58\ud6c4 \uc81c\ub300\ub85c \uc791\ub3d9\ud558\ub294\uc9c0 \ubcf4\uae30 \uc704\ud574 \uacf5\uc2dd \ub370\ubaa8 \uc18c\uc2a4\ub97c \ub2e4\uc6b4\ubc1b\uc544 \uc2e4\ud589\ud574\ubcf4\uc790\n",
      "!wget https://github.com/scrapy/dirbot/archive/master.zip"
     ],
     "language": "python",
     "metadata": {},
     "outputs": [
      {
       "output_type": "stream",
       "stream": "stdout",
       "text": [
        "--2015-03-10 15:46:52--  https://github.com/scrapy/dirbot/archive/master.zip\r\n",
        "Resolving github.com... "
       ]
      },
      {
       "output_type": "stream",
       "stream": "stdout",
       "text": [
        "192.30.252.131\r\n",
        "Connecting to github.com|192.30.252.131|:443... "
       ]
      },
      {
       "output_type": "stream",
       "stream": "stdout",
       "text": [
        "connected.\r\n"
       ]
      },
      {
       "output_type": "stream",
       "stream": "stdout",
       "text": [
        "HTTP request sent, awaiting response... "
       ]
      },
      {
       "output_type": "stream",
       "stream": "stdout",
       "text": [
        "302 Found\r\n",
        "Location: https://codeload.github.com/scrapy/dirbot/zip/master [following]\r\n",
        "--2015-03-10 15:46:56--  https://codeload.github.com/scrapy/dirbot/zip/master\r\n",
        "Resolving codeload.github.com... 192.30.252.144\r\n",
        "Connecting to codeload.github.com|192.30.252.144|:443... "
       ]
      },
      {
       "output_type": "stream",
       "stream": "stdout",
       "text": [
        "connected.\r\n"
       ]
      },
      {
       "output_type": "stream",
       "stream": "stdout",
       "text": [
        "HTTP request sent, awaiting response... "
       ]
      },
      {
       "output_type": "stream",
       "stream": "stdout",
       "text": [
        "200 OK\r\n",
        "Length: 3798 (3.7K) [application/zip]\r\n",
        "Saving to: 'master.zip'\r\n",
        "\r\n",
        "\r",
        " 0% [                                       ] 0           --.-K/s              \r",
        "100%[======================================>] 3,798       --.-K/s   in 0s      \r\n",
        "\r\n",
        "2015-03-10 15:46:58 (12.6 MB/s) - 'master.zip' saved [3798/3798]\r\n",
        "\r\n"
       ]
      }
     ],
     "prompt_number": 1
    },
    {
     "cell_type": "code",
     "collapsed": false,
     "input": [
      "!unzip master.zip"
     ],
     "language": "python",
     "metadata": {},
     "outputs": [
      {
       "output_type": "stream",
       "stream": "stdout",
       "text": [
        "Archive:  master.zip\r\n",
        "c5a3679d61538c85ea1d9e2e1aa2b2c795462190\r\n",
        "   creating: dirbot-master/\r\n",
        " extracting: dirbot-master/.gitignore  \r\n",
        "  inflating: dirbot-master/README.rst  \r\n",
        "   creating: dirbot-master/dirbot/\r\n",
        " extracting: dirbot-master/dirbot/__init__.py  \r\n",
        "  inflating: dirbot-master/dirbot/items.py  \r\n",
        "  inflating: dirbot-master/dirbot/pipelines.py  \r\n",
        "  inflating: dirbot-master/dirbot/settings.py  \r\n",
        "   creating: dirbot-master/dirbot/spiders/\r\n",
        " extracting: dirbot-master/dirbot/spiders/__init__.py  \r\n",
        "  inflating: dirbot-master/dirbot/spiders/dmoz.py  \r\n",
        "  inflating: dirbot-master/scrapy.cfg  \r\n",
        "  inflating: dirbot-master/setup.py  \r\n"
       ]
      }
     ],
     "prompt_number": 2
    },
    {
     "cell_type": "code",
     "collapsed": false,
     "input": [
      "!ls dirbot-master"
     ],
     "language": "python",
     "metadata": {},
     "outputs": [
      {
       "output_type": "stream",
       "stream": "stdout",
       "text": [
        "README.rst \u001b[34mdirbot\u001b[m\u001b[m     scrapy.cfg setup.py\r\n"
       ]
      }
     ],
     "prompt_number": 5
    },
    {
     "cell_type": "code",
     "collapsed": false,
     "input": [
      "# \uc555\ucd95\ud47c \ub514\ub809\ud1a0\ub9ac\ub85c \uc774\ub3d9\n",
      "cd dirbot-master"
     ],
     "language": "python",
     "metadata": {},
     "outputs": [
      {
       "output_type": "stream",
       "stream": "stdout",
       "text": [
        "/Users/moodern/PycharmProjects/da/part1/dirbot-master\n"
       ]
      }
     ],
     "prompt_number": 12
    },
    {
     "cell_type": "code",
     "collapsed": false,
     "input": [
      "!ls"
     ],
     "language": "python",
     "metadata": {},
     "outputs": [
      {
       "output_type": "stream",
       "stream": "stdout",
       "text": [
        "README.rst \u001b[34mdirbot\u001b[m\u001b[m     scrapy.cfg setup.py\r\n"
       ]
      }
     ],
     "prompt_number": 13
    },
    {
     "cell_type": "code",
     "collapsed": false,
     "input": [
      "# \ub370\ubaa8 \uc2e4\ud589\n",
      "!scrapy crawl dmoz -o items.json"
     ],
     "language": "python",
     "metadata": {},
     "outputs": [
      {
       "output_type": "stream",
       "stream": "stdout",
       "text": [
        ":0: UserWarning: You do not have a working installation of the service_identity module: 'No module named service_identity'.  Please install it from <https://pypi.python.org/pypi/service_identity> and make sure all of its dependencies are satisfied.  Without the service_identity module and a recent enough pyOpenSSL to support it, Twisted can perform only rudimentary TLS client hostname verification.  Many valid certificate/hostname mappings may be rejected.\r\n",
        "2015-03-10 15:55:41+0900 [scrapy] INFO: Scrapy 0.24.5 started (bot: scrapybot)\r\n",
        "2015-03-10 15:55:41+0900 [scrapy] INFO: Optional features available: ssl, http11\r\n",
        "2015-03-10 15:55:41+0900 [scrapy] INFO: Overridden settings: {'DEFAULT_ITEM_CLASS': 'dirbot.items.Website', 'FEED_FORMAT': 'json', 'SPIDER_MODULES': ['dirbot.spiders'], 'FEED_URI': 'items.json', 'NEWSPIDER_MODULE': 'dirbot.spiders'}\r\n"
       ]
      },
      {
       "output_type": "stream",
       "stream": "stdout",
       "text": [
        "2015-03-10 15:55:41+0900 [scrapy] INFO: Enabled extensions: FeedExporter, LogStats, TelnetConsole, CloseSpider, WebService, CoreStats, SpiderState\r\n"
       ]
      },
      {
       "output_type": "stream",
       "stream": "stdout",
       "text": [
        "2015-03-10 15:55:41+0900 [scrapy] INFO: Enabled downloader middlewares: HttpAuthMiddleware, DownloadTimeoutMiddleware, UserAgentMiddleware, RetryMiddleware, DefaultHeadersMiddleware, MetaRefreshMiddleware, HttpCompressionMiddleware, RedirectMiddleware, CookiesMiddleware, ChunkedTransferMiddleware, DownloaderStats\r\n",
        "2015-03-10 15:55:41+0900 [scrapy] INFO: Enabled spider middlewares: HttpErrorMiddleware, OffsiteMiddleware, RefererMiddleware, UrlLengthMiddleware, DepthMiddleware\r\n",
        "2015-03-10 15:55:41+0900 [scrapy] INFO: Enabled item pipelines: FilterWordsPipeline\r\n",
        "2015-03-10 15:55:41+0900 [dmoz] INFO: Spider opened\r\n",
        "2015-03-10 15:55:41+0900 [dmoz] INFO: Crawled 0 pages (at 0 pages/min), scraped 0 items (at 0 items/min)\r\n",
        "2015-03-10 15:55:41+0900 [scrapy] DEBUG: Telnet console listening on 127.0.0.1:6023\r\n",
        "2015-03-10 15:55:41+0900 [scrapy] DEBUG: Web service listening on 127.0.0.1:6080\r\n"
       ]
      },
      {
       "output_type": "stream",
       "stream": "stdout",
       "text": [
        "2015-03-10 15:55:42+0900 [dmoz] DEBUG: Crawled (200) <GET http://www.dmoz.org/Computers/Programming/Languages/Python/Resources/> (referer: None)\r\n",
        "2015-03-10 15:55:42+0900 [dmoz] DEBUG: Scraped from <200 http://www.dmoz.org/Computers/Programming/Languages/Python/Resources/>\r\n",
        "\t{'description': [u'- Contains links to assorted resources from the Python universe, compiled by PythonWare.\\r'],\r\n",
        "\t 'name': [u\"eff-bot's Daily Python URL\"],\r\n",
        "\t 'url': [u'http://www.pythonware.com/daily/']}\r\n",
        "2015-03-10 15:55:42+0900 [dmoz] DEBUG: Scraped from <200 http://www.dmoz.org/Computers/Programming/Languages/Python/Resources/>\r\n",
        "\t{'description': [u'- A directory of free Python and Zope hosting providers, with reviews and ratings.\\r'],\r\n",
        "\t 'name': [u'Free Python and Zope Hosting Directory'],\r\n",
        "\t 'url': [u'http://www.oinko.net/freepython/']}\r\n",
        "2015-03-10 15:55:42+0900 [dmoz] DEBUG: Scraped from <200 http://www.dmoz.org/Computers/Programming/Languages/Python/Resources/>\r\n",
        "\t{'description': [u'- Features Python books, resources, news and articles.\\r'],\r\n",
        "\t 'name': [u\"O'Reilly Python Center\"],\r\n",
        "\t 'url': [u'http://oreilly.com/python/']}\r\n",
        "2015-03-10 15:55:42+0900 [dmoz] DEBUG: Scraped from <200 http://www.dmoz.org/Computers/Programming/Languages/Python/Resources/>\r\n",
        "\t{'description': [u'- Resources for reporting bugs, accessing the Python source tree with CVS and taking part in the development of Python.\\r'],\r\n",
        "\t 'name': [u\"Python Developer's Guide\"],\r\n",
        "\t 'url': [u'https://www.python.org/dev/']}\r\n",
        "2015-03-10 15:55:42+0900 [dmoz] DEBUG: Scraped from <200 http://www.dmoz.org/Computers/Programming/Languages/Python/Resources/>\r\n",
        "\t{'description': [u'- Scripts, examples and news about Python programming for the Windows platform.\\r'],\r\n",
        "\t 'name': [u'Social Bug'],\r\n",
        "\t 'url': [u'http://win32com.goermezer.de/']}\r\n"
       ]
      },
      {
       "output_type": "stream",
       "stream": "stdout",
       "text": [
        "2015-03-10 15:55:42+0900 [dmoz] DEBUG: Crawled (200) <GET http://www.dmoz.org/Computers/Programming/Languages/Python/Books/> (referer: None)\r\n",
        "2015-03-10 15:55:42+0900 [dmoz] DEBUG: Scraped from <200 http://www.dmoz.org/Computers/Programming/Languages/Python/Books/>\r\n",
        "\t{'description': [u'- By Wesley J. Chun; Prentice Hall PTR, 2001, ISBN 0130260363. For experienced developers to improve extant skills; professional level examples. Starts by introducing syntax, objects, error handling, functions, classes, built-ins. [Prentice Hall]\\r'],\r\n",
        "\t 'name': [u'Core Python Programming'],\r\n",
        "\t 'url': [u'http://www.pearsonhighered.com/educator/academic/product/0,,0130260363,00%2Ben-USS_01DBC.html']}\r\n",
        "2015-03-10 15:55:42+0900 [dmoz] DEBUG: Scraped from <200 http://www.dmoz.org/Computers/Programming/Languages/Python/Books/>\r\n",
        "\t{'description': [u'- The primary goal of this book is to promote object-oriented design using Python and to illustrate the use of the emerging object-oriented design patterns.\\r'],\r\n",
        "\t 'name': [u'Data Structures and Algorithms with Object-Oriented Design Patterns in Python'],\r\n",
        "\t 'url': [u'http://www.brpreiss.com/books/opus7/html/book.html']}\r\n",
        "2015-03-10 15:55:42+0900 [dmoz] DEBUG: Scraped from <200 http://www.dmoz.org/Computers/Programming/Languages/Python/Books/>\r\n",
        "\t{'description': [u'- By Mark Pilgrim, Guide to Python 3  and its differences from Python 2. Each chapter starts with a real code sample and explains it fully. Has a comprehensive appendix of all the syntactic and semantic changes in Python 3\\r'],\r\n",
        "\t 'name': [u'Dive Into Python 3'],\r\n",
        "\t 'url': [u'http://www.diveintopython.net/']}\r\n",
        "2015-03-10 15:55:42+0900 [dmoz] DEBUG: Scraped from <200 http://www.dmoz.org/Computers/Programming/Languages/Python/Books/>\r\n",
        "\t{'description': [u'- This book covers a wide range of topics. From raw TCP and UDP to encryption with TSL, and then to HTTP, SMTP, POP, IMAP, and ssh. It gives you a good understanding of each field and how to do everything on the network with Python.\\r'],\r\n",
        "\t 'name': [u'Foundations of Python Network Programming'],\r\n",
        "\t 'url': [u'http://rhodesmill.org/brandon/2011/foundations-of-python-network-programming/']}\r\n",
        "2015-03-10 15:55:42+0900 [dmoz] DEBUG: Scraped from <200 http://www.dmoz.org/Computers/Programming/Languages/Python/Books/>\r\n",
        "\t{'description': [u'- Free Python books and tutorials.\\r'],\r\n",
        "\t 'name': [u'Free Python books'],\r\n",
        "\t 'url': [u'http://www.techbooksforfree.com/perlpython.shtml']}\r\n",
        "2015-03-10 15:55:42+0900 [dmoz] DEBUG: Scraped from <200 http://www.dmoz.org/Computers/Programming/Languages/Python/Books/>\r\n",
        "\t{'description': [u'- Annotated list of free online books on Python scripting language. Topics range from beginner to advanced.\\r'],\r\n",
        "\t 'name': [u'FreeTechBooks: Python Scripting Language'],\r\n",
        "\t 'url': [u'http://www.freetechbooks.com/python-f6.html']}\r\n",
        "2015-03-10 15:55:42+0900 [dmoz] DEBUG: Scraped from <200 http://www.dmoz.org/Computers/Programming/Languages/Python/Books/>\r\n",
        "\t{'description': [u'- By Allen B. Downey, Jeffrey Elkner, Chris Meyers; Green Tea Press, 2002, ISBN 0971677506. Teaches general principles of programming, via Python as subject language. Thorough, in-depth approach to many basic and intermediate programming topics. Full text online and downloads: HTML, PDF, PS, LaTeX. [Free, Green Tea Press]\\r'],\r\n",
        "\t 'name': [u'How to Think Like a Computer Scientist: Learning with Python'],\r\n",
        "\t 'url': [u'http://greenteapress.com/thinkpython/']}\r\n",
        "2015-03-10 15:55:42+0900 [dmoz] DEBUG: Scraped from <200 http://www.dmoz.org/Computers/Programming/Languages/Python/Books/>\r\n",
        "\t{'description': [u'- By Guido van Rossum, Fred L. Drake, Jr.; Network Theory Ltd., 2003, ISBN 0954161769. Printed edition of official tutorial, for v2.x, from Python.org. [Network Theory, online]\\r'],\r\n",
        "\t 'name': [u'An Introduction to Python'],\r\n",
        "\t 'url': [u'http://www.network-theory.co.uk/python/intro/']}\r\n",
        "2015-03-10 15:55:42+0900 [dmoz] DEBUG: Scraped from <200 http://www.dmoz.org/Computers/Programming/Languages/Python/Books/>\r\n",
        "\t{'description': [u'- Book by Alan Gauld with full text online. Introduction for those learning programming basics: terminology, concepts, methods to write code. Assumes no prior knowledge but basic computer skills.\\r'],\r\n",
        "\t 'name': [u'Learn to Program Using Python'],\r\n",
        "\t 'url': [u'http://www.freenetpages.co.uk/hp/alan.gauld/']}\r\n",
        "2015-03-10 15:55:42+0900 [dmoz] DEBUG: Scraped from <200 http://www.dmoz.org/Computers/Programming/Languages/Python/Books/>\r\n",
        "\t{'description': [u'- By Rashi Gupta; John Wiley and Sons, 2002, ISBN 0471219754. Covers language basics, use for CGI scripting, GUI development, network programming; shows why it is one of more sophisticated of popular scripting languages. [Wiley]\\r'],\r\n",
        "\t 'name': [u'Making Use of Python'],\r\n",
        "\t 'url': [u'http://www.wiley.com/WileyCDA/WileyTitle/productCd-0471219754.html']}\r\n"
       ]
      },
      {
       "output_type": "stream",
       "stream": "stdout",
       "text": [
        "2015-03-10 15:55:42+0900 [dmoz] DEBUG: Scraped from <200 http://www.dmoz.org/Computers/Programming/Languages/Python/Books/>\r\n",
        "\t{'description': [u'- By Magnus Lie Hetland; Apress LP, 2002, ISBN 1590590066. Readable guide to ideas most vital to new users, from basics common to high level languages, to more specific aspects, to a series of 10 ever more complex programs. [Apress]\\r'],\r\n",
        "\t 'name': [u'Practical Python'],\r\n",
        "\t 'url': [u'http://hetland.org/writing/practical-python/']}\r\n",
        "2015-03-10 15:55:42+0900 [dmoz] DEBUG: Scraped from <200 http://www.dmoz.org/Computers/Programming/Languages/Python/Books/>\r\n",
        "\t{'description': [u'- By Rytis Sileika, ISBN13: 978-1-4302-2605-5, Uses real-world system administration examples like manage devices with SNMP and SOAP, build a distributed monitoring system, manage web applications and parse complex log files, monitor and manage MySQL databases.\\r'],\r\n",
        "\t 'name': [u'Pro Python System Administration'],\r\n",
        "\t 'url': [u'http://sysadminpy.com/']}\r\n",
        "2015-03-10 15:55:42+0900 [dmoz] DEBUG: Scraped from <200 http://www.dmoz.org/Computers/Programming/Languages/Python/Books/>\r\n",
        "\t{'description': [u'- A Complete Introduction to the Python 3.\\r'],\r\n",
        "\t 'name': [u'Programming in Python 3 (Second Edition)'],\r\n",
        "\t 'url': [u'http://www.qtrac.eu/py3book.html']}\r\n",
        "2015-03-10 15:55:42+0900 [dmoz] DEBUG: Scraped from <200 http://www.dmoz.org/Computers/Programming/Languages/Python/Books/>\r\n",
        "\t{'description': [u'- By Dave Brueck, Stephen Tanner; John Wiley and Sons, 2001, ISBN 0764548077. Full coverage, clear explanations, hands-on examples, full language reference; shows step by step how to use components, assemble them, form full-featured programs. [John Wiley and Sons]\\r'],\r\n",
        "\t 'name': [u'Python 2.1 Bible'],\r\n",
        "\t 'url': [u'http://www.wiley.com/WileyCDA/WileyTitle/productCd-0764548077.html']}\r\n",
        "2015-03-10 15:55:42+0900 [dmoz] DEBUG: Scraped from <200 http://www.dmoz.org/Computers/Programming/Languages/Python/Books/>\r\n",
        "\t{'description': [u'- A step-by-step tutorial for OOP in Python 3, including discussion and examples of abstraction, encapsulation, information hiding, and raise, handle, define, and manipulate exceptions.\\r'],\r\n",
        "\t 'name': [u'Python 3 Object Oriented Programming'],\r\n",
        "\t 'url': [u'https://www.packtpub.com/python-3-object-oriented-programming/book']}\r\n",
        "2015-03-10 15:55:42+0900 [dmoz] DEBUG: Scraped from <200 http://www.dmoz.org/Computers/Programming/Languages/Python/Books/>\r\n",
        "\t{'description': [u'- By Guido van Rossum, Fred L. Drake, Jr.; Network Theory Ltd., 2003, ISBN 0954161785. Printed edition of official language reference, for v2.x, from Python.org, describes syntax, built-in datatypes. [Network Theory, online]\\r'],\r\n",
        "\t 'name': [u'Python Language Reference Manual'],\r\n",
        "\t 'url': [u'http://www.network-theory.co.uk/python/language/']}\r\n",
        "2015-03-10 15:55:42+0900 [dmoz] DEBUG: Scraped from <200 http://www.dmoz.org/Computers/Programming/Languages/Python/Books/>\r\n",
        "\t{'description': [u'- By Thomas W. Christopher; Prentice Hall PTR, 2002, ISBN 0130409561. Shows how to write large programs, introduces powerful design patterns that deliver high levels of robustness, scalability, reuse.\\r'],\r\n",
        "\t 'name': [u'Python Programming Patterns'],\r\n",
        "\t 'url': [u'http://www.pearsonhighered.com/educator/academic/product/0,,0130409561,00%2Ben-USS_01DBC.html']}\r\n",
        "2015-03-10 15:55:42+0900 [dmoz] DEBUG: Scraped from <200 http://www.dmoz.org/Computers/Programming/Languages/Python/Books/>\r\n",
        "\t{'description': [u\"- By Richard Hightower; Addison-Wesley, 2002, 0201616165. Begins with Python basics, many exercises, interactive sessions. Shows programming novices concepts and practical methods. Shows programming experts Python's abilities and ways to interface with Java APIs. [publisher website]\\r\"],\r\n",
        "\t 'name': [u'Python Programming with the Java Class Libraries: A Tutorial for Building Web and Enterprise Applications with Jython'],\r\n",
        "\t 'url': [u'http://www.informit.com/store/product.aspx?isbn=0201616165&redir=1']}\r\n",
        "2015-03-10 15:55:42+0900 [dmoz] DEBUG: Scraped from <200 http://www.dmoz.org/Computers/Programming/Languages/Python/Books/>\r\n",
        "\t{'description': [u'- By Chris Fehily; Peachpit Press, 2002, ISBN 0201748843. Task-based, step-by-step visual reference guide, many screen shots, for courses in digital graphics; Web design, scripting, development; multimedia, page layout, office tools, operating systems. [Prentice Hall]\\r'],\r\n",
        "\t 'name': [u'Python: Visual QuickStart Guide'],\r\n",
        "\t 'url': [u'http://www.pearsonhighered.com/educator/academic/product/0,,0201748843,00%2Ben-USS_01DBC.html']}\r\n",
        "2015-03-10 15:55:42+0900 [dmoz] DEBUG: Scraped from <200 http://www.dmoz.org/Computers/Programming/Languages/Python/Books/>\r\n",
        "\t{'description': [u'- By Ivan Van Laningham; Sams Publishing, 2000, ISBN 0672317354. Split into 24 hands-on, 1 hour lessons; steps needed to learn topic: syntax, language features, OO design and programming, GUIs (Tkinter), system administration, CGI. [Sams Publishing]\\r'],\r\n",
        "\t 'name': [u'Sams Teach Yourself Python in 24 Hours'],\r\n",
        "\t 'url': [u'http://www.informit.com/store/product.aspx?isbn=0672317354']}\r\n",
        "2015-03-10 15:55:42+0900 [dmoz] DEBUG: Scraped from <200 http://www.dmoz.org/Computers/Programming/Languages/Python/Books/>\r\n",
        "\t{'description': [u'- By David Mertz; Addison Wesley. Book in progress, full text, ASCII format. Asks for feedback. [author website, Gnosis Software, Inc.]\\r'],\r\n",
        "\t 'name': [u'Text Processing in Python'],\r\n",
        "\t 'url': [u'http://gnosis.cx/TPiP/']}\r\n",
        "2015-03-10 15:55:42+0900 [dmoz] DEBUG: Scraped from <200 http://www.dmoz.org/Computers/Programming/Languages/Python/Books/>\r\n",
        "\t{'description': [u'- By Sean McGrath; Prentice Hall PTR, 2000, ISBN 0130211192, has CD-ROM. Methods to build XML applications fast, Python tutorial, DOM and SAX, new Pyxie open source XML processing library. [Prentice Hall PTR]\\r'],\r\n",
        "\t 'name': [u'XML Processing with Python'],\r\n",
        "\t 'url': [u'http://www.informit.com/store/product.aspx?isbn=0130211192']}\r\n",
        "2015-03-10 15:55:42+0900 [dmoz] INFO: Closing spider (finished)\r\n",
        "2015-03-10 15:55:42+0900 [dmoz] INFO: Stored json feed (27 items) in: items.json\r\n",
        "2015-03-10 15:55:42+0900 [dmoz] INFO: Dumping Scrapy stats:\r\n",
        "\t{'downloader/request_bytes': 516,\r\n",
        "\t 'downloader/request_count': 2,\r\n",
        "\t 'downloader/request_method_count/GET': 2,\r\n",
        "\t 'downloader/response_bytes': 16342,\r\n",
        "\t 'downloader/response_count': 2,\r\n",
        "\t 'downloader/response_status_count/200': 2,\r\n",
        "\t 'finish_reason': 'finished',\r\n",
        "\t 'finish_time': datetime.datetime(2015, 3, 10, 6, 55, 42, 511827),\r\n",
        "\t 'item_scraped_count': 27,\r\n",
        "\t 'log_count/DEBUG': 31,\r\n",
        "\t 'log_count/INFO': 8,\r\n",
        "\t 'response_received_count': 2,\r\n",
        "\t 'scheduler/dequeued': 2,\r\n",
        "\t 'scheduler/dequeued/memory': 2,\r\n",
        "\t 'scheduler/enqueued': 2,\r\n",
        "\t 'scheduler/enqueued/memory': 2,\r\n",
        "\t 'start_time': datetime.datetime(2015, 3, 10, 6, 55, 41, 706891)}\r\n",
        "2015-03-10 15:55:42+0900 [dmoz] INFO: Spider closed (finished)\r\n"
       ]
      }
     ],
     "prompt_number": 16
    },
    {
     "cell_type": "code",
     "collapsed": false,
     "input": [
      "!ls"
     ],
     "language": "python",
     "metadata": {},
     "outputs": [
      {
       "output_type": "stream",
       "stream": "stdout",
       "text": [
        "README.rst \u001b[34mdirbot\u001b[m\u001b[m     items.json scrapy.cfg setup.py\r\n"
       ]
      }
     ],
     "prompt_number": 19
    },
    {
     "cell_type": "code",
     "collapsed": false,
     "input": [
      "# items.json\uc5d0 \ud06c\ub864\ub9c1 \uacb0\uacfc\uac00 \uc800\uc7a5\ub418\uc5c8\uc73c\uba74 \uc131\uacf5. \n",
      "!head items.json"
     ],
     "language": "python",
     "metadata": {},
     "outputs": [
      {
       "output_type": "stream",
       "stream": "stdout",
       "text": [
        "[{\"url\": [\"http://www.pythonware.com/daily/\"], \"name\": [\"eff-bot's Daily Python URL\"], \"description\": [\"- Contains links to assorted resources from the Python universe, compiled by PythonWare.\\r\"]},\r\n",
        "{\"url\": [\"http://www.oinko.net/freepython/\"], \"name\": [\"Free Python and Zope Hosting Directory\"], \"description\": [\"- A directory of free Python and Zope hosting providers, with reviews and ratings.\\r\"]},\r\n",
        "{\"url\": [\"http://oreilly.com/python/\"], \"name\": [\"O'Reilly Python Center\"], \"description\": [\"- Features Python books, resources, news and articles.\\r\"]},\r\n",
        "{\"url\": [\"https://www.python.org/dev/\"], \"name\": [\"Python Developer's Guide\"], \"description\": [\"- Resources for reporting bugs, accessing the Python source tree with CVS and taking part in the development of Python.\\r\"]},\r\n",
        "{\"url\": [\"http://win32com.goermezer.de/\"], \"name\": [\"Social Bug\"], \"description\": [\"- Scripts, examples and news about Python programming for the Windows platform.\\r\"]},\r\n",
        "{\"url\": [\"http://www.pearsonhighered.com/educator/academic/product/0,,0130260363,00%2Ben-USS_01DBC.html\"], \"name\": [\"Core Python Programming\"], \"description\": [\"- By Wesley J. Chun; Prentice Hall PTR, 2001, ISBN 0130260363. For experienced developers to improve extant skills; professional level examples. Starts by introducing syntax, objects, error handling, functions, classes, built-ins. [Prentice Hall]\\r\"]},\r\n",
        "{\"url\": [\"http://www.brpreiss.com/books/opus7/html/book.html\"], \"name\": [\"Data Structures and Algorithms with Object-Oriented Design Patterns in Python\"], \"description\": [\"- The primary goal of this book is to promote object-oriented design using Python and to illustrate the use of the emerging object-oriented design patterns.\\r\"]},\r\n",
        "{\"url\": [\"http://www.diveintopython.net/\"], \"name\": [\"Dive Into Python 3\"], \"description\": [\"- By Mark Pilgrim, Guide to Python 3  and its differences from Python 2. Each chapter starts with a real code sample and explains it fully. Has a comprehensive appendix of all the syntactic and semantic changes in Python 3\\r\"]},\r\n",
        "{\"url\": [\"http://rhodesmill.org/brandon/2011/foundations-of-python-network-programming/\"], \"name\": [\"Foundations of Python Network Programming\"], \"description\": [\"- This book covers a wide range of topics. From raw TCP and UDP to encryption with TSL, and then to HTTP, SMTP, POP, IMAP, and ssh. It gives you a good understanding of each field and how to do everything on the network with Python.\\r\"]},\r\n",
        "{\"url\": [\"http://www.techbooksforfree.com/perlpython.shtml\"], \"name\": [\"Free Python books\"], \"description\": [\"- Free Python books and tutorials.\\r\"]},\r\n"
       ]
      }
     ],
     "prompt_number": 20
    },
    {
     "cell_type": "code",
     "collapsed": false,
     "input": [
      "# \uc0c1\uc704 \uc6cc\ud0b9 \ub514\ub809\ud1a0\ub9ac\ub85c \uc774\ub3d9\n",
      "cd .. "
     ],
     "language": "python",
     "metadata": {},
     "outputs": [],
     "prompt_number": 36
    },
    {
     "cell_type": "heading",
     "level": 3,
     "metadata": {},
     "source": [
      "\ud06c\ub864\ub7ec \ud504\ub85c\uc81d\ud2b8 \uc0dd\uc131"
     ]
    },
    {
     "cell_type": "code",
     "collapsed": false,
     "input": [
      "# \ud06c\ub864\ub7ec \ud504\ub85c\uc81d\ud2b8\ub97c \uc0dd\uc131\ud55c\ub2e4\n",
      "!scrapy startproject mycrawler"
     ],
     "language": "python",
     "metadata": {},
     "outputs": [
      {
       "output_type": "stream",
       "stream": "stdout",
       "text": [
        ":0: UserWarning: You do not have a working installation of the service_identity module: 'No module named service_identity'.  Please install it from <https://pypi.python.org/pypi/service_identity> and make sure all of its dependencies are satisfied.  Without the service_identity module and a recent enough pyOpenSSL to support it, Twisted can perform only rudimentary TLS client hostname verification.  Many valid certificate/hostname mappings may be rejected.\r\n"
       ]
      },
      {
       "output_type": "stream",
       "stream": "stdout",
       "text": [
        "New Scrapy project 'mycrawler' created in:\r\n",
        "    /Users/moodern/PycharmProjects/da/part1/mycrawler\r\n",
        "\r\n",
        "You can start your first spider with:\r\n",
        "    cd mycrawler\r\n",
        "    scrapy genspider example example.com\r\n"
       ]
      }
     ],
     "prompt_number": 2
    },
    {
     "cell_type": "code",
     "collapsed": false,
     "input": [
      "# \ud574\ub2f9 \ud504\ub85c\uc81d\ud2b8\ub85c \uc774\ub3d9\n",
      "cd mycrawler"
     ],
     "language": "python",
     "metadata": {},
     "outputs": [
      {
       "output_type": "stream",
       "stream": "stdout",
       "text": [
        "/Users/moodern/PycharmProjects/da/part1/mycrawler\n"
       ]
      }
     ],
     "prompt_number": 3
    },
    {
     "cell_type": "code",
     "collapsed": false,
     "input": [
      "!ls"
     ],
     "language": "python",
     "metadata": {},
     "outputs": [
      {
       "output_type": "stream",
       "stream": "stdout",
       "text": [
        "\u001b[34mmycrawler\u001b[m\u001b[m  scrapy.cfg\r\n"
       ]
      }
     ],
     "prompt_number": 4
    },
    {
     "cell_type": "code",
     "collapsed": false,
     "input": [
      "!ls mycrawler"
     ],
     "language": "python",
     "metadata": {},
     "outputs": [
      {
       "output_type": "stream",
       "stream": "stdout",
       "text": [
        "__init__.py  items.py     pipelines.py settings.py  \u001b[34mspiders\u001b[m\u001b[m\r\n"
       ]
      }
     ],
     "prompt_number": 6
    },
    {
     "cell_type": "code",
     "collapsed": false,
     "input": [
      "!ls mycrawler/spiders"
     ],
     "language": "python",
     "metadata": {},
     "outputs": [
      {
       "output_type": "stream",
       "stream": "stdout",
       "text": [
        "__init__.py\r\n"
       ]
      }
     ],
     "prompt_number": 7
    },
    {
     "cell_type": "markdown",
     "metadata": {},
     "source": [
      "#### Scrapy \ud504\ub85c\uc81d\ud2b8 \ub514\ub809\ud1a0\ub9ac \uc124\uba85\n",
      "\n",
      "##### mycrawler\n",
      "* scrapy.cfg   ---> \ud504\ub85c\uc81d\ud2b8\uc815\ubcf4\ub97c \uac00\uc9c0\uace0 \uc788\uc74c\n",
      "* /mycrawler   \ud504\ub85c\uc81d\ud2b8 \ud3f4\ub354\n",
      "  - items.py      \ud06c\ub864\ub9c1\ud560 \ub370\uc774\ud0c0 \ubaa8\ub378\n",
      "  - pipelines.py  \ud06c\ub864\ub9c1 \uacb0\uacfc\ub97c \ud30c\uc77c\ub85c \uc800\uc7a5\ud560\ub54c \ud544\uc694\ud55c \ub8f0(\uaddc\uce59) \uc815\uc758\n",
      "  - setting.py item\uacfcpiplines\uacfc\uc758 \uc124\uc815 \ubc0f \uac01\uc885? \uc124\uc815\uc5d0 \ud544\uc694\n",
      "  - /spiders   \ud06c\ub864\ub9c1\ud560 \uac70\ubbf8\ub4e4\uc744 \ubaa8\uc544\ub193\uc744 \ud3f4\ub354\n",
      "    - townpage.py (\ud06c\ub864\ub9c1\uc744 \uc704\ud55c \uac70\ubbf8. \ucc98\uc74c\uc5d0 \uc0dd\uc131\ub418\uc9c0 \uc54a\uc73c\ubbc0\ub85c \ub9cc\ub4e4\uc5b4\uc57c\ud568.)"
     ]
    },
    {
     "cell_type": "heading",
     "level": 3,
     "metadata": {},
     "source": [
      "Scrapy\ub97c \uc774\uc6a9\ud55c \uc6f9 \ubb38\uc11c \ud30c\uc2f1"
     ]
    },
    {
     "cell_type": "markdown",
     "metadata": {},
     "source": [
      "* Step by Step\n",
      "* \ud1b5\ud569\ucf54\ub4dc"
     ]
    },
    {
     "cell_type": "heading",
     "level": 4,
     "metadata": {},
     "source": [
      "Step by Step"
     ]
    },
    {
     "cell_type": "code",
     "collapsed": false,
     "input": [
      "import requests as rs\n",
      "import re\n",
      "from scrapy.selector import Selector"
     ],
     "language": "python",
     "metadata": {},
     "outputs": [],
     "prompt_number": 22
    },
    {
     "cell_type": "code",
     "collapsed": false,
     "input": [
      "url = 'http://konanacademy.github.io/da/'\n",
      "\n",
      "# \uc694\uccad\n",
      "r = rs.get(url)"
     ],
     "language": "python",
     "metadata": {},
     "outputs": [],
     "prompt_number": 10
    },
    {
     "cell_type": "code",
     "collapsed": false,
     "input": [
      "sel = Selector(text=r.text)"
     ],
     "language": "python",
     "metadata": {},
     "outputs": [],
     "prompt_number": 11
    },
    {
     "cell_type": "code",
     "collapsed": false,
     "input": [
      "type(sel)"
     ],
     "language": "python",
     "metadata": {},
     "outputs": [
      {
       "metadata": {},
       "output_type": "pyout",
       "prompt_number": 12,
       "text": [
        "scrapy.selector.unified.Selector"
       ]
      }
     ],
     "prompt_number": 12
    },
    {
     "cell_type": "code",
     "collapsed": false,
     "input": [
      "href_list = sel.css('a::attr(href)').extract()"
     ],
     "language": "python",
     "metadata": {},
     "outputs": [],
     "prompt_number": 19
    },
    {
     "cell_type": "code",
     "collapsed": false,
     "input": [
      "type(href_list)"
     ],
     "language": "python",
     "metadata": {},
     "outputs": [
      {
       "metadata": {},
       "output_type": "pyout",
       "prompt_number": 20,
       "text": [
        "list"
       ]
      }
     ],
     "prompt_number": 20
    },
    {
     "cell_type": "code",
     "collapsed": false,
     "input": [
      "href_list"
     ],
     "language": "python",
     "metadata": {},
     "outputs": [
      {
       "metadata": {},
       "output_type": "pyout",
       "prompt_number": 21,
       "text": [
        "[u'http://www.konantech.com/',\n",
        " u'http://KonanAcademy.github.io',\n",
        " u'https://github.com/KonanAcademy/da',\n",
        " u'#welcome-to-github-pages',\n",
        " u'http://nbviewer.ipython.org/github/KonanAcademy/da/blob/master/part1/00_what_is_da.ipynb',\n",
        " u'http://nbviewer.ipython.org/github/KonanAcademy/da/blob/master/part1/00_1_python_example.ipynb',\n",
        " u'https://github.com/KonanAcademy/da/blob/master/part1/00_2_R_example.md',\n",
        " u'http://nbviewer.ipython.org/github/KonanAcademy/da/blob/master/part1/00_3_python_example.ipynb',\n",
        " u'https://github.com/KonanAcademy/da/blob/master/part1/00_4_R_example.md',\n",
        " u'http://nbviewer.ipython.org/github/KonanAcademy/da/blob/master/part1/01_python_basic.ipynb',\n",
        " u'http://nbviewer.ipython.org/github/KonanAcademy/da/blob/master/part1/01_exercise_python.ipynb',\n",
        " u'https://view.officeapps.live.com/op/view.aspx?src=http%3A%2F%2Fwww.fil.ion.ucl.ac.uk%2Fspm%2Fdoc%2Fmfd%2F2010%2Fpage1%2FLinearAlgebra.ppt',\n",
        " u'http://nbviewer.ipython.org/github/KonanAcademy/da/blob/master/part1/02_python_pandas_1.ipynb',\n",
        " u'https://view.officeapps.live.com/op/view.aspx?src=https%3A%2F%2Feducation.med.imperial.ac.uk%2Fext%2Fintercalate11-12%2Fstatistics.ppt',\n",
        " u'http://nbviewer.ipython.org/github/KonanAcademy/da/blob/master/part1/03_python_pandas_2.ipynb',\n",
        " u'https://docs.google.com/file/d/0Bw594TdiBdAUb1RfdXpnNlhBa0E',\n",
        " u'http://nbviewer.ipython.org/github/KonanAcademy/da/blob/master/part1/04_matplotlib_example.ipynb',\n",
        " u'http://nbviewer.ipython.org/github/KonanAcademy/da/blob/master/part1/04_python_visualization.ipynb']"
       ]
      }
     ],
     "prompt_number": 21
    },
    {
     "cell_type": "code",
     "collapsed": false,
     "input": [
      "c = re.compile(\"http\")\n",
      "bool(c.match(href_list[3]))"
     ],
     "language": "python",
     "metadata": {},
     "outputs": [
      {
       "metadata": {},
       "output_type": "pyout",
       "prompt_number": 28,
       "text": [
        "False"
       ]
      }
     ],
     "prompt_number": 28
    },
    {
     "cell_type": "code",
     "collapsed": false,
     "input": [
      "# http\ub098 https \ub9c1\ud06c\ub9cc \ucd94\ucd9c\ud558\uc790\n",
      "links = [link for link in href_list if bool(re.compile(\"http\").match(link))]\n",
      "links"
     ],
     "language": "python",
     "metadata": {},
     "outputs": [
      {
       "metadata": {},
       "output_type": "pyout",
       "prompt_number": 29,
       "text": [
        "[u'http://www.konantech.com/',\n",
        " u'http://KonanAcademy.github.io',\n",
        " u'https://github.com/KonanAcademy/da',\n",
        " u'http://nbviewer.ipython.org/github/KonanAcademy/da/blob/master/part1/00_what_is_da.ipynb',\n",
        " u'http://nbviewer.ipython.org/github/KonanAcademy/da/blob/master/part1/00_1_python_example.ipynb',\n",
        " u'https://github.com/KonanAcademy/da/blob/master/part1/00_2_R_example.md',\n",
        " u'http://nbviewer.ipython.org/github/KonanAcademy/da/blob/master/part1/00_3_python_example.ipynb',\n",
        " u'https://github.com/KonanAcademy/da/blob/master/part1/00_4_R_example.md',\n",
        " u'http://nbviewer.ipython.org/github/KonanAcademy/da/blob/master/part1/01_python_basic.ipynb',\n",
        " u'http://nbviewer.ipython.org/github/KonanAcademy/da/blob/master/part1/01_exercise_python.ipynb',\n",
        " u'https://view.officeapps.live.com/op/view.aspx?src=http%3A%2F%2Fwww.fil.ion.ucl.ac.uk%2Fspm%2Fdoc%2Fmfd%2F2010%2Fpage1%2FLinearAlgebra.ppt',\n",
        " u'http://nbviewer.ipython.org/github/KonanAcademy/da/blob/master/part1/02_python_pandas_1.ipynb',\n",
        " u'https://view.officeapps.live.com/op/view.aspx?src=https%3A%2F%2Feducation.med.imperial.ac.uk%2Fext%2Fintercalate11-12%2Fstatistics.ppt',\n",
        " u'http://nbviewer.ipython.org/github/KonanAcademy/da/blob/master/part1/03_python_pandas_2.ipynb',\n",
        " u'https://docs.google.com/file/d/0Bw594TdiBdAUb1RfdXpnNlhBa0E',\n",
        " u'http://nbviewer.ipython.org/github/KonanAcademy/da/blob/master/part1/04_matplotlib_example.ipynb',\n",
        " u'http://nbviewer.ipython.org/github/KonanAcademy/da/blob/master/part1/04_python_visualization.ipynb']"
       ]
      }
     ],
     "prompt_number": 29
    },
    {
     "cell_type": "heading",
     "level": 4,
     "metadata": {},
     "source": [
      "\ud1b5\ud569\ucf54\ub4dc"
     ]
    },
    {
     "cell_type": "code",
     "collapsed": false,
     "input": [
      "import requests as rs\n",
      "import re\n",
      "from scrapy.selector import Selector\n",
      "\n",
      "url = 'http://konanacademy.github.io/da/'\n",
      "\n",
      "# \uc694\uccad\n",
      "r = rs.get(url)\n",
      "# \uc140\ub809\ud130 \uc0dd\uc131\n",
      "sel = Selector(text=r.text)\n",
      "# \uc6d0\ud558\ub294 \ud0dc\uadf8 \ub9ac\uc2a4\ud2b8 \uac00\uc838\uc624\uae30\n",
      "href_list = sel.css('a::attr(href)').extract()\n",
      "# http\ub098 https \ub9c1\ud06c\ub9cc \ucd94\ucd9c\ud558\uc790\n",
      "links = [link for link in href_list if bool(re.compile(\"http\").match(link))]\n",
      "links"
     ],
     "language": "python",
     "metadata": {},
     "outputs": [
      {
       "metadata": {},
       "output_type": "pyout",
       "prompt_number": 32,
       "text": [
        "[u'http://www.konantech.com/',\n",
        " u'http://KonanAcademy.github.io',\n",
        " u'https://github.com/KonanAcademy/da',\n",
        " u'http://nbviewer.ipython.org/github/KonanAcademy/da/blob/master/part1/00_what_is_da.ipynb',\n",
        " u'http://nbviewer.ipython.org/github/KonanAcademy/da/blob/master/part1/00_1_python_example.ipynb',\n",
        " u'https://github.com/KonanAcademy/da/blob/master/part1/00_2_R_example.md',\n",
        " u'http://nbviewer.ipython.org/github/KonanAcademy/da/blob/master/part1/00_3_python_example.ipynb',\n",
        " u'https://github.com/KonanAcademy/da/blob/master/part1/00_4_R_example.md',\n",
        " u'http://nbviewer.ipython.org/github/KonanAcademy/da/blob/master/part1/01_python_basic.ipynb',\n",
        " u'http://nbviewer.ipython.org/github/KonanAcademy/da/blob/master/part1/01_exercise_python.ipynb',\n",
        " u'https://view.officeapps.live.com/op/view.aspx?src=http%3A%2F%2Fwww.fil.ion.ucl.ac.uk%2Fspm%2Fdoc%2Fmfd%2F2010%2Fpage1%2FLinearAlgebra.ppt',\n",
        " u'http://nbviewer.ipython.org/github/KonanAcademy/da/blob/master/part1/02_python_pandas_1.ipynb',\n",
        " u'https://view.officeapps.live.com/op/view.aspx?src=https%3A%2F%2Feducation.med.imperial.ac.uk%2Fext%2Fintercalate11-12%2Fstatistics.ppt',\n",
        " u'http://nbviewer.ipython.org/github/KonanAcademy/da/blob/master/part1/03_python_pandas_2.ipynb',\n",
        " u'https://docs.google.com/file/d/0Bw594TdiBdAUb1RfdXpnNlhBa0E',\n",
        " u'http://nbviewer.ipython.org/github/KonanAcademy/da/blob/master/part1/04_matplotlib_example.ipynb',\n",
        " u'http://nbviewer.ipython.org/github/KonanAcademy/da/blob/master/part1/04_python_visualization.ipynb']"
       ]
      }
     ],
     "prompt_number": 32
    },
    {
     "cell_type": "heading",
     "level": 3,
     "metadata": {},
     "source": [
      "Scrapy\ub85c \ud06c\ub864\ub9c1 \ud558\uae30"
     ]
    },
    {
     "cell_type": "code",
     "collapsed": false,
     "input": [
      "!ls"
     ],
     "language": "python",
     "metadata": {},
     "outputs": [
      {
       "output_type": "stream",
       "stream": "stdout",
       "text": [
        "\u001b[34mmycrawler\u001b[m\u001b[m  scrapy.cfg\r\n"
       ]
      }
     ],
     "prompt_number": 33
    },
    {
     "cell_type": "code",
     "collapsed": false,
     "input": [
      "# mycrawer \ub514\ub809\ud1a0\ub9ac \uc548\uc5d0, da\ub77c\ub294 \uc774\ub984\uc758 spider\ub97c \uc0dd\uc131\ud558\uace0, \uc704\uc5d0\uc11c \uc124\uba85\ud55c \uc6f9 \ubb38\uc11c \ud30c\uc2f1 \ucf54\ub4dc\ub97c scrapy \ud504\ub85c\uc81d\ud2b8 \uaddc\uce59\uc5d0 \ub9de\ucdb0\uc11c \uc14b\ud305. \n",
      "# \uc790\uc138\ud55c \uac83\uc740 \uc800\uc7a5\uc18c\uc758 mycrawer \ud504\ub85c\uc81d\ud2b8 \ucf54\ub4dc\ub97c \ubcfc \uac83.\n",
      "\n",
      "# \ud06c\ub864\ub9c1 \uc2e4\ud589\n",
      "!scrapy crawl da -o items.json"
     ],
     "language": "python",
     "metadata": {},
     "outputs": [
      {
       "output_type": "stream",
       "stream": "stdout",
       "text": [
        ":0: UserWarning: You do not have a working installation of the service_identity module: 'No module named service_identity'.  Please install it from <https://pypi.python.org/pypi/service_identity> and make sure all of its dependencies are satisfied.  Without the service_identity module and a recent enough pyOpenSSL to support it, Twisted can perform only rudimentary TLS client hostname verification.  Many valid certificate/hostname mappings may be rejected.\r\n",
        "===============================================\r\n",
        "start KonanAcademy's DA class page crawling....\r\n",
        "===============================================\r\n",
        "2015-03-10 17:30:01+0900 [scrapy] INFO: Scrapy 0.24.5 started (bot: mycrawler)\r\n",
        "2015-03-10 17:30:01+0900 [scrapy] INFO: Optional features available: ssl, http11\r\n",
        "2015-03-10 17:30:01+0900 [scrapy] INFO: Overridden settings: {'NEWSPIDER_MODULE': 'mycrawler.spiders', 'FEED_URI': 'items.json', 'SPIDER_MODULES': ['mycrawler.spiders'], 'BOT_NAME': 'mycrawler', 'DEFAULT_ITEM_CLASS': 'mycrawler.items.MycrawlerItem', 'FEED_FORMAT': 'json'}\r\n"
       ]
      },
      {
       "output_type": "stream",
       "stream": "stdout",
       "text": [
        "2015-03-10 17:30:01+0900 [scrapy] INFO: Enabled extensions: FeedExporter, LogStats, TelnetConsole, CloseSpider, WebService, CoreStats, SpiderState\r\n"
       ]
      },
      {
       "output_type": "stream",
       "stream": "stdout",
       "text": [
        "2015-03-10 17:30:01+0900 [scrapy] INFO: Enabled downloader middlewares: HttpAuthMiddleware, DownloadTimeoutMiddleware, UserAgentMiddleware, RetryMiddleware, DefaultHeadersMiddleware, MetaRefreshMiddleware, HttpCompressionMiddleware, RedirectMiddleware, CookiesMiddleware, ChunkedTransferMiddleware, DownloaderStats\r\n",
        "2015-03-10 17:30:01+0900 [scrapy] INFO: Enabled spider middlewares: HttpErrorMiddleware, OffsiteMiddleware, RefererMiddleware, UrlLengthMiddleware, DepthMiddleware\r\n",
        "2015-03-10 17:30:01+0900 [scrapy] INFO: Enabled item pipelines: \r\n",
        "2015-03-10 17:30:01+0900 [da] INFO: Spider opened\r\n",
        "2015-03-10 17:30:01+0900 [da] INFO: Crawled 0 pages (at 0 pages/min), scraped 0 items (at 0 items/min)\r\n",
        "2015-03-10 17:30:01+0900 [scrapy] DEBUG: Telnet console listening on 127.0.0.1:6023\r\n",
        "2015-03-10 17:30:01+0900 [scrapy] DEBUG: Web service listening on 127.0.0.1:6080\r\n"
       ]
      },
      {
       "output_type": "stream",
       "stream": "stdout",
       "text": [
        "2015-03-10 17:30:03+0900 [da] DEBUG: Crawled (200) <GET http://konanacademy.github.io/da/> (referer: None)\r\n",
        "2015-03-10 17:30:03+0900 [da] DEBUG: Scraped from <200 http://konanacademy.github.io/da/>\r\n",
        "\t{'url': u'http://www.konantech.com/'}\r\n",
        "2015-03-10 17:30:03+0900 [da] DEBUG: Scraped from <200 http://konanacademy.github.io/da/>\r\n",
        "\t{'url': u'http://KonanAcademy.github.io'}\r\n",
        "2015-03-10 17:30:03+0900 [da] DEBUG: Scraped from <200 http://konanacademy.github.io/da/>\r\n",
        "\t{'url': u'https://github.com/KonanAcademy/da'}\r\n",
        "2015-03-10 17:30:03+0900 [da] DEBUG: Scraped from <200 http://konanacademy.github.io/da/>\r\n",
        "\t{'url': u'http://nbviewer.ipython.org/github/KonanAcademy/da/blob/master/part1/00_what_is_da.ipynb'}\r\n",
        "2015-03-10 17:30:03+0900 [da] DEBUG: Scraped from <200 http://konanacademy.github.io/da/>\r\n",
        "\t{'url': u'http://nbviewer.ipython.org/github/KonanAcademy/da/blob/master/part1/00_1_python_example.ipynb'}\r\n",
        "2015-03-10 17:30:03+0900 [da] DEBUG: Scraped from <200 http://konanacademy.github.io/da/>\r\n",
        "\t{'url': u'https://github.com/KonanAcademy/da/blob/master/part1/00_2_R_example.md'}\r\n",
        "2015-03-10 17:30:03+0900 [da] DEBUG: Scraped from <200 http://konanacademy.github.io/da/>\r\n",
        "\t{'url': u'http://nbviewer.ipython.org/github/KonanAcademy/da/blob/master/part1/00_3_python_example.ipynb'}\r\n",
        "2015-03-10 17:30:03+0900 [da] DEBUG: Scraped from <200 http://konanacademy.github.io/da/>\r\n",
        "\t{'url': u'https://github.com/KonanAcademy/da/blob/master/part1/00_4_R_example.md'}\r\n",
        "2015-03-10 17:30:03+0900 [da] DEBUG: Scraped from <200 http://konanacademy.github.io/da/>\r\n",
        "\t{'url': u'http://nbviewer.ipython.org/github/KonanAcademy/da/blob/master/part1/01_python_basic.ipynb'}\r\n",
        "2015-03-10 17:30:03+0900 [da] DEBUG: Scraped from <200 http://konanacademy.github.io/da/>\r\n",
        "\t{'url': u'http://nbviewer.ipython.org/github/KonanAcademy/da/blob/master/part1/01_exercise_python.ipynb'}\r\n",
        "2015-03-10 17:30:03+0900 [da] DEBUG: Scraped from <200 http://konanacademy.github.io/da/>\r\n",
        "\t{'url': u'https://view.officeapps.live.com/op/view.aspx?src=http%3A%2F%2Fwww.fil.ion.ucl.ac.uk%2Fspm%2Fdoc%2Fmfd%2F2010%2Fpage1%2FLinearAlgebra.ppt'}\r\n",
        "2015-03-10 17:30:03+0900 [da] DEBUG: Scraped from <200 http://konanacademy.github.io/da/>\r\n",
        "\t{'url': u'http://nbviewer.ipython.org/github/KonanAcademy/da/blob/master/part1/02_python_pandas_1.ipynb'}\r\n",
        "2015-03-10 17:30:03+0900 [da] DEBUG: Scraped from <200 http://konanacademy.github.io/da/>\r\n",
        "\t{'url': u'https://view.officeapps.live.com/op/view.aspx?src=https%3A%2F%2Feducation.med.imperial.ac.uk%2Fext%2Fintercalate11-12%2Fstatistics.ppt'}\r\n",
        "2015-03-10 17:30:03+0900 [da] DEBUG: Scraped from <200 http://konanacademy.github.io/da/>\r\n",
        "\t{'url': u'http://nbviewer.ipython.org/github/KonanAcademy/da/blob/master/part1/03_python_pandas_2.ipynb'}\r\n",
        "2015-03-10 17:30:03+0900 [da] DEBUG: Scraped from <200 http://konanacademy.github.io/da/>\r\n",
        "\t{'url': u'https://docs.google.com/file/d/0Bw594TdiBdAUb1RfdXpnNlhBa0E'}\r\n",
        "2015-03-10 17:30:03+0900 [da] DEBUG: Scraped from <200 http://konanacademy.github.io/da/>\r\n",
        "\t{'url': u'http://nbviewer.ipython.org/github/KonanAcademy/da/blob/master/part1/04_matplotlib_example.ipynb'}\r\n",
        "2015-03-10 17:30:03+0900 [da] DEBUG: Scraped from <200 http://konanacademy.github.io/da/>\r\n",
        "\t{'url': u'http://nbviewer.ipython.org/github/KonanAcademy/da/blob/master/part1/04_python_visualization.ipynb'}\r\n",
        "2015-03-10 17:30:03+0900 [da] INFO: Closing spider (finished)\r\n",
        "2015-03-10 17:30:03+0900 [da] INFO: Stored json feed (17 items) in: items.json\r\n"
       ]
      },
      {
       "output_type": "stream",
       "stream": "stdout",
       "text": [
        "2015-03-10 17:30:03+0900 [da] INFO: Dumping Scrapy stats:\r\n",
        "\t{'downloader/request_bytes': 224,\r\n",
        "\t 'downloader/request_count': 1,\r\n",
        "\t 'downloader/request_method_count/GET': 1,\r\n",
        "\t 'downloader/response_bytes': 2944,\r\n",
        "\t 'downloader/response_count': 1,\r\n",
        "\t 'downloader/response_status_count/200': 1,\r\n",
        "\t 'finish_reason': 'finished',\r\n",
        "\t 'finish_time': datetime.datetime(2015, 3, 10, 8, 30, 3, 654202),\r\n",
        "\t 'item_scraped_count': 17,\r\n",
        "\t 'log_count/DEBUG': 20,\r\n",
        "\t 'log_count/INFO': 8,\r\n",
        "\t 'response_received_count': 1,\r\n",
        "\t 'scheduler/dequeued': 1,\r\n",
        "\t 'scheduler/dequeued/memory': 1,\r\n",
        "\t 'scheduler/enqueued': 1,\r\n",
        "\t 'scheduler/enqueued/memory': 1,\r\n",
        "\t 'start_time': datetime.datetime(2015, 3, 10, 8, 30, 1, 197530)}\r\n",
        "2015-03-10 17:30:03+0900 [da] INFO: Spider closed (finished)\r\n"
       ]
      }
     ],
     "prompt_number": 34
    },
    {
     "cell_type": "code",
     "collapsed": false,
     "input": [
      "# \uacb0\uacfc \ud655\uc778\n",
      "!ls"
     ],
     "language": "python",
     "metadata": {},
     "outputs": [
      {
       "output_type": "stream",
       "stream": "stdout",
       "text": [
        "items.json \u001b[34mmycrawler\u001b[m\u001b[m  scrapy.cfg\r\n"
       ]
      }
     ],
     "prompt_number": 35
    },
    {
     "cell_type": "code",
     "collapsed": false,
     "input": [
      "!cat items.json"
     ],
     "language": "python",
     "metadata": {},
     "outputs": [
      {
       "output_type": "stream",
       "stream": "stdout",
       "text": [
        "[{\"url\": \"http://www.konantech.com/\"},\r\n",
        "{\"url\": \"http://KonanAcademy.github.io\"},\r\n",
        "{\"url\": \"https://github.com/KonanAcademy/da\"},\r\n",
        "{\"url\": \"http://nbviewer.ipython.org/github/KonanAcademy/da/blob/master/part1/00_what_is_da.ipynb\"},\r\n",
        "{\"url\": \"http://nbviewer.ipython.org/github/KonanAcademy/da/blob/master/part1/00_1_python_example.ipynb\"},\r\n",
        "{\"url\": \"https://github.com/KonanAcademy/da/blob/master/part1/00_2_R_example.md\"},\r\n",
        "{\"url\": \"http://nbviewer.ipython.org/github/KonanAcademy/da/blob/master/part1/00_3_python_example.ipynb\"},\r\n",
        "{\"url\": \"https://github.com/KonanAcademy/da/blob/master/part1/00_4_R_example.md\"},\r\n",
        "{\"url\": \"http://nbviewer.ipython.org/github/KonanAcademy/da/blob/master/part1/01_python_basic.ipynb\"},\r\n",
        "{\"url\": \"http://nbviewer.ipython.org/github/KonanAcademy/da/blob/master/part1/01_exercise_python.ipynb\"},\r\n",
        "{\"url\": \"https://view.officeapps.live.com/op/view.aspx?src=http%3A%2F%2Fwww.fil.ion.ucl.ac.uk%2Fspm%2Fdoc%2Fmfd%2F2010%2Fpage1%2FLinearAlgebra.ppt\"},\r\n",
        "{\"url\": \"http://nbviewer.ipython.org/github/KonanAcademy/da/blob/master/part1/02_python_pandas_1.ipynb\"},\r\n",
        "{\"url\": \"https://view.officeapps.live.com/op/view.aspx?src=https%3A%2F%2Feducation.med.imperial.ac.uk%2Fext%2Fintercalate11-12%2Fstatistics.ppt\"},\r\n",
        "{\"url\": \"http://nbviewer.ipython.org/github/KonanAcademy/da/blob/master/part1/03_python_pandas_2.ipynb\"},\r\n",
        "{\"url\": \"https://docs.google.com/file/d/0Bw594TdiBdAUb1RfdXpnNlhBa0E\"},\r\n",
        "{\"url\": \"http://nbviewer.ipython.org/github/KonanAcademy/da/blob/master/part1/04_matplotlib_example.ipynb\"},\r\n",
        "{\"url\": \"http://nbviewer.ipython.org/github/KonanAcademy/da/blob/master/part1/04_python_visualization.ipynb\"}]"
       ]
      }
     ],
     "prompt_number": 37
    },
    {
     "cell_type": "markdown",
     "metadata": {},
     "source": [
      "## \ucc38\uace0\uc790\ub8cc \n",
      "\n",
      " * [1] \ud30c\uc774\uc36c(\uc5f4\ud608\uac15\uc758)(\uac1c\uc815\ud310 VER.2) - http://freelec.co.kr/book/catalogue_view.asp?UID=37\n",
      " * [2] requests \uacf5\uc2dd\ubb38\uc11c - http://docs.python-requests.org/en/latest/user/quickstart/\n",
      " * [3] beautifulSoup4 \ubb38\uc11c - http://coreapython.hosting.paran.com/etc/beautifulsoup4.html\n",
      " * [4] 30\ubd84\ub9cc\uc5d0 \ub530\ub77c\ud558\ub294 \ub3d9\uc2dc\uc131 \uc2a4\ud06c\ub798\ud37c - http://www.slideshare.net/cornchz/pyconkr-2014-30\n",
      " * [5] \ud30c\uc774\uc36c\uc73c\ub85c \uc6f9\ud398\uc774\uc9c0 \ud06c\ub864\ub9c1\ud558\uae30 - Scrapy\ud658\uacbd\uc124\uc815(Mac) (1)- http://dolfalf.tistory.com/117\n",
      " * [6] \ud30c\uc774\uc36c\uc73c\ub85c \uc6f9\ud398\uc774\uc9c0 \ud06c\ub864\ub9c1\ud558\uae30 - Scrapy\ub85c \ucf54\ub529\ud558\uae30(Mac) (2) - [4] http://dolfalf.tistory.com/118"
     ]
    }
   ],
   "metadata": {}
  }
 ]
}