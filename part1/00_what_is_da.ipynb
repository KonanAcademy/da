{
 "metadata": {
  "name": "",
  "signature": "sha256:b667b75cdc43b1c6778a22d2c3a1ab40d7e098e274cf808caca5a17691a42a60"
 },
 "nbformat": 3,
 "nbformat_minor": 0,
 "worksheets": [
  {
   "cells": [
    {
     "cell_type": "heading",
     "level": 1,
     "metadata": {},
     "source": [
      "00.  \ub370\uc774\ud130 \ubd84\uc11d\uc774\ub780?"
     ]
    },
    {
     "cell_type": "markdown",
     "metadata": {},
     "source": [
      "* \ucf54\ub09c\uc544\uce74\ub370\ubbf8 : \ub370\uc774\ud130\ubd84\uc11d \uae30\ucd08\n",
      "* \ubc1c\ud45c\uc790 : \uae40\ubb34\uc131    "
     ]
    },
    {
     "cell_type": "markdown",
     "metadata": {},
     "source": [
      "## \ucc28\ub840 \n",
      "\n",
      "0. \ucd94\ucc9c\uc790\ub8cc\n",
      "1. \ub370\uc774\ud130 \ubd84\uc11d \uad00\ub828 \uac15\uc88c & \uc778\uc99d\ucf54\uc2a4\n",
      "2. \ub370\uc774\ud130 \ubd84\uc11d(\uacfc\ud559)\uc758 \uc815\uccb4\uc131"
     ]
    },
    {
     "cell_type": "heading",
     "level": 2,
     "metadata": {},
     "source": [
      "0. \ucd94\ucc9c\uc790\ub8cc"
     ]
    },
    {
     "cell_type": "markdown",
     "metadata": {},
     "source": [
      "* \uc2e4\ub9ac\ucf58\ubc38\ub9ac \ub370\uc774\ud130 \uc0ac\uc774\uc5b8\ud2f0\uc2a4\ud2b8\uc758 \ud558\ub8e8 - http://www.slideshare.net/jaimiekwon/ss-45274089\n",
      "* \uc2a4\ud0c0\ud2b8\uc5c5\uc740 \ub370\uc774\ud130\ub97c \uc5b4\ub5bb\uac8c \ubc14\ub77c\ubcf4\uc544\uc57c \ud558\ub294\uac00 - http://www.slideshare.net/yongho/ss-32267675   \n",
      "* 5Rocks - http://www.5rocks.io/ko    "
     ]
    },
    {
     "cell_type": "heading",
     "level": 2,
     "metadata": {},
     "source": [
      "1. \ub370\uc774\ud130 \ubd84\uc11d \uad00\ub828 \uac15\uc88c & \uc778\uc99d\ucf54\uc2a4"
     ]
    },
    {
     "cell_type": "markdown",
     "metadata": {},
     "source": [
      "### Data Analyst Skills Checklist\n",
      "* http://blog.udacity.com/2014/12/9-essential-skills-data-analyst-job.html\n",
      "\n",
      "### coursera\uc758 Data Science \uc778\uc99d\ucf54\uc2a4 \n",
      "* https://www.coursera.org/specialization/jhudatascience/1/courses\n",
      "\n",
      "### udacity\uc758 \ub098\ub178\ud559\uc704 \ucf54\uc2a4\n",
      "* https://www.udacity.com/course/nd002\n",
      "\n",
      "### FAST CAMPUS - \ub370\uc774\ud130\ubd84\uc11d CAMP\n",
      "* http://www.fastcampus.co.kr/camp_data/\n",
      "\n",
      "### \ube14\ub85c\ud130 \uc544\uce74\ub370\ubbf8 - \ub370\uc774\ud130 \ubd84\uc11d \uc2a4\ucfe8\n",
      "* http://www.bloteracademy.net/archives/ba_course_cat/data-analytics-school"
     ]
    },
    {
     "cell_type": "heading",
     "level": 2,
     "metadata": {},
     "source": [
      "2. \ub370\uc774\ud130 \ubd84\uc11d(\uacfc\ud559)\uc758 \uc815\uccb4\uc131"
     ]
    },
    {
     "cell_type": "markdown",
     "metadata": {},
     "source": [
      "<img src='./00_figures/fig1-1.png'>"
     ]
    },
    {
     "cell_type": "markdown",
     "metadata": {},
     "source": [
      "<img src='./00_figures/fig1-2.png'>"
     ]
    },
    {
     "cell_type": "markdown",
     "metadata": {},
     "source": [
      "<img src='./00_figures/fig1-3.png'>"
     ]
    },
    {
     "cell_type": "markdown",
     "metadata": {},
     "source": [
      "<img src='./00_figures/fig1-4.png'>"
     ]
    },
    {
     "cell_type": "markdown",
     "metadata": {},
     "source": [
      "<img src='./00_figures/fig2-2.png'>"
     ]
    },
    {
     "cell_type": "markdown",
     "metadata": {},
     "source": [
      "<img src='./00_figures/fig2-3.png'>"
     ]
    },
    {
     "cell_type": "markdown",
     "metadata": {},
     "source": [
      "## \ucc38\uace0\uc790\ub8cc \n",
      "\n",
      " * [1] Coursera - https://www.coursera.org \n",
      " * [2] Udacity - https://www.udacity.com \n",
      " * [3] Doing Data Science - http://shop.oreilly.com/product/0636920028529.do"
     ]
    }
   ],
   "metadata": {}
  }
 ]
}