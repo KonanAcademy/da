{
 "metadata": {
  "name": "",
  "signature": "sha256:833c9b2bc53be7df7de34b59f7c41a27071af68d3cb2f055524914d42b379166"
 },
 "nbformat": 3,
 "nbformat_minor": 0,
 "worksheets": [
  {
   "cells": [
    {
     "cell_type": "heading",
     "level": 1,
     "metadata": {},
     "source": [
      "00.  \ub370\uc774\ud130 \ubd84\uc11d\uc774\ub780?"
     ]
    },
    {
     "cell_type": "markdown",
     "metadata": {},
     "source": [
      "* \ucf54\ub09c\uc544\uce74\ub370\ubbf8 : \ub370\uc774\ud130\ubd84\uc11d \uae30\ucd08\n",
      "* \ubc1c\ud45c\uc790 : \uae40\ubb34\uc131    "
     ]
    },
    {
     "cell_type": "markdown",
     "metadata": {},
     "source": [
      "## \ucc28\ub840 \n",
      "\n",
      "1. \ub370\uc774\ud130 \ubd84\uc11d \uad00\ub828 \uac15\uc88c & \uc778\uc99d\ucf54\uc2a4\n",
      "2. \ub370\uc774\ud130 \ubd84\uc11d \uadf8\ub9ac\uace0 \uacfc\ud559\uc758 \uc815\uccb4\uc131"
     ]
    },
    {
     "cell_type": "heading",
     "level": 2,
     "metadata": {},
     "source": [
      "1. \ub370\uc774\ud130 \ubd84\uc11d \uad00\ub828 \uac15\uc88c & \uc778\uc99d\ucf54\uc2a4"
     ]
    },
    {
     "cell_type": "markdown",
     "metadata": {},
     "source": [
      "### coursera\uc758 Data Science \uc778\uc99d\ucf54\uc2a4 \n",
      "* https://www.coursera.org/specialization/jhudatascience/1/courses\n",
      "\n",
      "### udacity\uc758 \ub098\ub178\ud559\uc704 \ucf54\uc2a4\n",
      "* https://www.udacity.com/course/nd002\n",
      "\n",
      "\n"
     ]
    },
    {
     "cell_type": "heading",
     "level": 2,
     "metadata": {},
     "source": [
      "2. \ub370\uc774\ud130 \ubd84\uc11d\uacfc \uad00\ub828\ub41c \uc8fc\uc694 \ucee8\uc149"
     ]
    },
    {
     "cell_type": "markdown",
     "metadata": {},
     "source": [
      "<img src='./00_figures/fig1-1.png'>"
     ]
    },
    {
     "cell_type": "markdown",
     "metadata": {},
     "source": [
      "<img src='./00_figures/fig1-2.png'>"
     ]
    },
    {
     "cell_type": "markdown",
     "metadata": {},
     "source": [
      "<img src='./00_figures/fig1-3.png'>"
     ]
    },
    {
     "cell_type": "markdown",
     "metadata": {},
     "source": [
      "<img src='./00_figures/fig1-4.png'>"
     ]
    },
    {
     "cell_type": "markdown",
     "metadata": {},
     "source": [
      "## \ucc38\uace0\uc790\ub8cc \n",
      "\n",
      " * [1] Coursera - https://www.coursera.org \n",
      " * [2] Udacity - https://www.udacity.com \n",
      " * [3] Doing Data Science - http://shop.oreilly.com/product/0636920028529.do"
     ]
    },
    {
     "cell_type": "code",
     "collapsed": false,
     "input": [],
     "language": "python",
     "metadata": {},
     "outputs": []
    }
   ],
   "metadata": {}
  }
 ]
}