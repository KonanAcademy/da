{
 "cells": [
  {
   "cell_type": "markdown",
   "metadata": {},
   "source": [
    "# 10_R. 트위터 분석(텍스트 마이닝)"
   ]
  },
  {
   "cell_type": "markdown",
   "metadata": {},
   "source": [
    "* 코난아카데미 : 데이터분석 기초\n",
    "* 작성자 : 김무성"
   ]
  },
  {
   "cell_type": "markdown",
   "metadata": {},
   "source": [
    "# 차례"
   ]
  },
  {
   "cell_type": "markdown",
   "metadata": {},
   "source": [
    "* Extracting Tweets\n",
    "* Text Cleaning\n",
    "    - corpus 만들기\n",
    "    - Temr-Document Matrix 구하기\n",
    "* Frequent Words and Associations\n",
    "    - 특정 term 찾기\n",
    "    - 빈도 높은 term 찾기\n",
    "    - 연관 term 찾기\n",
    "    - 연관 관계 그래프로 그려보기\n",
    "* Word Cloud\n",
    "* Clustering\n",
    "    - 계층적 클러스터링\n",
    "    - K-means 클러스터링\n",
    "    - k-medoids clustering\n",
    "* Topic Modeling"
   ]
  },
  {
   "cell_type": "markdown",
   "metadata": {},
   "source": [
    "# 추천 사이트"
   ]
  },
  {
   "cell_type": "markdown",
   "metadata": {},
   "source": [
    "# 추천 자료 "
   ]
  },
  {
   "cell_type": "markdown",
   "metadata": {
    "collapsed": true
   },
   "source": [
    "# Extracting Tweets"
   ]
  },
  {
   "cell_type": "code",
   "execution_count": 153,
   "metadata": {
    "collapsed": false
   },
   "outputs": [],
   "source": [
    "options(warn=-1)\n",
    "\n",
    "library(twitteR)"
   ]
  },
  {
   "cell_type": "code",
   "execution_count": 2,
   "metadata": {
    "collapsed": false
   },
   "outputs": [],
   "source": [
    "# download @RDataMining twwets from RDataMining.com\n",
    "#http://www.rdatamining.com/data/rdmTweets.RData\n",
    "# load twwets into R\n",
    "load(file=\"10_data/twitter/rdmTweets.RData\")"
   ]
  },
  {
   "cell_type": "code",
   "execution_count": 3,
   "metadata": {
    "collapsed": false
   },
   "outputs": [],
   "source": [
    "tweets <- rdmTweets"
   ]
  },
  {
   "cell_type": "code",
   "execution_count": 4,
   "metadata": {
    "collapsed": false
   },
   "outputs": [
    {
     "data": {
      "text/plain": [
       "[1] 154"
      ]
     },
     "execution_count": 4,
     "metadata": {},
     "output_type": "execute_result"
    }
   ],
   "source": [
    "(n.tweet <- length(tweets))"
   ]
  },
  {
   "cell_type": "code",
   "execution_count": 5,
   "metadata": {
    "collapsed": false
   },
   "outputs": [
    {
     "data": {
      "text/plain": [
       "[[1]]\n",
       "[1] \"RDataMining: Postdoc/Research Scientist Position on Big Data at MIT http://t.co/hZ1ojAW2\"\n",
       "\n",
       "[[2]]\n",
       "[1] \"RDataMining: Research scientist position for privacy-preserving data publishing, Singapore http://t.co/GPA0TyG5\"\n",
       "\n",
       "[[3]]\n",
       "[1] \"RDataMining: Easier Parallel Computing in R with snowfall and sfCluster http://t.co/BPcinvzK\"\n",
       "\n",
       "[[4]]\n",
       "[1] \"RDataMining: Tutorial: Parallel computing using R package snowfall http://t.co/CHBCyr76\"\n",
       "\n",
       "[[5]]\n",
       "[1] \"RDataMining: handling big data: Interacting with Data using the filehash Package for R http://t.co/7RB3sChx\"\n",
       "\n",
       "[[6]]\n",
       "[1] \"RDataMining: Parallel Computing with R using snow and snowfall http://t.co/nxp8EZpv\"\n"
      ]
     },
     "execution_count": 5,
     "metadata": {},
     "output_type": "execute_result"
    }
   ],
   "source": [
    "head(tweets)"
   ]
  },
  {
   "cell_type": "code",
   "execution_count": 6,
   "metadata": {
    "collapsed": false
   },
   "outputs": [
    {
     "name": "stdout",
     "output_type": "stream",
     "text": [
      "Reference class 'status' [package \"twitteR\"] with 10 fields\n",
      " $ text        : chr \"Postdoc/Research Scientist Position on Big Data at MIT http://t.co/hZ1ojAW2\"\n",
      " $ favorited   : logi TRUE\n",
      " $ replyToSN   : chr(0) \n",
      " $ created     : POSIXct[1:1], format: \"2012-04-14 09:56:00\"\n",
      " $ truncated   : logi TRUE\n",
      " $ replyToSID  : chr(0) \n",
      " $ id          : chr \"191102498466037760\"\n",
      " $ replyToUID  : chr(0) \n",
      " $ statusSource: chr \"web\"\n",
      " $ screenName  : chr \"RDataMining\"\n",
      " and 33 methods, of which 22 are possibly relevant:\n",
      "   getCreated, getFavorited, getId, getReplyToSID, getReplyToSN, getReplyToUID,\n",
      "   getScreenName, getStatusSource, getText, getTruncated, initialize,\n",
      "   setCreated, setFavorited, setId, setReplyToSID, setReplyToSN, setReplyToUID,\n",
      "   setScreenName, setStatusSource, setText, setTruncated, toDataFrame\n"
     ]
    }
   ],
   "source": [
    "str(tweets[[1]])"
   ]
  },
  {
   "cell_type": "markdown",
   "metadata": {
    "collapsed": true
   },
   "source": [
    "# Text Cleaning"
   ]
  },
  {
   "cell_type": "code",
   "execution_count": 7,
   "metadata": {
    "collapsed": true
   },
   "outputs": [],
   "source": [
    "# tweets.df <- do.call(\"rbind\", lapply(tweets, as.data.frame))\n",
    "tweets.df <- twListToDF(tweets)"
   ]
  },
  {
   "cell_type": "code",
   "execution_count": 8,
   "metadata": {
    "collapsed": false
   },
   "outputs": [
    {
     "name": "stdout",
     "output_type": "stream",
     "text": [
      "'data.frame':\t154 obs. of  10 variables:\n",
      " $ text        : chr  \"Postdoc/Research Scientist Position on Big Data at MIT http://t.co/hZ1ojAW2\" \"Research scientist position for privacy-preserving data publishing, Singapore http://t.co/GPA0TyG5\" \"Easier Parallel Computing in R with snowfall and sfCluster http://t.co/BPcinvzK\" \"Tutorial: Parallel computing using R package snowfall http://t.co/CHBCyr76\" ...\n",
      " $ favorited   : logi  TRUE TRUE TRUE TRUE TRUE TRUE ...\n",
      " $ replyToSN   : chr  NA NA NA NA ...\n",
      " $ created     : POSIXct, format: \"2012-04-14 09:56:00\" \"2012-04-14 09:47:11\" ...\n",
      " $ truncated   : logi  TRUE TRUE TRUE TRUE TRUE TRUE ...\n",
      " $ replyToSID  : chr  NA NA NA NA ...\n",
      " $ id          : chr  \"191102498466037760\" \"191100277758230528\" \"191095126263730176\" \"191093248444477440\" ...\n",
      " $ replyToUID  : chr  NA NA NA NA ...\n",
      " $ statusSource: chr  \"web\" \"web\" \"web\" \"web\" ...\n",
      " $ screenName  : chr  \"RDataMining\" \"RDataMining\" \"RDataMining\" \"RDataMining\" ...\n"
     ]
    }
   ],
   "source": [
    "str(tweets.df)"
   ]
  },
  {
   "cell_type": "code",
   "execution_count": 9,
   "metadata": {
    "collapsed": false
   },
   "outputs": [
    {
     "data": {
      "text/plain": [
       "                                                                                                text\n",
       "1                        Postdoc/Research Scientist Position on Big Data at MIT http://t.co/hZ1ojAW2\n",
       "2 Research scientist position for privacy-preserving data publishing, Singapore http://t.co/GPA0TyG5\n",
       "3                    Easier Parallel Computing in R with snowfall and sfCluster http://t.co/BPcinvzK\n",
       "4                         Tutorial: Parallel computing using R package snowfall http://t.co/CHBCyr76\n",
       "5     handling big data: Interacting with Data using the filehash Package for R http://t.co/7RB3sChx\n",
       "6                             Parallel Computing with R using snow and snowfall http://t.co/nxp8EZpv\n",
       "  favorited replyToSN             created truncated replyToSID\n",
       "1      TRUE      <NA> 2012-04-14 09:56:00      TRUE       <NA>\n",
       "2      TRUE      <NA> 2012-04-14 09:47:11      TRUE       <NA>\n",
       "3      TRUE      <NA> 2012-04-14 09:26:43      TRUE       <NA>\n",
       "4      TRUE      <NA> 2012-04-14 09:19:15      TRUE       <NA>\n",
       "5      TRUE      <NA> 2012-04-14 09:17:55      TRUE       <NA>\n",
       "6      TRUE      <NA> 2012-04-12 12:10:14      TRUE       <NA>\n",
       "                  id replyToUID statusSource  screenName\n",
       "1 191102498466037760       <NA>          web RDataMining\n",
       "2 191100277758230528       <NA>          web RDataMining\n",
       "3 191095126263730176       <NA>          web RDataMining\n",
       "4 191093248444477440       <NA>          web RDataMining\n",
       "5 191092912589770752       <NA>          web RDataMining\n",
       "6 190411501146869760       <NA>          web RDataMining"
      ]
     },
     "execution_count": 9,
     "metadata": {},
     "output_type": "execute_result"
    }
   ],
   "source": [
    "head(tweets.df)"
   ]
  },
  {
   "cell_type": "markdown",
   "metadata": {
    "collapsed": true
   },
   "source": [
    "## corpus 만들기"
   ]
  },
  {
   "cell_type": "code",
   "execution_count": 177,
   "metadata": {
    "collapsed": false
   },
   "outputs": [],
   "source": [
    "library(tm)"
   ]
  },
  {
   "cell_type": "code",
   "execution_count": 11,
   "metadata": {
    "collapsed": false
   },
   "outputs": [],
   "source": [
    "# build a corpus, and specify the source to be character vectors\n",
    "myCorpus <- Corpus(VectorSource(tweets.df$text))"
   ]
  },
  {
   "cell_type": "code",
   "execution_count": 12,
   "metadata": {
    "collapsed": true
   },
   "outputs": [],
   "source": [
    "# convert to lower case\n",
    "myCorpus <- tm_map(myCorpus, content_transformer(tolower))"
   ]
  },
  {
   "cell_type": "code",
   "execution_count": 13,
   "metadata": {
    "collapsed": false
   },
   "outputs": [
    {
     "data": {
      "text/plain": [
       "[1] \"VCorpus\" \"Corpus\" "
      ]
     },
     "execution_count": 13,
     "metadata": {},
     "output_type": "execute_result"
    }
   ],
   "source": [
    "class(myCorpus)"
   ]
  },
  {
   "cell_type": "code",
   "execution_count": 14,
   "metadata": {
    "collapsed": false
   },
   "outputs": [
    {
     "data": {
      "text/plain": [
       "[1] 154"
      ]
     },
     "execution_count": 14,
     "metadata": {},
     "output_type": "execute_result"
    }
   ],
   "source": [
    "length(myCorpus)"
   ]
  },
  {
   "cell_type": "code",
   "execution_count": 15,
   "metadata": {
    "collapsed": false
   },
   "outputs": [
    {
     "data": {
      "text/plain": [
       "<<VCorpus (documents: 6, metadata (corpus/indexed): 0/0)>>"
      ]
     },
     "execution_count": 15,
     "metadata": {},
     "output_type": "execute_result"
    }
   ],
   "source": [
    "head(myCorpus)"
   ]
  },
  {
   "cell_type": "code",
   "execution_count": 16,
   "metadata": {
    "collapsed": false
   },
   "outputs": [
    {
     "name": "stdout",
     "output_type": "stream",
     "text": [
      "List of 2\n",
      " $ content: chr \"postdoc/research scientist position on big data at mit http://t.co/hz1ojaw2\"\n",
      " $ meta   :List of 7\n",
      "  ..$ author       : chr(0) \n",
      "  ..$ datetimestamp: POSIXlt[1:1], format: \"2015-03-25 09:51:15\"\n",
      "  ..$ description  : chr(0) \n",
      "  ..$ heading      : chr(0) \n",
      "  ..$ id           : chr \"1\"\n",
      "  ..$ language     : chr \"en\"\n",
      "  ..$ origin       : chr(0) \n",
      "  ..- attr(*, \"class\")= chr \"TextDocumentMeta\"\n",
      " - attr(*, \"class\")= chr [1:2] \"PlainTextDocument\" \"TextDocument\"\n"
     ]
    }
   ],
   "source": [
    "str(myCorpus[[1]])"
   ]
  },
  {
   "cell_type": "code",
   "execution_count": 17,
   "metadata": {
    "collapsed": false
   },
   "outputs": [
    {
     "data": {
      "text/plain": [
       "<<PlainTextDocument (metadata: 7)>>\n",
       "postdoc/research scientist position on big data at mit http://t.co/hz1ojaw2"
      ]
     },
     "execution_count": 17,
     "metadata": {},
     "output_type": "execute_result"
    }
   ],
   "source": [
    "myCorpus[[1]]"
   ]
  },
  {
   "cell_type": "code",
   "execution_count": 18,
   "metadata": {
    "collapsed": false
   },
   "outputs": [],
   "source": [
    "# removed punctuation\n",
    "myCorpus <- tm_map(myCorpus, content_transformer(removePunctuation))"
   ]
  },
  {
   "cell_type": "code",
   "execution_count": 19,
   "metadata": {
    "collapsed": false
   },
   "outputs": [
    {
     "name": "stdout",
     "output_type": "stream",
     "text": [
      "List of 2\n",
      " $ content: chr \"postdocresearch scientist position on big data at mit httptcohz1ojaw2\"\n",
      " $ meta   :List of 7\n",
      "  ..$ author       : chr(0) \n",
      "  ..$ datetimestamp: POSIXlt[1:1], format: \"2015-03-25 09:51:15\"\n",
      "  ..$ description  : chr(0) \n",
      "  ..$ heading      : chr(0) \n",
      "  ..$ id           : chr \"1\"\n",
      "  ..$ language     : chr \"en\"\n",
      "  ..$ origin       : chr(0) \n",
      "  ..- attr(*, \"class\")= chr \"TextDocumentMeta\"\n",
      " - attr(*, \"class\")= chr [1:2] \"PlainTextDocument\" \"TextDocument\"\n"
     ]
    }
   ],
   "source": [
    "str(myCorpus[[1]])"
   ]
  },
  {
   "cell_type": "code",
   "execution_count": 20,
   "metadata": {
    "collapsed": false
   },
   "outputs": [],
   "source": [
    "# removed numbers\n",
    "myCorpus <- tm_map(myCorpus, content_transformer(removeNumbers))"
   ]
  },
  {
   "cell_type": "code",
   "execution_count": 21,
   "metadata": {
    "collapsed": false
   },
   "outputs": [
    {
     "name": "stdout",
     "output_type": "stream",
     "text": [
      "List of 2\n",
      " $ content: chr \"postdocresearch scientist position on big data at mit httptcohzojaw\"\n",
      " $ meta   :List of 7\n",
      "  ..$ author       : chr(0) \n",
      "  ..$ datetimestamp: POSIXlt[1:1], format: \"2015-03-25 09:51:15\"\n",
      "  ..$ description  : chr(0) \n",
      "  ..$ heading      : chr(0) \n",
      "  ..$ id           : chr \"1\"\n",
      "  ..$ language     : chr \"en\"\n",
      "  ..$ origin       : chr(0) \n",
      "  ..- attr(*, \"class\")= chr \"TextDocumentMeta\"\n",
      " - attr(*, \"class\")= chr [1:2] \"PlainTextDocument\" \"TextDocument\"\n"
     ]
    }
   ],
   "source": [
    "str(myCorpus[[1]])"
   ]
  },
  {
   "cell_type": "code",
   "execution_count": 22,
   "metadata": {
    "collapsed": false
   },
   "outputs": [],
   "source": [
    "# remove URL\n",
    "removeURL <- function(x) gsub(\"http[[:alnum:]]*\", \"\", x)\n",
    "myCorpus <- tm_map(myCorpus, content_transformer(removeURL))"
   ]
  },
  {
   "cell_type": "code",
   "execution_count": 23,
   "metadata": {
    "collapsed": false
   },
   "outputs": [
    {
     "name": "stdout",
     "output_type": "stream",
     "text": [
      "List of 2\n",
      " $ content: chr \"postdocresearch scientist position on big data at mit \"\n",
      " $ meta   :List of 7\n",
      "  ..$ author       : chr(0) \n",
      "  ..$ datetimestamp: POSIXlt[1:1], format: \"2015-03-25 09:51:15\"\n",
      "  ..$ description  : chr(0) \n",
      "  ..$ heading      : chr(0) \n",
      "  ..$ id           : chr \"1\"\n",
      "  ..$ language     : chr \"en\"\n",
      "  ..$ origin       : chr(0) \n",
      "  ..- attr(*, \"class\")= chr \"TextDocumentMeta\"\n",
      " - attr(*, \"class\")= chr [1:2] \"PlainTextDocument\" \"TextDocument\"\n"
     ]
    }
   ],
   "source": [
    "str(myCorpus[[1]])"
   ]
  },
  {
   "cell_type": "code",
   "execution_count": 24,
   "metadata": {
    "collapsed": false
   },
   "outputs": [],
   "source": [
    "# add two extra stop words : 'available' and 'via'\n",
    "myStopwords <- c(stopwords(\"english\"), \"available\", \"via\")\n",
    "# remove 'r' and 'big' form stopwords\n",
    "myStopwords <- setdiff(myStopwords, c(\"r\", \"big\"))\n",
    "# remove stopwords from corpus\n",
    "myCorpus <- tm_map(myCorpus,  removeWords, myStopwords)"
   ]
  },
  {
   "cell_type": "code",
   "execution_count": 25,
   "metadata": {
    "collapsed": false
   },
   "outputs": [
    {
     "name": "stdout",
     "output_type": "stream",
     "text": [
      "List of 2\n",
      " $ content: chr \"postdocresearch scientist position  big data  mit \"\n",
      " $ meta   :List of 7\n",
      "  ..$ author       : chr(0) \n",
      "  ..$ datetimestamp: POSIXlt[1:1], format: \"2015-03-25 09:51:15\"\n",
      "  ..$ description  : chr(0) \n",
      "  ..$ heading      : chr(0) \n",
      "  ..$ id           : chr \"1\"\n",
      "  ..$ language     : chr \"en\"\n",
      "  ..$ origin       : chr(0) \n",
      "  ..- attr(*, \"class\")= chr \"TextDocumentMeta\"\n",
      " - attr(*, \"class\")= chr [1:2] \"PlainTextDocument\" \"TextDocument\"\n"
     ]
    }
   ],
   "source": [
    "str(myCorpus[[1]])"
   ]
  },
  {
   "cell_type": "code",
   "execution_count": 26,
   "metadata": {
    "collapsed": false
   },
   "outputs": [],
   "source": [
    "# stem words\n",
    "#myCorpus <- tm_map(myCorpus, stemDocument)"
   ]
  },
  {
   "cell_type": "code",
   "execution_count": 27,
   "metadata": {
    "collapsed": false
   },
   "outputs": [
    {
     "name": "stdout",
     "output_type": "stream",
     "text": [
      "List of 2\n",
      " $ content: chr \"postdocresearch scientist position  big data  mit \"\n",
      " $ meta   :List of 7\n",
      "  ..$ author       : chr(0) \n",
      "  ..$ datetimestamp: POSIXlt[1:1], format: \"2015-03-25 09:51:15\"\n",
      "  ..$ description  : chr(0) \n",
      "  ..$ heading      : chr(0) \n",
      "  ..$ id           : chr \"1\"\n",
      "  ..$ language     : chr \"en\"\n",
      "  ..$ origin       : chr(0) \n",
      "  ..- attr(*, \"class\")= chr \"TextDocumentMeta\"\n",
      " - attr(*, \"class\")= chr [1:2] \"PlainTextDocument\" \"TextDocument\"\n"
     ]
    }
   ],
   "source": [
    "str(myCorpus[[1]])"
   ]
  },
  {
   "cell_type": "code",
   "execution_count": 28,
   "metadata": {
    "collapsed": false
   },
   "outputs": [],
   "source": [
    "# replace \"miners\" with \"mining\"\n",
    "myCorpus <- tm_map(myCorpus, content_transformer(gsub), pattern=\"miners\",\n",
    "                               replacement=\"mining\")"
   ]
  },
  {
   "cell_type": "code",
   "execution_count": 29,
   "metadata": {
    "collapsed": false
   },
   "outputs": [
    {
     "name": "stdout",
     "output_type": "stream",
     "text": [
      "List of 2\n",
      " $ content: chr \"postdocresearch scientist position  big data  mit \"\n",
      " $ meta   :List of 7\n",
      "  ..$ author       : chr(0) \n",
      "  ..$ datetimestamp: POSIXlt[1:1], format: \"2015-03-25 09:51:15\"\n",
      "  ..$ description  : chr(0) \n",
      "  ..$ heading      : chr(0) \n",
      "  ..$ id           : chr \"1\"\n",
      "  ..$ language     : chr \"en\"\n",
      "  ..$ origin       : chr(0) \n",
      "  ..- attr(*, \"class\")= chr \"TextDocumentMeta\"\n",
      " - attr(*, \"class\")= chr [1:2] \"PlainTextDocument\" \"TextDocument\"\n"
     ]
    }
   ],
   "source": [
    "str(myCorpus[[1]])"
   ]
  },
  {
   "cell_type": "markdown",
   "metadata": {},
   "source": [
    "## Temr-Document Matrix 구하기"
   ]
  },
  {
   "cell_type": "code",
   "execution_count": 30,
   "metadata": {
    "collapsed": false
   },
   "outputs": [],
   "source": [
    "tdm <- TermDocumentMatrix(myCorpus, control = list(wordLengths = c(1, Inf)))"
   ]
  },
  {
   "cell_type": "code",
   "execution_count": 31,
   "metadata": {
    "collapsed": false
   },
   "outputs": [
    {
     "data": {
      "text/plain": [
       "<<TermDocumentMatrix (terms: 582, documents: 154)>>\n",
       "Non-/sparse entries: 1191/88437\n",
       "Sparsity           : 99%\n",
       "Maximal term length: 27\n",
       "Weighting          : term frequency (tf)"
      ]
     },
     "execution_count": 31,
     "metadata": {},
     "output_type": "execute_result"
    }
   ],
   "source": [
    "tdm"
   ]
  },
  {
   "cell_type": "markdown",
   "metadata": {
    "collapsed": true
   },
   "source": [
    "# Frequent Words and Associations"
   ]
  },
  {
   "cell_type": "markdown",
   "metadata": {},
   "source": [
    "## 특정 term 찾기"
   ]
  },
  {
   "cell_type": "code",
   "execution_count": 32,
   "metadata": {
    "collapsed": false
   },
   "outputs": [
    {
     "data": {
      "text/plain": [
       "<<TermDocumentMatrix (terms: 582, documents: 154)>>\n",
       "Non-/sparse entries: 1191/88437\n",
       "Sparsity           : 99%\n",
       "Maximal term length: 27\n",
       "Weighting          : term frequency (tf)"
      ]
     },
     "execution_count": 32,
     "metadata": {},
     "output_type": "execute_result"
    }
   ],
   "source": [
    "tdm"
   ]
  },
  {
   "cell_type": "code",
   "execution_count": 33,
   "metadata": {
    "collapsed": false
   },
   "outputs": [
    {
     "name": "stdout",
     "output_type": "stream",
     "text": [
      "List of 2\n",
      " $ Terms: chr [1:582] \"\\034big\" \"access\" \"accessible\" \"acm\" ...\n",
      " $ Docs : chr [1:154] \"1\" \"2\" \"3\" \"4\" ...\n"
     ]
    }
   ],
   "source": [
    "str(dimnames(tdm))"
   ]
  },
  {
   "cell_type": "code",
   "execution_count": 34,
   "metadata": {
    "collapsed": false
   },
   "outputs": [
    {
     "data": {
      "text/plain": [
       "[1] \"\\034big\"                     \"access\"                     \n",
       "[3] \"accessible\"                  \"acm\"                        \n",
       "[5] \"added\"                       \"addictedtorfreefrgraphiques\""
      ]
     },
     "execution_count": 34,
     "metadata": {},
     "output_type": "execute_result"
    }
   ],
   "source": [
    "head(dimnames(tdm)$Terms)"
   ]
  },
  {
   "cell_type": "code",
   "execution_count": 35,
   "metadata": {
    "collapsed": false
   },
   "outputs": [
    {
     "data": {
      "text/plain": [
       "[1] \"1\" \"2\" \"3\" \"4\" \"5\" \"6\""
      ]
     },
     "execution_count": 35,
     "metadata": {},
     "output_type": "execute_result"
    }
   ],
   "source": [
    "head(dimnames(tdm)$Docs)"
   ]
  },
  {
   "cell_type": "markdown",
   "metadata": {},
   "source": [
    "### r로 시작하는 term들 찾기"
   ]
  },
  {
   "cell_type": "code",
   "execution_count": 36,
   "metadata": {
    "collapsed": false
   },
   "outputs": [
    {
     "data": {
      "text/plain": [
       " [1] 401 402 403 404 405 406 407 408 409 410 411 412 413 414 415 416 417 418 419\n",
       "[20] 420 421 422 423 424 425 426 427 428 429 430 431 432 433"
      ]
     },
     "execution_count": 36,
     "metadata": {},
     "output_type": "execute_result"
    }
   ],
   "source": [
    "idx <- grep(\"^r\", dimnames(tdm)$Terms)\n",
    "idx"
   ]
  },
  {
   "cell_type": "code",
   "execution_count": 37,
   "metadata": {
    "collapsed": false
   },
   "outputs": [
    {
     "name": "stdout",
     "output_type": "stream",
     "text": [
      "<<TermDocumentMatrix (terms: 33, documents: 11)>>\n",
      "Non-/sparse entries: 16/347\n",
      "Sparsity           : 96%\n",
      "Maximal term length: 14\n",
      "Weighting          : term frequency (tf)\n",
      "\n",
      "                Docs\n",
      "Terms            100 101 102 103 104 105 106 107 108 109 110\n",
      "  r                1   1   1   0   0   2   0   0   1   1   1\n",
      "  ramachandran     0   0   0   0   0   0   0   0   0   0   0\n",
      "  random           0   0   0   0   0   0   0   0   0   0   0\n",
      "  ranked           0   0   0   0   0   0   0   0   0   1   0\n",
      "  rapidminer       0   1   0   0   0   0   0   0   0   0   0\n",
      "  rdatamining      0   0   0   0   0   0   0   0   1   0   0\n",
      "  rdataminingcom   0   0   0   0   0   0   0   0   0   0   0\n",
      "  realworld        0   0   0   0   1   0   0   0   0   0   0\n",
      "  recent           0   0   0   0   0   0   0   0   1   1   0\n",
      "  recipe           0   0   0   0   0   0   0   0   0   0   0\n",
      "  recommendation   0   0   0   0   0   0   1   0   0   0   0\n",
      "  recruiting       0   0   0   0   0   0   0   0   0   0   0\n",
      "  reelection       0   0   0   0   0   0   0   0   0   0   0\n",
      "  reference        0   0   0   0   0   0   0   0   0   0   0\n",
      "  regression       0   0   0   0   0   0   0   0   0   0   0\n",
      "  repository       0   0   0   0   0   0   0   0   0   0   0\n",
      "  research         0   0   0   0   1   0   0   0   0   0   0\n",
      "  researcher       0   0   0   0   0   0   0   0   0   0   0\n",
      "  reshape          0   0   0   0   0   0   0   0   0   0   0\n",
      "  resources        0   0   0   0   0   0   0   0   0   0   0\n",
      "  restructuring    0   0   0   0   0   0   0   0   0   0   0\n",
      "  result           0   0   0   0   0   0   0   0   0   0   0\n",
      "  retrieval        0   0   0   0   0   0   0   1   0   0   0\n",
      "  reviewers        0   0   0   0   0   0   0   0   0   0   0\n",
      "  rhelp            0   0   0   0   0   0   0   0   0   0   0\n",
      "  risk             0   0   0   0   0   0   0   0   0   0   0\n",
      "  rlof             0   0   0   0   0   0   0   0   0   0   0\n",
      "  rmr              0   0   0   0   0   0   0   0   0   0   0\n",
      "  rocr             0   0   0   0   0   0   0   0   0   0   0\n",
      "  ross             0   0   0   0   0   0   0   0   0   0   0\n",
      "  routines         0   0   0   0   0   0   0   0   0   0   0\n",
      "  rstudio          0   0   0   0   0   0   0   0   0   0   0\n",
      "  rules            0   0   0   0   0   0   0   0   0   0   0\n"
     ]
    }
   ],
   "source": [
    "inspect(tdm[idx , 100:110])"
   ]
  },
  {
   "cell_type": "markdown",
   "metadata": {},
   "source": [
    "## 빈도 높은 term 찾기"
   ]
  },
  {
   "cell_type": "code",
   "execution_count": 38,
   "metadata": {
    "collapsed": false
   },
   "outputs": [
    {
     "data": {
      "text/plain": [
       "[1] \"analysis\" \"data\"     \"examples\" \"mining\"   \"network\"  \"package\"  \"r\"       \n",
       "[8] \"slides\"  "
      ]
     },
     "execution_count": 38,
     "metadata": {},
     "output_type": "execute_result"
    }
   ],
   "source": [
    "# inspect frequet words\n",
    "(freq.terms <- findFreqTerms(tdm, lowfreq=15))"
   ]
  },
  {
   "cell_type": "markdown",
   "metadata": {},
   "source": [
    "### data.frame 객체로 만들기 "
   ]
  },
  {
   "cell_type": "code",
   "execution_count": 39,
   "metadata": {
    "collapsed": true
   },
   "outputs": [],
   "source": [
    "term.freq <- rowSums(as.matrix(tdm))"
   ]
  },
  {
   "cell_type": "code",
   "execution_count": 41,
   "metadata": {
    "collapsed": false
   },
   "outputs": [
    {
     "data": {
      "text/plain": [
       "                    \\034big                      access \n",
       "                          1                           2 \n",
       "                 accessible                         acm \n",
       "                          1                           1 \n",
       "                      added addictedtorfreefrgraphiques \n",
       "                          2                           1 "
      ]
     },
     "execution_count": 41,
     "metadata": {},
     "output_type": "execute_result"
    }
   ],
   "source": [
    "head(term.freq)"
   ]
  },
  {
   "cell_type": "code",
   "execution_count": 50,
   "metadata": {
    "collapsed": false
   },
   "outputs": [
    {
     "data": {
      "text/plain": [
       "analysis     data examples   mining  network  package        r   slides \n",
       "      23       63       15       52       15       17       83       16 "
      ]
     },
     "execution_count": 50,
     "metadata": {},
     "output_type": "execute_result"
    }
   ],
   "source": [
    "term.freq <- subset(term.freq, term.freq >= 15)\n",
    "term.freq"
   ]
  },
  {
   "cell_type": "code",
   "execution_count": 45,
   "metadata": {
    "collapsed": false
   },
   "outputs": [
    {
     "data": {
      "text/plain": [
       "             term freq\n",
       "analysis analysis   23\n",
       "data         data   63\n",
       "examples examples   15\n",
       "mining     mining   52\n",
       "network   network   15\n",
       "package   package   17\n",
       "r               r   83\n",
       "slides     slides   16"
      ]
     },
     "execution_count": 45,
     "metadata": {},
     "output_type": "execute_result"
    }
   ],
   "source": [
    "df <- data.frame(term = names(term.freq), freq = term.freq)\n",
    "df"
   ]
  },
  {
   "cell_type": "markdown",
   "metadata": {},
   "source": [
    "### 빈도높은 단어들 그래프로 그리기"
   ]
  },
  {
   "cell_type": "code",
   "execution_count": 53,
   "metadata": {
    "collapsed": false
   },
   "outputs": [],
   "source": [
    "library(ggplot2)"
   ]
  },
  {
   "cell_type": "code",
   "execution_count": 54,
   "metadata": {
    "collapsed": false
   },
   "outputs": [
    {
     "data": {
      "text/plain": []
     },
     "execution_count": 54,
     "metadata": {},
     "output_type": "execute_result"
    },
    {
     "data": {
      "image/png": "[encoded data removed]"
     },
     "metadata": {},
     "output_type": "display_data"
    }
   ],
   "source": [
    "ggplot(df, aes(x=term, y=freq)) + \n",
    "    geom_bar(stat = \"identity\") + \n",
    "    xlab(\"Terms\") + ylab(\"Count\") + coord_flip()"
   ]
  },
  {
   "cell_type": "markdown",
   "metadata": {},
   "source": [
    "## 연관 term 찾기"
   ]
  },
  {
   "cell_type": "code",
   "execution_count": 55,
   "metadata": {
    "collapsed": false
   },
   "outputs": [
    {
     "data": {
      "text/plain": [
       "             r\n",
       "packages  0.35\n",
       "users     0.30\n",
       "canberra  0.26\n",
       "cran      0.26\n",
       "many      0.26\n",
       "card      0.24\n",
       "functions 0.24\n",
       "reference 0.24\n",
       "see       0.24\n",
       "examples  0.23"
      ]
     },
     "execution_count": 55,
     "metadata": {},
     "output_type": "execute_result"
    }
   ],
   "source": [
    "# which words are associated with 'r' ?\n",
    "findAssocs(tdm, \"r\", 0.2)"
   ]
  },
  {
   "cell_type": "code",
   "execution_count": 56,
   "metadata": {
    "collapsed": false
   },
   "outputs": [
    {
     "data": {
      "text/plain": [
       "               mining\n",
       "data             0.55\n",
       "mahout           0.39\n",
       "recommendation   0.39\n",
       "sets             0.39\n",
       "supports         0.39\n",
       "frequent         0.35\n",
       "itemset          0.34\n",
       "card             0.29\n",
       "reference        0.29\n",
       "functions        0.27\n",
       "classification   0.26\n",
       "experience       0.26\n",
       "lecture          0.26\n",
       "text             0.26"
      ]
     },
     "execution_count": 56,
     "metadata": {},
     "output_type": "execute_result"
    }
   ],
   "source": [
    "# which words are associated with 'mining' ?\n",
    "findAssocs(tdm, \"mining\", 0.25)"
   ]
  },
  {
   "cell_type": "markdown",
   "metadata": {},
   "source": [
    "## 연관 관계 그래프로 그려보기"
   ]
  },
  {
   "cell_type": "code",
   "execution_count": 62,
   "metadata": {
    "collapsed": false
   },
   "outputs": [],
   "source": [
    "# source(\"http://bioconductor.org/biocLite.R\")\n",
    "# bioLite(\"graph\")\n",
    "# biocLite(\"Rgraphviz\")\n",
    "library(graph)\n",
    "library(Rgraphviz)"
   ]
  },
  {
   "cell_type": "code",
   "execution_count": 63,
   "metadata": {
    "collapsed": false
   },
   "outputs": [
    {
     "data": {
      "image/png": "[encoded data removed]"
     },
     "metadata": {},
     "output_type": "display_data"
    }
   ],
   "source": [
    "plot(tdm, term=freq.terms, corThreshold=0.12, weighting=T)"
   ]
  },
  {
   "cell_type": "markdown",
   "metadata": {},
   "source": [
    "# Word Cloud"
   ]
  },
  {
   "cell_type": "code",
   "execution_count": 65,
   "metadata": {
    "collapsed": false
   },
   "outputs": [],
   "source": [
    "library(wordcloud)"
   ]
  },
  {
   "cell_type": "code",
   "execution_count": 66,
   "metadata": {
    "collapsed": true
   },
   "outputs": [],
   "source": [
    "m <- as.matrix(tdm)"
   ]
  },
  {
   "cell_type": "code",
   "execution_count": 67,
   "metadata": {
    "collapsed": true
   },
   "outputs": [],
   "source": [
    "# calcuate the frequency of words and sort it by frquency\n",
    "word.freq <- sort(rowSums(m), decreasing = T)"
   ]
  },
  {
   "cell_type": "code",
   "execution_count": 68,
   "metadata": {
    "collapsed": false
   },
   "outputs": [
    {
     "data": {
      "image/png": "[encoded data removed]"
     },
     "metadata": {},
     "output_type": "display_data"
    }
   ],
   "source": [
    "wordcloud(words = names(word.freq), freq=word.freq, min.freq=3, random.order=F)"
   ]
  },
  {
   "cell_type": "markdown",
   "metadata": {},
   "source": [
    "# Clustering"
   ]
  },
  {
   "cell_type": "markdown",
   "metadata": {},
   "source": [
    "## 계층적 클러스터링"
   ]
  },
  {
   "cell_type": "code",
   "execution_count": 71,
   "metadata": {
    "collapsed": false
   },
   "outputs": [],
   "source": [
    "# remove sparse terms\n",
    "tdm2 <- removeSparseTerms(tdm, sparse=0.95)\n",
    "m2 <- as.matrix(tdm2)"
   ]
  },
  {
   "cell_type": "code",
   "execution_count": 97,
   "metadata": {
    "collapsed": false
   },
   "outputs": [
    {
     "name": "stdout",
     "output_type": "stream",
     "text": [
      "List of 6\n",
      " $ i       : int [1:343] 3 3 11 2 9 10 2 8 9 10 ...\n",
      " $ j       : int [1:343] 1 2 2 3 3 3 4 4 4 4 ...\n",
      " $ v       : num [1:343] 1 1 1 1 1 1 1 1 1 1 ...\n",
      " $ nrow    : int 17\n",
      " $ ncol    : int 154\n",
      " $ dimnames:List of 2\n",
      "  ..$ Terms: chr [1:17] \"analysis\" \"computing\" \"data\" \"examples\" ...\n",
      "  ..$ Docs : chr [1:154] \"1\" \"2\" \"3\" \"4\" ...\n",
      " - attr(*, \"class\")= chr [1:2] \"TermDocumentMatrix\" \"simple_triplet_matrix\"\n",
      " - attr(*, \"weighting\")= chr [1:2] \"term frequency\" \"tf\"\n"
     ]
    }
   ],
   "source": [
    "str(tdm2)"
   ]
  },
  {
   "cell_type": "code",
   "execution_count": 72,
   "metadata": {
    "collapsed": true
   },
   "outputs": [],
   "source": [
    "# cluster terms\n",
    "distMatrix <- dist(scale(m2))"
   ]
  },
  {
   "cell_type": "code",
   "execution_count": 75,
   "metadata": {
    "collapsed": false
   },
   "outputs": [],
   "source": [
    "fit <- hclust(distMatrix, method=\"ward.D2\")"
   ]
  },
  {
   "cell_type": "code",
   "execution_count": 77,
   "metadata": {
    "collapsed": false
   },
   "outputs": [
    {
     "data": {
      "image/png": "[encoded data removed]"
     },
     "metadata": {},
     "output_type": "display_data"
    },
    {
     "data": {
      "image/png": "[encoded data removed]"
     },
     "metadata": {},
     "output_type": "display_data"
    }
   ],
   "source": [
    "plot(fit)\n",
    "rect.hclust(fit, k=6)"
   ]
  },
  {
   "cell_type": "markdown",
   "metadata": {},
   "source": [
    "## K-means 클러스터링"
   ]
  },
  {
   "cell_type": "code",
   "execution_count": 79,
   "metadata": {
    "collapsed": true
   },
   "outputs": [],
   "source": [
    "# transpose the matrix to cluster documents (tweets)\n",
    "m3 <- t(m2)"
   ]
  },
  {
   "cell_type": "code",
   "execution_count": 80,
   "metadata": {
    "collapsed": false
   },
   "outputs": [
    {
     "data": {
      "text/plain": [
       "              Docs\n",
       "Terms          1 2 3 4 5 6 7 8 9 10 11 12 13 14 15 16 17 18 19 20 21 22 23 24\n",
       "  analysis     0 0 0 0 0 0 0 0 0  0  0  0  0  0  0  1  0  1  1  1  1  0  0  1\n",
       "  computing    0 0 1 1 0 1 1 1 1  1  0  1  0  0  0  0  0  0  0  0  0  0  0  0\n",
       "  data         1 1 0 0 2 0 0 0 0  0  1  2  1  1  1  0  1  0  0  0  0  0  0  0\n",
       "  examples     0 0 0 0 0 0 0 0 0  0  0  0  0  0  0  0  0  0  0  0  0  0  0  0\n",
       "  introduction 0 0 0 0 0 0 0 0 0  0  0  0  0  0  0  0  0  0  0  1  0  0  0  0\n",
       "  mining       0 0 0 0 0 0 0 0 0  0  0  1  1  0  1  0  0  0  0  0  0  0  0  0\n",
       "              Docs\n",
       "Terms          25 26 27 28 29 30 31 32 33 34 35 36 37 38 39 40 41 42 43 44 45\n",
       "  analysis      0  0  1  1  1  1  0  0  0  0  0  0  0  1  0  0  0  0  0  0  0\n",
       "  computing     0  0  0  0  0  0  0  0  0  0  0  0  0  0  0  0  1  0  0  0  0\n",
       "  data          0  0  0  1  0  0  0  1  0  0  1  1  0  0  0  0  0  1  0  0  1\n",
       "  examples      0  0  0  0  0  1  0  0  0  0  0  0  1  0  0  0  0  0  0  0  0\n",
       "  introduction  0  0  0  0  0  0  1  0  0  0  0  0  0  0  0  0  0  0  0  0  0\n",
       "  mining        0  0  0  0  0  0  0  0  0  0  1  1  0  0  0  0  0  1  1  0  1\n",
       "              Docs\n",
       "Terms          46 47 48 49 50 51 52 53 54 55 56 57 58 59 60 61 62 63 64 65 66\n",
       "  analysis      0  0  0  0  0  0  0  0  0  0  0  0  0  0  0  0  0  0  0  0  0\n",
       "  computing     0  0  0  0  0  0  0  0  0  0  0  0  0  0  0  0  0  0  0  0  0\n",
       "  data          1  1  0  0  1  0  0  0  1  1  0  0  1  1  0  1  0  1  0  1  1\n",
       "  examples      0  1  0  0  0  0  0  0  0  0  1  0  0  0  0  0  0  0  0  0  0\n",
       "  introduction  0  0  0  0  0  0  1  0  0  0  0  0  0  0  0  0  1  0  0  0  0\n",
       "  mining        1  0  0  0  1  0  0  0  0  1  0  0  0  1  0  1  1  1  0  1  1\n",
       "              Docs\n",
       "Terms          67 68 69 70 71 72 73 74 75 76 77 78 79 80 81 82 83 84 85 86 87\n",
       "  analysis      0  0  1  0  0  0  0  0  0  0  0  0  0  1  0  0  0  0  0  0  0\n",
       "  computing     0  0  0  0  0  0  0  0  0  0  0  0  0  0  0  0  0  0  0  0  0\n",
       "  data          0  0  0  1  0  0  0  1  0  0  0  2  0  0  0  0  1  0  0  0  0\n",
       "  examples      0  0  0  0  0  0  0  1  0  0  1  0  0  0  0  0  0  0  0  0  0\n",
       "  introduction  0  0  0  0  0  0  0  0  0  0  0  0  0  0  0  0  0  0  0  0  0\n",
       "  mining        0  0  0  1  0  0  1  0  0  1  0  1  0  1  0  0  1  0  0  1  1\n",
       "              Docs\n",
       "Terms          88 89 90 91 92 93 94 95 96 97 98 99 100 101 102 103 104 105 106\n",
       "  analysis      0  0  0  0  0  0  1  0  0  1  0  0   0   1   0   0   0   0   0\n",
       "  computing     0  0  0  0  0  0  0  0  0  0  0  0   0   0   0   0   0   0   0\n",
       "  data          1  0  1  0  0  1  0  0  0  1  0  0   0   0   0   0   3   0   1\n",
       "  examples      0  0  0  0  1  0  1  0  0  0  0  0   0   0   0   0   0   1   0\n",
       "  introduction  0  0  0  0  1  0  0  0  1  0  0  0   0   0   0   0   0   0   0\n",
       "  mining        1  0  1  0  0  1  0  0  0  0  0  0   0   0   0   0   1   0   3\n",
       "              Docs\n",
       "Terms          107 108 109 110 111 112 113 114 115 116 117 118 119 120 121 122\n",
       "  analysis       0   1   0   0   0   0   0   0   0   0   0   0   0   0   1   0\n",
       "  computing      0   0   0   0   0   0   0   0   0   0   0   0   0   0   0   0\n",
       "  data           0   0   1   0   0   0   0   1   0   0   1   0   1   0   1   0\n",
       "  examples       0   1   0   0   0   1   0   0   0   0   1   0   1   0   1   0\n",
       "  introduction   1   0   0   0   0   0   0   0   0   0   0   0   0   0   1   0\n",
       "  mining         0   1   0   0   0   0   0   0   0   0   1   0   1   1   0   0\n",
       "              Docs\n",
       "Terms          123 124 125 126 127 128 129 130 131 132 133 134 135 136 137 138\n",
       "  analysis       0   0   0   1   1   1   0   0   0   0   0   0   0   0   0   0\n",
       "  computing      0   0   0   0   0   0   0   0   0   0   0   0   0   0   0   0\n",
       "  data           1   1   0   0   0   0   0   0   0   0   1   0   0   0   0   1\n",
       "  examples       0   0   0   0   0   0   1   0   0   0   0   0   0   0   0   0\n",
       "  introduction   0   0   1   0   0   0   0   0   0   0   0   0   0   0   0   0\n",
       "  mining         0   1   0   1   0   1   1   0   0   1   1   0   0   0   0   1\n",
       "              Docs\n",
       "Terms          139 140 141 142 143 144 145 146 147 148 149 150 151 152 153 154\n",
       "  analysis       0   0   0   0   0   0   0   1   0   0   0   0   0   0   1   0\n",
       "  computing      0   0   0   0   0   0   0   0   0   0   0   0   0   0   0   0\n",
       "  data           2   0   0   0   2   0   2   1   0   0   2   0   1   1   0   2\n",
       "  examples       0   0   0   0   0   0   0   0   0   0   0   0   0   0   0   0\n",
       "  introduction   1   0   0   0   0   0   0   0   0   0   0   0   0   0   0   0\n",
       "  mining         2   0   0   0   1   0   0   0   0   0   2   0   1   1   0   2"
      ]
     },
     "execution_count": 80,
     "metadata": {},
     "output_type": "execute_result"
    }
   ],
   "source": [
    "head(m2)"
   ]
  },
  {
   "cell_type": "code",
   "execution_count": 81,
   "metadata": {
    "collapsed": false
   },
   "outputs": [
    {
     "data": {
      "text/plain": [
       "    Terms\n",
       "Docs analysis computing data examples introduction mining network package\n",
       "   1        0         0    1        0            0      0       0       0\n",
       "   2        0         0    1        0            0      0       0       0\n",
       "   3        0         1    0        0            0      0       0       0\n",
       "   4        0         1    0        0            0      0       0       1\n",
       "   5        0         0    2        0            0      0       0       1\n",
       "   6        0         1    0        0            0      0       0       0\n",
       "    Terms\n",
       "Docs parallel r research series slides social time tutorial using\n",
       "   1        0 0        0      0      0      0    0        0     0\n",
       "   2        0 0        1      0      0      0    0        0     0\n",
       "   3        1 1        0      0      0      0    0        0     0\n",
       "   4        1 1        0      0      0      0    0        1     1\n",
       "   5        0 1        0      0      0      0    0        0     1\n",
       "   6        1 1        0      0      0      0    0        0     1"
      ]
     },
     "execution_count": 81,
     "metadata": {},
     "output_type": "execute_result"
    }
   ],
   "source": [
    "head(m3)"
   ]
  },
  {
   "cell_type": "code",
   "execution_count": 82,
   "metadata": {
    "collapsed": true
   },
   "outputs": [],
   "source": [
    "set.seed(122)\n",
    "k <- 6 \n",
    "kmeansResult <- kmeans(m3, k)"
   ]
  },
  {
   "cell_type": "code",
   "execution_count": 84,
   "metadata": {
    "collapsed": false
   },
   "outputs": [
    {
     "name": "stdout",
     "output_type": "stream",
     "text": [
      "List of 9\n",
      " $ cluster     : Named int [1:154] 5 5 4 4 6 4 4 4 4 4 ...\n",
      "  ..- attr(*, \"names\")= chr [1:154] \"1\" \"2\" \"3\" \"4\" ...\n",
      " $ centers     : num [1:6, 1:17] 0.1351 0 0.9231 0 0.0423 ...\n",
      "  ..- attr(*, \"dimnames\")=List of 2\n",
      "  .. ..$ : chr [1:6] \"1\" \"2\" \"3\" \"4\" ...\n",
      "  .. ..$ : chr [1:17] \"analysis\" \"computing\" \"data\" \"examples\" ...\n",
      " $ totss       : num 336\n",
      " $ withinss    : num [1:6] 48.43 25.88 14.46 5.62 83.63 ...\n",
      " $ tot.withinss: num 189\n",
      " $ betweenss   : num 147\n",
      " $ size        : int [1:6] 37 17 13 8 71 8\n",
      " $ iter        : int 3\n",
      " $ ifault      : int 0\n",
      " - attr(*, \"class\")= chr \"kmeans\"\n"
     ]
    }
   ],
   "source": [
    "str(kmeansResult)"
   ]
  },
  {
   "cell_type": "code",
   "execution_count": 83,
   "metadata": {
    "collapsed": false
   },
   "outputs": [
    {
     "data": {
      "text/plain": [
       "$cluster\n",
       "  1   2   3   4   5   6   7   8   9  10  11  12  13  14  15  16  17  18  19  20 \n",
       "  5   5   4   4   6   4   4   4   4   4   5   2   5   5   5   3   5   3   3   3 \n",
       " 21  22  23  24  25  26  27  28  29  30  31  32  33  34  35  36  37  38  39  40 \n",
       "  3   1   5   3   1   5   3   6   3   3   3   5   1   5   2   2   5   5   5   5 \n",
       " 41  42  43  44  45  46  47  48  49  50  51  52  53  54  55  56  57  58  59  60 \n",
       "  4   2   5   5   5   5   5   5   5   5   5   5   5   5   2   5   5   5   5   5 \n",
       " 61  62  63  64  65  66  67  68  69  70  71  72  73  74  75  76  77  78  79  80 \n",
       "  5   5   5   1   5   5   1   1   3   5   5   5   1   6   1   5   1   2   5   3 \n",
       " 81  82  83  84  85  86  87  88  89  90  91  92  93  94  95  96  97  98  99 100 \n",
       "  5   1   5   1   1   5   5   5   5   5   1   1   5   1   1   5   5   5   5   1 \n",
       "101 102 103 104 105 106 107 108 109 110 111 112 113 114 115 116 117 118 119 120 \n",
       "  1   1   5   2   1   2   5   1   6   1   5   1   1   6   5   5   2   1   2   1 \n",
       "121 122 123 124 125 126 127 128 129 130 131 132 133 134 135 136 137 138 139 140 \n",
       "  6   1   5   5   5   1   5   1   1   5   1   5   5   5   5   1   1   2   2   1 \n",
       "141 142 143 144 145 146 147 148 149 150 151 152 153 154 \n",
       "  1   1   2   5   6   6   1   5   2   5   2   2   3   2 \n",
       "\n",
       "$centers\n",
       "    analysis  computing      data   examples introduction     mining    network\n",
       "1 0.13513514 0.00000000 0.0000000 0.18918919   0.02702703 0.16216216 0.05405405\n",
       "2 0.00000000 0.05882353 1.4705882 0.11764706   0.05882353 1.29411765 0.00000000\n",
       "3 0.92307692 0.00000000 0.0000000 0.07692308   0.15384615 0.07692308 1.00000000\n",
       "4 0.00000000 1.00000000 0.0000000 0.00000000   0.00000000 0.00000000 0.00000000\n",
       "5 0.04225352 0.00000000 0.3943662 0.04225352   0.07042254 0.32394366 0.00000000\n",
       "6 0.37500000 0.00000000 1.2500000 0.25000000   0.12500000 0.00000000 0.00000000\n",
       "     package   parallel         r   research     series     slides     social\n",
       "1 0.13513514 0.00000000 1.2972973 0.00000000 0.10810811 0.16216216 0.00000000\n",
       "2 0.11764706 0.05882353 0.9411765 0.05882353 0.00000000 0.05882353 0.00000000\n",
       "3 0.07692308 0.00000000 0.2307692 0.07692308 0.00000000 0.07692308 0.76923077\n",
       "4 0.12500000 0.75000000 1.0000000 0.00000000 0.00000000 0.12500000 0.00000000\n",
       "5 0.08450704 0.01408451 0.0000000 0.14084507 0.04225352 0.08450704 0.02816901\n",
       "6 0.25000000 0.00000000 1.0000000 0.00000000 0.12500000 0.12500000 0.00000000\n",
       "        time   tutorial      using\n",
       "1 0.10810811 0.10810811 0.08108108\n",
       "2 0.00000000 0.00000000 0.05882353\n",
       "3 0.00000000 0.15384615 0.07692308\n",
       "4 0.00000000 0.12500000 0.25000000\n",
       "5 0.04225352 0.08450704 0.01408451\n",
       "6 0.12500000 0.00000000 0.25000000\n",
       "\n",
       "$totss\n",
       "[1] 336\n",
       "\n",
       "$withinss\n",
       "[1] 48.43243 25.88235 14.46154  5.62500 83.63380 11.37500\n",
       "\n",
       "$tot.withinss\n",
       "[1] 189.4101\n",
       "\n",
       "$betweenss\n",
       "[1] 146.5899\n"
      ]
     },
     "execution_count": 83,
     "metadata": {},
     "output_type": "execute_result"
    }
   ],
   "source": [
    "head(kmeansResult)"
   ]
  },
  {
   "cell_type": "code",
   "execution_count": 85,
   "metadata": {
    "collapsed": false
   },
   "outputs": [
    {
     "data": {
      "text/plain": [
       "  analysis computing  data examples introduction mining network package\n",
       "1    0.135     0.000 0.000    0.189        0.027  0.162   0.054   0.135\n",
       "2    0.000     0.059 1.471    0.118        0.059  1.294   0.000   0.118\n",
       "3    0.923     0.000 0.000    0.077        0.154  0.077   1.000   0.077\n",
       "4    0.000     1.000 0.000    0.000        0.000  0.000   0.000   0.125\n",
       "5    0.042     0.000 0.394    0.042        0.070  0.324   0.000   0.085\n",
       "6    0.375     0.000 1.250    0.250        0.125  0.000   0.000   0.250\n",
       "  parallel     r research series slides social  time tutorial using\n",
       "1    0.000 1.297    0.000  0.108  0.162  0.000 0.108    0.108 0.081\n",
       "2    0.059 0.941    0.059  0.000  0.059  0.000 0.000    0.000 0.059\n",
       "3    0.000 0.231    0.077  0.000  0.077  0.769 0.000    0.154 0.077\n",
       "4    0.750 1.000    0.000  0.000  0.125  0.000 0.000    0.125 0.250\n",
       "5    0.014 0.000    0.141  0.042  0.085  0.028 0.042    0.085 0.014\n",
       "6    0.000 1.000    0.000  0.125  0.125  0.000 0.125    0.000 0.250"
      ]
     },
     "execution_count": 85,
     "metadata": {},
     "output_type": "execute_result"
    }
   ],
   "source": [
    "# cluster centers\n",
    "round(kmeansResult$centers, digits = 3)"
   ]
  },
  {
   "cell_type": "code",
   "execution_count": 98,
   "metadata": {
    "collapsed": false
   },
   "outputs": [
    {
     "name": "stdout",
     "output_type": "stream",
     "text": [
      "cluster 1: r examples mining slides analysis \n",
      "cluster 2: data mining r examples package \n",
      "cluster 3: network analysis social r introduction \n",
      "cluster 4: computing r parallel using package \n",
      "cluster 5: data mining research package slides \n",
      "cluster 6: data r analysis examples package \n"
     ]
    }
   ],
   "source": [
    "for (i in 1:k) {\n",
    "    cat(paste(\"cluster \", i, \": \", sep = \"\"))\n",
    "    s <- sort(kmeansResult$centers[i,], decreasing = T)\n",
    "    cat(names(s)[1:5], \"\\n\")\n",
    "}"
   ]
  },
  {
   "cell_type": "markdown",
   "metadata": {},
   "source": [
    "## k-medoids clustering"
   ]
  },
  {
   "cell_type": "code",
   "execution_count": 100,
   "metadata": {
    "collapsed": false
   },
   "outputs": [],
   "source": [
    "library(fpc)"
   ]
  },
  {
   "cell_type": "code",
   "execution_count": 101,
   "metadata": {
    "collapsed": true
   },
   "outputs": [],
   "source": [
    "# partitioning around medoids with estimation of number of clusters\n",
    "pamResult <- pamk(m3, metric=\"manhattan\")"
   ]
  },
  {
   "cell_type": "code",
   "execution_count": 102,
   "metadata": {
    "collapsed": false
   },
   "outputs": [
    {
     "name": "stdout",
     "output_type": "stream",
     "text": [
      "List of 3\n",
      " $ pamobject:List of 10\n",
      "  ..$ medoids   : num [1:10, 1:17] 0 0 0 0 1 0 0 0 0 1 ...\n",
      "  .. ..- attr(*, \"dimnames\")=List of 2\n",
      "  .. .. ..$ Docs : chr [1:10] \"32\" \"9\" \"109\" \"133\" ...\n",
      "  .. .. ..$ Terms: chr [1:17] \"analysis\" \"computing\" \"data\" \"examples\" ...\n",
      "  ..$ id.med    : int [1:10] 32 9 109 133 27 147 150 151 142 128\n",
      "  ..$ clustering: Named int [1:154] 1 1 2 2 3 2 2 2 2 2 ...\n",
      "  .. ..- attr(*, \"names\")= chr [1:154] \"1\" \"2\" \"3\" \"4\" ...\n",
      "  ..$ objective : Named num [1:2] 1.01 1.01\n",
      "  .. ..- attr(*, \"names\")= chr [1:2] \"build\" \"swap\"\n",
      "  ..$ isolation : Factor w/ 3 levels \"no\",\"L\",\"L*\": 1 1 1 1 1 1 1 1 1 1\n",
      "  .. ..- attr(*, \"names\")= chr [1:10] \"1\" \"2\" \"3\" \"4\" ...\n",
      "  ..$ clusinfo  : num [1:10, 1:5] 11 9 8 26 13 25 36 13 9 4 ...\n",
      "  .. ..- attr(*, \"dimnames\")=List of 2\n",
      "  .. .. ..$ : NULL\n",
      "  .. .. ..$ : chr [1:5] \"size\" \"max_diss\" \"av_diss\" \"diameter\" ...\n",
      "  ..$ silinfo   :List of 3\n",
      "  .. ..$ widths         : num [1:154, 1:3] 1 1 1 1 1 1 1 1 1 1 ...\n",
      "  .. .. ..- attr(*, \"dimnames\")=List of 2\n",
      "  .. .. .. ..$ : chr [1:154] \"2\" \"17\" \"1\" \"14\" ...\n",
      "  .. .. .. ..$ : chr [1:3] \"cluster\" \"neighbor\" \"sil_width\"\n",
      "  .. ..$ clus.avg.widths: num [1:10] 0.395 0.3315 0.0247 0.3963 0.3936 ...\n",
      "  .. ..$ avg.width      : num 0.37\n",
      "  ..$ diss      : NULL\n",
      "  ..$ call      : language pam(x = sdata, k = k, diss = diss, metric = \"manhattan\")\n",
      "  ..$ data      : num [1:154, 1:17] 0 0 0 0 0 0 0 0 0 0 ...\n",
      "  .. ..- attr(*, \"dimnames\")=List of 2\n",
      "  .. .. ..$ Docs : chr [1:154] \"1\" \"2\" \"3\" \"4\" ...\n",
      "  .. .. ..$ Terms: chr [1:17] \"analysis\" \"computing\" \"data\" \"examples\" ...\n",
      "  ..- attr(*, \"class\")= chr [1:2] \"pam\" \"partition\"\n",
      " $ nc       : int 10\n",
      " $ crit     : num [1:10] 0 0.283 0.267 0.263 0.254 ...\n"
     ]
    }
   ],
   "source": [
    "str(pamResult)"
   ]
  },
  {
   "cell_type": "code",
   "execution_count": 104,
   "metadata": {
    "collapsed": false
   },
   "outputs": [
    {
     "data": {
      "text/plain": [
       "[1] 10"
      ]
     },
     "execution_count": 104,
     "metadata": {},
     "output_type": "execute_result"
    }
   ],
   "source": [
    "# number of clusters identified\n",
    "k <- pamResult$nc\n",
    "k"
   ]
  },
  {
   "cell_type": "code",
   "execution_count": 106,
   "metadata": {
    "collapsed": false
   },
   "outputs": [],
   "source": [
    "pamResult <- pamResult$pamobject"
   ]
  },
  {
   "cell_type": "code",
   "execution_count": 107,
   "metadata": {
    "collapsed": false
   },
   "outputs": [
    {
     "data": {
      "text/plain": [
       "Medoids:\n",
       "     ID analysis computing data examples introduction mining network package\n",
       "32   32        0         0    1        0            0      0       0       0\n",
       "9     9        0         1    0        0            0      0       0       0\n",
       "109 109        0         0    1        0            0      0       0       0\n",
       "133 133        0         0    1        0            0      1       0       0\n",
       "27   27        1         0    0        0            0      0       1       0\n",
       "147 147        0         0    0        0            0      0       0       0\n",
       "150 150        0         0    0        0            0      0       0       0\n",
       "151 151        0         0    1        0            0      1       0       0\n",
       "142 142        0         0    0        0            0      0       0       0\n",
       "128 128        1         0    0        0            0      1       0       0\n",
       "    parallel r research series slides social time tutorial using\n",
       "32         0 0        0      0      0      0    0        0     0\n",
       "9          1 1        0      0      0      0    0        0     0\n",
       "109        0 1        0      0      0      0    0        0     0\n",
       "133        0 0        0      0      0      0    0        0     0\n",
       "27         0 0        0      0      0      1    0        0     0\n",
       "147        0 1        0      0      0      0    0        0     0\n",
       "150        0 0        0      0      0      0    0        0     0\n",
       "151        0 1        0      0      0      0    0        0     0\n",
       "142        0 2        0      0      0      0    0        0     0\n",
       "128        0 2        0      1      0      0    1        0     0\n",
       "Clustering vector:\n",
       "  1   2   3   4   5   6   7   8   9  10  11  12  13  14  15  16  17  18  19  20 \n",
       "  1   1   2   2   3   2   2   2   2   2   1   2   4   1   4   5   1   5   5   5 \n",
       " 21  22  23  24  25  26  27  28  29  30  31  32  33  34  35  36  37  38  39  40 \n",
       "  5   6   7   5   6   7   5   3   5   5   5   1   6   7   8   8   7   7   7   7 \n",
       " 41  42  43  44  45  46  47  48  49  50  51  52  53  54  55  56  57  58  59  60 \n",
       "  2   8   4   7   4   4   1   7   7   4   7   7   7   1   8   7   7   1   4   7 \n",
       " 61  62  63  64  65  66  67  68  69  70  71  72  73  74  75  76  77  78  79  80 \n",
       "  4   4   4   6   4   4   9   6   5   4   7   7   6   3   6   4   6   8   7   5 \n",
       " 81  82  83  84  85  86  87  88  89  90  91  92  93  94  95  96  97  98  99 100 \n",
       "  7   6   4   6   6   4   4   4   7   4   6   9   4   9   6   7   1   7   7   6 \n",
       "101 102 103 104 105 106 107 108 109 110 111 112 113 114 115 116 117 118 119 120 \n",
       "  6   6   7   4   9   4   7  10   3   6   7   6   9   3   7   7   8   6   8   6 \n",
       "121 122 123 124 125 126 127 128 129 130 131 132 133 134 135 136 137 138 139 140 \n",
       "  3   6   1   4   7  10  10  10   6   7   6   4   4   7   7   6   9   8   4   9 \n",
       "141 142 143 144 145 146 147 148 149 150 151 152 153 154 \n",
       "  9   9   8   7   3   3   6   7   8   7   8   8   5   8 \n",
       "Objective function:\n",
       "   build     swap \n",
       "1.006494 1.006494 \n",
       "\n",
       "Available components:\n",
       " [1] \"medoids\"    \"id.med\"     \"clustering\" \"objective\"  \"isolation\" \n",
       " [6] \"clusinfo\"   \"silinfo\"    \"diss\"       \"call\"       \"data\"      "
      ]
     },
     "execution_count": 107,
     "metadata": {},
     "output_type": "execute_result"
    }
   ],
   "source": [
    "pamResult"
   ]
  },
  {
   "cell_type": "code",
   "execution_count": 109,
   "metadata": {
    "collapsed": false
   },
   "outputs": [
    {
     "name": "stdout",
     "output_type": "stream",
     "text": [
      "cluster 1 :  data \n",
      "cluster 2 :  computing parallel r \n",
      "cluster 3 :  data r \n",
      "cluster 4 :  data mining \n",
      "cluster 5 :  analysis network social \n",
      "cluster 6 :  r \n",
      "cluster 7 :   \n",
      "cluster 8 :  data mining r \n",
      "cluster 9 :   \n",
      "cluster 10 :  analysis mining series time \n"
     ]
    }
   ],
   "source": [
    "for(i in 1:k) {\n",
    "    cat(\"cluster\", i, \": \", \n",
    "        colnames(pamResult$medoids)[which(pamResult$medoids[i, ]==1)], \"\\n\")\n",
    "}"
   ]
  },
  {
   "cell_type": "code",
   "execution_count": 110,
   "metadata": {
    "collapsed": false
   },
   "outputs": [
    {
     "data": {
      "image/png": "[encoded data removed]"
     },
     "metadata": {},
     "output_type": "display_data"
    },
    {
     "data": {
      "image/png": "[encoded data removed]"
     },
     "metadata": {},
     "output_type": "display_data"
    }
   ],
   "source": [
    "plot(pamResult, col.p=pamResult$clustering)"
   ]
  },
  {
   "cell_type": "markdown",
   "metadata": {},
   "source": [
    "# Topic Modeling"
   ]
  },
  {
   "cell_type": "code",
   "execution_count": 155,
   "metadata": {
    "collapsed": true
   },
   "outputs": [],
   "source": [
    "dtm <- as.DocumentTermMatrix(tdm)"
   ]
  },
  {
   "cell_type": "code",
   "execution_count": 156,
   "metadata": {
    "collapsed": false
   },
   "outputs": [
    {
     "data": {
      "text/plain": [
       "<<DocumentTermMatrix (documents: 154, terms: 582)>>\n",
       "Non-/sparse entries: 1191/88437\n",
       "Sparsity           : 99%\n",
       "Maximal term length: 27\n",
       "Weighting          : term frequency (tf)"
      ]
     },
     "execution_count": 156,
     "metadata": {},
     "output_type": "execute_result"
    }
   ],
   "source": [
    "dtm"
   ]
  },
  {
   "cell_type": "code",
   "execution_count": 157,
   "metadata": {
    "collapsed": false
   },
   "outputs": [
    {
     "name": "stdout",
     "output_type": "stream",
     "text": [
      "List of 6\n",
      " $ i       : int [1:1191] 1 1 1 1 1 1 2 2 2 2 ...\n",
      " $ j       : int [1:1191] 47 105 321 372 375 437 105 372 385 394 ...\n",
      " $ v       : num [1:1191] 1 1 1 1 1 1 1 1 1 1 ...\n",
      " $ nrow    : int 154\n",
      " $ ncol    : int 582\n",
      " $ dimnames:List of 2\n",
      "  ..$ Docs : chr [1:154] \"1\" \"2\" \"3\" \"4\" ...\n",
      "  ..$ Terms: chr [1:582] \"\\034big\" \"access\" \"accessible\" \"acm\" ...\n",
      " - attr(*, \"class\")= chr [1:2] \"DocumentTermMatrix\" \"simple_triplet_matrix\"\n",
      " - attr(*, \"weighting\")= chr [1:2] \"term frequency\" \"tf\"\n"
     ]
    }
   ],
   "source": [
    "str(dtm)"
   ]
  },
  {
   "cell_type": "code",
   "execution_count": 158,
   "metadata": {
    "collapsed": false
   },
   "outputs": [],
   "source": [
    "# install.packages(\"topicmodels\")\n",
    "library(topicmodels)\n",
    "library(data.table) # as.IDate 를 쓰기 위해"
   ]
  },
  {
   "cell_type": "code",
   "execution_count": 159,
   "metadata": {
    "collapsed": true
   },
   "outputs": [],
   "source": [
    "# find 8 topics\n",
    "lda <- LDA(dtm, k = 8) "
   ]
  },
  {
   "cell_type": "code",
   "execution_count": 160,
   "metadata": {
    "collapsed": false
   },
   "outputs": [
    {
     "name": "stdout",
     "output_type": "stream",
     "text": [
      "Formal class 'LDA_VEM' [package \"topicmodels\"] with 14 slots\n",
      "  ..@ alpha          : num 0.0334\n",
      "  ..@ call           : language LDA(x = dtm, k = 8)\n",
      "  ..@ Dim            : int [1:2] 154 582\n",
      "  ..@ control        :Formal class 'LDA_VEMcontrol' [package \"topicmodels\"] with 13 slots\n",
      "  .. .. ..@ estimate.alpha: logi TRUE\n",
      "  .. .. ..@ alpha         : num 6.25\n",
      "  .. .. ..@ seed          : int 1427282533\n",
      "  .. .. ..@ verbose       : int 0\n",
      "  .. .. ..@ prefix        : chr \"/tmp/Rtmp21ViJ1/file6c567cde9be4\"\n",
      "  .. .. ..@ save          : int 0\n",
      "  .. .. ..@ nstart        : int 1\n",
      "  .. .. ..@ best          : logi TRUE\n",
      "  .. .. ..@ keep          : int 0\n",
      "  .. .. ..@ estimate.beta : logi TRUE\n",
      "  .. .. ..@ var           :Formal class 'OPTcontrol' [package \"topicmodels\"] with 2 slots\n",
      "  .. .. .. .. ..@ iter.max: int 500\n",
      "  .. .. .. .. ..@ tol     : num 1e-06\n",
      "  .. .. ..@ em            :Formal class 'OPTcontrol' [package \"topicmodels\"] with 2 slots\n",
      "  .. .. .. .. ..@ iter.max: int 1000\n",
      "  .. .. .. .. ..@ tol     : num 1e-04\n",
      "  .. .. ..@ initialize    : chr \"random\"\n",
      "  ..@ k              : int 8\n",
      "  ..@ terms          : chr [1:582] \"\\034big\" \"access\" \"accessible\" \"acm\" ...\n",
      "  ..@ documents      : chr [1:154] \"1\" \"2\" \"3\" \"4\" ...\n",
      "  ..@ beta           : num [1:8, 1:582] -5.09 -700.18 -131.97 -100 -131.84 ...\n",
      "  ..@ gamma          : num [1:154, 1:8] 0.00534 0.96779 0.00534 0.0046 0.00361 ...\n",
      "  ..@ wordassignments:List of 5\n",
      "  .. ..$ i   : int [1:1191] 1 1 1 1 1 1 2 2 2 2 ...\n",
      "  .. ..$ j   : int [1:1191] 47 105 321 372 375 437 105 372 385 394 ...\n",
      "  .. ..$ v   : num [1:1191] 2 2 2 2 2 2 1 1 1 1 ...\n",
      "  .. ..$ nrow: int 154\n",
      "  .. ..$ ncol: int 582\n",
      "  .. ..- attr(*, \"class\")= chr \"simple_triplet_matrix\"\n",
      "  ..@ loglikelihood  : num [1:154] -28.4 -32.6 -26.5 -28.6 -44.1 ...\n",
      "  ..@ iter           : int 93\n",
      "  ..@ logLiks        : num(0) \n",
      "  ..@ n              : int 1240\n"
     ]
    }
   ],
   "source": [
    "str(lda)"
   ]
  },
  {
   "cell_type": "code",
   "execution_count": 161,
   "metadata": {
    "collapsed": false
   },
   "outputs": [
    {
     "data": {
      "text/plain": [
       "     Topic 1    Topic 2   Topic 3  Topic 4    Topic 5       Topic 6       \n",
       "[1,] \"network\"  \"mining\"  \"data\"   \"r\"        \"r\"           \"r\"           \n",
       "[2,] \"analysis\" \"data\"    \"mining\" \"tutorial\" \"data\"        \"data\"        \n",
       "[3,] \"social\"   \"text\"    \"free\"   \"learn\"    \"package\"     \"examples\"    \n",
       "[4,] \"research\" \"itemset\" \"r\"      \"advanced\" \"programming\" \"introduction\"\n",
       "     Topic 7  Topic 8   \n",
       "[1,] \"r\"      \"r\"       \n",
       "[2,] \"group\"  \"data\"    \n",
       "[3,] \"series\" \"mining\"  \n",
       "[4,] \"time\"   \"parallel\""
      ]
     },
     "execution_count": 161,
     "metadata": {},
     "output_type": "execute_result"
    }
   ],
   "source": [
    "# first 4 terms of every topic\n",
    "term <- terms(lda, 4) \n",
    "term"
   ]
  },
  {
   "cell_type": "code",
   "execution_count": 162,
   "metadata": {
    "collapsed": true
   },
   "outputs": [],
   "source": [
    "# first topic identified for every document (tweet)"
   ]
  },
  {
   "cell_type": "code",
   "execution_count": 163,
   "metadata": {
    "collapsed": false
   },
   "outputs": [],
   "source": [
    "term <- apply(term, MARGIN=2, paste, collapse=\", \") # 그래프에 보기 좋게 하려고"
   ]
  },
  {
   "cell_type": "code",
   "execution_count": 164,
   "metadata": {
    "collapsed": false
   },
   "outputs": [
    {
     "data": {
      "text/plain": [
       "                              Topic 1                               Topic 2 \n",
       "\"network, analysis, social, research\"         \"mining, data, text, itemset\" \n",
       "                              Topic 3                               Topic 4 \n",
       "              \"data, mining, free, r\"        \"r, tutorial, learn, advanced\" \n",
       "                              Topic 5                               Topic 6 \n",
       "      \"r, data, package, programming\"     \"r, data, examples, introduction\" \n",
       "                              Topic 7                               Topic 8 \n",
       "             \"r, group, series, time\"           \"r, data, mining, parallel\" "
      ]
     },
     "execution_count": 164,
     "metadata": {},
     "output_type": "execute_result"
    }
   ],
   "source": [
    "term"
   ]
  },
  {
   "cell_type": "code",
   "execution_count": 165,
   "metadata": {
    "collapsed": false
   },
   "outputs": [
    {
     "name": "stdout",
     "output_type": "stream",
     "text": [
      " Named int [1:154] 2 1 8 8 6 8 8 8 4 4 ...\n",
      " - attr(*, \"names\")= chr [1:154] \"1\" \"2\" \"3\" \"4\" ...\n"
     ]
    }
   ],
   "source": [
    "topic <- topics(lda, 1)\n",
    "str(topic)"
   ]
  },
  {
   "cell_type": "code",
   "execution_count": 166,
   "metadata": {
    "collapsed": false
   },
   "outputs": [
    {
     "data": {
      "text/plain": [
       "        date topic\n",
       "1 2012-04-14     2\n",
       "2 2012-04-14     1\n",
       "3 2012-04-14     8\n",
       "4 2012-04-14     8\n",
       "5 2012-04-14     6\n",
       "6 2012-04-12     8"
      ]
     },
     "execution_count": 166,
     "metadata": {},
     "output_type": "execute_result"
    }
   ],
   "source": [
    "topics <- data.frame(date=as.IDate(tweets.df$created), topic)\n",
    "head(topics)"
   ]
  },
  {
   "cell_type": "code",
   "execution_count": 174,
   "metadata": {
    "collapsed": false
   },
   "outputs": [
    {
     "data": {
      "text/plain": []
     },
     "execution_count": 174,
     "metadata": {},
     "output_type": "execute_result"
    },
    {
     "data": {
      "image/png": "[encoded data removed]"
     },
     "metadata": {},
     "output_type": "display_data"
    }
   ],
   "source": [
    "qplot(date, ..count.., data=topics, geom=\"density\", fill=term[topic], position=\"stack\")"
   ]
  },
  {
   "cell_type": "markdown",
   "metadata": {},
   "source": [
    "# 참고자료"
   ]
  },
  {
   "cell_type": "markdown",
   "metadata": {},
   "source": [
    "* [1] Text Mining with R : an Analysis of Twitter Data - http://www.slideshare.net/rdatamining/text-mining-with-r-an-analysis-of-twitter-data"
   ]
  }
 ],
 "metadata": {
  "kernelspec": {
   "display_name": "R",
   "language": "",
   "name": "ir"
  },
  "language_info": {
   "codemirror_mode": "r",
   "file_extension": ".r",
   "mimetype": "text/x-r-source",
   "name": "R",
   "pygments_lexer": "r"
  }
 },
 "nbformat": 4,
 "nbformat_minor": 0
}
