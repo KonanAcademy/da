{
 "metadata": {
  "name": "",
  "signature": "sha256:708bd097a7778e1460070b8bfb58a86f5b194bc3f25e3fbd1bdf9dc0f4300d34"
 },
 "nbformat": 3,
 "nbformat_minor": 0,
 "worksheets": [
  {
   "cells": [
    {
     "cell_type": "heading",
     "level": 1,
     "metadata": {},
     "source": [
      "02. \ud30c\uc774\uc36c pandas \uae30\ucd08 \uc5f0\uc2b5\ubb38\uc81c"
     ]
    },
    {
     "cell_type": "markdown",
     "metadata": {},
     "source": [
      "* \ucf54\ub09c\uc544\uce74\ub370\ubbf8 : \ub370\uc774\ud130\ubd84\uc11d \uae30\ucd08\n",
      "* \uc791\uc131\uc790 : \uae40\ubb34\uc131    "
     ]
    },
    {
     "cell_type": "heading",
     "level": 1,
     "metadata": {},
     "source": [
      "\ucc28\ub840"
     ]
    },
    {
     "cell_type": "markdown",
     "metadata": {},
     "source": [
      "* \uae30\ucd08\n",
      "* \uc751\uc6a9"
     ]
    },
    {
     "cell_type": "heading",
     "level": 2,
     "metadata": {},
     "source": [
      "\uae30\ucd08 [1]"
     ]
    },
    {
     "cell_type": "markdown",
     "metadata": {},
     "source": [
      "* numpy \uae30\ucd08\n",
      "  - (numpy \uae30\ubcf8) \ubb38\uc81c 1. ndarray \ub2e4\ub8e8\uae30 (1)\n",
      "  - (numpy \uae30\ubcf8) \ubb38\uc81c 2. ndarray \ub2e4\ub8e8\uae30 (2)\n",
      "  - (numpy \uc120\ud615\ub300\uc218) \ubb38\uc81c 3. \uc120\ud615\ubc29\uc815\uc2dd \ud480\uae30(\ud574 \uad6c\ud558\uae30)\n",
      "* pandas \uae30\ucd08"
     ]
    },
    {
     "cell_type": "heading",
     "level": 3,
     "metadata": {},
     "source": [
      " numpy \uae30\ucd08"
     ]
    },
    {
     "cell_type": "heading",
     "level": 4,
     "metadata": {},
     "source": [
      "(numpy \uae30\ubcf8) \ubb38\uc81c 1. ndarray \ub2e4\ub8e8\uae30 (1"
     ]
    },
    {
     "cell_type": "heading",
     "level": 5,
     "metadata": {},
     "source": [
      "\ub2e4\uc74c\uc758 \ub370\uc774\ud130\ub97c \uc0ac\uc6a9\ud558\uc2dc\uc624"
     ]
    },
    {
     "cell_type": "code",
     "collapsed": false,
     "input": [
      "2 3 5 6 7 10"
     ],
     "language": "python",
     "metadata": {},
     "outputs": [],
     "prompt_number": 1
    },
    {
     "cell_type": "heading",
     "level": 5,
     "metadata": {},
     "source": [
      "a) \ub370\uc774\ud130 \ubca1\ud130 x\ub97c \ub9cc\ub4dc\uc2dc\uc624"
     ]
    },
    {
     "cell_type": "code",
     "collapsed": false,
     "input": [
      "# input yuour code"
     ],
     "language": "python",
     "metadata": {},
     "outputs": []
    },
    {
     "cell_type": "heading",
     "level": 5,
     "metadata": {},
     "source": [
      "b) \uac01 \ub370\uc774\ud130\uc758 \uc81c\uacf1\uc73c\ub85c \uad6c\uc131\ub41c \ubca1\ud130 x2\ub97c \ub9cc\ub4dc\uc2dc\uc624"
     ]
    },
    {
     "cell_type": "code",
     "collapsed": false,
     "input": [
      "# input yuour code"
     ],
     "language": "python",
     "metadata": {},
     "outputs": []
    },
    {
     "cell_type": "heading",
     "level": 5,
     "metadata": {},
     "source": [
      "c) \uac01 \ub370\uc774\ud130\uc758 \uc81c\uacf1\uc758 \ud569\uc744 \uad6c\ud558\uc2dc\uc624"
     ]
    },
    {
     "cell_type": "code",
     "collapsed": false,
     "input": [
      "# input yuour code"
     ],
     "language": "python",
     "metadata": {},
     "outputs": []
    },
    {
     "cell_type": "heading",
     "level": 5,
     "metadata": {},
     "source": [
      "d) \uac01 \ub370\uc774\ud130\uc5d0\uc11c 2\ub97c \ube80 \uac12\uc744 \uad6c\ud558\uc2dc\uc624"
     ]
    },
    {
     "cell_type": "code",
     "collapsed": false,
     "input": [
      "# input yuour code"
     ],
     "language": "python",
     "metadata": {},
     "outputs": []
    },
    {
     "cell_type": "heading",
     "level": 5,
     "metadata": {},
     "source": [
      "e) \ucd5c\ub300\uac12\uacfc \ucd5c\uc18c\uac12\uc744 \uad6c\ud558\uc2dc\uc624"
     ]
    },
    {
     "cell_type": "code",
     "collapsed": false,
     "input": [
      "# input yuour code"
     ],
     "language": "python",
     "metadata": {},
     "outputs": []
    },
    {
     "cell_type": "heading",
     "level": 5,
     "metadata": {},
     "source": [
      "f) 5\ubcf4\ub2e4 \ud070 \uac12\ub4e4\ub85c\ub9cc \uad6c\uc131\ub41c \ub370\uc774\ud130 \ubca1\ud130 x_up\uc744 \ub9cc\ub4dc\uc2dc\uc624"
     ]
    },
    {
     "cell_type": "code",
     "collapsed": false,
     "input": [
      "# input yuour code"
     ],
     "language": "python",
     "metadata": {},
     "outputs": []
    },
    {
     "cell_type": "heading",
     "level": 5,
     "metadata": {},
     "source": [
      "g) \ubca1\ud130 x\uc758 \uae38\uc774\ub97c \uad6c\ud558\uc2dc\uc624"
     ]
    },
    {
     "cell_type": "code",
     "collapsed": false,
     "input": [
      "# input yuour code"
     ],
     "language": "python",
     "metadata": {},
     "outputs": []
    },
    {
     "cell_type": "heading",
     "level": 5,
     "metadata": {},
     "source": [
      "h) x'x\ub97c \uad6c\ud558\uc2dc\uc624 (x'\ub294 x\uc758 \uc804\uce58)"
     ]
    },
    {
     "cell_type": "code",
     "collapsed": false,
     "input": [
      "# input yuour code"
     ],
     "language": "python",
     "metadata": {},
     "outputs": []
    },
    {
     "cell_type": "heading",
     "level": 5,
     "metadata": {},
     "source": [
      "i) xx'\ub97c \uad6c\ud558\uc2dc\uc624"
     ]
    },
    {
     "cell_type": "code",
     "collapsed": false,
     "input": [
      "# input yuour code"
     ],
     "language": "python",
     "metadata": {},
     "outputs": []
    },
    {
     "cell_type": "heading",
     "level": 5,
     "metadata": {},
     "source": [
      "j) \ubca1\ud130 x\uc640 x2\ub97c \uc5f4\uacb0\ud569(column bind)\ud558\uc5ec xc\uc5d0 \uc800\uc7a5\ud558\uc2dc\uc624"
     ]
    },
    {
     "cell_type": "code",
     "collapsed": false,
     "input": [
      "# input yuour code"
     ],
     "language": "python",
     "metadata": {},
     "outputs": []
    },
    {
     "cell_type": "heading",
     "level": 5,
     "metadata": {},
     "source": [
      "k) \ubca1\ud130 x\uc640 x2\ub97c \ud589\uacb0\ud569(row bind)\ud558\uc5ec xr\uc5d0 \uc800\uc7a5\ud558\uc2dc\uc624"
     ]
    },
    {
     "cell_type": "code",
     "collapsed": false,
     "input": [
      "# input yuour code"
     ],
     "language": "python",
     "metadata": {},
     "outputs": []
    },
    {
     "cell_type": "heading",
     "level": 4,
     "metadata": {},
     "source": [
      "(numpy \uae30\ubcf8) \ubb38\uc81c 2. ndarray \ub2e4\ub8e8\uae30 (2)"
     ]
    },
    {
     "cell_type": "heading",
     "level": 5,
     "metadata": {},
     "source": [
      "a ) \ud45c\uc900\uc815\uaddc\ubd84\ud3ec\ub97c \ub530\ub974\ub294 \ub09c\uc218 100\uac1c\ub97c \uac00\uc9c4 \ubc30\uc5f4 x\ub97c \ub9cc\ub4dc\uc2dc\uc624"
     ]
    },
    {
     "cell_type": "code",
     "collapsed": false,
     "input": [
      "# input yuour code"
     ],
     "language": "python",
     "metadata": {},
     "outputs": []
    },
    {
     "cell_type": "heading",
     "level": 5,
     "metadata": {},
     "source": [
      "b) x\uc5d0\uc11c \uac12\uc774 0.2 \ubcf4\ub2e4 \ud070 \uc6d0\uc18c\ub4e4\uc744 \uace8\ub77c\ub0b4\uc2dc\uc624"
     ]
    },
    {
     "cell_type": "code",
     "collapsed": false,
     "input": [
      "# input yuour code"
     ],
     "language": "python",
     "metadata": {},
     "outputs": []
    },
    {
     "cell_type": "heading",
     "level": 4,
     "metadata": {},
     "source": [
      "(numpy \uc120\ud615\ub300\uc218) \ubb38\uc81c 3. \uc120\ud615\ubc29\uc815\uc2dd \ud480\uae30(\ud574 \uad6c\ud558\uae30)"
     ]
    },
    {
     "cell_type": "heading",
     "level": 5,
     "metadata": {},
     "source": [
      "\ub2e4\uc74c\uacfc \uac19\uc740 \ubc29\uc815\uc2dd\uc774 \uc788\ub2e4."
     ]
    },
    {
     "cell_type": "code",
     "collapsed": false,
     "input": [
      "3x + 6y - 5z = 12\n",
      "x - 3y + 2z = -2\n",
      "5x - y + 4z = 10"
     ],
     "language": "python",
     "metadata": {},
     "outputs": [],
     "prompt_number": 3
    },
    {
     "cell_type": "heading",
     "level": 5,
     "metadata": {},
     "source": [
      "a) \uc704 \uc2dd\uc744 numpy\ub97c \uc774\uc6a9\ud574\uc11c Ax=B \ud615\ud0dc\ub85c \ub098\ud0c0\ub0b4\uc2dc\uc624 (A\uc640 B\ub9cc \uc0dd\uc131)"
     ]
    },
    {
     "cell_type": "code",
     "collapsed": false,
     "input": [
      "# input yuour code"
     ],
     "language": "python",
     "metadata": {},
     "outputs": []
    },
    {
     "cell_type": "heading",
     "level": 5,
     "metadata": {},
     "source": [
      "b) A\uc758 \uc5ed\ud589\ub82c\uc744 \uad6c\ud558\uc2dc\uc624"
     ]
    },
    {
     "cell_type": "code",
     "collapsed": false,
     "input": [
      "# input yuour code"
     ],
     "language": "python",
     "metadata": {},
     "outputs": []
    },
    {
     "cell_type": "heading",
     "level": 5,
     "metadata": {},
     "source": [
      "c) \ubc29\uc815\uc2dd\uc758 \ud574 \ubca1\ud130 x\ub97c \uad6c\ud558\uc2dc\uc624"
     ]
    },
    {
     "cell_type": "code",
     "collapsed": false,
     "input": [
      "# input yuour code"
     ],
     "language": "python",
     "metadata": {},
     "outputs": []
    },
    {
     "cell_type": "code",
     "collapsed": false,
     "input": [],
     "language": "python",
     "metadata": {},
     "outputs": []
    },
    {
     "cell_type": "markdown",
     "metadata": {},
     "source": [
      "## \ucc38\uace0\uc790\ub8cc \n",
      "\n",
      " * [1] \ub370\uc774\ud130/\uc218\uce58 \ubd84\uc11d\uc744 \uc704\ud55c \ud30c\uc774\uc36c \ub77c\uc774\ube0c\ub7ec\ub9ac SciPy\uc640 NumPy - http://www.hanbit.co.kr/ebook/look.html?isbn=9788968486135"
     ]
    }
   ],
   "metadata": {}
  }
 ]
}