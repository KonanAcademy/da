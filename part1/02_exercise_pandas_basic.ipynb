{
 "metadata": {
  "name": "",
  "signature": "sha256:67369b1b40318f8cf38566c51fd1db5a6c411a4892340ab418c71195d71a443f"
 },
 "nbformat": 3,
 "nbformat_minor": 0,
 "worksheets": [
  {
   "cells": [
    {
     "cell_type": "heading",
     "level": 1,
     "metadata": {},
     "source": [
      "02. \ud30c\uc774\uc36c pandas \uae30\ucd08 \uc5f0\uc2b5\ubb38\uc81c"
     ]
    },
    {
     "cell_type": "markdown",
     "metadata": {},
     "source": [
      "* \ucf54\ub09c\uc544\uce74\ub370\ubbf8 : \ub370\uc774\ud130\ubd84\uc11d \uae30\ucd08\n",
      "* \uc791\uc131\uc790 : \uae40\ubb34\uc131    "
     ]
    },
    {
     "cell_type": "heading",
     "level": 1,
     "metadata": {},
     "source": [
      "\ucc28\ub840"
     ]
    },
    {
     "cell_type": "markdown",
     "metadata": {},
     "source": [
      "* \uae30\ucd08\n",
      "* \uc751\uc6a9"
     ]
    },
    {
     "cell_type": "heading",
     "level": 2,
     "metadata": {},
     "source": [
      "\uae30\ucd08 [1, 2, 3]"
     ]
    },
    {
     "cell_type": "markdown",
     "metadata": {},
     "source": [
      "* numpy \uae30\ucd08\n",
      "  - (numpy \uae30\ubcf8) \ubb38\uc81c 1. ndarray \ub2e4\ub8e8\uae30 (1)\n",
      "  - (numpy \uae30\ubcf8) \ubb38\uc81c 2. ndarray \ub2e4\ub8e8\uae30 (2)\n",
      "  - (numpy \uc120\ud615\ub300\uc218) \ubb38\uc81c 3. \uc120\ud615\ubc29\uc815\uc2dd \ud480\uae30(\ud574 \uad6c\ud558\uae30)\n",
      "* pandas \uae30\ucd08\n",
      "  - (pandas \uae30\ubcf8) \ubb38\uc81c 1. DataFrame \ub2e4\ub8e8\uae30 (1)\n",
      "  - (pandas \uae30\ubcf8) \ubb38\uc81c 2. DataFrame \ub2e4\ub8e8\uae30 (2)"
     ]
    },
    {
     "cell_type": "heading",
     "level": 3,
     "metadata": {},
     "source": [
      " numpy \uae30\ucd08"
     ]
    },
    {
     "cell_type": "heading",
     "level": 4,
     "metadata": {},
     "source": [
      "(numpy \uae30\ubcf8) \ubb38\uc81c 1. ndarray \ub2e4\ub8e8\uae30 (1"
     ]
    },
    {
     "cell_type": "heading",
     "level": 5,
     "metadata": {},
     "source": [
      "\ub2e4\uc74c\uc758 \ub370\uc774\ud130\ub97c \uc0ac\uc6a9\ud558\uc2dc\uc624"
     ]
    },
    {
     "cell_type": "code",
     "collapsed": false,
     "input": [
      "2 3 5 6 7 10"
     ],
     "language": "python",
     "metadata": {},
     "outputs": [],
     "prompt_number": 1
    },
    {
     "cell_type": "heading",
     "level": 5,
     "metadata": {},
     "source": [
      "a) \ub370\uc774\ud130 \ubca1\ud130 x\ub97c \ub9cc\ub4dc\uc2dc\uc624"
     ]
    },
    {
     "cell_type": "code",
     "collapsed": false,
     "input": [
      "# input yuour code"
     ],
     "language": "python",
     "metadata": {},
     "outputs": []
    },
    {
     "cell_type": "heading",
     "level": 5,
     "metadata": {},
     "source": [
      "b) \uac01 \ub370\uc774\ud130\uc758 \uc81c\uacf1\uc73c\ub85c \uad6c\uc131\ub41c \ubca1\ud130 x2\ub97c \ub9cc\ub4dc\uc2dc\uc624"
     ]
    },
    {
     "cell_type": "code",
     "collapsed": false,
     "input": [
      "# input yuour code"
     ],
     "language": "python",
     "metadata": {},
     "outputs": []
    },
    {
     "cell_type": "heading",
     "level": 5,
     "metadata": {},
     "source": [
      "c) \uac01 \ub370\uc774\ud130\uc758 \uc81c\uacf1\uc758 \ud569\uc744 \uad6c\ud558\uc2dc\uc624"
     ]
    },
    {
     "cell_type": "code",
     "collapsed": false,
     "input": [
      "# input yuour code"
     ],
     "language": "python",
     "metadata": {},
     "outputs": []
    },
    {
     "cell_type": "heading",
     "level": 5,
     "metadata": {},
     "source": [
      "d) \uac01 \ub370\uc774\ud130\uc5d0\uc11c 2\ub97c \ube80 \uac12\uc744 \uad6c\ud558\uc2dc\uc624"
     ]
    },
    {
     "cell_type": "code",
     "collapsed": false,
     "input": [
      "# input yuour code"
     ],
     "language": "python",
     "metadata": {},
     "outputs": []
    },
    {
     "cell_type": "heading",
     "level": 5,
     "metadata": {},
     "source": [
      "e) \ucd5c\ub300\uac12\uacfc \ucd5c\uc18c\uac12\uc744 \uad6c\ud558\uc2dc\uc624"
     ]
    },
    {
     "cell_type": "code",
     "collapsed": false,
     "input": [
      "# input yuour code"
     ],
     "language": "python",
     "metadata": {},
     "outputs": []
    },
    {
     "cell_type": "heading",
     "level": 5,
     "metadata": {},
     "source": [
      "f) 5\ubcf4\ub2e4 \ud070 \uac12\ub4e4\ub85c\ub9cc \uad6c\uc131\ub41c \ub370\uc774\ud130 \ubca1\ud130 x_up\uc744 \ub9cc\ub4dc\uc2dc\uc624"
     ]
    },
    {
     "cell_type": "code",
     "collapsed": false,
     "input": [
      "# input yuour code"
     ],
     "language": "python",
     "metadata": {},
     "outputs": []
    },
    {
     "cell_type": "heading",
     "level": 5,
     "metadata": {},
     "source": [
      "g) \ubca1\ud130 x\uc758 \uae38\uc774\ub97c \uad6c\ud558\uc2dc\uc624"
     ]
    },
    {
     "cell_type": "code",
     "collapsed": false,
     "input": [
      "# input yuour code"
     ],
     "language": "python",
     "metadata": {},
     "outputs": []
    },
    {
     "cell_type": "heading",
     "level": 5,
     "metadata": {},
     "source": [
      "h) x'x\ub97c \uad6c\ud558\uc2dc\uc624 (x'\ub294 x\uc758 \uc804\uce58)"
     ]
    },
    {
     "cell_type": "code",
     "collapsed": false,
     "input": [
      "# input yuour code"
     ],
     "language": "python",
     "metadata": {},
     "outputs": []
    },
    {
     "cell_type": "heading",
     "level": 5,
     "metadata": {},
     "source": [
      "i) xx'\ub97c \uad6c\ud558\uc2dc\uc624"
     ]
    },
    {
     "cell_type": "code",
     "collapsed": false,
     "input": [
      "# input yuour code"
     ],
     "language": "python",
     "metadata": {},
     "outputs": []
    },
    {
     "cell_type": "heading",
     "level": 5,
     "metadata": {},
     "source": [
      "j) \ubca1\ud130 x\uc640 x2\ub97c \uc5f4\uacb0\ud569(column bind)\ud558\uc5ec xc\uc5d0 \uc800\uc7a5\ud558\uc2dc\uc624"
     ]
    },
    {
     "cell_type": "code",
     "collapsed": false,
     "input": [
      "# input yuour code"
     ],
     "language": "python",
     "metadata": {},
     "outputs": []
    },
    {
     "cell_type": "heading",
     "level": 5,
     "metadata": {},
     "source": [
      "k) \ubca1\ud130 x\uc640 x2\ub97c \ud589\uacb0\ud569(row bind)\ud558\uc5ec xr\uc5d0 \uc800\uc7a5\ud558\uc2dc\uc624"
     ]
    },
    {
     "cell_type": "code",
     "collapsed": false,
     "input": [
      "# input yuour code"
     ],
     "language": "python",
     "metadata": {},
     "outputs": []
    },
    {
     "cell_type": "heading",
     "level": 4,
     "metadata": {},
     "source": [
      "(numpy \uae30\ubcf8) \ubb38\uc81c 2. ndarray \ub2e4\ub8e8\uae30 (2)"
     ]
    },
    {
     "cell_type": "heading",
     "level": 5,
     "metadata": {},
     "source": [
      "a ) \ud45c\uc900\uc815\uaddc\ubd84\ud3ec\ub97c \ub530\ub974\ub294 \ub09c\uc218 100\uac1c\ub97c \uac00\uc9c4 \ubc30\uc5f4 x\ub97c \ub9cc\ub4dc\uc2dc\uc624"
     ]
    },
    {
     "cell_type": "code",
     "collapsed": false,
     "input": [
      "# input yuour code"
     ],
     "language": "python",
     "metadata": {},
     "outputs": []
    },
    {
     "cell_type": "heading",
     "level": 5,
     "metadata": {},
     "source": [
      "b) x\uc5d0\uc11c \uac12\uc774 0.2 \ubcf4\ub2e4 \ud070 \uc6d0\uc18c\ub4e4\uc744 \uace8\ub77c\ub0b4\uc2dc\uc624"
     ]
    },
    {
     "cell_type": "code",
     "collapsed": false,
     "input": [
      "# input yuour code"
     ],
     "language": "python",
     "metadata": {},
     "outputs": []
    },
    {
     "cell_type": "heading",
     "level": 4,
     "metadata": {},
     "source": [
      "(numpy \uc120\ud615\ub300\uc218) \ubb38\uc81c 3. \uc120\ud615\ubc29\uc815\uc2dd \ud480\uae30(\ud574 \uad6c\ud558\uae30)"
     ]
    },
    {
     "cell_type": "heading",
     "level": 5,
     "metadata": {},
     "source": [
      "\ub2e4\uc74c\uacfc \uac19\uc740 \ubc29\uc815\uc2dd\uc774 \uc788\ub2e4."
     ]
    },
    {
     "cell_type": "code",
     "collapsed": false,
     "input": [
      "3x + 6y - 5z = 12\n",
      "x - 3y + 2z = -2\n",
      "5x - y + 4z = 10"
     ],
     "language": "python",
     "metadata": {},
     "outputs": [],
     "prompt_number": 3
    },
    {
     "cell_type": "heading",
     "level": 5,
     "metadata": {},
     "source": [
      "a) \uc704 \uc2dd\uc744 numpy\ub97c \uc774\uc6a9\ud574\uc11c Ax=B \ud615\ud0dc\ub85c \ub098\ud0c0\ub0b4\uc2dc\uc624 (A\uc640 B\ub9cc \uc0dd\uc131)"
     ]
    },
    {
     "cell_type": "code",
     "collapsed": false,
     "input": [
      "# input yuour code"
     ],
     "language": "python",
     "metadata": {},
     "outputs": []
    },
    {
     "cell_type": "heading",
     "level": 5,
     "metadata": {},
     "source": [
      "b) A\uc758 \uc5ed\ud589\ub82c\uc744 \uad6c\ud558\uc2dc\uc624"
     ]
    },
    {
     "cell_type": "code",
     "collapsed": false,
     "input": [
      "# input yuour code"
     ],
     "language": "python",
     "metadata": {},
     "outputs": []
    },
    {
     "cell_type": "heading",
     "level": 5,
     "metadata": {},
     "source": [
      "c) \ubc29\uc815\uc2dd\uc758 \ud574 \ubca1\ud130 x\ub97c \uad6c\ud558\uc2dc\uc624"
     ]
    },
    {
     "cell_type": "code",
     "collapsed": false,
     "input": [
      "# input yuour code"
     ],
     "language": "python",
     "metadata": {},
     "outputs": []
    },
    {
     "cell_type": "heading",
     "level": 3,
     "metadata": {},
     "source": [
      "pandas \uae30\ucd08"
     ]
    },
    {
     "cell_type": "heading",
     "level": 4,
     "metadata": {},
     "source": [
      "(pandas \uae30\ubcf8) \ubb38\uc81c 1. DataFrame \ub2e4\ub8e8\uae30 (1)"
     ]
    },
    {
     "cell_type": "markdown",
     "metadata": {},
     "source": [
      "   | numbers |\n",
      "----- | ------ \n",
      "a  | 10 \n",
      "b  | 20 \n",
      "c  | 30 \n",
      "d  | 40 \n"
     ]
    },
    {
     "cell_type": "heading",
     "level": 5,
     "metadata": {},
     "source": [
      "a) DataFrame\uc73c\ub85c \uc704\uc640 \uac19\uc740 \uc790\ub8cc\ub97c \ub9cc\ub4dc\uc2dc\uc624. \uceec\ub7fc \uc774\ub984\uc740 numbers, \ub85c\uc6b0 \ub124\uc784\uc740 a~e, \uac12\uc740 10~40"
     ]
    },
    {
     "cell_type": "code",
     "collapsed": false,
     "input": [
      "# input yuour code"
     ],
     "language": "python",
     "metadata": {},
     "outputs": []
    },
    {
     "cell_type": "heading",
     "level": 5,
     "metadata": {},
     "source": [
      "b) c \ub85c\uc6b0\uc758 \uac12\uc744 \uac00\uc838\uc624\uc2dc\uc624."
     ]
    },
    {
     "cell_type": "code",
     "collapsed": false,
     "input": [
      "# input yuour code"
     ],
     "language": "python",
     "metadata": {},
     "outputs": []
    },
    {
     "cell_type": "heading",
     "level": 5,
     "metadata": {},
     "source": [
      "c) a, d \ub85c\uc6b0\ub4e4\uc758 \uac12\uc744 \uac00\uc838\uc624\uc2dc\uc624."
     ]
    },
    {
     "cell_type": "code",
     "collapsed": false,
     "input": [
      "# input yuour code"
     ],
     "language": "python",
     "metadata": {},
     "outputs": []
    },
    {
     "cell_type": "heading",
     "level": 5,
     "metadata": {},
     "source": [
      "d) numbers\uc758 \ud569\uc744 \uad6c\ud558\uc2dc\uc624."
     ]
    },
    {
     "cell_type": "code",
     "collapsed": false,
     "input": [
      "# input yuour code"
     ],
     "language": "python",
     "metadata": {},
     "outputs": []
    },
    {
     "cell_type": "heading",
     "level": 5,
     "metadata": {},
     "source": [
      "e) numbers\uc758 \uac12\ub4e4\uc744 \uac01\uac01 \uc81c\uacf1\ud558\uc2dc\uc624 (vectorized operations \ud45c\ud5cc\uc73c\ub85c \uc608] 2*v )"
     ]
    },
    {
     "cell_type": "markdown",
     "metadata": {},
     "source": [
      "###### \uc774\ub7f0 \uacb0\uacfc\uac00 \ub098\uc640\uc57c \ud568.\n",
      "\n",
      "  | numbers |\n",
      "----- | ------ \n",
      "a  | 100 \n",
      "b  | 400 \n",
      "c  | 900 \n",
      "d  | 1600 "
     ]
    },
    {
     "cell_type": "code",
     "collapsed": false,
     "input": [
      "# input yuour code"
     ],
     "language": "python",
     "metadata": {},
     "outputs": []
    },
    {
     "cell_type": "heading",
     "level": 5,
     "metadata": {},
     "source": [
      "f) numbers\uc758 \uac12\ub4e4\uc744 \uac01\uac01 \uc81c\uacf1\ud558\uc2dc\uc624(apply \uba54\uc11c\ub4dc \uc0ac\uc6a9\ud574\uc11c)"
     ]
    },
    {
     "cell_type": "code",
     "collapsed": false,
     "input": [
      "# input yuour code"
     ],
     "language": "python",
     "metadata": {},
     "outputs": []
    },
    {
     "cell_type": "heading",
     "level": 5,
     "metadata": {},
     "source": [
      "f) numbers\uc758 \uac12\ub4e4\uc744 \uac01\uac01 \uc81c\uacf1\ud558\uc2dc\uc624(apply \uba54\uc11c\ub4dc\uc5d0, \ub78c\ub2e4 \ud568\uc218\ub3c4 \uc0ac\uc6a9\ud574\uc11c)"
     ]
    },
    {
     "cell_type": "code",
     "collapsed": false,
     "input": [
      "# input yuour code"
     ],
     "language": "python",
     "metadata": {},
     "outputs": []
    },
    {
     "cell_type": "heading",
     "level": 5,
     "metadata": {},
     "source": [
      "g) floats\ub77c\ub294 \uc774\ub984\uc758 \uce7c\ub7fc\uc744 \ucd94\uac00\ud558\uc2dc\uc624. \uac12\uc740 1.5, 2.5, 3.5, 4.5"
     ]
    },
    {
     "cell_type": "markdown",
     "metadata": {},
     "source": [
      "###### \uc774\ub7f0 \uacb0\uacfc\uac00 \ub098\uc640\uc57c \ud568.\n",
      "\n",
      "| numbers | floats\n",
      "----- | ------ | ------\n",
      "a  | 10 | 1.5\n",
      "b  | 20 | 2.5\n",
      "c  | 30 | 3.5\n",
      "d  | 40 | 4.5"
     ]
    },
    {
     "cell_type": "code",
     "collapsed": false,
     "input": [
      "# input yuour code"
     ],
     "language": "python",
     "metadata": {},
     "outputs": []
    },
    {
     "cell_type": "heading",
     "level": 5,
     "metadata": {},
     "source": [
      "h) names\ub77c\ub294 \uc774\ub984\uc758 \ub2e4\uc74c\uacfc \uac19\uc740 \uce7c\ub7fc\uc744 \uc704\uc758 \uacb0\uacfc\uc5d0 \ub610 \ucd94\uac00\ud558\uc2dc\uc624. "
     ]
    },
    {
     "cell_type": "markdown",
     "metadata": {},
     "source": [
      " | names | \n",
      " ----- | ------\n",
      " d  | Guido \n",
      " a  | Felix\n",
      " b  | Francesc\n",
      " c  | Yves"
     ]
    },
    {
     "cell_type": "code",
     "collapsed": false,
     "input": [
      "# input yuour code"
     ],
     "language": "python",
     "metadata": {},
     "outputs": []
    },
    {
     "cell_type": "heading",
     "level": 5,
     "metadata": {},
     "source": [
      "i) \ub2e4\uc74c\uacfc \uac19\uc740 \uc815\ubcf4\ub97c \uac00\uc9c0\ub294 \ub85c\uc6b0(\ud589)\ub97c \uc704\uc758 \uacb0\uacfc\uc5d0 \ucd94\uac00\ud558\uc2dc\uc624"
     ]
    },
    {
     "cell_type": "code",
     "collapsed": false,
     "input": [
      "index:z, numbers: 100, floats: 5.75, names: Henry"
     ],
     "language": "python",
     "metadata": {},
     "outputs": []
    },
    {
     "cell_type": "code",
     "collapsed": false,
     "input": [
      "# input yuour code"
     ],
     "language": "python",
     "metadata": {},
     "outputs": []
    },
    {
     "cell_type": "heading",
     "level": 5,
     "metadata": {},
     "source": [
      "j) squares \ub77c\ub294 \uc774\ub984\uc758 \uce7c\ub7fc\uc744 \uc704\uc758 \uacb0\uacfc\uc5d0 \ucd94\uac00\ud558\uc2dc\uc624. \uadf8\ub7f0\ub370 squares\ub294 \uc778\ub371\uc2a4\uac12\uc774 \uc9dd\uc774 \ub9de\uc9c0 \uc54a\uc73c\ubbc0\ub85c join \uba54\uc11c\ub4dc\ub97c \uc0ac\uc6a9\ud558\uc2dc\uc624(\uae30\ubcf8\uc635\uc158\uc73c\ub85c)"
     ]
    },
    {
     "cell_type": "markdown",
     "metadata": {},
     "source": [
      "  | squares |\n",
      "----- | ------ \n",
      "a  | 1\n",
      "b  | 4\n",
      "c  | 9\n",
      "d  | 16\n",
      "y  | 25"
     ]
    },
    {
     "cell_type": "code",
     "collapsed": false,
     "input": [
      "# input yuour code"
     ],
     "language": "python",
     "metadata": {},
     "outputs": []
    },
    {
     "cell_type": "heading",
     "level": 5,
     "metadata": {},
     "source": [
      "k) j\uc640 \ub3d9\uc77c\ud558\ub098 join \uba54\uc11c\ub4dc\uc758 \uc635\uc158\uc744 'outer'\ub85c \ubc14\uafd4\uc11c \uc218\ud589\ud574\ubcf4\uc2dc\uc624."
     ]
    },
    {
     "cell_type": "code",
     "collapsed": false,
     "input": [
      "# input yuour code"
     ],
     "language": "python",
     "metadata": {},
     "outputs": []
    },
    {
     "cell_type": "heading",
     "level": 5,
     "metadata": {},
     "source": [
      "l) \uc704\uc758 \uacb0\uacfc\ub85c \ub098\uc628 \uc790\ub8cc\uc5d0\uc11c numbers \uce7c\ub7fc\uacfc squares \uce7c\ub7fc\uc5d0 \ub300\ud574, \uac01\uac01 \ud3c9\uade0\uc744 \uad6c\ud558\uc2dc\uc624. \ub2e4\uc74c\uacfc \uac19\uc740 \uacb0\uacfc\uac00 \ub098\uc640\uc57c \ud568. (mean \uba54\uc11c\ub4dc \uc0ac\uc6a9, column-wise \uacc4\uc0b0)"
     ]
    },
    {
     "cell_type": "code",
     "collapsed": false,
     "input": [
      "numbers 40\n",
      "squares 11"
     ],
     "language": "python",
     "metadata": {},
     "outputs": []
    },
    {
     "cell_type": "code",
     "collapsed": false,
     "input": [
      "# input yuour code"
     ],
     "language": "python",
     "metadata": {},
     "outputs": []
    },
    {
     "cell_type": "heading",
     "level": 5,
     "metadata": {},
     "source": [
      "m) numbers\uc640 squares \uce7c\ub7fc\uc5d0 \ub300\ud574, \uac01\uac01 \ud45c\uc900\ud3b8\ucc28\ub97c \uad6c\ud558\uc2dc\uc624 (std \uba54\uc11c\ub4dc \uc0ac\uc6a9, column-wise \uacc4\uc0b0)"
     ]
    },
    {
     "cell_type": "code",
     "collapsed": false,
     "input": [
      "# input yuour code"
     ],
     "language": "python",
     "metadata": {},
     "outputs": []
    },
    {
     "cell_type": "heading",
     "level": 4,
     "metadata": {},
     "source": [
      "(pandas \uae30\ubcf8) \ubb38\uc81c 2. DataFrame \ub2e4\ub8e8\uae30 (2)"
     ]
    },
    {
     "cell_type": "heading",
     "level": 5,
     "metadata": {},
     "source": [
      "a) \ud45c\uc900\uc815\uaddc\ubd84\ud3ec\ub97c \ub530\ub974\ub294 9 X 4 \ud615\ud0dc\uc758 DataFrame\uc744 \uc0dd\uc131\ud558\uc2dc\uc624"
     ]
    },
    {
     "cell_type": "code",
     "collapsed": false,
     "input": [
      "# input yuour code"
     ],
     "language": "python",
     "metadata": {},
     "outputs": []
    },
    {
     "cell_type": "heading",
     "level": 5,
     "metadata": {},
     "source": [
      "b) a\uc5d0\uc11c \uc0dd\uc131\ud55c DataFrame\uc758 \uce7c\ub7fc \uc774\ub984\uc744 - No1, No2, No2, No4\ub85c \uc9c0\uc815\ud558\uc2dc\uc624"
     ]
    },
    {
     "cell_type": "code",
     "collapsed": false,
     "input": [
      "# input yuour code"
     ],
     "language": "python",
     "metadata": {},
     "outputs": []
    },
    {
     "cell_type": "heading",
     "level": 5,
     "metadata": {},
     "source": [
      "e) \uc704\uc5d0\uc11c \uc0dd\uc131\ub41c \uc790\ub8cc\uc5d0, \uc2dc\uac04 \uad00\ub828 \uc778\ub371\uc2f1\uc744 \ud558\uae30 \uc704\ud574\uc11c\ub294 DataTime \uc790\ub8cc\ud615\uc744 \uc0dd\uc131\ud574\uc11c \ub85c\uc6b0 \uc778\ub371\uc2a4\uc5d0 \ub123\uc5b4\uc8fc\ub294 \ubc29\ubc95\uc774 \uc788\ub2e4.  \uc544\ub798\ucf54\ub4dc\ub97c \uc2e4\ud589\ud558\uc2dc\uc624"
     ]
    },
    {
     "cell_type": "code",
     "collapsed": false,
     "input": [
      "# import pandas as pd \ub77c\ub294 \uac00\uc815\ud558\uc5d0.\n",
      "dates = pd.date_range(\u20182015-1-1\u2019, periods=9, freq=\u2018M\u2019)\n",
      "df.index = dates # a\uc640 b\ub97c \uac70\uccd0\uc11c \ub9cc\ub4e4\uc5b4\uc9c4 DataFrame \uc778\uc2a4\ud134\uc2a4\uc758 \ubcc0\uc218\uba85\uc774 df\ub77c\uace0 \uac00\uc815.\n",
      "df"
     ],
     "language": "python",
     "metadata": {},
     "outputs": []
    },
    {
     "cell_type": "code",
     "collapsed": false,
     "input": [
      "# input yuour code"
     ],
     "language": "python",
     "metadata": {},
     "outputs": []
    },
    {
     "cell_type": "heading",
     "level": 5,
     "metadata": {},
     "source": [
      "f) \uac01 \uceec\ub7fc\uc758 \ud3c9\uade0\uc744 \uad6c\ud558\uc2dc\uc624"
     ]
    },
    {
     "cell_type": "code",
     "collapsed": false,
     "input": [
      "# input yuour code"
     ],
     "language": "python",
     "metadata": {},
     "outputs": []
    },
    {
     "cell_type": "heading",
     "level": 5,
     "metadata": {},
     "source": [
      "f) 5\uc6d4\ubd80\ud130 7\uc6d4\uae4c\uc9c0\uc758, \uac01 \uceec\ub7fc\uc758 \ud3c9\uade0\uc744 \uad6c\ud558\uc2dc\uc624"
     ]
    },
    {
     "cell_type": "code",
     "collapsed": false,
     "input": [
      "# input yuour code"
     ],
     "language": "python",
     "metadata": {},
     "outputs": []
    },
    {
     "cell_type": "heading",
     "level": 2,
     "metadata": {},
     "source": [
      "\uc751\uc6a9"
     ]
    },
    {
     "cell_type": "markdown",
     "metadata": {},
     "source": [
      "* \uc751\uc6a9\ubb38\uc81c 1 - pandas\uc758 DataFrame\uc744 \uc774\uc6a9\ud55c \uc5d1\uc140\ud30c\uc77c \ubd84\uc11d\n",
      "* \uc751\uc6a9\ubb38\uc81c 2 - pandas\uc758 DataFrame\uc744 \uc774\uc6a9\ud55c \uc8fc\uc2dd \ub370\uc774\ud130 \ubd84\uc11d [3]"
     ]
    },
    {
     "cell_type": "heading",
     "level": 3,
     "metadata": {},
     "source": [
      "\uc751\uc6a9\ubb38\uc81c 1 - pandas\uc758 DataFrame\uc744 \uc774\uc6a9\ud55c \uc5d1\uc140\ud30c\uc77c \ubd84\uc11d"
     ]
    },
    {
     "cell_type": "markdown",
     "metadata": {},
     "source": [
      "* 01_data/ex/person.xls \ud30c\uc77c\uc744 pandas\ub85c \uc77d\uc5b4\uc11c DataFrame \uc790\ub8cc\ub85c \ubc1b\ub294\ub2e4.\n",
      "* (\ud78c\ud2b8, \uc5d1\uc140\uc5d0\uc11c \uc5f4\uc5b4\uc11c csv \ud3ec\ub9f7\uc73c\ub85c \ubc14\uafb8\uba74 \ud6e8\uc52c \uc26c\uc6cc\uc9c4\ub2e4)"
     ]
    },
    {
     "cell_type": "heading",
     "level": 5,
     "metadata": {},
     "source": [
      "1) score\uc758 \ud3c9\uade0\uc744 \uad6c\ud558\uae30"
     ]
    },
    {
     "cell_type": "code",
     "collapsed": false,
     "input": [
      "# input yuour code"
     ],
     "language": "python",
     "metadata": {},
     "outputs": []
    },
    {
     "cell_type": "heading",
     "level": 5,
     "metadata": {},
     "source": [
      "2) \ub0a8,\ub140\ubcc4 score \ud3c9\uade0 \uad6c\ud558\uae30"
     ]
    },
    {
     "cell_type": "code",
     "collapsed": false,
     "input": [
      "# input yuour code"
     ],
     "language": "python",
     "metadata": {},
     "outputs": []
    },
    {
     "cell_type": "heading",
     "level": 5,
     "metadata": {},
     "source": [
      "3) \uac01 email\uc758 \uac12\uc740 \ube44\uc6cc\uc838\uc788\ub2e4. \ucc44\uc6cc\ub123\uc5b4\ubcf4\uc790. \uc774\uba54\uc77c\uc740 '\uc544\uc774\ub514@\ud68c\uc0ac\uc774\ub984.com' \uaddc\uce59\uc744 \ub530\ub978\ub2e4. \uc608\ub97c\ub4e4\uc5b4 id\uac00 user1\uc774\uace0 \ud68c\uc0ac\uac00 naver\uc774\uba74 \uadf8 \uc0ac\ub78c\uc758 email\uc740 user1@naver.com \uc774\ub2e4."
     ]
    },
    {
     "cell_type": "code",
     "collapsed": false,
     "input": [
      "# input yuour code"
     ],
     "language": "python",
     "metadata": {},
     "outputs": []
    },
    {
     "cell_type": "heading",
     "level": 3,
     "metadata": {},
     "source": [
      "\uc751\uc6a9\ubb38\uc81c 2 - pandas\uc758 DataFrame\uc744 \uc774\uc6a9\ud55c \uc8fc\uc2dd \ub370\uc774\ud130 \ubd84\uc11d"
     ]
    },
    {
     "cell_type": "heading",
     "level": 5,
     "metadata": {},
     "source": [
      "\uc57c\ud6c4 \ud30c\uc774\ub0b8\uc2a4 API\ub97c \uc774\uc6a9\ud574\uc11c \ud2b9\uc815 \uc8fc\uc2dd\uc758 \uc815\ubcf4\ub97c \ubc1b\uc544\uc624\ub294 \ucf54\ub4dc\ub294 \uc544\ub798\uc640 \uac19\ub2e4. "
     ]
    },
    {
     "cell_type": "code",
     "collapsed": false,
     "input": [
      "import pandas as pd\n",
      "import pandas.io.data as web\n",
      "\n",
      "DAX = web.DataReader(name='^GDAXI', data_source='yahoo', start='2000-1-1')\n",
      "DAX.info()"
     ],
     "language": "python",
     "metadata": {},
     "outputs": [
      {
       "output_type": "stream",
       "stream": "stdout",
       "text": [
        "<class 'pandas.core.frame.DataFrame'>\n",
        "DatetimeIndex: 3873 entries, 2000-01-03 00:00:00 to 2015-03-12 00:00:00\n",
        "Data columns (total 6 columns):\n",
        "Open         3873 non-null float64\n",
        "High         3873 non-null float64\n",
        "Low          3873 non-null float64\n",
        "Close        3873 non-null float64\n",
        "Volume       3873 non-null int64\n",
        "Adj Close    3873 non-null float64\n",
        "dtypes: float64(5), int64(1)\n",
        "memory usage: 211.8 KB\n"
       ]
      }
     ],
     "prompt_number": 5
    },
    {
     "cell_type": "code",
     "collapsed": false,
     "input": [
      "DAX.head()"
     ],
     "language": "python",
     "metadata": {},
     "outputs": [
      {
       "html": [
        "<div style=\"max-height:1000px;max-width:1500px;overflow:auto;\">\n",
        "<table border=\"1\" class=\"dataframe\">\n",
        "  <thead>\n",
        "    <tr style=\"text-align: right;\">\n",
        "      <th></th>\n",
        "      <th>Open</th>\n",
        "      <th>High</th>\n",
        "      <th>Low</th>\n",
        "      <th>Close</th>\n",
        "      <th>Volume</th>\n",
        "      <th>Adj Close</th>\n",
        "    </tr>\n",
        "    <tr>\n",
        "      <th>Date</th>\n",
        "      <th></th>\n",
        "      <th></th>\n",
        "      <th></th>\n",
        "      <th></th>\n",
        "      <th></th>\n",
        "      <th></th>\n",
        "    </tr>\n",
        "  </thead>\n",
        "  <tbody>\n",
        "    <tr>\n",
        "      <th>2000-01-03</th>\n",
        "      <td> 6961.72</td>\n",
        "      <td> 7159.33</td>\n",
        "      <td> 6720.87</td>\n",
        "      <td> 6750.76</td>\n",
        "      <td> 0</td>\n",
        "      <td> 6750.76</td>\n",
        "    </tr>\n",
        "    <tr>\n",
        "      <th>2000-01-04</th>\n",
        "      <td> 6747.24</td>\n",
        "      <td> 6755.36</td>\n",
        "      <td> 6510.46</td>\n",
        "      <td> 6586.95</td>\n",
        "      <td> 0</td>\n",
        "      <td> 6586.95</td>\n",
        "    </tr>\n",
        "    <tr>\n",
        "      <th>2000-01-05</th>\n",
        "      <td> 6585.85</td>\n",
        "      <td> 6585.85</td>\n",
        "      <td> 6388.91</td>\n",
        "      <td> 6502.07</td>\n",
        "      <td> 0</td>\n",
        "      <td> 6502.07</td>\n",
        "    </tr>\n",
        "    <tr>\n",
        "      <th>2000-01-06</th>\n",
        "      <td> 6501.45</td>\n",
        "      <td> 6539.31</td>\n",
        "      <td> 6402.63</td>\n",
        "      <td> 6474.92</td>\n",
        "      <td> 0</td>\n",
        "      <td> 6474.92</td>\n",
        "    </tr>\n",
        "    <tr>\n",
        "      <th>2000-01-07</th>\n",
        "      <td> 6489.94</td>\n",
        "      <td> 6791.53</td>\n",
        "      <td> 6470.14</td>\n",
        "      <td> 6780.96</td>\n",
        "      <td> 0</td>\n",
        "      <td> 6780.96</td>\n",
        "    </tr>\n",
        "  </tbody>\n",
        "</table>\n",
        "</div>"
       ],
       "metadata": {},
       "output_type": "pyout",
       "prompt_number": 7,
       "text": [
        "               Open     High      Low    Close  Volume  Adj Close\n",
        "Date                                                             \n",
        "2000-01-03  6961.72  7159.33  6720.87  6750.76       0    6750.76\n",
        "2000-01-04  6747.24  6755.36  6510.46  6586.95       0    6586.95\n",
        "2000-01-05  6585.85  6585.85  6388.91  6502.07       0    6502.07\n",
        "2000-01-06  6501.45  6539.31  6402.63  6474.92       0    6474.92\n",
        "2000-01-07  6489.94  6791.53  6470.14  6780.96       0    6780.96"
       ]
      }
     ],
     "prompt_number": 7
    },
    {
     "cell_type": "code",
     "collapsed": false,
     "input": [
      "DAX.tail()"
     ],
     "language": "python",
     "metadata": {},
     "outputs": [
      {
       "html": [
        "<div style=\"max-height:1000px;max-width:1500px;overflow:auto;\">\n",
        "<table border=\"1\" class=\"dataframe\">\n",
        "  <thead>\n",
        "    <tr style=\"text-align: right;\">\n",
        "      <th></th>\n",
        "      <th>Open</th>\n",
        "      <th>High</th>\n",
        "      <th>Low</th>\n",
        "      <th>Close</th>\n",
        "      <th>Volume</th>\n",
        "      <th>Adj Close</th>\n",
        "    </tr>\n",
        "    <tr>\n",
        "      <th>Date</th>\n",
        "      <th></th>\n",
        "      <th></th>\n",
        "      <th></th>\n",
        "      <th></th>\n",
        "      <th></th>\n",
        "      <th></th>\n",
        "    </tr>\n",
        "  </thead>\n",
        "  <tbody>\n",
        "    <tr>\n",
        "      <th>2015-03-06</th>\n",
        "      <td> 11513.89</td>\n",
        "      <td> 11600.37</td>\n",
        "      <td> 11495.20</td>\n",
        "      <td> 11550.97</td>\n",
        "      <td>         0</td>\n",
        "      <td> 11550.97</td>\n",
        "    </tr>\n",
        "    <tr>\n",
        "      <th>2015-03-09</th>\n",
        "      <td> 11510.35</td>\n",
        "      <td> 11586.94</td>\n",
        "      <td> 11461.86</td>\n",
        "      <td> 11582.11</td>\n",
        "      <td>         0</td>\n",
        "      <td> 11582.11</td>\n",
        "    </tr>\n",
        "    <tr>\n",
        "      <th>2015-03-10</th>\n",
        "      <td> 11555.97</td>\n",
        "      <td> 11577.75</td>\n",
        "      <td> 11402.67</td>\n",
        "      <td> 11500.38</td>\n",
        "      <td>         0</td>\n",
        "      <td> 11500.38</td>\n",
        "    </tr>\n",
        "    <tr>\n",
        "      <th>2015-03-11</th>\n",
        "      <td> 11531.55</td>\n",
        "      <td> 11822.53</td>\n",
        "      <td> 11531.55</td>\n",
        "      <td> 11805.99</td>\n",
        "      <td>         0</td>\n",
        "      <td> 11805.99</td>\n",
        "    </tr>\n",
        "    <tr>\n",
        "      <th>2015-03-12</th>\n",
        "      <td> 11795.91</td>\n",
        "      <td> 11830.14</td>\n",
        "      <td> 11754.90</td>\n",
        "      <td> 11799.39</td>\n",
        "      <td> 116256000</td>\n",
        "      <td> 11799.39</td>\n",
        "    </tr>\n",
        "  </tbody>\n",
        "</table>\n",
        "</div>"
       ],
       "metadata": {},
       "output_type": "pyout",
       "prompt_number": 6,
       "text": [
        "                Open      High       Low     Close     Volume  Adj Close\n",
        "Date                                                                    \n",
        "2015-03-06  11513.89  11600.37  11495.20  11550.97          0   11550.97\n",
        "2015-03-09  11510.35  11586.94  11461.86  11582.11          0   11582.11\n",
        "2015-03-10  11555.97  11577.75  11402.67  11500.38          0   11500.38\n",
        "2015-03-11  11531.55  11822.53  11531.55  11805.99          0   11805.99\n",
        "2015-03-12  11795.91  11830.14  11754.90  11799.39  116256000   11799.39"
       ]
      }
     ],
     "prompt_number": 6
    },
    {
     "cell_type": "heading",
     "level": 5,
     "metadata": {},
     "source": [
      "a) \uc704\uc758 \ucf54\ub4dc\ub97c \uc2e4\ud589\ud574\uc11c \uac12\uc744 \uac00\uc838\uc624\uc2dc\uc624"
     ]
    },
    {
     "cell_type": "code",
     "collapsed": false,
     "input": [
      "# input yuour code"
     ],
     "language": "python",
     "metadata": {},
     "outputs": []
    },
    {
     "cell_type": "heading",
     "level": 5,
     "metadata": {},
     "source": [
      "b) High\uc640 Low\uc758 \ucc28\uc774\ub97c \uacc4\uc0b0\ud574\uc11c Diff\ub77c\ub294 \uc774\ub984\uc758 \uce7c\ub7fc\uc744 \ub9cc\ub4e4\uc5b4 \uadf8 \uacb0\uacfc\ub97c \ubc18\uc601\ud558\uc2dc\uc624."
     ]
    },
    {
     "cell_type": "code",
     "collapsed": false,
     "input": [
      "# input yuour code"
     ],
     "language": "python",
     "metadata": {},
     "outputs": []
    },
    {
     "cell_type": "heading",
     "level": 5,
     "metadata": {},
     "source": [
      "c) 2015\ub144\uc758 Open, High, Low, Close\uc758 \uac01 \ud3c9\uade0\uc744 \uad6c\ud558\uc2dc\uc624"
     ]
    },
    {
     "cell_type": "code",
     "collapsed": false,
     "input": [
      "# input yuour code"
     ],
     "language": "python",
     "metadata": {},
     "outputs": []
    },
    {
     "cell_type": "markdown",
     "metadata": {},
     "source": [
      "## \ucc38\uace0\uc790\ub8cc \n",
      "\n",
      " * [1] \ub370\uc774\ud130/\uc218\uce58 \ubd84\uc11d\uc744 \uc704\ud55c \ud30c\uc774\uc36c \ub77c\uc774\ube0c\ub7ec\ub9ac SciPy\uc640 NumPy - http://www.hanbit.co.kr/ebook/look.html?isbn=9788968486135\n",
      " * [2] \ud30c\uc774\uc36c \ub77c\uc774\ube0c\ub7ec\ub9ac\ub97c \ud65c\uc6a9\ud55c \ub370\uc774\ud130 \ubd84\uc11d - http://www.hanbit.co.kr/book/look.html?isbn=978-89-6848-047-8\n",
      " * [3] Python for Finance - http://shop.oreilly.com/product/0636920032441.do"
     ]
    }
   ],
   "metadata": {}
  }
 ]
}