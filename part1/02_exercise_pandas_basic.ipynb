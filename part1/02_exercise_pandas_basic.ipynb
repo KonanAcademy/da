{
 "metadata": {
  "name": "",
  "signature": "sha256:5c4ef88b1301fc59ae750df81da076f92f337c36d72b8aea59baed5c841d3e57"
 },
 "nbformat": 3,
 "nbformat_minor": 0,
 "worksheets": [
  {
   "cells": [
    {
     "cell_type": "heading",
     "level": 1,
     "metadata": {},
     "source": [
      "02. \ud30c\uc774\uc36c pandas \uae30\ucd08 \uc5f0\uc2b5\ubb38\uc81c"
     ]
    },
    {
     "cell_type": "markdown",
     "metadata": {},
     "source": [
      "* \ucf54\ub09c\uc544\uce74\ub370\ubbf8 : \ub370\uc774\ud130\ubd84\uc11d \uae30\ucd08\n",
      "* \uc791\uc131\uc790 : \uae40\ubb34\uc131    "
     ]
    },
    {
     "cell_type": "heading",
     "level": 1,
     "metadata": {},
     "source": [
      "\ucc28\ub840"
     ]
    },
    {
     "cell_type": "markdown",
     "metadata": {},
     "source": [
      "* \uae30\ucd08\n",
      "* \uc751\uc6a9"
     ]
    },
    {
     "cell_type": "heading",
     "level": 2,
     "metadata": {},
     "source": [
      "\uae30\ucd08 [1]"
     ]
    },
    {
     "cell_type": "markdown",
     "metadata": {},
     "source": [
      "* numpy \uae30\ucd08\n",
      "  - (numpy \uae30\ubcf8) \ubb38\uc81c 1. ndarray \ub2e4\ub8e8\uae30 (1)\n",
      "  - (numpy \uae30\ubcf8) \ubb38\uc81c 2. ndarray \ub2e4\ub8e8\uae30 (2)\n",
      "  - (numpy \uc120\ud615\ub300\uc218) \ubb38\uc81c 3. \uc120\ud615\ubc29\uc815\uc2dd \ud480\uae30(\ud574 \uad6c\ud558\uae30)\n",
      "* pandas \uae30\ucd08\n",
      "  - (pandas \uae30\ubcf8) \ubb38\uc81c 1. DataFrame \ub2e4\ub8e8\uae30 (1)\n",
      "  - (pandas \uae30\ubcf8) \ubb38\uc81c 2. DataFrame \ub2e4\ub8e8\uae30 (2)"
     ]
    },
    {
     "cell_type": "heading",
     "level": 3,
     "metadata": {},
     "source": [
      " numpy \uae30\ucd08"
     ]
    },
    {
     "cell_type": "heading",
     "level": 4,
     "metadata": {},
     "source": [
      "(numpy \uae30\ubcf8) \ubb38\uc81c 1. ndarray \ub2e4\ub8e8\uae30 (1"
     ]
    },
    {
     "cell_type": "heading",
     "level": 5,
     "metadata": {},
     "source": [
      "\ub2e4\uc74c\uc758 \ub370\uc774\ud130\ub97c \uc0ac\uc6a9\ud558\uc2dc\uc624"
     ]
    },
    {
     "cell_type": "code",
     "collapsed": false,
     "input": [
      "2 3 5 6 7 10"
     ],
     "language": "python",
     "metadata": {},
     "outputs": [],
     "prompt_number": 1
    },
    {
     "cell_type": "heading",
     "level": 5,
     "metadata": {},
     "source": [
      "a) \ub370\uc774\ud130 \ubca1\ud130 x\ub97c \ub9cc\ub4dc\uc2dc\uc624"
     ]
    },
    {
     "cell_type": "code",
     "collapsed": false,
     "input": [
      "# input yuour code"
     ],
     "language": "python",
     "metadata": {},
     "outputs": []
    },
    {
     "cell_type": "heading",
     "level": 5,
     "metadata": {},
     "source": [
      "b) \uac01 \ub370\uc774\ud130\uc758 \uc81c\uacf1\uc73c\ub85c \uad6c\uc131\ub41c \ubca1\ud130 x2\ub97c \ub9cc\ub4dc\uc2dc\uc624"
     ]
    },
    {
     "cell_type": "code",
     "collapsed": false,
     "input": [
      "# input yuour code"
     ],
     "language": "python",
     "metadata": {},
     "outputs": []
    },
    {
     "cell_type": "heading",
     "level": 5,
     "metadata": {},
     "source": [
      "c) \uac01 \ub370\uc774\ud130\uc758 \uc81c\uacf1\uc758 \ud569\uc744 \uad6c\ud558\uc2dc\uc624"
     ]
    },
    {
     "cell_type": "code",
     "collapsed": false,
     "input": [
      "# input yuour code"
     ],
     "language": "python",
     "metadata": {},
     "outputs": []
    },
    {
     "cell_type": "heading",
     "level": 5,
     "metadata": {},
     "source": [
      "d) \uac01 \ub370\uc774\ud130\uc5d0\uc11c 2\ub97c \ube80 \uac12\uc744 \uad6c\ud558\uc2dc\uc624"
     ]
    },
    {
     "cell_type": "code",
     "collapsed": false,
     "input": [
      "# input yuour code"
     ],
     "language": "python",
     "metadata": {},
     "outputs": []
    },
    {
     "cell_type": "heading",
     "level": 5,
     "metadata": {},
     "source": [
      "e) \ucd5c\ub300\uac12\uacfc \ucd5c\uc18c\uac12\uc744 \uad6c\ud558\uc2dc\uc624"
     ]
    },
    {
     "cell_type": "code",
     "collapsed": false,
     "input": [
      "# input yuour code"
     ],
     "language": "python",
     "metadata": {},
     "outputs": []
    },
    {
     "cell_type": "heading",
     "level": 5,
     "metadata": {},
     "source": [
      "f) 5\ubcf4\ub2e4 \ud070 \uac12\ub4e4\ub85c\ub9cc \uad6c\uc131\ub41c \ub370\uc774\ud130 \ubca1\ud130 x_up\uc744 \ub9cc\ub4dc\uc2dc\uc624"
     ]
    },
    {
     "cell_type": "code",
     "collapsed": false,
     "input": [
      "# input yuour code"
     ],
     "language": "python",
     "metadata": {},
     "outputs": []
    },
    {
     "cell_type": "heading",
     "level": 5,
     "metadata": {},
     "source": [
      "g) \ubca1\ud130 x\uc758 \uae38\uc774\ub97c \uad6c\ud558\uc2dc\uc624"
     ]
    },
    {
     "cell_type": "code",
     "collapsed": false,
     "input": [
      "# input yuour code"
     ],
     "language": "python",
     "metadata": {},
     "outputs": []
    },
    {
     "cell_type": "heading",
     "level": 5,
     "metadata": {},
     "source": [
      "h) x'x\ub97c \uad6c\ud558\uc2dc\uc624 (x'\ub294 x\uc758 \uc804\uce58)"
     ]
    },
    {
     "cell_type": "code",
     "collapsed": false,
     "input": [
      "# input yuour code"
     ],
     "language": "python",
     "metadata": {},
     "outputs": []
    },
    {
     "cell_type": "heading",
     "level": 5,
     "metadata": {},
     "source": [
      "i) xx'\ub97c \uad6c\ud558\uc2dc\uc624"
     ]
    },
    {
     "cell_type": "code",
     "collapsed": false,
     "input": [
      "# input yuour code"
     ],
     "language": "python",
     "metadata": {},
     "outputs": []
    },
    {
     "cell_type": "heading",
     "level": 5,
     "metadata": {},
     "source": [
      "j) \ubca1\ud130 x\uc640 x2\ub97c \uc5f4\uacb0\ud569(column bind)\ud558\uc5ec xc\uc5d0 \uc800\uc7a5\ud558\uc2dc\uc624"
     ]
    },
    {
     "cell_type": "code",
     "collapsed": false,
     "input": [
      "# input yuour code"
     ],
     "language": "python",
     "metadata": {},
     "outputs": []
    },
    {
     "cell_type": "heading",
     "level": 5,
     "metadata": {},
     "source": [
      "k) \ubca1\ud130 x\uc640 x2\ub97c \ud589\uacb0\ud569(row bind)\ud558\uc5ec xr\uc5d0 \uc800\uc7a5\ud558\uc2dc\uc624"
     ]
    },
    {
     "cell_type": "code",
     "collapsed": false,
     "input": [
      "# input yuour code"
     ],
     "language": "python",
     "metadata": {},
     "outputs": []
    },
    {
     "cell_type": "heading",
     "level": 4,
     "metadata": {},
     "source": [
      "(numpy \uae30\ubcf8) \ubb38\uc81c 2. ndarray \ub2e4\ub8e8\uae30 (2)"
     ]
    },
    {
     "cell_type": "heading",
     "level": 5,
     "metadata": {},
     "source": [
      "a ) \ud45c\uc900\uc815\uaddc\ubd84\ud3ec\ub97c \ub530\ub974\ub294 \ub09c\uc218 100\uac1c\ub97c \uac00\uc9c4 \ubc30\uc5f4 x\ub97c \ub9cc\ub4dc\uc2dc\uc624"
     ]
    },
    {
     "cell_type": "code",
     "collapsed": false,
     "input": [
      "# input yuour code"
     ],
     "language": "python",
     "metadata": {},
     "outputs": []
    },
    {
     "cell_type": "heading",
     "level": 5,
     "metadata": {},
     "source": [
      "b) x\uc5d0\uc11c \uac12\uc774 0.2 \ubcf4\ub2e4 \ud070 \uc6d0\uc18c\ub4e4\uc744 \uace8\ub77c\ub0b4\uc2dc\uc624"
     ]
    },
    {
     "cell_type": "code",
     "collapsed": false,
     "input": [
      "# input yuour code"
     ],
     "language": "python",
     "metadata": {},
     "outputs": []
    },
    {
     "cell_type": "heading",
     "level": 4,
     "metadata": {},
     "source": [
      "(numpy \uc120\ud615\ub300\uc218) \ubb38\uc81c 3. \uc120\ud615\ubc29\uc815\uc2dd \ud480\uae30(\ud574 \uad6c\ud558\uae30)"
     ]
    },
    {
     "cell_type": "heading",
     "level": 5,
     "metadata": {},
     "source": [
      "\ub2e4\uc74c\uacfc \uac19\uc740 \ubc29\uc815\uc2dd\uc774 \uc788\ub2e4."
     ]
    },
    {
     "cell_type": "code",
     "collapsed": false,
     "input": [
      "3x + 6y - 5z = 12\n",
      "x - 3y + 2z = -2\n",
      "5x - y + 4z = 10"
     ],
     "language": "python",
     "metadata": {},
     "outputs": [],
     "prompt_number": 3
    },
    {
     "cell_type": "heading",
     "level": 5,
     "metadata": {},
     "source": [
      "a) \uc704 \uc2dd\uc744 numpy\ub97c \uc774\uc6a9\ud574\uc11c Ax=B \ud615\ud0dc\ub85c \ub098\ud0c0\ub0b4\uc2dc\uc624 (A\uc640 B\ub9cc \uc0dd\uc131)"
     ]
    },
    {
     "cell_type": "code",
     "collapsed": false,
     "input": [
      "# input yuour code"
     ],
     "language": "python",
     "metadata": {},
     "outputs": []
    },
    {
     "cell_type": "heading",
     "level": 5,
     "metadata": {},
     "source": [
      "b) A\uc758 \uc5ed\ud589\ub82c\uc744 \uad6c\ud558\uc2dc\uc624"
     ]
    },
    {
     "cell_type": "code",
     "collapsed": false,
     "input": [
      "# input yuour code"
     ],
     "language": "python",
     "metadata": {},
     "outputs": []
    },
    {
     "cell_type": "heading",
     "level": 5,
     "metadata": {},
     "source": [
      "c) \ubc29\uc815\uc2dd\uc758 \ud574 \ubca1\ud130 x\ub97c \uad6c\ud558\uc2dc\uc624"
     ]
    },
    {
     "cell_type": "code",
     "collapsed": false,
     "input": [
      "# input yuour code"
     ],
     "language": "python",
     "metadata": {},
     "outputs": []
    },
    {
     "cell_type": "heading",
     "level": 3,
     "metadata": {},
     "source": [
      "pandas \uae30\ucd08"
     ]
    },
    {
     "cell_type": "heading",
     "level": 4,
     "metadata": {},
     "source": [
      "(pandas \uae30\ubcf8) \ubb38\uc81c 1. DataFrame \ub2e4\ub8e8\uae30 (1)"
     ]
    },
    {
     "cell_type": "markdown",
     "metadata": {},
     "source": [
      "   | numbers |\n",
      "----- | ------ \n",
      "a  | 10 \n",
      "b  | 20 \n",
      "c  | 30 \n",
      "d  | 40 \n"
     ]
    },
    {
     "cell_type": "heading",
     "level": 5,
     "metadata": {},
     "source": [
      "a) DataFrame\uc73c\ub85c \uc704\uc640 \uac19\uc740 \uc790\ub8cc\ub97c \ub9cc\ub4dc\uc2dc\uc624. \uceec\ub7fc \uc774\ub984\uc740 numbers, \ub85c\uc6b0 \ub124\uc784\uc740 a~e, \uac12\uc740 10~40"
     ]
    },
    {
     "cell_type": "code",
     "collapsed": false,
     "input": [
      "# input yuour code"
     ],
     "language": "python",
     "metadata": {},
     "outputs": []
    },
    {
     "cell_type": "heading",
     "level": 5,
     "metadata": {},
     "source": [
      "b) c \ub85c\uc6b0\uc758 \uac12\uc744 \uac00\uc838\uc624\uc2dc\uc624."
     ]
    },
    {
     "cell_type": "code",
     "collapsed": false,
     "input": [
      "# input yuour code"
     ],
     "language": "python",
     "metadata": {},
     "outputs": []
    },
    {
     "cell_type": "heading",
     "level": 5,
     "metadata": {},
     "source": [
      "c) a, d \ub85c\uc6b0\ub4e4\uc758 \uac12\uc744 \uac00\uc838\uc624\uc2dc\uc624."
     ]
    },
    {
     "cell_type": "code",
     "collapsed": false,
     "input": [
      "# input yuour code"
     ],
     "language": "python",
     "metadata": {},
     "outputs": []
    },
    {
     "cell_type": "heading",
     "level": 5,
     "metadata": {},
     "source": [
      "d) numbers\uc758 \ud569\uc744 \uad6c\ud558\uc2dc\uc624."
     ]
    },
    {
     "cell_type": "code",
     "collapsed": false,
     "input": [
      "# input yuour code"
     ],
     "language": "python",
     "metadata": {},
     "outputs": []
    },
    {
     "cell_type": "heading",
     "level": 5,
     "metadata": {},
     "source": [
      "e) numbers\uc758 \uac12\ub4e4\uc744 \uac01\uac01 \uc81c\uacf1\ud558\uc2dc\uc624 (vectorized operations \ud45c\ud5cc\uc73c\ub85c \uc608] 2*v )"
     ]
    },
    {
     "cell_type": "markdown",
     "metadata": {},
     "source": [
      "###### \uc774\ub7f0 \uacb0\uacfc\uac00 \ub098\uc640\uc57c \ud568.\n",
      "\n",
      "  | numbers |\n",
      "----- | ------ \n",
      "a  | 100 \n",
      "b  | 400 \n",
      "c  | 900 \n",
      "d  | 1600 "
     ]
    },
    {
     "cell_type": "code",
     "collapsed": false,
     "input": [
      "# input yuour code"
     ],
     "language": "python",
     "metadata": {},
     "outputs": []
    },
    {
     "cell_type": "heading",
     "level": 5,
     "metadata": {},
     "source": [
      "f) numbers\uc758 \uac12\ub4e4\uc744 \uac01\uac01 \uc81c\uacf1\ud558\uc2dc\uc624(apply \uba54\uc11c\ub4dc \uc0ac\uc6a9\ud574\uc11c)"
     ]
    },
    {
     "cell_type": "code",
     "collapsed": false,
     "input": [
      "# input yuour code"
     ],
     "language": "python",
     "metadata": {},
     "outputs": []
    },
    {
     "cell_type": "heading",
     "level": 5,
     "metadata": {},
     "source": [
      "f) numbers\uc758 \uac12\ub4e4\uc744 \uac01\uac01 \uc81c\uacf1\ud558\uc2dc\uc624(apply \uba54\uc11c\ub4dc\uc5d0, \ub78c\ub2e4 \ud568\uc218\ub3c4 \uc0ac\uc6a9\ud574\uc11c)"
     ]
    },
    {
     "cell_type": "code",
     "collapsed": false,
     "input": [
      "# input yuour code"
     ],
     "language": "python",
     "metadata": {},
     "outputs": []
    },
    {
     "cell_type": "heading",
     "level": 5,
     "metadata": {},
     "source": [
      "g) floats\ub77c\ub294 \uc774\ub984\uc758 \uce7c\ub7fc\uc744 \ucd94\uac00\ud558\uc2dc\uc624. \uac12\uc740 1.5, 2.5, 3.5, 4.5"
     ]
    },
    {
     "cell_type": "markdown",
     "metadata": {},
     "source": [
      "###### \uc774\ub7f0 \uacb0\uacfc\uac00 \ub098\uc640\uc57c \ud568.\n",
      "\n",
      "| numbers | floats\n",
      "----- | ------ | ------\n",
      "a  | 10 | 1.5\n",
      "b  | 20 | 2.5\n",
      "c  | 30 | 3.5\n",
      "d  | 40 | 4.5"
     ]
    },
    {
     "cell_type": "code",
     "collapsed": false,
     "input": [
      "# input yuour code"
     ],
     "language": "python",
     "metadata": {},
     "outputs": []
    },
    {
     "cell_type": "heading",
     "level": 5,
     "metadata": {},
     "source": [
      "h) names\ub77c\ub294 \uc774\ub984\uc758 \ub2e4\uc74c\uacfc \uac19\uc740 \uce7c\ub7fc\uc744 \uc704\uc758 \uacb0\uacfc\uc5d0 \ub610 \ucd94\uac00\ud558\uc2dc\uc624. "
     ]
    },
    {
     "cell_type": "markdown",
     "metadata": {},
     "source": [
      " | names | \n",
      " ----- | ------\n",
      " d  | Guido \n",
      " a  | Felix\n",
      " b  | Francesc\n",
      " c  | Yves"
     ]
    },
    {
     "cell_type": "code",
     "collapsed": false,
     "input": [
      "# input yuour code"
     ],
     "language": "python",
     "metadata": {},
     "outputs": []
    },
    {
     "cell_type": "heading",
     "level": 5,
     "metadata": {},
     "source": [
      "i) \ub2e4\uc74c\uacfc \uac19\uc740 \uc815\ubcf4\ub97c \uac00\uc9c0\ub294 \ub85c\uc6b0(\ud589)\ub97c \uc704\uc758 \uacb0\uacfc\uc5d0 \ucd94\uac00\ud558\uc2dc\uc624"
     ]
    },
    {
     "cell_type": "code",
     "collapsed": false,
     "input": [
      "index:z, numbers: 100, floats: 5.75, names: Henry"
     ],
     "language": "python",
     "metadata": {},
     "outputs": []
    },
    {
     "cell_type": "code",
     "collapsed": false,
     "input": [
      "# input yuour code"
     ],
     "language": "python",
     "metadata": {},
     "outputs": []
    },
    {
     "cell_type": "heading",
     "level": 5,
     "metadata": {},
     "source": [
      "j) squares \ub77c\ub294 \uc774\ub984\uc758 \uce7c\ub7fc\uc744 \uc704\uc758 \uacb0\uacfc\uc5d0 \ucd94\uac00\ud558\uc2dc\uc624. \uadf8\ub7f0\ub370 squares\ub294 \uc778\ub371\uc2a4\uac12\uc774 \uc9dd\uc774 \ub9de\uc9c0 \uc54a\uc73c\ubbc0\ub85c join \uba54\uc11c\ub4dc\ub97c \uc0ac\uc6a9\ud558\uc2dc\uc624(\uae30\ubcf8\uc635\uc158\uc73c\ub85c)"
     ]
    },
    {
     "cell_type": "markdown",
     "metadata": {},
     "source": [
      "  | squares |\n",
      "----- | ------ \n",
      "a  | 1\n",
      "b  | 4\n",
      "c  | 9\n",
      "d  | 16\n",
      "y  | 25"
     ]
    },
    {
     "cell_type": "code",
     "collapsed": false,
     "input": [
      "# input yuour code"
     ],
     "language": "python",
     "metadata": {},
     "outputs": []
    },
    {
     "cell_type": "heading",
     "level": 5,
     "metadata": {},
     "source": [
      "k) j\uc640 \ub3d9\uc77c\ud558\ub098 join \uba54\uc11c\ub4dc\uc758 \uc635\uc158\uc744 'outer'\ub85c \ubc14\uafd4\uc11c \uc218\ud589\ud574\ubcf4\uc2dc\uc624."
     ]
    },
    {
     "cell_type": "code",
     "collapsed": false,
     "input": [
      "# input yuour code"
     ],
     "language": "python",
     "metadata": {},
     "outputs": []
    },
    {
     "cell_type": "heading",
     "level": 5,
     "metadata": {},
     "source": [
      "l) \uc704\uc758 \uacb0\uacfc\ub85c \ub098\uc628 \uc790\ub8cc\uc5d0\uc11c numbers \uce7c\ub7fc\uacfc squares \uce7c\ub7fc\uc5d0 \ub300\ud574, \uac01\uac01 \ud3c9\uade0\uc744 \uad6c\ud558\uc2dc\uc624. \ub2e4\uc74c\uacfc \uac19\uc740 \uacb0\uacfc\uac00 \ub098\uc640\uc57c \ud568. (mean \uba54\uc11c\ub4dc \uc0ac\uc6a9, column-wise \uacc4\uc0b0)"
     ]
    },
    {
     "cell_type": "code",
     "collapsed": false,
     "input": [
      "numbers 40\n",
      "squares 11"
     ],
     "language": "python",
     "metadata": {},
     "outputs": []
    },
    {
     "cell_type": "code",
     "collapsed": false,
     "input": [
      "# input yuour code"
     ],
     "language": "python",
     "metadata": {},
     "outputs": []
    },
    {
     "cell_type": "heading",
     "level": 5,
     "metadata": {},
     "source": [
      "m) numbers\uc640 squares \uce7c\ub7fc\uc5d0 \ub300\ud574, \uac01\uac01 \ud45c\uc900\ud3b8\ucc28\ub97c \uad6c\ud558\uc2dc\uc624 (std \uba54\uc11c\ub4dc \uc0ac\uc6a9, column-wise \uacc4\uc0b0)"
     ]
    },
    {
     "cell_type": "code",
     "collapsed": false,
     "input": [
      "# input yuour code"
     ],
     "language": "python",
     "metadata": {},
     "outputs": []
    },
    {
     "cell_type": "heading",
     "level": 4,
     "metadata": {},
     "source": [
      "(pandas \uae30\ubcf8) \ubb38\uc81c 2. DataFrame \ub2e4\ub8e8\uae30 (2)"
     ]
    },
    {
     "cell_type": "heading",
     "level": 5,
     "metadata": {},
     "source": [
      "a) \ud45c\uc900\uc815\uaddc\ubd84\ud3ec\ub97c \ub530\ub974\ub294 9 X 4 \ud615\ud0dc\uc758 DataFrame\uc744 \uc0dd\uc131\ud558\uc2dc\uc624"
     ]
    },
    {
     "cell_type": "code",
     "collapsed": false,
     "input": [
      "# input yuour code"
     ],
     "language": "python",
     "metadata": {},
     "outputs": []
    },
    {
     "cell_type": "heading",
     "level": 5,
     "metadata": {},
     "source": [
      "b) a\uc5d0\uc11c \uc0dd\uc131\ud55c DataFrame\uc758 \uce7c\ub7fc \uc774\ub984\uc744 - No1, No2, No2, No4\ub85c \uc9c0\uc815\ud558\uc2dc\uc624"
     ]
    },
    {
     "cell_type": "code",
     "collapsed": false,
     "input": [
      "# input yuour code"
     ],
     "language": "python",
     "metadata": {},
     "outputs": []
    },
    {
     "cell_type": "heading",
     "level": 5,
     "metadata": {},
     "source": [
      "e) \uc704\uc5d0\uc11c \uc0dd\uc131\ub41c \uc790\ub8cc\uc5d0, \uc2dc\uac04 \uad00\ub828 \uc778\ub371\uc2f1\uc744 \ud558\uae30 \uc704\ud574\uc11c\ub294 DataTime \uc790\ub8cc\ud615\uc744 \uc0dd\uc131\ud574\uc11c \ub85c\uc6b0 \uc778\ub371\uc2a4\uc5d0 \ub123\uc5b4\uc8fc\ub294 \ubc29\ubc95\uc774 \uc788\ub2e4.  \uc544\ub798\ucf54\ub4dc\ub97c \uc2e4\ud589\ud558\uc2dc\uc624"
     ]
    },
    {
     "cell_type": "code",
     "collapsed": false,
     "input": [
      "# import pandas as pd \ub77c\ub294 \uac00\uc815\ud558\uc5d0.\n",
      "dates = pd.date_range(\u20182015-1-1\u2019, periods=9, freq=\u2018M\u2019)\n",
      "df.index = dates # a\uc640 b\ub97c \uac70\uccd0\uc11c \ub9cc\ub4e4\uc5b4\uc9c4 DataFrame \uc778\uc2a4\ud134\uc2a4\uc758 \ubcc0\uc218\uba85\uc774 df\ub77c\uace0 \uac00\uc815.\n",
      "df"
     ],
     "language": "python",
     "metadata": {},
     "outputs": []
    },
    {
     "cell_type": "code",
     "collapsed": false,
     "input": [
      "# input yuour code"
     ],
     "language": "python",
     "metadata": {},
     "outputs": []
    },
    {
     "cell_type": "heading",
     "level": 5,
     "metadata": {},
     "source": [
      "f) \uac01 \uceec\ub7fc\uc758 \ud3c9\uade0\uc744 \uad6c\ud558\uc2dc\uc624"
     ]
    },
    {
     "cell_type": "code",
     "collapsed": false,
     "input": [
      "# input yuour code"
     ],
     "language": "python",
     "metadata": {},
     "outputs": []
    },
    {
     "cell_type": "heading",
     "level": 5,
     "metadata": {},
     "source": [
      "f) 5\uc6d4\ubd80\ud130 7\uc6d4\uae4c\uc9c0\uc758, \uac01 \uceec\ub7fc\uc758 \ud3c9\uade0\uc744 \uad6c\ud558\uc2dc\uc624"
     ]
    },
    {
     "cell_type": "code",
     "collapsed": false,
     "input": [
      "# input yuour code"
     ],
     "language": "python",
     "metadata": {},
     "outputs": []
    },
    {
     "cell_type": "markdown",
     "metadata": {},
     "source": [
      "## \ucc38\uace0\uc790\ub8cc \n",
      "\n",
      " * [1] \ub370\uc774\ud130/\uc218\uce58 \ubd84\uc11d\uc744 \uc704\ud55c \ud30c\uc774\uc36c \ub77c\uc774\ube0c\ub7ec\ub9ac SciPy\uc640 NumPy - http://www.hanbit.co.kr/ebook/look.html?isbn=9788968486135"
     ]
    }
   ],
   "metadata": {}
  }
 ]
}